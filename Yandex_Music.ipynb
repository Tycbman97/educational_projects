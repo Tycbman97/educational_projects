{
 "cells": [
  {
   "cell_type": "markdown",
   "metadata": {
    "id": "E0vqbgi9ay0H"
   },
   "source": [
    "#  Исследование данных сервиса “Яндекс.Музыка”"
   ]
  },
  {
   "cell_type": "markdown",
   "metadata": {},
   "source": [
    "**Предоставленные данные** — данные о пользователях и их музыкальных предпочтениях из сервиса Яндекс.Музыка."
   ]
  },
  {
   "cell_type": "markdown",
   "metadata": {},
   "source": [
    "**Цель исследования** — проверьте три гипотезы:\n",
    "1. Активность пользователей зависит от дня недели. Причём в Москве и Петербурге это проявляется по-разному.\n",
    "2. В понедельник утром в Москве преобладают одни жанры, а в Петербурге — другие. Так же и вечером пятницы преобладают разные жанры — в зависимости от города. \n",
    "3. Москва и Петербург предпочитают разные жанры музыки. В Москве чаще слушают поп-музыку, в Петербурге — русский рэп."
   ]
  },
  {
   "cell_type": "markdown",
   "metadata": {
    "id": "VUC88oWjTJw2"
   },
   "source": [
    "**Ход исследования**\n",
    "\n",
    "1. Получение данных ( данные храняться в файле `yandex_music_project.csv`).\n",
    "2. Обзор данных.\n",
    "3. Предобработка данных.\n",
    "4. Проверка гипотез."
   ]
  },
  {
   "cell_type": "markdown",
   "metadata": {
    "id": "Ml1hmfXC_Zcs"
   },
   "source": [
    "## Обзор данных"
   ]
  },
  {
   "cell_type": "markdown",
   "metadata": {
    "id": "57eAOGIz_Zcs"
   },
   "source": [
    "Составим первое представление о данных Яндекс.Музыки.\n",
    "\n",
    "Основной инструмент аналитика — `pandas`. Импортируем эту библиотеку. Затем прочитаем файл и сохраним его в подходящую переменную."
   ]
  },
  {
   "cell_type": "code",
   "execution_count": 1,
   "metadata": {
    "id": "AXN7PHPN_Zcs"
   },
   "outputs": [],
   "source": [
    "# импорт библиотеки pandas\n",
    "import pandas as pd "
   ]
  },
  {
   "cell_type": "markdown",
   "metadata": {
    "id": "SG23P8tt_Zcs"
   },
   "source": [
    "Прочитаем файла `yandex_music_project.csv` из папки `/datasets` и сохраните его в переменной `df`:"
   ]
  },
  {
   "cell_type": "code",
   "execution_count": 2,
   "metadata": {
    "id": "fFVu7vqh_Zct"
   },
   "outputs": [],
   "source": [
    "# чтение файла с данными и сохранение в df\n",
    "yandex_music = pd.read_csv('/datasets/yandex_music_project.csv') "
   ]
  },
  {
   "cell_type": "markdown",
   "metadata": {
    "id": "rDoOMd3uTqnZ"
   },
   "source": [
    "Посмотрим на первые 10 строк полученных данных."
   ]
  },
  {
   "cell_type": "code",
   "execution_count": 3,
   "metadata": {
    "id": "oWTVX3gW_Zct"
   },
   "outputs": [
    {
     "data": {
      "text/html": [
       "<div>\n",
       "<style scoped>\n",
       "    .dataframe tbody tr th:only-of-type {\n",
       "        vertical-align: middle;\n",
       "    }\n",
       "\n",
       "    .dataframe tbody tr th {\n",
       "        vertical-align: top;\n",
       "    }\n",
       "\n",
       "    .dataframe thead th {\n",
       "        text-align: right;\n",
       "    }\n",
       "</style>\n",
       "<table border=\"1\" class=\"dataframe\">\n",
       "  <thead>\n",
       "    <tr style=\"text-align: right;\">\n",
       "      <th></th>\n",
       "      <th>userID</th>\n",
       "      <th>Track</th>\n",
       "      <th>artist</th>\n",
       "      <th>genre</th>\n",
       "      <th>City</th>\n",
       "      <th>time</th>\n",
       "      <th>Day</th>\n",
       "    </tr>\n",
       "  </thead>\n",
       "  <tbody>\n",
       "    <tr>\n",
       "      <th>0</th>\n",
       "      <td>FFB692EC</td>\n",
       "      <td>Kamigata To Boots</td>\n",
       "      <td>The Mass Missile</td>\n",
       "      <td>rock</td>\n",
       "      <td>Saint-Petersburg</td>\n",
       "      <td>20:28:33</td>\n",
       "      <td>Wednesday</td>\n",
       "    </tr>\n",
       "    <tr>\n",
       "      <th>1</th>\n",
       "      <td>55204538</td>\n",
       "      <td>Delayed Because of Accident</td>\n",
       "      <td>Andreas Rönnberg</td>\n",
       "      <td>rock</td>\n",
       "      <td>Moscow</td>\n",
       "      <td>14:07:09</td>\n",
       "      <td>Friday</td>\n",
       "    </tr>\n",
       "    <tr>\n",
       "      <th>2</th>\n",
       "      <td>20EC38</td>\n",
       "      <td>Funiculì funiculà</td>\n",
       "      <td>Mario Lanza</td>\n",
       "      <td>pop</td>\n",
       "      <td>Saint-Petersburg</td>\n",
       "      <td>20:58:07</td>\n",
       "      <td>Wednesday</td>\n",
       "    </tr>\n",
       "    <tr>\n",
       "      <th>3</th>\n",
       "      <td>A3DD03C9</td>\n",
       "      <td>Dragons in the Sunset</td>\n",
       "      <td>Fire + Ice</td>\n",
       "      <td>folk</td>\n",
       "      <td>Saint-Petersburg</td>\n",
       "      <td>08:37:09</td>\n",
       "      <td>Monday</td>\n",
       "    </tr>\n",
       "    <tr>\n",
       "      <th>4</th>\n",
       "      <td>E2DC1FAE</td>\n",
       "      <td>Soul People</td>\n",
       "      <td>Space Echo</td>\n",
       "      <td>dance</td>\n",
       "      <td>Moscow</td>\n",
       "      <td>08:34:34</td>\n",
       "      <td>Monday</td>\n",
       "    </tr>\n",
       "    <tr>\n",
       "      <th>5</th>\n",
       "      <td>842029A1</td>\n",
       "      <td>Преданная</td>\n",
       "      <td>IMPERVTOR</td>\n",
       "      <td>rusrap</td>\n",
       "      <td>Saint-Petersburg</td>\n",
       "      <td>13:09:41</td>\n",
       "      <td>Friday</td>\n",
       "    </tr>\n",
       "    <tr>\n",
       "      <th>6</th>\n",
       "      <td>4CB90AA5</td>\n",
       "      <td>True</td>\n",
       "      <td>Roman Messer</td>\n",
       "      <td>dance</td>\n",
       "      <td>Moscow</td>\n",
       "      <td>13:00:07</td>\n",
       "      <td>Wednesday</td>\n",
       "    </tr>\n",
       "    <tr>\n",
       "      <th>7</th>\n",
       "      <td>F03E1C1F</td>\n",
       "      <td>Feeling This Way</td>\n",
       "      <td>Polina Griffith</td>\n",
       "      <td>dance</td>\n",
       "      <td>Moscow</td>\n",
       "      <td>20:47:49</td>\n",
       "      <td>Wednesday</td>\n",
       "    </tr>\n",
       "    <tr>\n",
       "      <th>8</th>\n",
       "      <td>8FA1D3BE</td>\n",
       "      <td>И вновь продолжается бой</td>\n",
       "      <td>NaN</td>\n",
       "      <td>ruspop</td>\n",
       "      <td>Moscow</td>\n",
       "      <td>09:17:40</td>\n",
       "      <td>Friday</td>\n",
       "    </tr>\n",
       "    <tr>\n",
       "      <th>9</th>\n",
       "      <td>E772D5C0</td>\n",
       "      <td>Pessimist</td>\n",
       "      <td>NaN</td>\n",
       "      <td>dance</td>\n",
       "      <td>Saint-Petersburg</td>\n",
       "      <td>21:20:49</td>\n",
       "      <td>Wednesday</td>\n",
       "    </tr>\n",
       "  </tbody>\n",
       "</table>\n",
       "</div>"
      ],
      "text/plain": [
       "     userID                        Track            artist   genre  \\\n",
       "0  FFB692EC            Kamigata To Boots  The Mass Missile    rock   \n",
       "1  55204538  Delayed Because of Accident  Andreas Rönnberg    rock   \n",
       "2    20EC38            Funiculì funiculà       Mario Lanza     pop   \n",
       "3  A3DD03C9        Dragons in the Sunset        Fire + Ice    folk   \n",
       "4  E2DC1FAE                  Soul People        Space Echo   dance   \n",
       "5  842029A1                    Преданная         IMPERVTOR  rusrap   \n",
       "6  4CB90AA5                         True      Roman Messer   dance   \n",
       "7  F03E1C1F             Feeling This Way   Polina Griffith   dance   \n",
       "8  8FA1D3BE     И вновь продолжается бой               NaN  ruspop   \n",
       "9  E772D5C0                    Pessimist               NaN   dance   \n",
       "\n",
       "             City        time        Day  \n",
       "0  Saint-Petersburg  20:28:33  Wednesday  \n",
       "1            Moscow  14:07:09     Friday  \n",
       "2  Saint-Petersburg  20:58:07  Wednesday  \n",
       "3  Saint-Petersburg  08:37:09     Monday  \n",
       "4            Moscow  08:34:34     Monday  \n",
       "5  Saint-Petersburg  13:09:41     Friday  \n",
       "6            Moscow  13:00:07  Wednesday  \n",
       "7            Moscow  20:47:49  Wednesday  \n",
       "8            Moscow  09:17:40     Friday  \n",
       "9  Saint-Petersburg  21:20:49  Wednesday  "
      ]
     },
     "execution_count": 3,
     "metadata": {},
     "output_type": "execute_result"
    }
   ],
   "source": [
    "# получение первых 10 строк таблицы df\n",
    "yandex_music.head(10)"
   ]
  },
  {
   "cell_type": "markdown",
   "metadata": {
    "id": "EO73Kwic_Zct"
   },
   "source": [
    "Одной командой получим общую информацию о таблице:"
   ]
  },
  {
   "cell_type": "code",
   "execution_count": 4,
   "metadata": {
    "id": "DSf2kIb-_Zct"
   },
   "outputs": [
    {
     "data": {
      "text/plain": [
       "<bound method DataFrame.info of          userID                              Track            artist  \\\n",
       "0      FFB692EC                  Kamigata To Boots  The Mass Missile   \n",
       "1      55204538        Delayed Because of Accident  Andreas Rönnberg   \n",
       "2        20EC38                  Funiculì funiculà       Mario Lanza   \n",
       "3      A3DD03C9              Dragons in the Sunset        Fire + Ice   \n",
       "4      E2DC1FAE                        Soul People        Space Echo   \n",
       "...         ...                                ...               ...   \n",
       "65074  729CBB09                            My Name            McLean   \n",
       "65075  D08D4A55  Maybe One Day (feat. Black Spade)       Blu & Exile   \n",
       "65076  C5E3A0D5                          Jalopiina               NaN   \n",
       "65077  321D0506                      Freight Train     Chas McDevitt   \n",
       "65078  3A64EF84          Tell Me Sweet Little Lies      Monica Lopez   \n",
       "\n",
       "            genre            City        time        Day  \n",
       "0            rock  Saint-Petersburg  20:28:33  Wednesday  \n",
       "1            rock            Moscow  14:07:09     Friday  \n",
       "2             pop  Saint-Petersburg  20:58:07  Wednesday  \n",
       "3            folk  Saint-Petersburg  08:37:09     Monday  \n",
       "4           dance            Moscow  08:34:34     Monday  \n",
       "...           ...               ...       ...        ...  \n",
       "65074         rnb            Moscow  13:32:28  Wednesday  \n",
       "65075         hip  Saint-Petersburg  10:00:00     Monday  \n",
       "65076  industrial            Moscow  20:09:26     Friday  \n",
       "65077        rock            Moscow  21:43:59     Friday  \n",
       "65078     country            Moscow  21:59:46     Friday  \n",
       "\n",
       "[65079 rows x 7 columns]>"
      ]
     },
     "execution_count": 4,
     "metadata": {},
     "output_type": "execute_result"
    }
   ],
   "source": [
    "# получение общей информации о данных в таблице df\n",
    "yandex_music.info "
   ]
  },
  {
   "cell_type": "markdown",
   "metadata": {
    "id": "TaQ2Iwbr_Zct"
   },
   "source": [
    "**Первые выводы о предоставленных данных**\n",
    "\n",
    "Итак, в таблице семь столбцов. Тип данных во всех столбцах — `object`.\n",
    "\n",
    "Согласно документации к данным:\n",
    "* `userID` — идентификатор пользователя;\n",
    "* `Track` — название трека;  \n",
    "* `artist` — имя исполнителя;\n",
    "* `genre` — название жанра;\n",
    "* `City` — город пользователя;\n",
    "* `time` — время начала прослушивания;\n",
    "* `Day` — день недели.\n",
    "\n",
    "В названиях колонок видны три нарушения стиля:\n",
    "1. Строчные буквы сочетаются с прописными.\n",
    "2. Встречаются пробелы.\n",
    "3. Название колонок должны быть в змеином регистре.\n",
    "\n",
    "\n",
    "\n",
    "Количество значений в столбцах различается. Значит, в данных есть пропущенные значения.\n"
   ]
  },
  {
   "cell_type": "markdown",
   "metadata": {
    "id": "MCB6-dXG_Zct"
   },
   "source": [
    "**Выводы**\n",
    "\n",
    "В каждой строке таблицы — данные о прослушанном треке. Часть колонок описывает саму композицию: название, исполнителя и жанр. Остальные данные рассказывают о пользователе: из какого он города, когда он слушал музыку. \n",
    "\n",
    "Предварительно можно утверждать, что, данных достаточно для проверки гипотез. Но встречаются пропуски в данных, а в названиях колонок — расхождения с хорошим стилем.\n",
    "\n",
    "Чтобы двигаться дальше, нужно устранить проблемы в данных."
   ]
  },
  {
   "cell_type": "markdown",
   "metadata": {
    "id": "SjYF6Ub9_Zct"
   },
   "source": [
    "## Предобработка данных\n",
    "\n",
    "1. Исправим стиль в заголовках столбцов.\n",
    "2. Исключим пропуски. \n",
    "3. Проверим данные на дубликаты."
   ]
  },
  {
   "cell_type": "markdown",
   "metadata": {
    "id": "dIaKXr29_Zct"
   },
   "source": [
    "### Стиль заголовков"
   ]
  },
  {
   "cell_type": "markdown",
   "metadata": {},
   "source": [
    "Выведем на экран названия колонок в наших данных `yandex_music`."
   ]
  },
  {
   "cell_type": "code",
   "execution_count": 5,
   "metadata": {
    "id": "oKOTdF_Q_Zct"
   },
   "outputs": [
    {
     "data": {
      "text/plain": [
       "Index(['  userID', 'Track', 'artist', 'genre', '  City  ', 'time', 'Day'], dtype='object')"
      ]
     },
     "execution_count": 5,
     "metadata": {},
     "output_type": "execute_result"
    }
   ],
   "source": [
    "# перечень названий столбцов таблицы df \n",
    "yandex_music.columns"
   ]
  },
  {
   "cell_type": "markdown",
   "metadata": {
    "id": "zj5534cv_Zct"
   },
   "source": [
    "Приведем названия в соответствие с хорошим стилем:\n",
    "* несколько слов в названии запишем в «змеином_регистре»,\n",
    "* все символы сделаем строчными,\n",
    "* устраним пробелы.\n",
    "\n",
    "Для этого переименуем колонки так:\n",
    "* `'  userID'` → `'user_id'`;\n",
    "* `'Track'` → `'track'`;\n",
    "* `'  City  '` → `'city'`;\n",
    "* `'Day'` → `'day'`."
   ]
  },
  {
   "cell_type": "code",
   "execution_count": 6,
   "metadata": {
    "id": "ISlFqs5y_Zct"
   },
   "outputs": [],
   "source": [
    "# переименование столбцов\n",
    "yandex_music = yandex_music.rename(columns = {'  userID':'user_id', 'Track':'track', '  City  ':'city', 'Day':'day'}) "
   ]
  },
  {
   "cell_type": "code",
   "execution_count": 7,
   "metadata": {
    "id": "d4NOAmTW_Zct"
   },
   "outputs": [
    {
     "data": {
      "text/plain": [
       "Index(['user_id', 'track', 'artist', 'genre', 'city', 'time', 'day'], dtype='object')"
      ]
     },
     "execution_count": 7,
     "metadata": {},
     "output_type": "execute_result"
    }
   ],
   "source": [
    "# проверка результатов - перечень названий столбцов\n",
    "yandex_music.columns"
   ]
  },
  {
   "cell_type": "markdown",
   "metadata": {
    "id": "5ISfbcfY_Zct"
   },
   "source": [
    "### Пропуски значений\n",
    "Сначала посчитаем, сколько в таблице пропущенных значений. Для этого достаточно двух методов `pandas`:"
   ]
  },
  {
   "cell_type": "code",
   "execution_count": 8,
   "metadata": {
    "id": "RskX29qr_Zct",
    "scrolled": true
   },
   "outputs": [
    {
     "data": {
      "text/plain": [
       "user_id       0\n",
       "track      1231\n",
       "artist     7203\n",
       "genre      1198\n",
       "city          0\n",
       "time          0\n",
       "day           0\n",
       "dtype: int64"
      ]
     },
     "execution_count": 8,
     "metadata": {},
     "output_type": "execute_result"
    }
   ],
   "source": [
    "# подсчёт пропусков\n",
    "yandex_music.isna().sum() "
   ]
  },
  {
   "cell_type": "markdown",
   "metadata": {
    "id": "qubhgnlO_Zct"
   },
   "source": [
    "**Ход действий с пропусками**\n",
    "\n",
    "Не все пропущенные значения влияют на исследование. Так в `track` и `artist` пропуски не важны для вашей работы. Достаточно заменить их явными обозначениями.\n",
    "\n",
    "Но пропуски в `genre` могут помешать сравнению музыкальных вкусов в Москве и Санкт-Петербурге. На практике было бы правильно установить причину пропусков и восстановить данные. Такой возможности нет в учебном проекте. Придётся:\n",
    "* заполнить и эти пропуски явными обозначениями,\n",
    "* оценить, насколько они повредят расчётам. "
   ]
  },
  {
   "cell_type": "markdown",
   "metadata": {
    "id": "fSv2laPA_Zct"
   },
   "source": [
    "Заменим пропущенные значения в столбцах `track`, `artist` и `genre` на строку `'unknown'`. "
   ]
  },
  {
   "cell_type": "code",
   "execution_count": 9,
   "metadata": {
    "id": "KplB5qWs_Zct"
   },
   "outputs": [],
   "source": [
    "# перебор названий столбцов в цикле и замена пропущенных значений на 'unknown'\n",
    "columns_to_replace = ['track', 'artist', 'genre']\n",
    "\n",
    "for column in columns_to_replace:\n",
    "    yandex_music[column] = yandex_music[column].fillna('unknown')"
   ]
  },
  {
   "cell_type": "markdown",
   "metadata": {
    "id": "Ilsm-MZo_Zct"
   },
   "source": [
    "Убедимся, что в таблице не осталось пропусков."
   ]
  },
  {
   "cell_type": "code",
   "execution_count": 10,
   "metadata": {
    "id": "Tq4nYRX4_Zct"
   },
   "outputs": [
    {
     "data": {
      "text/plain": [
       "user_id    0\n",
       "track      0\n",
       "artist     0\n",
       "genre      0\n",
       "city       0\n",
       "time       0\n",
       "day        0\n",
       "dtype: int64"
      ]
     },
     "execution_count": 10,
     "metadata": {},
     "output_type": "execute_result"
    }
   ],
   "source": [
    "# подсчёт пропусков\n",
    "yandex_music.isna().sum()"
   ]
  },
  {
   "cell_type": "markdown",
   "metadata": {
    "id": "BWKRtBJ3_Zct"
   },
   "source": [
    "### Дубликаты\n",
    "Посчитаем явные дубликаты в таблице одной командой:"
   ]
  },
  {
   "cell_type": "code",
   "execution_count": 11,
   "metadata": {
    "id": "36eES_S0_Zct"
   },
   "outputs": [
    {
     "data": {
      "text/plain": [
       "3826"
      ]
     },
     "execution_count": 11,
     "metadata": {},
     "output_type": "execute_result"
    }
   ],
   "source": [
    "# подсчёт явных дубликатов\n",
    "yandex_music.duplicated().sum() "
   ]
  },
  {
   "cell_type": "markdown",
   "metadata": {
    "id": "Ot25h6XR_Zct"
   },
   "source": [
    "Удалим явные дубликаты."
   ]
  },
  {
   "cell_type": "code",
   "execution_count": 12,
   "metadata": {
    "id": "exFHq6tt_Zct"
   },
   "outputs": [],
   "source": [
    "# удаление явных дубликатов (с удалением старых индексов и формированием новых)\n",
    "yandex_music = yandex_music.drop_duplicates().reset_index(drop=True)"
   ]
  },
  {
   "cell_type": "markdown",
   "metadata": {
    "id": "Im2YwBEG_Zct"
   },
   "source": [
    "Ещё раз посчитаем явные дубликаты в таблице — убедимся, что полностью от них избавились:"
   ]
  },
  {
   "cell_type": "code",
   "execution_count": 13,
   "metadata": {
    "id": "-8PuNWQ0_Zct"
   },
   "outputs": [
    {
     "data": {
      "text/plain": [
       "0"
      ]
     },
     "execution_count": 13,
     "metadata": {},
     "output_type": "execute_result"
    }
   ],
   "source": [
    "# проверка на отсутствие дубликатов\n",
    "yandex_music.duplicated().sum() "
   ]
  },
  {
   "cell_type": "markdown",
   "metadata": {
    "id": "QlFBsxAr_Zct"
   },
   "source": [
    "Теперь избавимся от неявных дубликатов в колонке `genre`. Например, название одного и того же жанра может быть записано немного по-разному. Такие ошибки тоже повлияют на результат исследования.\n",
    "\n",
    "Изучим список уникальных названий жанров, отсортированный в алфавитном порядке."
   ]
  },
  {
   "cell_type": "code",
   "execution_count": 14,
   "metadata": {
    "id": "JIUcqzZN_Zct"
   },
   "outputs": [
    {
     "data": {
      "text/plain": [
       "array(['acid', 'acoustic', 'action', 'adult', 'africa', 'afrikaans',\n",
       "       'alternative', 'alternativepunk', 'ambient', 'americana',\n",
       "       'animated', 'anime', 'arabesk', 'arabic', 'arena',\n",
       "       'argentinetango', 'art', 'audiobook', 'author', 'avantgarde',\n",
       "       'axé', 'baile', 'balkan', 'beats', 'bigroom', 'black', 'bluegrass',\n",
       "       'blues', 'bollywood', 'bossa', 'brazilian', 'breakbeat', 'breaks',\n",
       "       'broadway', 'cantautori', 'cantopop', 'canzone', 'caribbean',\n",
       "       'caucasian', 'celtic', 'chamber', 'chanson', 'children', 'chill',\n",
       "       'chinese', 'choral', 'christian', 'christmas', 'classical',\n",
       "       'classicmetal', 'club', 'colombian', 'comedy', 'conjazz',\n",
       "       'contemporary', 'country', 'cuban', 'dance', 'dancehall',\n",
       "       'dancepop', 'dark', 'death', 'deep', 'deutschrock', 'deutschspr',\n",
       "       'dirty', 'disco', 'dnb', 'documentary', 'downbeat', 'downtempo',\n",
       "       'drum', 'dub', 'dubstep', 'eastern', 'easy', 'electronic',\n",
       "       'electropop', 'emo', 'entehno', 'epicmetal', 'estrada', 'ethnic',\n",
       "       'eurofolk', 'european', 'experimental', 'extrememetal', 'fado',\n",
       "       'fairytail', 'film', 'fitness', 'flamenco', 'folk', 'folklore',\n",
       "       'folkmetal', 'folkrock', 'folktronica', 'forró', 'frankreich',\n",
       "       'französisch', 'french', 'funk', 'future', 'gangsta', 'garage',\n",
       "       'german', 'ghazal', 'gitarre', 'glitch', 'gospel', 'gothic',\n",
       "       'grime', 'grunge', 'gypsy', 'handsup', \"hard'n'heavy\", 'hardcore',\n",
       "       'hardstyle', 'hardtechno', 'hip', 'hip-hop', 'hiphop',\n",
       "       'historisch', 'holiday', 'hop', 'horror', 'house', 'hymn', 'idm',\n",
       "       'independent', 'indian', 'indie', 'indipop', 'industrial',\n",
       "       'inspirational', 'instrumental', 'international', 'irish', 'jam',\n",
       "       'japanese', 'jazz', 'jewish', 'jpop', 'jungle', 'k-pop',\n",
       "       'karadeniz', 'karaoke', 'kayokyoku', 'korean', 'laiko', 'latin',\n",
       "       'latino', 'leftfield', 'local', 'lounge', 'loungeelectronic',\n",
       "       'lovers', 'malaysian', 'mandopop', 'marschmusik', 'meditative',\n",
       "       'mediterranean', 'melodic', 'metal', 'metalcore', 'mexican',\n",
       "       'middle', 'minimal', 'miscellaneous', 'modern', 'mood', 'mpb',\n",
       "       'muslim', 'native', 'neoklassik', 'neue', 'new', 'newage',\n",
       "       'newwave', 'nu', 'nujazz', 'numetal', 'oceania', 'old', 'opera',\n",
       "       'orchestral', 'other', 'piano', 'podcasts', 'pop', 'popdance',\n",
       "       'popelectronic', 'popeurodance', 'poprussian', 'post',\n",
       "       'posthardcore', 'postrock', 'power', 'progmetal', 'progressive',\n",
       "       'psychedelic', 'punjabi', 'punk', 'quebecois', 'ragga', 'ram',\n",
       "       'rancheras', 'rap', 'rave', 'reggae', 'reggaeton', 'regional',\n",
       "       'relax', 'religious', 'retro', 'rhythm', 'rnb', 'rnr', 'rock',\n",
       "       'rockabilly', 'rockalternative', 'rockindie', 'rockother',\n",
       "       'romance', 'roots', 'ruspop', 'rusrap', 'rusrock', 'russian',\n",
       "       'salsa', 'samba', 'scenic', 'schlager', 'self', 'sertanejo',\n",
       "       'shanson', 'shoegazing', 'showtunes', 'singer', 'ska', 'skarock',\n",
       "       'slow', 'smooth', 'soft', 'soul', 'soulful', 'sound', 'soundtrack',\n",
       "       'southern', 'specialty', 'speech', 'spiritual', 'sport',\n",
       "       'stonerrock', 'surf', 'swing', 'synthpop', 'synthrock',\n",
       "       'sängerportrait', 'tango', 'tanzorchester', 'taraftar', 'tatar',\n",
       "       'tech', 'techno', 'teen', 'thrash', 'top', 'traditional',\n",
       "       'tradjazz', 'trance', 'tribal', 'trip', 'triphop', 'tropical',\n",
       "       'türk', 'türkçe', 'ukrrock', 'unknown', 'urban', 'uzbek',\n",
       "       'variété', 'vi', 'videogame', 'vocal', 'western', 'world',\n",
       "       'worldbeat', 'ïîï', 'электроника'], dtype=object)"
      ]
     },
     "execution_count": 14,
     "metadata": {},
     "output_type": "execute_result"
    }
   ],
   "source": [
    "# Просмотр уникальных названий жанров\n",
    "yandex_music['genre'].sort_values().unique()"
   ]
  },
  {
   "cell_type": "markdown",
   "metadata": {
    "id": "qej-Qmuo_Zct"
   },
   "source": [
    "Изучая список, мы нашли неявные дубликаты названия `hiphop`(названия с ошибками или альтернативные названия того же жанра)\n",
    "\n",
    "Неявные дубликаты:\n",
    "* *hip*,\n",
    "* *hop*,\n",
    "* *hip-hop*.\n"
   ]
  },
  {
   "cell_type": "markdown",
   "metadata": {},
   "source": [
    "Создадим функцию и исправим эту погрешность."
   ]
  },
  {
   "cell_type": "code",
   "execution_count": 15,
   "metadata": {
    "id": "ErNDkmns_Zct"
   },
   "outputs": [],
   "source": [
    "# Функция для замены неявных дубликатов\n",
    "def replace_wrong_genres(wrong_genres, correct_genre):\n",
    "    for wrong_genre in wrong_genres:\n",
    "        yandex_music['genre'] = yandex_music['genre'].replace(wrong_genre, correct_genre)\n",
    "        "
   ]
  },
  {
   "cell_type": "code",
   "execution_count": 16,
   "metadata": {
    "id": "YN5i2hpmSo09"
   },
   "outputs": [],
   "source": [
    "# Устранение неявных дубликатов\n",
    "duplicates = ['hip', 'hop', 'hip-hop']\n",
    "genre = 'hiphop'\n",
    "\n",
    "replace_wrong_genres(duplicates, genre) "
   ]
  },
  {
   "cell_type": "markdown",
   "metadata": {
    "id": "zQKF16_RG15m"
   },
   "source": [
    "Проверьте, что заменили неправильные названия:\n",
    "\n",
    "*   hip\n",
    "*   hop\n",
    "*   hip-hop\n",
    "\n",
    "Выведим отсортированный список уникальных значений столбца `genre`:"
   ]
  },
  {
   "cell_type": "code",
   "execution_count": 17,
   "metadata": {
    "id": "wvixALnFG15m"
   },
   "outputs": [
    {
     "data": {
      "text/plain": [
       "array(['acid', 'acoustic', 'action', 'adult', 'africa', 'afrikaans',\n",
       "       'alternative', 'alternativepunk', 'ambient', 'americana',\n",
       "       'animated', 'anime', 'arabesk', 'arabic', 'arena',\n",
       "       'argentinetango', 'art', 'audiobook', 'author', 'avantgarde',\n",
       "       'axé', 'baile', 'balkan', 'beats', 'bigroom', 'black', 'bluegrass',\n",
       "       'blues', 'bollywood', 'bossa', 'brazilian', 'breakbeat', 'breaks',\n",
       "       'broadway', 'cantautori', 'cantopop', 'canzone', 'caribbean',\n",
       "       'caucasian', 'celtic', 'chamber', 'chanson', 'children', 'chill',\n",
       "       'chinese', 'choral', 'christian', 'christmas', 'classical',\n",
       "       'classicmetal', 'club', 'colombian', 'comedy', 'conjazz',\n",
       "       'contemporary', 'country', 'cuban', 'dance', 'dancehall',\n",
       "       'dancepop', 'dark', 'death', 'deep', 'deutschrock', 'deutschspr',\n",
       "       'dirty', 'disco', 'dnb', 'documentary', 'downbeat', 'downtempo',\n",
       "       'drum', 'dub', 'dubstep', 'eastern', 'easy', 'electronic',\n",
       "       'electropop', 'emo', 'entehno', 'epicmetal', 'estrada', 'ethnic',\n",
       "       'eurofolk', 'european', 'experimental', 'extrememetal', 'fado',\n",
       "       'fairytail', 'film', 'fitness', 'flamenco', 'folk', 'folklore',\n",
       "       'folkmetal', 'folkrock', 'folktronica', 'forró', 'frankreich',\n",
       "       'französisch', 'french', 'funk', 'future', 'gangsta', 'garage',\n",
       "       'german', 'ghazal', 'gitarre', 'glitch', 'gospel', 'gothic',\n",
       "       'grime', 'grunge', 'gypsy', 'handsup', \"hard'n'heavy\", 'hardcore',\n",
       "       'hardstyle', 'hardtechno', 'hiphop', 'historisch', 'holiday',\n",
       "       'horror', 'house', 'hymn', 'idm', 'independent', 'indian', 'indie',\n",
       "       'indipop', 'industrial', 'inspirational', 'instrumental',\n",
       "       'international', 'irish', 'jam', 'japanese', 'jazz', 'jewish',\n",
       "       'jpop', 'jungle', 'k-pop', 'karadeniz', 'karaoke', 'kayokyoku',\n",
       "       'korean', 'laiko', 'latin', 'latino', 'leftfield', 'local',\n",
       "       'lounge', 'loungeelectronic', 'lovers', 'malaysian', 'mandopop',\n",
       "       'marschmusik', 'meditative', 'mediterranean', 'melodic', 'metal',\n",
       "       'metalcore', 'mexican', 'middle', 'minimal', 'miscellaneous',\n",
       "       'modern', 'mood', 'mpb', 'muslim', 'native', 'neoklassik', 'neue',\n",
       "       'new', 'newage', 'newwave', 'nu', 'nujazz', 'numetal', 'oceania',\n",
       "       'old', 'opera', 'orchestral', 'other', 'piano', 'podcasts', 'pop',\n",
       "       'popdance', 'popelectronic', 'popeurodance', 'poprussian', 'post',\n",
       "       'posthardcore', 'postrock', 'power', 'progmetal', 'progressive',\n",
       "       'psychedelic', 'punjabi', 'punk', 'quebecois', 'ragga', 'ram',\n",
       "       'rancheras', 'rap', 'rave', 'reggae', 'reggaeton', 'regional',\n",
       "       'relax', 'religious', 'retro', 'rhythm', 'rnb', 'rnr', 'rock',\n",
       "       'rockabilly', 'rockalternative', 'rockindie', 'rockother',\n",
       "       'romance', 'roots', 'ruspop', 'rusrap', 'rusrock', 'russian',\n",
       "       'salsa', 'samba', 'scenic', 'schlager', 'self', 'sertanejo',\n",
       "       'shanson', 'shoegazing', 'showtunes', 'singer', 'ska', 'skarock',\n",
       "       'slow', 'smooth', 'soft', 'soul', 'soulful', 'sound', 'soundtrack',\n",
       "       'southern', 'specialty', 'speech', 'spiritual', 'sport',\n",
       "       'stonerrock', 'surf', 'swing', 'synthpop', 'synthrock',\n",
       "       'sängerportrait', 'tango', 'tanzorchester', 'taraftar', 'tatar',\n",
       "       'tech', 'techno', 'teen', 'thrash', 'top', 'traditional',\n",
       "       'tradjazz', 'trance', 'tribal', 'trip', 'triphop', 'tropical',\n",
       "       'türk', 'türkçe', 'ukrrock', 'unknown', 'urban', 'uzbek',\n",
       "       'variété', 'vi', 'videogame', 'vocal', 'western', 'world',\n",
       "       'worldbeat', 'ïîï', 'электроника'], dtype=object)"
      ]
     },
     "execution_count": 17,
     "metadata": {},
     "output_type": "execute_result"
    }
   ],
   "source": [
    "# Проверка на неявные дубликаты\n",
    "yandex_music['genre'].sort_values().unique()"
   ]
  },
  {
   "cell_type": "markdown",
   "metadata": {
    "id": "jz6a9-7HQUDd"
   },
   "source": [
    "**Выводы**\n",
    "\n",
    "Предобработка обнаружила три проблемы в данных:\n",
    "\n",
    "- нарушения в стиле заголовков,\n",
    "- пропущенные значения,\n",
    "- дубликаты — явные и неявные.\n",
    "\n",
    "Исправили заголовки, чтобы упростить работу с таблицей. Без дубликатов исследование станет более точным.\n",
    "\n",
    "Пропущенные значения заменили на `'unknown'`. Ещё предстоит увидеть, не повредят ли исследованию пропуски в колонке `genre`.\n",
    "\n",
    "Теперь можно перейти к проверке гипотез. "
   ]
  },
  {
   "cell_type": "markdown",
   "metadata": {
    "id": "WttZHXH0SqKk"
   },
   "source": [
    "## Проверка гипотез"
   ]
  },
  {
   "cell_type": "markdown",
   "metadata": {
    "id": "Im936VVi_Zcu"
   },
   "source": [
    "### Сравнение поведения пользователей двух столиц"
   ]
  },
  {
   "cell_type": "markdown",
   "metadata": {
    "id": "nwt_MuaL_Zcu"
   },
   "source": [
    "Первая гипотеза утверждает, что пользователи по-разному слушают музыку в Москве и Санкт-Петербурге. Проверим это предположение по данным о трёх днях недели — понедельнике, среде и пятнице. Для этого:\n",
    "\n",
    "* Разделим пользователей Москвы и Санкт-Петербурга\n",
    "* Сравним, сколько треков послушала каждая группа пользователей в понедельник, среду и пятницу.\n"
   ]
  },
  {
   "cell_type": "markdown",
   "metadata": {
    "id": "8Dw_YMmT_Zcu"
   },
   "source": [
    "Оценим активность пользователей в каждом городе. Сгруппируем данные по городу и посчитаем прослушивания в каждой группе."
   ]
  },
  {
   "cell_type": "code",
   "execution_count": 18,
   "metadata": {
    "id": "0_Qs96oh_Zcu",
    "scrolled": false
   },
   "outputs": [
    {
     "data": {
      "text/plain": [
       "city\n",
       "Moscow              42741\n",
       "Saint-Petersburg    18512\n",
       "Name: track, dtype: int64"
      ]
     },
     "execution_count": 18,
     "metadata": {},
     "output_type": "execute_result"
    }
   ],
   "source": [
    "# Подсчёт прослушиваний в каждом городе\n",
    "yandex_music.groupby('city')['track'].count() "
   ]
  },
  {
   "cell_type": "markdown",
   "metadata": {
    "id": "dzli3w8o_Zcu"
   },
   "source": [
    "В Москве прослушиваний больше, чем в Петербурге. Из этого не следует, что московские пользователи чаще слушают музыку. Просто самих пользователей в Москве больше.\n",
    "\n",
    "Теперь сгруппируем данные по дню недели и подсчитайте прослушивания в понедельник, среду и пятницу. Учтем, что в данных есть информация только о прослушиваниях только за эти дни."
   ]
  },
  {
   "cell_type": "code",
   "execution_count": 19,
   "metadata": {
    "id": "uZMKjiJz_Zcu"
   },
   "outputs": [
    {
     "data": {
      "text/plain": [
       "day\n",
       "Friday       21840\n",
       "Monday       21354\n",
       "Wednesday    18059\n",
       "Name: track, dtype: int64"
      ]
     },
     "execution_count": 19,
     "metadata": {},
     "output_type": "execute_result"
    }
   ],
   "source": [
    "# Подсчёт прослушиваний в каждый из трёх дней\n",
    "yandex_music.groupby('day')['track'].count()"
   ]
  },
  {
   "cell_type": "markdown",
   "metadata": {
    "id": "cC2tNrlL_Zcu"
   },
   "source": [
    "В среднем пользователи из двух городов менее активны по средам. Но картина может измениться, если рассмотреть каждый город в отдельности."
   ]
  },
  {
   "cell_type": "code",
   "execution_count": 20,
   "metadata": {
    "id": "Nz3GdQB1_Zcu"
   },
   "outputs": [],
   "source": [
    "# <создание функции number_tracks()> с двумя параметрами: day, city.\n",
    "# В переменной track_list сохраняются те строки таблицы yandex_music, для которых \n",
    "# значение в столбце 'day' равно параметру day и одновременно значение\n",
    "# в столбце 'city' равно параметру city (используйте последовательную фильтрацию\n",
    "# с помощью логической индексации).\n",
    "# В переменной track_list_count сохраняется число значений столбца 'user_id',\n",
    "# рассчитанное методом count() для таблицы track_list.\n",
    "# Функция возвращает число - значение track_list_count.\n",
    "\n",
    "# Функция для подсчёта прослушиваний для конкретного города и дня.\n",
    "# С помощью последовательной фильтрации с логической индексацией она \n",
    "# сначала получит из исходной таблицы строки с нужным днём,\n",
    "# затем из результата отфильтрует строки с нужным городом,\n",
    "# методом count() посчитает количество значений в колонке user_id. \n",
    "# Это количество функция вернёт в качестве результата\n",
    "\n",
    "def number_tracks(day,city): \n",
    "    track_list = yandex_music[yandex_music['day'] == day]\n",
    "    track_list = track_list[track_list['city'] == city]\n",
    "    track_list_count = track_list.count()['user_id']\n",
    "    return track_list_count\n"
   ]
  },
  {
   "cell_type": "markdown",
   "metadata": {
    "id": "ytf7xFrFJQ2r"
   },
   "source": [
    "Вызовите `number_tracks()` шесть раз, меняя значение параметров — так, чтобы получить данные для каждого города в каждый из трёх дней."
   ]
  },
  {
   "cell_type": "code",
   "execution_count": 26,
   "metadata": {
    "id": "rJcRATNQ_Zcu",
    "scrolled": true
   },
   "outputs": [
    {
     "name": "stdout",
     "output_type": "stream",
     "text": [
      "Количество прослушиваний в Москве по понедельникам: 15740\n",
      "Количество прослушиваний в Санкт-Петербурге по понедельникам: 5614\n"
     ]
    }
   ],
   "source": [
    "# количество прослушиваний в Москве по понедельникам\n",
    "print('Количество прослушиваний в Москве по понедельникам:', number_tracks('Monday', 'Moscow')) \n",
    "\n",
    "# количество прослушиваний в Санкт-Петербурге по понедельникам\n",
    "print('Количество прослушиваний в Санкт-Петербурге по понедельникам:', number_tracks('Monday', 'Saint-Petersburg')) "
   ]
  },
  {
   "cell_type": "code",
   "execution_count": 27,
   "metadata": {
    "id": "_NTy2VPU_Zcu"
   },
   "outputs": [
    {
     "name": "stdout",
     "output_type": "stream",
     "text": [
      "Количество прослушиваний в Москве по средам: 11056\n",
      "Количество прослушиваний в Санкт-Петербурге по средам: 7003\n"
     ]
    }
   ],
   "source": [
    "# количество прослушиваний в Москве по средам\n",
    "print('Количество прослушиваний в Москве по средам:', number_tracks('Wednesday', 'Moscow')) \n",
    "\n",
    "# количество прослушиваний в Санкт-Петербурге по средам\n",
    "print('Количество прослушиваний в Санкт-Петербурге по средам:', number_tracks('Wednesday', 'Saint-Petersburg')) "
   ]
  },
  {
   "cell_type": "code",
   "execution_count": 28,
   "metadata": {
    "id": "vYDw5u_K_Zcu"
   },
   "outputs": [
    {
     "name": "stdout",
     "output_type": "stream",
     "text": [
      "Количество прослушиваний в Москве по пятницам: 15945\n",
      "Количество прослушиваний в Санкт-Петербурге по пятницам: 5895\n"
     ]
    }
   ],
   "source": [
    "# количество прослушиваний в Москве по пятницам\n",
    "print('Количество прослушиваний в Москве по пятницам:', number_tracks('Friday', 'Moscow'))\n",
    "\n",
    "# количество прослушиваний в Санкт-Петербурге по пятницам\n",
    "print('Количество прослушиваний в Санкт-Петербурге по пятницам:', number_tracks('Friday', 'Saint-Petersburg')) "
   ]
  },
  {
   "cell_type": "markdown",
   "metadata": {
    "id": "7QXffbO-_Zcu"
   },
   "source": [
    "Создим c помощью конструктора `pd.DataFrame` таблицу, где\n",
    "* названия колонок — `['city', 'monday', 'wednesday', 'friday']`;\n",
    "* данные — результаты, которые вы получили с помощью `number_tracks`."
   ]
  },
  {
   "cell_type": "code",
   "execution_count": 25,
   "metadata": {
    "id": "APAcLpOr_Zcu"
   },
   "outputs": [
    {
     "data": {
      "text/html": [
       "<div>\n",
       "<style scoped>\n",
       "    .dataframe tbody tr th:only-of-type {\n",
       "        vertical-align: middle;\n",
       "    }\n",
       "\n",
       "    .dataframe tbody tr th {\n",
       "        vertical-align: top;\n",
       "    }\n",
       "\n",
       "    .dataframe thead th {\n",
       "        text-align: right;\n",
       "    }\n",
       "</style>\n",
       "<table border=\"1\" class=\"dataframe\">\n",
       "  <thead>\n",
       "    <tr style=\"text-align: right;\">\n",
       "      <th></th>\n",
       "      <th>city</th>\n",
       "      <th>monday</th>\n",
       "      <th>wednesday</th>\n",
       "      <th>friday</th>\n",
       "    </tr>\n",
       "  </thead>\n",
       "  <tbody>\n",
       "    <tr>\n",
       "      <th>0</th>\n",
       "      <td>Moscow</td>\n",
       "      <td>15740</td>\n",
       "      <td>11056</td>\n",
       "      <td>15945</td>\n",
       "    </tr>\n",
       "    <tr>\n",
       "      <th>1</th>\n",
       "      <td>Saint-Petersburg</td>\n",
       "      <td>5614</td>\n",
       "      <td>7003</td>\n",
       "      <td>5895</td>\n",
       "    </tr>\n",
       "  </tbody>\n",
       "</table>\n",
       "</div>"
      ],
      "text/plain": [
       "               city  monday  wednesday  friday\n",
       "0            Moscow   15740      11056   15945\n",
       "1  Saint-Petersburg    5614       7003    5895"
      ]
     },
     "execution_count": 25,
     "metadata": {},
     "output_type": "execute_result"
    }
   ],
   "source": [
    "# Таблица с результатами\n",
    "columns = ['city', 'monday', 'wednesday', 'friday']\n",
    "data = []\n",
    "cities = ['Moscow', 'Saint-Petersburg']\n",
    "days = ['Monday', 'Wednesday', 'Friday']\n",
    "\n",
    "for city in cities:\n",
    "    city_data = [city]\n",
    "    for day in days:\n",
    "        city_data.append(number_tracks(day,city))\n",
    "    data.append(city_data)\n",
    "pd.DataFrame(data = data, columns = columns)"
   ]
  },
  {
   "cell_type": "markdown",
   "metadata": {
    "id": "-EgPIHYu_Zcu"
   },
   "source": [
    "**Выводы**\n",
    "\n",
    "Данные показывают разницу поведения пользователей:\n",
    "\n",
    "- В Москве пик прослушиваний приходится на понедельник и пятницу, а в среду заметен спад.\n",
    "- В Петербурге, наоборот, больше слушают музыку по средам. Активность в понедельник и пятницу здесь почти в равной мере уступает среде.\n",
    "\n",
    "Значит, данные говорят в пользу первой гипотезы."
   ]
  },
  {
   "cell_type": "markdown",
   "metadata": {
    "id": "atZAxtq4_Zcu"
   },
   "source": [
    "### Музыка в начале и в конце недели"
   ]
  },
  {
   "cell_type": "markdown",
   "metadata": {
    "id": "eXrQqXFH_Zcu"
   },
   "source": [
    "Согласно второй гипотезе, утром в понедельник в Москве преобладают одни жанры, а в Петербурге — другие. Так же и вечером пятницы преобладают разные жанры — в зависимости от города."
   ]
  },
  {
   "cell_type": "markdown",
   "metadata": {
    "id": "S8UcW6Hw_Zcu"
   },
   "source": [
    "Сохраним таблицы с данными в две переменные:\n",
    "* по Москве — в `moscow_general`;\n",
    "* по Санкт-Петербургу — в `spb_general`."
   ]
  },
  {
   "cell_type": "code",
   "execution_count": 28,
   "metadata": {
    "id": "qeaFfM_P_Zcu"
   },
   "outputs": [],
   "source": [
    "# получение таблицы moscow_general из тех строк таблицы df, \n",
    "# для которых значение в столбце 'city' равно 'Moscow'\n",
    "moscow_general = yandex_music[yandex_music['city'] == 'Moscow']"
   ]
  },
  {
   "cell_type": "code",
   "execution_count": 29,
   "metadata": {
    "id": "ORaVRKto_Zcu"
   },
   "outputs": [],
   "source": [
    "# получение таблицы spb_general из тех строк таблицы df,\n",
    "# для которых значение в столбце 'city' равно 'Saint-Petersburg'\n",
    "spb_general = yandex_music[yandex_music['city'] == 'Saint-Petersburg']"
   ]
  },
  {
   "cell_type": "markdown",
   "metadata": {
    "id": "MEJV-CX2_Zcu"
   },
   "source": [
    "Создадим функцию `genre_weekday()` с четырьмя параметрами:\n",
    "* таблица (датафрейм) с данными,\n",
    "* день недели,\n",
    "* начальная временная метка в формате 'hh:mm', \n",
    "* последняя временная метка в формате 'hh:mm'.\n",
    "\n",
    "Функция должна вернуть информацию о топ-10 жанров тех треков, которые прослушивали в указанный день, в промежутке между двумя отметками времени."
   ]
  },
  {
   "cell_type": "code",
   "execution_count": 30,
   "metadata": {
    "id": "laJT9BYl_Zcu"
   },
   "outputs": [],
   "source": [
    "# Объявление функции genre_weekday() с параметрами table, day, time1, time2,\n",
    "# которая возвращает информацию о самых популярных жанрах в указанный день в\n",
    "# заданное время:\n",
    "# 1) в переменную genre_df сохраняются те строки переданного датафрейма table, для\n",
    "#    которых одновременно:\n",
    "#    - значение в столбце day равно значению аргумента day\n",
    "#    - значение в столбце time больше значения аргумента time1\n",
    "#    - значение в столбце time меньше значения аргумента time2\n",
    "#    Используйте последовательную фильтрацию с помощью логической индексации.\n",
    "# 2) сгруппировать датафрейм genre_df по столбцу genre, взять один из его\n",
    "#    столбцов и посчитать методом count() количество записей для каждого из\n",
    "#    присутствующих жанров, получившийся Series записать в переменную\n",
    "#    genre_df_count\n",
    "# 3) отсортировать genre_df_count по убыванию встречаемости и сохранить\n",
    "#    в переменную genre_df_sorted\n",
    "# 4) вернуть Series из 10 первых значений genre_df_sorted, это будут топ-10\n",
    "#    популярных жанров (в указанный день, в заданное время)\n",
    "\n",
    "def genre_weekday(table, day, time1, time2):\n",
    "    genre_df = table[table['day'] == day]\n",
    "    genre_df = genre_df[genre_df['time'] > time1]\n",
    "    genre_df = genre_df[genre_df['time'] < time2]\n",
    "    genre_df_count = genre_df.groupby('genre')['user_id'].count()\n",
    "    genre_df_sorted = genre_df_count.sort_values(ascending=False)\n",
    "    return genre_df_sorted.head(10)"
   ]
  },
  {
   "cell_type": "markdown",
   "metadata": {
    "id": "la2s2_PF_Zcu"
   },
   "source": [
    "Cравним результаты функции `genre_weekday()` для Москвы и Санкт-Петербурга в понедельник утром (с 7:00 до 11:00) и в пятницу вечером (с 17:00 до 23:00):"
   ]
  },
  {
   "cell_type": "code",
   "execution_count": 31,
   "metadata": {
    "id": "yz7itPUQ_Zcu"
   },
   "outputs": [
    {
     "data": {
      "text/plain": [
       "genre\n",
       "pop            781\n",
       "dance          549\n",
       "electronic     480\n",
       "rock           474\n",
       "hiphop         286\n",
       "ruspop         186\n",
       "world          181\n",
       "rusrap         175\n",
       "alternative    164\n",
       "unknown        161\n",
       "Name: user_id, dtype: int64"
      ]
     },
     "execution_count": 31,
     "metadata": {},
     "output_type": "execute_result"
    }
   ],
   "source": [
    "# вызов функции для утра понедельника в Москве (вместо df — таблица moscow_general)\n",
    "# объекты, хранящие время, являются строками и сравниваются как строки\n",
    "# пример вызова: genre_weekday(moscow_general, 'Monday', '07:00', '11:00')\n",
    "genre_weekday(moscow_general, 'Monday', '07:00', '11:00')"
   ]
  },
  {
   "cell_type": "code",
   "execution_count": 32,
   "metadata": {
    "id": "kwUcHPdy_Zcu"
   },
   "outputs": [
    {
     "data": {
      "text/plain": [
       "genre\n",
       "pop            218\n",
       "dance          182\n",
       "rock           162\n",
       "electronic     147\n",
       "hiphop          80\n",
       "ruspop          64\n",
       "alternative     58\n",
       "rusrap          55\n",
       "jazz            44\n",
       "classical       40\n",
       "Name: user_id, dtype: int64"
      ]
     },
     "execution_count": 32,
     "metadata": {},
     "output_type": "execute_result"
    }
   ],
   "source": [
    "# вызов функции для утра понедельника в Петербурге (вместо df — таблица spb_general)\n",
    "genre_weekday(spb_general, 'Monday', '07:00', '11:00')"
   ]
  },
  {
   "cell_type": "code",
   "execution_count": 33,
   "metadata": {
    "id": "EzXVRE1o_Zcu"
   },
   "outputs": [
    {
     "data": {
      "text/plain": [
       "genre\n",
       "pop            713\n",
       "rock           517\n",
       "dance          495\n",
       "electronic     482\n",
       "hiphop         273\n",
       "world          208\n",
       "ruspop         170\n",
       "alternative    163\n",
       "classical      163\n",
       "rusrap         142\n",
       "Name: user_id, dtype: int64"
      ]
     },
     "execution_count": 33,
     "metadata": {},
     "output_type": "execute_result"
    }
   ],
   "source": [
    "# вызов функции для вечера пятницы в Москве\n",
    "genre_weekday(moscow_general, 'Friday', '17:00', '23:00')"
   ]
  },
  {
   "cell_type": "code",
   "execution_count": 34,
   "metadata": {
    "id": "JZaEKu5v_Zcu"
   },
   "outputs": [
    {
     "data": {
      "text/plain": [
       "genre\n",
       "pop            256\n",
       "rock           216\n",
       "electronic     216\n",
       "dance          210\n",
       "hiphop          97\n",
       "alternative     63\n",
       "jazz            61\n",
       "classical       60\n",
       "rusrap          59\n",
       "world           54\n",
       "Name: user_id, dtype: int64"
      ]
     },
     "execution_count": 34,
     "metadata": {},
     "output_type": "execute_result"
    }
   ],
   "source": [
    "# вызов функции для вечера пятницы в Петербурге\n",
    "genre_weekday(spb_general, 'Friday', '17:00', '23:00')"
   ]
  },
  {
   "cell_type": "markdown",
   "metadata": {
    "id": "wrCe4MNX_Zcu"
   },
   "source": [
    "**Выводы**\n",
    "\n",
    "Если сравнить топ-10 жанров в понедельник утром, можно сделать такие выводы:\n",
    "\n",
    "1. В Москве и Петербурге слушают похожую музыку. Единственное отличие — в московский рейтинг вошёл жанр “world”, а в петербургский — джаз и классика.\n",
    "\n",
    "2. В Москве пропущенных значений оказалось так много, что значение `'unknown'` заняло десятое место среди самых популярных жанров. Значит, пропущенные значения занимают существенную долю в данных и угрожают достоверности исследования.\n",
    "\n",
    "Вечер пятницы не меняет эту картину. Некоторые жанры поднимаются немного выше, другие спускаются, но в целом топ-10 остаётся тем же самым.\n",
    "\n",
    "Таким образом, вторая гипотеза подтвердилась лишь частично:\n",
    "* Пользователи слушают похожую музыку в начале недели и в конце.\n",
    "* Разница между Москвой и Петербургом не слишком выражена. В Москве чаще слушают русскую популярную музыку, в Петербурге — джаз.\n",
    "\n",
    "Однако пропуски в данных ставят под сомнение этот результат. В Москве их так много, что рейтинг топ-10 мог бы выглядеть иначе, если бы не утерянные  данные о жанрах."
   ]
  },
  {
   "cell_type": "markdown",
   "metadata": {
    "id": "JolODAqr_Zcu"
   },
   "source": [
    "### Жанровые предпочтения в Москве и Петербурге\n",
    "\n",
    "Гипотеза: Петербург — столица рэпа, музыку этого жанра там слушают чаще, чем в Москве.  А Москва — город контрастов, в котором, тем не менее, преобладает поп-музыка."
   ]
  },
  {
   "cell_type": "markdown",
   "metadata": {
    "id": "DlegSvaT_Zcu"
   },
   "source": [
    "Сгруппируем таблицу `moscow_general` по жанру и посчитайте прослушивания треков каждого жанра методом `count()`. Затем отсортируем результат в порядке убывания и сохраним его в таблице `moscow_genres`."
   ]
  },
  {
   "cell_type": "code",
   "execution_count": 35,
   "metadata": {
    "id": "r19lIPke_Zcu"
   },
   "outputs": [],
   "source": [
    "# одной строкой: группировка таблицы moscow_general по столбцу 'genre', \n",
    "# подсчёт числа значений 'genre' в этой группировке методом count(), \n",
    "# сортировка получившегося Series в порядке убывания и сохранение в moscow_genres\n",
    "\n",
    "moscow_general_group = moscow_general.groupby('genre')['genre'].count()\n",
    "moscow_genres = moscow_general_group.sort_values(ascending=False)"
   ]
  },
  {
   "cell_type": "code",
   "execution_count": 36,
   "metadata": {
    "id": "WhCSooF8_Zcv"
   },
   "outputs": [
    {
     "data": {
      "text/plain": [
       "genre\n",
       "pop            5892\n",
       "dance          4435\n",
       "rock           3965\n",
       "electronic     3786\n",
       "hiphop         2096\n",
       "classical      1616\n",
       "world          1432\n",
       "alternative    1379\n",
       "ruspop         1372\n",
       "rusrap         1161\n",
       "Name: genre, dtype: int64"
      ]
     },
     "execution_count": 36,
     "metadata": {},
     "output_type": "execute_result"
    }
   ],
   "source": [
    "# просмотр первых 10 строк moscow_genres\n",
    "moscow_genres.head(10)"
   ]
  },
  {
   "cell_type": "markdown",
   "metadata": {
    "id": "cnPG2vnN_Zcv"
   },
   "source": [
    "Теперь повторим то же и для Петербурга."
   ]
  },
  {
   "cell_type": "code",
   "execution_count": 37,
   "metadata": {
    "id": "gluLIpE7_Zcv"
   },
   "outputs": [],
   "source": [
    "# одной строкой: группировка таблицы spb_general по столбцу 'genre', \n",
    "# подсчёт числа значений 'genre' в этой группировке методом count(), \n",
    "# сортировка получившегося Series в порядке убывания и сохранение в spb_genres\n",
    "\n",
    "spb_general_group = spb_general.groupby('genre')['genre'].count()\n",
    "spb_genres = spb_general_group.sort_values(ascending=False)"
   ]
  },
  {
   "cell_type": "code",
   "execution_count": 38,
   "metadata": {
    "id": "uaGJHjVU_Zcv"
   },
   "outputs": [
    {
     "data": {
      "text/plain": [
       "genre\n",
       "pop            2431\n",
       "dance          1932\n",
       "rock           1879\n",
       "electronic     1736\n",
       "hiphop          960\n",
       "alternative     649\n",
       "classical       646\n",
       "rusrap          564\n",
       "ruspop          538\n",
       "world           515\n",
       "Name: genre, dtype: int64"
      ]
     },
     "execution_count": 38,
     "metadata": {},
     "output_type": "execute_result"
    }
   ],
   "source": [
    "# просмотр первых 10 строк spb_genres\n",
    "spb_genres.head(10) "
   ]
  },
  {
   "cell_type": "markdown",
   "metadata": {
    "id": "RY51YJYu_Zcv"
   },
   "source": [
    "**Выводы**"
   ]
  },
  {
   "cell_type": "markdown",
   "metadata": {
    "id": "nVhnJEm__Zcv"
   },
   "source": [
    "Гипотеза частично подтвердилась:\n",
    "* Поп-музыка — самый популярный жанр в Москве, как и предполагала гипотеза. Более того, в топ-10 жанров встречается близкий жанр — русская популярная музыка.\n",
    "* Вопреки ожиданиям, рэп одинаково популярен в Москве и Петербурге. \n"
   ]
  },
  {
   "cell_type": "markdown",
   "metadata": {
    "id": "ykKQ0N65_Zcv"
   },
   "source": [
    "## Итоги исследования"
   ]
  },
  {
   "cell_type": "markdown",
   "metadata": {
    "id": "tjUwbHb3_Zcv"
   },
   "source": [
    "Мы проверили три гипотезы и установили:\n",
    "\n",
    "1. День недели по-разному влияет на активность пользователей в Москве и Петербурге. \n",
    "\n",
    "Первая гипотеза полностью подтвердилась.\n",
    "\n",
    "2. Музыкальные предпочтения не сильно меняются в течение недели — будь то Москва или Петербург. Небольшие различия заметны в начале недели, по понедельникам:\n",
    "* в Москве слушают музыку жанра “world”,\n",
    "* в Петербурге — джаз и классику.\n",
    "\n",
    "Таким образом, вторая гипотеза подтвердилась лишь отчасти. Этот результат мог оказаться иным, если бы не пропуски в данных.\n",
    "\n",
    "3. Во вкусах пользователей Москвы и Петербурга больше общего чем различий. Вопреки ожиданиям, предпочтения жанров в Петербурге напоминают московские.\n",
    "\n",
    "Третья гипотеза не подтвердилась. Если различия в предпочтениях и существуют, на основной массе пользователей они незаметны.\n"
   ]
  }
 ],
 "metadata": {
  "ExecuteTimeLog": [
   {
    "duration": 359,
    "start_time": "2021-11-20T13:44:05.824Z"
   },
   {
    "duration": 899,
    "start_time": "2021-11-20T13:44:24.687Z"
   },
   {
    "duration": 4,
    "start_time": "2021-11-20T13:44:39.996Z"
   },
   {
    "duration": 4,
    "start_time": "2021-11-20T13:44:50.157Z"
   },
   {
    "duration": 210,
    "start_time": "2021-11-20T13:44:50.163Z"
   },
   {
    "duration": 26,
    "start_time": "2021-11-20T13:44:50.376Z"
   },
   {
    "duration": 10,
    "start_time": "2021-11-20T13:44:50.404Z"
   },
   {
    "duration": 3,
    "start_time": "2021-11-20T13:44:50.430Z"
   },
   {
    "duration": 17,
    "start_time": "2021-11-20T13:44:50.435Z"
   },
   {
    "duration": 15,
    "start_time": "2021-11-20T13:44:50.456Z"
   },
   {
    "duration": 11,
    "start_time": "2021-11-20T13:44:50.474Z"
   },
   {
    "duration": 6,
    "start_time": "2021-11-20T13:44:50.487Z"
   },
   {
    "duration": 13,
    "start_time": "2021-11-20T13:44:50.495Z"
   },
   {
    "duration": 15,
    "start_time": "2021-11-20T13:44:50.510Z"
   },
   {
    "duration": 10,
    "start_time": "2021-11-20T13:44:50.528Z"
   },
   {
    "duration": 11,
    "start_time": "2021-11-20T13:44:50.540Z"
   },
   {
    "duration": 24,
    "start_time": "2021-11-20T13:44:50.553Z"
   },
   {
    "duration": 17,
    "start_time": "2021-11-20T13:44:50.580Z"
   },
   {
    "duration": 18,
    "start_time": "2021-11-20T13:44:50.599Z"
   },
   {
    "duration": 23,
    "start_time": "2021-11-20T13:44:50.619Z"
   },
   {
    "duration": 19,
    "start_time": "2021-11-20T13:44:50.644Z"
   },
   {
    "duration": 11,
    "start_time": "2021-11-20T13:44:50.669Z"
   },
   {
    "duration": 16,
    "start_time": "2021-11-20T13:44:50.682Z"
   },
   {
    "duration": 18,
    "start_time": "2021-11-20T13:44:50.700Z"
   },
   {
    "duration": 29,
    "start_time": "2021-11-20T13:44:50.720Z"
   },
   {
    "duration": 22,
    "start_time": "2021-11-20T13:44:50.751Z"
   },
   {
    "duration": 9,
    "start_time": "2021-11-20T13:44:50.775Z"
   },
   {
    "duration": 16,
    "start_time": "2021-11-20T13:44:50.786Z"
   },
   {
    "duration": 24,
    "start_time": "2021-11-20T13:44:50.804Z"
   },
   {
    "duration": 15,
    "start_time": "2021-11-20T13:44:50.831Z"
   },
   {
    "duration": 29,
    "start_time": "2021-11-20T13:44:50.849Z"
   },
   {
    "duration": 16,
    "start_time": "2021-11-20T13:44:50.882Z"
   },
   {
    "duration": 6,
    "start_time": "2021-11-20T13:44:50.901Z"
   },
   {
    "duration": 9,
    "start_time": "2021-11-20T13:44:50.909Z"
   },
   {
    "duration": 8,
    "start_time": "2021-11-20T13:44:50.920Z"
   },
   {
    "duration": 12,
    "start_time": "2021-11-20T13:44:50.930Z"
   },
   {
    "duration": 7,
    "start_time": "2021-11-20T13:44:50.944Z"
   },
   {
    "duration": 9,
    "start_time": "2021-11-20T13:44:50.953Z"
   },
   {
    "duration": 9,
    "start_time": "2021-11-20T13:44:50.965Z"
   },
   {
    "duration": 22,
    "start_time": "2021-11-20T13:44:50.977Z"
   },
   {
    "duration": 5,
    "start_time": "2021-11-20T13:44:51.002Z"
   },
   {
    "duration": 354,
    "start_time": "2021-11-20T13:46:14.446Z"
   },
   {
    "duration": 748,
    "start_time": "2021-11-20T13:46:29.638Z"
   },
   {
    "duration": 186,
    "start_time": "2021-11-20T13:46:30.389Z"
   },
   {
    "duration": 25,
    "start_time": "2021-11-20T13:46:30.578Z"
   },
   {
    "duration": 3,
    "start_time": "2021-11-20T13:46:41.948Z"
   },
   {
    "duration": 201,
    "start_time": "2021-11-20T13:46:44.218Z"
   },
   {
    "duration": 23,
    "start_time": "2021-11-20T13:46:46.724Z"
   },
   {
    "duration": 7,
    "start_time": "2021-11-20T13:47:15.669Z"
   },
   {
    "duration": 813,
    "start_time": "2021-11-20T13:48:58.485Z"
   },
   {
    "duration": 205,
    "start_time": "2021-11-20T13:49:00.595Z"
   },
   {
    "duration": 27,
    "start_time": "2021-11-20T13:49:03.443Z"
   },
   {
    "duration": 7,
    "start_time": "2021-11-20T13:49:10.860Z"
   },
   {
    "duration": 6,
    "start_time": "2021-11-20T13:59:23.187Z"
   },
   {
    "duration": 88,
    "start_time": "2021-11-20T13:59:34.545Z"
   },
   {
    "duration": 30,
    "start_time": "2021-11-20T13:59:57.420Z"
   },
   {
    "duration": 30,
    "start_time": "2021-11-20T14:00:00.889Z"
   },
   {
    "duration": 706,
    "start_time": "2021-11-20T14:00:14.177Z"
   },
   {
    "duration": 193,
    "start_time": "2021-11-20T14:00:15.730Z"
   },
   {
    "duration": 25,
    "start_time": "2021-11-20T14:00:17.474Z"
   },
   {
    "duration": 7,
    "start_time": "2021-11-20T14:00:19.317Z"
   },
   {
    "duration": 5,
    "start_time": "2021-11-20T14:00:25.646Z"
   },
   {
    "duration": 28,
    "start_time": "2021-11-20T14:00:28.304Z"
   },
   {
    "duration": 5,
    "start_time": "2021-11-20T14:00:47.403Z"
   },
   {
    "duration": 66,
    "start_time": "2021-11-20T14:04:04.271Z"
   },
   {
    "duration": 338,
    "start_time": "2021-11-20T14:04:24.486Z"
   },
   {
    "duration": 769,
    "start_time": "2021-11-20T14:04:43.658Z"
   },
   {
    "duration": 185,
    "start_time": "2021-11-20T14:04:44.429Z"
   },
   {
    "duration": 45,
    "start_time": "2021-11-20T14:04:44.617Z"
   },
   {
    "duration": 7,
    "start_time": "2021-11-20T14:04:44.665Z"
   },
   {
    "duration": 8,
    "start_time": "2021-11-20T14:04:44.674Z"
   },
   {
    "duration": 31,
    "start_time": "2021-11-20T14:04:44.684Z"
   },
   {
    "duration": 14,
    "start_time": "2021-11-20T14:04:44.717Z"
   },
   {
    "duration": 698,
    "start_time": "2021-11-20T14:05:03.973Z"
   },
   {
    "duration": 182,
    "start_time": "2021-11-20T14:05:06.031Z"
   },
   {
    "duration": 28,
    "start_time": "2021-11-20T14:05:07.506Z"
   },
   {
    "duration": 7,
    "start_time": "2021-11-20T14:05:08.960Z"
   },
   {
    "duration": 6,
    "start_time": "2021-11-20T14:05:12.746Z"
   },
   {
    "duration": 29,
    "start_time": "2021-11-20T14:05:14.953Z"
   },
   {
    "duration": 6,
    "start_time": "2021-11-20T14:05:16.786Z"
   },
   {
    "duration": 30,
    "start_time": "2021-11-20T14:05:18.788Z"
   },
   {
    "duration": 21,
    "start_time": "2021-11-20T14:16:37.175Z"
   },
   {
    "duration": 399,
    "start_time": "2021-11-20T14:25:28.083Z"
   },
   {
    "duration": 4,
    "start_time": "2021-11-20T14:27:09.406Z"
   },
   {
    "duration": 3,
    "start_time": "2021-11-20T14:27:15.569Z"
   },
   {
    "duration": 742,
    "start_time": "2021-11-20T15:11:15.386Z"
   },
   {
    "duration": 745,
    "start_time": "2021-11-20T15:11:49.448Z"
   },
   {
    "duration": 198,
    "start_time": "2021-11-20T15:11:50.196Z"
   },
   {
    "duration": 33,
    "start_time": "2021-11-20T15:11:50.397Z"
   },
   {
    "duration": 6,
    "start_time": "2021-11-20T15:11:50.433Z"
   },
   {
    "duration": 8,
    "start_time": "2021-11-20T15:11:50.442Z"
   },
   {
    "duration": 33,
    "start_time": "2021-11-20T15:11:50.452Z"
   },
   {
    "duration": 10,
    "start_time": "2021-11-20T15:11:50.487Z"
   },
   {
    "duration": 31,
    "start_time": "2021-11-20T15:11:50.530Z"
   },
   {
    "duration": 27,
    "start_time": "2021-11-20T15:11:50.564Z"
   },
   {
    "duration": 31,
    "start_time": "2021-11-20T15:12:07.824Z"
   },
   {
    "duration": 3,
    "start_time": "2021-11-20T15:18:36.390Z"
   },
   {
    "duration": 233,
    "start_time": "2021-11-20T15:18:36.396Z"
   },
   {
    "duration": 16,
    "start_time": "2021-11-20T15:18:36.633Z"
   },
   {
    "duration": 10,
    "start_time": "2021-11-20T15:18:36.653Z"
   },
   {
    "duration": 14,
    "start_time": "2021-11-20T15:18:36.665Z"
   },
   {
    "duration": 68,
    "start_time": "2021-11-20T15:18:36.681Z"
   },
   {
    "duration": 5,
    "start_time": "2021-11-20T15:18:36.752Z"
   },
   {
    "duration": 42,
    "start_time": "2021-11-20T15:18:36.760Z"
   },
   {
    "duration": 39,
    "start_time": "2021-11-20T15:18:36.805Z"
   },
   {
    "duration": 39,
    "start_time": "2021-11-20T15:18:36.847Z"
   },
   {
    "duration": 473,
    "start_time": "2021-11-20T15:18:36.888Z"
   },
   {
    "duration": -512,
    "start_time": "2021-11-20T15:18:37.876Z"
   },
   {
    "duration": -513,
    "start_time": "2021-11-20T15:18:37.879Z"
   },
   {
    "duration": 94,
    "start_time": "2021-11-20T15:18:44.148Z"
   },
   {
    "duration": 731,
    "start_time": "2021-11-20T15:20:56.246Z"
   },
   {
    "duration": 195,
    "start_time": "2021-11-20T15:20:56.979Z"
   },
   {
    "duration": 27,
    "start_time": "2021-11-20T15:20:57.177Z"
   },
   {
    "duration": 22,
    "start_time": "2021-11-20T15:20:57.207Z"
   },
   {
    "duration": 5,
    "start_time": "2021-11-20T15:20:57.231Z"
   },
   {
    "duration": 42,
    "start_time": "2021-11-20T15:20:57.238Z"
   },
   {
    "duration": 23,
    "start_time": "2021-11-20T15:20:57.283Z"
   },
   {
    "duration": 31,
    "start_time": "2021-11-20T15:20:57.310Z"
   },
   {
    "duration": 23,
    "start_time": "2021-11-20T15:20:57.344Z"
   },
   {
    "duration": 30,
    "start_time": "2021-11-20T15:20:57.370Z"
   },
   {
    "duration": 115,
    "start_time": "2021-11-20T15:20:57.402Z"
   },
   {
    "duration": 115,
    "start_time": "2021-11-20T15:20:57.519Z"
   },
   {
    "duration": 94,
    "start_time": "2021-11-20T15:20:57.636Z"
   },
   {
    "duration": 10,
    "start_time": "2021-11-20T15:21:57.940Z"
   },
   {
    "duration": 3,
    "start_time": "2021-11-20T15:32:23.277Z"
   },
   {
    "duration": 205,
    "start_time": "2021-11-20T15:32:23.288Z"
   },
   {
    "duration": 15,
    "start_time": "2021-11-20T15:32:23.496Z"
   },
   {
    "duration": 6,
    "start_time": "2021-11-20T15:32:23.529Z"
   },
   {
    "duration": 14,
    "start_time": "2021-11-20T15:32:23.538Z"
   },
   {
    "duration": 25,
    "start_time": "2021-11-20T15:32:23.555Z"
   },
   {
    "duration": 7,
    "start_time": "2021-11-20T15:32:23.582Z"
   },
   {
    "duration": 62,
    "start_time": "2021-11-20T15:32:23.592Z"
   },
   {
    "duration": 25,
    "start_time": "2021-11-20T15:32:23.658Z"
   },
   {
    "duration": 62,
    "start_time": "2021-11-20T15:32:23.687Z"
   },
   {
    "duration": 106,
    "start_time": "2021-11-20T15:32:23.752Z"
   },
   {
    "duration": 111,
    "start_time": "2021-11-20T15:32:23.861Z"
   },
   {
    "duration": 87,
    "start_time": "2021-11-20T15:32:23.975Z"
   },
   {
    "duration": 9,
    "start_time": "2021-11-20T15:32:24.064Z"
   },
   {
    "duration": 4,
    "start_time": "2021-11-20T15:32:24.076Z"
   },
   {
    "duration": 19,
    "start_time": "2021-11-20T15:32:24.082Z"
   },
   {
    "duration": 85,
    "start_time": "2021-11-20T15:32:27.589Z"
   },
   {
    "duration": 14,
    "start_time": "2021-11-20T15:34:52.401Z"
   },
   {
    "duration": 9,
    "start_time": "2021-11-20T15:35:04.444Z"
   },
   {
    "duration": 744,
    "start_time": "2021-11-20T15:36:39.838Z"
   },
   {
    "duration": 192,
    "start_time": "2021-11-20T15:36:40.585Z"
   },
   {
    "duration": 25,
    "start_time": "2021-11-20T15:36:40.780Z"
   },
   {
    "duration": 23,
    "start_time": "2021-11-20T15:36:40.808Z"
   },
   {
    "duration": 8,
    "start_time": "2021-11-20T15:36:40.834Z"
   },
   {
    "duration": 38,
    "start_time": "2021-11-20T15:36:40.845Z"
   },
   {
    "duration": 11,
    "start_time": "2021-11-20T15:36:40.886Z"
   },
   {
    "duration": 45,
    "start_time": "2021-11-20T15:36:40.931Z"
   },
   {
    "duration": 23,
    "start_time": "2021-11-20T15:36:40.979Z"
   },
   {
    "duration": 63,
    "start_time": "2021-11-20T15:36:41.004Z"
   },
   {
    "duration": 139,
    "start_time": "2021-11-20T15:36:41.070Z"
   },
   {
    "duration": 164,
    "start_time": "2021-11-20T15:36:41.212Z"
   },
   {
    "duration": 106,
    "start_time": "2021-11-20T15:36:41.379Z"
   },
   {
    "duration": 9,
    "start_time": "2021-11-20T15:36:41.487Z"
   },
   {
    "duration": 5,
    "start_time": "2021-11-20T15:36:41.498Z"
   },
   {
    "duration": 35,
    "start_time": "2021-11-20T15:36:41.505Z"
   },
   {
    "duration": 14,
    "start_time": "2021-11-20T15:37:46.902Z"
   },
   {
    "duration": 416,
    "start_time": "2021-11-20T15:47:39.198Z"
   },
   {
    "duration": 41,
    "start_time": "2021-11-20T15:47:57.234Z"
   },
   {
    "duration": 6,
    "start_time": "2021-11-20T15:48:05.027Z"
   },
   {
    "duration": 721,
    "start_time": "2021-11-20T15:48:15.361Z"
   },
   {
    "duration": 193,
    "start_time": "2021-11-20T15:48:16.084Z"
   },
   {
    "duration": 25,
    "start_time": "2021-11-20T15:48:16.280Z"
   },
   {
    "duration": 22,
    "start_time": "2021-11-20T15:48:16.308Z"
   },
   {
    "duration": 6,
    "start_time": "2021-11-20T15:48:16.332Z"
   },
   {
    "duration": 32,
    "start_time": "2021-11-20T15:48:16.340Z"
   },
   {
    "duration": 5,
    "start_time": "2021-11-20T15:48:16.374Z"
   },
   {
    "duration": 65,
    "start_time": "2021-11-20T15:48:16.382Z"
   },
   {
    "duration": 22,
    "start_time": "2021-11-20T15:48:16.450Z"
   },
   {
    "duration": 31,
    "start_time": "2021-11-20T15:48:16.474Z"
   },
   {
    "duration": 86,
    "start_time": "2021-11-20T15:48:16.529Z"
   },
   {
    "duration": 120,
    "start_time": "2021-11-20T15:48:16.617Z"
   },
   {
    "duration": 91,
    "start_time": "2021-11-20T15:48:16.739Z"
   },
   {
    "duration": 9,
    "start_time": "2021-11-20T15:48:16.833Z"
   },
   {
    "duration": 4,
    "start_time": "2021-11-20T15:48:16.845Z"
   },
   {
    "duration": 18,
    "start_time": "2021-11-20T15:48:16.852Z"
   },
   {
    "duration": 16,
    "start_time": "2021-11-20T15:48:16.873Z"
   },
   {
    "duration": 47,
    "start_time": "2021-11-20T15:48:19.021Z"
   },
   {
    "duration": 803,
    "start_time": "2021-11-20T15:49:55.001Z"
   },
   {
    "duration": 195,
    "start_time": "2021-11-20T15:49:55.807Z"
   },
   {
    "duration": 31,
    "start_time": "2021-11-20T15:49:56.006Z"
   },
   {
    "duration": 10,
    "start_time": "2021-11-20T15:49:56.041Z"
   },
   {
    "duration": 11,
    "start_time": "2021-11-20T15:49:56.054Z"
   },
   {
    "duration": 64,
    "start_time": "2021-11-20T15:49:56.068Z"
   },
   {
    "duration": 10,
    "start_time": "2021-11-20T15:49:56.135Z"
   },
   {
    "duration": 37,
    "start_time": "2021-11-20T15:49:56.149Z"
   },
   {
    "duration": 40,
    "start_time": "2021-11-20T15:49:56.189Z"
   },
   {
    "duration": 30,
    "start_time": "2021-11-20T15:49:56.232Z"
   },
   {
    "duration": 110,
    "start_time": "2021-11-20T15:49:56.265Z"
   },
   {
    "duration": 116,
    "start_time": "2021-11-20T15:49:56.377Z"
   },
   {
    "duration": 83,
    "start_time": "2021-11-20T15:49:56.496Z"
   },
   {
    "duration": 10,
    "start_time": "2021-11-20T15:49:56.581Z"
   },
   {
    "duration": 5,
    "start_time": "2021-11-20T15:49:56.593Z"
   },
   {
    "duration": 38,
    "start_time": "2021-11-20T15:49:56.600Z"
   },
   {
    "duration": 16,
    "start_time": "2021-11-20T15:49:56.641Z"
   },
   {
    "duration": 56,
    "start_time": "2021-11-20T15:49:58.739Z"
   },
   {
    "duration": 12,
    "start_time": "2021-11-20T15:51:02.664Z"
   },
   {
    "duration": 13,
    "start_time": "2021-11-20T15:51:36.478Z"
   },
   {
    "duration": 760,
    "start_time": "2021-11-20T15:51:53.389Z"
   },
   {
    "duration": 186,
    "start_time": "2021-11-20T15:51:54.151Z"
   },
   {
    "duration": 26,
    "start_time": "2021-11-20T15:51:54.340Z"
   },
   {
    "duration": 7,
    "start_time": "2021-11-20T15:51:54.369Z"
   },
   {
    "duration": 6,
    "start_time": "2021-11-20T15:51:54.379Z"
   },
   {
    "duration": 60,
    "start_time": "2021-11-20T15:51:54.388Z"
   },
   {
    "duration": 9,
    "start_time": "2021-11-20T15:51:54.450Z"
   },
   {
    "duration": 33,
    "start_time": "2021-11-20T15:51:54.463Z"
   },
   {
    "duration": 44,
    "start_time": "2021-11-20T15:51:54.499Z"
   },
   {
    "duration": 30,
    "start_time": "2021-11-20T15:51:54.545Z"
   },
   {
    "duration": 106,
    "start_time": "2021-11-20T15:51:54.577Z"
   },
   {
    "duration": 115,
    "start_time": "2021-11-20T15:51:54.686Z"
   },
   {
    "duration": 97,
    "start_time": "2021-11-20T15:51:54.804Z"
   },
   {
    "duration": 27,
    "start_time": "2021-11-20T15:51:54.903Z"
   },
   {
    "duration": 5,
    "start_time": "2021-11-20T15:51:54.932Z"
   },
   {
    "duration": 17,
    "start_time": "2021-11-20T15:51:54.939Z"
   },
   {
    "duration": 14,
    "start_time": "2021-11-20T15:51:54.958Z"
   },
   {
    "duration": 50,
    "start_time": "2021-11-20T15:51:56.591Z"
   },
   {
    "duration": 6,
    "start_time": "2021-11-20T15:53:44.589Z"
   },
   {
    "duration": 12,
    "start_time": "2021-11-20T15:53:55.583Z"
   },
   {
    "duration": 466,
    "start_time": "2021-11-20T15:56:50.467Z"
   },
   {
    "duration": 751,
    "start_time": "2021-11-20T15:57:03.647Z"
   },
   {
    "duration": 183,
    "start_time": "2021-11-20T15:57:04.402Z"
   },
   {
    "duration": 24,
    "start_time": "2021-11-20T15:57:04.588Z"
   },
   {
    "duration": 15,
    "start_time": "2021-11-20T15:57:04.615Z"
   },
   {
    "duration": 8,
    "start_time": "2021-11-20T15:57:04.632Z"
   },
   {
    "duration": 31,
    "start_time": "2021-11-20T15:57:04.642Z"
   },
   {
    "duration": 8,
    "start_time": "2021-11-20T15:57:04.675Z"
   },
   {
    "duration": 64,
    "start_time": "2021-11-20T15:57:04.687Z"
   },
   {
    "duration": 24,
    "start_time": "2021-11-20T15:57:04.753Z"
   },
   {
    "duration": 50,
    "start_time": "2021-11-20T15:57:04.779Z"
   },
   {
    "duration": 84,
    "start_time": "2021-11-20T15:57:04.831Z"
   },
   {
    "duration": 114,
    "start_time": "2021-11-20T15:57:04.918Z"
   },
   {
    "duration": 75,
    "start_time": "2021-11-20T15:57:05.035Z"
   },
   {
    "duration": 21,
    "start_time": "2021-11-20T15:57:05.112Z"
   },
   {
    "duration": 4,
    "start_time": "2021-11-20T15:57:05.136Z"
   },
   {
    "duration": 18,
    "start_time": "2021-11-20T15:57:05.143Z"
   },
   {
    "duration": 14,
    "start_time": "2021-11-20T15:57:05.163Z"
   },
   {
    "duration": 81,
    "start_time": "2021-11-20T15:57:05.179Z"
   },
   {
    "duration": 45,
    "start_time": "2021-11-20T15:57:11.783Z"
   },
   {
    "duration": 706,
    "start_time": "2021-11-20T15:57:25.870Z"
   },
   {
    "duration": 184,
    "start_time": "2021-11-20T15:57:26.579Z"
   },
   {
    "duration": 26,
    "start_time": "2021-11-20T15:57:26.766Z"
   },
   {
    "duration": 6,
    "start_time": "2021-11-20T15:57:26.795Z"
   },
   {
    "duration": 27,
    "start_time": "2021-11-20T15:57:26.804Z"
   },
   {
    "duration": 28,
    "start_time": "2021-11-20T15:57:26.833Z"
   },
   {
    "duration": 11,
    "start_time": "2021-11-20T15:57:26.863Z"
   },
   {
    "duration": 56,
    "start_time": "2021-11-20T15:57:26.877Z"
   },
   {
    "duration": 22,
    "start_time": "2021-11-20T15:57:26.936Z"
   },
   {
    "duration": 43,
    "start_time": "2021-11-20T15:57:26.960Z"
   },
   {
    "duration": 95,
    "start_time": "2021-11-20T15:57:27.006Z"
   },
   {
    "duration": 113,
    "start_time": "2021-11-20T15:57:27.104Z"
   },
   {
    "duration": 77,
    "start_time": "2021-11-20T15:57:27.219Z"
   },
   {
    "duration": 9,
    "start_time": "2021-11-20T15:57:27.298Z"
   },
   {
    "duration": 5,
    "start_time": "2021-11-20T15:57:27.329Z"
   },
   {
    "duration": 20,
    "start_time": "2021-11-20T15:57:27.336Z"
   },
   {
    "duration": 17,
    "start_time": "2021-11-20T15:57:27.358Z"
   },
   {
    "duration": 64,
    "start_time": "2021-11-20T15:57:27.378Z"
   },
   {
    "duration": 765,
    "start_time": "2021-11-20T16:13:06.122Z"
   },
   {
    "duration": 187,
    "start_time": "2021-11-20T16:13:06.890Z"
   },
   {
    "duration": 25,
    "start_time": "2021-11-20T16:13:07.080Z"
   },
   {
    "duration": 22,
    "start_time": "2021-11-20T16:13:07.108Z"
   },
   {
    "duration": 13,
    "start_time": "2021-11-20T16:13:07.132Z"
   },
   {
    "duration": 42,
    "start_time": "2021-11-20T16:13:07.147Z"
   },
   {
    "duration": 7,
    "start_time": "2021-11-20T16:13:07.192Z"
   },
   {
    "duration": 48,
    "start_time": "2021-11-20T16:13:07.203Z"
   },
   {
    "duration": 24,
    "start_time": "2021-11-20T16:13:07.254Z"
   },
   {
    "duration": 49,
    "start_time": "2021-11-20T16:13:07.281Z"
   },
   {
    "duration": 82,
    "start_time": "2021-11-20T16:13:07.333Z"
   },
   {
    "duration": 102,
    "start_time": "2021-11-20T16:13:07.430Z"
   },
   {
    "duration": 76,
    "start_time": "2021-11-20T16:13:07.534Z"
   },
   {
    "duration": 22,
    "start_time": "2021-11-20T16:13:07.612Z"
   },
   {
    "duration": 4,
    "start_time": "2021-11-20T16:13:07.636Z"
   },
   {
    "duration": 31,
    "start_time": "2021-11-20T16:13:07.643Z"
   },
   {
    "duration": 15,
    "start_time": "2021-11-20T16:13:07.676Z"
   },
   {
    "duration": 17,
    "start_time": "2021-11-20T16:13:11.267Z"
   },
   {
    "duration": 4,
    "start_time": "2021-11-20T16:17:20.894Z"
   },
   {
    "duration": 208,
    "start_time": "2021-11-20T16:17:20.900Z"
   },
   {
    "duration": 21,
    "start_time": "2021-11-20T16:17:21.110Z"
   },
   {
    "duration": 10,
    "start_time": "2021-11-20T16:17:21.134Z"
   },
   {
    "duration": 8,
    "start_time": "2021-11-20T16:17:21.146Z"
   },
   {
    "duration": 35,
    "start_time": "2021-11-20T16:17:21.156Z"
   },
   {
    "duration": 5,
    "start_time": "2021-11-20T16:17:21.195Z"
   },
   {
    "duration": 57,
    "start_time": "2021-11-20T16:17:21.203Z"
   },
   {
    "duration": 27,
    "start_time": "2021-11-20T16:17:21.262Z"
   },
   {
    "duration": 42,
    "start_time": "2021-11-20T16:17:21.291Z"
   },
   {
    "duration": 94,
    "start_time": "2021-11-20T16:17:21.336Z"
   },
   {
    "duration": 104,
    "start_time": "2021-11-20T16:17:21.433Z"
   },
   {
    "duration": 91,
    "start_time": "2021-11-20T16:17:21.539Z"
   },
   {
    "duration": 10,
    "start_time": "2021-11-20T16:17:21.632Z"
   },
   {
    "duration": 10,
    "start_time": "2021-11-20T16:17:21.644Z"
   },
   {
    "duration": 24,
    "start_time": "2021-11-20T16:17:21.656Z"
   },
   {
    "duration": 24,
    "start_time": "2021-11-20T16:17:21.682Z"
   },
   {
    "duration": 35,
    "start_time": "2021-11-20T16:17:21.708Z"
   },
   {
    "duration": 37,
    "start_time": "2021-11-20T16:17:28.295Z"
   },
   {
    "duration": 7,
    "start_time": "2021-11-20T16:17:45.007Z"
   },
   {
    "duration": 219,
    "start_time": "2021-11-20T16:17:45.017Z"
   },
   {
    "duration": 16,
    "start_time": "2021-11-20T16:17:45.239Z"
   },
   {
    "duration": 13,
    "start_time": "2021-11-20T16:17:45.258Z"
   },
   {
    "duration": 19,
    "start_time": "2021-11-20T16:17:45.273Z"
   },
   {
    "duration": 48,
    "start_time": "2021-11-20T16:17:45.294Z"
   },
   {
    "duration": 6,
    "start_time": "2021-11-20T16:17:45.344Z"
   },
   {
    "duration": 51,
    "start_time": "2021-11-20T16:17:45.354Z"
   },
   {
    "duration": 34,
    "start_time": "2021-11-20T16:17:45.408Z"
   },
   {
    "duration": 31,
    "start_time": "2021-11-20T16:17:45.445Z"
   },
   {
    "duration": 106,
    "start_time": "2021-11-20T16:17:45.478Z"
   },
   {
    "duration": 104,
    "start_time": "2021-11-20T16:17:45.586Z"
   },
   {
    "duration": 87,
    "start_time": "2021-11-20T16:17:45.692Z"
   },
   {
    "duration": 9,
    "start_time": "2021-11-20T16:17:45.782Z"
   },
   {
    "duration": 12,
    "start_time": "2021-11-20T16:17:45.793Z"
   },
   {
    "duration": 32,
    "start_time": "2021-11-20T16:17:45.807Z"
   },
   {
    "duration": 29,
    "start_time": "2021-11-20T16:17:45.841Z"
   },
   {
    "duration": 22,
    "start_time": "2021-11-20T16:17:45.873Z"
   },
   {
    "duration": 45,
    "start_time": "2021-11-20T16:17:56.835Z"
   },
   {
    "duration": 4,
    "start_time": "2021-11-20T16:18:31.621Z"
   },
   {
    "duration": 243,
    "start_time": "2021-11-20T16:18:31.629Z"
   },
   {
    "duration": 17,
    "start_time": "2021-11-20T16:18:31.875Z"
   },
   {
    "duration": 20,
    "start_time": "2021-11-20T16:18:31.895Z"
   },
   {
    "duration": 19,
    "start_time": "2021-11-20T16:18:31.917Z"
   },
   {
    "duration": 26,
    "start_time": "2021-11-20T16:18:31.943Z"
   },
   {
    "duration": 6,
    "start_time": "2021-11-20T16:18:31.973Z"
   },
   {
    "duration": 66,
    "start_time": "2021-11-20T16:18:31.982Z"
   },
   {
    "duration": 46,
    "start_time": "2021-11-20T16:18:32.051Z"
   },
   {
    "duration": 33,
    "start_time": "2021-11-20T16:18:32.100Z"
   },
   {
    "duration": 113,
    "start_time": "2021-11-20T16:18:32.137Z"
   },
   {
    "duration": 123,
    "start_time": "2021-11-20T16:18:32.253Z"
   },
   {
    "duration": 89,
    "start_time": "2021-11-20T16:18:32.379Z"
   },
   {
    "duration": 10,
    "start_time": "2021-11-20T16:18:32.471Z"
   },
   {
    "duration": 19,
    "start_time": "2021-11-20T16:18:32.483Z"
   },
   {
    "duration": 33,
    "start_time": "2021-11-20T16:18:32.505Z"
   },
   {
    "duration": 14,
    "start_time": "2021-11-20T16:18:32.541Z"
   },
   {
    "duration": 17,
    "start_time": "2021-11-20T16:18:32.558Z"
   },
   {
    "duration": 21,
    "start_time": "2021-11-20T16:18:34.429Z"
   },
   {
    "duration": 779,
    "start_time": "2021-11-20T16:19:02.040Z"
   },
   {
    "duration": 212,
    "start_time": "2021-11-20T16:19:02.821Z"
   },
   {
    "duration": 28,
    "start_time": "2021-11-20T16:19:03.036Z"
   },
   {
    "duration": 18,
    "start_time": "2021-11-20T16:19:03.067Z"
   },
   {
    "duration": 11,
    "start_time": "2021-11-20T16:19:03.088Z"
   },
   {
    "duration": 61,
    "start_time": "2021-11-20T16:19:03.101Z"
   },
   {
    "duration": 8,
    "start_time": "2021-11-20T16:19:03.165Z"
   },
   {
    "duration": 55,
    "start_time": "2021-11-20T16:19:03.177Z"
   },
   {
    "duration": 28,
    "start_time": "2021-11-20T16:19:03.235Z"
   },
   {
    "duration": 32,
    "start_time": "2021-11-20T16:19:03.265Z"
   },
   {
    "duration": 130,
    "start_time": "2021-11-20T16:19:03.299Z"
   },
   {
    "duration": 128,
    "start_time": "2021-11-20T16:19:03.432Z"
   },
   {
    "duration": 136,
    "start_time": "2021-11-20T16:19:03.563Z"
   },
   {
    "duration": 14,
    "start_time": "2021-11-20T16:19:03.702Z"
   },
   {
    "duration": 6,
    "start_time": "2021-11-20T16:19:03.730Z"
   },
   {
    "duration": 21,
    "start_time": "2021-11-20T16:19:03.739Z"
   },
   {
    "duration": 25,
    "start_time": "2021-11-20T16:19:03.763Z"
   },
   {
    "duration": 47,
    "start_time": "2021-11-20T16:19:03.791Z"
   },
   {
    "duration": 17,
    "start_time": "2021-11-20T16:19:04.858Z"
   },
   {
    "duration": 5,
    "start_time": "2021-11-20T16:40:22.386Z"
   },
   {
    "duration": 23,
    "start_time": "2021-11-20T16:40:54.822Z"
   },
   {
    "duration": 31,
    "start_time": "2021-11-20T16:41:10.203Z"
   },
   {
    "duration": 1487,
    "start_time": "2021-11-20T16:41:54.716Z"
   },
   {
    "duration": 4598,
    "start_time": "2021-11-20T16:42:14.987Z"
   },
   {
    "duration": 57,
    "start_time": "2021-11-20T16:43:51.692Z"
   },
   {
    "duration": 688,
    "start_time": "2021-11-20T16:47:00.734Z"
   },
   {
    "duration": 55,
    "start_time": "2021-11-20T16:47:45.108Z"
   },
   {
    "duration": 58,
    "start_time": "2021-11-20T16:52:13.975Z"
   },
   {
    "duration": 30,
    "start_time": "2021-11-20T16:55:34.152Z"
   },
   {
    "duration": 54,
    "start_time": "2021-11-20T16:56:27.672Z"
   },
   {
    "duration": 280,
    "start_time": "2021-11-20T17:05:34.840Z"
   },
   {
    "duration": 605,
    "start_time": "2021-11-20T17:20:24.075Z"
   },
   {
    "duration": 633,
    "start_time": "2021-11-20T17:20:59.940Z"
   },
   {
    "duration": 332,
    "start_time": "2021-11-20T17:32:31.874Z"
   },
   {
    "duration": 321,
    "start_time": "2021-11-20T17:32:52.110Z"
   },
   {
    "duration": 305,
    "start_time": "2021-11-20T17:33:59.858Z"
   },
   {
    "duration": 317,
    "start_time": "2021-11-20T17:34:10.632Z"
   },
   {
    "duration": 3,
    "start_time": "2021-11-20T17:34:36.531Z"
   },
   {
    "duration": 3,
    "start_time": "2021-11-20T17:34:38.261Z"
   },
   {
    "duration": 5,
    "start_time": "2021-11-20T17:34:40.792Z"
   },
   {
    "duration": 4,
    "start_time": "2021-11-20T17:34:43.056Z"
   },
   {
    "duration": 6,
    "start_time": "2021-11-20T17:34:45.054Z"
   },
   {
    "duration": 4,
    "start_time": "2021-11-20T17:34:46.835Z"
   },
   {
    "duration": 4,
    "start_time": "2021-11-20T17:34:48.804Z"
   },
   {
    "duration": 353,
    "start_time": "2021-11-20T17:34:57.489Z"
   },
   {
    "duration": 136,
    "start_time": "2021-11-20T17:35:20.702Z"
   },
   {
    "duration": 5,
    "start_time": "2021-11-20T17:35:30.590Z"
   },
   {
    "duration": 6,
    "start_time": "2021-11-20T17:35:31.848Z"
   },
   {
    "duration": 5,
    "start_time": "2021-11-20T17:35:34.465Z"
   },
   {
    "duration": 51,
    "start_time": "2021-11-20T17:35:56.588Z"
   },
   {
    "duration": 52,
    "start_time": "2021-11-20T17:36:07.646Z"
   },
   {
    "duration": 6,
    "start_time": "2021-11-20T17:36:21.736Z"
   },
   {
    "duration": 7,
    "start_time": "2021-11-20T17:36:24.769Z"
   },
   {
    "duration": 5,
    "start_time": "2021-11-20T17:36:30.284Z"
   },
   {
    "duration": 28,
    "start_time": "2021-11-20T17:36:42.001Z"
   },
   {
    "duration": 33,
    "start_time": "2021-11-20T17:36:50.526Z"
   },
   {
    "duration": 26,
    "start_time": "2021-11-20T17:36:51.242Z"
   },
   {
    "duration": 30,
    "start_time": "2021-11-20T17:36:51.933Z"
   },
   {
    "duration": 43,
    "start_time": "2021-11-20T17:36:54.005Z"
   },
   {
    "duration": 35,
    "start_time": "2021-11-20T17:36:54.592Z"
   },
   {
    "duration": 46,
    "start_time": "2021-11-20T17:37:00.505Z"
   },
   {
    "duration": 123,
    "start_time": "2021-11-20T17:37:30.041Z"
   },
   {
    "duration": 120,
    "start_time": "2021-11-20T17:37:35.501Z"
   },
   {
    "duration": 133,
    "start_time": "2021-11-20T17:37:38.680Z"
   },
   {
    "duration": 123,
    "start_time": "2021-11-20T17:37:50.228Z"
   },
   {
    "duration": 303,
    "start_time": "2021-11-21T09:25:05.066Z"
   },
   {
    "duration": 654,
    "start_time": "2021-11-21T09:25:22.868Z"
   },
   {
    "duration": 152,
    "start_time": "2021-11-21T09:25:23.524Z"
   },
   {
    "duration": 18,
    "start_time": "2021-11-21T09:25:23.678Z"
   },
   {
    "duration": 33,
    "start_time": "2021-11-21T09:25:23.699Z"
   },
   {
    "duration": 12,
    "start_time": "2021-11-21T09:25:23.734Z"
   },
   {
    "duration": 61,
    "start_time": "2021-11-21T09:25:23.747Z"
   },
   {
    "duration": 19,
    "start_time": "2021-11-21T09:25:23.809Z"
   },
   {
    "duration": 71,
    "start_time": "2021-11-21T09:25:23.830Z"
   },
   {
    "duration": 38,
    "start_time": "2021-11-21T09:25:23.903Z"
   },
   {
    "duration": 43,
    "start_time": "2021-11-21T09:25:23.943Z"
   },
   {
    "duration": 80,
    "start_time": "2021-11-21T09:25:23.988Z"
   },
   {
    "duration": 68,
    "start_time": "2021-11-21T09:25:24.070Z"
   },
   {
    "duration": 70,
    "start_time": "2021-11-21T09:25:24.140Z"
   },
   {
    "duration": 7,
    "start_time": "2021-11-21T09:25:24.212Z"
   },
   {
    "duration": 21,
    "start_time": "2021-11-21T09:25:24.221Z"
   },
   {
    "duration": 42,
    "start_time": "2021-11-21T09:25:24.244Z"
   },
   {
    "duration": 24,
    "start_time": "2021-11-21T09:25:24.287Z"
   },
   {
    "duration": 29,
    "start_time": "2021-11-21T09:25:24.313Z"
   },
   {
    "duration": 22,
    "start_time": "2021-11-21T09:25:24.344Z"
   },
   {
    "duration": 25,
    "start_time": "2021-11-21T09:25:24.368Z"
   },
   {
    "duration": 75,
    "start_time": "2021-11-21T09:25:24.394Z"
   },
   {
    "duration": 19,
    "start_time": "2021-11-21T09:25:24.471Z"
   },
   {
    "duration": 44,
    "start_time": "2021-11-21T09:25:24.494Z"
   },
   {
    "duration": 44,
    "start_time": "2021-11-21T09:25:24.541Z"
   },
   {
    "duration": 37,
    "start_time": "2021-11-21T09:25:24.587Z"
   },
   {
    "duration": 30,
    "start_time": "2021-11-21T09:25:24.626Z"
   },
   {
    "duration": 99,
    "start_time": "2021-11-21T09:25:24.658Z"
   },
   {
    "duration": 12,
    "start_time": "2021-11-21T09:25:28.132Z"
   },
   {
    "duration": 35,
    "start_time": "2021-11-21T09:26:01.400Z"
   },
   {
    "duration": 18,
    "start_time": "2021-11-21T09:36:07.574Z"
   },
   {
    "duration": 19,
    "start_time": "2021-11-21T09:41:20.503Z"
   },
   {
    "duration": 15,
    "start_time": "2021-11-21T09:41:36.520Z"
   },
   {
    "duration": 15,
    "start_time": "2021-11-21T09:42:15.596Z"
   },
   {
    "duration": 461,
    "start_time": "2021-11-21T09:46:32.588Z"
   },
   {
    "duration": 18,
    "start_time": "2021-11-21T09:47:00.154Z"
   },
   {
    "duration": 16,
    "start_time": "2021-11-21T10:02:54.905Z"
   },
   {
    "duration": 17,
    "start_time": "2021-11-21T10:03:24.570Z"
   },
   {
    "duration": 17,
    "start_time": "2021-11-21T10:04:31.016Z"
   },
   {
    "duration": 16,
    "start_time": "2021-11-21T10:04:40.581Z"
   },
   {
    "duration": 17,
    "start_time": "2021-11-21T10:13:43.063Z"
   },
   {
    "duration": 556,
    "start_time": "2021-11-21T10:14:12.108Z"
   },
   {
    "duration": 138,
    "start_time": "2021-11-21T10:14:12.666Z"
   },
   {
    "duration": 16,
    "start_time": "2021-11-21T10:14:12.806Z"
   },
   {
    "duration": 7,
    "start_time": "2021-11-21T10:14:12.824Z"
   },
   {
    "duration": 11,
    "start_time": "2021-11-21T10:14:12.832Z"
   },
   {
    "duration": 36,
    "start_time": "2021-11-21T10:14:12.844Z"
   },
   {
    "duration": 5,
    "start_time": "2021-11-21T10:14:12.882Z"
   },
   {
    "duration": 25,
    "start_time": "2021-11-21T10:14:12.890Z"
   },
   {
    "duration": 47,
    "start_time": "2021-11-21T10:14:12.917Z"
   },
   {
    "duration": 25,
    "start_time": "2021-11-21T10:14:12.965Z"
   },
   {
    "duration": 72,
    "start_time": "2021-11-21T10:14:12.992Z"
   },
   {
    "duration": 77,
    "start_time": "2021-11-21T10:14:13.066Z"
   },
   {
    "duration": 63,
    "start_time": "2021-11-21T10:14:13.145Z"
   },
   {
    "duration": 7,
    "start_time": "2021-11-21T10:14:13.210Z"
   },
   {
    "duration": 5,
    "start_time": "2021-11-21T10:14:13.218Z"
   },
   {
    "duration": 11,
    "start_time": "2021-11-21T10:14:13.225Z"
   },
   {
    "duration": 30,
    "start_time": "2021-11-21T10:14:13.237Z"
   },
   {
    "duration": 12,
    "start_time": "2021-11-21T10:14:13.268Z"
   },
   {
    "duration": 11,
    "start_time": "2021-11-21T10:14:13.281Z"
   },
   {
    "duration": 3,
    "start_time": "2021-11-21T10:14:13.293Z"
   },
   {
    "duration": 27,
    "start_time": "2021-11-21T10:14:13.298Z"
   },
   {
    "duration": 46,
    "start_time": "2021-11-21T10:14:13.327Z"
   },
   {
    "duration": 21,
    "start_time": "2021-11-21T10:14:13.375Z"
   },
   {
    "duration": 22,
    "start_time": "2021-11-21T10:14:13.398Z"
   },
   {
    "duration": 58,
    "start_time": "2021-11-21T10:14:13.423Z"
   },
   {
    "duration": 24,
    "start_time": "2021-11-21T10:14:13.483Z"
   },
   {
    "duration": 107,
    "start_time": "2021-11-21T10:14:13.509Z"
   },
   {
    "duration": 11,
    "start_time": "2021-11-21T10:14:13.618Z"
   },
   {
    "duration": 13,
    "start_time": "2021-11-21T10:14:13.630Z"
   },
   {
    "duration": 4,
    "start_time": "2021-11-21T10:14:13.645Z"
   },
   {
    "duration": 14,
    "start_time": "2021-11-21T10:14:16.634Z"
   },
   {
    "duration": 11,
    "start_time": "2021-11-21T10:14:56.516Z"
   },
   {
    "duration": 16,
    "start_time": "2021-11-21T10:15:39.130Z"
   },
   {
    "duration": 13,
    "start_time": "2021-11-21T10:16:18.878Z"
   },
   {
    "duration": 830,
    "start_time": "2021-11-21T10:22:54.260Z"
   },
   {
    "duration": 142,
    "start_time": "2021-11-21T10:22:55.092Z"
   },
   {
    "duration": 18,
    "start_time": "2021-11-21T10:22:55.236Z"
   },
   {
    "duration": 5,
    "start_time": "2021-11-21T10:22:55.264Z"
   },
   {
    "duration": 6,
    "start_time": "2021-11-21T10:22:55.270Z"
   },
   {
    "duration": 23,
    "start_time": "2021-11-21T10:22:55.277Z"
   },
   {
    "duration": 4,
    "start_time": "2021-11-21T10:22:55.302Z"
   },
   {
    "duration": 56,
    "start_time": "2021-11-21T10:22:55.307Z"
   },
   {
    "duration": 25,
    "start_time": "2021-11-21T10:22:55.367Z"
   },
   {
    "duration": 32,
    "start_time": "2021-11-21T10:22:55.395Z"
   },
   {
    "duration": 78,
    "start_time": "2021-11-21T10:22:55.428Z"
   },
   {
    "duration": 88,
    "start_time": "2021-11-21T10:22:55.507Z"
   },
   {
    "duration": 74,
    "start_time": "2021-11-21T10:22:55.597Z"
   },
   {
    "duration": 6,
    "start_time": "2021-11-21T10:22:55.673Z"
   },
   {
    "duration": 3,
    "start_time": "2021-11-21T10:22:55.681Z"
   },
   {
    "duration": 13,
    "start_time": "2021-11-21T10:22:55.686Z"
   },
   {
    "duration": 9,
    "start_time": "2021-11-21T10:22:55.701Z"
   },
   {
    "duration": 12,
    "start_time": "2021-11-21T10:22:55.712Z"
   },
   {
    "duration": 40,
    "start_time": "2021-11-21T10:22:55.726Z"
   },
   {
    "duration": 4,
    "start_time": "2021-11-21T10:22:55.768Z"
   },
   {
    "duration": 25,
    "start_time": "2021-11-21T10:22:55.774Z"
   },
   {
    "duration": 14,
    "start_time": "2021-11-21T10:22:55.801Z"
   },
   {
    "duration": 17,
    "start_time": "2021-11-21T10:22:55.817Z"
   },
   {
    "duration": 43,
    "start_time": "2021-11-21T10:22:55.835Z"
   },
   {
    "duration": 20,
    "start_time": "2021-11-21T10:22:55.880Z"
   },
   {
    "duration": 16,
    "start_time": "2021-11-21T10:22:55.902Z"
   },
   {
    "duration": 117,
    "start_time": "2021-11-21T10:22:55.921Z"
   },
   {
    "duration": 10,
    "start_time": "2021-11-21T10:22:56.040Z"
   },
   {
    "duration": 19,
    "start_time": "2021-11-21T10:22:56.052Z"
   },
   {
    "duration": 5,
    "start_time": "2021-11-21T10:22:56.074Z"
   },
   {
    "duration": 28,
    "start_time": "2021-11-21T10:22:56.080Z"
   },
   {
    "duration": 10,
    "start_time": "2021-11-21T10:22:56.110Z"
   },
   {
    "duration": 14,
    "start_time": "2021-11-21T10:22:56.122Z"
   },
   {
    "duration": 14,
    "start_time": "2021-11-21T10:22:58.205Z"
   },
   {
    "duration": 10,
    "start_time": "2021-11-21T10:22:59.588Z"
   },
   {
    "duration": 555,
    "start_time": "2021-11-21T10:23:48.502Z"
   },
   {
    "duration": 133,
    "start_time": "2021-11-21T10:23:49.058Z"
   },
   {
    "duration": 16,
    "start_time": "2021-11-21T10:23:49.193Z"
   },
   {
    "duration": 4,
    "start_time": "2021-11-21T10:23:49.211Z"
   },
   {
    "duration": 8,
    "start_time": "2021-11-21T10:23:49.217Z"
   },
   {
    "duration": 21,
    "start_time": "2021-11-21T10:23:49.227Z"
   },
   {
    "duration": 14,
    "start_time": "2021-11-21T10:23:49.251Z"
   },
   {
    "duration": 24,
    "start_time": "2021-11-21T10:23:49.268Z"
   },
   {
    "duration": 26,
    "start_time": "2021-11-21T10:23:49.294Z"
   },
   {
    "duration": 23,
    "start_time": "2021-11-21T10:23:49.322Z"
   },
   {
    "duration": 74,
    "start_time": "2021-11-21T10:23:49.347Z"
   },
   {
    "duration": 74,
    "start_time": "2021-11-21T10:23:49.423Z"
   },
   {
    "duration": 54,
    "start_time": "2021-11-21T10:23:49.499Z"
   },
   {
    "duration": 6,
    "start_time": "2021-11-21T10:23:49.564Z"
   },
   {
    "duration": 10,
    "start_time": "2021-11-21T10:23:49.572Z"
   },
   {
    "duration": 19,
    "start_time": "2021-11-21T10:23:49.584Z"
   },
   {
    "duration": 11,
    "start_time": "2021-11-21T10:23:49.604Z"
   },
   {
    "duration": 11,
    "start_time": "2021-11-21T10:23:49.617Z"
   },
   {
    "duration": 10,
    "start_time": "2021-11-21T10:23:49.630Z"
   },
   {
    "duration": 21,
    "start_time": "2021-11-21T10:23:49.642Z"
   },
   {
    "duration": 28,
    "start_time": "2021-11-21T10:23:49.665Z"
   },
   {
    "duration": 18,
    "start_time": "2021-11-21T10:23:49.695Z"
   },
   {
    "duration": 18,
    "start_time": "2021-11-21T10:23:49.716Z"
   },
   {
    "duration": 40,
    "start_time": "2021-11-21T10:23:49.736Z"
   },
   {
    "duration": 22,
    "start_time": "2021-11-21T10:23:49.778Z"
   },
   {
    "duration": 15,
    "start_time": "2021-11-21T10:23:49.802Z"
   },
   {
    "duration": 109,
    "start_time": "2021-11-21T10:23:49.819Z"
   },
   {
    "duration": 11,
    "start_time": "2021-11-21T10:23:49.930Z"
   },
   {
    "duration": 21,
    "start_time": "2021-11-21T10:23:49.942Z"
   },
   {
    "duration": 3,
    "start_time": "2021-11-21T10:23:52.852Z"
   },
   {
    "duration": 18,
    "start_time": "2021-11-21T10:23:55.047Z"
   },
   {
    "duration": 14,
    "start_time": "2021-11-21T10:23:57.230Z"
   },
   {
    "duration": 17,
    "start_time": "2021-11-21T10:23:59.846Z"
   },
   {
    "duration": 14,
    "start_time": "2021-11-21T10:24:01.337Z"
   },
   {
    "duration": 3,
    "start_time": "2021-11-21T10:29:23.881Z"
   },
   {
    "duration": 606,
    "start_time": "2021-11-21T10:29:54.654Z"
   },
   {
    "duration": 240,
    "start_time": "2021-11-21T10:30:55.428Z"
   },
   {
    "duration": 262,
    "start_time": "2021-11-21T10:32:09.130Z"
   },
   {
    "duration": 248,
    "start_time": "2021-11-21T10:32:22.749Z"
   },
   {
    "duration": 4,
    "start_time": "2021-11-21T10:33:08.213Z"
   },
   {
    "duration": 601,
    "start_time": "2021-11-21T10:33:36.757Z"
   },
   {
    "duration": 143,
    "start_time": "2021-11-21T10:33:37.360Z"
   },
   {
    "duration": 17,
    "start_time": "2021-11-21T10:33:37.505Z"
   },
   {
    "duration": 29,
    "start_time": "2021-11-21T10:33:37.524Z"
   },
   {
    "duration": 8,
    "start_time": "2021-11-21T10:33:37.555Z"
   },
   {
    "duration": 26,
    "start_time": "2021-11-21T10:33:37.564Z"
   },
   {
    "duration": 5,
    "start_time": "2021-11-21T10:33:37.592Z"
   },
   {
    "duration": 24,
    "start_time": "2021-11-21T10:33:37.600Z"
   },
   {
    "duration": 40,
    "start_time": "2021-11-21T10:33:37.625Z"
   },
   {
    "duration": 23,
    "start_time": "2021-11-21T10:33:37.666Z"
   },
   {
    "duration": 73,
    "start_time": "2021-11-21T10:33:37.691Z"
   },
   {
    "duration": 67,
    "start_time": "2021-11-21T10:33:37.766Z"
   },
   {
    "duration": 63,
    "start_time": "2021-11-21T10:33:37.835Z"
   },
   {
    "duration": 6,
    "start_time": "2021-11-21T10:33:37.900Z"
   },
   {
    "duration": 3,
    "start_time": "2021-11-21T10:33:37.908Z"
   },
   {
    "duration": 12,
    "start_time": "2021-11-21T10:33:37.912Z"
   },
   {
    "duration": 8,
    "start_time": "2021-11-21T10:33:37.926Z"
   },
   {
    "duration": 33,
    "start_time": "2021-11-21T10:33:37.936Z"
   },
   {
    "duration": 11,
    "start_time": "2021-11-21T10:33:37.971Z"
   },
   {
    "duration": 3,
    "start_time": "2021-11-21T10:33:37.984Z"
   },
   {
    "duration": 29,
    "start_time": "2021-11-21T10:33:37.988Z"
   },
   {
    "duration": 15,
    "start_time": "2021-11-21T10:33:38.019Z"
   },
   {
    "duration": 43,
    "start_time": "2021-11-21T10:33:38.038Z"
   },
   {
    "duration": 17,
    "start_time": "2021-11-21T10:33:38.083Z"
   },
   {
    "duration": 22,
    "start_time": "2021-11-21T10:33:38.102Z"
   },
   {
    "duration": 48,
    "start_time": "2021-11-21T10:33:38.125Z"
   },
   {
    "duration": 99,
    "start_time": "2021-11-21T10:33:38.174Z"
   },
   {
    "duration": 11,
    "start_time": "2021-11-21T10:33:38.274Z"
   },
   {
    "duration": 9,
    "start_time": "2021-11-21T10:33:38.286Z"
   },
   {
    "duration": 4,
    "start_time": "2021-11-21T10:33:38.296Z"
   },
   {
    "duration": 25,
    "start_time": "2021-11-21T10:33:38.302Z"
   },
   {
    "duration": 35,
    "start_time": "2021-11-21T10:33:38.329Z"
   },
   {
    "duration": 17,
    "start_time": "2021-11-21T10:33:38.366Z"
   },
   {
    "duration": 13,
    "start_time": "2021-11-21T10:33:38.385Z"
   },
   {
    "duration": 12,
    "start_time": "2021-11-21T10:33:38.399Z"
   },
   {
    "duration": 19,
    "start_time": "2021-11-21T10:33:59.618Z"
   },
   {
    "duration": 9,
    "start_time": "2021-11-21T10:35:40.663Z"
   },
   {
    "duration": 11,
    "start_time": "2021-11-21T10:35:54.588Z"
   },
   {
    "duration": 8,
    "start_time": "2021-11-21T10:36:20.681Z"
   },
   {
    "duration": 4,
    "start_time": "2021-11-21T10:37:08.042Z"
   },
   {
    "duration": 285,
    "start_time": "2021-11-21T10:38:53.691Z"
   },
   {
    "duration": 6,
    "start_time": "2021-11-21T10:39:00.192Z"
   },
   {
    "duration": 5,
    "start_time": "2021-11-21T10:39:04.569Z"
   },
   {
    "duration": 747,
    "start_time": "2021-11-21T16:41:12.978Z"
   },
   {
    "duration": 194,
    "start_time": "2021-11-21T16:41:13.727Z"
   },
   {
    "duration": 34,
    "start_time": "2021-11-21T16:41:13.924Z"
   },
   {
    "duration": 8,
    "start_time": "2021-11-21T16:41:13.961Z"
   },
   {
    "duration": 11,
    "start_time": "2021-11-21T16:41:13.972Z"
   },
   {
    "duration": 57,
    "start_time": "2021-11-21T16:41:13.986Z"
   },
   {
    "duration": 6,
    "start_time": "2021-11-21T16:41:14.046Z"
   },
   {
    "duration": 31,
    "start_time": "2021-11-21T16:41:14.056Z"
   },
   {
    "duration": 49,
    "start_time": "2021-11-21T16:41:14.090Z"
   },
   {
    "duration": 29,
    "start_time": "2021-11-21T16:41:14.141Z"
   },
   {
    "duration": 122,
    "start_time": "2021-11-21T16:41:14.173Z"
   },
   {
    "duration": 121,
    "start_time": "2021-11-21T16:41:14.298Z"
   },
   {
    "duration": 86,
    "start_time": "2021-11-21T16:41:14.421Z"
   },
   {
    "duration": 22,
    "start_time": "2021-11-21T16:41:14.510Z"
   },
   {
    "duration": 4,
    "start_time": "2021-11-21T16:41:14.535Z"
   },
   {
    "duration": 21,
    "start_time": "2021-11-21T16:41:14.542Z"
   },
   {
    "duration": 30,
    "start_time": "2021-11-21T16:41:14.565Z"
   },
   {
    "duration": 34,
    "start_time": "2021-11-21T16:41:14.597Z"
   },
   {
    "duration": 16,
    "start_time": "2021-11-21T16:41:14.634Z"
   },
   {
    "duration": 4,
    "start_time": "2021-11-21T16:41:14.653Z"
   },
   {
    "duration": 39,
    "start_time": "2021-11-21T16:41:14.659Z"
   },
   {
    "duration": 47,
    "start_time": "2021-11-21T16:41:14.700Z"
   },
   {
    "duration": 24,
    "start_time": "2021-11-21T16:41:14.752Z"
   },
   {
    "duration": 51,
    "start_time": "2021-11-21T16:41:14.779Z"
   },
   {
    "duration": 28,
    "start_time": "2021-11-21T16:41:14.833Z"
   },
   {
    "duration": 23,
    "start_time": "2021-11-21T16:41:14.863Z"
   },
   {
    "duration": 160,
    "start_time": "2021-11-21T16:41:14.889Z"
   },
   {
    "duration": 15,
    "start_time": "2021-11-21T16:41:15.051Z"
   },
   {
    "duration": 13,
    "start_time": "2021-11-21T16:41:15.069Z"
   },
   {
    "duration": 6,
    "start_time": "2021-11-21T16:41:15.085Z"
   },
   {
    "duration": 55,
    "start_time": "2021-11-21T16:41:15.093Z"
   },
   {
    "duration": 16,
    "start_time": "2021-11-21T16:41:15.151Z"
   },
   {
    "duration": 22,
    "start_time": "2021-11-21T16:41:15.169Z"
   },
   {
    "duration": 47,
    "start_time": "2021-11-21T16:41:15.194Z"
   },
   {
    "duration": 11,
    "start_time": "2021-11-21T16:41:15.243Z"
   },
   {
    "duration": 18,
    "start_time": "2021-11-21T16:41:15.256Z"
   },
   {
    "duration": 11,
    "start_time": "2021-11-21T16:41:15.276Z"
   },
   {
    "duration": 40,
    "start_time": "2021-11-21T16:41:15.289Z"
   },
   {
    "duration": 131,
    "start_time": "2021-11-21T17:47:20.224Z"
   },
   {
    "duration": 127,
    "start_time": "2021-11-21T17:47:23.594Z"
   },
   {
    "duration": 133,
    "start_time": "2021-11-21T17:47:54.374Z"
   },
   {
    "duration": 126,
    "start_time": "2021-11-21T17:51:41.308Z"
   },
   {
    "duration": 135,
    "start_time": "2021-11-21T17:51:50.781Z"
   },
   {
    "duration": 124,
    "start_time": "2021-11-21T17:52:13.374Z"
   },
   {
    "duration": 15,
    "start_time": "2021-11-21T18:02:01.317Z"
   },
   {
    "duration": 789,
    "start_time": "2021-11-21T18:22:25.632Z"
   },
   {
    "duration": 187,
    "start_time": "2021-11-21T18:22:26.428Z"
   },
   {
    "duration": 25,
    "start_time": "2021-11-21T18:22:26.618Z"
   },
   {
    "duration": 9,
    "start_time": "2021-11-21T18:22:26.645Z"
   },
   {
    "duration": 7,
    "start_time": "2021-11-21T18:22:26.656Z"
   },
   {
    "duration": 29,
    "start_time": "2021-11-21T18:22:26.665Z"
   },
   {
    "duration": 35,
    "start_time": "2021-11-21T18:22:26.696Z"
   },
   {
    "duration": 32,
    "start_time": "2021-11-21T18:22:26.735Z"
   },
   {
    "duration": 23,
    "start_time": "2021-11-21T18:22:26.770Z"
   },
   {
    "duration": 54,
    "start_time": "2021-11-21T18:22:26.795Z"
   },
   {
    "duration": 102,
    "start_time": "2021-11-21T18:22:26.852Z"
   },
   {
    "duration": 112,
    "start_time": "2021-11-21T18:22:26.956Z"
   },
   {
    "duration": 86,
    "start_time": "2021-11-21T18:22:27.070Z"
   },
   {
    "duration": 9,
    "start_time": "2021-11-21T18:22:27.159Z"
   },
   {
    "duration": 5,
    "start_time": "2021-11-21T18:22:27.171Z"
   },
   {
    "duration": 17,
    "start_time": "2021-11-21T18:22:27.179Z"
   },
   {
    "duration": 44,
    "start_time": "2021-11-21T18:22:27.198Z"
   },
   {
    "duration": 15,
    "start_time": "2021-11-21T18:22:27.244Z"
   },
   {
    "duration": 14,
    "start_time": "2021-11-21T18:22:27.261Z"
   },
   {
    "duration": 5,
    "start_time": "2021-11-21T18:22:27.277Z"
   },
   {
    "duration": 69,
    "start_time": "2021-11-21T18:22:27.284Z"
   },
   {
    "duration": 20,
    "start_time": "2021-11-21T18:22:27.356Z"
   },
   {
    "duration": 21,
    "start_time": "2021-11-21T18:22:27.381Z"
   },
   {
    "duration": 42,
    "start_time": "2021-11-21T18:22:27.405Z"
   },
   {
    "duration": 26,
    "start_time": "2021-11-21T18:22:27.449Z"
   },
   {
    "duration": 53,
    "start_time": "2021-11-21T18:22:27.477Z"
   },
   {
    "duration": 128,
    "start_time": "2021-11-21T18:22:27.533Z"
   },
   {
    "duration": 14,
    "start_time": "2021-11-21T18:22:27.663Z"
   },
   {
    "duration": 12,
    "start_time": "2021-11-21T18:22:27.679Z"
   },
   {
    "duration": 5,
    "start_time": "2021-11-21T18:22:27.693Z"
   },
   {
    "duration": 24,
    "start_time": "2021-11-21T18:22:27.729Z"
   },
   {
    "duration": 16,
    "start_time": "2021-11-21T18:22:27.756Z"
   },
   {
    "duration": 22,
    "start_time": "2021-11-21T18:22:27.775Z"
   },
   {
    "duration": 16,
    "start_time": "2021-11-21T18:22:27.829Z"
   },
   {
    "duration": 11,
    "start_time": "2021-11-21T18:22:27.848Z"
   },
   {
    "duration": 6,
    "start_time": "2021-11-21T18:22:27.862Z"
   },
   {
    "duration": 12,
    "start_time": "2021-11-21T18:22:27.870Z"
   },
   {
    "duration": 7,
    "start_time": "2021-11-21T18:22:27.885Z"
   },
   {
    "duration": 271,
    "start_time": "2021-11-22T11:46:53.123Z"
   },
   {
    "duration": 567,
    "start_time": "2021-11-22T11:47:01.873Z"
   },
   {
    "duration": 133,
    "start_time": "2021-11-22T11:47:02.442Z"
   },
   {
    "duration": 16,
    "start_time": "2021-11-22T11:47:02.577Z"
   },
   {
    "duration": 8,
    "start_time": "2021-11-22T11:47:02.595Z"
   },
   {
    "duration": 15,
    "start_time": "2021-11-22T11:49:55.227Z"
   },
   {
    "duration": 14,
    "start_time": "2021-11-22T11:50:09.811Z"
   },
   {
    "duration": 619,
    "start_time": "2021-11-22T11:50:45.953Z"
   },
   {
    "duration": 145,
    "start_time": "2021-11-22T11:50:46.574Z"
   },
   {
    "duration": 16,
    "start_time": "2021-11-22T11:50:46.722Z"
   },
   {
    "duration": 10,
    "start_time": "2021-11-22T11:50:46.749Z"
   },
   {
    "duration": 5,
    "start_time": "2021-11-22T11:50:46.761Z"
   },
   {
    "duration": 22,
    "start_time": "2021-11-22T11:50:46.768Z"
   },
   {
    "duration": 6,
    "start_time": "2021-11-22T11:50:46.792Z"
   },
   {
    "duration": 24,
    "start_time": "2021-11-22T11:50:46.800Z"
   },
   {
    "duration": 23,
    "start_time": "2021-11-22T11:50:46.845Z"
   },
   {
    "duration": 23,
    "start_time": "2021-11-22T11:50:46.869Z"
   },
   {
    "duration": 80,
    "start_time": "2021-11-22T11:50:46.894Z"
   },
   {
    "duration": 79,
    "start_time": "2021-11-22T11:50:46.976Z"
   },
   {
    "duration": 53,
    "start_time": "2021-11-22T11:50:47.059Z"
   },
   {
    "duration": 7,
    "start_time": "2021-11-22T11:50:47.113Z"
   },
   {
    "duration": 4,
    "start_time": "2021-11-22T11:50:47.121Z"
   },
   {
    "duration": 38,
    "start_time": "2021-11-22T11:50:47.127Z"
   },
   {
    "duration": 11,
    "start_time": "2021-11-22T11:50:47.167Z"
   },
   {
    "duration": 12,
    "start_time": "2021-11-22T11:50:47.179Z"
   },
   {
    "duration": 11,
    "start_time": "2021-11-22T11:50:47.193Z"
   },
   {
    "duration": 5,
    "start_time": "2021-11-22T11:50:47.205Z"
   },
   {
    "duration": 61,
    "start_time": "2021-11-22T11:50:47.212Z"
   },
   {
    "duration": 18,
    "start_time": "2021-11-22T11:50:47.275Z"
   },
   {
    "duration": 19,
    "start_time": "2021-11-22T11:50:47.296Z"
   },
   {
    "duration": 48,
    "start_time": "2021-11-22T11:50:47.317Z"
   },
   {
    "duration": 20,
    "start_time": "2021-11-22T11:50:47.367Z"
   },
   {
    "duration": 53,
    "start_time": "2021-11-22T11:50:47.389Z"
   },
   {
    "duration": 102,
    "start_time": "2021-11-22T11:50:47.444Z"
   },
   {
    "duration": 15,
    "start_time": "2021-11-22T11:50:47.548Z"
   },
   {
    "duration": 10,
    "start_time": "2021-11-22T11:50:47.565Z"
   },
   {
    "duration": 4,
    "start_time": "2021-11-22T11:50:47.577Z"
   },
   {
    "duration": 27,
    "start_time": "2021-11-22T11:50:47.583Z"
   },
   {
    "duration": 34,
    "start_time": "2021-11-22T11:50:47.611Z"
   },
   {
    "duration": 19,
    "start_time": "2021-11-22T11:50:47.653Z"
   },
   {
    "duration": 12,
    "start_time": "2021-11-22T11:50:47.673Z"
   },
   {
    "duration": 7,
    "start_time": "2021-11-22T11:50:47.687Z"
   },
   {
    "duration": 7,
    "start_time": "2021-11-22T11:50:47.696Z"
   },
   {
    "duration": 9,
    "start_time": "2021-11-22T11:50:47.704Z"
   },
   {
    "duration": 4,
    "start_time": "2021-11-22T11:50:47.714Z"
   },
   {
    "duration": 660,
    "start_time": "2021-11-22T11:56:29.302Z"
   },
   {
    "duration": 146,
    "start_time": "2021-11-22T11:56:29.965Z"
   },
   {
    "duration": 17,
    "start_time": "2021-11-22T11:56:30.113Z"
   },
   {
    "duration": 14,
    "start_time": "2021-11-22T11:56:30.132Z"
   },
   {
    "duration": 10,
    "start_time": "2021-11-22T11:56:30.148Z"
   },
   {
    "duration": 29,
    "start_time": "2021-11-22T11:56:30.159Z"
   },
   {
    "duration": 24,
    "start_time": "2021-11-22T11:56:30.190Z"
   },
   {
    "duration": 39,
    "start_time": "2021-11-22T11:56:30.217Z"
   },
   {
    "duration": 18,
    "start_time": "2021-11-22T11:56:30.259Z"
   },
   {
    "duration": 26,
    "start_time": "2021-11-22T11:56:30.279Z"
   },
   {
    "duration": 64,
    "start_time": "2021-11-22T11:56:30.307Z"
   },
   {
    "duration": 101,
    "start_time": "2021-11-22T11:56:30.373Z"
   },
   {
    "duration": 54,
    "start_time": "2021-11-22T11:56:30.476Z"
   },
   {
    "duration": 50,
    "start_time": "2021-11-22T11:56:30.531Z"
   },
   {
    "duration": 3,
    "start_time": "2021-11-22T11:56:30.583Z"
   },
   {
    "duration": 24,
    "start_time": "2021-11-22T11:56:30.587Z"
   },
   {
    "duration": 18,
    "start_time": "2021-11-22T11:56:30.612Z"
   },
   {
    "duration": 19,
    "start_time": "2021-11-22T11:56:30.632Z"
   },
   {
    "duration": 16,
    "start_time": "2021-11-22T11:56:30.653Z"
   },
   {
    "duration": 4,
    "start_time": "2021-11-22T11:56:30.671Z"
   },
   {
    "duration": 43,
    "start_time": "2021-11-22T11:56:30.677Z"
   },
   {
    "duration": 22,
    "start_time": "2021-11-22T11:56:30.722Z"
   },
   {
    "duration": 23,
    "start_time": "2021-11-22T11:56:30.749Z"
   },
   {
    "duration": 27,
    "start_time": "2021-11-22T11:56:30.774Z"
   },
   {
    "duration": 22,
    "start_time": "2021-11-22T11:56:30.803Z"
   },
   {
    "duration": 40,
    "start_time": "2021-11-22T11:56:30.826Z"
   },
   {
    "duration": 112,
    "start_time": "2021-11-22T11:56:30.868Z"
   },
   {
    "duration": 10,
    "start_time": "2021-11-22T11:56:30.982Z"
   },
   {
    "duration": 28,
    "start_time": "2021-11-22T11:56:30.994Z"
   },
   {
    "duration": 9,
    "start_time": "2021-11-22T11:56:31.024Z"
   },
   {
    "duration": 31,
    "start_time": "2021-11-22T11:56:31.035Z"
   },
   {
    "duration": 15,
    "start_time": "2021-11-22T11:56:31.068Z"
   },
   {
    "duration": 18,
    "start_time": "2021-11-22T11:56:31.084Z"
   },
   {
    "duration": 11,
    "start_time": "2021-11-22T11:56:31.104Z"
   },
   {
    "duration": 28,
    "start_time": "2021-11-22T11:56:31.117Z"
   },
   {
    "duration": 5,
    "start_time": "2021-11-22T11:56:31.148Z"
   },
   {
    "duration": 14,
    "start_time": "2021-11-22T11:56:31.155Z"
   },
   {
    "duration": 5,
    "start_time": "2021-11-22T11:56:31.171Z"
   },
   {
    "duration": 9,
    "start_time": "2021-11-22T11:57:39.053Z"
   },
   {
    "duration": 52,
    "start_time": "2021-11-22T12:00:53.232Z"
   },
   {
    "duration": 3,
    "start_time": "2021-11-22T12:04:13.657Z"
   },
   {
    "duration": 609,
    "start_time": "2021-11-22T12:08:45.108Z"
   },
   {
    "duration": 137,
    "start_time": "2021-11-22T12:08:45.719Z"
   },
   {
    "duration": 15,
    "start_time": "2021-11-22T12:08:45.858Z"
   },
   {
    "duration": 10,
    "start_time": "2021-11-22T12:08:45.875Z"
   },
   {
    "duration": 6,
    "start_time": "2021-11-22T12:08:45.886Z"
   },
   {
    "duration": 19,
    "start_time": "2021-11-22T12:08:45.894Z"
   },
   {
    "duration": 7,
    "start_time": "2021-11-22T12:08:45.915Z"
   },
   {
    "duration": 41,
    "start_time": "2021-11-22T12:08:45.925Z"
   },
   {
    "duration": 16,
    "start_time": "2021-11-22T12:08:45.969Z"
   },
   {
    "duration": 21,
    "start_time": "2021-11-22T12:08:45.987Z"
   },
   {
    "duration": 85,
    "start_time": "2021-11-22T12:08:46.010Z"
   },
   {
    "duration": 80,
    "start_time": "2021-11-22T12:08:46.096Z"
   },
   {
    "duration": 52,
    "start_time": "2021-11-22T12:08:46.178Z"
   },
   {
    "duration": 48,
    "start_time": "2021-11-22T12:08:46.232Z"
   },
   {
    "duration": 2,
    "start_time": "2021-11-22T12:08:46.282Z"
   },
   {
    "duration": 11,
    "start_time": "2021-11-22T12:08:46.286Z"
   },
   {
    "duration": 60,
    "start_time": "2021-11-22T12:08:46.298Z"
   },
   {
    "duration": 11,
    "start_time": "2021-11-22T12:08:46.359Z"
   },
   {
    "duration": 10,
    "start_time": "2021-11-22T12:08:46.372Z"
   },
   {
    "duration": 3,
    "start_time": "2021-11-22T12:08:46.383Z"
   },
   {
    "duration": 25,
    "start_time": "2021-11-22T12:08:46.388Z"
   },
   {
    "duration": 41,
    "start_time": "2021-11-22T12:08:46.415Z"
   },
   {
    "duration": 18,
    "start_time": "2021-11-22T12:08:46.459Z"
   },
   {
    "duration": 17,
    "start_time": "2021-11-22T12:08:46.480Z"
   },
   {
    "duration": 46,
    "start_time": "2021-11-22T12:08:46.499Z"
   },
   {
    "duration": 19,
    "start_time": "2021-11-22T12:08:46.547Z"
   },
   {
    "duration": 102,
    "start_time": "2021-11-22T12:08:46.567Z"
   },
   {
    "duration": 10,
    "start_time": "2021-11-22T12:08:46.671Z"
   },
   {
    "duration": 8,
    "start_time": "2021-11-22T12:08:46.683Z"
   },
   {
    "duration": 5,
    "start_time": "2021-11-22T12:08:46.693Z"
   },
   {
    "duration": 44,
    "start_time": "2021-11-22T12:08:46.700Z"
   },
   {
    "duration": 13,
    "start_time": "2021-11-22T12:08:46.746Z"
   },
   {
    "duration": 16,
    "start_time": "2021-11-22T12:08:46.761Z"
   },
   {
    "duration": 11,
    "start_time": "2021-11-22T12:08:46.779Z"
   },
   {
    "duration": 7,
    "start_time": "2021-11-22T12:08:46.792Z"
   },
   {
    "duration": 4,
    "start_time": "2021-11-22T12:08:46.801Z"
   },
   {
    "duration": 41,
    "start_time": "2021-11-22T12:08:46.807Z"
   },
   {
    "duration": 7,
    "start_time": "2021-11-22T12:08:46.849Z"
   },
   {
    "duration": 522,
    "start_time": "2021-11-22T18:38:11.746Z"
   },
   {
    "duration": 136,
    "start_time": "2021-11-22T18:38:12.270Z"
   },
   {
    "duration": 16,
    "start_time": "2021-11-22T18:38:12.409Z"
   },
   {
    "duration": 8,
    "start_time": "2021-11-22T18:38:12.427Z"
   },
   {
    "duration": 6,
    "start_time": "2021-11-22T18:38:12.436Z"
   },
   {
    "duration": 21,
    "start_time": "2021-11-22T18:38:12.443Z"
   },
   {
    "duration": 26,
    "start_time": "2021-11-22T18:38:12.466Z"
   },
   {
    "duration": 23,
    "start_time": "2021-11-22T18:38:12.495Z"
   },
   {
    "duration": 17,
    "start_time": "2021-11-22T18:38:12.520Z"
   },
   {
    "duration": 21,
    "start_time": "2021-11-22T18:38:12.538Z"
   },
   {
    "duration": 81,
    "start_time": "2021-11-22T18:38:12.560Z"
   },
   {
    "duration": 79,
    "start_time": "2021-11-22T18:38:12.643Z"
   },
   {
    "duration": 49,
    "start_time": "2021-11-22T18:38:12.724Z"
   },
   {
    "duration": 52,
    "start_time": "2021-11-22T18:38:12.775Z"
   },
   {
    "duration": 4,
    "start_time": "2021-11-22T18:38:12.829Z"
   },
   {
    "duration": 12,
    "start_time": "2021-11-22T18:38:12.835Z"
   },
   {
    "duration": 55,
    "start_time": "2021-11-22T18:38:12.849Z"
   },
   {
    "duration": 12,
    "start_time": "2021-11-22T18:38:12.906Z"
   },
   {
    "duration": 12,
    "start_time": "2021-11-22T18:38:12.920Z"
   },
   {
    "duration": 4,
    "start_time": "2021-11-22T18:38:12.934Z"
   },
   {
    "duration": 52,
    "start_time": "2021-11-22T18:38:12.940Z"
   },
   {
    "duration": 17,
    "start_time": "2021-11-22T18:38:12.994Z"
   },
   {
    "duration": 17,
    "start_time": "2021-11-22T18:38:13.014Z"
   },
   {
    "duration": 15,
    "start_time": "2021-11-22T18:38:13.032Z"
   },
   {
    "duration": 44,
    "start_time": "2021-11-22T18:38:13.048Z"
   },
   {
    "duration": 17,
    "start_time": "2021-11-22T18:38:13.094Z"
   },
   {
    "duration": 98,
    "start_time": "2021-11-22T18:38:13.113Z"
   },
   {
    "duration": 10,
    "start_time": "2021-11-22T18:38:13.213Z"
   },
   {
    "duration": 8,
    "start_time": "2021-11-22T18:38:13.224Z"
   },
   {
    "duration": 4,
    "start_time": "2021-11-22T18:38:13.233Z"
   },
   {
    "duration": 22,
    "start_time": "2021-11-22T18:38:13.239Z"
   },
   {
    "duration": 36,
    "start_time": "2021-11-22T18:38:13.262Z"
   },
   {
    "duration": 15,
    "start_time": "2021-11-22T18:38:13.300Z"
   },
   {
    "duration": 11,
    "start_time": "2021-11-22T18:38:13.316Z"
   },
   {
    "duration": 7,
    "start_time": "2021-11-22T18:38:13.328Z"
   },
   {
    "duration": 4,
    "start_time": "2021-11-22T18:38:13.337Z"
   },
   {
    "duration": 8,
    "start_time": "2021-11-22T18:38:13.342Z"
   },
   {
    "duration": 4,
    "start_time": "2021-11-22T18:38:13.351Z"
   },
   {
    "duration": 433,
    "start_time": "2022-08-02T13:45:43.147Z"
   },
   {
    "duration": 237,
    "start_time": "2022-08-02T13:45:43.582Z"
   },
   {
    "duration": 17,
    "start_time": "2022-08-02T13:45:43.822Z"
   },
   {
    "duration": 7,
    "start_time": "2022-08-02T13:45:43.841Z"
   },
   {
    "duration": 5,
    "start_time": "2022-08-02T13:45:43.851Z"
   },
   {
    "duration": 15,
    "start_time": "2022-08-02T13:45:43.857Z"
   },
   {
    "duration": 6,
    "start_time": "2022-08-02T13:45:43.873Z"
   },
   {
    "duration": 29,
    "start_time": "2022-08-02T13:45:43.881Z"
   },
   {
    "duration": 39,
    "start_time": "2022-08-02T13:45:43.912Z"
   },
   {
    "duration": 24,
    "start_time": "2022-08-02T13:45:43.953Z"
   },
   {
    "duration": 87,
    "start_time": "2022-08-02T13:45:43.979Z"
   },
   {
    "duration": 86,
    "start_time": "2022-08-02T13:45:44.068Z"
   },
   {
    "duration": 60,
    "start_time": "2022-08-02T13:45:44.156Z"
   },
   {
    "duration": 61,
    "start_time": "2022-08-02T13:45:44.220Z"
   },
   {
    "duration": 3,
    "start_time": "2022-08-02T13:45:44.284Z"
   },
   {
    "duration": 22,
    "start_time": "2022-08-02T13:45:44.289Z"
   },
   {
    "duration": 58,
    "start_time": "2022-08-02T13:45:44.314Z"
   },
   {
    "duration": 13,
    "start_time": "2022-08-02T13:45:44.374Z"
   },
   {
    "duration": 13,
    "start_time": "2022-08-02T13:45:44.389Z"
   },
   {
    "duration": 5,
    "start_time": "2022-08-02T13:45:44.404Z"
   },
   {
    "duration": 36,
    "start_time": "2022-08-02T13:45:44.438Z"
   },
   {
    "duration": 62,
    "start_time": "2022-08-02T13:45:44.476Z"
   },
   {
    "duration": 35,
    "start_time": "2022-08-02T13:45:44.540Z"
   },
   {
    "duration": 18,
    "start_time": "2022-08-02T13:45:44.577Z"
   },
   {
    "duration": 108,
    "start_time": "2022-08-02T13:45:44.597Z"
   },
   {
    "duration": 38,
    "start_time": "2022-08-02T13:46:13.099Z"
   },
   {
    "duration": 40,
    "start_time": "2022-08-02T13:46:22.570Z"
   },
   {
    "duration": 37,
    "start_time": "2022-08-02T13:46:23.240Z"
   }
  ],
  "colab": {
   "collapsed_sections": [
    "E0vqbgi9ay0H",
    "VUC88oWjTJw2"
   ],
   "name": "yandex_music_project_2021.2.ipynb",
   "provenance": []
  },
  "kernelspec": {
   "display_name": "Python 3 (ipykernel)",
   "language": "python",
   "name": "python3"
  },
  "language_info": {
   "codemirror_mode": {
    "name": "ipython",
    "version": 3
   },
   "file_extension": ".py",
   "mimetype": "text/x-python",
   "name": "python",
   "nbconvert_exporter": "python",
   "pygments_lexer": "ipython3",
   "version": "3.9.5"
  },
  "toc": {
   "base_numbering": 1,
   "nav_menu": {},
   "number_sections": true,
   "sideBar": true,
   "skip_h1_title": true,
   "title_cell": "Table of Contents",
   "title_sidebar": "Contents",
   "toc_cell": false,
   "toc_position": {
    "height": "calc(100% - 180px)",
    "left": "10px",
    "top": "150px",
    "width": "165px"
   },
   "toc_section_display": true,
   "toc_window_display": true
  }
 },
 "nbformat": 4,
 "nbformat_minor": 1
}
