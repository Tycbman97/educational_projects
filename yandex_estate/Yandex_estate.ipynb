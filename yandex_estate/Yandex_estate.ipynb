{
 "cells": [
  {
   "cell_type": "markdown",
   "metadata": {
    "toc": true
   },
   "source": [
    "<h1>Содержание<span class=\"tocSkip\"></span></h1>\n",
    "<div class=\"toc\"><ul class=\"toc-item\"><li><span><a href=\"#Обзор-данных\" data-toc-modified-id=\"Обзор-данных-1\"><span class=\"toc-item-num\">1&nbsp;&nbsp;</span>Обзор данных</a></span></li><li><span><a href=\"#Предобработка-данных\" data-toc-modified-id=\"Предобработка-данных-2\"><span class=\"toc-item-num\">2&nbsp;&nbsp;</span>Предобработка данных</a></span><ul class=\"toc-item\"><li><span><a href=\"#Обработка-некорректных-данных\" data-toc-modified-id=\"Обработка-некорректных-данных-2.1\"><span class=\"toc-item-num\">2.1&nbsp;&nbsp;</span>Обработка некорректных данных</a></span></li><li><span><a href=\"#Обработка-пропусков\" data-toc-modified-id=\"Обработка-пропусков-2.2\"><span class=\"toc-item-num\">2.2&nbsp;&nbsp;</span>Обработка пропусков</a></span></li><li><span><a href=\"#Замена-типа-данных\" data-toc-modified-id=\"Замена-типа-данных-2.3\"><span class=\"toc-item-num\">2.3&nbsp;&nbsp;</span>Замена типа данных</a></span></li><li><span><a href=\"#Вывод\" data-toc-modified-id=\"Вывод-2.4\"><span class=\"toc-item-num\">2.4&nbsp;&nbsp;</span>Вывод</a></span></li></ul></li><li><span><a href=\"#Расчёты-и-добавление-результатов-в-таблицу\" data-toc-modified-id=\"Расчёты-и-добавление-результатов-в-таблицу-3\"><span class=\"toc-item-num\">3&nbsp;&nbsp;</span>Расчёты и добавление результатов в таблицу</a></span><ul class=\"toc-item\"><li><span><a href=\"#Расчет-цены-за-квадратный-метр\" data-toc-modified-id=\"Расчет-цены-за-квадратный-метр-3.1\"><span class=\"toc-item-num\">3.1&nbsp;&nbsp;</span>Расчет цены за квадратный метр</a></span></li><li><span><a href=\"#Представление-даты-как-день-недели,-месяц,-год\" data-toc-modified-id=\"Представление-даты-как-день-недели,-месяц,-год-3.2\"><span class=\"toc-item-num\">3.2&nbsp;&nbsp;</span>Представление даты как день недели, месяц, год</a></span></li><li><span><a href=\"#Категоризация-этажей\" data-toc-modified-id=\"Категоризация-этажей-3.3\"><span class=\"toc-item-num\">3.3&nbsp;&nbsp;</span>Категоризация этажей</a></span></li><li><span><a href=\"#Отношение-площадей\" data-toc-modified-id=\"Отношение-площадей-3.4\"><span class=\"toc-item-num\">3.4&nbsp;&nbsp;</span>Отношение площадей</a></span></li><li><span><a href=\"#Вывод\" data-toc-modified-id=\"Вывод-3.5\"><span class=\"toc-item-num\">3.5&nbsp;&nbsp;</span>Вывод</a></span></li></ul></li><li><span><a href=\"#Исследовательский-анализ-данных\" data-toc-modified-id=\"Исследовательский-анализ-данных-4\"><span class=\"toc-item-num\">4&nbsp;&nbsp;</span>Исследовательский анализ данных</a></span><ul class=\"toc-item\"><li><span><a href=\"#Параметры:-площадь,-цена,-число-комнат-и-высота-потолков\" data-toc-modified-id=\"Параметры:-площадь,-цена,-число-комнат-и-высота-потолков-4.1\"><span class=\"toc-item-num\">4.1&nbsp;&nbsp;</span>Параметры: площадь, цена, число комнат и высота потолков</a></span><ul class=\"toc-item\"><li><span><a href=\"#Цена\" data-toc-modified-id=\"Цена-4.1.1\"><span class=\"toc-item-num\">4.1.1&nbsp;&nbsp;</span>Цена</a></span></li><li><span><a href=\"#Площадь\" data-toc-modified-id=\"Площадь-4.1.2\"><span class=\"toc-item-num\">4.1.2&nbsp;&nbsp;</span>Площадь</a></span></li><li><span><a href=\"#Число-комнат\" data-toc-modified-id=\"Число-комнат-4.1.3\"><span class=\"toc-item-num\">4.1.3&nbsp;&nbsp;</span>Число комнат</a></span></li><li><span><a href=\"#Высота-потолков\" data-toc-modified-id=\"Высота-потолков-4.1.4\"><span class=\"toc-item-num\">4.1.4&nbsp;&nbsp;</span>Высота потолков</a></span></li><li><span><a href=\"#Вывод\" data-toc-modified-id=\"Вывод-4.1.5\"><span class=\"toc-item-num\">4.1.5&nbsp;&nbsp;</span>Вывод</a></span></li></ul></li><li><span><a href=\"#Время-продажи\" data-toc-modified-id=\"Время-продажи-4.2\"><span class=\"toc-item-num\">4.2&nbsp;&nbsp;</span>Время продажи</a></span></li><li><span><a href=\"#Выбросы\" data-toc-modified-id=\"Выбросы-4.3\"><span class=\"toc-item-num\">4.3&nbsp;&nbsp;</span>Выбросы</a></span><ul class=\"toc-item\"><li><span><a href=\"#Цена\" data-toc-modified-id=\"Цена-4.3.1\"><span class=\"toc-item-num\">4.3.1&nbsp;&nbsp;</span>Цена</a></span></li><li><span><a href=\"#Площадь\" data-toc-modified-id=\"Площадь-4.3.2\"><span class=\"toc-item-num\">4.3.2&nbsp;&nbsp;</span>Площадь</a></span></li><li><span><a href=\"#Число-комнат\" data-toc-modified-id=\"Число-комнат-4.3.3\"><span class=\"toc-item-num\">4.3.3&nbsp;&nbsp;</span>Число комнат</a></span></li><li><span><a href=\"#Высота-потолков\" data-toc-modified-id=\"Высота-потолков-4.3.4\"><span class=\"toc-item-num\">4.3.4&nbsp;&nbsp;</span>Высота потолков</a></span></li><li><span><a href=\"#Время-продажи\" data-toc-modified-id=\"Время-продажи-4.3.5\"><span class=\"toc-item-num\">4.3.5&nbsp;&nbsp;</span>Время продажи</a></span></li><li><span><a href=\"#Вывод\" data-toc-modified-id=\"Вывод-4.3.6\"><span class=\"toc-item-num\">4.3.6&nbsp;&nbsp;</span>Вывод</a></span></li></ul></li><li><span><a href=\"#Влияние-на-цену-квартиры\" data-toc-modified-id=\"Влияние-на-цену-квартиры-4.4\"><span class=\"toc-item-num\">4.4&nbsp;&nbsp;</span>Влияние на цену квартиры</a></span><ul class=\"toc-item\"><li><span><a href=\"#Факторы-влияния:-площадь,-количество-комнат,-этаж,-расстояние-до-центра\" data-toc-modified-id=\"Факторы-влияния:-площадь,-количество-комнат,-этаж,-расстояние-до-центра-4.4.1\"><span class=\"toc-item-num\">4.4.1&nbsp;&nbsp;</span>Факторы влияния: площадь, количество комнат, этаж, расстояние до центра</a></span></li><li><span><a href=\"#Фактор-влияния-на-цену:-дата-размещения\" data-toc-modified-id=\"Фактор-влияния-на-цену:-дата-размещения-4.4.2\"><span class=\"toc-item-num\">4.4.2&nbsp;&nbsp;</span>Фактор влияния на цену: дата размещения</a></span></li></ul></li><li><span><a href=\"#Топ-10:-населенные-пункты\" data-toc-modified-id=\"Топ-10:-населенные-пункты-4.5\"><span class=\"toc-item-num\">4.5&nbsp;&nbsp;</span>Топ-10: населенные пункты</a></span></li><li><span><a href=\"#Область,-входящия-в-центр\" data-toc-modified-id=\"Область,-входящия-в-центр-4.6\"><span class=\"toc-item-num\">4.6&nbsp;&nbsp;</span>Область, входящия в центр</a></span></li><li><span><a href=\"#Анализ-квартир-в-центре\" data-toc-modified-id=\"Анализ-квартир-в-центре-4.7\"><span class=\"toc-item-num\">4.7&nbsp;&nbsp;</span>Анализ квартир в центре</a></span></li></ul></li><li><span><a href=\"#Вывод-исследования-недвижимости\" data-toc-modified-id=\"Вывод-исследования-недвижимости-5\"><span class=\"toc-item-num\">5&nbsp;&nbsp;</span>Вывод исследования недвижимости</a></span></li></ul></div>"
   ]
  },
  {
   "cell_type": "markdown",
   "metadata": {},
   "source": [
    "# Исследование объявлений о продаже квартир\n",
    "\n",
    "В вашем распоряжении данные сервиса Яндекс.Недвижимость — архив объявлений о продаже квартир в Санкт-Петербурге и соседних населённых пунктах за несколько лет. Нужно научиться определять рыночную стоимость объектов недвижимости. Ваша задача — установить параметры. Это позволит построить автоматизированную систему: она отследит аномалии и мошенническую деятельность. \n",
    "\n",
    "\n",
    "**Цель исследования: по каждой квартире на продажу доступны два вида данных. Первые вписаны пользователем, вторые получены автоматически на основе картографических данных. Например, расстояние до центра, аэропорта, ближайшего парка и водоёма.**\n",
    "\n",
    "**Ход исследования**\n",
    "\n",
    "Данные для исследования в файле real_estate_data.csv . О качестве данных ничего не известно. Поэтому перед\n",
    "тем, чтобы начать исследование, понадобится обзор данных.\n",
    "\n",
    "Проверим данные на ошибки и оценим их влияние на исследование. Затем, на этапе предобработки мы\n",
    "поищем возможность исправить самые критичные ошибки данных.\n",
    "\n",
    "Таким образом, исследование пройдёт в три этапа:\n",
    "1. Обзор данных.\n",
    "2. Предобработка данных.\n",
    "3. Расчеты и добавление результатов в таблицу.\n",
    "4. Исследовательский анализ.\n",
    "5. Общий вывод о проделанной работе."
   ]
  },
  {
   "cell_type": "markdown",
   "metadata": {},
   "source": [
    "## Обзор данных"
   ]
  },
  {
   "cell_type": "markdown",
   "metadata": {},
   "source": [
    "Составим общее впечатление о данных недвижимости."
   ]
  },
  {
   "cell_type": "markdown",
   "metadata": {},
   "source": [
    "Импорт библиотек."
   ]
  },
  {
   "cell_type": "code",
   "execution_count": 1,
   "metadata": {},
   "outputs": [],
   "source": [
    "# импорт библиотеки pandas\n",
    "import pandas as pd\n",
    "# импорт библиотеки numpy\n",
    "import numpy as np\n",
    "# импорт библиотеки matplotlib\n",
    "import matplotlib.pyplot as plt"
   ]
  },
  {
   "cell_type": "markdown",
   "metadata": {},
   "source": [
    "Прочитаем файл `real_estate_data.csv` из папки `/datasets` и сохраним его в переменной `df`, указав в качестве разделителя знак табуляции: \\t."
   ]
  },
  {
   "cell_type": "code",
   "execution_count": 2,
   "metadata": {},
   "outputs": [],
   "source": [
    "# чтение файла с данными и сохранение в df, разделитель: \\t\n",
    "yandex_estate  = pd.read_csv('/datasets/real_estate_data.csv', sep='\\t')"
   ]
  },
  {
   "cell_type": "markdown",
   "metadata": {},
   "source": [
    "Выведем на экран первые 10 строк таблицы."
   ]
  },
  {
   "cell_type": "code",
   "execution_count": 3,
   "metadata": {},
   "outputs": [
    {
     "data": {
      "text/html": [
       "<div>\n",
       "<style scoped>\n",
       "    .dataframe tbody tr th:only-of-type {\n",
       "        vertical-align: middle;\n",
       "    }\n",
       "\n",
       "    .dataframe tbody tr th {\n",
       "        vertical-align: top;\n",
       "    }\n",
       "\n",
       "    .dataframe thead th {\n",
       "        text-align: right;\n",
       "    }\n",
       "</style>\n",
       "<table border=\"1\" class=\"dataframe\">\n",
       "  <thead>\n",
       "    <tr style=\"text-align: right;\">\n",
       "      <th></th>\n",
       "      <th>total_images</th>\n",
       "      <th>last_price</th>\n",
       "      <th>total_area</th>\n",
       "      <th>first_day_exposition</th>\n",
       "      <th>rooms</th>\n",
       "      <th>ceiling_height</th>\n",
       "      <th>floors_total</th>\n",
       "      <th>living_area</th>\n",
       "      <th>floor</th>\n",
       "      <th>is_apartment</th>\n",
       "      <th>...</th>\n",
       "      <th>kitchen_area</th>\n",
       "      <th>balcony</th>\n",
       "      <th>locality_name</th>\n",
       "      <th>airports_nearest</th>\n",
       "      <th>cityCenters_nearest</th>\n",
       "      <th>parks_around3000</th>\n",
       "      <th>parks_nearest</th>\n",
       "      <th>ponds_around3000</th>\n",
       "      <th>ponds_nearest</th>\n",
       "      <th>days_exposition</th>\n",
       "    </tr>\n",
       "  </thead>\n",
       "  <tbody>\n",
       "    <tr>\n",
       "      <th>0</th>\n",
       "      <td>20</td>\n",
       "      <td>13000000.0</td>\n",
       "      <td>108.00</td>\n",
       "      <td>2019-03-07T00:00:00</td>\n",
       "      <td>3</td>\n",
       "      <td>2.70</td>\n",
       "      <td>16.0</td>\n",
       "      <td>51.00</td>\n",
       "      <td>8</td>\n",
       "      <td>NaN</td>\n",
       "      <td>...</td>\n",
       "      <td>25.00</td>\n",
       "      <td>NaN</td>\n",
       "      <td>Санкт-Петербург</td>\n",
       "      <td>18863.0</td>\n",
       "      <td>16028.0</td>\n",
       "      <td>1.0</td>\n",
       "      <td>482.0</td>\n",
       "      <td>2.0</td>\n",
       "      <td>755.0</td>\n",
       "      <td>NaN</td>\n",
       "    </tr>\n",
       "    <tr>\n",
       "      <th>1</th>\n",
       "      <td>7</td>\n",
       "      <td>3350000.0</td>\n",
       "      <td>40.40</td>\n",
       "      <td>2018-12-04T00:00:00</td>\n",
       "      <td>1</td>\n",
       "      <td>NaN</td>\n",
       "      <td>11.0</td>\n",
       "      <td>18.60</td>\n",
       "      <td>1</td>\n",
       "      <td>NaN</td>\n",
       "      <td>...</td>\n",
       "      <td>11.00</td>\n",
       "      <td>2.0</td>\n",
       "      <td>посёлок Шушары</td>\n",
       "      <td>12817.0</td>\n",
       "      <td>18603.0</td>\n",
       "      <td>0.0</td>\n",
       "      <td>NaN</td>\n",
       "      <td>0.0</td>\n",
       "      <td>NaN</td>\n",
       "      <td>81.0</td>\n",
       "    </tr>\n",
       "    <tr>\n",
       "      <th>2</th>\n",
       "      <td>10</td>\n",
       "      <td>5196000.0</td>\n",
       "      <td>56.00</td>\n",
       "      <td>2015-08-20T00:00:00</td>\n",
       "      <td>2</td>\n",
       "      <td>NaN</td>\n",
       "      <td>5.0</td>\n",
       "      <td>34.30</td>\n",
       "      <td>4</td>\n",
       "      <td>NaN</td>\n",
       "      <td>...</td>\n",
       "      <td>8.30</td>\n",
       "      <td>0.0</td>\n",
       "      <td>Санкт-Петербург</td>\n",
       "      <td>21741.0</td>\n",
       "      <td>13933.0</td>\n",
       "      <td>1.0</td>\n",
       "      <td>90.0</td>\n",
       "      <td>2.0</td>\n",
       "      <td>574.0</td>\n",
       "      <td>558.0</td>\n",
       "    </tr>\n",
       "    <tr>\n",
       "      <th>3</th>\n",
       "      <td>0</td>\n",
       "      <td>64900000.0</td>\n",
       "      <td>159.00</td>\n",
       "      <td>2015-07-24T00:00:00</td>\n",
       "      <td>3</td>\n",
       "      <td>NaN</td>\n",
       "      <td>14.0</td>\n",
       "      <td>NaN</td>\n",
       "      <td>9</td>\n",
       "      <td>NaN</td>\n",
       "      <td>...</td>\n",
       "      <td>NaN</td>\n",
       "      <td>0.0</td>\n",
       "      <td>Санкт-Петербург</td>\n",
       "      <td>28098.0</td>\n",
       "      <td>6800.0</td>\n",
       "      <td>2.0</td>\n",
       "      <td>84.0</td>\n",
       "      <td>3.0</td>\n",
       "      <td>234.0</td>\n",
       "      <td>424.0</td>\n",
       "    </tr>\n",
       "    <tr>\n",
       "      <th>4</th>\n",
       "      <td>2</td>\n",
       "      <td>10000000.0</td>\n",
       "      <td>100.00</td>\n",
       "      <td>2018-06-19T00:00:00</td>\n",
       "      <td>2</td>\n",
       "      <td>3.03</td>\n",
       "      <td>14.0</td>\n",
       "      <td>32.00</td>\n",
       "      <td>13</td>\n",
       "      <td>NaN</td>\n",
       "      <td>...</td>\n",
       "      <td>41.00</td>\n",
       "      <td>NaN</td>\n",
       "      <td>Санкт-Петербург</td>\n",
       "      <td>31856.0</td>\n",
       "      <td>8098.0</td>\n",
       "      <td>2.0</td>\n",
       "      <td>112.0</td>\n",
       "      <td>1.0</td>\n",
       "      <td>48.0</td>\n",
       "      <td>121.0</td>\n",
       "    </tr>\n",
       "    <tr>\n",
       "      <th>5</th>\n",
       "      <td>10</td>\n",
       "      <td>2890000.0</td>\n",
       "      <td>30.40</td>\n",
       "      <td>2018-09-10T00:00:00</td>\n",
       "      <td>1</td>\n",
       "      <td>NaN</td>\n",
       "      <td>12.0</td>\n",
       "      <td>14.40</td>\n",
       "      <td>5</td>\n",
       "      <td>NaN</td>\n",
       "      <td>...</td>\n",
       "      <td>9.10</td>\n",
       "      <td>NaN</td>\n",
       "      <td>городской посёлок Янино-1</td>\n",
       "      <td>NaN</td>\n",
       "      <td>NaN</td>\n",
       "      <td>NaN</td>\n",
       "      <td>NaN</td>\n",
       "      <td>NaN</td>\n",
       "      <td>NaN</td>\n",
       "      <td>55.0</td>\n",
       "    </tr>\n",
       "    <tr>\n",
       "      <th>6</th>\n",
       "      <td>6</td>\n",
       "      <td>3700000.0</td>\n",
       "      <td>37.30</td>\n",
       "      <td>2017-11-02T00:00:00</td>\n",
       "      <td>1</td>\n",
       "      <td>NaN</td>\n",
       "      <td>26.0</td>\n",
       "      <td>10.60</td>\n",
       "      <td>6</td>\n",
       "      <td>NaN</td>\n",
       "      <td>...</td>\n",
       "      <td>14.40</td>\n",
       "      <td>1.0</td>\n",
       "      <td>посёлок Парголово</td>\n",
       "      <td>52996.0</td>\n",
       "      <td>19143.0</td>\n",
       "      <td>0.0</td>\n",
       "      <td>NaN</td>\n",
       "      <td>0.0</td>\n",
       "      <td>NaN</td>\n",
       "      <td>155.0</td>\n",
       "    </tr>\n",
       "    <tr>\n",
       "      <th>7</th>\n",
       "      <td>5</td>\n",
       "      <td>7915000.0</td>\n",
       "      <td>71.60</td>\n",
       "      <td>2019-04-18T00:00:00</td>\n",
       "      <td>2</td>\n",
       "      <td>NaN</td>\n",
       "      <td>24.0</td>\n",
       "      <td>NaN</td>\n",
       "      <td>22</td>\n",
       "      <td>NaN</td>\n",
       "      <td>...</td>\n",
       "      <td>18.90</td>\n",
       "      <td>2.0</td>\n",
       "      <td>Санкт-Петербург</td>\n",
       "      <td>23982.0</td>\n",
       "      <td>11634.0</td>\n",
       "      <td>0.0</td>\n",
       "      <td>NaN</td>\n",
       "      <td>0.0</td>\n",
       "      <td>NaN</td>\n",
       "      <td>NaN</td>\n",
       "    </tr>\n",
       "    <tr>\n",
       "      <th>8</th>\n",
       "      <td>20</td>\n",
       "      <td>2900000.0</td>\n",
       "      <td>33.16</td>\n",
       "      <td>2018-05-23T00:00:00</td>\n",
       "      <td>1</td>\n",
       "      <td>NaN</td>\n",
       "      <td>27.0</td>\n",
       "      <td>15.43</td>\n",
       "      <td>26</td>\n",
       "      <td>NaN</td>\n",
       "      <td>...</td>\n",
       "      <td>8.81</td>\n",
       "      <td>NaN</td>\n",
       "      <td>посёлок Мурино</td>\n",
       "      <td>NaN</td>\n",
       "      <td>NaN</td>\n",
       "      <td>NaN</td>\n",
       "      <td>NaN</td>\n",
       "      <td>NaN</td>\n",
       "      <td>NaN</td>\n",
       "      <td>189.0</td>\n",
       "    </tr>\n",
       "    <tr>\n",
       "      <th>9</th>\n",
       "      <td>18</td>\n",
       "      <td>5400000.0</td>\n",
       "      <td>61.00</td>\n",
       "      <td>2017-02-26T00:00:00</td>\n",
       "      <td>3</td>\n",
       "      <td>2.50</td>\n",
       "      <td>9.0</td>\n",
       "      <td>43.60</td>\n",
       "      <td>7</td>\n",
       "      <td>NaN</td>\n",
       "      <td>...</td>\n",
       "      <td>6.50</td>\n",
       "      <td>2.0</td>\n",
       "      <td>Санкт-Петербург</td>\n",
       "      <td>50898.0</td>\n",
       "      <td>15008.0</td>\n",
       "      <td>0.0</td>\n",
       "      <td>NaN</td>\n",
       "      <td>0.0</td>\n",
       "      <td>NaN</td>\n",
       "      <td>289.0</td>\n",
       "    </tr>\n",
       "  </tbody>\n",
       "</table>\n",
       "<p>10 rows × 22 columns</p>\n",
       "</div>"
      ],
      "text/plain": [
       "   total_images  last_price  total_area first_day_exposition  rooms  \\\n",
       "0            20  13000000.0      108.00  2019-03-07T00:00:00      3   \n",
       "1             7   3350000.0       40.40  2018-12-04T00:00:00      1   \n",
       "2            10   5196000.0       56.00  2015-08-20T00:00:00      2   \n",
       "3             0  64900000.0      159.00  2015-07-24T00:00:00      3   \n",
       "4             2  10000000.0      100.00  2018-06-19T00:00:00      2   \n",
       "5            10   2890000.0       30.40  2018-09-10T00:00:00      1   \n",
       "6             6   3700000.0       37.30  2017-11-02T00:00:00      1   \n",
       "7             5   7915000.0       71.60  2019-04-18T00:00:00      2   \n",
       "8            20   2900000.0       33.16  2018-05-23T00:00:00      1   \n",
       "9            18   5400000.0       61.00  2017-02-26T00:00:00      3   \n",
       "\n",
       "   ceiling_height  floors_total  living_area  floor is_apartment  ...  \\\n",
       "0            2.70          16.0        51.00      8          NaN  ...   \n",
       "1             NaN          11.0        18.60      1          NaN  ...   \n",
       "2             NaN           5.0        34.30      4          NaN  ...   \n",
       "3             NaN          14.0          NaN      9          NaN  ...   \n",
       "4            3.03          14.0        32.00     13          NaN  ...   \n",
       "5             NaN          12.0        14.40      5          NaN  ...   \n",
       "6             NaN          26.0        10.60      6          NaN  ...   \n",
       "7             NaN          24.0          NaN     22          NaN  ...   \n",
       "8             NaN          27.0        15.43     26          NaN  ...   \n",
       "9            2.50           9.0        43.60      7          NaN  ...   \n",
       "\n",
       "   kitchen_area  balcony              locality_name  airports_nearest  \\\n",
       "0         25.00      NaN            Санкт-Петербург           18863.0   \n",
       "1         11.00      2.0             посёлок Шушары           12817.0   \n",
       "2          8.30      0.0            Санкт-Петербург           21741.0   \n",
       "3           NaN      0.0            Санкт-Петербург           28098.0   \n",
       "4         41.00      NaN            Санкт-Петербург           31856.0   \n",
       "5          9.10      NaN  городской посёлок Янино-1               NaN   \n",
       "6         14.40      1.0          посёлок Парголово           52996.0   \n",
       "7         18.90      2.0            Санкт-Петербург           23982.0   \n",
       "8          8.81      NaN             посёлок Мурино               NaN   \n",
       "9          6.50      2.0            Санкт-Петербург           50898.0   \n",
       "\n",
       "  cityCenters_nearest  parks_around3000  parks_nearest  ponds_around3000  \\\n",
       "0             16028.0               1.0          482.0               2.0   \n",
       "1             18603.0               0.0            NaN               0.0   \n",
       "2             13933.0               1.0           90.0               2.0   \n",
       "3              6800.0               2.0           84.0               3.0   \n",
       "4              8098.0               2.0          112.0               1.0   \n",
       "5                 NaN               NaN            NaN               NaN   \n",
       "6             19143.0               0.0            NaN               0.0   \n",
       "7             11634.0               0.0            NaN               0.0   \n",
       "8                 NaN               NaN            NaN               NaN   \n",
       "9             15008.0               0.0            NaN               0.0   \n",
       "\n",
       "   ponds_nearest  days_exposition  \n",
       "0          755.0              NaN  \n",
       "1            NaN             81.0  \n",
       "2          574.0            558.0  \n",
       "3          234.0            424.0  \n",
       "4           48.0            121.0  \n",
       "5            NaN             55.0  \n",
       "6            NaN            155.0  \n",
       "7            NaN              NaN  \n",
       "8            NaN            189.0  \n",
       "9            NaN            289.0  \n",
       "\n",
       "[10 rows x 22 columns]"
      ]
     },
     "execution_count": 3,
     "metadata": {},
     "output_type": "execute_result"
    }
   ],
   "source": [
    "# получение первых 10 строк таблицы df\n",
    "yandex_estate.head(10)"
   ]
  },
  {
   "cell_type": "markdown",
   "metadata": {},
   "source": [
    "Методами `info()`:"
   ]
  },
  {
   "cell_type": "code",
   "execution_count": 4,
   "metadata": {},
   "outputs": [
    {
     "name": "stdout",
     "output_type": "stream",
     "text": [
      "<class 'pandas.core.frame.DataFrame'>\n",
      "RangeIndex: 23699 entries, 0 to 23698\n",
      "Data columns (total 22 columns):\n",
      " #   Column                Non-Null Count  Dtype  \n",
      "---  ------                --------------  -----  \n",
      " 0   total_images          23699 non-null  int64  \n",
      " 1   last_price            23699 non-null  float64\n",
      " 2   total_area            23699 non-null  float64\n",
      " 3   first_day_exposition  23699 non-null  object \n",
      " 4   rooms                 23699 non-null  int64  \n",
      " 5   ceiling_height        14504 non-null  float64\n",
      " 6   floors_total          23613 non-null  float64\n",
      " 7   living_area           21796 non-null  float64\n",
      " 8   floor                 23699 non-null  int64  \n",
      " 9   is_apartment          2775 non-null   object \n",
      " 10  studio                23699 non-null  bool   \n",
      " 11  open_plan             23699 non-null  bool   \n",
      " 12  kitchen_area          21421 non-null  float64\n",
      " 13  balcony               12180 non-null  float64\n",
      " 14  locality_name         23650 non-null  object \n",
      " 15  airports_nearest      18157 non-null  float64\n",
      " 16  cityCenters_nearest   18180 non-null  float64\n",
      " 17  parks_around3000      18181 non-null  float64\n",
      " 18  parks_nearest         8079 non-null   float64\n",
      " 19  ponds_around3000      18181 non-null  float64\n",
      " 20  ponds_nearest         9110 non-null   float64\n",
      " 21  days_exposition       20518 non-null  float64\n",
      "dtypes: bool(2), float64(14), int64(3), object(3)\n",
      "memory usage: 3.7+ MB\n"
     ]
    }
   ],
   "source": [
    "# получение общей информации о данных в таблице df методом info()\n",
    "yandex_estate.info()"
   ]
  },
  {
   "cell_type": "markdown",
   "metadata": {},
   "source": [
    "Итак, в таблице 22 столбцов. Типы данных в столбцах : `int64`, `float64`, `object` и `bool`."
   ]
  },
  {
   "cell_type": "markdown",
   "metadata": {},
   "source": [
    "Согласно документации к данным:\n",
    "\n",
    "* `airports_nearest` — расстояние до ближайшего аэропорта в метрах (м)\n",
    "* `balcony` — число балконов\n",
    "* `ceiling_height` — высота потолков (м)\n",
    "* `cityCenters_nearest` — расстояние до центра города (м)\n",
    "* `days_exposition` — сколько дней было размещено объявление (от публикации до снятия)\n",
    "* `first_day_exposition` — дата публикации\n",
    "* `floor` — этаж\n",
    "* `floors_total` — всего этажей в доме\n",
    "* `is_apartment` — апартаменты (булев тип)\n",
    "* `kitchen_area` — площадь кухни в квадратных метрах (м²)\n",
    "* `last_price` — цена на момент снятия с публикации\n",
    "* `living_area` — жилая площадь в квадратных метрах (м²)\n",
    "* `locality_name` — название населённого пункта\n",
    "* `open_plan` — свободная планировка (булев тип)\n",
    "* `parks_around3000` — число парков в радиусе 3 км\n",
    "* `parks_nearest` — расстояние до ближайшего парка (м)\n",
    "* `ponds_around3000` — число водоёмов в радиусе 3 км\n",
    "* `ponds_nearest` — расстояние до ближайшего водоёма (м)\n",
    "* `rooms` — число комнат\n",
    "* `studio` — квартира-студия (булев тип)\n",
    "* `total_area` — площадь квартиры в квадратных метрах (м²)\n",
    "* `total_images` — число фотографий квартиры в объявлении\n",
    "\n",
    "В названии столбца`cityCenters_nearest` приведем название к змеином и нижнему регистру. Остальные названия записаны верно.\n",
    "Значения в столбце `first_day_exposition` приведем к читаемому формату времени.\n",
    "\n",
    "Количество значений в столбцах различается. Значит, в данных есть пропущенные значения."
   ]
  },
  {
   "cell_type": "markdown",
   "metadata": {},
   "source": [
    "**Выводы**"
   ]
  },
  {
   "cell_type": "markdown",
   "metadata": {},
   "source": [
    "В каждой строке таблицы предоставлена информация о недвижимостии, её отдаленности от тех или иных параметров (аэропорт, центр города, парки и водоемы).\n",
    "\n",
    "Предварительно, мы можем утверждать что данных достаточно для проведения исследования, но встречаются пропущенные значения, судить о происхождении которых с первого взгляда не получится. Для этого нужно привести данные в корректный вид и дальше проводить исследования."
   ]
  },
  {
   "cell_type": "markdown",
   "metadata": {},
   "source": [
    "## Предобработка данных"
   ]
  },
  {
   "cell_type": "markdown",
   "metadata": {},
   "source": [
    "### Обработка некорректных данных"
   ]
  },
  {
   "cell_type": "markdown",
   "metadata": {},
   "source": [
    "Изменим название столбцов:\n",
    "* `cityCenters_nearest` → `city_сenters_nearest`\n",
    "* `studio` → `is_studio`"
   ]
  },
  {
   "cell_type": "code",
   "execution_count": 5,
   "metadata": {
    "scrolled": true
   },
   "outputs": [],
   "source": [
    "# переименование столбца методом rename\n",
    "yandex_estate = yandex_estate.rename(columns = {'cityCenters_nearest':'city_сenters_nearest', 'studio': 'is_studio'})"
   ]
  },
  {
   "cell_type": "markdown",
   "metadata": {},
   "source": [
    "Переведем столбец `first_day_exposition` в формат времени:"
   ]
  },
  {
   "cell_type": "code",
   "execution_count": 6,
   "metadata": {},
   "outputs": [],
   "source": [
    "# переведем значения столбца 'first_day_exposition' из строки в дату и время\n",
    "yandex_estate['first_day_exposition'] = pd.to_datetime(yandex_estate['first_day_exposition'], format='%Y-%m-%dT%H:%M:%S')"
   ]
  },
  {
   "cell_type": "markdown",
   "metadata": {},
   "source": [
    "### Обработка пропусков"
   ]
  },
  {
   "cell_type": "markdown",
   "metadata": {},
   "source": [
    "Cначала посчитаем, сколько в таблице пропущенных значений. Для этого воспользуемся двумя методами `pandas`:"
   ]
  },
  {
   "cell_type": "code",
   "execution_count": 7,
   "metadata": {},
   "outputs": [
    {
     "data": {
      "text/plain": [
       "total_images                0\n",
       "last_price                  0\n",
       "total_area                  0\n",
       "first_day_exposition        0\n",
       "rooms                       0\n",
       "ceiling_height           9195\n",
       "floors_total               86\n",
       "living_area              1903\n",
       "floor                       0\n",
       "is_apartment            20924\n",
       "is_studio                   0\n",
       "open_plan                   0\n",
       "kitchen_area             2278\n",
       "balcony                 11519\n",
       "locality_name              49\n",
       "airports_nearest         5542\n",
       "city_сenters_nearest     5519\n",
       "parks_around3000         5518\n",
       "parks_nearest           15620\n",
       "ponds_around3000         5518\n",
       "ponds_nearest           14589\n",
       "days_exposition          3181\n",
       "dtype: int64"
      ]
     },
     "execution_count": 7,
     "metadata": {},
     "output_type": "execute_result"
    }
   ],
   "source": [
    "# подсчёт пропусков\n",
    "yandex_estate.isna().sum()"
   ]
  },
  {
   "cell_type": "markdown",
   "metadata": {},
   "source": [
    "Как мы видим, проспусков много, и с этим нужно разобраться.\n"
   ]
  },
  {
   "cell_type": "markdown",
   "metadata": {},
   "source": [
    "* `ceiling_height` (высота потолков): заменим пропущенные значения на медианное значение;\n",
    "* `floors_total` (всего этажей в доме): заменим на этаж, на котором расположена квартира, так как скорее всего не указано сколько этажей доме по принципу, что квартира расположена на последнем этаже;\n",
    "* `balcony` (количество балконов): пропущенные значения в данном случае скорее всего обозначают, что балкон отсутствует, то есть присвоим значение  0."
   ]
  },
  {
   "cell_type": "code",
   "execution_count": 8,
   "metadata": {},
   "outputs": [],
   "source": [
    "# циклом for перебираем ячейки в нужных нам столбцах,\n",
    "# если в этой ячейке значение NaN, то перезаписываем NaN соотв. значением\n",
    "\n",
    "for i in range(len(yandex_estate)):\n",
    "    if np.isnan(yandex_estate.loc[i, 'ceiling_height']):\n",
    "        yandex_estate.loc[i, 'ceiling_height'] = yandex_estate['ceiling_height'].median()\n",
    "    if np.isnan(yandex_estate.loc[i, 'floors_total']):\n",
    "        yandex_estate.loc[i, 'floors_total'] = yandex_estate.loc[i, 'floor']\n",
    "    if np.isnan(yandex_estate.loc[i, 'balcony']):\n",
    "        yandex_estate.loc[i, 'balcony'] = 0"
   ]
  },
  {
   "cell_type": "markdown",
   "metadata": {},
   "source": [
    "Проверим, изменилось ли количество пропущенных значений, в соответсвии с проделанными нами ранее действиями."
   ]
  },
  {
   "cell_type": "code",
   "execution_count": 9,
   "metadata": {},
   "outputs": [
    {
     "data": {
      "text/plain": [
       "total_images                0\n",
       "last_price                  0\n",
       "total_area                  0\n",
       "first_day_exposition        0\n",
       "rooms                       0\n",
       "ceiling_height              0\n",
       "floors_total                0\n",
       "living_area              1903\n",
       "floor                       0\n",
       "is_apartment            20924\n",
       "is_studio                   0\n",
       "open_plan                   0\n",
       "kitchen_area             2278\n",
       "balcony                     0\n",
       "locality_name              49\n",
       "airports_nearest         5542\n",
       "city_сenters_nearest     5519\n",
       "parks_around3000         5518\n",
       "parks_nearest           15620\n",
       "ponds_around3000         5518\n",
       "ponds_nearest           14589\n",
       "days_exposition          3181\n",
       "dtype: int64"
      ]
     },
     "execution_count": 9,
     "metadata": {},
     "output_type": "execute_result"
    }
   ],
   "source": [
    "# подсчет пропусков\n",
    "yandex_estate.isna().sum()"
   ]
  },
  {
   "cell_type": "markdown",
   "metadata": {},
   "source": [
    "Пропущенных значений в столбцах `ceiling_height`, `floors_total`, `balcony` не осталось.\n",
    "В данном случае пропущенные значения были:\n",
    "* случайными - вероятность пропуска зависит от других значений в наборе данных, но не от значений собственного столбца `balcony`, \n",
    "* неслучайными - вероятность пропуска зависит от других значений в наборе данных, в том числе и от значений собственного столбца: `ceiling_height` и `floors_total`."
   ]
  },
  {
   "cell_type": "markdown",
   "metadata": {},
   "source": [
    "Проверим, в одних и тех же строках пропущены значения в столбцах `is_studio` и `kitchen_area`, ведь в квартирах-студиях часто не указывают площадь кухни."
   ]
  },
  {
   "cell_type": "code",
   "execution_count": 10,
   "metadata": {},
   "outputs": [
    {
     "name": "stdout",
     "output_type": "stream",
     "text": [
      "<class 'pandas.core.frame.DataFrame'>\n",
      "Int64Index: 0 entries\n",
      "Data columns (total 22 columns):\n",
      " #   Column                Non-Null Count  Dtype         \n",
      "---  ------                --------------  -----         \n",
      " 0   total_images          0 non-null      int64         \n",
      " 1   last_price            0 non-null      float64       \n",
      " 2   total_area            0 non-null      float64       \n",
      " 3   first_day_exposition  0 non-null      datetime64[ns]\n",
      " 4   rooms                 0 non-null      int64         \n",
      " 5   ceiling_height        0 non-null      float64       \n",
      " 6   floors_total          0 non-null      float64       \n",
      " 7   living_area           0 non-null      float64       \n",
      " 8   floor                 0 non-null      int64         \n",
      " 9   is_apartment          0 non-null      object        \n",
      " 10  is_studio             0 non-null      bool          \n",
      " 11  open_plan             0 non-null      bool          \n",
      " 12  kitchen_area          0 non-null      float64       \n",
      " 13  balcony               0 non-null      float64       \n",
      " 14  locality_name         0 non-null      object        \n",
      " 15  airports_nearest      0 non-null      float64       \n",
      " 16  city_сenters_nearest  0 non-null      float64       \n",
      " 17  parks_around3000      0 non-null      float64       \n",
      " 18  parks_nearest         0 non-null      float64       \n",
      " 19  ponds_around3000      0 non-null      float64       \n",
      " 20  ponds_nearest         0 non-null      float64       \n",
      " 21  days_exposition       0 non-null      float64       \n",
      "dtypes: bool(2), datetime64[ns](1), float64(14), int64(3), object(2)\n",
      "memory usage: 0.0+ bytes\n"
     ]
    }
   ],
   "source": [
    "# при помощи логического И проверяем условие \"в одинаковых строках пропущенные значения\"\n",
    "# выводим информацию методом info()\n",
    "\n",
    "yandex_estate[(yandex_estate['is_studio'].isna() == True) & (yandex_estate['kitchen_area'].isna() == True)].info()"
   ]
  },
  {
   "cell_type": "markdown",
   "metadata": {},
   "source": [
    "Это утверждение не подтвердилось, в студиях указана площадь квартиры. Проверим эту логику на апартаментах, ведь это не жилые помещения и площадью кухни можно пренебречь."
   ]
  },
  {
   "cell_type": "code",
   "execution_count": 11,
   "metadata": {},
   "outputs": [
    {
     "name": "stdout",
     "output_type": "stream",
     "text": [
      "<class 'pandas.core.frame.DataFrame'>\n",
      "Int64Index: 2088 entries, 3 to 23696\n",
      "Data columns (total 22 columns):\n",
      " #   Column                Non-Null Count  Dtype         \n",
      "---  ------                --------------  -----         \n",
      " 0   total_images          2088 non-null   int64         \n",
      " 1   last_price            2088 non-null   float64       \n",
      " 2   total_area            2088 non-null   float64       \n",
      " 3   first_day_exposition  2088 non-null   datetime64[ns]\n",
      " 4   rooms                 2088 non-null   int64         \n",
      " 5   ceiling_height        2088 non-null   float64       \n",
      " 6   floors_total          2088 non-null   float64       \n",
      " 7   living_area           696 non-null    float64       \n",
      " 8   floor                 2088 non-null   int64         \n",
      " 9   is_apartment          0 non-null      object        \n",
      " 10  is_studio             2088 non-null   bool          \n",
      " 11  open_plan             2088 non-null   bool          \n",
      " 12  kitchen_area          0 non-null      float64       \n",
      " 13  balcony               2088 non-null   float64       \n",
      " 14  locality_name         2082 non-null   object        \n",
      " 15  airports_nearest      1447 non-null   float64       \n",
      " 16  city_сenters_nearest  1449 non-null   float64       \n",
      " 17  parks_around3000      1449 non-null   float64       \n",
      " 18  parks_nearest         638 non-null    float64       \n",
      " 19  ponds_around3000      1449 non-null   float64       \n",
      " 20  ponds_nearest         796 non-null    float64       \n",
      " 21  days_exposition       1914 non-null   float64       \n",
      "dtypes: bool(2), datetime64[ns](1), float64(14), int64(3), object(2)\n",
      "memory usage: 346.6+ KB\n"
     ]
    }
   ],
   "source": [
    "# при помощи логического И проверяем условие \"в одинаковых строках пропущенные значения\"\n",
    "# выводим информацию методом info()\n",
    "\n",
    "yandex_estate[(yandex_estate['is_apartment'].isna() == True) & (yandex_estate['kitchen_area'].isna() == True)].info()"
   ]
  },
  {
   "cell_type": "markdown",
   "metadata": {},
   "source": [
    "Большинство пропущенных значения `kitchen_area` совпадают с пропущенными значениями столбца `is_apartment`, тогда в этом случае заменим их на '0' - кухни в данных помещениях нет."
   ]
  },
  {
   "cell_type": "markdown",
   "metadata": {},
   "source": [
    "Проверим, в одних и тех же строках пропущены значения в столбцах `is_apartment` и `living_area`. Если совпадает или значение `is_apartment` 'True', то значение `living_area` заменяем значением `total_area`."
   ]
  },
  {
   "cell_type": "code",
   "execution_count": 12,
   "metadata": {
    "scrolled": true
   },
   "outputs": [
    {
     "name": "stdout",
     "output_type": "stream",
     "text": [
      "<class 'pandas.core.frame.DataFrame'>\n",
      "Int64Index: 1783 entries, 3 to 23697\n",
      "Data columns (total 22 columns):\n",
      " #   Column                Non-Null Count  Dtype         \n",
      "---  ------                --------------  -----         \n",
      " 0   total_images          1783 non-null   int64         \n",
      " 1   last_price            1783 non-null   float64       \n",
      " 2   total_area            1783 non-null   float64       \n",
      " 3   first_day_exposition  1783 non-null   datetime64[ns]\n",
      " 4   rooms                 1783 non-null   int64         \n",
      " 5   ceiling_height        1783 non-null   float64       \n",
      " 6   floors_total          1783 non-null   float64       \n",
      " 7   living_area           0 non-null      float64       \n",
      " 8   floor                 1783 non-null   int64         \n",
      " 9   is_apartment          0 non-null      object        \n",
      " 10  is_studio             1783 non-null   bool          \n",
      " 11  open_plan             1783 non-null   bool          \n",
      " 12  kitchen_area          391 non-null    float64       \n",
      " 13  balcony               1783 non-null   float64       \n",
      " 14  locality_name         1780 non-null   object        \n",
      " 15  airports_nearest      1201 non-null   float64       \n",
      " 16  city_сenters_nearest  1203 non-null   float64       \n",
      " 17  parks_around3000      1203 non-null   float64       \n",
      " 18  parks_nearest         542 non-null    float64       \n",
      " 19  ponds_around3000      1203 non-null   float64       \n",
      " 20  ponds_nearest         660 non-null    float64       \n",
      " 21  days_exposition       1604 non-null   float64       \n",
      "dtypes: bool(2), datetime64[ns](1), float64(14), int64(3), object(2)\n",
      "memory usage: 296.0+ KB\n"
     ]
    }
   ],
   "source": [
    "# при помощи логического И проверяем условие \"в одинаковых строках пропущенные значения\"\n",
    "# выводим информацию методом info()\n",
    "\n",
    "yandex_estate[(yandex_estate['is_apartment'].isna() == True) & (yandex_estate['living_area'].isna() == True)].info()"
   ]
  },
  {
   "cell_type": "code",
   "execution_count": 13,
   "metadata": {},
   "outputs": [],
   "source": [
    "# циклом for перебираем ячейки в нужных нам столбцах,\n",
    "# если в этой ячейке значение NaN, то перезаписываем NaN соотв. значением\n",
    "\n",
    "for i in range(len(yandex_estate)):\n",
    "    if (np.isnan(yandex_estate.loc[i, 'kitchen_area'])):\n",
    "        if (np.isnan(yandex_estate.loc[i, 'is_apartment'])):    \n",
    "            yandex_estate.loc[i, 'kitchen_area'] = 0\n",
    "            yandex_estate.loc[i, 'is_apartment'] = True\n",
    "    if (np.isnan(yandex_estate.loc[i, 'living_area'])):\n",
    "        if (np.isnan(yandex_estate.loc[i, 'is_apartment'])):\n",
    "            yandex_estate.loc[i, 'living_area'] = yandex_estate.loc[i, 'total_area']\n",
    "            yandex_estate.loc[i, 'is_apartment'] = True\n",
    "        if (yandex_estate.loc[i, 'is_apartment'] == True):\n",
    "            yandex_estate.loc[i, 'living_area'] = yandex_estate.loc[i, 'total_area']"
   ]
  },
  {
   "cell_type": "code",
   "execution_count": 14,
   "metadata": {},
   "outputs": [
    {
     "data": {
      "text/plain": [
       "total_images                0\n",
       "last_price                  0\n",
       "total_area                  0\n",
       "first_day_exposition        0\n",
       "rooms                       0\n",
       "ceiling_height              0\n",
       "floors_total                0\n",
       "living_area               112\n",
       "floor                       0\n",
       "is_apartment            18445\n",
       "is_studio                   0\n",
       "open_plan                   0\n",
       "kitchen_area              190\n",
       "balcony                     0\n",
       "locality_name              49\n",
       "airports_nearest         5542\n",
       "city_сenters_nearest     5519\n",
       "parks_around3000         5518\n",
       "parks_nearest           15620\n",
       "ponds_around3000         5518\n",
       "ponds_nearest           14589\n",
       "days_exposition          3181\n",
       "dtype: int64"
      ]
     },
     "execution_count": 14,
     "metadata": {},
     "output_type": "execute_result"
    }
   ],
   "source": [
    "# подсчет пропусков\n",
    "yandex_estate.isna().sum()"
   ]
  },
  {
   "cell_type": "markdown",
   "metadata": {},
   "source": [
    "Пропущенных значений в `living_area` и `kitchen_area` не так много, отбросив эти строки, на наше исследование это не повлияет."
   ]
  },
  {
   "cell_type": "code",
   "execution_count": 15,
   "metadata": {},
   "outputs": [],
   "source": [
    "# перезапишем в df те, строки где нет пропущенных значений в столбцах 'kitchen_area' и 'living_area'\n",
    "yandex_estate = yandex_estate[(yandex_estate['kitchen_area'].isna() == False) & (yandex_estate['living_area'].isna() == False)]"
   ]
  },
  {
   "cell_type": "markdown",
   "metadata": {},
   "source": [
    "Попробуем разобраться со столбцом `city_сenters_nearest`."
   ]
  },
  {
   "cell_type": "code",
   "execution_count": 16,
   "metadata": {},
   "outputs": [],
   "source": [
    "# создадим словарь 'centr_dict', в которым запишем ключ - название населенного пункта,\n",
    "# значение - медианное значение расстояния в этом населенном пункте до центра города\n",
    "centr_dict = dict(yandex_estate[yandex_estate['city_сenters_nearest'].isna() == False].groupby('locality_name')['city_сenters_nearest'].median())\n",
    "\n",
    "# создадим функцию replace_city_value, которая будет возвращать значение из словаря в соотв. с населенным пунктом\n",
    "def replace_city_value(city_name, city_value):\n",
    "    if np.isnan(city_value):\n",
    "        if city_name in centr_dict:\n",
    "            return centr_dict[city_name]\n",
    "    return city_value\n",
    "# запишем найденные медианные значения в столбец 'city_сenters_nearest' методом apply\n",
    "yandex_estate['city_сenters_nearest'] = yandex_estate.apply(lambda df_row: replace_city_value(df_row['locality_name'], df_row['city_сenters_nearest']), axis=1)"
   ]
  },
  {
   "cell_type": "markdown",
   "metadata": {},
   "source": [
    "Произведем подсчет пропущенных значений."
   ]
  },
  {
   "cell_type": "code",
   "execution_count": 17,
   "metadata": {},
   "outputs": [
    {
     "data": {
      "text/plain": [
       "total_images                0\n",
       "last_price                  0\n",
       "total_area                  0\n",
       "first_day_exposition        0\n",
       "rooms                       0\n",
       "ceiling_height              0\n",
       "floors_total                0\n",
       "living_area                 0\n",
       "floor                       0\n",
       "is_apartment            18445\n",
       "is_studio                   0\n",
       "open_plan                   0\n",
       "kitchen_area                0\n",
       "balcony                     0\n",
       "locality_name              46\n",
       "airports_nearest         5452\n",
       "city_сenters_nearest     5306\n",
       "parks_around3000         5428\n",
       "parks_nearest           15450\n",
       "ponds_around3000         5428\n",
       "ponds_nearest           14415\n",
       "days_exposition          3142\n",
       "dtype: int64"
      ]
     },
     "execution_count": 17,
     "metadata": {},
     "output_type": "execute_result"
    }
   ],
   "source": [
    "# подсчет пропусков\n",
    "yandex_estate.isna().sum()"
   ]
  },
  {
   "cell_type": "markdown",
   "metadata": {},
   "source": [
    "Для столбца `days_exposition` пропущенные значения не меняем, так как NaN обозначает, что сделки по квартире еще не было и она находится до сих пор в продаже.\n",
    "\n",
    "В дальнейшем для исследования, чтобы заменить пропущенные значения в столбце `city_сenters_nearest`, нужны данные, чтобы заполнить пропуски.\n",
    "\n",
    "Для столбцов `airports_nearest`, `parks_around3000`, `parks_nearest`, `ponds_around3000`, `ponds_nearest` можно произвести те же вычисления, что и для `city_сenters_nearest`. Скорее всего данных так же не будет хватать. Нам для исследования эти столбцы не нужны, поэтому их можно удалить.\n",
    "Пропуски в столбце `is_apartment`  скорее всего были сделаны специально, так как указывая апартаменты это или нет, застройщик делает выгодно себе (аппартаментов совсем другие условия для строительства).\n",
    "Столбцы `is_studio`, `total_images`, `balcony`, `open_plan` нам тоже не пригодятся, поэтому удалим их."
   ]
  },
  {
   "cell_type": "code",
   "execution_count": 18,
   "metadata": {},
   "outputs": [],
   "source": [
    "# в columns_drop запишем название столбцов, которые можно удалить\n",
    "columns_drop = ['airports_nearest', 'parks_around3000', 'parks_nearest','ponds_around3000', 'ponds_nearest', 'is_apartment',\n",
    "               'is_studio', 'total_images', 'balcony', 'open_plan']\n",
    "# удалим столбцы из списка датафрейма\n",
    "yandex_estate = yandex_estate.drop(columns_drop, axis=1)"
   ]
  },
  {
   "cell_type": "markdown",
   "metadata": {},
   "source": [
    "**Вывод**\n",
    "\n",
    "Данные почищены и все пропуски, которые можно было заполнить заполнены. Для заполнения некоторых пропусков нужно больше данных. На данном этапе DataFrame приведен в тот вид, с которым можно продолжать работать."
   ]
  },
  {
   "cell_type": "markdown",
   "metadata": {},
   "source": [
    "### Замена типа данных"
   ]
  },
  {
   "cell_type": "markdown",
   "metadata": {},
   "source": [
    "Изменим тип данных столбцов `last_price`, `floors_total`, `total_area`, `living_area`, `kitchen_area` на int."
   ]
  },
  {
   "cell_type": "code",
   "execution_count": 19,
   "metadata": {},
   "outputs": [],
   "source": [
    "# создадим список столбцов, в которых будем менять тип данных\n",
    "columns_replace_type = ['last_price', 'floors_total', 'total_area', 'living_area', 'kitchen_area']\n",
    "\n",
    "# заменим тип данных метожом astype()\n",
    "yandex_estate[columns_replace_type] = yandex_estate[columns_replace_type].astype('int')"
   ]
  },
  {
   "cell_type": "markdown",
   "metadata": {},
   "source": [
    "Выведем первые 15 строк `df` для просмотра всех изменений."
   ]
  },
  {
   "cell_type": "code",
   "execution_count": 20,
   "metadata": {
    "scrolled": true
   },
   "outputs": [
    {
     "data": {
      "text/html": [
       "<div>\n",
       "<style scoped>\n",
       "    .dataframe tbody tr th:only-of-type {\n",
       "        vertical-align: middle;\n",
       "    }\n",
       "\n",
       "    .dataframe tbody tr th {\n",
       "        vertical-align: top;\n",
       "    }\n",
       "\n",
       "    .dataframe thead th {\n",
       "        text-align: right;\n",
       "    }\n",
       "</style>\n",
       "<table border=\"1\" class=\"dataframe\">\n",
       "  <thead>\n",
       "    <tr style=\"text-align: right;\">\n",
       "      <th></th>\n",
       "      <th>last_price</th>\n",
       "      <th>total_area</th>\n",
       "      <th>first_day_exposition</th>\n",
       "      <th>rooms</th>\n",
       "      <th>ceiling_height</th>\n",
       "      <th>floors_total</th>\n",
       "      <th>living_area</th>\n",
       "      <th>floor</th>\n",
       "      <th>kitchen_area</th>\n",
       "      <th>locality_name</th>\n",
       "      <th>city_сenters_nearest</th>\n",
       "      <th>days_exposition</th>\n",
       "    </tr>\n",
       "  </thead>\n",
       "  <tbody>\n",
       "    <tr>\n",
       "      <th>0</th>\n",
       "      <td>13000000</td>\n",
       "      <td>108</td>\n",
       "      <td>2019-03-07</td>\n",
       "      <td>3</td>\n",
       "      <td>2.70</td>\n",
       "      <td>16</td>\n",
       "      <td>51</td>\n",
       "      <td>8</td>\n",
       "      <td>25</td>\n",
       "      <td>Санкт-Петербург</td>\n",
       "      <td>16028.0</td>\n",
       "      <td>NaN</td>\n",
       "    </tr>\n",
       "    <tr>\n",
       "      <th>1</th>\n",
       "      <td>3350000</td>\n",
       "      <td>40</td>\n",
       "      <td>2018-12-04</td>\n",
       "      <td>1</td>\n",
       "      <td>2.65</td>\n",
       "      <td>11</td>\n",
       "      <td>18</td>\n",
       "      <td>1</td>\n",
       "      <td>11</td>\n",
       "      <td>посёлок Шушары</td>\n",
       "      <td>18603.0</td>\n",
       "      <td>81.0</td>\n",
       "    </tr>\n",
       "    <tr>\n",
       "      <th>2</th>\n",
       "      <td>5196000</td>\n",
       "      <td>56</td>\n",
       "      <td>2015-08-20</td>\n",
       "      <td>2</td>\n",
       "      <td>2.65</td>\n",
       "      <td>5</td>\n",
       "      <td>34</td>\n",
       "      <td>4</td>\n",
       "      <td>8</td>\n",
       "      <td>Санкт-Петербург</td>\n",
       "      <td>13933.0</td>\n",
       "      <td>558.0</td>\n",
       "    </tr>\n",
       "    <tr>\n",
       "      <th>3</th>\n",
       "      <td>64900000</td>\n",
       "      <td>159</td>\n",
       "      <td>2015-07-24</td>\n",
       "      <td>3</td>\n",
       "      <td>2.65</td>\n",
       "      <td>14</td>\n",
       "      <td>159</td>\n",
       "      <td>9</td>\n",
       "      <td>0</td>\n",
       "      <td>Санкт-Петербург</td>\n",
       "      <td>6800.0</td>\n",
       "      <td>424.0</td>\n",
       "    </tr>\n",
       "    <tr>\n",
       "      <th>4</th>\n",
       "      <td>10000000</td>\n",
       "      <td>100</td>\n",
       "      <td>2018-06-19</td>\n",
       "      <td>2</td>\n",
       "      <td>3.03</td>\n",
       "      <td>14</td>\n",
       "      <td>32</td>\n",
       "      <td>13</td>\n",
       "      <td>41</td>\n",
       "      <td>Санкт-Петербург</td>\n",
       "      <td>8098.0</td>\n",
       "      <td>121.0</td>\n",
       "    </tr>\n",
       "    <tr>\n",
       "      <th>5</th>\n",
       "      <td>2890000</td>\n",
       "      <td>30</td>\n",
       "      <td>2018-09-10</td>\n",
       "      <td>1</td>\n",
       "      <td>2.65</td>\n",
       "      <td>12</td>\n",
       "      <td>14</td>\n",
       "      <td>5</td>\n",
       "      <td>9</td>\n",
       "      <td>городской посёлок Янино-1</td>\n",
       "      <td>NaN</td>\n",
       "      <td>55.0</td>\n",
       "    </tr>\n",
       "    <tr>\n",
       "      <th>6</th>\n",
       "      <td>3700000</td>\n",
       "      <td>37</td>\n",
       "      <td>2017-11-02</td>\n",
       "      <td>1</td>\n",
       "      <td>2.65</td>\n",
       "      <td>26</td>\n",
       "      <td>10</td>\n",
       "      <td>6</td>\n",
       "      <td>14</td>\n",
       "      <td>посёлок Парголово</td>\n",
       "      <td>19143.0</td>\n",
       "      <td>155.0</td>\n",
       "    </tr>\n",
       "    <tr>\n",
       "      <th>7</th>\n",
       "      <td>7915000</td>\n",
       "      <td>71</td>\n",
       "      <td>2019-04-18</td>\n",
       "      <td>2</td>\n",
       "      <td>2.65</td>\n",
       "      <td>24</td>\n",
       "      <td>71</td>\n",
       "      <td>22</td>\n",
       "      <td>18</td>\n",
       "      <td>Санкт-Петербург</td>\n",
       "      <td>11634.0</td>\n",
       "      <td>NaN</td>\n",
       "    </tr>\n",
       "    <tr>\n",
       "      <th>8</th>\n",
       "      <td>2900000</td>\n",
       "      <td>33</td>\n",
       "      <td>2018-05-23</td>\n",
       "      <td>1</td>\n",
       "      <td>2.65</td>\n",
       "      <td>27</td>\n",
       "      <td>15</td>\n",
       "      <td>26</td>\n",
       "      <td>8</td>\n",
       "      <td>посёлок Мурино</td>\n",
       "      <td>NaN</td>\n",
       "      <td>189.0</td>\n",
       "    </tr>\n",
       "    <tr>\n",
       "      <th>9</th>\n",
       "      <td>5400000</td>\n",
       "      <td>61</td>\n",
       "      <td>2017-02-26</td>\n",
       "      <td>3</td>\n",
       "      <td>2.50</td>\n",
       "      <td>9</td>\n",
       "      <td>43</td>\n",
       "      <td>7</td>\n",
       "      <td>6</td>\n",
       "      <td>Санкт-Петербург</td>\n",
       "      <td>15008.0</td>\n",
       "      <td>289.0</td>\n",
       "    </tr>\n",
       "    <tr>\n",
       "      <th>10</th>\n",
       "      <td>5050000</td>\n",
       "      <td>39</td>\n",
       "      <td>2017-11-16</td>\n",
       "      <td>1</td>\n",
       "      <td>2.67</td>\n",
       "      <td>12</td>\n",
       "      <td>20</td>\n",
       "      <td>3</td>\n",
       "      <td>8</td>\n",
       "      <td>Санкт-Петербург</td>\n",
       "      <td>13878.0</td>\n",
       "      <td>137.0</td>\n",
       "    </tr>\n",
       "    <tr>\n",
       "      <th>11</th>\n",
       "      <td>3300000</td>\n",
       "      <td>44</td>\n",
       "      <td>2018-08-27</td>\n",
       "      <td>2</td>\n",
       "      <td>2.65</td>\n",
       "      <td>5</td>\n",
       "      <td>31</td>\n",
       "      <td>4</td>\n",
       "      <td>6</td>\n",
       "      <td>Ломоносов</td>\n",
       "      <td>51677.0</td>\n",
       "      <td>7.0</td>\n",
       "    </tr>\n",
       "    <tr>\n",
       "      <th>12</th>\n",
       "      <td>3890000</td>\n",
       "      <td>54</td>\n",
       "      <td>2016-06-30</td>\n",
       "      <td>2</td>\n",
       "      <td>2.65</td>\n",
       "      <td>5</td>\n",
       "      <td>30</td>\n",
       "      <td>5</td>\n",
       "      <td>9</td>\n",
       "      <td>Сертолово</td>\n",
       "      <td>NaN</td>\n",
       "      <td>90.0</td>\n",
       "    </tr>\n",
       "    <tr>\n",
       "      <th>13</th>\n",
       "      <td>3550000</td>\n",
       "      <td>42</td>\n",
       "      <td>2017-07-01</td>\n",
       "      <td>2</td>\n",
       "      <td>2.56</td>\n",
       "      <td>5</td>\n",
       "      <td>27</td>\n",
       "      <td>5</td>\n",
       "      <td>5</td>\n",
       "      <td>Петергоф</td>\n",
       "      <td>33058.0</td>\n",
       "      <td>366.0</td>\n",
       "    </tr>\n",
       "    <tr>\n",
       "      <th>14</th>\n",
       "      <td>4400000</td>\n",
       "      <td>36</td>\n",
       "      <td>2016-06-23</td>\n",
       "      <td>1</td>\n",
       "      <td>2.65</td>\n",
       "      <td>6</td>\n",
       "      <td>17</td>\n",
       "      <td>1</td>\n",
       "      <td>8</td>\n",
       "      <td>Пушкин</td>\n",
       "      <td>30759.0</td>\n",
       "      <td>203.0</td>\n",
       "    </tr>\n",
       "  </tbody>\n",
       "</table>\n",
       "</div>"
      ],
      "text/plain": [
       "    last_price  total_area first_day_exposition  rooms  ceiling_height  \\\n",
       "0     13000000         108           2019-03-07      3            2.70   \n",
       "1      3350000          40           2018-12-04      1            2.65   \n",
       "2      5196000          56           2015-08-20      2            2.65   \n",
       "3     64900000         159           2015-07-24      3            2.65   \n",
       "4     10000000         100           2018-06-19      2            3.03   \n",
       "5      2890000          30           2018-09-10      1            2.65   \n",
       "6      3700000          37           2017-11-02      1            2.65   \n",
       "7      7915000          71           2019-04-18      2            2.65   \n",
       "8      2900000          33           2018-05-23      1            2.65   \n",
       "9      5400000          61           2017-02-26      3            2.50   \n",
       "10     5050000          39           2017-11-16      1            2.67   \n",
       "11     3300000          44           2018-08-27      2            2.65   \n",
       "12     3890000          54           2016-06-30      2            2.65   \n",
       "13     3550000          42           2017-07-01      2            2.56   \n",
       "14     4400000          36           2016-06-23      1            2.65   \n",
       "\n",
       "    floors_total  living_area  floor  kitchen_area              locality_name  \\\n",
       "0             16           51      8            25            Санкт-Петербург   \n",
       "1             11           18      1            11             посёлок Шушары   \n",
       "2              5           34      4             8            Санкт-Петербург   \n",
       "3             14          159      9             0            Санкт-Петербург   \n",
       "4             14           32     13            41            Санкт-Петербург   \n",
       "5             12           14      5             9  городской посёлок Янино-1   \n",
       "6             26           10      6            14          посёлок Парголово   \n",
       "7             24           71     22            18            Санкт-Петербург   \n",
       "8             27           15     26             8             посёлок Мурино   \n",
       "9              9           43      7             6            Санкт-Петербург   \n",
       "10            12           20      3             8            Санкт-Петербург   \n",
       "11             5           31      4             6                  Ломоносов   \n",
       "12             5           30      5             9                  Сертолово   \n",
       "13             5           27      5             5                   Петергоф   \n",
       "14             6           17      1             8                     Пушкин   \n",
       "\n",
       "    city_сenters_nearest  days_exposition  \n",
       "0                16028.0              NaN  \n",
       "1                18603.0             81.0  \n",
       "2                13933.0            558.0  \n",
       "3                 6800.0            424.0  \n",
       "4                 8098.0            121.0  \n",
       "5                    NaN             55.0  \n",
       "6                19143.0            155.0  \n",
       "7                11634.0              NaN  \n",
       "8                    NaN            189.0  \n",
       "9                15008.0            289.0  \n",
       "10               13878.0            137.0  \n",
       "11               51677.0              7.0  \n",
       "12                   NaN             90.0  \n",
       "13               33058.0            366.0  \n",
       "14               30759.0            203.0  "
      ]
     },
     "execution_count": 20,
     "metadata": {},
     "output_type": "execute_result"
    }
   ],
   "source": [
    "yandex_estate.head(15)"
   ]
  },
  {
   "cell_type": "code",
   "execution_count": 21,
   "metadata": {},
   "outputs": [
    {
     "name": "stdout",
     "output_type": "stream",
     "text": [
      "<class 'pandas.core.frame.DataFrame'>\n",
      "Int64Index: 23463 entries, 0 to 23698\n",
      "Data columns (total 12 columns):\n",
      " #   Column                Non-Null Count  Dtype         \n",
      "---  ------                --------------  -----         \n",
      " 0   last_price            23463 non-null  int64         \n",
      " 1   total_area            23463 non-null  int64         \n",
      " 2   first_day_exposition  23463 non-null  datetime64[ns]\n",
      " 3   rooms                 23463 non-null  int64         \n",
      " 4   ceiling_height        23463 non-null  float64       \n",
      " 5   floors_total          23463 non-null  int64         \n",
      " 6   living_area           23463 non-null  int64         \n",
      " 7   floor                 23463 non-null  int64         \n",
      " 8   kitchen_area          23463 non-null  int64         \n",
      " 9   locality_name         23417 non-null  object        \n",
      " 10  city_сenters_nearest  18157 non-null  float64       \n",
      " 11  days_exposition       20321 non-null  float64       \n",
      "dtypes: datetime64[ns](1), float64(3), int64(7), object(1)\n",
      "memory usage: 2.3+ MB\n"
     ]
    }
   ],
   "source": [
    "# получение общей информации о данных в таблице df\n",
    "yandex_estate.info()"
   ]
  },
  {
   "cell_type": "markdown",
   "metadata": {},
   "source": [
    "### Вывод"
   ]
  },
  {
   "cell_type": "markdown",
   "metadata": {},
   "source": [
    "Предобработка обнаружила проблемы в данных:\n",
    "* пропущенные значения\n",
    "* некорректные данные\n",
    "\n",
    "Мы заменили пропущенные значения во многих колонках DataFrame:\n",
    "\n",
    "1. Заменили пропущенные значения медианными в столбцах : `ceiling_height`, `city_сenters_nearest`.\n",
    "2. Пропущенные значения в `floors_total` на этаж, на котором расположена квартира.\n",
    "3. В столбце `balcony` заменили 'NaN' на '0'.\n",
    "4. Нашли закономенрность в столбцах `is_apartment` c `kitchen_area` и `living_area`. А после незначительное число пропусков удалили, а в `is_apartment` присвоили значение 'True'.\n",
    "\n",
    "Изменили тип с `float` на `int` в столбцах `last_price`, `floors_total`, `total_area`, `living_area`, `kitchen_area`, так как точность без знаков после плавующей точки нас устраивает."
   ]
  },
  {
   "cell_type": "markdown",
   "metadata": {},
   "source": [
    "## Расчёты и добавление результатов в таблицу"
   ]
  },
  {
   "cell_type": "markdown",
   "metadata": {},
   "source": [
    "### Расчет цены за квадратный метр"
   ]
  },
  {
   "cell_type": "markdown",
   "metadata": {},
   "source": [
    "Добавим в таблицу столбец `price_square_meter` - цена за квадратный метер. Значением данного столбца будет отношение `last_price` к `total_area`."
   ]
  },
  {
   "cell_type": "code",
   "execution_count": 22,
   "metadata": {},
   "outputs": [],
   "source": [
    "# добавим столбец 'price_square_meter', и выведем его значение с типом данных int \n",
    "yandex_estate['price_square_meter'] = (yandex_estate['last_price'] / yandex_estate['total_area']).astype('int')"
   ]
  },
  {
   "cell_type": "markdown",
   "metadata": {},
   "source": [
    "### Представление даты как день недели, месяц, год"
   ]
  },
  {
   "cell_type": "markdown",
   "metadata": {},
   "source": [
    "Создадим колонки:\n",
    "* `days_publication` - день недели начала публикации\n",
    "* `months_publication` - месяц начала публикации\n",
    "* `years_publication` - год начала публикации"
   ]
  },
  {
   "cell_type": "code",
   "execution_count": 23,
   "metadata": {},
   "outputs": [],
   "source": [
    "# присвоим столбцу 'days_publication' значения дня от 0 до 7, где 0 - понедельник, 7 - воскресенье\n",
    "yandex_estate['days_publication'] = yandex_estate['first_day_exposition'].dt.weekday"
   ]
  },
  {
   "cell_type": "code",
   "execution_count": 24,
   "metadata": {
    "scrolled": true
   },
   "outputs": [],
   "source": [
    "# присвоим столбцу 'months_publication' месяц из столбца 'first_day_exposition'\n",
    "yandex_estate['months_publication'] = yandex_estate['first_day_exposition'].dt.month"
   ]
  },
  {
   "cell_type": "code",
   "execution_count": 25,
   "metadata": {},
   "outputs": [],
   "source": [
    "# присвоим столбцу 'years_publication' год из столбца 'first_day_exposition'\n",
    "yandex_estate['years_publication'] = yandex_estate['first_day_exposition'].dt.year"
   ]
  },
  {
   "cell_type": "markdown",
   "metadata": {},
   "source": [
    "### Категоризация этажей"
   ]
  },
  {
   "cell_type": "markdown",
   "metadata": {},
   "source": [
    "Добавим столбец `floor_category`, в который запишем категории этажей : первый, последний, другой."
   ]
  },
  {
   "cell_type": "code",
   "execution_count": 26,
   "metadata": {},
   "outputs": [],
   "source": [
    "# создадим функцию floor_category с параметрами floor, total_floors, значения которых соотв.\n",
    "# столбцам df. Функция будет возвращать категорию этажей исходя из условий\n",
    "\n",
    "def floor_category(floor, total_floors):\n",
    "    if floor == 1:\n",
    "        return 'Первый'\n",
    "    if floor == total_floors:\n",
    "        return 'Последний'\n",
    "\n",
    "    return 'Другой'\n",
    "\n",
    "# запишем категории этажей с помощью метода apply\n",
    "yandex_estate['floor_category'] = yandex_estate.apply(lambda df_row: floor_category(df_row['floor'], df_row['floors_total']), axis=1)"
   ]
  },
  {
   "cell_type": "markdown",
   "metadata": {},
   "source": [
    "### Отношение площадей"
   ]
  },
  {
   "cell_type": "markdown",
   "metadata": {},
   "source": [
    "Посчитаем отношение площадей:\n",
    "* `living_total_area` - отношение жилой и общей площадей\n",
    "* `kitchen_living_area` - отношение площади кухни и жилой площади"
   ]
  },
  {
   "cell_type": "code",
   "execution_count": 27,
   "metadata": {},
   "outputs": [],
   "source": [
    "# добавление столбцов 'living_total_area', 'kitchen_living_area' c отношением площадей\n",
    "# округлим значения до 2 знаков после точки\n",
    "yandex_estate['living_total_area'] = round(yandex_estate['living_area'] / yandex_estate['total_area'], 2)\n",
    "yandex_estate['kitchen_living_area'] = round(yandex_estate['kitchen_area'] / yandex_estate['living_area'], 2)"
   ]
  },
  {
   "cell_type": "markdown",
   "metadata": {},
   "source": [
    "### Вывод"
   ]
  },
  {
   "cell_type": "markdown",
   "metadata": {},
   "source": [
    "Теперь данные - корректны и подготовлены для комфортной работы с ними. \n",
    "\n",
    "Мы посчитали и добавили в таблицу:\n",
    "* цену за квадратный метр\n",
    "* категоризацию даты и этажей\n",
    "* отношение площадей - общей и жилой, кухни и жилой\n",
    "\n",
    "Для исследования все готово!"
   ]
  },
  {
   "cell_type": "markdown",
   "metadata": {},
   "source": [
    "## Исследовательский анализ данных"
   ]
  },
  {
   "cell_type": "markdown",
   "metadata": {},
   "source": [
    "### Параметры: площадь, цена, число комнат и высота потолков"
   ]
  },
  {
   "cell_type": "markdown",
   "metadata": {},
   "source": [
    "Для представлении о наглядности данных в нужных нам столбцах воспользуемся методом `discribe()`, который выведет нам \"числовое\" понятие о данных."
   ]
  },
  {
   "cell_type": "code",
   "execution_count": 28,
   "metadata": {
    "scrolled": true
   },
   "outputs": [
    {
     "data": {
      "text/html": [
       "<div>\n",
       "<style scoped>\n",
       "    .dataframe tbody tr th:only-of-type {\n",
       "        vertical-align: middle;\n",
       "    }\n",
       "\n",
       "    .dataframe tbody tr th {\n",
       "        vertical-align: top;\n",
       "    }\n",
       "\n",
       "    .dataframe thead th {\n",
       "        text-align: right;\n",
       "    }\n",
       "</style>\n",
       "<table border=\"1\" class=\"dataframe\">\n",
       "  <thead>\n",
       "    <tr style=\"text-align: right;\">\n",
       "      <th></th>\n",
       "      <th>last_price</th>\n",
       "      <th>total_area</th>\n",
       "      <th>rooms</th>\n",
       "      <th>ceiling_height</th>\n",
       "    </tr>\n",
       "  </thead>\n",
       "  <tbody>\n",
       "    <tr>\n",
       "      <th>count</th>\n",
       "      <td>2.346300e+04</td>\n",
       "      <td>23463.000000</td>\n",
       "      <td>23463.000000</td>\n",
       "      <td>23463.000000</td>\n",
       "    </tr>\n",
       "    <tr>\n",
       "      <th>mean</th>\n",
       "      <td>6.547471e+06</td>\n",
       "      <td>60.166816</td>\n",
       "      <td>2.072114</td>\n",
       "      <td>2.721103</td>\n",
       "    </tr>\n",
       "    <tr>\n",
       "      <th>std</th>\n",
       "      <td>1.089721e+07</td>\n",
       "      <td>35.677844</td>\n",
       "      <td>1.078221</td>\n",
       "      <td>0.958222</td>\n",
       "    </tr>\n",
       "    <tr>\n",
       "      <th>min</th>\n",
       "      <td>1.219000e+04</td>\n",
       "      <td>12.000000</td>\n",
       "      <td>0.000000</td>\n",
       "      <td>1.000000</td>\n",
       "    </tr>\n",
       "    <tr>\n",
       "      <th>25%</th>\n",
       "      <td>3.439600e+06</td>\n",
       "      <td>40.000000</td>\n",
       "      <td>1.000000</td>\n",
       "      <td>2.600000</td>\n",
       "    </tr>\n",
       "    <tr>\n",
       "      <th>50%</th>\n",
       "      <td>4.650000e+06</td>\n",
       "      <td>52.000000</td>\n",
       "      <td>2.000000</td>\n",
       "      <td>2.650000</td>\n",
       "    </tr>\n",
       "    <tr>\n",
       "      <th>75%</th>\n",
       "      <td>6.800000e+06</td>\n",
       "      <td>69.000000</td>\n",
       "      <td>3.000000</td>\n",
       "      <td>2.700000</td>\n",
       "    </tr>\n",
       "    <tr>\n",
       "      <th>max</th>\n",
       "      <td>7.630000e+08</td>\n",
       "      <td>900.000000</td>\n",
       "      <td>19.000000</td>\n",
       "      <td>100.000000</td>\n",
       "    </tr>\n",
       "  </tbody>\n",
       "</table>\n",
       "</div>"
      ],
      "text/plain": [
       "         last_price    total_area         rooms  ceiling_height\n",
       "count  2.346300e+04  23463.000000  23463.000000    23463.000000\n",
       "mean   6.547471e+06     60.166816      2.072114        2.721103\n",
       "std    1.089721e+07     35.677844      1.078221        0.958222\n",
       "min    1.219000e+04     12.000000      0.000000        1.000000\n",
       "25%    3.439600e+06     40.000000      1.000000        2.600000\n",
       "50%    4.650000e+06     52.000000      2.000000        2.650000\n",
       "75%    6.800000e+06     69.000000      3.000000        2.700000\n",
       "max    7.630000e+08    900.000000     19.000000      100.000000"
      ]
     },
     "execution_count": 28,
     "metadata": {},
     "output_type": "execute_result"
    }
   ],
   "source": [
    "# список столбцов, которые нужно изучить columns_describe\n",
    "columns_describe = ['last_price', 'total_area', 'rooms', 'ceiling_height']\n",
    "# числовая информация о данных в столбцах 'last_price', 'total_area', 'rooms', 'ceiling_height'\n",
    "yandex_estate[columns_describe].describe()"
   ]
  },
  {
   "cell_type": "markdown",
   "metadata": {},
   "source": [
    "`last_price` :\n",
    "\n",
    "* Можно заметить, что средняя цена (mean) за квартиру в г.Санкт-Петербург или в его пригороде составляет 6.5 миллионов рублей, причем это значение находится в в диапазоне первого (25%) и третьего (75%) квартиля. \n",
    "* Максимальное значение (max) не входит в этот межквартильный размах, что скорее всего и говорит о том, что стандартное отклонение (std), характеризующее разброс величин, так сильно отличается от среднего значения.\n",
    "* Медиана в 4 раза больше стандартного отклонение, вероятнее всего в данных есть выбросы.\n",
    "\n",
    "`total_area`:\n",
    "    \n",
    "* С общей площадью тоже самое, что и с ценой. Средняя площадь ~ 60 кв.м. - что является абсолютно реальной величиной.\n",
    "* Минимальное значение - 12 кв.м., сложно поверить, но скорее всего же существуют такие мини квартиры студии, отбрасывать на данном этапе это нельзя, а стоит разобрать, как и с максимальным значением - 900 кв.м. \n",
    "* В основном продаются квартиры площадью от 40 кв.м. до 69 кв.м. - это похоже на правду.\n",
    "* Тут медиана и стандартное отклонение тоже различаются ( в 1.5раза).\n",
    "\n",
    "`rooms`:\n",
    "\n",
    "* В данном случае разброс величин (std) уже не так сильно отличается от медианы. Данные похоже на правду.\n",
    "* В основном в продаже однокомнатные, двушки и трешки. Бывают и квартиры-студии, где количсетво комнат равно 0.\n",
    "* Очень настараживает квартира с 19 комнатами. Может это и есть те 900 кв.м, но стоит в этом разобраться.\n",
    "\n",
    "`ceiling_height`:\n",
    "\n",
    "* Стандартное отклоние почти в два раза больше медианы.\n",
    "* Минимальная высота потлков - 1 метр. Есть подозрение, что таких квартир не существует. Стоит рассмотреть подробнее.\n",
    "* В основном квартира с высотой потолков от 2.5м до 2.7м, что является нормой.\n",
    "* Максимальная высота потолков - 100м, это выше чем высотный дом. "
   ]
  },
  {
   "cell_type": "markdown",
   "metadata": {},
   "source": [
    "Данные по цене, площади, количества комнат и высоте потолков изучены. Для того, чтобы наши слова были действительны, представим наши наблюдения в виде гистограмм для каждой величины."
   ]
  },
  {
   "cell_type": "markdown",
   "metadata": {},
   "source": [
    "#### Цена"
   ]
  },
  {
   "cell_type": "code",
   "execution_count": 29,
   "metadata": {
    "scrolled": true
   },
   "outputs": [
    {
     "data": {
      "image/png": "[encoded data removed]",
      "text/plain": [
       "<Figure size 360x360 with 1 Axes>"
      ]
     },
     "metadata": {
      "needs_background": "light"
     },
     "output_type": "display_data"
    }
   ],
   "source": [
    "# изменим оси графика\n",
    "plt.ylim(-100, 20000)\n",
    "# построем гистограмму, где bins=100, есть сетка, размер картинки - 5х5\n",
    "yandex_estate['last_price'].hist(bins=100, grid=True, figsize=(5, 5))\n",
    "plt.title('Цена')\n",
    "plt.show()"
   ]
  },
  {
   "cell_type": "markdown",
   "metadata": {},
   "source": [
    "Гистограмма представляет собой распределение Пуассона. \n",
    "Мощный пик до 10 млн. рублей. Значения после 30 млн встречаются намного реже, значения максимальной суммы на этой диаграмме не видно, поэтому изменим оси графика:"
   ]
  },
  {
   "cell_type": "code",
   "execution_count": 30,
   "metadata": {
    "scrolled": false
   },
   "outputs": [
    {
     "data": {
      "image/png": "[encoded data removed]",
      "text/plain": [
       "<Figure size 360x360 with 1 Axes>"
      ]
     },
     "metadata": {
      "needs_background": "light"
     },
     "output_type": "display_data"
    }
   ],
   "source": [
    "# изменим оси графика\n",
    "plt.ylim(-10, 100)\n",
    "# построем гистограмму, где bins=100, есть сетка, размер картинки - 5х5\n",
    "yandex_estate['last_price'].hist(bins=100, grid=True, figsize=(5, 5))\n",
    "plt.title('Цена')\n",
    "plt.show()"
   ]
  },
  {
   "cell_type": "markdown",
   "metadata": {},
   "source": [
    "Все верно, цены на квартиры, которые больше 100 млн. встречаются уже намного реже, а цена 760 млн. кажется выдуманной."
   ]
  },
  {
   "cell_type": "markdown",
   "metadata": {},
   "source": [
    "#### Площадь"
   ]
  },
  {
   "cell_type": "code",
   "execution_count": 31,
   "metadata": {},
   "outputs": [
    {
     "data": {
      "image/png": "[encoded data removed]",
      "text/plain": [
       "<Figure size 432x288 with 1 Axes>"
      ]
     },
     "metadata": {
      "needs_background": "light"
     },
     "output_type": "display_data"
    }
   ],
   "source": [
    "# построение гистограммы для столбца 'total_area'\n",
    "yandex_estate['total_area'].hist(bins=100)\n",
    "plt.title('Общая площадь')\n",
    "plt.show()"
   ]
  },
  {
   "cell_type": "markdown",
   "metadata": {},
   "source": [
    "Гистограмма больше походит на нормальное распределение,минимальное значение около 13 кв.м, основной пик приходится на 45 кв.м, а дальше идет на спад, где уже при площади больше 110 кв.м частота. Квартиры с площадью больше 180 кв.м. уже редки. Больше 200 кв.м  гистограмма сливается с нулем (это не значит, что там ровно 0, но таких квартиры единицы)."
   ]
  },
  {
   "cell_type": "markdown",
   "metadata": {},
   "source": [
    "#### Число комнат"
   ]
  },
  {
   "cell_type": "code",
   "execution_count": 32,
   "metadata": {},
   "outputs": [
    {
     "data": {
      "image/png": "[encoded data removed]",
      "text/plain": [
       "<Figure size 432x288 with 1 Axes>"
      ]
     },
     "metadata": {
      "needs_background": "light"
     },
     "output_type": "display_data"
    }
   ],
   "source": [
    "# построение гистограммы для столбца 'rooms'\n",
    "plt.ylim(0, 8000)\n",
    "yandex_estate['rooms'].hist(bins=20)\n",
    "plt.title('Количество комнат')\n",
    "plt.show()"
   ]
  },
  {
   "cell_type": "markdown",
   "metadata": {},
   "source": [
    "Построем эту же гистограмму, но оси по оси Y укажем значительно меньше, что разглядеть \"выбросы\" по оси X."
   ]
  },
  {
   "cell_type": "code",
   "execution_count": 33,
   "metadata": {},
   "outputs": [
    {
     "data": {
      "image/png": "[encoded data removed]",
      "text/plain": [
       "<Figure size 432x288 with 1 Axes>"
      ]
     },
     "metadata": {
      "needs_background": "light"
     },
     "output_type": "display_data"
    }
   ],
   "source": [
    "# построение гистограммы для столбца 'rooms'\n",
    "plt.ylim(0, 100)\n",
    "yandex_estate['rooms'].hist(bins=20)\n",
    "plt.title('Количество комнат')\n",
    "plt.show()"
   ]
  },
  {
   "cell_type": "markdown",
   "metadata": {},
   "source": [
    "Гистограмма больше походит на нормальное распределение. Квартир с нулевым количеством комнат  немного, это квартиры студии, их около 250. Больше всего квартир однокомнатных и двухкомнатных - их почти поровну. Трёшек на четверть меньше, чем однушек и двушек. Квартиры, у которых комнат больше 4 встречают намного реже. На гистограмме отчетливо видно, что есть выбросы - 13,14,15,16 и 19 комнатные квартиры."
   ]
  },
  {
   "cell_type": "markdown",
   "metadata": {},
   "source": [
    "#### Высота потолков"
   ]
  },
  {
   "cell_type": "code",
   "execution_count": 34,
   "metadata": {},
   "outputs": [
    {
     "data": {
      "image/png": "[encoded data removed]",
      "text/plain": [
       "<Figure size 432x288 with 1 Axes>"
      ]
     },
     "metadata": {
      "needs_background": "light"
     },
     "output_type": "display_data"
    }
   ],
   "source": [
    "# построение гистограммы для столбца 'ceiling_height'\n",
    "yandex_estate['ceiling_height'].hist(bins=60)\n",
    "plt.title('Высота потолков')\n",
    "plt.show()"
   ]
  },
  {
   "cell_type": "code",
   "execution_count": 35,
   "metadata": {},
   "outputs": [
    {
     "data": {
      "image/png": "[encoded data removed]",
      "text/plain": [
       "<Figure size 432x288 with 1 Axes>"
      ]
     },
     "metadata": {
      "needs_background": "light"
     },
     "output_type": "display_data"
    }
   ],
   "source": [
    "# построение гистограммы для столбца 'ceiling_height'\n",
    "plt.ylim(0, 100)\n",
    "yandex_estate['ceiling_height'].hist(bins=60)\n",
    "plt.title('Высота потолков')\n",
    "plt.show()"
   ]
  },
  {
   "cell_type": "markdown",
   "metadata": {},
   "source": [
    "Максимальный пик приходится на высоту 2.6м. Совсем мало квартир с высотой потолков больше 3 м. Квартиры с высотой потолков больше 5м похоже на недостоверные данные."
   ]
  },
  {
   "cell_type": "markdown",
   "metadata": {},
   "source": [
    "#### Вывод"
   ]
  },
  {
   "cell_type": "markdown",
   "metadata": {},
   "source": [
    "Мы проанализировали такие параметры, как : цену квартиры, общую площадь квартиры, число комнат и высоту потолков. На гистограммах видно, что есть значения, которые нужно изучить подробно. В дальнейшем от них лучше избавляться, их не много, они не частые, а больше как единичные случаи. Но и это нужно проверить."
   ]
  },
  {
   "cell_type": "markdown",
   "metadata": {},
   "source": [
    "### Время продажи"
   ]
  },
  {
   "cell_type": "code",
   "execution_count": 36,
   "metadata": {},
   "outputs": [
    {
     "data": {
      "text/plain": [
       "count    20321.000000\n",
       "mean       180.909945\n",
       "std        219.799878\n",
       "min          1.000000\n",
       "25%         45.000000\n",
       "50%         96.000000\n",
       "75%        231.000000\n",
       "max       1580.000000\n",
       "Name: days_exposition, dtype: float64"
      ]
     },
     "execution_count": 36,
     "metadata": {},
     "output_type": "execute_result"
    }
   ],
   "source": [
    "# числовая информация о столбце 'days_exposition'\n",
    "yandex_estate['days_exposition'].describe()"
   ]
  },
  {
   "cell_type": "markdown",
   "metadata": {},
   "source": [
    "`days_exposition`:\n",
    "* По числовым данным столбца видно, что в среднем квартиры продаются 2 месяца, стандартное отклонение не сильно отличается от медианы. "
   ]
  },
  {
   "cell_type": "code",
   "execution_count": 37,
   "metadata": {
    "scrolled": true
   },
   "outputs": [
    {
     "data": {
      "image/png": "[encoded data removed]",
      "text/plain": [
       "<Figure size 720x504 with 1 Axes>"
      ]
     },
     "metadata": {
      "needs_background": "light"
     },
     "output_type": "display_data"
    }
   ],
   "source": [
    "# построение гистограммы для столбца 'days_exposition'\n",
    "yandex_estate['days_exposition'].hist(bins=30, figsize=(10,7))\n",
    "plt.title('Дни продажи')\n",
    "plt.show()"
   ]
  },
  {
   "cell_type": "code",
   "execution_count": 38,
   "metadata": {},
   "outputs": [
    {
     "name": "stdout",
     "output_type": "stream",
     "text": [
      "Среднее количество дней продаж:  180\n"
     ]
    }
   ],
   "source": [
    "# найдем среднее количество дней прожа \n",
    "print('Среднее количество дней продаж: ', int(yandex_estate['days_exposition'].mean()))"
   ]
  },
  {
   "cell_type": "code",
   "execution_count": 39,
   "metadata": {},
   "outputs": [
    {
     "name": "stdout",
     "output_type": "stream",
     "text": [
      "Медианное количество дней продаж:  96\n"
     ]
    }
   ],
   "source": [
    "# найдем медианное количество дней прожа \n",
    "print('Медианное количество дней продаж: ', int(yandex_estate['days_exposition'].median()))"
   ]
  },
  {
   "cell_type": "markdown",
   "metadata": {},
   "source": [
    "Смотря на гистаграмму видим мощный пик возле 50 дней. Распредение похоже на распределение Пуассона. Чаще всего продажа квартир занимает от 50 дней до 180 дней, т.е до 6 месяцев. Начиная уже с 800 дней - гистограмма сливается с нулем. \n",
    "Примем верхнюю границу (слишком долгие продажи) - все, что продаются больше 800 дней.\n",
    "Быстрые продажи - до 100 дней ( это почти половина df)."
   ]
  },
  {
   "cell_type": "markdown",
   "metadata": {},
   "source": [
    "### Выбросы"
   ]
  },
  {
   "cell_type": "markdown",
   "metadata": {},
   "source": [
    "Выбросы данных - это такие данные, которые находятся за чертой максимума и минимума межквартильных размахов.\n",
    "В пунктах 4.1 и 4.2 мы изучали параметры, строили гистаграммы - эти данные нам пригодятся.\n",
    "* Построим диаграммы размаха для каждого параметра.\n",
    "* Посчитаем долю сомнительных значений.\n",
    "* Отбросим или оставим эти данные."
   ]
  },
  {
   "cell_type": "markdown",
   "metadata": {},
   "source": [
    "#### Цена"
   ]
  },
  {
   "cell_type": "code",
   "execution_count": 40,
   "metadata": {},
   "outputs": [
    {
     "data": {
      "image/png": "[encoded data removed]",
      "text/plain": [
       "<Figure size 432x288 with 1 Axes>"
      ]
     },
     "metadata": {
      "needs_background": "light"
     },
     "output_type": "display_data"
    }
   ],
   "source": [
    "# диаграмма размаха для 'last_price'\n",
    "yandex_estate.boxplot(column='last_price')\n",
    "plt.title('Диаграмма размаха цены')\n",
    "plt.show()"
   ]
  },
  {
   "cell_type": "markdown",
   "metadata": {},
   "source": [
    "Не очень наглядно. Видно, что есть выбросы, и многие почти с 200 млн. до 800. млн., однако на этом всё. Чтобы лучше разглядеть «ящик с усами», изменим масштаб графика."
   ]
  },
  {
   "cell_type": "code",
   "execution_count": 41,
   "metadata": {},
   "outputs": [
    {
     "data": {
      "image/png": "[encoded data removed]",
      "text/plain": [
       "<Figure size 432x288 with 1 Axes>"
      ]
     },
     "metadata": {
      "needs_background": "light"
     },
     "output_type": "display_data"
    }
   ],
   "source": [
    "# изменим масштаб по оси y на -100000 и 15000000\n",
    "plt.ylim (-100000, 15000000)\n",
    "# диаграмма размаха для 'last_price'\n",
    "yandex_estate.boxplot(column='last_price')\n",
    "plt.title('Диаграмма размаха цены')\n",
    "plt.show()"
   ]
  },
  {
   "cell_type": "markdown",
   "metadata": {},
   "source": [
    "Нижний «ус» упирается в 0, минимальное значение. Верхний заканчивается около около 119 млн — это 1,5 межквартильного размаха, добавленного к 3-му квартилю. Это ориентировочная граница нормального размаха. Всё, что лежит за ней, считается выбросом. Более высокие значения рисуются отдельными точками, но сливаются в единую жирную линию: таких выбросов очень много.\n",
    "\n",
    "И всё же значения, которые отсёк верхний «ус», — редкие. Видно, насколько медиана (зелёная линия) не стремится к длинному хвосту высоких значений."
   ]
  },
  {
   "cell_type": "markdown",
   "metadata": {},
   "source": [
    "Найдем количество выбросов (значений больше 120 млн.) и посчитаем долю строк-выбросов ко всем строкам `df`."
   ]
  },
  {
   "cell_type": "code",
   "execution_count": 42,
   "metadata": {},
   "outputs": [
    {
     "name": "stdout",
     "output_type": "stream",
     "text": [
      "Количество выбросов для last_price: 33\n"
     ]
    }
   ],
   "source": [
    "# выведем число строк-выбросов (last_price > 120000000)\n",
    "print('Количество выбросов для last_price:', len(yandex_estate.query('last_price > 119000000')))"
   ]
  },
  {
   "cell_type": "code",
   "execution_count": 43,
   "metadata": {},
   "outputs": [
    {
     "name": "stdout",
     "output_type": "stream",
     "text": [
      "Доля значений-выбросов для last_price: 0.14064697609001406\n"
     ]
    }
   ],
   "source": [
    "# посчитаем долю выбросов цены ко всему df\n",
    "print('Доля значений-выбросов для last_price:', (len(yandex_estate.query('last_price > 119000000'))/ len(yandex_estate)) * 100)"
   ]
  },
  {
   "cell_type": "markdown",
   "metadata": {},
   "source": [
    "Доля значений выбросов составляет ~ 0.14%. Удалив эти значения, мы не потеряем много информации."
   ]
  },
  {
   "cell_type": "code",
   "execution_count": 44,
   "metadata": {},
   "outputs": [],
   "source": [
    "# перезапишем в df срез last_price <= 119000000\n",
    "yandex_estate = yandex_estate.query('last_price <= 119000000')"
   ]
  },
  {
   "cell_type": "markdown",
   "metadata": {},
   "source": [
    "#### Площадь"
   ]
  },
  {
   "cell_type": "code",
   "execution_count": 45,
   "metadata": {},
   "outputs": [
    {
     "data": {
      "image/png": "[encoded data removed]",
      "text/plain": [
       "<Figure size 432x288 with 1 Axes>"
      ]
     },
     "metadata": {
      "needs_background": "light"
     },
     "output_type": "display_data"
    }
   ],
   "source": [
    "# диаграмма размаха для 'total_area'\n",
    "yandex_estate.boxplot(column='total_area')\n",
    "plt.title('Диаграмма размаха общей площади')\n",
    "plt.show()"
   ]
  },
  {
   "cell_type": "markdown",
   "metadata": {},
   "source": [
    "Изменеим масштаб графика, чтобы рассмотреть диаграмму размаха лучше."
   ]
  },
  {
   "cell_type": "code",
   "execution_count": 46,
   "metadata": {},
   "outputs": [
    {
     "data": {
      "image/png": "[encoded data removed]",
      "text/plain": [
       "<Figure size 432x288 with 1 Axes>"
      ]
     },
     "metadata": {
      "needs_background": "light"
     },
     "output_type": "display_data"
    }
   ],
   "source": [
    "# изменим масштаб по оси y на -10 и 150\n",
    "plt.ylim (-10, 150)\n",
    "# диаграмма размаха для 'total_area'\n",
    "yandex_estate.boxplot(column='total_area')\n",
    "plt.title('Диаграмма размаха общей площади')\n",
    "plt.show()"
   ]
  },
  {
   "cell_type": "markdown",
   "metadata": {},
   "source": [
    "Нижний «ус» упирается в 12, минимальное значение. Верхний заканчивается около около 110 кв.м. Это ориентировочная граница нормального размаха. Всё, что лежит за ней, считается выбросом. Более высокие значения рисуются отдельными точками, но сливаются в единую жирную линию: таких выбросов очень много.\n",
    "\n",
    "И всё же значения, которые отсёк верхний «ус», — редкие. Видно, насколько медиана (зелёная линия) не стремится к длинному хвосту высоких значений."
   ]
  },
  {
   "cell_type": "code",
   "execution_count": 47,
   "metadata": {},
   "outputs": [
    {
     "name": "stdout",
     "output_type": "stream",
     "text": [
      "Количество выбросов для total_area: 1320\n"
     ]
    }
   ],
   "source": [
    "# выведем число строк-выбросов (total_area > 110)\n",
    "print('Количество выбросов для total_area:', len(yandex_estate.query('total_area > 110')))"
   ]
  },
  {
   "cell_type": "code",
   "execution_count": 48,
   "metadata": {},
   "outputs": [
    {
     "name": "stdout",
     "output_type": "stream",
     "text": [
      "Доля значений-выбросов для total_area: 5.633802816901409\n"
     ]
    }
   ],
   "source": [
    "# посчитаем долю выбросов площади ко всему df\n",
    "print('Доля значений-выбросов для total_area:', (len(yandex_estate.query('total_area > 110'))/ len(yandex_estate)) * 100)"
   ]
  },
  {
   "cell_type": "markdown",
   "metadata": {},
   "source": [
    "Доля значений выбросов составляет ~ 6%. Удалив эти значения, мы не потеряем много информации."
   ]
  },
  {
   "cell_type": "code",
   "execution_count": 49,
   "metadata": {},
   "outputs": [],
   "source": [
    "# перезапишем в df срез total_area <= 110\n",
    "yandex_estate = yandex_estate.query('total_area <= 110')"
   ]
  },
  {
   "cell_type": "markdown",
   "metadata": {},
   "source": [
    "#### Число комнат"
   ]
  },
  {
   "cell_type": "code",
   "execution_count": 50,
   "metadata": {},
   "outputs": [
    {
     "data": {
      "image/png": "[encoded data removed]",
      "text/plain": [
       "<Figure size 432x288 with 1 Axes>"
      ]
     },
     "metadata": {
      "needs_background": "light"
     },
     "output_type": "display_data"
    }
   ],
   "source": [
    "# диаграмма размаха для 'rooms'\n",
    "yandex_estate.boxplot(column='rooms')\n",
    "plt.title('Диаграмма размаха количества комнат')\n",
    "plt.show()"
   ]
  },
  {
   "cell_type": "markdown",
   "metadata": {},
   "source": [
    "Нижний «ус» упирается в 0, минимальное значение. Верхний заканчивается около около 6. Это ориентировочная граница нормального размаха.\n",
    "Мы помним, что количество комнат достигало 19, на диаграмме разма этого нет, можно сказать, что она получилось идеальной, это может значить только одно - эти значения входили в то, что мы отбросили в предыдущих шагах."
   ]
  },
  {
   "cell_type": "markdown",
   "metadata": {},
   "source": [
    "#### Высота потолков"
   ]
  },
  {
   "cell_type": "code",
   "execution_count": 51,
   "metadata": {},
   "outputs": [
    {
     "data": {
      "image/png": "[encoded data removed]",
      "text/plain": [
       "<Figure size 432x288 with 1 Axes>"
      ]
     },
     "metadata": {
      "needs_background": "light"
     },
     "output_type": "display_data"
    }
   ],
   "source": [
    "# диаграмма размаха для 'ceiling_height'\n",
    "yandex_estate.boxplot(column='ceiling_height')\n",
    "plt.title('Диаграмма размаха высоты потолков')\n",
    "plt.show()"
   ]
  },
  {
   "cell_type": "markdown",
   "metadata": {},
   "source": [
    "Изменим масштаб графика, чтобы рассмотреть диаграмму размаха лучше."
   ]
  },
  {
   "cell_type": "code",
   "execution_count": 52,
   "metadata": {},
   "outputs": [
    {
     "data": {
      "image/png": "[encoded data removed]",
      "text/plain": [
       "<Figure size 432x288 with 1 Axes>"
      ]
     },
     "metadata": {
      "needs_background": "light"
     },
     "output_type": "display_data"
    }
   ],
   "source": [
    "# изменим масштаб по оси y на 0.75 и 3.025\n",
    "plt.ylim (0.75, 3.025)\n",
    "# диаграмма размаха для 'ceiling_height'\n",
    "yandex_estate.boxplot(column='ceiling_height')\n",
    "plt.title('Диаграмма размаха высоты потолков')\n",
    "plt.show()"
   ]
  },
  {
   "cell_type": "markdown",
   "metadata": {},
   "source": [
    "Нижний «ус» упирается в 2.45 , минимальное значение. Верхний заканчивается около около 2.85. Это ориентировочная граница нормального размаха. Всё, что лежит за ней, считается выбросом. Более высокие значения рисуются отдельными точками, но сливаются в единую жирную линию: таких выбросов очень много."
   ]
  },
  {
   "cell_type": "code",
   "execution_count": 53,
   "metadata": {},
   "outputs": [
    {
     "name": "stdout",
     "output_type": "stream",
     "text": [
      "Количество выбросов для ceiling_height > 2.85: 2187\n"
     ]
    }
   ],
   "source": [
    "# выведем число строк-выбросов ceiling_height > 2.85\n",
    "print('Количество выбросов для ceiling_height > 2.85:', len(yandex_estate.query('ceiling_height > 2.85')))"
   ]
  },
  {
   "cell_type": "code",
   "execution_count": 54,
   "metadata": {},
   "outputs": [
    {
     "name": "stdout",
     "output_type": "stream",
     "text": [
      "Количество выбросов для ceiling_height < 2.45: 43\n"
     ]
    }
   ],
   "source": [
    "# выведем число строк-выбросов  ceiling_height < 2.45)\n",
    "print('Количество выбросов для ceiling_height < 2.45:', len(yandex_estate.query('ceiling_height < 2.45')))"
   ]
  },
  {
   "cell_type": "code",
   "execution_count": 55,
   "metadata": {},
   "outputs": [
    {
     "name": "stdout",
     "output_type": "stream",
     "text": [
      "Доля значений-выбросов для ceiling_height: 10.085933966530982\n"
     ]
    }
   ],
   "source": [
    "# посчитаем долю выбросов высоты потолков ко всему df\n",
    "print('Доля значений-выбросов для ceiling_height:', \n",
    "      (len(yandex_estate.query('(ceiling_height > 2.85) or (ceiling_height < 2.45)'))/ len(yandex_estate)) * 100)"
   ]
  },
  {
   "cell_type": "markdown",
   "metadata": {},
   "source": [
    "Доля значений выбросов составляет ~ 10%. Удалим эти значения."
   ]
  },
  {
   "cell_type": "code",
   "execution_count": 56,
   "metadata": {},
   "outputs": [],
   "source": [
    "# перезапишем в df срез (ceiling_height <= 2.85) or (ceiling_height >= 2.45)\n",
    "yandex_estate = yandex_estate.query('(ceiling_height <= 2.85) or (ceiling_height >= 2.45)')"
   ]
  },
  {
   "cell_type": "markdown",
   "metadata": {},
   "source": [
    "#### Время продажи"
   ]
  },
  {
   "cell_type": "code",
   "execution_count": 57,
   "metadata": {},
   "outputs": [
    {
     "data": {
      "image/png": "[encoded data removed]",
      "text/plain": [
       "<Figure size 432x288 with 1 Axes>"
      ]
     },
     "metadata": {
      "needs_background": "light"
     },
     "output_type": "display_data"
    }
   ],
   "source": [
    "# диаграмма размаха для 'days_exposition'\n",
    "yandex_estate.boxplot(column='days_exposition')\n",
    "plt.title('Диаграмма размаха времени продажи')\n",
    "plt.show()"
   ]
  },
  {
   "cell_type": "markdown",
   "metadata": {},
   "source": [
    "Нижний «ус» упирается в 1 , минимальное значение. Верхний заканчивается около около 500. Это ориентировочная граница нормального размаха. Всё, что лежит за ней, считается выбросом. Более высокие значения рисуются отдельными точками, но сливаются в единую жирную линию: таких выбросов очень много. И всё же значения, которые отсёк верхний «ус», — редкие. Видно, насколько медиана (зелёная линия) не стремится к длинному хвосту высоких значений."
   ]
  },
  {
   "cell_type": "code",
   "execution_count": 58,
   "metadata": {},
   "outputs": [
    {
     "name": "stdout",
     "output_type": "stream",
     "text": [
      "Количество выбросов для days_exposition > 500: 1523\n"
     ]
    }
   ],
   "source": [
    "# выведем число строк-выбросов  days_exposition > 500\n",
    "print('Количество выбросов для days_exposition > 500:', len(yandex_estate.query('days_exposition > 500')))"
   ]
  },
  {
   "cell_type": "code",
   "execution_count": 59,
   "metadata": {
    "scrolled": true
   },
   "outputs": [
    {
     "name": "stdout",
     "output_type": "stream",
     "text": [
      "Доля значений-выбросов для days_exposition: 6.888285843509724\n"
     ]
    }
   ],
   "source": [
    "# посчитаем долю выбросов days_exposition ко всему df\n",
    "print('Доля значений-выбросов для days_exposition:', (len(yandex_estate.query('days_exposition > 500'))/ len(yandex_estate)) * 100)"
   ]
  },
  {
   "cell_type": "markdown",
   "metadata": {},
   "source": [
    "Доля значений выбросов составляет ~ 7%. Удалим эти значения."
   ]
  },
  {
   "cell_type": "code",
   "execution_count": 60,
   "metadata": {},
   "outputs": [],
   "source": [
    "# перезапишем в df срез days_exposition <= 500\n",
    "yandex_estate = yandex_estate.query('days_exposition <= 500')"
   ]
  },
  {
   "cell_type": "markdown",
   "metadata": {},
   "source": [
    "#### Вывод"
   ]
  },
  {
   "cell_type": "code",
   "execution_count": 61,
   "metadata": {},
   "outputs": [
    {
     "name": "stdout",
     "output_type": "stream",
     "text": [
      "Количество строк в неотфильтрованном DF: 23699\n",
      "Количество строк в отфильтрованном DF: 17783\n",
      "Всего удаленно данных: 24.963078610911854\n"
     ]
    }
   ],
   "source": [
    "print('Количество строк в неотфильтрованном DF: 23699')\n",
    "print('Количество строк в отфильтрованном DF:', len(yandex_estate))\n",
    "print('Всего удаленно данных:', (((23699-len(yandex_estate)) / 23699) * 100))"
   ]
  },
  {
   "cell_type": "markdown",
   "metadata": {},
   "source": [
    "Мы проделали не малую работу:\n",
    "* изучили пармаетры таблицы;\n",
    "* определили что такое долгая и быстрая продажи;\n",
    "* избавились от выбросов \n",
    "\n",
    "Данных о недвижимости предостаточно, чтобы проводить исследование. Хоть 25% данных потерялось, качество оставшихся данных улучшилось, а значит показатели будут более достоверными."
   ]
  },
  {
   "cell_type": "markdown",
   "metadata": {},
   "source": [
    "### Влияние на цену квартиры"
   ]
  },
  {
   "cell_type": "markdown",
   "metadata": {},
   "source": [
    "#### Факторы влияния: площадь, количество комнат, этаж, расстояние до центра"
   ]
  },
  {
   "cell_type": "markdown",
   "metadata": {},
   "source": [
    "Узнаем как на `last_price` (цена) влияют:\n",
    "* `total_area` (общая площадь)\n",
    "* `rooms` (количество комнат)\n",
    "* `floor_category` (этаж)\n",
    "* `city_сenters_nearest`(удаленность от центра)"
   ]
  },
  {
   "cell_type": "code",
   "execution_count": 62,
   "metadata": {
    "scrolled": false
   },
   "outputs": [
    {
     "name": "stderr",
     "output_type": "stream",
     "text": [
      "/tmp/ipykernel_344/1391029746.py:4: SettingWithCopyWarning: \n",
      "A value is trying to be set on a copy of a slice from a DataFrame.\n",
      "Try using .loc[row_indexer,col_indexer] = value instead\n",
      "\n",
      "See the caveats in the documentation: https://pandas.pydata.org/pandas-docs/stable/user_guide/indexing.html#returning-a-view-versus-a-copy\n",
      "  df_connection_price_1['floor_category'] = df_connection_price_1['floor_category'].apply(lambda x: 0 if x == 'Первый' else x)\n",
      "/tmp/ipykernel_344/1391029746.py:5: SettingWithCopyWarning: \n",
      "A value is trying to be set on a copy of a slice from a DataFrame.\n",
      "Try using .loc[row_indexer,col_indexer] = value instead\n",
      "\n",
      "See the caveats in the documentation: https://pandas.pydata.org/pandas-docs/stable/user_guide/indexing.html#returning-a-view-versus-a-copy\n",
      "  df_connection_price_1['floor_category'] = df_connection_price_1['floor_category'].apply(lambda x: 2 if x == 'Последний' else x)\n",
      "/tmp/ipykernel_344/1391029746.py:6: SettingWithCopyWarning: \n",
      "A value is trying to be set on a copy of a slice from a DataFrame.\n",
      "Try using .loc[row_indexer,col_indexer] = value instead\n",
      "\n",
      "See the caveats in the documentation: https://pandas.pydata.org/pandas-docs/stable/user_guide/indexing.html#returning-a-view-versus-a-copy\n",
      "  df_connection_price_1['floor_category'] = df_connection_price_1['floor_category'].apply(lambda x: 1 if x == 'Другой' else x)\n"
     ]
    }
   ],
   "source": [
    "# запишем в df_connection_price_1 столбцы 'last_price', 'total_area', 'rooms', 'floor_category', 'city_сenters_nearest'\n",
    "df_connection_price_1 = yandex_estate[['last_price', 'total_area', 'rooms', 'floor_category', 'city_сenters_nearest']]\n",
    "# изменим значения в столбце 'floor_category', где первый : 0, последний : 2, другой : 1\n",
    "df_connection_price_1['floor_category'] = df_connection_price_1['floor_category'].apply(lambda x: 0 if x == 'Первый' else x)\n",
    "df_connection_price_1['floor_category'] = df_connection_price_1['floor_category'].apply(lambda x: 2 if x == 'Последний' else x)\n",
    "df_connection_price_1['floor_category'] = df_connection_price_1['floor_category'].apply(lambda x: 1 if x == 'Другой' else x)"
   ]
  },
  {
   "cell_type": "markdown",
   "metadata": {},
   "source": [
    "Найдем коэффициент корреляции Пирсона, чтобы увидеть взаимосаязб двух или нескольких величин. С помощью коэфф. узнаем, есть ли и насколько тесна связь между ценой на квартиру и другими параметрами."
   ]
  },
  {
   "cell_type": "code",
   "execution_count": 63,
   "metadata": {},
   "outputs": [
    {
     "data": {
      "text/html": [
       "<div>\n",
       "<style scoped>\n",
       "    .dataframe tbody tr th:only-of-type {\n",
       "        vertical-align: middle;\n",
       "    }\n",
       "\n",
       "    .dataframe tbody tr th {\n",
       "        vertical-align: top;\n",
       "    }\n",
       "\n",
       "    .dataframe thead th {\n",
       "        text-align: right;\n",
       "    }\n",
       "</style>\n",
       "<table border=\"1\" class=\"dataframe\">\n",
       "  <thead>\n",
       "    <tr style=\"text-align: right;\">\n",
       "      <th></th>\n",
       "      <th>last_price</th>\n",
       "      <th>total_area</th>\n",
       "      <th>rooms</th>\n",
       "      <th>floor_category</th>\n",
       "      <th>city_сenters_nearest</th>\n",
       "    </tr>\n",
       "  </thead>\n",
       "  <tbody>\n",
       "    <tr>\n",
       "      <th>last_price</th>\n",
       "      <td>1.000000</td>\n",
       "      <td>0.687737</td>\n",
       "      <td>0.399029</td>\n",
       "      <td>0.045358</td>\n",
       "      <td>-0.333751</td>\n",
       "    </tr>\n",
       "    <tr>\n",
       "      <th>total_area</th>\n",
       "      <td>0.687737</td>\n",
       "      <td>1.000000</td>\n",
       "      <td>0.793294</td>\n",
       "      <td>0.025121</td>\n",
       "      <td>-0.169450</td>\n",
       "    </tr>\n",
       "    <tr>\n",
       "      <th>rooms</th>\n",
       "      <td>0.399029</td>\n",
       "      <td>0.793294</td>\n",
       "      <td>1.000000</td>\n",
       "      <td>-0.005689</td>\n",
       "      <td>-0.098967</td>\n",
       "    </tr>\n",
       "    <tr>\n",
       "      <th>floor_category</th>\n",
       "      <td>0.045358</td>\n",
       "      <td>0.025121</td>\n",
       "      <td>-0.005689</td>\n",
       "      <td>1.000000</td>\n",
       "      <td>-0.014028</td>\n",
       "    </tr>\n",
       "    <tr>\n",
       "      <th>city_сenters_nearest</th>\n",
       "      <td>-0.333751</td>\n",
       "      <td>-0.169450</td>\n",
       "      <td>-0.098967</td>\n",
       "      <td>-0.014028</td>\n",
       "      <td>1.000000</td>\n",
       "    </tr>\n",
       "  </tbody>\n",
       "</table>\n",
       "</div>"
      ],
      "text/plain": [
       "                      last_price  total_area     rooms  floor_category  \\\n",
       "last_price              1.000000    0.687737  0.399029        0.045358   \n",
       "total_area              0.687737    1.000000  0.793294        0.025121   \n",
       "rooms                   0.399029    0.793294  1.000000       -0.005689   \n",
       "floor_category          0.045358    0.025121 -0.005689        1.000000   \n",
       "city_сenters_nearest   -0.333751   -0.169450 -0.098967       -0.014028   \n",
       "\n",
       "                      city_сenters_nearest  \n",
       "last_price                       -0.333751  \n",
       "total_area                       -0.169450  \n",
       "rooms                            -0.098967  \n",
       "floor_category                   -0.014028  \n",
       "city_сenters_nearest              1.000000  "
      ]
     },
     "execution_count": 63,
     "metadata": {},
     "output_type": "execute_result"
    }
   ],
   "source": [
    "# выведем матрицу корреляции между величинами\n",
    "df_connection_price_1.corr()"
   ]
  },
  {
   "cell_type": "markdown",
   "metadata": {},
   "source": [
    "Подтвердим наши значения визуально графиком и после сделаем выводы."
   ]
  },
  {
   "cell_type": "code",
   "execution_count": 64,
   "metadata": {
    "scrolled": true
   },
   "outputs": [
    {
     "data": {
      "text/plain": [
       "array([[<AxesSubplot:xlabel='last_price', ylabel='last_price'>,\n",
       "        <AxesSubplot:xlabel='total_area', ylabel='last_price'>,\n",
       "        <AxesSubplot:xlabel='rooms', ylabel='last_price'>,\n",
       "        <AxesSubplot:xlabel='floor_category', ylabel='last_price'>,\n",
       "        <AxesSubplot:xlabel='city_сenters_nearest', ylabel='last_price'>],\n",
       "       [<AxesSubplot:xlabel='last_price', ylabel='total_area'>,\n",
       "        <AxesSubplot:xlabel='total_area', ylabel='total_area'>,\n",
       "        <AxesSubplot:xlabel='rooms', ylabel='total_area'>,\n",
       "        <AxesSubplot:xlabel='floor_category', ylabel='total_area'>,\n",
       "        <AxesSubplot:xlabel='city_сenters_nearest', ylabel='total_area'>],\n",
       "       [<AxesSubplot:xlabel='last_price', ylabel='rooms'>,\n",
       "        <AxesSubplot:xlabel='total_area', ylabel='rooms'>,\n",
       "        <AxesSubplot:xlabel='rooms', ylabel='rooms'>,\n",
       "        <AxesSubplot:xlabel='floor_category', ylabel='rooms'>,\n",
       "        <AxesSubplot:xlabel='city_сenters_nearest', ylabel='rooms'>],\n",
       "       [<AxesSubplot:xlabel='last_price', ylabel='floor_category'>,\n",
       "        <AxesSubplot:xlabel='total_area', ylabel='floor_category'>,\n",
       "        <AxesSubplot:xlabel='rooms', ylabel='floor_category'>,\n",
       "        <AxesSubplot:xlabel='floor_category', ylabel='floor_category'>,\n",
       "        <AxesSubplot:xlabel='city_сenters_nearest', ylabel='floor_category'>],\n",
       "       [<AxesSubplot:xlabel='last_price', ylabel='city_сenters_nearest'>,\n",
       "        <AxesSubplot:xlabel='total_area', ylabel='city_сenters_nearest'>,\n",
       "        <AxesSubplot:xlabel='rooms', ylabel='city_сenters_nearest'>,\n",
       "        <AxesSubplot:xlabel='floor_category', ylabel='city_сenters_nearest'>,\n",
       "        <AxesSubplot:xlabel='city_сenters_nearest', ylabel='city_сenters_nearest'>]],\n",
       "      dtype=object)"
      ]
     },
     "execution_count": 64,
     "metadata": {},
     "output_type": "execute_result"
    },
    {
     "data": {
      "image/png": "[encoded data removed]",
      "text/plain": [
       "<Figure size 648x648 with 25 Axes>"
      ]
     },
     "metadata": {
      "needs_background": "light"
     },
     "output_type": "display_data"
    }
   ],
   "source": [
    "# построим диаграмму рассейяния попарно для всех величин\n",
    "pd.plotting.scatter_matrix(df_connection_price_1, figsize=(9, 9))"
   ]
  },
  {
   "cell_type": "markdown",
   "metadata": {},
   "source": [
    "**Выводы**\n",
    "\n",
    " 1. Главный фактор влияния на цену за недвижимость является площадь помещения. Коэфф. корреляции Пирсона ~ 0.7: положительный, что говорит о том, что при увеличении площади будет расти и цена; 0.7 близко к 1, а значит взаимосвязь этих парметров тесная. На диаграмме рассеяния видно, что площадь до 20 кв.м. имеет самую низку цену, да и объявлений с такой площадью гораздо меньше. а вот помещений с площадью от 50 кв.м. до 100 кв.м. - много, цена растет.\n",
    " 2. Второй фактор влияния на стоимость недвижимости - количество комнат в помещении. Коэфф. корреляции Пирсона ~ 0.4: положительный, что говорит о том, что при увеличении площади будет расти и цена; 0.4 говорит о наличии связи, однако не слишком сильной. На диаграмме рассеяния видно, что с количеством комнат цена растет.\n",
    " 3. Третий фактор - на каком этаже расположена квартира.  Коэфф. корреляции Пирсона ~ 0.05: что объясняет, что при изменении цены - этаж не поменяется, линейной связи в данном случае нет.\n",
    " 4. Последний фактор из нашей выборки - расстояние до центра города. Коэфф. корреляции Пирсона ~ (-0.3): отрицательный, что говорит о том, что при увелечении цены будет уменьшатся расстояние до центра города. -0.3 близко к нулю, но утверждать, что расстояние совсем не влияет на цену мы не можем."
   ]
  },
  {
   "cell_type": "markdown",
   "metadata": {},
   "source": [
    "#### Фактор влияния на цену: дата размещения"
   ]
  },
  {
   "cell_type": "code",
   "execution_count": 65,
   "metadata": {},
   "outputs": [],
   "source": [
    "# запишем в df_connection_price_2 столбцы 'last_price', 'days_publication', 'months_publication', 'years_publication'\n",
    "df_connection_price_2 = yandex_estate[['last_price', 'days_publication', 'months_publication', 'years_publication']]"
   ]
  },
  {
   "cell_type": "code",
   "execution_count": 66,
   "metadata": {},
   "outputs": [
    {
     "data": {
      "text/html": [
       "<div>\n",
       "<style scoped>\n",
       "    .dataframe tbody tr th:only-of-type {\n",
       "        vertical-align: middle;\n",
       "    }\n",
       "\n",
       "    .dataframe tbody tr th {\n",
       "        vertical-align: top;\n",
       "    }\n",
       "\n",
       "    .dataframe thead th {\n",
       "        text-align: right;\n",
       "    }\n",
       "</style>\n",
       "<table border=\"1\" class=\"dataframe\">\n",
       "  <thead>\n",
       "    <tr style=\"text-align: right;\">\n",
       "      <th></th>\n",
       "      <th>last_price</th>\n",
       "      <th>days_publication</th>\n",
       "      <th>months_publication</th>\n",
       "      <th>years_publication</th>\n",
       "    </tr>\n",
       "  </thead>\n",
       "  <tbody>\n",
       "    <tr>\n",
       "      <th>last_price</th>\n",
       "      <td>1.000000</td>\n",
       "      <td>-0.002515</td>\n",
       "      <td>-0.003449</td>\n",
       "      <td>-0.001650</td>\n",
       "    </tr>\n",
       "    <tr>\n",
       "      <th>days_publication</th>\n",
       "      <td>-0.002515</td>\n",
       "      <td>1.000000</td>\n",
       "      <td>0.010691</td>\n",
       "      <td>-0.002784</td>\n",
       "    </tr>\n",
       "    <tr>\n",
       "      <th>months_publication</th>\n",
       "      <td>-0.003449</td>\n",
       "      <td>0.010691</td>\n",
       "      <td>1.000000</td>\n",
       "      <td>-0.225251</td>\n",
       "    </tr>\n",
       "    <tr>\n",
       "      <th>years_publication</th>\n",
       "      <td>-0.001650</td>\n",
       "      <td>-0.002784</td>\n",
       "      <td>-0.225251</td>\n",
       "      <td>1.000000</td>\n",
       "    </tr>\n",
       "  </tbody>\n",
       "</table>\n",
       "</div>"
      ],
      "text/plain": [
       "                    last_price  days_publication  months_publication  \\\n",
       "last_price            1.000000         -0.002515           -0.003449   \n",
       "days_publication     -0.002515          1.000000            0.010691   \n",
       "months_publication   -0.003449          0.010691            1.000000   \n",
       "years_publication    -0.001650         -0.002784           -0.225251   \n",
       "\n",
       "                    years_publication  \n",
       "last_price                  -0.001650  \n",
       "days_publication            -0.002784  \n",
       "months_publication          -0.225251  \n",
       "years_publication            1.000000  "
      ]
     },
     "execution_count": 66,
     "metadata": {},
     "output_type": "execute_result"
    }
   ],
   "source": [
    "# выведем матрицу корреляции между величинами\n",
    "df_connection_price_2.corr()"
   ]
  },
  {
   "cell_type": "markdown",
   "metadata": {},
   "source": [
    "**Вывод**\n",
    "\n",
    "Как видно из матрицы коллеряции, все коэфф. около 0, а это значит, что прямой зависимости нет."
   ]
  },
  {
   "cell_type": "markdown",
   "metadata": {},
   "source": [
    "### Топ-10: населенные пункты"
   ]
  },
  {
   "cell_type": "markdown",
   "metadata": {},
   "source": [
    "Найдем топ-10 по количеству публикаций в населенных пунктах методом `value_counts`. "
   ]
  },
  {
   "cell_type": "code",
   "execution_count": 67,
   "metadata": {},
   "outputs": [
    {
     "data": {
      "text/plain": [
       "Санкт-Петербург      11581\n",
       "посёлок Мурино         484\n",
       "посёлок Шушары         380\n",
       "Всеволожск             304\n",
       "Колпино                288\n",
       "посёлок Парголово      284\n",
       "Пушкин                 264\n",
       "деревня Кудрово        254\n",
       "Гатчина                238\n",
       "Выборг                 185\n",
       "Name: locality_name, dtype: int64"
      ]
     },
     "execution_count": 67,
     "metadata": {},
     "output_type": "execute_result"
    }
   ],
   "source": [
    "# подсчет количества публикаций в каждом населенном пункте\n",
    "yandex_estate['locality_name'].value_counts().head(10)"
   ]
  },
  {
   "cell_type": "code",
   "execution_count": 68,
   "metadata": {},
   "outputs": [
    {
     "data": {
      "text/plain": [
       "<AxesSubplot:title={'center':'Количество публикаций по городам'}>"
      ]
     },
     "execution_count": 68,
     "metadata": {},
     "output_type": "execute_result"
    },
    {
     "data": {
      "image/png": "[encoded data removed]",
      "text/plain": [
       "<Figure size 432x288 with 1 Axes>"
      ]
     },
     "metadata": {
      "needs_background": "light"
     },
     "output_type": "display_data"
    }
   ],
   "source": [
    "yandex_estate['locality_name'].value_counts().head(10).plot(kind='bar', title='Количество публикаций по городам')"
   ]
  },
  {
   "cell_type": "code",
   "execution_count": 69,
   "metadata": {},
   "outputs": [],
   "source": [
    "# запишем в locality_series - series топ 10\n",
    "locality_series = yandex_estate['locality_name'].value_counts().head(10)\n",
    "# запишем в top_10_locality - те строчки датафрейма, у которых населенный пункт есть в locality_series\n",
    "top_10_locality = yandex_estate.query('locality_name in @locality_series.index')"
   ]
  },
  {
   "cell_type": "code",
   "execution_count": 70,
   "metadata": {},
   "outputs": [
    {
     "data": {
      "text/html": [
       "<div>\n",
       "<style scoped>\n",
       "    .dataframe tbody tr th:only-of-type {\n",
       "        vertical-align: middle;\n",
       "    }\n",
       "\n",
       "    .dataframe tbody tr th {\n",
       "        vertical-align: top;\n",
       "    }\n",
       "\n",
       "    .dataframe thead th {\n",
       "        text-align: right;\n",
       "    }\n",
       "</style>\n",
       "<table border=\"1\" class=\"dataframe\">\n",
       "  <thead>\n",
       "    <tr style=\"text-align: right;\">\n",
       "      <th></th>\n",
       "      <th>price_square_meter</th>\n",
       "    </tr>\n",
       "    <tr>\n",
       "      <th>locality_name</th>\n",
       "      <th></th>\n",
       "    </tr>\n",
       "  </thead>\n",
       "  <tbody>\n",
       "    <tr>\n",
       "      <th>Санкт-Петербург</th>\n",
       "      <td>108633.791901</td>\n",
       "    </tr>\n",
       "    <tr>\n",
       "      <th>Пушкин</th>\n",
       "      <td>101237.886364</td>\n",
       "    </tr>\n",
       "    <tr>\n",
       "      <th>деревня Кудрово</th>\n",
       "      <td>93371.523622</td>\n",
       "    </tr>\n",
       "    <tr>\n",
       "      <th>посёлок Парголово</th>\n",
       "      <td>89854.883803</td>\n",
       "    </tr>\n",
       "    <tr>\n",
       "      <th>посёлок Мурино</th>\n",
       "      <td>86679.473140</td>\n",
       "    </tr>\n",
       "    <tr>\n",
       "      <th>посёлок Шушары</th>\n",
       "      <td>78455.294737</td>\n",
       "    </tr>\n",
       "    <tr>\n",
       "      <th>Колпино</th>\n",
       "      <td>74986.024306</td>\n",
       "    </tr>\n",
       "    <tr>\n",
       "      <th>Всеволожск</th>\n",
       "      <td>69123.286184</td>\n",
       "    </tr>\n",
       "    <tr>\n",
       "      <th>Гатчина</th>\n",
       "      <td>68511.789916</td>\n",
       "    </tr>\n",
       "    <tr>\n",
       "      <th>Выборг</th>\n",
       "      <td>57124.508108</td>\n",
       "    </tr>\n",
       "  </tbody>\n",
       "</table>\n",
       "</div>"
      ],
      "text/plain": [
       "                   price_square_meter\n",
       "locality_name                        \n",
       "Санкт-Петербург         108633.791901\n",
       "Пушкин                  101237.886364\n",
       "деревня Кудрово          93371.523622\n",
       "посёлок Парголово        89854.883803\n",
       "посёлок Мурино           86679.473140\n",
       "посёлок Шушары           78455.294737\n",
       "Колпино                  74986.024306\n",
       "Всеволожск               69123.286184\n",
       "Гатчина                  68511.789916\n",
       "Выборг                   57124.508108"
      ]
     },
     "execution_count": 70,
     "metadata": {},
     "output_type": "execute_result"
    }
   ],
   "source": [
    "# поместим в переменную top_10 данные из таблицы top_10_locality со средним значением по цене за кв.м по каждому нас. пункту\n",
    "# отсортируем по убыванию\n",
    "top_10 = (\n",
    "    top_10_locality\n",
    "    .pivot_table(index='locality_name', values='price_square_meter')\n",
    "    .sort_values(by='price_square_meter', ascending = False)\n",
    ")\n",
    "top_10"
   ]
  },
  {
   "cell_type": "markdown",
   "metadata": {},
   "source": [
    "**Вывод**\n",
    "\n",
    "В топ-10 населенных пунктов по продаже недвижимости вошли такие населенные пункты, как г.Санкт-Петербург, г.Пушкин, д.Кудрово и другие.\n",
    "Мы посчитали среднюю цену за квадратный метр в этих населенных пунктах, и увидели, что самая дорогая недвижимость в г.Санкт-Петербург, тут цена за квадратный метр около 108.634р, а самая низкая стоимость жилья в г.Выборг, почти в половину меньше - 57.125р."
   ]
  },
  {
   "cell_type": "markdown",
   "metadata": {},
   "source": [
    "### Область, входящия в центр"
   ]
  },
  {
   "cell_type": "markdown",
   "metadata": {},
   "source": [
    "Для того чтобы найти ту самую область, которая считается центром, запишем сначала в перменную `city_center` все строки `df`, где населенный пункт Санкт-Петербург."
   ]
  },
  {
   "cell_type": "code",
   "execution_count": 71,
   "metadata": {},
   "outputs": [],
   "source": [
    "# присвоим city_center срез из df, где населенный пункт Санкт-Петербург\n",
    "city_center = yandex_estate.query('\"Санкт-Петербург\" in locality_name ')"
   ]
  },
  {
   "cell_type": "markdown",
   "metadata": {},
   "source": [
    "Создадим столбец `city_сenters_nearest_km`, который будет хранить значения расстояния до центра в километрах. Для этого поделим значения столбца `city_сenters_nearest` на 1000 (1км=1000м) и прибавим 1 (int округляет числа в строну минимального значения, и например 400м станут 0км). Поменяем тип данным в новом стобце на int."
   ]
  },
  {
   "cell_type": "code",
   "execution_count": 72,
   "metadata": {
    "scrolled": false
   },
   "outputs": [
    {
     "name": "stderr",
     "output_type": "stream",
     "text": [
      "/tmp/ipykernel_344/4157000555.py:2: SettingWithCopyWarning: \n",
      "A value is trying to be set on a copy of a slice from a DataFrame.\n",
      "Try using .loc[row_indexer,col_indexer] = value instead\n",
      "\n",
      "See the caveats in the documentation: https://pandas.pydata.org/pandas-docs/stable/user_guide/indexing.html#returning-a-view-versus-a-copy\n",
      "  city_center['city_сenters_nearest_km'] = city_center['city_сenters_nearest'].apply(lambda x: int((x/1000)+1))\n"
     ]
    }
   ],
   "source": [
    "# запишем в 'city_сenters_nearest_km' значения расстояния в километрах и поменяем тип данных\n",
    "city_center['city_сenters_nearest_km'] = city_center['city_сenters_nearest'].apply(lambda x: int((x/1000)+1))"
   ]
  },
  {
   "cell_type": "markdown",
   "metadata": {},
   "source": [
    "Создадим столбец `price_km`, который будет хранить отношение цены и расстояния до центра:"
   ]
  },
  {
   "cell_type": "code",
   "execution_count": 73,
   "metadata": {
    "scrolled": true
   },
   "outputs": [
    {
     "name": "stderr",
     "output_type": "stream",
     "text": [
      "/tmp/ipykernel_344/2569752060.py:2: SettingWithCopyWarning: \n",
      "A value is trying to be set on a copy of a slice from a DataFrame.\n",
      "Try using .loc[row_indexer,col_indexer] = value instead\n",
      "\n",
      "See the caveats in the documentation: https://pandas.pydata.org/pandas-docs/stable/user_guide/indexing.html#returning-a-view-versus-a-copy\n",
      "  city_center['price_km'] = city_center['last_price'] / city_center['city_сenters_nearest_km']\n"
     ]
    }
   ],
   "source": [
    "# запишем в 'price_km' отношение цены и расстояния до центра в километрах\n",
    "city_center['price_km'] = city_center['last_price'] / city_center['city_сenters_nearest_km']"
   ]
  },
  {
   "cell_type": "markdown",
   "metadata": {},
   "source": [
    "Отфильтруем city_center, выбрав только нужные нам столбцы 'city_сenters_nearest_km','price_km', и запишем в переменную city_center_filtr:"
   ]
  },
  {
   "cell_type": "code",
   "execution_count": 74,
   "metadata": {},
   "outputs": [],
   "source": [
    "# запишем в city_center_filtr новые столбцы city_center - 'city_сenters_nearest_km','price_km'\n",
    "city_center_filtr = city_center[['city_сenters_nearest_km','price_km']]"
   ]
  },
  {
   "cell_type": "markdown",
   "metadata": {},
   "source": [
    "Создадим новый DataFrame, с названиями колонок `km` и `price_median`, которые будут хранить километры (уникальные значения) и среднюю цену за километр."
   ]
  },
  {
   "cell_type": "code",
   "execution_count": 75,
   "metadata": {},
   "outputs": [],
   "source": [
    "# создадим kilometers и положим туда список с уникальными значениями расстояни до центра в километрах\n",
    "kilometers = list(city_center_filtr['city_сenters_nearest_km'].unique())\n",
    "# отсортируем этот список\n",
    "kilometers.sort()\n",
    "\n",
    "# создадим DataFrame - median_km_price, где столбец 'km' принимается значение kilometers\n",
    "median_km_price = pd.DataFrame(kilometers, columns=['km']) \n",
    "\n",
    "# напишем функцию calc_median, которая будет возвращать среднюю стоимость каждого километра\n",
    "def calc_median(km, df_city):\n",
    "    km_prices = df_city[df_city['city_сenters_nearest_km'] == km]\n",
    "    return km_prices['price_km'].mean()\n",
    "\n",
    "# сощдадим столбец 'price_median' и запишем в него возвращаемые значения функции calc_median\n",
    "median_km_price['price_median'] = median_km_price['km'].apply(lambda x: calc_median(x, city_center))"
   ]
  },
  {
   "cell_type": "markdown",
   "metadata": {},
   "source": [
    "Выведем первые 5 строк median_km_price:"
   ]
  },
  {
   "cell_type": "code",
   "execution_count": 76,
   "metadata": {},
   "outputs": [
    {
     "data": {
      "text/html": [
       "<div>\n",
       "<style scoped>\n",
       "    .dataframe tbody tr th:only-of-type {\n",
       "        vertical-align: middle;\n",
       "    }\n",
       "\n",
       "    .dataframe tbody tr th {\n",
       "        vertical-align: top;\n",
       "    }\n",
       "\n",
       "    .dataframe thead th {\n",
       "        text-align: right;\n",
       "    }\n",
       "</style>\n",
       "<table border=\"1\" class=\"dataframe\">\n",
       "  <thead>\n",
       "    <tr style=\"text-align: right;\">\n",
       "      <th></th>\n",
       "      <th>km</th>\n",
       "      <th>price_median</th>\n",
       "    </tr>\n",
       "  </thead>\n",
       "  <tbody>\n",
       "    <tr>\n",
       "      <th>0</th>\n",
       "      <td>1</td>\n",
       "      <td>9.391773e+06</td>\n",
       "    </tr>\n",
       "    <tr>\n",
       "      <th>1</th>\n",
       "      <td>2</td>\n",
       "      <td>4.883631e+06</td>\n",
       "    </tr>\n",
       "    <tr>\n",
       "      <th>2</th>\n",
       "      <td>3</td>\n",
       "      <td>3.030091e+06</td>\n",
       "    </tr>\n",
       "    <tr>\n",
       "      <th>3</th>\n",
       "      <td>4</td>\n",
       "      <td>1.951563e+06</td>\n",
       "    </tr>\n",
       "    <tr>\n",
       "      <th>4</th>\n",
       "      <td>5</td>\n",
       "      <td>1.826649e+06</td>\n",
       "    </tr>\n",
       "  </tbody>\n",
       "</table>\n",
       "</div>"
      ],
      "text/plain": [
       "   km  price_median\n",
       "0   1  9.391773e+06\n",
       "1   2  4.883631e+06\n",
       "2   3  3.030091e+06\n",
       "3   4  1.951563e+06\n",
       "4   5  1.826649e+06"
      ]
     },
     "execution_count": 76,
     "metadata": {},
     "output_type": "execute_result"
    }
   ],
   "source": [
    "# выведем первые 5 строк median_km_price\n",
    "median_km_price.head()"
   ]
  },
  {
   "cell_type": "markdown",
   "metadata": {},
   "source": [
    "Построим графики сначала всех цен от километров (по city_center), а после среднее цены от каждого киллометра. Сравним и сделаем выводы."
   ]
  },
  {
   "cell_type": "code",
   "execution_count": 77,
   "metadata": {
    "scrolled": true
   },
   "outputs": [
    {
     "data": {
      "text/plain": [
       "<AxesSubplot:title={'center':'Зависимость цены от расстояния'}, xlabel='city_сenters_nearest_km'>"
      ]
     },
     "execution_count": 77,
     "metadata": {},
     "output_type": "execute_result"
    },
    {
     "data": {
      "image/png": "[encoded data removed]",
      "text/plain": [
       "<Figure size 432x288 with 1 Axes>"
      ]
     },
     "metadata": {
      "needs_background": "light"
     },
     "output_type": "display_data"
    }
   ],
   "source": [
    "# построим график методом plot, передадим ему параметры : название таблицы, значения для оси y и x, \n",
    "# диапазон по оси х от 0 до 32, стиль обозначения -точка, прозрачность 0.3\n",
    "city_center.plot(title='Зависимость цены от расстояния',y='price_km', \n",
    "                 x='city_сenters_nearest_km', style='o', xlim=(0,32), alpha=0.3)"
   ]
  },
  {
   "cell_type": "code",
   "execution_count": 78,
   "metadata": {},
   "outputs": [
    {
     "data": {
      "text/plain": [
       "<AxesSubplot:title={'center':'Зависимость средней цены от расстояния'}, xlabel='km'>"
      ]
     },
     "execution_count": 78,
     "metadata": {},
     "output_type": "execute_result"
    },
    {
     "data": {
      "image/png": "[encoded data removed]",
      "text/plain": [
       "<Figure size 432x288 with 1 Axes>"
      ]
     },
     "metadata": {
      "needs_background": "light"
     },
     "output_type": "display_data"
    }
   ],
   "source": [
    "# построим график методом plot, передадим ему параметры : название таблицы, значения для оси y и x, \n",
    "# диапазон по оси х от 0 до 32, стиль обозначения -точка и прямая\n",
    "median_km_price.plot(title='Зависимость средней цены от расстояния', y='price_median', x='km', style='o-', xlim=(0,32))"
   ]
  },
  {
   "cell_type": "markdown",
   "metadata": {},
   "source": [
    "**Вывод**"
   ]
  },
  {
   "cell_type": "markdown",
   "metadata": {},
   "source": [
    "На графике видно, что в точке, где расстояние равно 10км цена начинает меняться незначительно, плавно. Из этого следует, что в центральную обсласть входят те объекты, которые находятся в радиусе 10км от центра города."
   ]
  },
  {
   "cell_type": "markdown",
   "metadata": {},
   "source": [
    "### Анализ квартир в центре"
   ]
  },
  {
   "cell_type": "markdown",
   "metadata": {},
   "source": [
    "Для анализа недвижимости в черте центра города отфильтруем данные, где `city_сenters_nearest` будет меньше или равно 10000м (10км) и запишем отфильтрованный `df` в переменную `df_filtr`."
   ]
  },
  {
   "cell_type": "code",
   "execution_count": 79,
   "metadata": {},
   "outputs": [],
   "source": [
    "# отфильтруем df по условию и запишем в df_filtr\n",
    "df_filtr = yandex_estate.query('city_сenters_nearest <= 10000')"
   ]
  },
  {
   "cell_type": "markdown",
   "metadata": {},
   "source": [
    "Посмотрим, какие населенные пункты находятся в радиусе центра. Результат выведем на экран:"
   ]
  },
  {
   "cell_type": "code",
   "execution_count": 80,
   "metadata": {},
   "outputs": [
    {
     "name": "stdout",
     "output_type": "stream",
     "text": [
      "В радиусе центра находятся населенные пункты: ['Санкт-Петербург' nan]\n"
     ]
    }
   ],
   "source": [
    "print('В радиусе центра находятся населенные пункты:' ,df_filtr['locality_name'].unique())"
   ]
  },
  {
   "cell_type": "markdown",
   "metadata": {},
   "source": [
    "Методом `describe()` изучим площадь, цену, число комнат и высоту потолков:"
   ]
  },
  {
   "cell_type": "code",
   "execution_count": 81,
   "metadata": {},
   "outputs": [
    {
     "data": {
      "text/html": [
       "<div>\n",
       "<style scoped>\n",
       "    .dataframe tbody tr th:only-of-type {\n",
       "        vertical-align: middle;\n",
       "    }\n",
       "\n",
       "    .dataframe tbody tr th {\n",
       "        vertical-align: top;\n",
       "    }\n",
       "\n",
       "    .dataframe thead th {\n",
       "        text-align: right;\n",
       "    }\n",
       "</style>\n",
       "<table border=\"1\" class=\"dataframe\">\n",
       "  <thead>\n",
       "    <tr style=\"text-align: right;\">\n",
       "      <th></th>\n",
       "      <th>last_price</th>\n",
       "      <th>total_area</th>\n",
       "      <th>rooms</th>\n",
       "      <th>ceiling_height</th>\n",
       "    </tr>\n",
       "  </thead>\n",
       "  <tbody>\n",
       "    <tr>\n",
       "      <th>count</th>\n",
       "      <td>3.114000e+03</td>\n",
       "      <td>3114.000000</td>\n",
       "      <td>3114.000000</td>\n",
       "      <td>3114.000000</td>\n",
       "    </tr>\n",
       "    <tr>\n",
       "      <th>mean</th>\n",
       "      <td>7.773642e+06</td>\n",
       "      <td>62.423571</td>\n",
       "      <td>2.170199</td>\n",
       "      <td>2.869107</td>\n",
       "    </tr>\n",
       "    <tr>\n",
       "      <th>std</th>\n",
       "      <td>4.354177e+06</td>\n",
       "      <td>21.771130</td>\n",
       "      <td>0.923651</td>\n",
       "      <td>1.909947</td>\n",
       "    </tr>\n",
       "    <tr>\n",
       "      <th>min</th>\n",
       "      <td>1.219000e+04</td>\n",
       "      <td>12.000000</td>\n",
       "      <td>0.000000</td>\n",
       "      <td>2.400000</td>\n",
       "    </tr>\n",
       "    <tr>\n",
       "      <th>25%</th>\n",
       "      <td>4.999250e+06</td>\n",
       "      <td>45.000000</td>\n",
       "      <td>1.000000</td>\n",
       "      <td>2.650000</td>\n",
       "    </tr>\n",
       "    <tr>\n",
       "      <th>50%</th>\n",
       "      <td>6.800000e+06</td>\n",
       "      <td>60.000000</td>\n",
       "      <td>2.000000</td>\n",
       "      <td>2.650000</td>\n",
       "    </tr>\n",
       "    <tr>\n",
       "      <th>75%</th>\n",
       "      <td>9.200000e+06</td>\n",
       "      <td>79.000000</td>\n",
       "      <td>3.000000</td>\n",
       "      <td>3.000000</td>\n",
       "    </tr>\n",
       "    <tr>\n",
       "      <th>max</th>\n",
       "      <td>5.300000e+07</td>\n",
       "      <td>110.000000</td>\n",
       "      <td>6.000000</td>\n",
       "      <td>100.000000</td>\n",
       "    </tr>\n",
       "  </tbody>\n",
       "</table>\n",
       "</div>"
      ],
      "text/plain": [
       "         last_price   total_area        rooms  ceiling_height\n",
       "count  3.114000e+03  3114.000000  3114.000000     3114.000000\n",
       "mean   7.773642e+06    62.423571     2.170199        2.869107\n",
       "std    4.354177e+06    21.771130     0.923651        1.909947\n",
       "min    1.219000e+04    12.000000     0.000000        2.400000\n",
       "25%    4.999250e+06    45.000000     1.000000        2.650000\n",
       "50%    6.800000e+06    60.000000     2.000000        2.650000\n",
       "75%    9.200000e+06    79.000000     3.000000        3.000000\n",
       "max    5.300000e+07   110.000000     6.000000      100.000000"
      ]
     },
     "execution_count": 81,
     "metadata": {},
     "output_type": "execute_result"
    }
   ],
   "source": [
    "# список столбцов, которые нужно изучить columns_describe\n",
    "columns_describe = ['last_price', 'total_area', 'rooms', 'ceiling_height']\n",
    "# числовая информация о данных в столбцах 'last_price', 'total_area', 'rooms', 'ceiling_height'\n",
    "df_filtr[columns_describe].describe()"
   ]
  },
  {
   "cell_type": "markdown",
   "metadata": {},
   "source": [
    "`last_price` :\n",
    "\n",
    "* Можно заметить, что средняя цена центре в г.Санкт-Петербург 6.8 миллионов рублей\n",
    "* Максимальное значение (max) входит в межквартильный размах\n",
    "* Медиана в 1.5 раза больше стандартного отклонение.\n",
    "\n",
    "`total_area`:\n",
    "    \n",
    "* Средняя площадь ~ 60 кв.м. \n",
    "* Минимальное значение - 12 кв.м., максимальное - 110 кв.м. \n",
    "* В основном продаются квартиры площадью от 45 кв.м. до 80 кв.м. \n",
    "* Медиана и стандартное отклонение различаются в 3 раза, так как минимальная площадь 12кв.м.\n",
    "\n",
    "`rooms`:\n",
    "\n",
    "* В основном в продаже двушки и трешки. Бывают и квартиры-студии, где количсетво комнат равно 0.\n",
    "* Максимальное количество комнат - 6.\n",
    "* Медина и стандартное отклонение различаются в 2 раза (присутстуют квартиры студии)\n",
    "\n",
    "`ceiling_height`:\n",
    "\n",
    "* Стандартное отклоние не сильно отличается от медианы.\n",
    "* Минимальная высота потлков - 2.4 метр.\n",
    "* В основном квартиры с высотой потолков от 2.65м до 3м"
   ]
  },
  {
   "cell_type": "markdown",
   "metadata": {},
   "source": [
    "Узнаем как на `last_price` (цена) в центре влияют:\n",
    "* `total_area` (общая площадь)\n",
    "* `rooms` (количество комнат)\n",
    "* `floor_category` (этаж)\n",
    "* `city_сenters_nearest`(удаленность от центра)"
   ]
  },
  {
   "cell_type": "code",
   "execution_count": 82,
   "metadata": {
    "scrolled": true
   },
   "outputs": [
    {
     "name": "stderr",
     "output_type": "stream",
     "text": [
      "/tmp/ipykernel_344/2008332191.py:4: SettingWithCopyWarning: \n",
      "A value is trying to be set on a copy of a slice from a DataFrame.\n",
      "Try using .loc[row_indexer,col_indexer] = value instead\n",
      "\n",
      "See the caveats in the documentation: https://pandas.pydata.org/pandas-docs/stable/user_guide/indexing.html#returning-a-view-versus-a-copy\n",
      "  df_connection_price_3['floor_category'] = df_connection_price_3['floor_category'].apply(lambda x: 0 if x == 'Первый' else x)\n",
      "/tmp/ipykernel_344/2008332191.py:5: SettingWithCopyWarning: \n",
      "A value is trying to be set on a copy of a slice from a DataFrame.\n",
      "Try using .loc[row_indexer,col_indexer] = value instead\n",
      "\n",
      "See the caveats in the documentation: https://pandas.pydata.org/pandas-docs/stable/user_guide/indexing.html#returning-a-view-versus-a-copy\n",
      "  df_connection_price_3['floor_category'] = df_connection_price_3['floor_category'].apply(lambda x: 2 if x == 'Последний' else x)\n",
      "/tmp/ipykernel_344/2008332191.py:6: SettingWithCopyWarning: \n",
      "A value is trying to be set on a copy of a slice from a DataFrame.\n",
      "Try using .loc[row_indexer,col_indexer] = value instead\n",
      "\n",
      "See the caveats in the documentation: https://pandas.pydata.org/pandas-docs/stable/user_guide/indexing.html#returning-a-view-versus-a-copy\n",
      "  df_connection_price_3['floor_category'] = df_connection_price_3['floor_category'].apply(lambda x: 1 if x == 'Другой' else x)\n"
     ]
    }
   ],
   "source": [
    "# запишем в df_connection_price_3 столбцы 'last_price', 'total_area', 'rooms', 'floor_category', 'city_сenters_nearest'\n",
    "df_connection_price_3 = df_filtr[['last_price', 'total_area', 'rooms', 'floor_category', 'city_сenters_nearest']]\n",
    "# изменим значения в столбце 'floor_category', где первый : 0, последний : 2, другой : 1\n",
    "df_connection_price_3['floor_category'] = df_connection_price_3['floor_category'].apply(lambda x: 0 if x == 'Первый' else x)\n",
    "df_connection_price_3['floor_category'] = df_connection_price_3['floor_category'].apply(lambda x: 2 if x == 'Последний' else x)\n",
    "df_connection_price_3['floor_category'] = df_connection_price_3['floor_category'].apply(lambda x: 1 if x == 'Другой' else x)"
   ]
  },
  {
   "cell_type": "markdown",
   "metadata": {},
   "source": [
    "Найдем коэффициент корреляции Пирсона, чтобы увидеть взаимосаязб двух или нескольких величин. С помощью коэфф. узнаем, есть ли и насколько тесна связь между ценой на квартиру и другими параметрами."
   ]
  },
  {
   "cell_type": "code",
   "execution_count": 83,
   "metadata": {},
   "outputs": [
    {
     "data": {
      "text/html": [
       "<div>\n",
       "<style scoped>\n",
       "    .dataframe tbody tr th:only-of-type {\n",
       "        vertical-align: middle;\n",
       "    }\n",
       "\n",
       "    .dataframe tbody tr th {\n",
       "        vertical-align: top;\n",
       "    }\n",
       "\n",
       "    .dataframe thead th {\n",
       "        text-align: right;\n",
       "    }\n",
       "</style>\n",
       "<table border=\"1\" class=\"dataframe\">\n",
       "  <thead>\n",
       "    <tr style=\"text-align: right;\">\n",
       "      <th></th>\n",
       "      <th>last_price</th>\n",
       "      <th>total_area</th>\n",
       "      <th>rooms</th>\n",
       "      <th>floor_category</th>\n",
       "      <th>city_сenters_nearest</th>\n",
       "    </tr>\n",
       "  </thead>\n",
       "  <tbody>\n",
       "    <tr>\n",
       "      <th>last_price</th>\n",
       "      <td>1.000000</td>\n",
       "      <td>0.661600</td>\n",
       "      <td>0.362618</td>\n",
       "      <td>0.069354</td>\n",
       "      <td>-0.257486</td>\n",
       "    </tr>\n",
       "    <tr>\n",
       "      <th>total_area</th>\n",
       "      <td>0.661600</td>\n",
       "      <td>1.000000</td>\n",
       "      <td>0.770914</td>\n",
       "      <td>0.096824</td>\n",
       "      <td>-0.290752</td>\n",
       "    </tr>\n",
       "    <tr>\n",
       "      <th>rooms</th>\n",
       "      <td>0.362618</td>\n",
       "      <td>0.770914</td>\n",
       "      <td>1.000000</td>\n",
       "      <td>0.090168</td>\n",
       "      <td>-0.220552</td>\n",
       "    </tr>\n",
       "    <tr>\n",
       "      <th>floor_category</th>\n",
       "      <td>0.069354</td>\n",
       "      <td>0.096824</td>\n",
       "      <td>0.090168</td>\n",
       "      <td>1.000000</td>\n",
       "      <td>0.004112</td>\n",
       "    </tr>\n",
       "    <tr>\n",
       "      <th>city_сenters_nearest</th>\n",
       "      <td>-0.257486</td>\n",
       "      <td>-0.290752</td>\n",
       "      <td>-0.220552</td>\n",
       "      <td>0.004112</td>\n",
       "      <td>1.000000</td>\n",
       "    </tr>\n",
       "  </tbody>\n",
       "</table>\n",
       "</div>"
      ],
      "text/plain": [
       "                      last_price  total_area     rooms  floor_category  \\\n",
       "last_price              1.000000    0.661600  0.362618        0.069354   \n",
       "total_area              0.661600    1.000000  0.770914        0.096824   \n",
       "rooms                   0.362618    0.770914  1.000000        0.090168   \n",
       "floor_category          0.069354    0.096824  0.090168        1.000000   \n",
       "city_сenters_nearest   -0.257486   -0.290752 -0.220552        0.004112   \n",
       "\n",
       "                      city_сenters_nearest  \n",
       "last_price                       -0.257486  \n",
       "total_area                       -0.290752  \n",
       "rooms                            -0.220552  \n",
       "floor_category                    0.004112  \n",
       "city_сenters_nearest              1.000000  "
      ]
     },
     "execution_count": 83,
     "metadata": {},
     "output_type": "execute_result"
    }
   ],
   "source": [
    "# выведем матрицу корреляции между величинами\n",
    "df_connection_price_3.corr()"
   ]
  },
  {
   "cell_type": "markdown",
   "metadata": {},
   "source": [
    "Подтвердим наши значения визуально графиком и после сделаем выводы."
   ]
  },
  {
   "cell_type": "code",
   "execution_count": 84,
   "metadata": {},
   "outputs": [
    {
     "data": {
      "text/plain": [
       "array([[<AxesSubplot:xlabel='last_price', ylabel='last_price'>,\n",
       "        <AxesSubplot:xlabel='total_area', ylabel='last_price'>,\n",
       "        <AxesSubplot:xlabel='rooms', ylabel='last_price'>,\n",
       "        <AxesSubplot:xlabel='floor_category', ylabel='last_price'>,\n",
       "        <AxesSubplot:xlabel='city_сenters_nearest', ylabel='last_price'>],\n",
       "       [<AxesSubplot:xlabel='last_price', ylabel='total_area'>,\n",
       "        <AxesSubplot:xlabel='total_area', ylabel='total_area'>,\n",
       "        <AxesSubplot:xlabel='rooms', ylabel='total_area'>,\n",
       "        <AxesSubplot:xlabel='floor_category', ylabel='total_area'>,\n",
       "        <AxesSubplot:xlabel='city_сenters_nearest', ylabel='total_area'>],\n",
       "       [<AxesSubplot:xlabel='last_price', ylabel='rooms'>,\n",
       "        <AxesSubplot:xlabel='total_area', ylabel='rooms'>,\n",
       "        <AxesSubplot:xlabel='rooms', ylabel='rooms'>,\n",
       "        <AxesSubplot:xlabel='floor_category', ylabel='rooms'>,\n",
       "        <AxesSubplot:xlabel='city_сenters_nearest', ylabel='rooms'>],\n",
       "       [<AxesSubplot:xlabel='last_price', ylabel='floor_category'>,\n",
       "        <AxesSubplot:xlabel='total_area', ylabel='floor_category'>,\n",
       "        <AxesSubplot:xlabel='rooms', ylabel='floor_category'>,\n",
       "        <AxesSubplot:xlabel='floor_category', ylabel='floor_category'>,\n",
       "        <AxesSubplot:xlabel='city_сenters_nearest', ylabel='floor_category'>],\n",
       "       [<AxesSubplot:xlabel='last_price', ylabel='city_сenters_nearest'>,\n",
       "        <AxesSubplot:xlabel='total_area', ylabel='city_сenters_nearest'>,\n",
       "        <AxesSubplot:xlabel='rooms', ylabel='city_сenters_nearest'>,\n",
       "        <AxesSubplot:xlabel='floor_category', ylabel='city_сenters_nearest'>,\n",
       "        <AxesSubplot:xlabel='city_сenters_nearest', ylabel='city_сenters_nearest'>]],\n",
       "      dtype=object)"
      ]
     },
     "execution_count": 84,
     "metadata": {},
     "output_type": "execute_result"
    },
    {
     "data": {
      "image/png": "[encoded data removed]",
      "text/plain": [
       "<Figure size 648x648 with 25 Axes>"
      ]
     },
     "metadata": {
      "needs_background": "light"
     },
     "output_type": "display_data"
    }
   ],
   "source": [
    "# построим диаграмму рассейяния попарно для всех величин\n",
    "pd.plotting.scatter_matrix(df_connection_price_3, figsize=(9, 9))"
   ]
  },
  {
   "cell_type": "markdown",
   "metadata": {},
   "source": [
    "**Вывод**\n",
    "\n",
    "\n",
    " 1. Зависимость цены от площади есть, связь между этими параметрами тесная. Коэфф. корреляции Пирсона ~ 0.7: положительный. На графике видно, что с увеличением площади цена растет, объявлений с площадью от 50кв.м. до 100кв.м. больше, зависимость видно.\n",
    " 2. Второй фактор влияния на стоимость недвижимости - количество комнат в помещении. Коэфф. корреляции Пирсона ~ 0.4: положительный. Больше всего в центре выставлено на продажу двухкомнатные и трехкомнатные квартиры.\n",
    " 3. Третий фактор - на каком этаже расположена квартира.  Коэфф. корреляции Пирсона ~ 0.07: что объясняет, что при изменении цены - этаж не поменяется, линейной связи в данном случае нет.\n",
    " 4. Последний фактор из нашей выборки - расстояние до центра города. Коэфф. корреляции Пирсона ~ (-0.3): отрицательный, близок к нулю. Тесной записимости нет. "
   ]
  },
  {
   "cell_type": "markdown",
   "metadata": {},
   "source": [
    "Посмотрим так же, влияет ли дата размещения публикации на цену для квартир в центре."
   ]
  },
  {
   "cell_type": "code",
   "execution_count": 85,
   "metadata": {},
   "outputs": [],
   "source": [
    "# запишем в df_connection_price_4 столбцы 'last_price', 'days_publication', 'months_publication', 'years_publication'\n",
    "df_connection_price_4 = yandex_estate[['last_price', 'days_publication', 'months_publication', 'years_publication']]"
   ]
  },
  {
   "cell_type": "code",
   "execution_count": 86,
   "metadata": {},
   "outputs": [
    {
     "data": {
      "text/html": [
       "<div>\n",
       "<style scoped>\n",
       "    .dataframe tbody tr th:only-of-type {\n",
       "        vertical-align: middle;\n",
       "    }\n",
       "\n",
       "    .dataframe tbody tr th {\n",
       "        vertical-align: top;\n",
       "    }\n",
       "\n",
       "    .dataframe thead th {\n",
       "        text-align: right;\n",
       "    }\n",
       "</style>\n",
       "<table border=\"1\" class=\"dataframe\">\n",
       "  <thead>\n",
       "    <tr style=\"text-align: right;\">\n",
       "      <th></th>\n",
       "      <th>last_price</th>\n",
       "      <th>days_publication</th>\n",
       "      <th>months_publication</th>\n",
       "      <th>years_publication</th>\n",
       "    </tr>\n",
       "  </thead>\n",
       "  <tbody>\n",
       "    <tr>\n",
       "      <th>last_price</th>\n",
       "      <td>1.000000</td>\n",
       "      <td>-0.002515</td>\n",
       "      <td>-0.003449</td>\n",
       "      <td>-0.001650</td>\n",
       "    </tr>\n",
       "    <tr>\n",
       "      <th>days_publication</th>\n",
       "      <td>-0.002515</td>\n",
       "      <td>1.000000</td>\n",
       "      <td>0.010691</td>\n",
       "      <td>-0.002784</td>\n",
       "    </tr>\n",
       "    <tr>\n",
       "      <th>months_publication</th>\n",
       "      <td>-0.003449</td>\n",
       "      <td>0.010691</td>\n",
       "      <td>1.000000</td>\n",
       "      <td>-0.225251</td>\n",
       "    </tr>\n",
       "    <tr>\n",
       "      <th>years_publication</th>\n",
       "      <td>-0.001650</td>\n",
       "      <td>-0.002784</td>\n",
       "      <td>-0.225251</td>\n",
       "      <td>1.000000</td>\n",
       "    </tr>\n",
       "  </tbody>\n",
       "</table>\n",
       "</div>"
      ],
      "text/plain": [
       "                    last_price  days_publication  months_publication  \\\n",
       "last_price            1.000000         -0.002515           -0.003449   \n",
       "days_publication     -0.002515          1.000000            0.010691   \n",
       "months_publication   -0.003449          0.010691            1.000000   \n",
       "years_publication    -0.001650         -0.002784           -0.225251   \n",
       "\n",
       "                    years_publication  \n",
       "last_price                  -0.001650  \n",
       "days_publication            -0.002784  \n",
       "months_publication          -0.225251  \n",
       "years_publication            1.000000  "
      ]
     },
     "execution_count": 86,
     "metadata": {},
     "output_type": "execute_result"
    }
   ],
   "source": [
    "# выведем матрицу корреляции между величинами\n",
    "df_connection_price_4.corr()"
   ]
  },
  {
   "cell_type": "markdown",
   "metadata": {},
   "source": [
    "**Вывод**"
   ]
  },
  {
   "cell_type": "markdown",
   "metadata": {},
   "source": [
    "Как видно из матрицы коллеряции, мне коэфф. около 0, а это значит, что прямой зависимости нет."
   ]
  },
  {
   "cell_type": "markdown",
   "metadata": {},
   "source": [
    "## Вывод исследования недвижимости"
   ]
  },
  {
   "cell_type": "markdown",
   "metadata": {},
   "source": [
    "Мы изучили данные по продаже недвижимости в г.Санкт-Петербурге и Ленинградской области. \n",
    "\n",
    "На этапе предобработки данных выявили некорректные данные\n",
    "\n",
    "1. Мы переименовали столбец `studio` →  `is_studio`, аналогично столбцу `is_apartment`, где is указывает на тип данных bool.\n",
    "Привели к нижнему и змеиному регистру столбец `cityCenters_nearest`.\n",
    "\n",
    "2. Произвели замену пропусков, где это было возможно:\n",
    "* `ceiling_height` - заменили медианным значением\n",
    "* `floors_total` - заменили этажом, на котором расположена квартира\n",
    "* `balcony` - заменили на 0 (нет балкона)\n",
    "* `is_apartment` - заменили некоторые значения на True \n",
    "* `kitchen_area` - заменили на 0 (нет кухни, если это аппартаменты)\n",
    "* `living_area` - заменили на `total_area` (нет кухни, это аппартаменты)\n",
    "* `days_exposition`, `airports_nearest`, `parks_around3000`, `parks_nearest`, `ponds_around3000`, `ponds_nearest` и `city_сenters_nearest` - оставили пропущенные значения (не хватает данных)\n",
    "\n",
    "3. Заменили тип данных на целочисленные в столбцах `last_price`, `floors_total`, `total_area`, `living_area`, `kitchen_area`.\n",
    "\n",
    "Дополнительно рассчитали цену за квадратный метр, отношение площадей (жилой к общей и кухни к жилой), представили дату как день недели, месяц и год, а так же категоризировали этажи (первый, последний, другой).\n",
    "\n",
    "При изучении площади, цены, количества комнат и высоты потолков нашли выбросы, и построив диаграммы \"ящик с усами\" удостоверились, какие данные неправда и отбросили их.\n",
    "\n",
    "Нашли радиус центра города, изучили что и как влияет на цену по Ленинградской области, а так же отдельно и в радиусе центра города Санкт-Петербург.\n",
    "* В обоих случаях, когда выкладывалась публикация о квартире в сеть, не влияют на конечную стоимость.\n",
    "* Зависимость цены от площади явно видна, если сравниваются данные по всем публикациям, но и в черте центра города такая зависимость просматривается.\n",
    "* Количество комнат и на каком этаже находится квартира - не самые главные факторы влияния на цену в обоих случаях.\n",
    "* Как ни странно, но и расстояние до центра города не сильно оказало влияние на формирование цены.\n",
    "\n",
    "Выявили Топ-10 городов с наибольшим количеством публикаци. Возглавил этот список г.Санкт-Петербург, а в конце оказался г.Выборг. Та же самое и коснулось цены за квадратный метр. В Питере дороже всего цена за квадратный метр, а в Выборге дешевле."
   ]
  }
 ],
 "metadata": {
  "ExecuteTimeLog": [
   {
    "duration": 790,
    "start_time": "2022-01-08T11:36:50.292Z"
   },
   {
    "duration": 107,
    "start_time": "2022-01-08T11:36:52.383Z"
   },
   {
    "duration": 28,
    "start_time": "2022-01-08T11:36:54.521Z"
   },
   {
    "duration": 106,
    "start_time": "2022-01-08T11:39:20.023Z"
   },
   {
    "duration": 14,
    "start_time": "2022-01-08T11:39:21.112Z"
   },
   {
    "duration": 414,
    "start_time": "2022-01-08T11:39:53.117Z"
   },
   {
    "duration": 190,
    "start_time": "2022-01-08T11:40:26.975Z"
   },
   {
    "duration": 85,
    "start_time": "2022-01-08T11:40:41.593Z"
   },
   {
    "duration": 43,
    "start_time": "2022-01-08T11:40:43.130Z"
   },
   {
    "duration": 36,
    "start_time": "2022-01-08T12:09:07.812Z"
   },
   {
    "duration": 62,
    "start_time": "2022-01-08T12:09:15.620Z"
   },
   {
    "duration": 43,
    "start_time": "2022-01-08T12:09:32.231Z"
   },
   {
    "duration": 16,
    "start_time": "2022-01-08T12:11:07.558Z"
   },
   {
    "duration": 103,
    "start_time": "2022-01-08T12:11:14.505Z"
   },
   {
    "duration": 413,
    "start_time": "2022-01-08T12:46:23.431Z"
   },
   {
    "duration": 149,
    "start_time": "2022-01-08T12:47:10.715Z"
   },
   {
    "duration": 216,
    "start_time": "2022-01-08T12:48:03.385Z"
   },
   {
    "duration": 65,
    "start_time": "2022-01-08T12:49:09.567Z"
   },
   {
    "duration": 765,
    "start_time": "2022-01-08T12:49:27.160Z"
   },
   {
    "duration": 86,
    "start_time": "2022-01-08T12:49:27.927Z"
   },
   {
    "duration": 52,
    "start_time": "2022-01-08T12:49:28.016Z"
   },
   {
    "duration": 14,
    "start_time": "2022-01-08T12:49:28.071Z"
   },
   {
    "duration": 122,
    "start_time": "2022-01-08T12:49:28.088Z"
   },
   {
    "duration": 67,
    "start_time": "2022-01-08T12:49:30.688Z"
   },
   {
    "duration": 60,
    "start_time": "2022-01-08T12:49:49.052Z"
   },
   {
    "duration": 8,
    "start_time": "2022-01-08T12:54:36.904Z"
   },
   {
    "duration": 434,
    "start_time": "2022-01-08T12:57:36.052Z"
   },
   {
    "duration": 397,
    "start_time": "2022-01-08T12:58:21.421Z"
   },
   {
    "duration": 2848,
    "start_time": "2022-01-08T13:02:45.154Z"
   },
   {
    "duration": 4202,
    "start_time": "2022-01-08T13:03:37.604Z"
   },
   {
    "duration": 25,
    "start_time": "2022-01-08T13:05:18.922Z"
   },
   {
    "duration": 24,
    "start_time": "2022-01-08T13:05:43.306Z"
   },
   {
    "duration": 390,
    "start_time": "2022-01-08T13:09:22.349Z"
   },
   {
    "duration": 850,
    "start_time": "2022-01-08T13:09:29.549Z"
   },
   {
    "duration": 110,
    "start_time": "2022-01-08T13:09:30.402Z"
   },
   {
    "duration": 76,
    "start_time": "2022-01-08T13:09:30.515Z"
   },
   {
    "duration": 15,
    "start_time": "2022-01-08T13:09:30.594Z"
   },
   {
    "duration": 139,
    "start_time": "2022-01-08T13:09:30.612Z"
   },
   {
    "duration": 14,
    "start_time": "2022-01-08T13:09:30.753Z"
   },
   {
    "duration": 24,
    "start_time": "2022-01-08T13:09:33.061Z"
   },
   {
    "duration": 15,
    "start_time": "2022-01-08T13:56:05.697Z"
   },
   {
    "duration": 67,
    "start_time": "2022-01-08T14:10:40.247Z"
   },
   {
    "duration": 14,
    "start_time": "2022-01-08T14:12:02.283Z"
   },
   {
    "duration": 57,
    "start_time": "2022-01-08T14:30:40.044Z"
   },
   {
    "duration": 45,
    "start_time": "2022-01-08T14:32:32.202Z"
   },
   {
    "duration": 40,
    "start_time": "2022-01-08T14:33:48.234Z"
   },
   {
    "duration": 59,
    "start_time": "2022-01-08T14:35:12.104Z"
   },
   {
    "duration": 19,
    "start_time": "2022-01-08T14:35:19.317Z"
   },
   {
    "duration": 19,
    "start_time": "2022-01-08T14:37:30.747Z"
   },
   {
    "duration": 58,
    "start_time": "2022-01-08T14:43:57.140Z"
   },
   {
    "duration": 72,
    "start_time": "2022-01-08T14:44:53.910Z"
   },
   {
    "duration": 93,
    "start_time": "2022-01-08T14:46:12.618Z"
   },
   {
    "duration": 60,
    "start_time": "2022-01-08T14:46:29.091Z"
   },
   {
    "duration": 57,
    "start_time": "2022-01-08T14:47:09.515Z"
   },
   {
    "duration": 54,
    "start_time": "2022-01-08T14:47:44.326Z"
   },
   {
    "duration": 73,
    "start_time": "2022-01-08T14:48:02.846Z"
   },
   {
    "duration": 395,
    "start_time": "2022-01-09T10:25:25.106Z"
   },
   {
    "duration": 795,
    "start_time": "2022-01-09T10:25:45.360Z"
   },
   {
    "duration": 92,
    "start_time": "2022-01-09T10:25:46.158Z"
   },
   {
    "duration": 66,
    "start_time": "2022-01-09T10:25:46.253Z"
   },
   {
    "duration": 16,
    "start_time": "2022-01-09T10:25:46.322Z"
   },
   {
    "duration": 141,
    "start_time": "2022-01-09T10:25:46.340Z"
   },
   {
    "duration": 10,
    "start_time": "2022-01-09T10:25:46.483Z"
   },
   {
    "duration": 23,
    "start_time": "2022-01-09T10:25:46.495Z"
   },
   {
    "duration": 20,
    "start_time": "2022-01-09T10:25:53.168Z"
   },
   {
    "duration": 57,
    "start_time": "2022-01-09T10:25:54.780Z"
   },
   {
    "duration": 25,
    "start_time": "2022-01-09T11:01:02.602Z"
   },
   {
    "duration": 72,
    "start_time": "2022-01-09T11:01:16.035Z"
   },
   {
    "duration": 731,
    "start_time": "2022-01-09T11:03:21.605Z"
   },
   {
    "duration": 84,
    "start_time": "2022-01-09T11:03:22.339Z"
   },
   {
    "duration": 67,
    "start_time": "2022-01-09T11:03:22.426Z"
   },
   {
    "duration": 15,
    "start_time": "2022-01-09T11:03:22.496Z"
   },
   {
    "duration": 135,
    "start_time": "2022-01-09T11:03:22.513Z"
   },
   {
    "duration": 16,
    "start_time": "2022-01-09T11:03:22.651Z"
   },
   {
    "duration": 24,
    "start_time": "2022-01-09T11:03:22.669Z"
   },
   {
    "duration": 13,
    "start_time": "2022-01-09T11:03:22.696Z"
   },
   {
    "duration": 401,
    "start_time": "2022-01-09T11:03:29.088Z"
   },
   {
    "duration": 352,
    "start_time": "2022-01-09T11:04:28.768Z"
   },
   {
    "duration": 63,
    "start_time": "2022-01-09T11:06:21.929Z"
   },
   {
    "duration": 161,
    "start_time": "2022-01-09T11:07:15.991Z"
   },
   {
    "duration": 100,
    "start_time": "2022-01-09T11:07:25.703Z"
   },
   {
    "duration": 9,
    "start_time": "2022-01-09T11:07:51.292Z"
   },
   {
    "duration": 10,
    "start_time": "2022-01-09T11:08:02.284Z"
   },
   {
    "duration": 7,
    "start_time": "2022-01-09T11:10:29.724Z"
   },
   {
    "duration": 351,
    "start_time": "2022-01-09T11:10:40.138Z"
   },
   {
    "duration": 306,
    "start_time": "2022-01-09T11:10:59.510Z"
   },
   {
    "duration": 780,
    "start_time": "2022-01-09T11:14:44.223Z"
   },
   {
    "duration": 90,
    "start_time": "2022-01-09T11:14:45.006Z"
   },
   {
    "duration": 79,
    "start_time": "2022-01-09T11:14:45.100Z"
   },
   {
    "duration": 17,
    "start_time": "2022-01-09T11:14:45.182Z"
   },
   {
    "duration": 132,
    "start_time": "2022-01-09T11:14:45.202Z"
   },
   {
    "duration": 9,
    "start_time": "2022-01-09T11:14:45.337Z"
   },
   {
    "duration": 41,
    "start_time": "2022-01-09T11:14:45.349Z"
   },
   {
    "duration": 14,
    "start_time": "2022-01-09T11:14:45.393Z"
   },
   {
    "duration": 7,
    "start_time": "2022-01-09T11:14:45.409Z"
   },
   {
    "duration": 7,
    "start_time": "2022-01-09T11:14:50.069Z"
   },
   {
    "duration": 14935,
    "start_time": "2022-01-09T11:14:51.537Z"
   },
   {
    "duration": 65,
    "start_time": "2022-01-09T11:15:18.300Z"
   },
   {
    "duration": 6391,
    "start_time": "2022-01-09T11:22:55.886Z"
   },
   {
    "duration": 12,
    "start_time": "2022-01-09T11:23:18.961Z"
   },
   {
    "duration": 10870,
    "start_time": "2022-01-09T11:24:17.539Z"
   },
   {
    "duration": 13,
    "start_time": "2022-01-09T11:24:30.861Z"
   },
   {
    "duration": 13,
    "start_time": "2022-01-09T11:50:18.364Z"
   },
   {
    "duration": 11828,
    "start_time": "2022-01-09T11:53:14.874Z"
   },
   {
    "duration": 8296,
    "start_time": "2022-01-09T11:53:32.591Z"
   },
   {
    "duration": 18,
    "start_time": "2022-01-09T11:53:55.824Z"
   },
   {
    "duration": 21,
    "start_time": "2022-01-09T11:55:33.419Z"
   },
   {
    "duration": 17,
    "start_time": "2022-01-09T11:58:01.265Z"
   },
   {
    "duration": 8,
    "start_time": "2022-01-09T12:06:17.043Z"
   },
   {
    "duration": 7,
    "start_time": "2022-01-09T12:06:31.105Z"
   },
   {
    "duration": 3828,
    "start_time": "2022-01-09T12:06:39.981Z"
   },
   {
    "duration": 7,
    "start_time": "2022-01-09T12:06:44.646Z"
   },
   {
    "duration": 45,
    "start_time": "2022-01-09T12:07:29.386Z"
   },
   {
    "duration": 757,
    "start_time": "2022-01-09T12:08:18.669Z"
   },
   {
    "duration": 48,
    "start_time": "2022-01-09T12:08:23.249Z"
   },
   {
    "duration": 68,
    "start_time": "2022-01-09T12:09:14.929Z"
   },
   {
    "duration": 9,
    "start_time": "2022-01-09T12:09:55.521Z"
   },
   {
    "duration": 8,
    "start_time": "2022-01-09T12:09:59.954Z"
   },
   {
    "duration": 745,
    "start_time": "2022-01-09T12:10:16.053Z"
   },
   {
    "duration": 8,
    "start_time": "2022-01-09T12:10:18.014Z"
   },
   {
    "duration": 650,
    "start_time": "2022-01-09T12:13:08.194Z"
   },
   {
    "duration": 782,
    "start_time": "2022-01-09T12:13:24.668Z"
   },
   {
    "duration": 6284,
    "start_time": "2022-01-09T12:13:44.848Z"
   },
   {
    "duration": 7,
    "start_time": "2022-01-09T12:14:05.324Z"
   },
   {
    "duration": 730,
    "start_time": "2022-01-09T12:14:30.205Z"
   },
   {
    "duration": 720,
    "start_time": "2022-01-09T12:14:34.774Z"
   },
   {
    "duration": 5,
    "start_time": "2022-01-09T12:14:37.927Z"
   },
   {
    "duration": 879,
    "start_time": "2022-01-09T12:14:50.703Z"
   },
   {
    "duration": 118,
    "start_time": "2022-01-09T12:15:52.135Z"
   },
   {
    "duration": 347,
    "start_time": "2022-01-09T12:16:09.032Z"
   },
   {
    "duration": 7,
    "start_time": "2022-01-09T12:16:39.210Z"
   },
   {
    "duration": 6,
    "start_time": "2022-01-09T12:17:02.623Z"
   },
   {
    "duration": 15,
    "start_time": "2022-01-09T12:17:21.857Z"
   },
   {
    "duration": 932,
    "start_time": "2022-01-09T12:18:06.744Z"
   },
   {
    "duration": 96,
    "start_time": "2022-01-09T12:18:07.679Z"
   },
   {
    "duration": 65,
    "start_time": "2022-01-09T12:18:07.778Z"
   },
   {
    "duration": 31,
    "start_time": "2022-01-09T12:18:07.846Z"
   },
   {
    "duration": 128,
    "start_time": "2022-01-09T12:18:07.879Z"
   },
   {
    "duration": 10,
    "start_time": "2022-01-09T12:18:08.010Z"
   },
   {
    "duration": 44,
    "start_time": "2022-01-09T12:18:08.024Z"
   },
   {
    "duration": 14,
    "start_time": "2022-01-09T12:18:08.071Z"
   },
   {
    "duration": 34378,
    "start_time": "2022-01-09T12:18:08.089Z"
   },
   {
    "duration": 18,
    "start_time": "2022-01-09T12:18:42.469Z"
   },
   {
    "duration": 20,
    "start_time": "2022-01-09T12:18:42.491Z"
   },
   {
    "duration": 56,
    "start_time": "2022-01-09T12:18:42.515Z"
   },
   {
    "duration": 7,
    "start_time": "2022-01-09T12:19:45.125Z"
   },
   {
    "duration": 6897,
    "start_time": "2022-01-09T12:19:46.347Z"
   },
   {
    "duration": 21,
    "start_time": "2022-01-09T12:19:53.247Z"
   },
   {
    "duration": 8,
    "start_time": "2022-01-09T12:20:14.148Z"
   },
   {
    "duration": 1851,
    "start_time": "2022-01-09T12:24:32.053Z"
   },
   {
    "duration": 13,
    "start_time": "2022-01-09T12:24:38.317Z"
   },
   {
    "duration": 15,
    "start_time": "2022-01-09T12:29:32.364Z"
   },
   {
    "duration": 461,
    "start_time": "2022-01-09T12:29:39.825Z"
   },
   {
    "duration": 772,
    "start_time": "2022-01-09T12:29:47.825Z"
   },
   {
    "duration": 89,
    "start_time": "2022-01-09T12:29:48.600Z"
   },
   {
    "duration": 61,
    "start_time": "2022-01-09T12:29:48.692Z"
   },
   {
    "duration": 15,
    "start_time": "2022-01-09T12:29:48.768Z"
   },
   {
    "duration": 128,
    "start_time": "2022-01-09T12:29:48.786Z"
   },
   {
    "duration": 10,
    "start_time": "2022-01-09T12:29:48.917Z"
   },
   {
    "duration": 40,
    "start_time": "2022-01-09T12:29:48.930Z"
   },
   {
    "duration": 14,
    "start_time": "2022-01-09T12:29:48.974Z"
   },
   {
    "duration": 28927,
    "start_time": "2022-01-09T12:29:48.991Z"
   },
   {
    "duration": 12,
    "start_time": "2022-01-09T12:30:17.921Z"
   },
   {
    "duration": 35,
    "start_time": "2022-01-09T12:30:17.935Z"
   },
   {
    "duration": 18,
    "start_time": "2022-01-09T12:30:17.972Z"
   },
   {
    "duration": 5190,
    "start_time": "2022-01-09T12:31:08.938Z"
   },
   {
    "duration": 18,
    "start_time": "2022-01-09T12:31:16.741Z"
   },
   {
    "duration": 5,
    "start_time": "2022-01-09T12:31:36.295Z"
   },
   {
    "duration": 14,
    "start_time": "2022-01-09T12:31:54.249Z"
   },
   {
    "duration": 5,
    "start_time": "2022-01-09T12:32:15.147Z"
   },
   {
    "duration": 1307,
    "start_time": "2022-01-09T12:32:35.840Z"
   },
   {
    "duration": 13,
    "start_time": "2022-01-09T12:32:45.771Z"
   },
   {
    "duration": 18,
    "start_time": "2022-01-09T12:35:09.948Z"
   },
   {
    "duration": 392,
    "start_time": "2022-01-09T12:36:20.718Z"
   },
   {
    "duration": 1495,
    "start_time": "2022-01-09T12:36:44.179Z"
   },
   {
    "duration": 14,
    "start_time": "2022-01-09T12:36:47.498Z"
   },
   {
    "duration": 75,
    "start_time": "2022-01-09T12:38:19.035Z"
   },
   {
    "duration": 77,
    "start_time": "2022-01-09T12:39:10.694Z"
   },
   {
    "duration": 14,
    "start_time": "2022-01-09T12:40:18.249Z"
   },
   {
    "duration": 792,
    "start_time": "2022-01-09T12:49:31.996Z"
   },
   {
    "duration": 85,
    "start_time": "2022-01-09T12:49:32.791Z"
   },
   {
    "duration": 66,
    "start_time": "2022-01-09T12:49:32.879Z"
   },
   {
    "duration": 32,
    "start_time": "2022-01-09T12:49:32.947Z"
   },
   {
    "duration": 125,
    "start_time": "2022-01-09T12:49:32.982Z"
   },
   {
    "duration": 10,
    "start_time": "2022-01-09T12:49:33.110Z"
   },
   {
    "duration": 49,
    "start_time": "2022-01-09T12:49:33.122Z"
   },
   {
    "duration": 14,
    "start_time": "2022-01-09T12:49:33.174Z"
   },
   {
    "duration": 28585,
    "start_time": "2022-01-09T12:49:33.191Z"
   },
   {
    "duration": 12,
    "start_time": "2022-01-09T12:50:01.778Z"
   },
   {
    "duration": 20,
    "start_time": "2022-01-09T12:50:01.792Z"
   },
   {
    "duration": 18,
    "start_time": "2022-01-09T12:50:01.815Z"
   },
   {
    "duration": 19,
    "start_time": "2022-01-09T12:50:10.125Z"
   },
   {
    "duration": 8143,
    "start_time": "2022-01-09T12:50:46.329Z"
   },
   {
    "duration": 13,
    "start_time": "2022-01-09T12:50:56.836Z"
   },
   {
    "duration": 10028,
    "start_time": "2022-01-09T13:00:13.066Z"
   },
   {
    "duration": 9143,
    "start_time": "2022-01-09T13:03:03.597Z"
   },
   {
    "duration": 8,
    "start_time": "2022-01-09T13:03:26.740Z"
   },
   {
    "duration": 13,
    "start_time": "2022-01-09T13:06:49.653Z"
   },
   {
    "duration": 373,
    "start_time": "2022-01-09T13:09:31.651Z"
   },
   {
    "duration": 45,
    "start_time": "2022-01-09T13:10:03.467Z"
   },
   {
    "duration": 8414,
    "start_time": "2022-01-09T13:10:30.840Z"
   },
   {
    "duration": 47,
    "start_time": "2022-01-09T13:10:44.459Z"
   },
   {
    "duration": 49,
    "start_time": "2022-01-09T13:12:28.723Z"
   },
   {
    "duration": 17,
    "start_time": "2022-01-09T13:12:46.737Z"
   },
   {
    "duration": 778,
    "start_time": "2022-01-09T13:13:12.952Z"
   },
   {
    "duration": 91,
    "start_time": "2022-01-09T13:13:13.733Z"
   },
   {
    "duration": 68,
    "start_time": "2022-01-09T13:13:13.828Z"
   },
   {
    "duration": 18,
    "start_time": "2022-01-09T13:13:13.899Z"
   },
   {
    "duration": 148,
    "start_time": "2022-01-09T13:13:13.920Z"
   },
   {
    "duration": 12,
    "start_time": "2022-01-09T13:13:14.071Z"
   },
   {
    "duration": 24,
    "start_time": "2022-01-09T13:13:14.086Z"
   },
   {
    "duration": 14,
    "start_time": "2022-01-09T13:13:14.113Z"
   },
   {
    "duration": 29616,
    "start_time": "2022-01-09T13:13:14.167Z"
   },
   {
    "duration": 11,
    "start_time": "2022-01-09T13:13:43.786Z"
   },
   {
    "duration": 13,
    "start_time": "2022-01-09T13:13:43.800Z"
   },
   {
    "duration": 22,
    "start_time": "2022-01-09T13:13:43.816Z"
   },
   {
    "duration": 21,
    "start_time": "2022-01-09T13:13:43.868Z"
   },
   {
    "duration": 8155,
    "start_time": "2022-01-09T13:13:43.891Z"
   },
   {
    "duration": 24,
    "start_time": "2022-01-09T13:13:52.048Z"
   },
   {
    "duration": 14,
    "start_time": "2022-01-09T13:13:57.036Z"
   },
   {
    "duration": 12,
    "start_time": "2022-01-09T13:16:23.539Z"
   },
   {
    "duration": 15,
    "start_time": "2022-01-09T13:16:27.617Z"
   },
   {
    "duration": 43,
    "start_time": "2022-01-09T13:16:37.505Z"
   },
   {
    "duration": 14,
    "start_time": "2022-01-09T13:16:53.679Z"
   },
   {
    "duration": 15,
    "start_time": "2022-01-09T13:17:57.201Z"
   },
   {
    "duration": 14,
    "start_time": "2022-01-09T13:18:17.058Z"
   },
   {
    "duration": 874,
    "start_time": "2022-01-09T13:20:51.193Z"
   },
   {
    "duration": 94,
    "start_time": "2022-01-09T13:20:52.070Z"
   },
   {
    "duration": 67,
    "start_time": "2022-01-09T13:20:52.167Z"
   },
   {
    "duration": 115,
    "start_time": "2022-01-09T13:20:52.237Z"
   },
   {
    "duration": 115,
    "start_time": "2022-01-09T13:20:52.355Z"
   },
   {
    "duration": 11,
    "start_time": "2022-01-09T13:20:52.473Z"
   },
   {
    "duration": 30,
    "start_time": "2022-01-09T13:20:52.487Z"
   },
   {
    "duration": 45,
    "start_time": "2022-01-09T13:20:52.521Z"
   },
   {
    "duration": 34169,
    "start_time": "2022-01-09T13:20:52.570Z"
   },
   {
    "duration": 12,
    "start_time": "2022-01-09T13:21:26.741Z"
   },
   {
    "duration": 14,
    "start_time": "2022-01-09T13:21:26.767Z"
   },
   {
    "duration": 19,
    "start_time": "2022-01-09T13:21:26.784Z"
   },
   {
    "duration": 17,
    "start_time": "2022-01-09T13:21:26.805Z"
   },
   {
    "duration": 8880,
    "start_time": "2022-01-09T13:21:26.824Z"
   },
   {
    "duration": 14,
    "start_time": "2022-01-09T13:21:35.707Z"
   },
   {
    "duration": 17,
    "start_time": "2022-01-09T13:21:42.503Z"
   },
   {
    "duration": 8065,
    "start_time": "2022-01-09T13:23:10.158Z"
   },
   {
    "duration": 8167,
    "start_time": "2022-01-09T13:24:21.660Z"
   },
   {
    "duration": 7769,
    "start_time": "2022-01-09T13:25:18.424Z"
   },
   {
    "duration": 328,
    "start_time": "2022-01-09T13:26:55.455Z"
   },
   {
    "duration": 367,
    "start_time": "2022-01-09T13:27:07.316Z"
   },
   {
    "duration": 313,
    "start_time": "2022-01-09T13:27:21.919Z"
   },
   {
    "duration": 8210,
    "start_time": "2022-01-09T13:29:16.991Z"
   },
   {
    "duration": 8669,
    "start_time": "2022-01-09T13:31:50.645Z"
   },
   {
    "duration": 9377,
    "start_time": "2022-01-09T13:33:01.515Z"
   },
   {
    "duration": 6,
    "start_time": "2022-01-09T13:34:41.302Z"
   },
   {
    "duration": 8010,
    "start_time": "2022-01-09T13:34:55.473Z"
   },
   {
    "duration": 7662,
    "start_time": "2022-01-09T13:35:07.223Z"
   },
   {
    "duration": 8177,
    "start_time": "2022-01-09T13:37:09.425Z"
   },
   {
    "duration": 8127,
    "start_time": "2022-01-09T13:37:31.564Z"
   },
   {
    "duration": 746,
    "start_time": "2022-01-09T13:38:10.095Z"
   },
   {
    "duration": 94,
    "start_time": "2022-01-09T13:38:10.845Z"
   },
   {
    "duration": 73,
    "start_time": "2022-01-09T13:38:10.943Z"
   },
   {
    "duration": 17,
    "start_time": "2022-01-09T13:38:11.020Z"
   },
   {
    "duration": 113,
    "start_time": "2022-01-09T13:38:11.068Z"
   },
   {
    "duration": 10,
    "start_time": "2022-01-09T13:38:11.184Z"
   },
   {
    "duration": 26,
    "start_time": "2022-01-09T13:38:11.197Z"
   },
   {
    "duration": 42,
    "start_time": "2022-01-09T13:38:11.227Z"
   },
   {
    "duration": 28833,
    "start_time": "2022-01-09T13:38:11.272Z"
   },
   {
    "duration": 14,
    "start_time": "2022-01-09T13:38:40.108Z"
   },
   {
    "duration": 42,
    "start_time": "2022-01-09T13:38:40.125Z"
   },
   {
    "duration": 22,
    "start_time": "2022-01-09T13:38:40.170Z"
   },
   {
    "duration": 17,
    "start_time": "2022-01-09T13:38:40.195Z"
   },
   {
    "duration": 9028,
    "start_time": "2022-01-09T13:38:40.215Z"
   },
   {
    "duration": 24,
    "start_time": "2022-01-09T13:38:49.246Z"
   },
   {
    "duration": 16,
    "start_time": "2022-01-09T13:39:28.632Z"
   },
   {
    "duration": 16645,
    "start_time": "2022-01-09T13:39:31.855Z"
   },
   {
    "duration": 17806,
    "start_time": "2022-01-09T13:40:14.995Z"
   },
   {
    "duration": 113,
    "start_time": "2022-01-09T13:47:56.089Z"
   },
   {
    "duration": 8559,
    "start_time": "2022-01-09T13:48:14.530Z"
   },
   {
    "duration": 7327,
    "start_time": "2022-01-09T13:48:38.350Z"
   },
   {
    "duration": 805,
    "start_time": "2022-01-09T13:48:58.547Z"
   },
   {
    "duration": 90,
    "start_time": "2022-01-09T13:48:59.355Z"
   },
   {
    "duration": 73,
    "start_time": "2022-01-09T13:48:59.448Z"
   },
   {
    "duration": 45,
    "start_time": "2022-01-09T13:48:59.525Z"
   },
   {
    "duration": 138,
    "start_time": "2022-01-09T13:48:59.573Z"
   },
   {
    "duration": 10,
    "start_time": "2022-01-09T13:48:59.715Z"
   },
   {
    "duration": 45,
    "start_time": "2022-01-09T13:48:59.728Z"
   },
   {
    "duration": 13,
    "start_time": "2022-01-09T13:48:59.777Z"
   },
   {
    "duration": 35122,
    "start_time": "2022-01-09T13:48:59.793Z"
   },
   {
    "duration": 13,
    "start_time": "2022-01-09T13:49:34.918Z"
   },
   {
    "duration": 34,
    "start_time": "2022-01-09T13:49:34.934Z"
   },
   {
    "duration": 17,
    "start_time": "2022-01-09T13:49:34.971Z"
   },
   {
    "duration": 20,
    "start_time": "2022-01-09T13:49:34.990Z"
   },
   {
    "duration": 8942,
    "start_time": "2022-01-09T13:49:35.013Z"
   },
   {
    "duration": 18,
    "start_time": "2022-01-09T13:49:43.966Z"
   },
   {
    "duration": 18,
    "start_time": "2022-01-09T13:49:43.987Z"
   },
   {
    "duration": 8833,
    "start_time": "2022-01-09T13:49:52.690Z"
   },
   {
    "duration": 14,
    "start_time": "2022-01-09T13:50:24.925Z"
   },
   {
    "duration": 20,
    "start_time": "2022-01-09T13:51:23.792Z"
   },
   {
    "duration": 87,
    "start_time": "2022-01-09T13:51:35.590Z"
   },
   {
    "duration": 21,
    "start_time": "2022-01-09T13:51:47.164Z"
   },
   {
    "duration": 4,
    "start_time": "2022-01-09T13:52:43.193Z"
   },
   {
    "duration": 829,
    "start_time": "2022-01-09T13:52:49.960Z"
   },
   {
    "duration": 88,
    "start_time": "2022-01-09T13:52:50.792Z"
   },
   {
    "duration": 62,
    "start_time": "2022-01-09T13:52:50.883Z"
   },
   {
    "duration": 32,
    "start_time": "2022-01-09T13:52:50.948Z"
   },
   {
    "duration": 122,
    "start_time": "2022-01-09T13:52:50.982Z"
   },
   {
    "duration": 10,
    "start_time": "2022-01-09T13:52:51.106Z"
   },
   {
    "duration": 51,
    "start_time": "2022-01-09T13:52:51.118Z"
   },
   {
    "duration": 14,
    "start_time": "2022-01-09T13:52:51.172Z"
   },
   {
    "duration": 36602,
    "start_time": "2022-01-09T13:52:51.189Z"
   },
   {
    "duration": 14,
    "start_time": "2022-01-09T13:53:27.794Z"
   },
   {
    "duration": 16,
    "start_time": "2022-01-09T13:53:27.810Z"
   },
   {
    "duration": 58,
    "start_time": "2022-01-09T13:53:27.829Z"
   },
   {
    "duration": 26,
    "start_time": "2022-01-09T13:53:27.891Z"
   },
   {
    "duration": 10726,
    "start_time": "2022-01-09T13:53:27.921Z"
   },
   {
    "duration": 21,
    "start_time": "2022-01-09T13:53:38.649Z"
   },
   {
    "duration": 16,
    "start_time": "2022-01-09T13:53:38.672Z"
   },
   {
    "duration": 15,
    "start_time": "2022-01-09T13:53:56.105Z"
   },
   {
    "duration": 6,
    "start_time": "2022-01-09T13:53:59.791Z"
   },
   {
    "duration": 15,
    "start_time": "2022-01-09T13:54:07.172Z"
   },
   {
    "duration": 123,
    "start_time": "2022-01-09T13:54:50.578Z"
   },
   {
    "duration": 23,
    "start_time": "2022-01-09T13:56:06.534Z"
   },
   {
    "duration": 62,
    "start_time": "2022-01-09T13:57:28.351Z"
   },
   {
    "duration": 57,
    "start_time": "2022-01-09T13:58:43.801Z"
   },
   {
    "duration": 71,
    "start_time": "2022-01-09T13:58:49.064Z"
   },
   {
    "duration": 40,
    "start_time": "2022-01-09T13:59:06.434Z"
   },
   {
    "duration": 34,
    "start_time": "2022-01-09T13:59:11.309Z"
   },
   {
    "duration": 35,
    "start_time": "2022-01-09T13:59:12.752Z"
   },
   {
    "duration": 766,
    "start_time": "2022-01-09T13:59:20.996Z"
   },
   {
    "duration": 90,
    "start_time": "2022-01-09T13:59:21.765Z"
   },
   {
    "duration": 78,
    "start_time": "2022-01-09T13:59:21.858Z"
   },
   {
    "duration": 33,
    "start_time": "2022-01-09T13:59:21.939Z"
   },
   {
    "duration": 131,
    "start_time": "2022-01-09T13:59:21.974Z"
   },
   {
    "duration": 11,
    "start_time": "2022-01-09T13:59:22.107Z"
   },
   {
    "duration": 46,
    "start_time": "2022-01-09T13:59:22.121Z"
   },
   {
    "duration": 16,
    "start_time": "2022-01-09T13:59:22.171Z"
   },
   {
    "duration": 41924,
    "start_time": "2022-01-09T13:59:22.189Z"
   },
   {
    "duration": 19,
    "start_time": "2022-01-09T14:00:04.116Z"
   },
   {
    "duration": 42,
    "start_time": "2022-01-09T14:00:04.138Z"
   },
   {
    "duration": 25,
    "start_time": "2022-01-09T14:00:04.183Z"
   },
   {
    "duration": 26,
    "start_time": "2022-01-09T14:00:04.212Z"
   },
   {
    "duration": 12715,
    "start_time": "2022-01-09T14:00:04.269Z"
   },
   {
    "duration": 18,
    "start_time": "2022-01-09T14:00:16.987Z"
   },
   {
    "duration": 15,
    "start_time": "2022-01-09T14:00:17.008Z"
   },
   {
    "duration": 107,
    "start_time": "2022-01-09T14:00:23.803Z"
   },
   {
    "duration": 493,
    "start_time": "2022-01-09T14:02:53.158Z"
   },
   {
    "duration": 59,
    "start_time": "2022-01-09T14:02:59.649Z"
   },
   {
    "duration": 37,
    "start_time": "2022-01-09T14:03:24.272Z"
   },
   {
    "duration": 779,
    "start_time": "2022-01-09T14:03:34.080Z"
   },
   {
    "duration": 91,
    "start_time": "2022-01-09T14:03:34.861Z"
   },
   {
    "duration": 80,
    "start_time": "2022-01-09T14:03:34.956Z"
   },
   {
    "duration": 14,
    "start_time": "2022-01-09T14:03:35.039Z"
   },
   {
    "duration": 124,
    "start_time": "2022-01-09T14:03:35.056Z"
   },
   {
    "duration": 11,
    "start_time": "2022-01-09T14:03:35.182Z"
   },
   {
    "duration": 27,
    "start_time": "2022-01-09T14:03:35.195Z"
   },
   {
    "duration": 43,
    "start_time": "2022-01-09T14:03:35.227Z"
   },
   {
    "duration": 30555,
    "start_time": "2022-01-09T14:03:35.273Z"
   },
   {
    "duration": 13,
    "start_time": "2022-01-09T14:04:05.830Z"
   },
   {
    "duration": 31,
    "start_time": "2022-01-09T14:04:05.845Z"
   },
   {
    "duration": 21,
    "start_time": "2022-01-09T14:04:05.879Z"
   },
   {
    "duration": 18,
    "start_time": "2022-01-09T14:04:05.903Z"
   },
   {
    "duration": 8450,
    "start_time": "2022-01-09T14:04:05.924Z"
   },
   {
    "duration": 14,
    "start_time": "2022-01-09T14:04:14.377Z"
   },
   {
    "duration": 17,
    "start_time": "2022-01-09T14:04:14.393Z"
   },
   {
    "duration": 14,
    "start_time": "2022-01-09T14:04:51.830Z"
   },
   {
    "duration": 14,
    "start_time": "2022-01-09T14:05:06.595Z"
   },
   {
    "duration": 16,
    "start_time": "2022-01-09T14:05:07.483Z"
   },
   {
    "duration": 15,
    "start_time": "2022-01-09T14:05:07.982Z"
   },
   {
    "duration": 21,
    "start_time": "2022-01-09T14:05:37.070Z"
   },
   {
    "duration": 19,
    "start_time": "2022-01-09T14:05:38.617Z"
   },
   {
    "duration": 20,
    "start_time": "2022-01-09T14:05:51.249Z"
   },
   {
    "duration": 17,
    "start_time": "2022-01-09T14:05:52.702Z"
   },
   {
    "duration": 16,
    "start_time": "2022-01-09T14:05:53.719Z"
   },
   {
    "duration": 15,
    "start_time": "2022-01-09T14:05:56.014Z"
   },
   {
    "duration": 16,
    "start_time": "2022-01-09T14:05:57.949Z"
   },
   {
    "duration": 1011,
    "start_time": "2022-01-09T14:06:04.101Z"
   },
   {
    "duration": 99,
    "start_time": "2022-01-09T14:06:05.116Z"
   },
   {
    "duration": 74,
    "start_time": "2022-01-09T14:06:05.219Z"
   },
   {
    "duration": 16,
    "start_time": "2022-01-09T14:06:05.296Z"
   },
   {
    "duration": 154,
    "start_time": "2022-01-09T14:06:05.314Z"
   },
   {
    "duration": 11,
    "start_time": "2022-01-09T14:06:05.472Z"
   },
   {
    "duration": 24,
    "start_time": "2022-01-09T14:06:05.486Z"
   },
   {
    "duration": 15,
    "start_time": "2022-01-09T14:06:05.514Z"
   },
   {
    "duration": 30446,
    "start_time": "2022-01-09T14:06:05.568Z"
   },
   {
    "duration": 13,
    "start_time": "2022-01-09T14:06:36.016Z"
   },
   {
    "duration": 39,
    "start_time": "2022-01-09T14:06:36.032Z"
   },
   {
    "duration": 18,
    "start_time": "2022-01-09T14:06:36.074Z"
   },
   {
    "duration": 17,
    "start_time": "2022-01-09T14:06:36.095Z"
   },
   {
    "duration": 8590,
    "start_time": "2022-01-09T14:06:36.114Z"
   },
   {
    "duration": 18,
    "start_time": "2022-01-09T14:06:44.708Z"
   },
   {
    "duration": 46,
    "start_time": "2022-01-09T14:06:44.729Z"
   },
   {
    "duration": 18,
    "start_time": "2022-01-09T14:06:49.528Z"
   },
   {
    "duration": 936,
    "start_time": "2022-01-09T14:07:48.030Z"
   },
   {
    "duration": 128,
    "start_time": "2022-01-09T14:07:48.969Z"
   },
   {
    "duration": 96,
    "start_time": "2022-01-09T14:07:49.101Z"
   },
   {
    "duration": 16,
    "start_time": "2022-01-09T14:07:49.200Z"
   },
   {
    "duration": 139,
    "start_time": "2022-01-09T14:07:49.218Z"
   },
   {
    "duration": 9,
    "start_time": "2022-01-09T14:07:49.367Z"
   },
   {
    "duration": 24,
    "start_time": "2022-01-09T14:07:49.379Z"
   },
   {
    "duration": 21,
    "start_time": "2022-01-09T14:07:49.407Z"
   },
   {
    "duration": 36274,
    "start_time": "2022-01-09T14:07:49.431Z"
   },
   {
    "duration": 14,
    "start_time": "2022-01-09T14:08:25.708Z"
   },
   {
    "duration": 44,
    "start_time": "2022-01-09T14:08:25.725Z"
   },
   {
    "duration": 27,
    "start_time": "2022-01-09T14:08:25.773Z"
   },
   {
    "duration": 26,
    "start_time": "2022-01-09T14:08:25.803Z"
   },
   {
    "duration": 12862,
    "start_time": "2022-01-09T14:08:25.832Z"
   },
   {
    "duration": 17,
    "start_time": "2022-01-09T14:08:38.698Z"
   },
   {
    "duration": 23,
    "start_time": "2022-01-09T14:08:38.719Z"
   },
   {
    "duration": 19,
    "start_time": "2022-01-09T14:08:42.417Z"
   },
   {
    "duration": 29,
    "start_time": "2022-01-09T14:16:27.988Z"
   },
   {
    "duration": 439,
    "start_time": "2022-01-09T14:27:38.913Z"
   },
   {
    "duration": 41,
    "start_time": "2022-01-09T14:38:18.121Z"
   },
   {
    "duration": 734,
    "start_time": "2022-01-09T14:38:43.502Z"
   },
   {
    "duration": 92,
    "start_time": "2022-01-09T14:38:44.239Z"
   },
   {
    "duration": 67,
    "start_time": "2022-01-09T14:38:44.334Z"
   },
   {
    "duration": 16,
    "start_time": "2022-01-09T14:38:44.404Z"
   },
   {
    "duration": 151,
    "start_time": "2022-01-09T14:38:44.423Z"
   },
   {
    "duration": 12,
    "start_time": "2022-01-09T14:38:44.577Z"
   },
   {
    "duration": 33,
    "start_time": "2022-01-09T14:38:44.592Z"
   },
   {
    "duration": 45,
    "start_time": "2022-01-09T14:38:44.631Z"
   },
   {
    "duration": 37657,
    "start_time": "2022-01-09T14:38:44.680Z"
   },
   {
    "duration": 11,
    "start_time": "2022-01-09T14:39:22.340Z"
   },
   {
    "duration": 20,
    "start_time": "2022-01-09T14:39:22.368Z"
   },
   {
    "duration": 28,
    "start_time": "2022-01-09T14:39:22.392Z"
   },
   {
    "duration": 63,
    "start_time": "2022-01-09T14:39:22.423Z"
   },
   {
    "duration": 12739,
    "start_time": "2022-01-09T14:39:22.489Z"
   },
   {
    "duration": 17,
    "start_time": "2022-01-09T14:39:35.231Z"
   },
   {
    "duration": 76,
    "start_time": "2022-01-09T14:39:35.252Z"
   },
   {
    "duration": 23,
    "start_time": "2022-01-09T14:40:16.410Z"
   },
   {
    "duration": 17,
    "start_time": "2022-01-09T14:41:24.601Z"
   },
   {
    "duration": 15,
    "start_time": "2022-01-09T14:42:35.767Z"
   },
   {
    "duration": 10,
    "start_time": "2022-01-09T14:46:02.829Z"
   },
   {
    "duration": 19,
    "start_time": "2022-01-09T14:46:03.911Z"
   },
   {
    "duration": 48,
    "start_time": "2022-01-09T14:53:24.649Z"
   },
   {
    "duration": 16,
    "start_time": "2022-01-09T14:56:49.790Z"
   },
   {
    "duration": 13,
    "start_time": "2022-01-09T15:01:25.252Z"
   },
   {
    "duration": 13,
    "start_time": "2022-01-09T15:01:28.184Z"
   },
   {
    "duration": 737,
    "start_time": "2022-01-09T15:01:39.700Z"
   },
   {
    "duration": 91,
    "start_time": "2022-01-09T15:01:40.439Z"
   },
   {
    "duration": 66,
    "start_time": "2022-01-09T15:01:40.533Z"
   },
   {
    "duration": 16,
    "start_time": "2022-01-09T15:01:40.601Z"
   },
   {
    "duration": 139,
    "start_time": "2022-01-09T15:01:40.620Z"
   },
   {
    "duration": 10,
    "start_time": "2022-01-09T15:01:40.767Z"
   },
   {
    "duration": 25,
    "start_time": "2022-01-09T15:01:40.780Z"
   },
   {
    "duration": 14,
    "start_time": "2022-01-09T15:01:40.808Z"
   },
   {
    "duration": 29215,
    "start_time": "2022-01-09T15:01:40.825Z"
   },
   {
    "duration": 30,
    "start_time": "2022-01-09T15:02:10.043Z"
   },
   {
    "duration": 17,
    "start_time": "2022-01-09T15:02:10.076Z"
   },
   {
    "duration": 19,
    "start_time": "2022-01-09T15:02:10.096Z"
   },
   {
    "duration": 49,
    "start_time": "2022-01-09T15:02:10.118Z"
   },
   {
    "duration": 8515,
    "start_time": "2022-01-09T15:02:10.169Z"
   },
   {
    "duration": 11,
    "start_time": "2022-01-09T15:02:18.687Z"
   },
   {
    "duration": 10,
    "start_time": "2022-01-09T15:02:28.198Z"
   },
   {
    "duration": 13,
    "start_time": "2022-01-09T15:02:29.208Z"
   },
   {
    "duration": 11,
    "start_time": "2022-01-09T15:06:41.340Z"
   },
   {
    "duration": 40,
    "start_time": "2022-01-09T15:06:58.280Z"
   },
   {
    "duration": 12,
    "start_time": "2022-01-09T15:07:37.569Z"
   },
   {
    "duration": 262,
    "start_time": "2022-01-09T15:17:54.879Z"
   },
   {
    "duration": 740,
    "start_time": "2022-01-09T15:18:56.604Z"
   },
   {
    "duration": 92,
    "start_time": "2022-01-09T15:18:57.347Z"
   },
   {
    "duration": 70,
    "start_time": "2022-01-09T15:18:57.442Z"
   },
   {
    "duration": 16,
    "start_time": "2022-01-09T15:18:57.516Z"
   },
   {
    "duration": 132,
    "start_time": "2022-01-09T15:18:57.535Z"
   },
   {
    "duration": 11,
    "start_time": "2022-01-09T15:18:57.670Z"
   },
   {
    "duration": 27,
    "start_time": "2022-01-09T15:18:57.684Z"
   },
   {
    "duration": 13,
    "start_time": "2022-01-09T15:18:57.715Z"
   },
   {
    "duration": 30473,
    "start_time": "2022-01-09T15:18:57.731Z"
   },
   {
    "duration": 13,
    "start_time": "2022-01-09T15:19:28.207Z"
   },
   {
    "duration": 14,
    "start_time": "2022-01-09T15:19:28.222Z"
   },
   {
    "duration": 42,
    "start_time": "2022-01-09T15:19:28.238Z"
   },
   {
    "duration": 18,
    "start_time": "2022-01-09T15:19:28.282Z"
   },
   {
    "duration": 8133,
    "start_time": "2022-01-09T15:19:28.303Z"
   },
   {
    "duration": 11,
    "start_time": "2022-01-09T15:19:36.439Z"
   },
   {
    "duration": 23,
    "start_time": "2022-01-09T15:19:36.452Z"
   },
   {
    "duration": 14,
    "start_time": "2022-01-09T15:19:45.080Z"
   },
   {
    "duration": 267,
    "start_time": "2022-01-09T15:19:47.936Z"
   },
   {
    "duration": 10644,
    "start_time": "2022-01-09T15:26:42.973Z"
   },
   {
    "duration": 10236,
    "start_time": "2022-01-09T15:27:18.643Z"
   },
   {
    "duration": 812,
    "start_time": "2022-01-09T15:27:50.954Z"
   },
   {
    "duration": 92,
    "start_time": "2022-01-09T15:27:51.768Z"
   },
   {
    "duration": 62,
    "start_time": "2022-01-09T15:27:51.863Z"
   },
   {
    "duration": 37,
    "start_time": "2022-01-09T15:27:51.929Z"
   },
   {
    "duration": 123,
    "start_time": "2022-01-09T15:27:51.970Z"
   },
   {
    "duration": 11,
    "start_time": "2022-01-09T15:27:52.096Z"
   },
   {
    "duration": 35,
    "start_time": "2022-01-09T15:27:52.109Z"
   },
   {
    "duration": 32,
    "start_time": "2022-01-09T15:27:52.147Z"
   },
   {
    "duration": 30447,
    "start_time": "2022-01-09T15:27:52.182Z"
   },
   {
    "duration": 13,
    "start_time": "2022-01-09T15:28:22.632Z"
   },
   {
    "duration": 31,
    "start_time": "2022-01-09T15:28:22.648Z"
   },
   {
    "duration": 19,
    "start_time": "2022-01-09T15:28:22.682Z"
   },
   {
    "duration": 19,
    "start_time": "2022-01-09T15:28:22.703Z"
   },
   {
    "duration": 8613,
    "start_time": "2022-01-09T15:28:22.724Z"
   },
   {
    "duration": 26,
    "start_time": "2022-01-09T15:28:31.340Z"
   },
   {
    "duration": 13,
    "start_time": "2022-01-09T15:28:31.369Z"
   },
   {
    "duration": 8417,
    "start_time": "2022-01-09T15:29:38.548Z"
   },
   {
    "duration": 2299,
    "start_time": "2022-01-09T15:31:01.048Z"
   },
   {
    "duration": 9,
    "start_time": "2022-01-09T15:45:34.628Z"
   },
   {
    "duration": 13,
    "start_time": "2022-01-09T15:45:44.312Z"
   },
   {
    "duration": 7,
    "start_time": "2022-01-09T15:45:54.957Z"
   },
   {
    "duration": 12,
    "start_time": "2022-01-09T15:46:03.583Z"
   },
   {
    "duration": 6,
    "start_time": "2022-01-09T15:46:12.203Z"
   },
   {
    "duration": 7,
    "start_time": "2022-01-09T15:51:17.571Z"
   },
   {
    "duration": 758,
    "start_time": "2022-01-09T15:52:00.288Z"
   },
   {
    "duration": 116,
    "start_time": "2022-01-09T15:52:01.049Z"
   },
   {
    "duration": 66,
    "start_time": "2022-01-09T15:52:01.168Z"
   },
   {
    "duration": 37,
    "start_time": "2022-01-09T15:52:01.237Z"
   },
   {
    "duration": 123,
    "start_time": "2022-01-09T15:52:01.277Z"
   },
   {
    "duration": 11,
    "start_time": "2022-01-09T15:52:01.402Z"
   },
   {
    "duration": 36,
    "start_time": "2022-01-09T15:52:01.415Z"
   },
   {
    "duration": 14,
    "start_time": "2022-01-09T15:52:01.467Z"
   },
   {
    "duration": 29222,
    "start_time": "2022-01-09T15:52:01.483Z"
   },
   {
    "duration": 14,
    "start_time": "2022-01-09T15:52:30.707Z"
   },
   {
    "duration": 23,
    "start_time": "2022-01-09T15:52:30.723Z"
   },
   {
    "duration": 37,
    "start_time": "2022-01-09T15:52:30.749Z"
   },
   {
    "duration": 18,
    "start_time": "2022-01-09T15:52:30.789Z"
   },
   {
    "duration": 8415,
    "start_time": "2022-01-09T15:52:30.810Z"
   },
   {
    "duration": 12,
    "start_time": "2022-01-09T15:52:39.227Z"
   },
   {
    "duration": 32,
    "start_time": "2022-01-09T15:52:39.242Z"
   },
   {
    "duration": 7,
    "start_time": "2022-01-09T15:53:29.118Z"
   },
   {
    "duration": 12,
    "start_time": "2022-01-09T15:58:21.015Z"
   },
   {
    "duration": 64,
    "start_time": "2022-01-09T15:58:34.020Z"
   },
   {
    "duration": 16,
    "start_time": "2022-01-09T16:10:03.688Z"
   },
   {
    "duration": 57,
    "start_time": "2022-01-09T16:10:40.350Z"
   },
   {
    "duration": 17,
    "start_time": "2022-01-09T16:11:22.914Z"
   },
   {
    "duration": 16,
    "start_time": "2022-01-09T16:11:32.511Z"
   },
   {
    "duration": 16,
    "start_time": "2022-01-09T16:12:13.098Z"
   },
   {
    "duration": 58,
    "start_time": "2022-01-09T16:12:22.896Z"
   },
   {
    "duration": 408,
    "start_time": "2022-01-09T16:13:14.612Z"
   },
   {
    "duration": 359,
    "start_time": "2022-01-09T16:13:20.232Z"
   },
   {
    "duration": 10,
    "start_time": "2022-01-09T16:13:24.410Z"
   },
   {
    "duration": 28,
    "start_time": "2022-01-09T16:13:45.510Z"
   },
   {
    "duration": 380,
    "start_time": "2022-01-09T16:16:28.894Z"
   },
   {
    "duration": 383,
    "start_time": "2022-01-09T16:16:38.654Z"
   },
   {
    "duration": 20,
    "start_time": "2022-01-09T16:21:29.129Z"
   },
   {
    "duration": 11,
    "start_time": "2022-01-09T16:21:52.547Z"
   },
   {
    "duration": 11,
    "start_time": "2022-01-09T16:22:56.290Z"
   },
   {
    "duration": 15,
    "start_time": "2022-01-09T16:23:12.570Z"
   },
   {
    "duration": 13,
    "start_time": "2022-01-09T16:34:34.942Z"
   },
   {
    "duration": 8634,
    "start_time": "2022-01-09T16:34:37.017Z"
   },
   {
    "duration": 802,
    "start_time": "2022-01-09T16:35:28.751Z"
   },
   {
    "duration": 114,
    "start_time": "2022-01-09T16:35:29.556Z"
   },
   {
    "duration": 102,
    "start_time": "2022-01-09T16:35:29.679Z"
   },
   {
    "duration": 16,
    "start_time": "2022-01-09T16:35:29.784Z"
   },
   {
    "duration": 145,
    "start_time": "2022-01-09T16:35:29.803Z"
   },
   {
    "duration": 23,
    "start_time": "2022-01-09T16:35:29.950Z"
   },
   {
    "duration": 25,
    "start_time": "2022-01-09T16:35:29.976Z"
   },
   {
    "duration": 25,
    "start_time": "2022-01-09T16:35:30.005Z"
   },
   {
    "duration": 29298,
    "start_time": "2022-01-09T16:35:30.034Z"
   },
   {
    "duration": 13,
    "start_time": "2022-01-09T16:35:59.335Z"
   },
   {
    "duration": 14,
    "start_time": "2022-01-09T16:35:59.366Z"
   },
   {
    "duration": 20,
    "start_time": "2022-01-09T16:35:59.384Z"
   },
   {
    "duration": 19,
    "start_time": "2022-01-09T16:35:59.407Z"
   },
   {
    "duration": 8654,
    "start_time": "2022-01-09T16:35:59.428Z"
   },
   {
    "duration": 13,
    "start_time": "2022-01-09T16:36:08.085Z"
   },
   {
    "duration": 14,
    "start_time": "2022-01-09T16:36:08.101Z"
   },
   {
    "duration": 14,
    "start_time": "2022-01-09T16:36:08.118Z"
   },
   {
    "duration": 13,
    "start_time": "2022-01-09T16:36:08.168Z"
   },
   {
    "duration": 11167,
    "start_time": "2022-01-09T16:36:23.329Z"
   },
   {
    "duration": 1274,
    "start_time": "2022-01-09T16:53:39.662Z"
   },
   {
    "duration": 827,
    "start_time": "2022-01-09T16:54:03.020Z"
   },
   {
    "duration": 11,
    "start_time": "2022-01-09T16:54:07.794Z"
   },
   {
    "duration": 808,
    "start_time": "2022-01-09T16:55:10.408Z"
   },
   {
    "duration": 778,
    "start_time": "2022-01-09T16:55:37.776Z"
   },
   {
    "duration": 91,
    "start_time": "2022-01-09T16:55:38.557Z"
   },
   {
    "duration": 68,
    "start_time": "2022-01-09T16:55:38.651Z"
   },
   {
    "duration": 16,
    "start_time": "2022-01-09T16:55:38.722Z"
   },
   {
    "duration": 138,
    "start_time": "2022-01-09T16:55:38.768Z"
   },
   {
    "duration": 11,
    "start_time": "2022-01-09T16:55:38.909Z"
   },
   {
    "duration": 24,
    "start_time": "2022-01-09T16:55:38.923Z"
   },
   {
    "duration": 14,
    "start_time": "2022-01-09T16:55:38.967Z"
   },
   {
    "duration": 31175,
    "start_time": "2022-01-09T16:55:38.984Z"
   },
   {
    "duration": 18,
    "start_time": "2022-01-09T16:56:10.162Z"
   },
   {
    "duration": 19,
    "start_time": "2022-01-09T16:56:10.183Z"
   },
   {
    "duration": 24,
    "start_time": "2022-01-09T16:56:10.205Z"
   },
   {
    "duration": 21,
    "start_time": "2022-01-09T16:56:10.269Z"
   },
   {
    "duration": 9119,
    "start_time": "2022-01-09T16:56:10.293Z"
   },
   {
    "duration": 12,
    "start_time": "2022-01-09T16:56:19.414Z"
   },
   {
    "duration": 38,
    "start_time": "2022-01-09T16:56:19.429Z"
   },
   {
    "duration": 17,
    "start_time": "2022-01-09T16:56:19.470Z"
   },
   {
    "duration": 17,
    "start_time": "2022-01-09T16:56:19.490Z"
   },
   {
    "duration": 1111,
    "start_time": "2022-01-09T16:56:23.069Z"
   },
   {
    "duration": 774,
    "start_time": "2022-01-09T17:00:51.009Z"
   },
   {
    "duration": 801,
    "start_time": "2022-01-09T17:01:02.742Z"
   },
   {
    "duration": 89,
    "start_time": "2022-01-09T17:01:03.545Z"
   },
   {
    "duration": 69,
    "start_time": "2022-01-09T17:01:03.637Z"
   },
   {
    "duration": 16,
    "start_time": "2022-01-09T17:01:03.708Z"
   },
   {
    "duration": 133,
    "start_time": "2022-01-09T17:01:03.727Z"
   },
   {
    "duration": 14,
    "start_time": "2022-01-09T17:01:03.863Z"
   },
   {
    "duration": 25,
    "start_time": "2022-01-09T17:01:03.880Z"
   },
   {
    "duration": 15,
    "start_time": "2022-01-09T17:01:03.909Z"
   },
   {
    "duration": 29809,
    "start_time": "2022-01-09T17:01:03.927Z"
   },
   {
    "duration": 28,
    "start_time": "2022-01-09T17:01:33.739Z"
   },
   {
    "duration": 14,
    "start_time": "2022-01-09T17:01:33.769Z"
   },
   {
    "duration": 24,
    "start_time": "2022-01-09T17:01:33.787Z"
   },
   {
    "duration": 19,
    "start_time": "2022-01-09T17:01:33.814Z"
   },
   {
    "duration": 8514,
    "start_time": "2022-01-09T17:01:33.868Z"
   },
   {
    "duration": 12,
    "start_time": "2022-01-09T17:01:42.384Z"
   },
   {
    "duration": 11,
    "start_time": "2022-01-09T17:01:42.398Z"
   },
   {
    "duration": 14,
    "start_time": "2022-01-09T17:01:42.411Z"
   },
   {
    "duration": 46,
    "start_time": "2022-01-09T17:01:42.427Z"
   },
   {
    "duration": 927,
    "start_time": "2022-01-09T17:02:02.398Z"
   },
   {
    "duration": 798,
    "start_time": "2022-01-09T17:09:32.164Z"
   },
   {
    "duration": 12,
    "start_time": "2022-01-09T17:09:38.173Z"
   },
   {
    "duration": 420,
    "start_time": "2022-01-09T17:21:29.838Z"
   },
   {
    "duration": 990,
    "start_time": "2022-01-09T17:23:50.930Z"
   },
   {
    "duration": 10267,
    "start_time": "2022-01-09T17:24:10.350Z"
   },
   {
    "duration": 10054,
    "start_time": "2022-01-09T17:24:38.090Z"
   },
   {
    "duration": 8700,
    "start_time": "2022-01-09T17:24:51.567Z"
   },
   {
    "duration": 450,
    "start_time": "2022-01-09T17:25:56.693Z"
   },
   {
    "duration": 8,
    "start_time": "2022-01-09T17:27:16.602Z"
   },
   {
    "duration": 410,
    "start_time": "2022-01-09T17:27:22.405Z"
   },
   {
    "duration": 398,
    "start_time": "2022-01-09T17:27:31.149Z"
   },
   {
    "duration": 339,
    "start_time": "2022-01-09T17:27:43.342Z"
   },
   {
    "duration": 966,
    "start_time": "2022-01-09T17:27:58.159Z"
   },
   {
    "duration": 98,
    "start_time": "2022-01-09T17:27:59.130Z"
   },
   {
    "duration": 72,
    "start_time": "2022-01-09T17:27:59.234Z"
   },
   {
    "duration": 16,
    "start_time": "2022-01-09T17:27:59.308Z"
   },
   {
    "duration": 137,
    "start_time": "2022-01-09T17:27:59.326Z"
   },
   {
    "duration": 14,
    "start_time": "2022-01-09T17:27:59.469Z"
   },
   {
    "duration": 24,
    "start_time": "2022-01-09T17:27:59.487Z"
   },
   {
    "duration": 16,
    "start_time": "2022-01-09T17:27:59.514Z"
   },
   {
    "duration": 29297,
    "start_time": "2022-01-09T17:27:59.533Z"
   },
   {
    "duration": 12,
    "start_time": "2022-01-09T17:28:28.833Z"
   },
   {
    "duration": 30,
    "start_time": "2022-01-09T17:28:28.847Z"
   },
   {
    "duration": 20,
    "start_time": "2022-01-09T17:28:28.880Z"
   },
   {
    "duration": 17,
    "start_time": "2022-01-09T17:28:28.902Z"
   },
   {
    "duration": 8952,
    "start_time": "2022-01-09T17:28:28.921Z"
   },
   {
    "duration": 15,
    "start_time": "2022-01-09T17:28:37.875Z"
   },
   {
    "duration": 15,
    "start_time": "2022-01-09T17:28:37.893Z"
   },
   {
    "duration": 956,
    "start_time": "2022-01-09T17:28:37.911Z"
   },
   {
    "duration": 12,
    "start_time": "2022-01-09T17:28:42.917Z"
   },
   {
    "duration": 8,
    "start_time": "2022-01-09T17:28:46.333Z"
   },
   {
    "duration": 36,
    "start_time": "2022-01-09T17:28:53.083Z"
   },
   {
    "duration": 26,
    "start_time": "2022-01-09T17:29:25.344Z"
   },
   {
    "duration": 674,
    "start_time": "2022-01-09T17:30:04.857Z"
   },
   {
    "duration": 332,
    "start_time": "2022-01-09T17:30:55.684Z"
   },
   {
    "duration": 310,
    "start_time": "2022-01-09T17:31:02.891Z"
   },
   {
    "duration": 816,
    "start_time": "2022-01-09T17:31:17.234Z"
   },
   {
    "duration": 89,
    "start_time": "2022-01-09T17:31:18.053Z"
   },
   {
    "duration": 67,
    "start_time": "2022-01-09T17:31:18.145Z"
   },
   {
    "duration": 15,
    "start_time": "2022-01-09T17:31:18.215Z"
   },
   {
    "duration": 148,
    "start_time": "2022-01-09T17:31:18.233Z"
   },
   {
    "duration": 10,
    "start_time": "2022-01-09T17:31:18.384Z"
   },
   {
    "duration": 25,
    "start_time": "2022-01-09T17:31:18.396Z"
   },
   {
    "duration": 45,
    "start_time": "2022-01-09T17:31:18.424Z"
   },
   {
    "duration": 28930,
    "start_time": "2022-01-09T17:31:18.471Z"
   },
   {
    "duration": 12,
    "start_time": "2022-01-09T17:31:47.403Z"
   },
   {
    "duration": 14,
    "start_time": "2022-01-09T17:31:47.417Z"
   },
   {
    "duration": 46,
    "start_time": "2022-01-09T17:31:47.433Z"
   },
   {
    "duration": 16,
    "start_time": "2022-01-09T17:31:47.482Z"
   },
   {
    "duration": 8024,
    "start_time": "2022-01-09T17:31:47.500Z"
   },
   {
    "duration": 11,
    "start_time": "2022-01-09T17:31:55.527Z"
   },
   {
    "duration": 28,
    "start_time": "2022-01-09T17:31:55.541Z"
   },
   {
    "duration": 811,
    "start_time": "2022-01-09T17:31:55.571Z"
   },
   {
    "duration": 12,
    "start_time": "2022-01-09T17:31:56.384Z"
   },
   {
    "duration": 7,
    "start_time": "2022-01-09T17:32:00.696Z"
   },
   {
    "duration": 451,
    "start_time": "2022-01-09T17:33:00.726Z"
   },
   {
    "duration": 306,
    "start_time": "2022-01-09T17:33:10.235Z"
   },
   {
    "duration": 427,
    "start_time": "2022-01-09T17:33:18.804Z"
   },
   {
    "duration": 792,
    "start_time": "2022-01-09T17:34:12.263Z"
   },
   {
    "duration": 89,
    "start_time": "2022-01-09T17:34:13.058Z"
   },
   {
    "duration": 68,
    "start_time": "2022-01-09T17:34:13.150Z"
   },
   {
    "duration": 16,
    "start_time": "2022-01-09T17:34:13.221Z"
   },
   {
    "duration": 138,
    "start_time": "2022-01-09T17:34:13.239Z"
   },
   {
    "duration": 10,
    "start_time": "2022-01-09T17:34:13.380Z"
   },
   {
    "duration": 24,
    "start_time": "2022-01-09T17:34:13.392Z"
   },
   {
    "duration": 14,
    "start_time": "2022-01-09T17:34:13.420Z"
   },
   {
    "duration": 28501,
    "start_time": "2022-01-09T17:34:13.468Z"
   },
   {
    "duration": 11,
    "start_time": "2022-01-09T17:34:41.972Z"
   },
   {
    "duration": 14,
    "start_time": "2022-01-09T17:34:41.986Z"
   },
   {
    "duration": 17,
    "start_time": "2022-01-09T17:34:42.002Z"
   },
   {
    "duration": 54,
    "start_time": "2022-01-09T17:34:42.021Z"
   },
   {
    "duration": 8136,
    "start_time": "2022-01-09T17:34:42.078Z"
   },
   {
    "duration": 13,
    "start_time": "2022-01-09T17:34:50.216Z"
   },
   {
    "duration": 10,
    "start_time": "2022-01-09T17:34:50.231Z"
   },
   {
    "duration": 802,
    "start_time": "2022-01-09T17:34:50.243Z"
   },
   {
    "duration": 21,
    "start_time": "2022-01-09T17:34:51.047Z"
   },
   {
    "duration": 6,
    "start_time": "2022-01-09T17:34:51.071Z"
   },
   {
    "duration": 32,
    "start_time": "2022-01-09T17:34:51.080Z"
   },
   {
    "duration": 590,
    "start_time": "2022-01-09T17:34:54.038Z"
   },
   {
    "duration": 799,
    "start_time": "2022-01-09T17:36:05.739Z"
   },
   {
    "duration": 727,
    "start_time": "2022-01-09T17:36:06.541Z"
   },
   {
    "duration": 63,
    "start_time": "2022-01-09T17:36:07.271Z"
   },
   {
    "duration": 38,
    "start_time": "2022-01-09T17:36:07.337Z"
   },
   {
    "duration": 129,
    "start_time": "2022-01-09T17:36:07.378Z"
   },
   {
    "duration": 10,
    "start_time": "2022-01-09T17:36:07.509Z"
   },
   {
    "duration": 45,
    "start_time": "2022-01-09T17:36:07.523Z"
   },
   {
    "duration": 16,
    "start_time": "2022-01-09T17:36:07.573Z"
   },
   {
    "duration": 29881,
    "start_time": "2022-01-09T17:36:07.593Z"
   },
   {
    "duration": 12,
    "start_time": "2022-01-09T17:36:37.476Z"
   },
   {
    "duration": 19,
    "start_time": "2022-01-09T17:36:37.491Z"
   },
   {
    "duration": 17,
    "start_time": "2022-01-09T17:36:37.513Z"
   },
   {
    "duration": 47,
    "start_time": "2022-01-09T17:36:37.532Z"
   },
   {
    "duration": 8313,
    "start_time": "2022-01-09T17:36:37.582Z"
   },
   {
    "duration": 15,
    "start_time": "2022-01-09T17:36:45.897Z"
   },
   {
    "duration": 11,
    "start_time": "2022-01-09T17:36:45.915Z"
   },
   {
    "duration": 952,
    "start_time": "2022-01-09T17:36:45.929Z"
   },
   {
    "duration": 12,
    "start_time": "2022-01-09T17:36:46.884Z"
   },
   {
    "duration": 15,
    "start_time": "2022-01-09T17:36:49.681Z"
   },
   {
    "duration": 21,
    "start_time": "2022-01-09T17:36:52.620Z"
   },
   {
    "duration": 25,
    "start_time": "2022-01-09T17:37:06.526Z"
   },
   {
    "duration": 436,
    "start_time": "2022-01-09T17:47:13.522Z"
   },
   {
    "duration": 11,
    "start_time": "2022-01-09T17:47:42.392Z"
   },
   {
    "duration": 10,
    "start_time": "2022-01-09T17:47:52.408Z"
   },
   {
    "duration": 30,
    "start_time": "2022-01-09T17:47:54.618Z"
   },
   {
    "duration": 111,
    "start_time": "2022-01-09T17:48:39.497Z"
   },
   {
    "duration": 14,
    "start_time": "2022-01-09T18:00:11.592Z"
   },
   {
    "duration": 39,
    "start_time": "2022-01-09T18:08:38.571Z"
   },
   {
    "duration": 371,
    "start_time": "2022-01-09T18:08:52.437Z"
   },
   {
    "duration": 35,
    "start_time": "2022-01-09T18:09:24.354Z"
   },
   {
    "duration": 6,
    "start_time": "2022-01-09T18:10:03.956Z"
   },
   {
    "duration": 293,
    "start_time": "2022-01-10T13:41:53.267Z"
   },
   {
    "duration": 578,
    "start_time": "2022-01-10T13:42:16.232Z"
   },
   {
    "duration": 67,
    "start_time": "2022-01-10T13:42:16.812Z"
   },
   {
    "duration": 34,
    "start_time": "2022-01-10T13:42:16.890Z"
   },
   {
    "duration": 10,
    "start_time": "2022-01-10T13:42:16.926Z"
   },
   {
    "duration": 63,
    "start_time": "2022-01-10T13:42:16.940Z"
   },
   {
    "duration": 7,
    "start_time": "2022-01-10T13:42:17.005Z"
   },
   {
    "duration": 32,
    "start_time": "2022-01-10T13:42:17.013Z"
   },
   {
    "duration": 16,
    "start_time": "2022-01-10T13:42:17.047Z"
   },
   {
    "duration": 17687,
    "start_time": "2022-01-10T13:42:17.065Z"
   },
   {
    "duration": 8,
    "start_time": "2022-01-10T13:42:34.754Z"
   },
   {
    "duration": 10,
    "start_time": "2022-01-10T13:42:34.764Z"
   },
   {
    "duration": 11,
    "start_time": "2022-01-10T13:42:34.775Z"
   },
   {
    "duration": 10,
    "start_time": "2022-01-10T13:42:34.787Z"
   },
   {
    "duration": 4653,
    "start_time": "2022-01-10T13:42:34.799Z"
   },
   {
    "duration": 8,
    "start_time": "2022-01-10T13:42:39.454Z"
   },
   {
    "duration": 11,
    "start_time": "2022-01-10T13:42:39.463Z"
   },
   {
    "duration": 773,
    "start_time": "2022-01-10T13:42:39.476Z"
   },
   {
    "duration": 11,
    "start_time": "2022-01-10T13:42:40.252Z"
   },
   {
    "duration": 13,
    "start_time": "2022-01-10T13:42:40.265Z"
   },
   {
    "duration": 10,
    "start_time": "2022-01-10T13:42:40.280Z"
   },
   {
    "duration": 24,
    "start_time": "2022-01-10T13:42:40.291Z"
   },
   {
    "duration": 34,
    "start_time": "2022-01-10T13:42:40.317Z"
   },
   {
    "duration": 9,
    "start_time": "2022-01-10T13:42:40.354Z"
   },
   {
    "duration": 325,
    "start_time": "2022-01-10T13:42:47.130Z"
   },
   {
    "duration": 563,
    "start_time": "2022-01-10T13:43:39.983Z"
   },
   {
    "duration": 66,
    "start_time": "2022-01-10T13:43:40.548Z"
   },
   {
    "duration": 40,
    "start_time": "2022-01-10T13:43:40.616Z"
   },
   {
    "duration": 12,
    "start_time": "2022-01-10T13:43:40.658Z"
   },
   {
    "duration": 81,
    "start_time": "2022-01-10T13:43:40.672Z"
   },
   {
    "duration": 8,
    "start_time": "2022-01-10T13:43:40.756Z"
   },
   {
    "duration": 37,
    "start_time": "2022-01-10T13:43:40.765Z"
   },
   {
    "duration": 23,
    "start_time": "2022-01-10T13:43:40.805Z"
   },
   {
    "duration": 17343,
    "start_time": "2022-01-10T13:43:40.830Z"
   },
   {
    "duration": 10,
    "start_time": "2022-01-10T13:43:58.175Z"
   },
   {
    "duration": 10,
    "start_time": "2022-01-10T13:43:58.186Z"
   },
   {
    "duration": 12,
    "start_time": "2022-01-10T13:43:58.198Z"
   },
   {
    "duration": 37,
    "start_time": "2022-01-10T13:43:58.212Z"
   },
   {
    "duration": 4790,
    "start_time": "2022-01-10T13:43:58.251Z"
   },
   {
    "duration": 9,
    "start_time": "2022-01-10T13:44:03.042Z"
   },
   {
    "duration": 7,
    "start_time": "2022-01-10T13:44:03.053Z"
   },
   {
    "duration": 436,
    "start_time": "2022-01-10T13:44:03.062Z"
   },
   {
    "duration": 8,
    "start_time": "2022-01-10T13:44:03.501Z"
   },
   {
    "duration": 8,
    "start_time": "2022-01-10T13:44:03.510Z"
   },
   {
    "duration": 21,
    "start_time": "2022-01-10T13:44:03.520Z"
   },
   {
    "duration": 13,
    "start_time": "2022-01-10T13:44:03.542Z"
   },
   {
    "duration": 9,
    "start_time": "2022-01-10T13:44:03.557Z"
   },
   {
    "duration": 8,
    "start_time": "2022-01-10T13:44:03.568Z"
   },
   {
    "duration": 279,
    "start_time": "2022-01-10T13:44:32.094Z"
   },
   {
    "duration": 266,
    "start_time": "2022-01-10T13:45:45.347Z"
   },
   {
    "duration": 506,
    "start_time": "2022-01-10T13:45:56.497Z"
   },
   {
    "duration": 68,
    "start_time": "2022-01-10T13:45:57.005Z"
   },
   {
    "duration": 36,
    "start_time": "2022-01-10T13:45:57.075Z"
   },
   {
    "duration": 10,
    "start_time": "2022-01-10T13:45:57.113Z"
   },
   {
    "duration": 74,
    "start_time": "2022-01-10T13:45:57.125Z"
   },
   {
    "duration": 7,
    "start_time": "2022-01-10T13:45:57.201Z"
   },
   {
    "duration": 2,
    "start_time": "2022-01-10T13:45:57.209Z"
   },
   {
    "duration": 28,
    "start_time": "2022-01-10T13:45:57.214Z"
   },
   {
    "duration": 17297,
    "start_time": "2022-01-10T13:45:57.244Z"
   },
   {
    "duration": 8,
    "start_time": "2022-01-10T13:46:14.543Z"
   },
   {
    "duration": 13,
    "start_time": "2022-01-10T13:46:14.553Z"
   },
   {
    "duration": 10,
    "start_time": "2022-01-10T13:46:14.568Z"
   },
   {
    "duration": 10,
    "start_time": "2022-01-10T13:46:14.580Z"
   },
   {
    "duration": 4617,
    "start_time": "2022-01-10T13:46:14.591Z"
   },
   {
    "duration": 7,
    "start_time": "2022-01-10T13:46:19.210Z"
   },
   {
    "duration": 7,
    "start_time": "2022-01-10T13:46:19.219Z"
   },
   {
    "duration": 528,
    "start_time": "2022-01-10T13:46:19.227Z"
   },
   {
    "duration": 8,
    "start_time": "2022-01-10T13:46:19.757Z"
   },
   {
    "duration": 9,
    "start_time": "2022-01-10T13:46:19.767Z"
   },
   {
    "duration": 9,
    "start_time": "2022-01-10T13:46:19.777Z"
   },
   {
    "duration": 12,
    "start_time": "2022-01-10T13:46:19.787Z"
   },
   {
    "duration": 8,
    "start_time": "2022-01-10T13:46:19.800Z"
   },
   {
    "duration": 32,
    "start_time": "2022-01-10T13:46:19.810Z"
   },
   {
    "duration": 25,
    "start_time": "2022-01-10T13:46:23.489Z"
   },
   {
    "duration": 20,
    "start_time": "2022-01-10T13:56:52.300Z"
   },
   {
    "duration": 19,
    "start_time": "2022-01-10T13:57:06.831Z"
   },
   {
    "duration": 19,
    "start_time": "2022-01-10T13:57:15.818Z"
   },
   {
    "duration": 17,
    "start_time": "2022-01-10T13:57:40.555Z"
   },
   {
    "duration": 12,
    "start_time": "2022-01-10T13:57:53.461Z"
   },
   {
    "duration": 15,
    "start_time": "2022-01-10T13:57:59.691Z"
   },
   {
    "duration": 71,
    "start_time": "2022-01-10T14:06:13.714Z"
   },
   {
    "duration": 1132,
    "start_time": "2022-01-10T14:06:31.164Z"
   },
   {
    "duration": 1208,
    "start_time": "2022-01-10T14:06:57.348Z"
   },
   {
    "duration": 2868,
    "start_time": "2022-01-10T14:08:40.482Z"
   },
   {
    "duration": 71,
    "start_time": "2022-01-10T14:08:56.714Z"
   },
   {
    "duration": 93,
    "start_time": "2022-01-10T14:09:01.773Z"
   },
   {
    "duration": 110,
    "start_time": "2022-01-10T14:22:46.412Z"
   },
   {
    "duration": 1120,
    "start_time": "2022-01-10T14:31:58.392Z"
   },
   {
    "duration": 559,
    "start_time": "2022-01-10T14:34:35.196Z"
   },
   {
    "duration": 71,
    "start_time": "2022-01-10T14:34:35.757Z"
   },
   {
    "duration": 133,
    "start_time": "2022-01-10T14:34:35.830Z"
   },
   {
    "duration": 191,
    "start_time": "2022-01-10T14:34:35.965Z"
   },
   {
    "duration": 178,
    "start_time": "2022-01-10T14:34:36.157Z"
   },
   {
    "duration": 63,
    "start_time": "2022-01-10T14:34:36.336Z"
   },
   {
    "duration": 184,
    "start_time": "2022-01-10T14:34:36.400Z"
   },
   {
    "duration": 132,
    "start_time": "2022-01-10T14:34:36.586Z"
   },
   {
    "duration": 17663,
    "start_time": "2022-01-10T14:34:36.720Z"
   },
   {
    "duration": 9,
    "start_time": "2022-01-10T14:34:54.384Z"
   },
   {
    "duration": 8,
    "start_time": "2022-01-10T14:34:54.394Z"
   },
   {
    "duration": 9,
    "start_time": "2022-01-10T14:34:54.403Z"
   },
   {
    "duration": 29,
    "start_time": "2022-01-10T14:34:54.414Z"
   },
   {
    "duration": 4554,
    "start_time": "2022-01-10T14:34:54.445Z"
   },
   {
    "duration": 8,
    "start_time": "2022-01-10T14:34:59.000Z"
   },
   {
    "duration": 10,
    "start_time": "2022-01-10T14:34:59.009Z"
   },
   {
    "duration": 489,
    "start_time": "2022-01-10T14:34:59.021Z"
   },
   {
    "duration": 8,
    "start_time": "2022-01-10T14:34:59.512Z"
   },
   {
    "duration": 20,
    "start_time": "2022-01-10T14:34:59.521Z"
   },
   {
    "duration": 8,
    "start_time": "2022-01-10T14:34:59.543Z"
   },
   {
    "duration": 18,
    "start_time": "2022-01-10T14:34:59.553Z"
   },
   {
    "duration": 8,
    "start_time": "2022-01-10T14:34:59.572Z"
   },
   {
    "duration": 7,
    "start_time": "2022-01-10T14:34:59.582Z"
   },
   {
    "duration": 70,
    "start_time": "2022-01-10T14:35:10.846Z"
   },
   {
    "duration": 1325,
    "start_time": "2022-01-10T14:35:12.131Z"
   },
   {
    "duration": 23,
    "start_time": "2022-01-10T14:48:41.731Z"
   },
   {
    "duration": 1227,
    "start_time": "2022-01-10T14:49:40.406Z"
   },
   {
    "duration": 1118,
    "start_time": "2022-01-10T14:53:09.327Z"
   },
   {
    "duration": 581,
    "start_time": "2022-01-10T14:53:18.651Z"
   },
   {
    "duration": 68,
    "start_time": "2022-01-10T14:53:19.234Z"
   },
   {
    "duration": 34,
    "start_time": "2022-01-10T14:53:19.304Z"
   },
   {
    "duration": 9,
    "start_time": "2022-01-10T14:53:19.340Z"
   },
   {
    "duration": 66,
    "start_time": "2022-01-10T14:53:19.350Z"
   },
   {
    "duration": 29,
    "start_time": "2022-01-10T14:53:19.417Z"
   },
   {
    "duration": 10,
    "start_time": "2022-01-10T14:53:19.448Z"
   },
   {
    "duration": 11,
    "start_time": "2022-01-10T14:53:19.461Z"
   },
   {
    "duration": 17849,
    "start_time": "2022-01-10T14:53:19.474Z"
   },
   {
    "duration": 16,
    "start_time": "2022-01-10T14:53:37.325Z"
   },
   {
    "duration": 7,
    "start_time": "2022-01-10T14:53:37.343Z"
   },
   {
    "duration": 10,
    "start_time": "2022-01-10T14:53:37.352Z"
   },
   {
    "duration": 9,
    "start_time": "2022-01-10T14:53:37.363Z"
   },
   {
    "duration": 4657,
    "start_time": "2022-01-10T14:53:37.374Z"
   },
   {
    "duration": 12,
    "start_time": "2022-01-10T14:53:42.032Z"
   },
   {
    "duration": 7,
    "start_time": "2022-01-10T14:53:42.046Z"
   },
   {
    "duration": 628,
    "start_time": "2022-01-10T14:53:42.054Z"
   },
   {
    "duration": 8,
    "start_time": "2022-01-10T14:53:42.683Z"
   },
   {
    "duration": 8,
    "start_time": "2022-01-10T14:53:42.693Z"
   },
   {
    "duration": 14,
    "start_time": "2022-01-10T14:53:42.702Z"
   },
   {
    "duration": 24,
    "start_time": "2022-01-10T14:53:42.718Z"
   },
   {
    "duration": 8,
    "start_time": "2022-01-10T14:53:42.743Z"
   },
   {
    "duration": 20,
    "start_time": "2022-01-10T14:53:42.753Z"
   },
   {
    "duration": 70,
    "start_time": "2022-01-10T14:53:42.774Z"
   },
   {
    "duration": 21,
    "start_time": "2022-01-10T14:53:42.845Z"
   },
   {
    "duration": 1119,
    "start_time": "2022-01-10T14:53:52.089Z"
   },
   {
    "duration": 607,
    "start_time": "2022-01-10T14:55:24.940Z"
   },
   {
    "duration": 78,
    "start_time": "2022-01-10T14:55:25.549Z"
   },
   {
    "duration": 41,
    "start_time": "2022-01-10T14:55:25.630Z"
   },
   {
    "duration": 12,
    "start_time": "2022-01-10T14:55:25.673Z"
   },
   {
    "duration": 89,
    "start_time": "2022-01-10T14:55:25.687Z"
   },
   {
    "duration": 8,
    "start_time": "2022-01-10T14:55:25.778Z"
   },
   {
    "duration": 8,
    "start_time": "2022-01-10T14:55:25.788Z"
   },
   {
    "duration": 12,
    "start_time": "2022-01-10T14:55:25.799Z"
   },
   {
    "duration": 17915,
    "start_time": "2022-01-10T14:55:25.813Z"
   },
   {
    "duration": 15,
    "start_time": "2022-01-10T14:55:43.730Z"
   },
   {
    "duration": 17,
    "start_time": "2022-01-10T14:55:43.747Z"
   },
   {
    "duration": 34,
    "start_time": "2022-01-10T14:55:43.765Z"
   },
   {
    "duration": 13,
    "start_time": "2022-01-10T14:55:43.801Z"
   },
   {
    "duration": 4756,
    "start_time": "2022-01-10T14:55:43.816Z"
   },
   {
    "duration": 8,
    "start_time": "2022-01-10T14:55:48.573Z"
   },
   {
    "duration": 9,
    "start_time": "2022-01-10T14:55:48.582Z"
   },
   {
    "duration": 496,
    "start_time": "2022-01-10T14:55:48.593Z"
   },
   {
    "duration": 9,
    "start_time": "2022-01-10T14:55:49.091Z"
   },
   {
    "duration": 11,
    "start_time": "2022-01-10T14:55:49.102Z"
   },
   {
    "duration": 29,
    "start_time": "2022-01-10T14:55:49.114Z"
   },
   {
    "duration": 13,
    "start_time": "2022-01-10T14:55:49.144Z"
   },
   {
    "duration": 10,
    "start_time": "2022-01-10T14:55:49.159Z"
   },
   {
    "duration": 11,
    "start_time": "2022-01-10T14:55:49.171Z"
   },
   {
    "duration": 87,
    "start_time": "2022-01-10T14:55:49.183Z"
   },
   {
    "duration": 1204,
    "start_time": "2022-01-10T14:56:08.270Z"
   },
   {
    "duration": 1296,
    "start_time": "2022-01-10T14:56:21.884Z"
   },
   {
    "duration": 1177,
    "start_time": "2022-01-10T14:56:46.275Z"
   },
   {
    "duration": 1449,
    "start_time": "2022-01-10T14:58:26.996Z"
   },
   {
    "duration": 20,
    "start_time": "2022-01-10T14:59:02.857Z"
   },
   {
    "duration": 24,
    "start_time": "2022-01-10T14:59:16.413Z"
   },
   {
    "duration": 22,
    "start_time": "2022-01-10T14:59:27.032Z"
   },
   {
    "duration": 341,
    "start_time": "2022-01-10T15:00:39.863Z"
   },
   {
    "duration": 23,
    "start_time": "2022-01-10T15:00:52.241Z"
   },
   {
    "duration": 25,
    "start_time": "2022-01-10T15:00:55.208Z"
   },
   {
    "duration": 25,
    "start_time": "2022-01-10T15:01:06.613Z"
   },
   {
    "duration": 24,
    "start_time": "2022-01-10T15:01:17.136Z"
   },
   {
    "duration": 393,
    "start_time": "2022-01-10T15:02:10.249Z"
   },
   {
    "duration": 82,
    "start_time": "2022-01-10T15:02:13.897Z"
   },
   {
    "duration": 24,
    "start_time": "2022-01-10T15:02:17.493Z"
   },
   {
    "duration": 25,
    "start_time": "2022-01-10T15:02:34.623Z"
   },
   {
    "duration": 144,
    "start_time": "2022-01-10T15:02:45.063Z"
   },
   {
    "duration": 252,
    "start_time": "2022-01-10T15:05:29.698Z"
   },
   {
    "duration": 4034,
    "start_time": "2022-01-10T15:06:59.977Z"
   },
   {
    "duration": 4029,
    "start_time": "2022-01-10T15:07:07.222Z"
   },
   {
    "duration": 3891,
    "start_time": "2022-01-10T15:07:41.902Z"
   },
   {
    "duration": 4451,
    "start_time": "2022-01-10T15:08:23.924Z"
   },
   {
    "duration": 4277,
    "start_time": "2022-01-10T15:09:12.925Z"
   },
   {
    "duration": 3822,
    "start_time": "2022-01-10T15:09:33.668Z"
   },
   {
    "duration": -25,
    "start_time": "2022-01-10T15:10:00.473Z"
   },
   {
    "duration": 4847,
    "start_time": "2022-01-10T15:10:04.180Z"
   },
   {
    "duration": 413,
    "start_time": "2022-01-10T15:10:33.921Z"
   },
   {
    "duration": 92,
    "start_time": "2022-01-10T15:11:33.938Z"
   },
   {
    "duration": 89,
    "start_time": "2022-01-10T15:16:42.907Z"
   },
   {
    "duration": 149,
    "start_time": "2022-01-10T15:16:49.703Z"
   },
   {
    "duration": 97,
    "start_time": "2022-01-10T15:17:04.978Z"
   },
   {
    "duration": 578,
    "start_time": "2022-01-10T15:26:25.536Z"
   },
   {
    "duration": 68,
    "start_time": "2022-01-10T15:26:26.116Z"
   },
   {
    "duration": 35,
    "start_time": "2022-01-10T15:26:26.186Z"
   },
   {
    "duration": 48,
    "start_time": "2022-01-10T15:26:26.223Z"
   },
   {
    "duration": 68,
    "start_time": "2022-01-10T15:26:26.273Z"
   },
   {
    "duration": 8,
    "start_time": "2022-01-10T15:26:26.342Z"
   },
   {
    "duration": 9,
    "start_time": "2022-01-10T15:26:26.352Z"
   },
   {
    "duration": 8,
    "start_time": "2022-01-10T15:26:26.364Z"
   },
   {
    "duration": 17395,
    "start_time": "2022-01-10T15:26:26.374Z"
   },
   {
    "duration": 8,
    "start_time": "2022-01-10T15:26:43.771Z"
   },
   {
    "duration": 11,
    "start_time": "2022-01-10T15:26:43.781Z"
   },
   {
    "duration": 12,
    "start_time": "2022-01-10T15:26:43.794Z"
   },
   {
    "duration": 33,
    "start_time": "2022-01-10T15:26:43.808Z"
   },
   {
    "duration": 4592,
    "start_time": "2022-01-10T15:26:43.842Z"
   },
   {
    "duration": 10,
    "start_time": "2022-01-10T15:26:48.436Z"
   },
   {
    "duration": 8,
    "start_time": "2022-01-10T15:26:48.447Z"
   },
   {
    "duration": 496,
    "start_time": "2022-01-10T15:26:48.457Z"
   },
   {
    "duration": 8,
    "start_time": "2022-01-10T15:26:48.954Z"
   },
   {
    "duration": 10,
    "start_time": "2022-01-10T15:26:48.964Z"
   },
   {
    "duration": 6,
    "start_time": "2022-01-10T15:26:48.976Z"
   },
   {
    "duration": 13,
    "start_time": "2022-01-10T15:26:48.983Z"
   },
   {
    "duration": 10,
    "start_time": "2022-01-10T15:26:48.997Z"
   },
   {
    "duration": 33,
    "start_time": "2022-01-10T15:26:49.009Z"
   },
   {
    "duration": 68,
    "start_time": "2022-01-10T15:26:49.044Z"
   },
   {
    "duration": 2,
    "start_time": "2022-01-10T15:26:49.113Z"
   },
   {
    "duration": 112,
    "start_time": "2022-01-10T15:26:49.117Z"
   },
   {
    "duration": 10,
    "start_time": "2022-01-10T15:26:49.231Z"
   },
   {
    "duration": 14,
    "start_time": "2022-01-10T15:26:56.841Z"
   },
   {
    "duration": 187,
    "start_time": "2022-01-10T15:34:12.727Z"
   },
   {
    "duration": 5073,
    "start_time": "2022-01-10T15:34:21.198Z"
   },
   {
    "duration": 5275,
    "start_time": "2022-01-10T15:35:47.716Z"
   },
   {
    "duration": 1218,
    "start_time": "2022-01-10T15:36:16.176Z"
   },
   {
    "duration": 902,
    "start_time": "2022-01-10T15:36:35.590Z"
   },
   {
    "duration": 33,
    "start_time": "2022-01-10T15:36:41.254Z"
   },
   {
    "duration": 5042,
    "start_time": "2022-01-10T15:37:26.670Z"
   },
   {
    "duration": 5276,
    "start_time": "2022-01-10T15:38:05.744Z"
   },
   {
    "duration": 5528,
    "start_time": "2022-01-10T15:38:30.287Z"
   },
   {
    "duration": 6025,
    "start_time": "2022-01-10T15:38:44.515Z"
   },
   {
    "duration": 1346,
    "start_time": "2022-01-10T15:39:08.374Z"
   },
   {
    "duration": 449,
    "start_time": "2022-01-10T16:38:47.007Z"
   },
   {
    "duration": 567,
    "start_time": "2022-01-10T16:39:25.864Z"
   },
   {
    "duration": 70,
    "start_time": "2022-01-10T16:39:26.433Z"
   },
   {
    "duration": 43,
    "start_time": "2022-01-10T16:39:26.506Z"
   },
   {
    "duration": 11,
    "start_time": "2022-01-10T16:39:26.551Z"
   },
   {
    "duration": 81,
    "start_time": "2022-01-10T16:39:26.564Z"
   },
   {
    "duration": 8,
    "start_time": "2022-01-10T16:39:26.647Z"
   },
   {
    "duration": 22,
    "start_time": "2022-01-10T16:39:26.657Z"
   },
   {
    "duration": 18,
    "start_time": "2022-01-10T16:39:26.682Z"
   },
   {
    "duration": 18308,
    "start_time": "2022-01-10T16:39:26.702Z"
   },
   {
    "duration": 7,
    "start_time": "2022-01-10T16:39:45.012Z"
   },
   {
    "duration": 21,
    "start_time": "2022-01-10T16:39:45.020Z"
   },
   {
    "duration": 20,
    "start_time": "2022-01-10T16:39:45.042Z"
   },
   {
    "duration": 11,
    "start_time": "2022-01-10T16:39:45.063Z"
   },
   {
    "duration": 4736,
    "start_time": "2022-01-10T16:39:45.075Z"
   },
   {
    "duration": 7,
    "start_time": "2022-01-10T16:39:49.813Z"
   },
   {
    "duration": 19,
    "start_time": "2022-01-10T16:39:49.822Z"
   },
   {
    "duration": 508,
    "start_time": "2022-01-10T16:39:49.843Z"
   },
   {
    "duration": 8,
    "start_time": "2022-01-10T16:39:50.353Z"
   },
   {
    "duration": 9,
    "start_time": "2022-01-10T16:39:50.363Z"
   },
   {
    "duration": 11,
    "start_time": "2022-01-10T16:39:50.374Z"
   },
   {
    "duration": 16,
    "start_time": "2022-01-10T16:39:50.386Z"
   },
   {
    "duration": 14,
    "start_time": "2022-01-10T16:39:50.404Z"
   },
   {
    "duration": 8,
    "start_time": "2022-01-10T16:39:50.442Z"
   },
   {
    "duration": 80,
    "start_time": "2022-01-10T16:39:50.452Z"
   },
   {
    "duration": 125,
    "start_time": "2022-01-10T16:39:50.534Z"
   },
   {
    "duration": 5,
    "start_time": "2022-01-10T16:39:50.661Z"
   },
   {
    "duration": 445,
    "start_time": "2022-01-10T16:40:14.722Z"
   },
   {
    "duration": 428,
    "start_time": "2022-01-10T16:40:33.816Z"
   },
   {
    "duration": 3,
    "start_time": "2022-01-10T17:28:44.054Z"
   },
   {
    "duration": 5833,
    "start_time": "2022-01-10T17:32:37.209Z"
   },
   {
    "duration": 5,
    "start_time": "2022-01-10T17:32:51.031Z"
   },
   {
    "duration": 67,
    "start_time": "2022-01-10T17:45:49.722Z"
   },
   {
    "duration": 24,
    "start_time": "2022-01-10T17:48:19.184Z"
   },
   {
    "duration": 853,
    "start_time": "2022-01-11T09:25:13.922Z"
   },
   {
    "duration": 87,
    "start_time": "2022-01-11T09:25:14.777Z"
   },
   {
    "duration": 57,
    "start_time": "2022-01-11T09:25:14.868Z"
   },
   {
    "duration": 39,
    "start_time": "2022-01-11T09:25:14.927Z"
   },
   {
    "duration": 139,
    "start_time": "2022-01-11T09:25:14.969Z"
   },
   {
    "duration": 10,
    "start_time": "2022-01-11T09:25:15.110Z"
   },
   {
    "duration": 37,
    "start_time": "2022-01-11T09:25:15.122Z"
   },
   {
    "duration": 13,
    "start_time": "2022-01-11T09:25:15.163Z"
   },
   {
    "duration": 38750,
    "start_time": "2022-01-11T09:25:15.180Z"
   },
   {
    "duration": 26,
    "start_time": "2022-01-11T09:25:53.933Z"
   },
   {
    "duration": 13,
    "start_time": "2022-01-11T09:25:53.962Z"
   },
   {
    "duration": 18,
    "start_time": "2022-01-11T09:25:53.978Z"
   },
   {
    "duration": 16,
    "start_time": "2022-01-11T09:25:53.999Z"
   },
   {
    "duration": 8485,
    "start_time": "2022-01-11T09:25:54.018Z"
   },
   {
    "duration": 13,
    "start_time": "2022-01-11T09:26:02.505Z"
   },
   {
    "duration": 40,
    "start_time": "2022-01-11T09:26:02.521Z"
   },
   {
    "duration": 923,
    "start_time": "2022-01-11T09:26:02.564Z"
   },
   {
    "duration": 12,
    "start_time": "2022-01-11T09:26:03.490Z"
   },
   {
    "duration": 16,
    "start_time": "2022-01-11T09:26:03.504Z"
   },
   {
    "duration": 41,
    "start_time": "2022-01-11T09:26:03.523Z"
   },
   {
    "duration": 24,
    "start_time": "2022-01-11T09:26:03.567Z"
   },
   {
    "duration": 17,
    "start_time": "2022-01-11T09:26:03.593Z"
   },
   {
    "duration": 13,
    "start_time": "2022-01-11T09:26:03.659Z"
   },
   {
    "duration": 160,
    "start_time": "2022-01-11T09:26:03.675Z"
   },
   {
    "duration": 193,
    "start_time": "2022-01-11T09:26:03.837Z"
   },
   {
    "duration": 8,
    "start_time": "2022-01-11T09:26:04.032Z"
   },
   {
    "duration": 855,
    "start_time": "2022-01-11T09:26:04.042Z"
   },
   {
    "duration": 8,
    "start_time": "2022-01-11T09:26:04.900Z"
   },
   {
    "duration": 51,
    "start_time": "2022-01-11T09:30:35.447Z"
   },
   {
    "duration": 6,
    "start_time": "2022-01-11T09:30:47.847Z"
   },
   {
    "duration": 48,
    "start_time": "2022-01-11T09:30:50.657Z"
   },
   {
    "duration": 7,
    "start_time": "2022-01-11T09:31:12.890Z"
   },
   {
    "duration": 47,
    "start_time": "2022-01-11T09:31:14.969Z"
   },
   {
    "duration": 1025,
    "start_time": "2022-01-11T09:48:43.571Z"
   },
   {
    "duration": 1168,
    "start_time": "2022-01-11T09:48:57.655Z"
   },
   {
    "duration": 986,
    "start_time": "2022-01-11T09:50:08.596Z"
   },
   {
    "duration": 2935,
    "start_time": "2022-01-11T09:51:40.774Z"
   },
   {
    "duration": 9467,
    "start_time": "2022-01-11T09:52:00.284Z"
   },
   {
    "duration": 4645,
    "start_time": "2022-01-11T09:52:20.406Z"
   },
   {
    "duration": 278,
    "start_time": "2022-01-11T09:54:33.519Z"
   },
   {
    "duration": 10177,
    "start_time": "2022-01-11T09:55:15.256Z"
   },
   {
    "duration": 279,
    "start_time": "2022-01-11T09:55:34.313Z"
   },
   {
    "duration": 314,
    "start_time": "2022-01-11T09:55:50.012Z"
   },
   {
    "duration": 89,
    "start_time": "2022-01-11T09:56:10.587Z"
   },
   {
    "duration": 920,
    "start_time": "2022-01-11T09:56:41.947Z"
   },
   {
    "duration": 282,
    "start_time": "2022-01-11T09:57:10.438Z"
   },
   {
    "duration": 561,
    "start_time": "2022-01-11T09:57:42.187Z"
   },
   {
    "duration": 241,
    "start_time": "2022-01-11T10:15:40.003Z"
   },
   {
    "duration": 588,
    "start_time": "2022-01-11T10:16:24.717Z"
   },
   {
    "duration": 9242,
    "start_time": "2022-01-11T10:17:29.156Z"
   },
   {
    "duration": 1122,
    "start_time": "2022-01-11T10:22:38.067Z"
   },
   {
    "duration": 1956,
    "start_time": "2022-01-11T10:23:06.052Z"
   },
   {
    "duration": 1099,
    "start_time": "2022-01-11T10:23:29.743Z"
   },
   {
    "duration": 130,
    "start_time": "2022-01-11T10:23:30.849Z"
   },
   {
    "duration": 154,
    "start_time": "2022-01-11T10:23:30.986Z"
   },
   {
    "duration": 45,
    "start_time": "2022-01-11T10:23:31.146Z"
   },
   {
    "duration": 172,
    "start_time": "2022-01-11T10:23:31.197Z"
   },
   {
    "duration": 11,
    "start_time": "2022-01-11T10:23:31.372Z"
   },
   {
    "duration": 18,
    "start_time": "2022-01-11T10:23:31.386Z"
   },
   {
    "duration": 14,
    "start_time": "2022-01-11T10:23:31.409Z"
   },
   {
    "duration": 29271,
    "start_time": "2022-01-11T10:23:31.462Z"
   },
   {
    "duration": 26,
    "start_time": "2022-01-11T10:24:00.736Z"
   },
   {
    "duration": 14,
    "start_time": "2022-01-11T10:24:00.765Z"
   },
   {
    "duration": 25,
    "start_time": "2022-01-11T10:24:00.781Z"
   },
   {
    "duration": 49,
    "start_time": "2022-01-11T10:24:00.810Z"
   },
   {
    "duration": 8152,
    "start_time": "2022-01-11T10:24:00.862Z"
   },
   {
    "duration": 11,
    "start_time": "2022-01-11T10:24:09.017Z"
   },
   {
    "duration": 34,
    "start_time": "2022-01-11T10:24:09.031Z"
   },
   {
    "duration": 924,
    "start_time": "2022-01-11T10:24:09.068Z"
   },
   {
    "duration": 11,
    "start_time": "2022-01-11T10:24:09.995Z"
   },
   {
    "duration": 17,
    "start_time": "2022-01-11T10:24:10.009Z"
   },
   {
    "duration": 36,
    "start_time": "2022-01-11T10:24:10.028Z"
   },
   {
    "duration": 24,
    "start_time": "2022-01-11T10:24:10.067Z"
   },
   {
    "duration": 16,
    "start_time": "2022-01-11T10:24:10.094Z"
   },
   {
    "duration": 45,
    "start_time": "2022-01-11T10:24:10.115Z"
   },
   {
    "duration": 138,
    "start_time": "2022-01-11T10:24:10.163Z"
   },
   {
    "duration": 185,
    "start_time": "2022-01-11T10:24:10.304Z"
   },
   {
    "duration": 9,
    "start_time": "2022-01-11T10:24:10.492Z"
   },
   {
    "duration": 933,
    "start_time": "2022-01-11T10:24:10.504Z"
   },
   {
    "duration": 20,
    "start_time": "2022-01-11T10:24:11.439Z"
   },
   {
    "duration": 96,
    "start_time": "2022-01-11T10:24:16.874Z"
   },
   {
    "duration": 1345,
    "start_time": "2022-01-11T10:24:18.598Z"
   },
   {
    "duration": 711,
    "start_time": "2022-01-11T10:25:15.731Z"
   },
   {
    "duration": 315,
    "start_time": "2022-01-11T10:25:42.047Z"
   },
   {
    "duration": 277,
    "start_time": "2022-01-11T10:31:33.711Z"
   },
   {
    "duration": 34,
    "start_time": "2022-01-11T10:37:42.556Z"
   },
   {
    "duration": 251,
    "start_time": "2022-01-11T10:59:05.823Z"
   },
   {
    "duration": 501,
    "start_time": "2022-01-11T11:00:28.791Z"
   },
   {
    "duration": 708,
    "start_time": "2022-01-11T11:00:34.151Z"
   },
   {
    "duration": 4510,
    "start_time": "2022-01-11T11:00:41.733Z"
   },
   {
    "duration": 589,
    "start_time": "2022-01-11T11:00:57.792Z"
   },
   {
    "duration": 642,
    "start_time": "2022-01-11T11:01:55.810Z"
   },
   {
    "duration": 372,
    "start_time": "2022-01-11T11:02:01.490Z"
   },
   {
    "duration": 736,
    "start_time": "2022-01-11T11:02:05.137Z"
   },
   {
    "duration": 485,
    "start_time": "2022-01-11T11:02:10.322Z"
   },
   {
    "duration": 452,
    "start_time": "2022-01-11T11:02:15.977Z"
   },
   {
    "duration": 415,
    "start_time": "2022-01-11T11:02:27.667Z"
   },
   {
    "duration": 433,
    "start_time": "2022-01-11T11:03:04.913Z"
   },
   {
    "duration": 332,
    "start_time": "2022-01-11T12:14:43.181Z"
   },
   {
    "duration": 389,
    "start_time": "2022-01-11T12:14:48.830Z"
   },
   {
    "duration": 469,
    "start_time": "2022-01-11T12:14:59.047Z"
   },
   {
    "duration": 450,
    "start_time": "2022-01-11T12:19:13.364Z"
   },
   {
    "duration": 621,
    "start_time": "2022-01-11T12:19:24.854Z"
   },
   {
    "duration": 261,
    "start_time": "2022-01-11T12:22:03.194Z"
   },
   {
    "duration": 808,
    "start_time": "2022-01-11T12:22:17.490Z"
   },
   {
    "duration": 266,
    "start_time": "2022-01-11T12:23:14.428Z"
   },
   {
    "duration": 345,
    "start_time": "2022-01-11T12:24:00.160Z"
   },
   {
    "duration": 555,
    "start_time": "2022-01-11T12:24:20.093Z"
   },
   {
    "duration": 358,
    "start_time": "2022-01-11T12:24:24.947Z"
   },
   {
    "duration": 248,
    "start_time": "2022-01-11T12:24:31.385Z"
   },
   {
    "duration": 255,
    "start_time": "2022-01-11T12:24:40.267Z"
   },
   {
    "duration": 656,
    "start_time": "2022-01-11T12:27:51.285Z"
   },
   {
    "duration": 407,
    "start_time": "2022-01-11T12:28:15.194Z"
   },
   {
    "duration": 441,
    "start_time": "2022-01-11T12:28:21.450Z"
   },
   {
    "duration": 456,
    "start_time": "2022-01-11T12:45:42.704Z"
   },
   {
    "duration": 463,
    "start_time": "2022-01-11T12:45:49.266Z"
   },
   {
    "duration": 443,
    "start_time": "2022-01-11T12:45:55.802Z"
   },
   {
    "duration": 435,
    "start_time": "2022-01-11T12:46:03.665Z"
   },
   {
    "duration": 445,
    "start_time": "2022-01-11T12:46:18.807Z"
   },
   {
    "duration": 474,
    "start_time": "2022-01-11T12:46:23.934Z"
   },
   {
    "duration": 555,
    "start_time": "2022-01-11T12:46:31.040Z"
   },
   {
    "duration": 610,
    "start_time": "2022-01-11T12:47:18.696Z"
   },
   {
    "duration": 470,
    "start_time": "2022-01-11T12:48:11.447Z"
   },
   {
    "duration": 576,
    "start_time": "2022-01-11T12:48:20.856Z"
   },
   {
    "duration": 335,
    "start_time": "2022-01-11T12:48:51.297Z"
   },
   {
    "duration": 313,
    "start_time": "2022-01-11T12:50:58.803Z"
   },
   {
    "duration": 397,
    "start_time": "2022-01-11T12:51:03.825Z"
   },
   {
    "duration": 385,
    "start_time": "2022-01-11T12:51:19.217Z"
   },
   {
    "duration": 1053,
    "start_time": "2022-01-11T12:52:30.182Z"
   },
   {
    "duration": 461,
    "start_time": "2022-01-11T12:52:36.163Z"
   },
   {
    "duration": 796,
    "start_time": "2022-01-11T12:52:45.780Z"
   },
   {
    "duration": 320,
    "start_time": "2022-01-11T12:53:07.730Z"
   },
   {
    "duration": 586,
    "start_time": "2022-01-11T12:53:14.361Z"
   },
   {
    "duration": 501,
    "start_time": "2022-01-11T12:53:28.212Z"
   },
   {
    "duration": 840,
    "start_time": "2022-01-11T12:53:40.122Z"
   },
   {
    "duration": 515,
    "start_time": "2022-01-11T12:53:50.331Z"
   },
   {
    "duration": 368,
    "start_time": "2022-01-11T12:53:54.583Z"
   },
   {
    "duration": 334,
    "start_time": "2022-01-11T12:54:04.331Z"
   },
   {
    "duration": 691,
    "start_time": "2022-01-11T12:54:17.829Z"
   },
   {
    "duration": 1066,
    "start_time": "2022-01-11T12:57:27.435Z"
   },
   {
    "duration": 716,
    "start_time": "2022-01-11T12:58:13.399Z"
   },
   {
    "duration": 485,
    "start_time": "2022-01-11T12:58:36.730Z"
   },
   {
    "duration": 8024,
    "start_time": "2022-01-11T12:59:54.625Z"
   },
   {
    "duration": 694,
    "start_time": "2022-01-11T13:00:31.881Z"
   },
   {
    "duration": 718,
    "start_time": "2022-01-11T13:00:52.923Z"
   },
   {
    "duration": 1065,
    "start_time": "2022-01-11T13:01:13.066Z"
   },
   {
    "duration": 713,
    "start_time": "2022-01-11T13:01:48.573Z"
   },
   {
    "duration": 753,
    "start_time": "2022-01-11T13:02:45.648Z"
   },
   {
    "duration": 833,
    "start_time": "2022-01-11T13:02:52.495Z"
   },
   {
    "duration": 884,
    "start_time": "2022-01-11T13:04:01.788Z"
   },
   {
    "duration": 1073,
    "start_time": "2022-01-11T13:04:07.453Z"
   },
   {
    "duration": 794,
    "start_time": "2022-01-11T13:04:20.280Z"
   },
   {
    "duration": 735,
    "start_time": "2022-01-11T13:04:35.910Z"
   },
   {
    "duration": 1064,
    "start_time": "2022-01-11T13:05:11.390Z"
   },
   {
    "duration": 765,
    "start_time": "2022-01-11T13:05:43.677Z"
   },
   {
    "duration": 802,
    "start_time": "2022-01-11T13:05:49.238Z"
   },
   {
    "duration": 807,
    "start_time": "2022-01-11T13:06:35.729Z"
   },
   {
    "duration": 4301,
    "start_time": "2022-01-11T13:07:03.084Z"
   },
   {
    "duration": 429,
    "start_time": "2022-01-11T13:07:13.949Z"
   },
   {
    "duration": 454,
    "start_time": "2022-01-11T13:07:37.011Z"
   },
   {
    "duration": 608,
    "start_time": "2022-01-11T13:07:46.193Z"
   },
   {
    "duration": 925,
    "start_time": "2022-01-11T13:10:18.438Z"
   },
   {
    "duration": 1504,
    "start_time": "2022-01-11T13:10:35.042Z"
   },
   {
    "duration": 792,
    "start_time": "2022-01-11T13:10:42.109Z"
   },
   {
    "duration": 413,
    "start_time": "2022-01-11T13:10:47.094Z"
   },
   {
    "duration": 447,
    "start_time": "2022-01-11T13:13:20.659Z"
   },
   {
    "duration": 413,
    "start_time": "2022-01-11T13:13:28.016Z"
   },
   {
    "duration": 546,
    "start_time": "2022-01-11T13:13:46.298Z"
   },
   {
    "duration": 429,
    "start_time": "2022-01-11T13:13:52.021Z"
   },
   {
    "duration": 443,
    "start_time": "2022-01-11T13:14:19.152Z"
   },
   {
    "duration": 481,
    "start_time": "2022-01-11T13:14:30.993Z"
   },
   {
    "duration": 458,
    "start_time": "2022-01-11T13:14:36.089Z"
   },
   {
    "duration": 452,
    "start_time": "2022-01-11T13:16:10.549Z"
   },
   {
    "duration": 427,
    "start_time": "2022-01-11T13:16:28.921Z"
   },
   {
    "duration": 437,
    "start_time": "2022-01-11T13:16:39.634Z"
   },
   {
    "duration": 464,
    "start_time": "2022-01-11T13:16:47.600Z"
   },
   {
    "duration": 455,
    "start_time": "2022-01-11T13:16:52.297Z"
   },
   {
    "duration": 407,
    "start_time": "2022-01-11T13:16:57.695Z"
   },
   {
    "duration": 425,
    "start_time": "2022-01-11T13:17:06.274Z"
   },
   {
    "duration": 436,
    "start_time": "2022-01-11T13:18:50.654Z"
   },
   {
    "duration": 484,
    "start_time": "2022-01-11T13:18:56.655Z"
   },
   {
    "duration": 423,
    "start_time": "2022-01-11T13:19:00.537Z"
   },
   {
    "duration": 444,
    "start_time": "2022-01-11T13:19:04.573Z"
   },
   {
    "duration": 439,
    "start_time": "2022-01-11T13:19:10.085Z"
   },
   {
    "duration": 451,
    "start_time": "2022-01-11T13:19:16.312Z"
   },
   {
    "duration": 428,
    "start_time": "2022-01-11T13:19:24.939Z"
   },
   {
    "duration": 537,
    "start_time": "2022-01-11T13:19:39.137Z"
   },
   {
    "duration": 528,
    "start_time": "2022-01-11T13:19:49.305Z"
   },
   {
    "duration": 769,
    "start_time": "2022-01-11T13:24:13.996Z"
   },
   {
    "duration": 778,
    "start_time": "2022-01-11T13:24:28.603Z"
   },
   {
    "duration": 679,
    "start_time": "2022-01-11T13:24:46.670Z"
   },
   {
    "duration": 587,
    "start_time": "2022-01-11T13:25:31.082Z"
   },
   {
    "duration": 535,
    "start_time": "2022-01-11T13:25:38.267Z"
   },
   {
    "duration": 867,
    "start_time": "2022-01-11T13:26:02.688Z"
   },
   {
    "duration": 555,
    "start_time": "2022-01-11T13:30:37.028Z"
   },
   {
    "duration": 557,
    "start_time": "2022-01-11T13:31:18.090Z"
   },
   {
    "duration": 519,
    "start_time": "2022-01-11T13:31:42.725Z"
   },
   {
    "duration": 531,
    "start_time": "2022-01-11T13:31:52.998Z"
   },
   {
    "duration": 528,
    "start_time": "2022-01-11T13:33:58.499Z"
   },
   {
    "duration": 419,
    "start_time": "2022-01-11T13:34:52.519Z"
   },
   {
    "duration": 362,
    "start_time": "2022-01-11T13:35:08.878Z"
   },
   {
    "duration": 359,
    "start_time": "2022-01-11T13:35:15.917Z"
   },
   {
    "duration": 378,
    "start_time": "2022-01-11T13:35:21.818Z"
   },
   {
    "duration": 428,
    "start_time": "2022-01-11T13:35:30.792Z"
   },
   {
    "duration": 401,
    "start_time": "2022-01-11T13:35:49.131Z"
   },
   {
    "duration": 373,
    "start_time": "2022-01-11T13:36:00.691Z"
   },
   {
    "duration": 357,
    "start_time": "2022-01-11T13:36:13.381Z"
   },
   {
    "duration": 389,
    "start_time": "2022-01-11T13:36:24.551Z"
   },
   {
    "duration": 484,
    "start_time": "2022-01-11T13:36:51.624Z"
   },
   {
    "duration": 520,
    "start_time": "2022-01-11T13:37:00.175Z"
   },
   {
    "duration": 557,
    "start_time": "2022-01-11T13:37:07.641Z"
   },
   {
    "duration": 633,
    "start_time": "2022-01-11T13:37:24.577Z"
   },
   {
    "duration": 578,
    "start_time": "2022-01-11T13:37:33.449Z"
   },
   {
    "duration": 509,
    "start_time": "2022-01-11T13:37:45.485Z"
   },
   {
    "duration": 525,
    "start_time": "2022-01-11T13:37:49.625Z"
   },
   {
    "duration": 490,
    "start_time": "2022-01-11T13:39:05.389Z"
   },
   {
    "duration": 1103,
    "start_time": "2022-01-11T13:39:16.083Z"
   },
   {
    "duration": 953,
    "start_time": "2022-01-11T13:39:35.557Z"
   },
   {
    "duration": 839,
    "start_time": "2022-01-11T13:39:53.797Z"
   },
   {
    "duration": 997,
    "start_time": "2022-01-11T13:42:29.072Z"
   },
   {
    "duration": 340,
    "start_time": "2022-01-11T13:43:10.184Z"
   },
   {
    "duration": 628,
    "start_time": "2022-01-11T13:43:15.335Z"
   },
   {
    "duration": 631,
    "start_time": "2022-01-11T13:44:10.309Z"
   },
   {
    "duration": 971,
    "start_time": "2022-01-11T13:46:12.482Z"
   },
   {
    "duration": 601,
    "start_time": "2022-01-11T13:46:21.241Z"
   },
   {
    "duration": 112,
    "start_time": "2022-01-11T13:48:08.594Z"
   },
   {
    "duration": 617,
    "start_time": "2022-01-11T13:49:47.564Z"
   },
   {
    "duration": 583,
    "start_time": "2022-01-11T13:49:54.525Z"
   },
   {
    "duration": 601,
    "start_time": "2022-01-11T13:50:03.793Z"
   },
   {
    "duration": 296,
    "start_time": "2022-01-11T13:50:50.622Z"
   },
   {
    "duration": 579,
    "start_time": "2022-01-11T13:51:05.900Z"
   },
   {
    "duration": 4,
    "start_time": "2022-01-11T13:56:07.427Z"
   },
   {
    "duration": 620,
    "start_time": "2022-01-11T13:57:10.407Z"
   },
   {
    "duration": 339,
    "start_time": "2022-01-11T13:57:19.963Z"
   },
   {
    "duration": 290,
    "start_time": "2022-01-11T13:57:39.011Z"
   },
   {
    "duration": 367,
    "start_time": "2022-01-11T13:57:43.992Z"
   },
   {
    "duration": 331,
    "start_time": "2022-01-11T14:02:17.807Z"
   },
   {
    "duration": 701,
    "start_time": "2022-01-11T14:02:24.617Z"
   },
   {
    "duration": 456,
    "start_time": "2022-01-11T14:02:33.882Z"
   },
   {
    "duration": 380,
    "start_time": "2022-01-11T14:02:42.224Z"
   },
   {
    "duration": 489,
    "start_time": "2022-01-11T14:02:46.476Z"
   },
   {
    "duration": 522,
    "start_time": "2022-01-11T14:02:54.992Z"
   },
   {
    "duration": 596,
    "start_time": "2022-01-11T14:03:00.172Z"
   },
   {
    "duration": 674,
    "start_time": "2022-01-11T14:03:06.287Z"
   },
   {
    "duration": 761,
    "start_time": "2022-01-11T14:03:11.179Z"
   },
   {
    "duration": 758,
    "start_time": "2022-01-11T14:03:15.209Z"
   },
   {
    "duration": 447,
    "start_time": "2022-01-11T14:05:53.844Z"
   },
   {
    "duration": 478,
    "start_time": "2022-01-11T14:06:06.964Z"
   },
   {
    "duration": 374,
    "start_time": "2022-01-11T14:06:24.708Z"
   },
   {
    "duration": 503,
    "start_time": "2022-01-11T14:08:07.364Z"
   },
   {
    "duration": 379,
    "start_time": "2022-01-11T14:08:16.539Z"
   },
   {
    "duration": 457,
    "start_time": "2022-01-11T14:08:41.481Z"
   },
   {
    "duration": 932,
    "start_time": "2022-01-11T14:08:45.442Z"
   },
   {
    "duration": 468,
    "start_time": "2022-01-11T14:08:50.619Z"
   },
   {
    "duration": 460,
    "start_time": "2022-01-11T14:08:57.277Z"
   },
   {
    "duration": 481,
    "start_time": "2022-01-11T14:09:03.592Z"
   },
   {
    "duration": 718,
    "start_time": "2022-01-11T14:09:15.716Z"
   },
   {
    "duration": 2291,
    "start_time": "2022-01-11T14:09:21.260Z"
   },
   {
    "duration": 590,
    "start_time": "2022-01-11T14:09:28.301Z"
   },
   {
    "duration": 618,
    "start_time": "2022-01-11T14:09:34.055Z"
   },
   {
    "duration": 347,
    "start_time": "2022-01-11T14:10:00.795Z"
   },
   {
    "duration": 756,
    "start_time": "2022-01-11T14:10:05.921Z"
   },
   {
    "duration": 563,
    "start_time": "2022-01-11T14:10:37.654Z"
   },
   {
    "duration": 450,
    "start_time": "2022-01-11T14:10:42.700Z"
   },
   {
    "duration": 499,
    "start_time": "2022-01-11T14:10:48.706Z"
   },
   {
    "duration": 93,
    "start_time": "2022-01-11T14:19:24.412Z"
   },
   {
    "duration": 480,
    "start_time": "2022-01-11T14:25:32.344Z"
   },
   {
    "duration": 475,
    "start_time": "2022-01-11T14:25:41.012Z"
   },
   {
    "duration": 583,
    "start_time": "2022-01-11T14:25:49.187Z"
   },
   {
    "duration": 325,
    "start_time": "2022-01-11T14:25:53.355Z"
   },
   {
    "duration": 586,
    "start_time": "2022-01-11T14:25:56.858Z"
   },
   {
    "duration": 7,
    "start_time": "2022-01-11T14:26:55.243Z"
   },
   {
    "duration": 6,
    "start_time": "2022-01-11T14:27:01.255Z"
   },
   {
    "duration": 5,
    "start_time": "2022-01-11T14:27:37.075Z"
   },
   {
    "duration": 7,
    "start_time": "2022-01-11T14:27:48.457Z"
   },
   {
    "duration": 7,
    "start_time": "2022-01-11T14:30:38.478Z"
   },
   {
    "duration": 1334,
    "start_time": "2022-01-11T14:48:38.724Z"
   },
   {
    "duration": 429,
    "start_time": "2022-01-11T14:48:45.107Z"
   },
   {
    "duration": 533,
    "start_time": "2022-01-11T14:48:51.196Z"
   },
   {
    "duration": 1114,
    "start_time": "2022-01-11T14:48:56.075Z"
   },
   {
    "duration": 599,
    "start_time": "2022-01-11T14:49:00.422Z"
   },
   {
    "duration": 771,
    "start_time": "2022-01-11T14:49:06.717Z"
   },
   {
    "duration": 452,
    "start_time": "2022-01-14T11:33:39.285Z"
   },
   {
    "duration": 853,
    "start_time": "2022-01-14T11:33:48.563Z"
   },
   {
    "duration": 95,
    "start_time": "2022-01-14T11:33:49.418Z"
   },
   {
    "duration": 70,
    "start_time": "2022-01-14T11:33:49.516Z"
   },
   {
    "duration": 16,
    "start_time": "2022-01-14T11:33:49.590Z"
   },
   {
    "duration": 12,
    "start_time": "2022-01-14T11:33:49.609Z"
   },
   {
    "duration": 46,
    "start_time": "2022-01-14T11:33:49.624Z"
   },
   {
    "duration": 52,
    "start_time": "2022-01-14T11:33:49.673Z"
   },
   {
    "duration": 29872,
    "start_time": "2022-01-14T11:33:49.729Z"
   },
   {
    "duration": 12,
    "start_time": "2022-01-14T11:34:19.605Z"
   },
   {
    "duration": 16,
    "start_time": "2022-01-14T11:34:19.619Z"
   },
   {
    "duration": 49,
    "start_time": "2022-01-14T11:34:19.637Z"
   },
   {
    "duration": 19,
    "start_time": "2022-01-14T11:34:19.690Z"
   },
   {
    "duration": 8377,
    "start_time": "2022-01-14T11:34:19.712Z"
   },
   {
    "duration": 11,
    "start_time": "2022-01-14T11:34:28.092Z"
   },
   {
    "duration": 16,
    "start_time": "2022-01-14T11:34:28.105Z"
   },
   {
    "duration": 928,
    "start_time": "2022-01-14T11:34:28.124Z"
   },
   {
    "duration": 19,
    "start_time": "2022-01-14T11:34:29.054Z"
   },
   {
    "duration": 17,
    "start_time": "2022-01-14T11:34:29.076Z"
   },
   {
    "duration": 10,
    "start_time": "2022-01-14T11:34:29.096Z"
   },
   {
    "duration": 59,
    "start_time": "2022-01-14T11:34:29.108Z"
   },
   {
    "duration": 19,
    "start_time": "2022-01-14T11:34:29.169Z"
   },
   {
    "duration": 11,
    "start_time": "2022-01-14T11:34:29.190Z"
   },
   {
    "duration": 143,
    "start_time": "2022-01-14T11:34:29.205Z"
   },
   {
    "duration": 184,
    "start_time": "2022-01-14T11:34:29.351Z"
   },
   {
    "duration": 7,
    "start_time": "2022-01-14T11:34:29.538Z"
   },
   {
    "duration": 829,
    "start_time": "2022-01-14T11:34:29.548Z"
   },
   {
    "duration": 9,
    "start_time": "2022-01-14T11:34:30.380Z"
   },
   {
    "duration": 111,
    "start_time": "2022-01-14T11:34:30.392Z"
   },
   {
    "duration": 433,
    "start_time": "2022-01-14T11:34:30.506Z"
   },
   {
    "duration": 648,
    "start_time": "2022-01-14T11:34:30.294Z"
   },
   {
    "duration": 645,
    "start_time": "2022-01-14T11:34:30.299Z"
   },
   {
    "duration": 643,
    "start_time": "2022-01-14T11:34:30.303Z"
   },
   {
    "duration": 625,
    "start_time": "2022-01-14T11:34:30.323Z"
   },
   {
    "duration": 621,
    "start_time": "2022-01-14T11:34:30.329Z"
   },
   {
    "duration": 620,
    "start_time": "2022-01-14T11:34:30.333Z"
   },
   {
    "duration": 618,
    "start_time": "2022-01-14T11:34:30.337Z"
   },
   {
    "duration": 617,
    "start_time": "2022-01-14T11:34:30.340Z"
   },
   {
    "duration": 835,
    "start_time": "2022-01-14T11:35:37.788Z"
   },
   {
    "duration": 593,
    "start_time": "2022-01-14T11:35:42.780Z"
   },
   {
    "duration": 578,
    "start_time": "2022-01-14T11:35:57.115Z"
   },
   {
    "duration": 592,
    "start_time": "2022-01-14T11:36:01.801Z"
   },
   {
    "duration": 616,
    "start_time": "2022-01-14T11:36:17.063Z"
   },
   {
    "duration": 578,
    "start_time": "2022-01-14T11:36:40.053Z"
   },
   {
    "duration": 595,
    "start_time": "2022-01-14T11:37:02.498Z"
   },
   {
    "duration": 641,
    "start_time": "2022-01-14T11:39:01.584Z"
   },
   {
    "duration": 374,
    "start_time": "2022-01-14T11:41:38.040Z"
   },
   {
    "duration": 423,
    "start_time": "2022-01-14T11:43:38.841Z"
   },
   {
    "duration": 451,
    "start_time": "2022-01-14T11:43:45.305Z"
   },
   {
    "duration": 453,
    "start_time": "2022-01-14T11:44:02.485Z"
   },
   {
    "duration": 87,
    "start_time": "2022-01-14T11:45:17.286Z"
   },
   {
    "duration": 12,
    "start_time": "2022-01-14T11:45:41.428Z"
   },
   {
    "duration": 27,
    "start_time": "2022-01-14T11:46:30.774Z"
   },
   {
    "duration": 29,
    "start_time": "2022-01-14T11:46:39.186Z"
   },
   {
    "duration": 36,
    "start_time": "2022-01-14T11:46:55.007Z"
   },
   {
    "duration": 723,
    "start_time": "2022-01-14T11:49:39.877Z"
   },
   {
    "duration": 6,
    "start_time": "2022-01-14T11:49:46.541Z"
   },
   {
    "duration": 7,
    "start_time": "2022-01-14T11:49:47.855Z"
   },
   {
    "duration": 320,
    "start_time": "2022-01-14T12:04:10.991Z"
   },
   {
    "duration": 699,
    "start_time": "2022-01-14T12:04:24.635Z"
   },
   {
    "duration": 313,
    "start_time": "2022-01-14T12:06:51.133Z"
   },
   {
    "duration": 365,
    "start_time": "2022-01-14T12:06:56.687Z"
   },
   {
    "duration": 246,
    "start_time": "2022-01-14T12:13:54.323Z"
   },
   {
    "duration": 213,
    "start_time": "2022-01-14T12:14:10.716Z"
   },
   {
    "duration": 230,
    "start_time": "2022-01-14T12:14:32.809Z"
   },
   {
    "duration": 237,
    "start_time": "2022-01-14T12:14:38.186Z"
   },
   {
    "duration": 251,
    "start_time": "2022-01-14T12:14:52.417Z"
   },
   {
    "duration": 231,
    "start_time": "2022-01-14T12:14:59.987Z"
   },
   {
    "duration": 241,
    "start_time": "2022-01-14T12:15:03.354Z"
   },
   {
    "duration": 231,
    "start_time": "2022-01-14T12:15:48.097Z"
   },
   {
    "duration": 249,
    "start_time": "2022-01-14T12:16:01.653Z"
   },
   {
    "duration": 238,
    "start_time": "2022-01-14T12:16:14.423Z"
   },
   {
    "duration": 228,
    "start_time": "2022-01-14T12:16:18.797Z"
   },
   {
    "duration": 38,
    "start_time": "2022-01-14T12:23:24.565Z"
   },
   {
    "duration": 35,
    "start_time": "2022-01-14T12:23:57.431Z"
   },
   {
    "duration": 48,
    "start_time": "2022-01-14T12:24:06.057Z"
   },
   {
    "duration": 50,
    "start_time": "2022-01-14T12:28:29.086Z"
   },
   {
    "duration": 29,
    "start_time": "2022-01-14T12:29:53.719Z"
   },
   {
    "duration": 392,
    "start_time": "2022-01-14T12:30:17.649Z"
   },
   {
    "duration": 19,
    "start_time": "2022-01-14T12:31:08.911Z"
   },
   {
    "duration": 196,
    "start_time": "2022-01-14T12:31:17.868Z"
   },
   {
    "duration": 7,
    "start_time": "2022-01-14T12:31:29.817Z"
   },
   {
    "duration": 8,
    "start_time": "2022-01-14T12:33:29.863Z"
   },
   {
    "duration": 8,
    "start_time": "2022-01-14T12:33:51.512Z"
   },
   {
    "duration": 8,
    "start_time": "2022-01-14T12:34:03.085Z"
   },
   {
    "duration": 3,
    "start_time": "2022-01-14T12:34:09.657Z"
   },
   {
    "duration": 8,
    "start_time": "2022-01-14T12:34:13.500Z"
   },
   {
    "duration": 5,
    "start_time": "2022-01-14T12:34:34.233Z"
   },
   {
    "duration": 106,
    "start_time": "2022-01-14T12:34:42.612Z"
   },
   {
    "duration": 8,
    "start_time": "2022-01-14T12:34:48.351Z"
   },
   {
    "duration": 9,
    "start_time": "2022-01-14T12:34:58.437Z"
   },
   {
    "duration": 9,
    "start_time": "2022-01-14T12:35:10.969Z"
   },
   {
    "duration": 974,
    "start_time": "2022-01-14T12:35:22.225Z"
   },
   {
    "duration": 117,
    "start_time": "2022-01-14T12:35:23.203Z"
   },
   {
    "duration": 80,
    "start_time": "2022-01-14T12:35:23.324Z"
   },
   {
    "duration": 16,
    "start_time": "2022-01-14T12:35:23.407Z"
   },
   {
    "duration": 10,
    "start_time": "2022-01-14T12:35:23.425Z"
   },
   {
    "duration": 15,
    "start_time": "2022-01-14T12:35:23.467Z"
   },
   {
    "duration": 19,
    "start_time": "2022-01-14T12:35:23.485Z"
   },
   {
    "duration": 28214,
    "start_time": "2022-01-14T12:35:23.508Z"
   },
   {
    "duration": 11,
    "start_time": "2022-01-14T12:35:51.726Z"
   },
   {
    "duration": 34,
    "start_time": "2022-01-14T12:35:51.740Z"
   },
   {
    "duration": 17,
    "start_time": "2022-01-14T12:35:51.777Z"
   },
   {
    "duration": 16,
    "start_time": "2022-01-14T12:35:51.797Z"
   },
   {
    "duration": 8025,
    "start_time": "2022-01-14T12:35:51.816Z"
   },
   {
    "duration": 27,
    "start_time": "2022-01-14T12:35:59.843Z"
   },
   {
    "duration": 13,
    "start_time": "2022-01-14T12:35:59.873Z"
   },
   {
    "duration": 934,
    "start_time": "2022-01-14T12:35:59.889Z"
   },
   {
    "duration": 14,
    "start_time": "2022-01-14T12:36:00.826Z"
   },
   {
    "duration": 38,
    "start_time": "2022-01-14T12:36:00.843Z"
   },
   {
    "duration": 38,
    "start_time": "2022-01-14T12:36:00.884Z"
   },
   {
    "duration": 46,
    "start_time": "2022-01-14T12:36:00.925Z"
   },
   {
    "duration": 30,
    "start_time": "2022-01-14T12:36:00.974Z"
   },
   {
    "duration": 27,
    "start_time": "2022-01-14T12:36:01.007Z"
   },
   {
    "duration": 151,
    "start_time": "2022-01-14T12:36:01.041Z"
   },
   {
    "duration": 184,
    "start_time": "2022-01-14T12:36:01.195Z"
   },
   {
    "duration": 7,
    "start_time": "2022-01-14T12:36:01.382Z"
   },
   {
    "duration": 933,
    "start_time": "2022-01-14T12:36:01.391Z"
   },
   {
    "duration": 8,
    "start_time": "2022-01-14T12:36:02.326Z"
   },
   {
    "duration": 62,
    "start_time": "2022-01-14T12:36:02.336Z"
   },
   {
    "duration": 695,
    "start_time": "2022-01-14T12:36:02.400Z"
   },
   {
    "duration": 629,
    "start_time": "2022-01-14T12:36:03.098Z"
   },
   {
    "duration": 546,
    "start_time": "2022-01-14T12:36:03.730Z"
   },
   {
    "duration": 371,
    "start_time": "2022-01-14T12:36:04.279Z"
   },
   {
    "duration": 459,
    "start_time": "2022-01-14T12:36:04.653Z"
   },
   {
    "duration": 471,
    "start_time": "2022-01-14T12:36:05.114Z"
   },
   {
    "duration": 12,
    "start_time": "2022-01-14T12:36:05.588Z"
   },
   {
    "duration": 720,
    "start_time": "2022-01-14T12:36:05.602Z"
   },
   {
    "duration": 5,
    "start_time": "2022-01-14T12:36:06.325Z"
   },
   {
    "duration": 8,
    "start_time": "2022-01-14T12:36:06.332Z"
   },
   {
    "duration": 272,
    "start_time": "2022-01-14T12:36:06.342Z"
   },
   {
    "duration": 251,
    "start_time": "2022-01-14T12:36:06.616Z"
   },
   {
    "duration": 9,
    "start_time": "2022-01-14T12:36:06.869Z"
   },
   {
    "duration": 7,
    "start_time": "2022-01-14T12:38:46.005Z"
   },
   {
    "duration": 9,
    "start_time": "2022-01-14T12:38:53.530Z"
   },
   {
    "duration": 8,
    "start_time": "2022-01-14T12:39:07.091Z"
   },
   {
    "duration": 8,
    "start_time": "2022-01-14T12:39:13.957Z"
   },
   {
    "duration": 7,
    "start_time": "2022-01-14T12:40:43.563Z"
   },
   {
    "duration": 99,
    "start_time": "2022-01-14T12:41:51.150Z"
   },
   {
    "duration": 11,
    "start_time": "2022-01-14T12:42:06.825Z"
   },
   {
    "duration": 11,
    "start_time": "2022-01-14T12:42:25.287Z"
   },
   {
    "duration": 12,
    "start_time": "2022-01-14T12:43:58.387Z"
   },
   {
    "duration": 84,
    "start_time": "2022-01-14T12:45:39.334Z"
   },
   {
    "duration": 9,
    "start_time": "2022-01-14T12:47:31.357Z"
   },
   {
    "duration": 8,
    "start_time": "2022-01-14T12:50:07.873Z"
   },
   {
    "duration": 8,
    "start_time": "2022-01-14T12:50:34.418Z"
   },
   {
    "duration": 10,
    "start_time": "2022-01-14T12:51:05.369Z"
   },
   {
    "duration": 219,
    "start_time": "2022-01-14T12:57:20.475Z"
   },
   {
    "duration": 97,
    "start_time": "2022-01-14T12:58:22.940Z"
   },
   {
    "duration": 217,
    "start_time": "2022-01-14T12:58:58.180Z"
   },
   {
    "duration": 216,
    "start_time": "2022-01-14T12:59:11.423Z"
   },
   {
    "duration": 241,
    "start_time": "2022-01-14T13:00:08.903Z"
   },
   {
    "duration": 218,
    "start_time": "2022-01-14T13:00:29.004Z"
   },
   {
    "duration": 9,
    "start_time": "2022-01-14T13:02:50.800Z"
   },
   {
    "duration": 10,
    "start_time": "2022-01-14T13:03:47.504Z"
   },
   {
    "duration": 9,
    "start_time": "2022-01-14T13:04:19.307Z"
   },
   {
    "duration": 9,
    "start_time": "2022-01-14T13:04:52.005Z"
   },
   {
    "duration": 9,
    "start_time": "2022-01-14T13:04:57.653Z"
   },
   {
    "duration": 9,
    "start_time": "2022-01-14T13:05:07.363Z"
   },
   {
    "duration": 9,
    "start_time": "2022-01-14T13:05:20.715Z"
   },
   {
    "duration": 99,
    "start_time": "2022-01-14T13:05:45.144Z"
   },
   {
    "duration": 242,
    "start_time": "2022-01-14T13:07:09.362Z"
   },
   {
    "duration": 108,
    "start_time": "2022-01-14T13:08:30.648Z"
   },
   {
    "duration": 25,
    "start_time": "2022-01-14T13:08:37.573Z"
   },
   {
    "duration": 17,
    "start_time": "2022-01-14T13:08:53.627Z"
   },
   {
    "duration": 805,
    "start_time": "2022-01-14T13:09:41.587Z"
   },
   {
    "duration": 98,
    "start_time": "2022-01-14T13:09:42.395Z"
   },
   {
    "duration": 52,
    "start_time": "2022-01-14T13:09:42.496Z"
   },
   {
    "duration": 16,
    "start_time": "2022-01-14T13:09:42.567Z"
   },
   {
    "duration": 10,
    "start_time": "2022-01-14T13:09:42.586Z"
   },
   {
    "duration": 12,
    "start_time": "2022-01-14T13:09:42.599Z"
   },
   {
    "duration": 12,
    "start_time": "2022-01-14T13:09:42.614Z"
   },
   {
    "duration": 28284,
    "start_time": "2022-01-14T13:09:42.630Z"
   },
   {
    "duration": 12,
    "start_time": "2022-01-14T13:10:10.916Z"
   },
   {
    "duration": 14,
    "start_time": "2022-01-14T13:10:10.931Z"
   },
   {
    "duration": 21,
    "start_time": "2022-01-14T13:10:10.968Z"
   },
   {
    "duration": 26,
    "start_time": "2022-01-14T13:10:10.992Z"
   },
   {
    "duration": 9085,
    "start_time": "2022-01-14T13:10:11.021Z"
   },
   {
    "duration": 12,
    "start_time": "2022-01-14T13:10:20.108Z"
   },
   {
    "duration": 14,
    "start_time": "2022-01-14T13:10:20.123Z"
   },
   {
    "duration": 1208,
    "start_time": "2022-01-14T13:10:20.140Z"
   },
   {
    "duration": 23,
    "start_time": "2022-01-14T13:10:21.351Z"
   },
   {
    "duration": 15,
    "start_time": "2022-01-14T13:10:21.376Z"
   },
   {
    "duration": 21,
    "start_time": "2022-01-14T13:10:21.406Z"
   },
   {
    "duration": 37,
    "start_time": "2022-01-14T13:10:21.430Z"
   },
   {
    "duration": 14,
    "start_time": "2022-01-14T13:10:21.470Z"
   },
   {
    "duration": 12,
    "start_time": "2022-01-14T13:10:21.486Z"
   },
   {
    "duration": 149,
    "start_time": "2022-01-14T13:10:21.503Z"
   },
   {
    "duration": 192,
    "start_time": "2022-01-14T13:10:21.655Z"
   },
   {
    "duration": 18,
    "start_time": "2022-01-14T13:10:21.849Z"
   },
   {
    "duration": 796,
    "start_time": "2022-01-14T13:10:21.869Z"
   },
   {
    "duration": 7,
    "start_time": "2022-01-14T13:10:22.668Z"
   },
   {
    "duration": 39,
    "start_time": "2022-01-14T13:10:22.677Z"
   },
   {
    "duration": 727,
    "start_time": "2022-01-14T13:10:22.718Z"
   },
   {
    "duration": 632,
    "start_time": "2022-01-14T13:10:23.447Z"
   },
   {
    "duration": 556,
    "start_time": "2022-01-14T13:10:24.082Z"
   },
   {
    "duration": 359,
    "start_time": "2022-01-14T13:10:24.640Z"
   },
   {
    "duration": 466,
    "start_time": "2022-01-14T13:10:25.001Z"
   },
   {
    "duration": 445,
    "start_time": "2022-01-14T13:10:25.469Z"
   },
   {
    "duration": 12,
    "start_time": "2022-01-14T13:10:25.917Z"
   },
   {
    "duration": 716,
    "start_time": "2022-01-14T13:10:25.931Z"
   },
   {
    "duration": 5,
    "start_time": "2022-01-14T13:10:26.649Z"
   },
   {
    "duration": 6,
    "start_time": "2022-01-14T13:10:26.668Z"
   },
   {
    "duration": 267,
    "start_time": "2022-01-14T13:10:26.676Z"
   },
   {
    "duration": 251,
    "start_time": "2022-01-14T13:10:26.945Z"
   },
   {
    "duration": 12,
    "start_time": "2022-01-14T13:10:27.199Z"
   },
   {
    "duration": 10,
    "start_time": "2022-01-14T13:10:27.214Z"
   },
   {
    "duration": 25,
    "start_time": "2022-01-14T13:10:37.783Z"
   },
   {
    "duration": 344,
    "start_time": "2022-01-14T13:12:45.511Z"
   },
   {
    "duration": 247,
    "start_time": "2022-01-14T13:12:51.496Z"
   },
   {
    "duration": 10,
    "start_time": "2022-01-14T13:12:56.191Z"
   },
   {
    "duration": 11,
    "start_time": "2022-01-14T13:12:58.133Z"
   },
   {
    "duration": 41,
    "start_time": "2022-01-14T13:13:52.696Z"
   },
   {
    "duration": 36,
    "start_time": "2022-01-14T13:13:58.307Z"
   },
   {
    "duration": 12,
    "start_time": "2022-01-14T13:14:09.816Z"
   },
   {
    "duration": 838,
    "start_time": "2022-01-14T13:15:14.925Z"
   },
   {
    "duration": 99,
    "start_time": "2022-01-14T13:15:15.768Z"
   },
   {
    "duration": 50,
    "start_time": "2022-01-14T13:15:15.871Z"
   },
   {
    "duration": 43,
    "start_time": "2022-01-14T13:15:15.924Z"
   },
   {
    "duration": 12,
    "start_time": "2022-01-14T13:15:15.969Z"
   },
   {
    "duration": 14,
    "start_time": "2022-01-14T13:15:15.984Z"
   },
   {
    "duration": 19,
    "start_time": "2022-01-14T13:15:16.000Z"
   },
   {
    "duration": 29204,
    "start_time": "2022-01-14T13:15:16.023Z"
   },
   {
    "duration": 12,
    "start_time": "2022-01-14T13:15:45.231Z"
   },
   {
    "duration": 34,
    "start_time": "2022-01-14T13:15:45.246Z"
   },
   {
    "duration": 19,
    "start_time": "2022-01-14T13:15:45.282Z"
   },
   {
    "duration": 64,
    "start_time": "2022-01-14T13:15:45.305Z"
   },
   {
    "duration": 12765,
    "start_time": "2022-01-14T13:15:45.373Z"
   },
   {
    "duration": 27,
    "start_time": "2022-01-14T13:15:58.142Z"
   },
   {
    "duration": 13,
    "start_time": "2022-01-14T13:15:58.171Z"
   },
   {
    "duration": 903,
    "start_time": "2022-01-14T13:15:58.186Z"
   },
   {
    "duration": 12,
    "start_time": "2022-01-14T13:15:59.091Z"
   },
   {
    "duration": 16,
    "start_time": "2022-01-14T13:15:59.105Z"
   },
   {
    "duration": 43,
    "start_time": "2022-01-14T13:15:59.124Z"
   },
   {
    "duration": 24,
    "start_time": "2022-01-14T13:15:59.170Z"
   },
   {
    "duration": 22,
    "start_time": "2022-01-14T13:15:59.196Z"
   },
   {
    "duration": 12,
    "start_time": "2022-01-14T13:15:59.221Z"
   },
   {
    "duration": 160,
    "start_time": "2022-01-14T13:15:59.240Z"
   },
   {
    "duration": 201,
    "start_time": "2022-01-14T13:15:59.404Z"
   },
   {
    "duration": 8,
    "start_time": "2022-01-14T13:15:59.607Z"
   },
   {
    "duration": 894,
    "start_time": "2022-01-14T13:15:59.617Z"
   },
   {
    "duration": 7,
    "start_time": "2022-01-14T13:16:00.513Z"
   },
   {
    "duration": 58,
    "start_time": "2022-01-14T13:16:00.523Z"
   },
   {
    "duration": 717,
    "start_time": "2022-01-14T13:16:00.584Z"
   },
   {
    "duration": 655,
    "start_time": "2022-01-14T13:16:01.304Z"
   },
   {
    "duration": 559,
    "start_time": "2022-01-14T13:16:01.961Z"
   },
   {
    "duration": 363,
    "start_time": "2022-01-14T13:16:02.522Z"
   },
   {
    "duration": 480,
    "start_time": "2022-01-14T13:16:02.887Z"
   },
   {
    "duration": 729,
    "start_time": "2022-01-14T13:16:03.369Z"
   },
   {
    "duration": 15,
    "start_time": "2022-01-14T13:16:04.101Z"
   },
   {
    "duration": 741,
    "start_time": "2022-01-14T13:16:04.118Z"
   },
   {
    "duration": 10,
    "start_time": "2022-01-14T13:16:04.861Z"
   },
   {
    "duration": 9,
    "start_time": "2022-01-14T13:16:04.873Z"
   },
   {
    "duration": 281,
    "start_time": "2022-01-14T13:16:04.886Z"
   },
   {
    "duration": 280,
    "start_time": "2022-01-14T13:16:05.169Z"
   },
   {
    "duration": 340,
    "start_time": "2022-01-14T13:17:29.662Z"
   },
   {
    "duration": 240,
    "start_time": "2022-01-14T13:17:44.644Z"
   },
   {
    "duration": 10,
    "start_time": "2022-01-14T13:17:47.939Z"
   },
   {
    "duration": 11,
    "start_time": "2022-01-14T13:17:50.363Z"
   },
   {
    "duration": 13,
    "start_time": "2022-01-14T13:17:55.726Z"
   },
   {
    "duration": 239,
    "start_time": "2022-01-14T13:18:01.578Z"
   },
   {
    "duration": 245,
    "start_time": "2022-01-14T13:18:04.765Z"
   },
   {
    "duration": 11,
    "start_time": "2022-01-14T13:18:08.252Z"
   },
   {
    "duration": 9,
    "start_time": "2022-01-14T13:18:09.240Z"
   },
   {
    "duration": 14,
    "start_time": "2022-01-14T13:18:12.725Z"
   },
   {
    "duration": 9,
    "start_time": "2022-01-14T13:21:29.700Z"
   },
   {
    "duration": 241,
    "start_time": "2022-01-14T13:21:54.368Z"
   },
   {
    "duration": 220,
    "start_time": "2022-01-14T13:25:10.177Z"
   },
   {
    "duration": 256,
    "start_time": "2022-01-14T13:26:11.047Z"
   },
   {
    "duration": 248,
    "start_time": "2022-01-14T13:26:18.838Z"
   },
   {
    "duration": 238,
    "start_time": "2022-01-14T13:26:27.004Z"
   },
   {
    "duration": 237,
    "start_time": "2022-01-14T13:26:30.509Z"
   },
   {
    "duration": 252,
    "start_time": "2022-01-14T13:26:51.063Z"
   },
   {
    "duration": 254,
    "start_time": "2022-01-14T13:26:59.253Z"
   },
   {
    "duration": 246,
    "start_time": "2022-01-14T13:27:04.187Z"
   },
   {
    "duration": 240,
    "start_time": "2022-01-14T13:27:14.233Z"
   },
   {
    "duration": 227,
    "start_time": "2022-01-14T13:28:52.969Z"
   },
   {
    "duration": 12,
    "start_time": "2022-01-14T13:31:36.418Z"
   },
   {
    "duration": 10,
    "start_time": "2022-01-14T13:32:04.887Z"
   },
   {
    "duration": 13,
    "start_time": "2022-01-14T13:32:45.570Z"
   },
   {
    "duration": 8,
    "start_time": "2022-01-14T13:33:23.935Z"
   },
   {
    "duration": 8,
    "start_time": "2022-01-14T13:33:38.290Z"
   },
   {
    "duration": 22,
    "start_time": "2022-01-14T13:34:07.970Z"
   },
   {
    "duration": 11,
    "start_time": "2022-01-14T13:35:12.162Z"
   },
   {
    "duration": 11,
    "start_time": "2022-01-14T13:36:41.274Z"
   },
   {
    "duration": 438,
    "start_time": "2022-01-14T13:39:30.870Z"
   },
   {
    "duration": 14,
    "start_time": "2022-01-14T13:39:44.321Z"
   },
   {
    "duration": 24,
    "start_time": "2022-01-14T13:39:51.899Z"
   },
   {
    "duration": 775,
    "start_time": "2022-01-14T13:40:39.304Z"
   },
   {
    "duration": 105,
    "start_time": "2022-01-14T13:40:40.082Z"
   },
   {
    "duration": 53,
    "start_time": "2022-01-14T13:40:40.190Z"
   },
   {
    "duration": 30,
    "start_time": "2022-01-14T13:40:40.246Z"
   },
   {
    "duration": 11,
    "start_time": "2022-01-14T13:40:40.278Z"
   },
   {
    "duration": 12,
    "start_time": "2022-01-14T13:40:40.292Z"
   },
   {
    "duration": 14,
    "start_time": "2022-01-14T13:40:40.306Z"
   },
   {
    "duration": 29723,
    "start_time": "2022-01-14T13:40:40.324Z"
   },
   {
    "duration": 28,
    "start_time": "2022-01-14T13:41:10.050Z"
   },
   {
    "duration": 15,
    "start_time": "2022-01-14T13:41:10.080Z"
   },
   {
    "duration": 24,
    "start_time": "2022-01-14T13:41:10.097Z"
   },
   {
    "duration": 47,
    "start_time": "2022-01-14T13:41:10.124Z"
   },
   {
    "duration": 8628,
    "start_time": "2022-01-14T13:41:10.174Z"
   },
   {
    "duration": 11,
    "start_time": "2022-01-14T13:41:18.804Z"
   },
   {
    "duration": 12,
    "start_time": "2022-01-14T13:41:18.817Z"
   },
   {
    "duration": 1054,
    "start_time": "2022-01-14T13:41:18.832Z"
   },
   {
    "duration": 12,
    "start_time": "2022-01-14T13:41:19.888Z"
   },
   {
    "duration": 14,
    "start_time": "2022-01-14T13:41:19.902Z"
   },
   {
    "duration": 15,
    "start_time": "2022-01-14T13:41:19.918Z"
   },
   {
    "duration": 57,
    "start_time": "2022-01-14T13:41:19.936Z"
   },
   {
    "duration": 15,
    "start_time": "2022-01-14T13:41:19.996Z"
   },
   {
    "duration": 10,
    "start_time": "2022-01-14T13:41:20.013Z"
   },
   {
    "duration": 152,
    "start_time": "2022-01-14T13:41:20.028Z"
   },
   {
    "duration": 201,
    "start_time": "2022-01-14T13:41:20.185Z"
   },
   {
    "duration": 8,
    "start_time": "2022-01-14T13:41:20.389Z"
   },
   {
    "duration": 831,
    "start_time": "2022-01-14T13:41:20.400Z"
   },
   {
    "duration": 8,
    "start_time": "2022-01-14T13:41:21.233Z"
   },
   {
    "duration": 53,
    "start_time": "2022-01-14T13:41:21.243Z"
   },
   {
    "duration": 737,
    "start_time": "2022-01-14T13:41:21.299Z"
   },
   {
    "duration": 649,
    "start_time": "2022-01-14T13:41:22.039Z"
   },
   {
    "duration": 598,
    "start_time": "2022-01-14T13:41:22.691Z"
   },
   {
    "duration": 410,
    "start_time": "2022-01-14T13:41:23.292Z"
   },
   {
    "duration": 478,
    "start_time": "2022-01-14T13:41:23.705Z"
   },
   {
    "duration": 456,
    "start_time": "2022-01-14T13:41:24.186Z"
   },
   {
    "duration": 31,
    "start_time": "2022-01-14T13:41:24.645Z"
   },
   {
    "duration": 798,
    "start_time": "2022-01-14T13:41:24.679Z"
   },
   {
    "duration": 6,
    "start_time": "2022-01-14T13:41:25.479Z"
   },
   {
    "duration": 17,
    "start_time": "2022-01-14T13:41:25.488Z"
   },
   {
    "duration": 273,
    "start_time": "2022-01-14T13:41:25.508Z"
   },
   {
    "duration": 298,
    "start_time": "2022-01-14T13:41:25.784Z"
   },
   {
    "duration": 13,
    "start_time": "2022-01-14T13:41:26.085Z"
   },
   {
    "duration": 10,
    "start_time": "2022-01-14T13:41:26.101Z"
   },
   {
    "duration": 13,
    "start_time": "2022-01-14T13:41:26.113Z"
   },
   {
    "duration": 371,
    "start_time": "2022-01-14T13:41:26.128Z"
   },
   {
    "duration": 256,
    "start_time": "2022-01-14T13:41:26.502Z"
   },
   {
    "duration": 17,
    "start_time": "2022-01-14T13:41:26.760Z"
   },
   {
    "duration": 12,
    "start_time": "2022-01-14T13:41:26.781Z"
   },
   {
    "duration": 14,
    "start_time": "2022-01-14T13:41:26.796Z"
   },
   {
    "duration": 269,
    "start_time": "2022-01-14T13:41:26.812Z"
   },
   {
    "duration": 251,
    "start_time": "2022-01-14T13:41:27.084Z"
   },
   {
    "duration": 248,
    "start_time": "2022-01-14T13:41:27.338Z"
   },
   {
    "duration": 10,
    "start_time": "2022-01-14T13:41:27.588Z"
   },
   {
    "duration": 10,
    "start_time": "2022-01-14T13:41:27.600Z"
   },
   {
    "duration": 11,
    "start_time": "2022-01-14T13:41:27.612Z"
   },
   {
    "duration": 12,
    "start_time": "2022-01-14T13:41:30.676Z"
   },
   {
    "duration": 25,
    "start_time": "2022-01-14T13:41:32.013Z"
   },
   {
    "duration": 11,
    "start_time": "2022-01-14T13:41:58.572Z"
   },
   {
    "duration": 232,
    "start_time": "2022-01-14T13:42:48.162Z"
   },
   {
    "duration": 232,
    "start_time": "2022-01-14T13:43:48.409Z"
   },
   {
    "duration": 11,
    "start_time": "2022-01-14T13:46:22.485Z"
   },
   {
    "duration": 10,
    "start_time": "2022-01-14T13:47:31.020Z"
   },
   {
    "duration": 10,
    "start_time": "2022-01-14T13:47:40.543Z"
   },
   {
    "duration": 10,
    "start_time": "2022-01-14T13:48:36.720Z"
   },
   {
    "duration": 10,
    "start_time": "2022-01-14T13:49:05.891Z"
   },
   {
    "duration": 813,
    "start_time": "2022-01-14T14:04:59.637Z"
   },
   {
    "duration": 90,
    "start_time": "2022-01-14T14:05:00.453Z"
   },
   {
    "duration": 62,
    "start_time": "2022-01-14T14:05:00.546Z"
   },
   {
    "duration": 16,
    "start_time": "2022-01-14T14:05:00.611Z"
   },
   {
    "duration": 43,
    "start_time": "2022-01-14T14:05:00.629Z"
   },
   {
    "duration": 12,
    "start_time": "2022-01-14T14:05:00.674Z"
   },
   {
    "duration": 32,
    "start_time": "2022-01-14T14:05:00.688Z"
   },
   {
    "duration": 4,
    "start_time": "2022-01-14T14:05:04.357Z"
   },
   {
    "duration": 578,
    "start_time": "2022-01-14T14:05:04.363Z"
   },
   {
    "duration": 62,
    "start_time": "2022-01-14T14:05:04.945Z"
   },
   {
    "duration": 22,
    "start_time": "2022-01-14T14:05:05.011Z"
   },
   {
    "duration": 9,
    "start_time": "2022-01-14T14:05:05.035Z"
   },
   {
    "duration": 12,
    "start_time": "2022-01-14T14:05:05.068Z"
   },
   {
    "duration": 27,
    "start_time": "2022-01-14T14:05:05.084Z"
   },
   {
    "duration": 2824,
    "start_time": "2022-01-14T14:05:05.114Z"
   },
   {
    "duration": 703,
    "start_time": "2022-01-14T14:05:07.242Z"
   },
   {
    "duration": 701,
    "start_time": "2022-01-14T14:05:07.246Z"
   },
   {
    "duration": 699,
    "start_time": "2022-01-14T14:05:07.250Z"
   },
   {
    "duration": 694,
    "start_time": "2022-01-14T14:05:07.257Z"
   },
   {
    "duration": 692,
    "start_time": "2022-01-14T14:05:07.262Z"
   },
   {
    "duration": 691,
    "start_time": "2022-01-14T14:05:07.265Z"
   },
   {
    "duration": 689,
    "start_time": "2022-01-14T14:05:07.269Z"
   },
   {
    "duration": 685,
    "start_time": "2022-01-14T14:05:07.276Z"
   },
   {
    "duration": 684,
    "start_time": "2022-01-14T14:05:07.279Z"
   },
   {
    "duration": 672,
    "start_time": "2022-01-14T14:05:07.293Z"
   },
   {
    "duration": 671,
    "start_time": "2022-01-14T14:05:07.297Z"
   },
   {
    "duration": 669,
    "start_time": "2022-01-14T14:05:07.301Z"
   },
   {
    "duration": 665,
    "start_time": "2022-01-14T14:05:07.307Z"
   },
   {
    "duration": 662,
    "start_time": "2022-01-14T14:05:07.313Z"
   },
   {
    "duration": 659,
    "start_time": "2022-01-14T14:05:07.317Z"
   },
   {
    "duration": 653,
    "start_time": "2022-01-14T14:05:07.326Z"
   },
   {
    "duration": 651,
    "start_time": "2022-01-14T14:05:07.330Z"
   },
   {
    "duration": 649,
    "start_time": "2022-01-14T14:05:07.334Z"
   },
   {
    "duration": 646,
    "start_time": "2022-01-14T14:05:07.339Z"
   },
   {
    "duration": 642,
    "start_time": "2022-01-14T14:05:07.345Z"
   },
   {
    "duration": 632,
    "start_time": "2022-01-14T14:05:07.357Z"
   },
   {
    "duration": 629,
    "start_time": "2022-01-14T14:05:07.363Z"
   },
   {
    "duration": 627,
    "start_time": "2022-01-14T14:05:07.367Z"
   },
   {
    "duration": 623,
    "start_time": "2022-01-14T14:05:07.373Z"
   },
   {
    "duration": 621,
    "start_time": "2022-01-14T14:05:07.378Z"
   },
   {
    "duration": 619,
    "start_time": "2022-01-14T14:05:07.382Z"
   },
   {
    "duration": 618,
    "start_time": "2022-01-14T14:05:07.385Z"
   },
   {
    "duration": 614,
    "start_time": "2022-01-14T14:05:07.391Z"
   },
   {
    "duration": 612,
    "start_time": "2022-01-14T14:05:07.395Z"
   },
   {
    "duration": 609,
    "start_time": "2022-01-14T14:05:07.399Z"
   },
   {
    "duration": 607,
    "start_time": "2022-01-14T14:05:07.402Z"
   },
   {
    "duration": 659,
    "start_time": "2022-01-14T14:05:07.408Z"
   },
   {
    "duration": 448,
    "start_time": "2022-01-14T14:05:07.621Z"
   },
   {
    "duration": 443,
    "start_time": "2022-01-14T14:05:07.629Z"
   },
   {
    "duration": 441,
    "start_time": "2022-01-14T14:05:07.632Z"
   },
   {
    "duration": 425,
    "start_time": "2022-01-14T14:05:07.650Z"
   },
   {
    "duration": 411,
    "start_time": "2022-01-14T14:05:07.666Z"
   },
   {
    "duration": 408,
    "start_time": "2022-01-14T14:05:07.671Z"
   },
   {
    "duration": 386,
    "start_time": "2022-01-14T14:05:07.695Z"
   },
   {
    "duration": 382,
    "start_time": "2022-01-14T14:05:07.701Z"
   },
   {
    "duration": 370,
    "start_time": "2022-01-14T14:05:07.715Z"
   },
   {
    "duration": 368,
    "start_time": "2022-01-14T14:05:07.719Z"
   },
   {
    "duration": 246,
    "start_time": "2022-01-14T14:05:07.843Z"
   },
   {
    "duration": 217,
    "start_time": "2022-01-14T14:05:07.874Z"
   },
   {
    "duration": 216,
    "start_time": "2022-01-14T14:05:07.878Z"
   },
   {
    "duration": 213,
    "start_time": "2022-01-14T14:05:07.882Z"
   },
   {
    "duration": 212,
    "start_time": "2022-01-14T14:05:07.885Z"
   },
   {
    "duration": 208,
    "start_time": "2022-01-14T14:05:07.890Z"
   },
   {
    "duration": 205,
    "start_time": "2022-01-14T14:05:07.894Z"
   },
   {
    "duration": 203,
    "start_time": "2022-01-14T14:05:07.898Z"
   },
   {
    "duration": 200,
    "start_time": "2022-01-14T14:05:07.902Z"
   },
   {
    "duration": 810,
    "start_time": "2022-01-14T14:05:11.267Z"
   },
   {
    "duration": 92,
    "start_time": "2022-01-14T14:05:12.080Z"
   },
   {
    "duration": 50,
    "start_time": "2022-01-14T14:05:12.175Z"
   },
   {
    "duration": 41,
    "start_time": "2022-01-14T14:05:12.228Z"
   },
   {
    "duration": 10,
    "start_time": "2022-01-14T14:05:12.272Z"
   },
   {
    "duration": 16,
    "start_time": "2022-01-14T14:05:12.285Z"
   },
   {
    "duration": 12,
    "start_time": "2022-01-14T14:05:12.304Z"
   },
   {
    "duration": 28693,
    "start_time": "2022-01-14T14:05:12.320Z"
   },
   {
    "duration": 12,
    "start_time": "2022-01-14T14:05:41.016Z"
   },
   {
    "duration": 14,
    "start_time": "2022-01-14T14:05:41.031Z"
   },
   {
    "duration": 16,
    "start_time": "2022-01-14T14:05:41.068Z"
   },
   {
    "duration": 18,
    "start_time": "2022-01-14T14:05:41.087Z"
   },
   {
    "duration": 8129,
    "start_time": "2022-01-14T14:05:41.108Z"
   },
   {
    "duration": 12,
    "start_time": "2022-01-14T14:05:49.239Z"
   },
   {
    "duration": 13,
    "start_time": "2022-01-14T14:05:49.268Z"
   },
   {
    "duration": 935,
    "start_time": "2022-01-14T14:05:49.284Z"
   },
   {
    "duration": 12,
    "start_time": "2022-01-14T14:05:50.221Z"
   },
   {
    "duration": 36,
    "start_time": "2022-01-14T14:05:50.236Z"
   },
   {
    "duration": 17,
    "start_time": "2022-01-14T14:05:50.275Z"
   },
   {
    "duration": 29,
    "start_time": "2022-01-14T14:05:50.295Z"
   },
   {
    "duration": 43,
    "start_time": "2022-01-14T14:05:50.326Z"
   },
   {
    "duration": 11,
    "start_time": "2022-01-14T14:05:50.372Z"
   },
   {
    "duration": 136,
    "start_time": "2022-01-14T14:05:50.390Z"
   },
   {
    "duration": 166,
    "start_time": "2022-01-14T14:05:50.529Z"
   },
   {
    "duration": 8,
    "start_time": "2022-01-14T14:05:50.698Z"
   },
   {
    "duration": 814,
    "start_time": "2022-01-14T14:05:50.708Z"
   },
   {
    "duration": 7,
    "start_time": "2022-01-14T14:05:51.524Z"
   },
   {
    "duration": 53,
    "start_time": "2022-01-14T14:05:51.534Z"
   },
   {
    "duration": 705,
    "start_time": "2022-01-14T14:05:51.589Z"
   },
   {
    "duration": 630,
    "start_time": "2022-01-14T14:05:52.297Z"
   },
   {
    "duration": 552,
    "start_time": "2022-01-14T14:05:52.930Z"
   },
   {
    "duration": 375,
    "start_time": "2022-01-14T14:05:53.485Z"
   },
   {
    "duration": 467,
    "start_time": "2022-01-14T14:05:53.862Z"
   },
   {
    "duration": 462,
    "start_time": "2022-01-14T14:05:54.332Z"
   },
   {
    "duration": 11,
    "start_time": "2022-01-14T14:05:54.796Z"
   },
   {
    "duration": 712,
    "start_time": "2022-01-14T14:05:54.809Z"
   },
   {
    "duration": 5,
    "start_time": "2022-01-14T14:05:55.523Z"
   },
   {
    "duration": 9,
    "start_time": "2022-01-14T14:05:55.531Z"
   },
   {
    "duration": 302,
    "start_time": "2022-01-14T14:05:55.543Z"
   },
   {
    "duration": 247,
    "start_time": "2022-01-14T14:05:55.848Z"
   },
   {
    "duration": 10,
    "start_time": "2022-01-14T14:05:56.097Z"
   },
   {
    "duration": 15,
    "start_time": "2022-01-14T14:05:56.109Z"
   },
   {
    "duration": 40,
    "start_time": "2022-01-14T14:05:56.127Z"
   },
   {
    "duration": 318,
    "start_time": "2022-01-14T14:05:56.170Z"
   },
   {
    "duration": 251,
    "start_time": "2022-01-14T14:05:56.490Z"
   },
   {
    "duration": 10,
    "start_time": "2022-01-14T14:05:56.743Z"
   },
   {
    "duration": 20,
    "start_time": "2022-01-14T14:05:56.756Z"
   },
   {
    "duration": 16,
    "start_time": "2022-01-14T14:05:56.779Z"
   },
   {
    "duration": 260,
    "start_time": "2022-01-14T14:05:56.798Z"
   },
   {
    "duration": 245,
    "start_time": "2022-01-14T14:05:57.061Z"
   },
   {
    "duration": 236,
    "start_time": "2022-01-14T14:05:57.308Z"
   },
   {
    "duration": 23,
    "start_time": "2022-01-14T14:05:57.547Z"
   },
   {
    "duration": 11,
    "start_time": "2022-01-14T14:05:57.573Z"
   },
   {
    "duration": 12,
    "start_time": "2022-01-14T14:05:57.586Z"
   },
   {
    "duration": 13,
    "start_time": "2022-01-14T14:05:57.600Z"
   },
   {
    "duration": 279,
    "start_time": "2022-01-14T14:05:57.615Z"
   },
   {
    "duration": 256,
    "start_time": "2022-01-14T14:05:57.897Z"
   },
   {
    "duration": 20,
    "start_time": "2022-01-14T14:05:58.156Z"
   },
   {
    "duration": 11,
    "start_time": "2022-01-14T14:05:58.179Z"
   },
   {
    "duration": 10,
    "start_time": "2022-01-14T14:10:32.251Z"
   },
   {
    "duration": 3,
    "start_time": "2022-01-14T14:10:41.448Z"
   },
   {
    "duration": 10,
    "start_time": "2022-01-14T14:10:46.476Z"
   },
   {
    "duration": 37,
    "start_time": "2022-01-14T14:12:42.706Z"
   },
   {
    "duration": 10,
    "start_time": "2022-01-14T14:17:21.486Z"
   },
   {
    "duration": 6,
    "start_time": "2022-01-14T14:17:34.363Z"
   },
   {
    "duration": 847,
    "start_time": "2022-01-14T14:18:30.962Z"
   },
   {
    "duration": 94,
    "start_time": "2022-01-14T14:18:31.812Z"
   },
   {
    "duration": 62,
    "start_time": "2022-01-14T14:18:31.909Z"
   },
   {
    "duration": 17,
    "start_time": "2022-01-14T14:18:31.974Z"
   },
   {
    "duration": 10,
    "start_time": "2022-01-14T14:18:31.994Z"
   },
   {
    "duration": 12,
    "start_time": "2022-01-14T14:18:32.007Z"
   },
   {
    "duration": 52,
    "start_time": "2022-01-14T14:18:32.021Z"
   },
   {
    "duration": 27770,
    "start_time": "2022-01-14T14:18:32.077Z"
   },
   {
    "duration": 19,
    "start_time": "2022-01-14T14:18:59.850Z"
   },
   {
    "duration": 17,
    "start_time": "2022-01-14T14:18:59.872Z"
   },
   {
    "duration": 18,
    "start_time": "2022-01-14T14:18:59.891Z"
   },
   {
    "duration": 17,
    "start_time": "2022-01-14T14:18:59.911Z"
   },
   {
    "duration": 8649,
    "start_time": "2022-01-14T14:18:59.930Z"
   },
   {
    "duration": 11,
    "start_time": "2022-01-14T14:19:08.582Z"
   },
   {
    "duration": 12,
    "start_time": "2022-01-14T14:19:08.595Z"
   },
   {
    "duration": 903,
    "start_time": "2022-01-14T14:19:08.609Z"
   },
   {
    "duration": 12,
    "start_time": "2022-01-14T14:19:09.514Z"
   },
   {
    "duration": 12,
    "start_time": "2022-01-14T14:19:09.528Z"
   },
   {
    "duration": 29,
    "start_time": "2022-01-14T14:19:09.543Z"
   },
   {
    "duration": 22,
    "start_time": "2022-01-14T14:19:09.574Z"
   },
   {
    "duration": 13,
    "start_time": "2022-01-14T14:19:09.599Z"
   },
   {
    "duration": 10,
    "start_time": "2022-01-14T14:19:09.614Z"
   },
   {
    "duration": 120,
    "start_time": "2022-01-14T14:19:09.670Z"
   },
   {
    "duration": 169,
    "start_time": "2022-01-14T14:19:09.793Z"
   },
   {
    "duration": 7,
    "start_time": "2022-01-14T14:19:09.964Z"
   },
   {
    "duration": 779,
    "start_time": "2022-01-14T14:19:09.973Z"
   },
   {
    "duration": 17,
    "start_time": "2022-01-14T14:19:10.754Z"
   },
   {
    "duration": 39,
    "start_time": "2022-01-14T14:19:10.773Z"
   },
   {
    "duration": 700,
    "start_time": "2022-01-14T14:19:10.814Z"
   },
   {
    "duration": 623,
    "start_time": "2022-01-14T14:19:11.516Z"
   },
   {
    "duration": 551,
    "start_time": "2022-01-14T14:19:12.143Z"
   },
   {
    "duration": 377,
    "start_time": "2022-01-14T14:19:12.697Z"
   },
   {
    "duration": 471,
    "start_time": "2022-01-14T14:19:13.076Z"
   },
   {
    "duration": 485,
    "start_time": "2022-01-14T14:19:13.550Z"
   },
   {
    "duration": 12,
    "start_time": "2022-01-14T14:19:14.037Z"
   },
   {
    "duration": 719,
    "start_time": "2022-01-14T14:19:14.067Z"
   },
   {
    "duration": 6,
    "start_time": "2022-01-14T14:19:14.788Z"
   },
   {
    "duration": 11,
    "start_time": "2022-01-14T14:19:14.796Z"
   },
   {
    "duration": 272,
    "start_time": "2022-01-14T14:19:14.809Z"
   },
   {
    "duration": 250,
    "start_time": "2022-01-14T14:19:15.084Z"
   },
   {
    "duration": 9,
    "start_time": "2022-01-14T14:19:15.336Z"
   },
   {
    "duration": 25,
    "start_time": "2022-01-14T14:19:15.348Z"
   },
   {
    "duration": 16,
    "start_time": "2022-01-14T14:19:15.376Z"
   },
   {
    "duration": 329,
    "start_time": "2022-01-14T14:19:15.394Z"
   },
   {
    "duration": 247,
    "start_time": "2022-01-14T14:19:15.725Z"
   },
   {
    "duration": 10,
    "start_time": "2022-01-14T14:19:15.975Z"
   },
   {
    "duration": 13,
    "start_time": "2022-01-14T14:19:15.989Z"
   },
   {
    "duration": 10,
    "start_time": "2022-01-14T14:19:16.006Z"
   },
   {
    "duration": 261,
    "start_time": "2022-01-14T14:19:16.019Z"
   },
   {
    "duration": 237,
    "start_time": "2022-01-14T14:19:16.282Z"
   },
   {
    "duration": 227,
    "start_time": "2022-01-14T14:19:16.521Z"
   },
   {
    "duration": 15,
    "start_time": "2022-01-14T14:19:16.751Z"
   },
   {
    "duration": 8,
    "start_time": "2022-01-14T14:19:16.768Z"
   },
   {
    "duration": 17,
    "start_time": "2022-01-14T14:19:16.778Z"
   },
   {
    "duration": 15,
    "start_time": "2022-01-14T14:19:16.798Z"
   },
   {
    "duration": 281,
    "start_time": "2022-01-14T14:19:16.815Z"
   },
   {
    "duration": 244,
    "start_time": "2022-01-14T14:19:17.098Z"
   },
   {
    "duration": 9,
    "start_time": "2022-01-14T14:19:17.345Z"
   },
   {
    "duration": 9,
    "start_time": "2022-01-14T14:19:17.368Z"
   },
   {
    "duration": 6,
    "start_time": "2022-01-14T14:19:17.379Z"
   },
   {
    "duration": 9,
    "start_time": "2022-01-14T14:19:55.709Z"
   },
   {
    "duration": 9,
    "start_time": "2022-01-14T14:19:57.083Z"
   },
   {
    "duration": 794,
    "start_time": "2022-01-14T14:20:30.465Z"
   },
   {
    "duration": 92,
    "start_time": "2022-01-14T14:20:31.262Z"
   },
   {
    "duration": 59,
    "start_time": "2022-01-14T14:20:31.357Z"
   },
   {
    "duration": 16,
    "start_time": "2022-01-14T14:20:31.419Z"
   },
   {
    "duration": 33,
    "start_time": "2022-01-14T14:20:31.437Z"
   },
   {
    "duration": 13,
    "start_time": "2022-01-14T14:20:31.473Z"
   },
   {
    "duration": 26,
    "start_time": "2022-01-14T14:20:31.489Z"
   },
   {
    "duration": 27269,
    "start_time": "2022-01-14T14:20:31.519Z"
   },
   {
    "duration": 10,
    "start_time": "2022-01-14T14:20:58.792Z"
   },
   {
    "duration": 14,
    "start_time": "2022-01-14T14:20:58.805Z"
   },
   {
    "duration": 51,
    "start_time": "2022-01-14T14:20:58.822Z"
   },
   {
    "duration": 19,
    "start_time": "2022-01-14T14:20:58.876Z"
   },
   {
    "duration": 8103,
    "start_time": "2022-01-14T14:20:58.898Z"
   },
   {
    "duration": 11,
    "start_time": "2022-01-14T14:21:07.003Z"
   },
   {
    "duration": 12,
    "start_time": "2022-01-14T14:21:07.016Z"
   },
   {
    "duration": 953,
    "start_time": "2022-01-14T14:21:07.031Z"
   },
   {
    "duration": 11,
    "start_time": "2022-01-14T14:21:07.986Z"
   },
   {
    "duration": 14,
    "start_time": "2022-01-14T14:21:07.999Z"
   },
   {
    "duration": 10,
    "start_time": "2022-01-14T14:21:08.015Z"
   },
   {
    "duration": 52,
    "start_time": "2022-01-14T14:21:08.027Z"
   },
   {
    "duration": 14,
    "start_time": "2022-01-14T14:21:08.081Z"
   },
   {
    "duration": 11,
    "start_time": "2022-01-14T14:21:08.097Z"
   },
   {
    "duration": 136,
    "start_time": "2022-01-14T14:21:08.113Z"
   },
   {
    "duration": 176,
    "start_time": "2022-01-14T14:21:08.253Z"
   },
   {
    "duration": 8,
    "start_time": "2022-01-14T14:21:08.431Z"
   },
   {
    "duration": 789,
    "start_time": "2022-01-14T14:21:08.441Z"
   },
   {
    "duration": 7,
    "start_time": "2022-01-14T14:21:09.232Z"
   },
   {
    "duration": 49,
    "start_time": "2022-01-14T14:21:09.241Z"
   },
   {
    "duration": 688,
    "start_time": "2022-01-14T14:21:09.292Z"
   },
   {
    "duration": 637,
    "start_time": "2022-01-14T14:21:09.982Z"
   },
   {
    "duration": 549,
    "start_time": "2022-01-14T14:21:10.622Z"
   },
   {
    "duration": 384,
    "start_time": "2022-01-14T14:21:11.174Z"
   },
   {
    "duration": 460,
    "start_time": "2022-01-14T14:21:11.568Z"
   },
   {
    "duration": 457,
    "start_time": "2022-01-14T14:21:12.030Z"
   },
   {
    "duration": 11,
    "start_time": "2022-01-14T14:21:12.490Z"
   },
   {
    "duration": 720,
    "start_time": "2022-01-14T14:21:12.503Z"
   },
   {
    "duration": 5,
    "start_time": "2022-01-14T14:21:13.226Z"
   },
   {
    "duration": 8,
    "start_time": "2022-01-14T14:21:13.234Z"
   },
   {
    "duration": 259,
    "start_time": "2022-01-14T14:21:13.268Z"
   },
   {
    "duration": 245,
    "start_time": "2022-01-14T14:21:13.529Z"
   },
   {
    "duration": 9,
    "start_time": "2022-01-14T14:21:13.777Z"
   },
   {
    "duration": 9,
    "start_time": "2022-01-14T14:21:13.789Z"
   },
   {
    "duration": 12,
    "start_time": "2022-01-14T14:21:13.800Z"
   },
   {
    "duration": 345,
    "start_time": "2022-01-14T14:21:13.814Z"
   },
   {
    "duration": 242,
    "start_time": "2022-01-14T14:21:14.162Z"
   },
   {
    "duration": 10,
    "start_time": "2022-01-14T14:21:14.406Z"
   },
   {
    "duration": 12,
    "start_time": "2022-01-14T14:21:14.419Z"
   },
   {
    "duration": 40,
    "start_time": "2022-01-14T14:21:14.434Z"
   },
   {
    "duration": 243,
    "start_time": "2022-01-14T14:21:14.477Z"
   },
   {
    "duration": 236,
    "start_time": "2022-01-14T14:21:14.722Z"
   },
   {
    "duration": 243,
    "start_time": "2022-01-14T14:21:14.967Z"
   },
   {
    "duration": 10,
    "start_time": "2022-01-14T14:21:15.212Z"
   },
   {
    "duration": 8,
    "start_time": "2022-01-14T14:21:15.225Z"
   },
   {
    "duration": 35,
    "start_time": "2022-01-14T14:21:15.235Z"
   },
   {
    "duration": 13,
    "start_time": "2022-01-14T14:21:15.272Z"
   },
   {
    "duration": 265,
    "start_time": "2022-01-14T14:21:15.288Z"
   },
   {
    "duration": 246,
    "start_time": "2022-01-14T14:21:15.555Z"
   },
   {
    "duration": 9,
    "start_time": "2022-01-14T14:21:15.805Z"
   },
   {
    "duration": 12,
    "start_time": "2022-01-14T14:21:15.816Z"
   },
   {
    "duration": 9,
    "start_time": "2022-01-14T14:21:29.152Z"
   },
   {
    "duration": 10,
    "start_time": "2022-01-14T14:21:33.964Z"
   },
   {
    "duration": 11,
    "start_time": "2022-01-14T14:22:27.772Z"
   },
   {
    "duration": 14,
    "start_time": "2022-01-14T14:22:39.420Z"
   },
   {
    "duration": 15,
    "start_time": "2022-01-14T14:23:09.774Z"
   },
   {
    "duration": 130,
    "start_time": "2022-01-14T14:28:54.983Z"
   },
   {
    "duration": 409,
    "start_time": "2022-01-14T14:30:29.436Z"
   },
   {
    "duration": 6,
    "start_time": "2022-01-14T14:30:34.634Z"
   },
   {
    "duration": 4,
    "start_time": "2022-01-14T14:31:38.646Z"
   },
   {
    "duration": 792,
    "start_time": "2022-01-14T14:43:14.162Z"
   },
   {
    "duration": 99,
    "start_time": "2022-01-14T14:43:14.957Z"
   },
   {
    "duration": 58,
    "start_time": "2022-01-14T14:43:15.059Z"
   },
   {
    "duration": 16,
    "start_time": "2022-01-14T14:43:15.120Z"
   },
   {
    "duration": 35,
    "start_time": "2022-01-14T14:43:15.139Z"
   },
   {
    "duration": 13,
    "start_time": "2022-01-14T14:43:15.176Z"
   },
   {
    "duration": 18,
    "start_time": "2022-01-14T14:43:15.191Z"
   },
   {
    "duration": 29358,
    "start_time": "2022-01-14T14:43:15.213Z"
   },
   {
    "duration": 11,
    "start_time": "2022-01-14T14:43:44.574Z"
   },
   {
    "duration": 13,
    "start_time": "2022-01-14T14:43:44.587Z"
   },
   {
    "duration": 17,
    "start_time": "2022-01-14T14:43:44.603Z"
   },
   {
    "duration": 53,
    "start_time": "2022-01-14T14:43:44.622Z"
   },
   {
    "duration": 8160,
    "start_time": "2022-01-14T14:43:44.678Z"
   },
   {
    "duration": 13,
    "start_time": "2022-01-14T14:43:52.840Z"
   },
   {
    "duration": 11,
    "start_time": "2022-01-14T14:43:52.868Z"
   },
   {
    "duration": 916,
    "start_time": "2022-01-14T14:43:52.882Z"
   },
   {
    "duration": 11,
    "start_time": "2022-01-14T14:43:53.800Z"
   },
   {
    "duration": 16,
    "start_time": "2022-01-14T14:43:53.814Z"
   },
   {
    "duration": 40,
    "start_time": "2022-01-14T14:43:53.833Z"
   },
   {
    "duration": 23,
    "start_time": "2022-01-14T14:43:53.876Z"
   },
   {
    "duration": 14,
    "start_time": "2022-01-14T14:43:53.901Z"
   },
   {
    "duration": 20,
    "start_time": "2022-01-14T14:43:53.918Z"
   },
   {
    "duration": 150,
    "start_time": "2022-01-14T14:43:53.943Z"
   },
   {
    "duration": 179,
    "start_time": "2022-01-14T14:43:54.096Z"
   },
   {
    "duration": 8,
    "start_time": "2022-01-14T14:43:54.278Z"
   },
   {
    "duration": 839,
    "start_time": "2022-01-14T14:43:54.289Z"
   },
   {
    "duration": 8,
    "start_time": "2022-01-14T14:43:55.131Z"
   },
   {
    "duration": 56,
    "start_time": "2022-01-14T14:43:55.141Z"
   },
   {
    "duration": 859,
    "start_time": "2022-01-14T14:43:55.200Z"
   },
   {
    "duration": 664,
    "start_time": "2022-01-14T14:43:56.067Z"
   },
   {
    "duration": 602,
    "start_time": "2022-01-14T14:43:56.734Z"
   },
   {
    "duration": 462,
    "start_time": "2022-01-14T14:43:57.339Z"
   },
   {
    "duration": 519,
    "start_time": "2022-01-14T14:43:57.804Z"
   },
   {
    "duration": 452,
    "start_time": "2022-01-14T14:43:58.325Z"
   },
   {
    "duration": 12,
    "start_time": "2022-01-14T14:43:58.779Z"
   },
   {
    "duration": 811,
    "start_time": "2022-01-14T14:43:58.795Z"
   },
   {
    "duration": 12,
    "start_time": "2022-01-14T14:44:05.685Z"
   },
   {
    "duration": 28,
    "start_time": "2022-01-14T14:45:04.014Z"
   },
   {
    "duration": 25,
    "start_time": "2022-01-14T14:45:23.808Z"
   },
   {
    "duration": 1193,
    "start_time": "2022-01-14T14:45:43.692Z"
   },
   {
    "duration": 324,
    "start_time": "2022-01-14T14:45:50.915Z"
   },
   {
    "duration": 691,
    "start_time": "2022-01-14T14:46:01.512Z"
   },
   {
    "duration": 446,
    "start_time": "2022-01-14T14:46:10.402Z"
   },
   {
    "duration": 341,
    "start_time": "2022-01-14T14:46:21.249Z"
   },
   {
    "duration": 709,
    "start_time": "2022-01-14T14:46:43.929Z"
   },
   {
    "duration": 817,
    "start_time": "2022-01-14T14:46:48.460Z"
   },
   {
    "duration": 651,
    "start_time": "2022-01-14T14:46:52.316Z"
   },
   {
    "duration": 320,
    "start_time": "2022-01-14T14:47:13.028Z"
   },
   {
    "duration": 530,
    "start_time": "2022-01-14T14:47:17.782Z"
   },
   {
    "duration": 501,
    "start_time": "2022-01-14T14:47:23.072Z"
   },
   {
    "duration": 46,
    "start_time": "2022-01-14T14:48:21.876Z"
   },
   {
    "duration": 437,
    "start_time": "2022-01-14T14:48:29.845Z"
   },
   {
    "duration": 378,
    "start_time": "2022-01-14T14:48:34.473Z"
   },
   {
    "duration": 30,
    "start_time": "2022-01-14T14:48:41.038Z"
   },
   {
    "duration": 39,
    "start_time": "2022-01-14T14:49:00.626Z"
   },
   {
    "duration": 40,
    "start_time": "2022-01-14T14:49:28.436Z"
   },
   {
    "duration": 37,
    "start_time": "2022-01-14T14:49:38.099Z"
   },
   {
    "duration": 35,
    "start_time": "2022-01-14T14:49:41.613Z"
   },
   {
    "duration": 37,
    "start_time": "2022-01-14T14:49:50.795Z"
   },
   {
    "duration": 106,
    "start_time": "2022-01-14T14:50:28.888Z"
   },
   {
    "duration": 30,
    "start_time": "2022-01-14T14:50:31.640Z"
   },
   {
    "duration": 28,
    "start_time": "2022-01-14T14:50:44.448Z"
   },
   {
    "duration": 29,
    "start_time": "2022-01-14T14:50:50.981Z"
   },
   {
    "duration": 30,
    "start_time": "2022-01-14T14:50:54.724Z"
   },
   {
    "duration": 29,
    "start_time": "2022-01-14T14:51:01.995Z"
   },
   {
    "duration": 489,
    "start_time": "2022-01-14T14:51:40.923Z"
   },
   {
    "duration": 11,
    "start_time": "2022-01-14T14:51:56.174Z"
   },
   {
    "duration": 9,
    "start_time": "2022-01-14T14:52:02.113Z"
   },
   {
    "duration": 10,
    "start_time": "2022-01-14T14:52:07.547Z"
   },
   {
    "duration": 11,
    "start_time": "2022-01-14T14:52:15.748Z"
   },
   {
    "duration": 11,
    "start_time": "2022-01-14T14:52:18.674Z"
   },
   {
    "duration": 10,
    "start_time": "2022-01-14T14:52:22.063Z"
   },
   {
    "duration": 10,
    "start_time": "2022-01-14T14:52:26.262Z"
   },
   {
    "duration": 9,
    "start_time": "2022-01-14T14:52:28.472Z"
   },
   {
    "duration": 11,
    "start_time": "2022-01-14T14:52:31.444Z"
   },
   {
    "duration": 11,
    "start_time": "2022-01-14T14:52:39.448Z"
   },
   {
    "duration": 9,
    "start_time": "2022-01-14T14:52:42.069Z"
   },
   {
    "duration": 9,
    "start_time": "2022-01-14T14:52:45.599Z"
   },
   {
    "duration": 9,
    "start_time": "2022-01-14T14:52:48.028Z"
   },
   {
    "duration": 11,
    "start_time": "2022-01-14T14:52:51.644Z"
   },
   {
    "duration": 12,
    "start_time": "2022-01-14T14:53:07.142Z"
   },
   {
    "duration": 631,
    "start_time": "2022-01-14T14:53:13.336Z"
   },
   {
    "duration": 488,
    "start_time": "2022-01-14T14:53:47.251Z"
   },
   {
    "duration": 477,
    "start_time": "2022-01-14T14:54:51.725Z"
   },
   {
    "duration": 713,
    "start_time": "2022-01-14T14:54:55.187Z"
   },
   {
    "duration": 716,
    "start_time": "2022-01-14T14:55:11.691Z"
   },
   {
    "duration": 780,
    "start_time": "2022-01-14T14:55:56.779Z"
   },
   {
    "duration": 88,
    "start_time": "2022-01-14T14:55:57.561Z"
   },
   {
    "duration": 50,
    "start_time": "2022-01-14T14:55:57.652Z"
   },
   {
    "duration": 16,
    "start_time": "2022-01-14T14:55:57.704Z"
   },
   {
    "duration": 10,
    "start_time": "2022-01-14T14:55:57.722Z"
   },
   {
    "duration": 42,
    "start_time": "2022-01-14T14:55:57.734Z"
   },
   {
    "duration": 13,
    "start_time": "2022-01-14T14:55:57.778Z"
   },
   {
    "duration": 26381,
    "start_time": "2022-01-14T14:55:57.795Z"
   },
   {
    "duration": 12,
    "start_time": "2022-01-14T14:56:24.179Z"
   },
   {
    "duration": 14,
    "start_time": "2022-01-14T14:56:24.193Z"
   },
   {
    "duration": 61,
    "start_time": "2022-01-14T14:56:24.210Z"
   },
   {
    "duration": 24,
    "start_time": "2022-01-14T14:56:24.274Z"
   },
   {
    "duration": 9789,
    "start_time": "2022-01-14T14:56:24.301Z"
   },
   {
    "duration": 12,
    "start_time": "2022-01-14T14:56:34.092Z"
   },
   {
    "duration": 12,
    "start_time": "2022-01-14T14:56:34.106Z"
   },
   {
    "duration": 1074,
    "start_time": "2022-01-14T14:56:34.120Z"
   },
   {
    "duration": 13,
    "start_time": "2022-01-14T14:56:35.196Z"
   },
   {
    "duration": 34,
    "start_time": "2022-01-14T14:56:35.212Z"
   },
   {
    "duration": 523,
    "start_time": "2022-01-14T14:56:35.248Z"
   },
   {
    "duration": 796,
    "start_time": "2022-01-14T14:56:34.978Z"
   },
   {
    "duration": 792,
    "start_time": "2022-01-14T14:56:34.984Z"
   },
   {
    "duration": 790,
    "start_time": "2022-01-14T14:56:34.988Z"
   },
   {
    "duration": 787,
    "start_time": "2022-01-14T14:56:34.992Z"
   },
   {
    "duration": 776,
    "start_time": "2022-01-14T14:56:35.004Z"
   },
   {
    "duration": 773,
    "start_time": "2022-01-14T14:56:35.008Z"
   },
   {
    "duration": 771,
    "start_time": "2022-01-14T14:56:35.012Z"
   },
   {
    "duration": 768,
    "start_time": "2022-01-14T14:56:35.017Z"
   },
   {
    "duration": 765,
    "start_time": "2022-01-14T14:56:35.021Z"
   },
   {
    "duration": 762,
    "start_time": "2022-01-14T14:56:35.025Z"
   },
   {
    "duration": 761,
    "start_time": "2022-01-14T14:56:35.028Z"
   },
   {
    "duration": 757,
    "start_time": "2022-01-14T14:56:35.033Z"
   },
   {
    "duration": 753,
    "start_time": "2022-01-14T14:56:35.038Z"
   },
   {
    "duration": 751,
    "start_time": "2022-01-14T14:56:35.042Z"
   },
   {
    "duration": 749,
    "start_time": "2022-01-14T14:56:35.045Z"
   },
   {
    "duration": 746,
    "start_time": "2022-01-14T14:56:35.049Z"
   },
   {
    "duration": 5,
    "start_time": "2022-01-14T14:58:00.892Z"
   },
   {
    "duration": 105,
    "start_time": "2022-01-14T14:58:00.901Z"
   },
   {
    "duration": 62,
    "start_time": "2022-01-14T14:58:01.009Z"
   },
   {
    "duration": 23,
    "start_time": "2022-01-14T14:58:01.074Z"
   },
   {
    "duration": 12,
    "start_time": "2022-01-14T14:58:01.100Z"
   },
   {
    "duration": 37,
    "start_time": "2022-01-14T14:58:01.114Z"
   },
   {
    "duration": 32,
    "start_time": "2022-01-14T14:58:01.155Z"
   },
   {
    "duration": 23865,
    "start_time": "2022-01-14T14:58:01.190Z"
   },
   {
    "duration": 16,
    "start_time": "2022-01-14T14:58:25.057Z"
   },
   {
    "duration": 27,
    "start_time": "2022-01-14T14:58:25.075Z"
   },
   {
    "duration": 17,
    "start_time": "2022-01-14T14:58:25.105Z"
   },
   {
    "duration": 46,
    "start_time": "2022-01-14T14:58:25.125Z"
   },
   {
    "duration": 8112,
    "start_time": "2022-01-14T14:58:25.173Z"
   },
   {
    "duration": 12,
    "start_time": "2022-01-14T14:58:33.287Z"
   },
   {
    "duration": 11,
    "start_time": "2022-01-14T14:58:33.302Z"
   },
   {
    "duration": 905,
    "start_time": "2022-01-14T14:58:33.317Z"
   },
   {
    "duration": 14,
    "start_time": "2022-01-14T14:58:34.225Z"
   },
   {
    "duration": 35,
    "start_time": "2022-01-14T14:58:34.242Z"
   },
   {
    "duration": 331,
    "start_time": "2022-01-14T14:58:34.284Z"
   },
   {
    "duration": 798,
    "start_time": "2022-01-14T14:58:33.820Z"
   },
   {
    "duration": 795,
    "start_time": "2022-01-14T14:58:33.824Z"
   },
   {
    "duration": 793,
    "start_time": "2022-01-14T14:58:33.828Z"
   },
   {
    "duration": 789,
    "start_time": "2022-01-14T14:58:33.833Z"
   },
   {
    "duration": 787,
    "start_time": "2022-01-14T14:58:33.837Z"
   },
   {
    "duration": 785,
    "start_time": "2022-01-14T14:58:33.840Z"
   },
   {
    "duration": 782,
    "start_time": "2022-01-14T14:58:33.844Z"
   },
   {
    "duration": 779,
    "start_time": "2022-01-14T14:58:33.849Z"
   },
   {
    "duration": 776,
    "start_time": "2022-01-14T14:58:33.853Z"
   },
   {
    "duration": 773,
    "start_time": "2022-01-14T14:58:33.858Z"
   },
   {
    "duration": 771,
    "start_time": "2022-01-14T14:58:33.861Z"
   },
   {
    "duration": 769,
    "start_time": "2022-01-14T14:58:33.865Z"
   },
   {
    "duration": 766,
    "start_time": "2022-01-14T14:58:33.869Z"
   },
   {
    "duration": 764,
    "start_time": "2022-01-14T14:58:33.873Z"
   },
   {
    "duration": 762,
    "start_time": "2022-01-14T14:58:33.876Z"
   },
   {
    "duration": 875,
    "start_time": "2022-01-14T14:59:19.506Z"
   },
   {
    "duration": 723,
    "start_time": "2022-01-14T14:59:30.095Z"
   },
   {
    "duration": 579,
    "start_time": "2022-01-14T14:59:42.166Z"
   },
   {
    "duration": 537,
    "start_time": "2022-01-14T14:59:51.330Z"
   },
   {
    "duration": 1081,
    "start_time": "2022-01-14T14:59:55.969Z"
   },
   {
    "duration": 470,
    "start_time": "2022-01-14T15:00:02.656Z"
   },
   {
    "duration": 765,
    "start_time": "2022-01-14T15:00:55.605Z"
   },
   {
    "duration": 313,
    "start_time": "2022-01-14T15:01:03.181Z"
   },
   {
    "duration": 314,
    "start_time": "2022-01-14T15:01:09.314Z"
   },
   {
    "duration": 380,
    "start_time": "2022-01-14T15:01:22.935Z"
   },
   {
    "duration": 797,
    "start_time": "2022-01-14T15:05:59.426Z"
   },
   {
    "duration": 94,
    "start_time": "2022-01-14T15:06:00.226Z"
   },
   {
    "duration": 61,
    "start_time": "2022-01-14T15:06:00.323Z"
   },
   {
    "duration": 15,
    "start_time": "2022-01-14T15:06:00.386Z"
   },
   {
    "duration": 16,
    "start_time": "2022-01-14T15:06:00.404Z"
   },
   {
    "duration": 13,
    "start_time": "2022-01-14T15:06:00.422Z"
   },
   {
    "duration": 40,
    "start_time": "2022-01-14T15:06:00.438Z"
   },
   {
    "duration": 24474,
    "start_time": "2022-01-14T15:06:00.483Z"
   },
   {
    "duration": 17,
    "start_time": "2022-01-14T15:06:24.960Z"
   },
   {
    "duration": 16,
    "start_time": "2022-01-14T15:06:24.980Z"
   },
   {
    "duration": 17,
    "start_time": "2022-01-14T15:06:24.999Z"
   },
   {
    "duration": 48,
    "start_time": "2022-01-14T15:06:25.019Z"
   },
   {
    "duration": 8042,
    "start_time": "2022-01-14T15:06:25.070Z"
   },
   {
    "duration": 11,
    "start_time": "2022-01-14T15:06:33.115Z"
   },
   {
    "duration": 15,
    "start_time": "2022-01-14T15:06:33.128Z"
   },
   {
    "duration": 986,
    "start_time": "2022-01-14T15:06:33.145Z"
   },
   {
    "duration": 13,
    "start_time": "2022-01-14T15:06:34.134Z"
   },
   {
    "duration": 34,
    "start_time": "2022-01-14T15:06:34.149Z"
   },
   {
    "duration": 510,
    "start_time": "2022-01-14T15:06:34.186Z"
   },
   {
    "duration": 797,
    "start_time": "2022-01-14T15:06:33.904Z"
   },
   {
    "duration": 795,
    "start_time": "2022-01-14T15:06:33.907Z"
   },
   {
    "duration": 792,
    "start_time": "2022-01-14T15:06:33.911Z"
   },
   {
    "duration": 788,
    "start_time": "2022-01-14T15:06:33.917Z"
   },
   {
    "duration": 784,
    "start_time": "2022-01-14T15:06:33.922Z"
   },
   {
    "duration": 781,
    "start_time": "2022-01-14T15:06:33.926Z"
   },
   {
    "duration": 778,
    "start_time": "2022-01-14T15:06:33.931Z"
   },
   {
    "duration": 776,
    "start_time": "2022-01-14T15:06:33.935Z"
   },
   {
    "duration": 774,
    "start_time": "2022-01-14T15:06:33.939Z"
   },
   {
    "duration": 771,
    "start_time": "2022-01-14T15:06:33.943Z"
   },
   {
    "duration": 759,
    "start_time": "2022-01-14T15:06:33.957Z"
   },
   {
    "duration": 754,
    "start_time": "2022-01-14T15:06:33.963Z"
   },
   {
    "duration": 752,
    "start_time": "2022-01-14T15:06:33.967Z"
   },
   {
    "duration": 751,
    "start_time": "2022-01-14T15:06:33.970Z"
   },
   {
    "duration": 748,
    "start_time": "2022-01-14T15:06:33.974Z"
   },
   {
    "duration": 746,
    "start_time": "2022-01-14T15:06:33.978Z"
   },
   {
    "duration": 743,
    "start_time": "2022-01-14T15:06:33.982Z"
   },
   {
    "duration": 741,
    "start_time": "2022-01-14T15:06:33.986Z"
   },
   {
    "duration": 738,
    "start_time": "2022-01-14T15:06:33.990Z"
   },
   {
    "duration": 736,
    "start_time": "2022-01-14T15:06:33.993Z"
   },
   {
    "duration": 733,
    "start_time": "2022-01-14T15:06:33.998Z"
   },
   {
    "duration": 730,
    "start_time": "2022-01-14T15:06:34.002Z"
   },
   {
    "duration": 764,
    "start_time": "2022-01-14T15:06:34.005Z"
   },
   {
    "duration": 762,
    "start_time": "2022-01-14T15:06:34.009Z"
   },
   {
    "duration": 759,
    "start_time": "2022-01-14T15:06:34.013Z"
   },
   {
    "duration": 749,
    "start_time": "2022-01-14T15:06:34.025Z"
   },
   {
    "duration": 744,
    "start_time": "2022-01-14T15:06:34.031Z"
   },
   {
    "duration": 741,
    "start_time": "2022-01-14T15:06:34.036Z"
   },
   {
    "duration": 738,
    "start_time": "2022-01-14T15:06:34.040Z"
   },
   {
    "duration": 735,
    "start_time": "2022-01-14T15:06:34.044Z"
   },
   {
    "duration": 733,
    "start_time": "2022-01-14T15:06:34.048Z"
   },
   {
    "duration": 729,
    "start_time": "2022-01-14T15:06:34.053Z"
   },
   {
    "duration": 727,
    "start_time": "2022-01-14T15:06:34.056Z"
   },
   {
    "duration": 725,
    "start_time": "2022-01-14T15:06:34.060Z"
   },
   {
    "duration": 722,
    "start_time": "2022-01-14T15:06:34.065Z"
   },
   {
    "duration": 720,
    "start_time": "2022-01-14T15:06:34.069Z"
   },
   {
    "duration": 718,
    "start_time": "2022-01-14T15:06:34.072Z"
   },
   {
    "duration": 681,
    "start_time": "2022-01-14T15:06:34.111Z"
   },
   {
    "duration": 674,
    "start_time": "2022-01-14T15:06:34.119Z"
   },
   {
    "duration": 671,
    "start_time": "2022-01-14T15:06:34.124Z"
   },
   {
    "duration": 669,
    "start_time": "2022-01-14T15:06:34.127Z"
   },
   {
    "duration": 663,
    "start_time": "2022-01-14T15:06:34.135Z"
   },
   {
    "duration": 13,
    "start_time": "2022-01-14T15:07:03.160Z"
   },
   {
    "duration": 33,
    "start_time": "2022-01-14T15:07:07.344Z"
   },
   {
    "duration": 15,
    "start_time": "2022-01-14T15:07:07.773Z"
   },
   {
    "duration": 11,
    "start_time": "2022-01-14T15:07:10.350Z"
   },
   {
    "duration": 125,
    "start_time": "2022-01-14T15:07:11.083Z"
   },
   {
    "duration": 160,
    "start_time": "2022-01-14T15:07:11.822Z"
   },
   {
    "duration": 8,
    "start_time": "2022-01-14T15:07:12.524Z"
   },
   {
    "duration": 783,
    "start_time": "2022-01-14T15:07:13.349Z"
   },
   {
    "duration": 7,
    "start_time": "2022-01-14T15:07:14.285Z"
   },
   {
    "duration": 37,
    "start_time": "2022-01-14T15:07:16.849Z"
   },
   {
    "duration": 711,
    "start_time": "2022-01-14T15:07:19.356Z"
   },
   {
    "duration": 652,
    "start_time": "2022-01-14T15:07:20.070Z"
   },
   {
    "duration": 543,
    "start_time": "2022-01-14T15:07:23.094Z"
   },
   {
    "duration": 354,
    "start_time": "2022-01-14T15:07:27.228Z"
   },
   {
    "duration": 449,
    "start_time": "2022-01-14T15:07:29.329Z"
   },
   {
    "duration": 447,
    "start_time": "2022-01-14T15:07:29.966Z"
   },
   {
    "duration": 12,
    "start_time": "2022-01-14T15:07:33.940Z"
   },
   {
    "duration": 377,
    "start_time": "2022-01-14T15:07:35.993Z"
   },
   {
    "duration": 6,
    "start_time": "2022-01-14T15:07:40.557Z"
   },
   {
    "duration": 7,
    "start_time": "2022-01-14T15:07:41.545Z"
   },
   {
    "duration": 228,
    "start_time": "2022-01-14T15:09:09.225Z"
   },
   {
    "duration": 241,
    "start_time": "2022-01-14T15:09:13.252Z"
   },
   {
    "duration": 9,
    "start_time": "2022-01-14T15:09:17.160Z"
   },
   {
    "duration": 10,
    "start_time": "2022-01-14T15:09:18.165Z"
   },
   {
    "duration": 14,
    "start_time": "2022-01-14T15:09:21.018Z"
   },
   {
    "duration": 233,
    "start_time": "2022-01-14T15:09:22.803Z"
   },
   {
    "duration": 307,
    "start_time": "2022-01-14T15:09:26.164Z"
   },
   {
    "duration": 10,
    "start_time": "2022-01-14T15:09:32.048Z"
   },
   {
    "duration": 11,
    "start_time": "2022-01-14T15:09:34.767Z"
   },
   {
    "duration": 11,
    "start_time": "2022-01-14T15:09:36.640Z"
   },
   {
    "duration": 218,
    "start_time": "2022-01-14T15:09:39.659Z"
   },
   {
    "duration": 226,
    "start_time": "2022-01-14T15:09:46.538Z"
   },
   {
    "duration": 213,
    "start_time": "2022-01-14T15:09:53.202Z"
   },
   {
    "duration": 9,
    "start_time": "2022-01-14T15:09:59.001Z"
   },
   {
    "duration": 8,
    "start_time": "2022-01-14T15:10:01.408Z"
   },
   {
    "duration": 13,
    "start_time": "2022-01-14T15:10:03.360Z"
   },
   {
    "duration": 14,
    "start_time": "2022-01-14T15:10:06.196Z"
   },
   {
    "duration": 248,
    "start_time": "2022-01-14T15:10:09.107Z"
   },
   {
    "duration": 229,
    "start_time": "2022-01-14T15:10:11.046Z"
   },
   {
    "duration": 10,
    "start_time": "2022-01-14T15:10:42.164Z"
   },
   {
    "duration": 10,
    "start_time": "2022-01-14T15:10:43.637Z"
   },
   {
    "duration": 9,
    "start_time": "2022-01-14T15:10:51.272Z"
   },
   {
    "duration": 11,
    "start_time": "2022-01-14T15:11:03.599Z"
   },
   {
    "duration": 4,
    "start_time": "2022-01-14T15:11:09.119Z"
   },
   {
    "duration": 505,
    "start_time": "2022-01-15T08:52:40.278Z"
   },
   {
    "duration": 57,
    "start_time": "2022-01-15T08:52:40.784Z"
   },
   {
    "duration": 27,
    "start_time": "2022-01-15T08:52:40.842Z"
   },
   {
    "duration": 8,
    "start_time": "2022-01-15T08:52:40.871Z"
   },
   {
    "duration": 6,
    "start_time": "2022-01-15T08:52:40.880Z"
   },
   {
    "duration": 28,
    "start_time": "2022-01-15T08:52:40.887Z"
   },
   {
    "duration": 9,
    "start_time": "2022-01-15T08:52:40.916Z"
   },
   {
    "duration": 13760,
    "start_time": "2022-01-15T08:52:40.926Z"
   },
   {
    "duration": 7,
    "start_time": "2022-01-15T08:52:54.688Z"
   },
   {
    "duration": 16,
    "start_time": "2022-01-15T08:52:54.697Z"
   },
   {
    "duration": 11,
    "start_time": "2022-01-15T08:52:54.714Z"
   },
   {
    "duration": 9,
    "start_time": "2022-01-15T08:52:54.727Z"
   },
   {
    "duration": 4374,
    "start_time": "2022-01-15T08:52:54.737Z"
   },
   {
    "duration": 8,
    "start_time": "2022-01-15T08:52:59.112Z"
   },
   {
    "duration": 7,
    "start_time": "2022-01-15T08:52:59.121Z"
   },
   {
    "duration": 472,
    "start_time": "2022-01-15T08:52:59.129Z"
   },
   {
    "duration": 9,
    "start_time": "2022-01-15T08:52:59.603Z"
   },
   {
    "duration": 8,
    "start_time": "2022-01-15T08:52:59.614Z"
   },
   {
    "duration": 7,
    "start_time": "2022-01-15T08:52:59.623Z"
   },
   {
    "duration": 14,
    "start_time": "2022-01-15T08:52:59.631Z"
   },
   {
    "duration": 7,
    "start_time": "2022-01-15T08:52:59.646Z"
   },
   {
    "duration": 4,
    "start_time": "2022-01-15T08:52:59.654Z"
   },
   {
    "duration": 92,
    "start_time": "2022-01-15T08:52:59.659Z"
   },
   {
    "duration": 97,
    "start_time": "2022-01-15T08:52:59.752Z"
   },
   {
    "duration": 5,
    "start_time": "2022-01-15T08:52:59.850Z"
   },
   {
    "duration": 427,
    "start_time": "2022-01-15T08:52:59.857Z"
   },
   {
    "duration": 5,
    "start_time": "2022-01-15T08:53:00.287Z"
   },
   {
    "duration": 42,
    "start_time": "2022-01-15T08:53:00.293Z"
   },
   {
    "duration": 360,
    "start_time": "2022-01-15T08:53:00.336Z"
   },
   {
    "duration": 336,
    "start_time": "2022-01-15T08:53:00.697Z"
   },
   {
    "duration": 289,
    "start_time": "2022-01-15T08:53:01.034Z"
   },
   {
    "duration": 192,
    "start_time": "2022-01-15T08:53:01.324Z"
   },
   {
    "duration": 243,
    "start_time": "2022-01-15T08:53:01.518Z"
   },
   {
    "duration": 240,
    "start_time": "2022-01-15T08:53:01.763Z"
   },
   {
    "duration": 12,
    "start_time": "2022-01-15T08:53:02.005Z"
   },
   {
    "duration": 208,
    "start_time": "2022-01-15T08:53:02.019Z"
   },
   {
    "duration": 3,
    "start_time": "2022-01-15T08:53:02.229Z"
   },
   {
    "duration": 7,
    "start_time": "2022-01-15T08:53:02.233Z"
   },
   {
    "duration": 140,
    "start_time": "2022-01-15T08:53:02.241Z"
   },
   {
    "duration": 136,
    "start_time": "2022-01-15T08:53:02.382Z"
   },
   {
    "duration": 5,
    "start_time": "2022-01-15T08:53:02.520Z"
   },
   {
    "duration": 8,
    "start_time": "2022-01-15T08:53:02.526Z"
   },
   {
    "duration": 7,
    "start_time": "2022-01-15T08:53:02.535Z"
   },
   {
    "duration": 134,
    "start_time": "2022-01-15T08:53:02.544Z"
   },
   {
    "duration": 171,
    "start_time": "2022-01-15T08:53:02.680Z"
   },
   {
    "duration": 5,
    "start_time": "2022-01-15T08:53:02.853Z"
   },
   {
    "duration": 6,
    "start_time": "2022-01-15T08:53:02.860Z"
   },
   {
    "duration": 6,
    "start_time": "2022-01-15T08:53:02.868Z"
   },
   {
    "duration": 131,
    "start_time": "2022-01-15T08:53:02.875Z"
   },
   {
    "duration": 129,
    "start_time": "2022-01-15T08:53:03.007Z"
   },
   {
    "duration": 124,
    "start_time": "2022-01-15T08:53:03.137Z"
   },
   {
    "duration": 6,
    "start_time": "2022-01-15T08:53:03.262Z"
   },
   {
    "duration": 18,
    "start_time": "2022-01-15T08:53:03.269Z"
   },
   {
    "duration": 18,
    "start_time": "2022-01-15T08:53:03.288Z"
   },
   {
    "duration": 10,
    "start_time": "2022-01-15T08:53:03.307Z"
   },
   {
    "duration": 128,
    "start_time": "2022-01-15T08:53:03.318Z"
   },
   {
    "duration": 6,
    "start_time": "2022-01-15T08:53:03.448Z"
   },
   {
    "duration": 7,
    "start_time": "2022-01-15T08:53:03.455Z"
   },
   {
    "duration": 8,
    "start_time": "2022-01-15T08:53:03.463Z"
   },
   {
    "duration": 8,
    "start_time": "2022-01-15T09:09:45.019Z"
   },
   {
    "duration": 7,
    "start_time": "2022-01-15T09:11:45.472Z"
   },
   {
    "duration": 4,
    "start_time": "2022-01-15T09:15:37.310Z"
   },
   {
    "duration": 4,
    "start_time": "2022-01-15T09:16:14.446Z"
   },
   {
    "duration": 24,
    "start_time": "2022-01-15T11:51:46.512Z"
   },
   {
    "duration": 290,
    "start_time": "2022-01-15T12:03:05.963Z"
   },
   {
    "duration": 270,
    "start_time": "2022-01-15T12:03:33.180Z"
   },
   {
    "duration": 15,
    "start_time": "2022-01-15T12:03:52.610Z"
   },
   {
    "duration": 9,
    "start_time": "2022-01-15T12:04:28.998Z"
   },
   {
    "duration": 26,
    "start_time": "2022-01-15T12:07:22.535Z"
   },
   {
    "duration": 348,
    "start_time": "2022-01-15T12:12:22.444Z"
   },
   {
    "duration": 337,
    "start_time": "2022-01-15T12:13:18.711Z"
   },
   {
    "duration": 343,
    "start_time": "2022-01-15T12:13:42.288Z"
   },
   {
    "duration": 342,
    "start_time": "2022-01-15T12:13:57.978Z"
   },
   {
    "duration": 88,
    "start_time": "2022-01-15T12:19:56.840Z"
   },
   {
    "duration": 25,
    "start_time": "2022-01-15T12:20:19.415Z"
   },
   {
    "duration": 494,
    "start_time": "2022-01-15T12:21:09.562Z"
   },
   {
    "duration": 26,
    "start_time": "2022-01-15T12:21:38.081Z"
   },
   {
    "duration": 22,
    "start_time": "2022-01-15T12:21:44.515Z"
   },
   {
    "duration": 81,
    "start_time": "2022-01-15T12:22:36.839Z"
   },
   {
    "duration": 88,
    "start_time": "2022-01-15T12:22:53.525Z"
   },
   {
    "duration": 593,
    "start_time": "2022-01-15T12:23:41.917Z"
   },
   {
    "duration": 21,
    "start_time": "2022-01-15T12:23:50.109Z"
   },
   {
    "duration": 632,
    "start_time": "2022-01-15T12:24:00.905Z"
   },
   {
    "duration": 41,
    "start_time": "2022-01-15T12:24:52.445Z"
   },
   {
    "duration": 43,
    "start_time": "2022-01-15T12:25:01.083Z"
   },
   {
    "duration": 48,
    "start_time": "2022-01-15T12:25:12.688Z"
   },
   {
    "duration": 21,
    "start_time": "2022-01-15T12:26:47.646Z"
   },
   {
    "duration": 24,
    "start_time": "2022-01-15T12:27:23.007Z"
   },
   {
    "duration": 23,
    "start_time": "2022-01-15T12:27:25.232Z"
   },
   {
    "duration": 22,
    "start_time": "2022-01-15T12:27:29.107Z"
   },
   {
    "duration": 82,
    "start_time": "2022-01-15T12:28:08.576Z"
   },
   {
    "duration": 24,
    "start_time": "2022-01-15T12:28:40.903Z"
   },
   {
    "duration": 563,
    "start_time": "2022-01-15T12:34:37.393Z"
   },
   {
    "duration": 62,
    "start_time": "2022-01-15T12:34:37.958Z"
   },
   {
    "duration": 28,
    "start_time": "2022-01-15T12:34:38.021Z"
   },
   {
    "duration": 9,
    "start_time": "2022-01-15T12:34:38.050Z"
   },
   {
    "duration": 6,
    "start_time": "2022-01-15T12:34:38.061Z"
   },
   {
    "duration": 7,
    "start_time": "2022-01-15T12:34:38.069Z"
   },
   {
    "duration": 6,
    "start_time": "2022-01-15T12:34:38.112Z"
   },
   {
    "duration": 13611,
    "start_time": "2022-01-15T12:34:38.121Z"
   },
   {
    "duration": 7,
    "start_time": "2022-01-15T12:34:51.733Z"
   },
   {
    "duration": 8,
    "start_time": "2022-01-15T12:34:51.742Z"
   },
   {
    "duration": 9,
    "start_time": "2022-01-15T12:34:51.751Z"
   },
   {
    "duration": 8,
    "start_time": "2022-01-15T12:34:51.762Z"
   },
   {
    "duration": 4384,
    "start_time": "2022-01-15T12:34:51.772Z"
   },
   {
    "duration": 7,
    "start_time": "2022-01-15T12:34:56.157Z"
   },
   {
    "duration": 7,
    "start_time": "2022-01-15T12:34:56.166Z"
   },
   {
    "duration": 473,
    "start_time": "2022-01-15T12:34:56.174Z"
   },
   {
    "duration": 7,
    "start_time": "2022-01-15T12:34:56.649Z"
   },
   {
    "duration": 8,
    "start_time": "2022-01-15T12:34:56.657Z"
   },
   {
    "duration": 6,
    "start_time": "2022-01-15T12:34:56.666Z"
   },
   {
    "duration": 12,
    "start_time": "2022-01-15T12:34:56.673Z"
   },
   {
    "duration": 7,
    "start_time": "2022-01-15T12:34:56.712Z"
   },
   {
    "duration": 6,
    "start_time": "2022-01-15T12:34:56.720Z"
   },
   {
    "duration": 65,
    "start_time": "2022-01-15T12:34:56.729Z"
   },
   {
    "duration": 104,
    "start_time": "2022-01-15T12:34:56.813Z"
   },
   {
    "duration": 4,
    "start_time": "2022-01-15T12:34:56.919Z"
   },
   {
    "duration": 406,
    "start_time": "2022-01-15T12:34:56.925Z"
   },
   {
    "duration": 4,
    "start_time": "2022-01-15T12:34:57.333Z"
   },
   {
    "duration": 23,
    "start_time": "2022-01-15T12:34:57.338Z"
   },
   {
    "duration": 373,
    "start_time": "2022-01-15T12:34:57.363Z"
   },
   {
    "duration": 342,
    "start_time": "2022-01-15T12:34:57.737Z"
   },
   {
    "duration": 288,
    "start_time": "2022-01-15T12:34:58.081Z"
   },
   {
    "duration": 189,
    "start_time": "2022-01-15T12:34:58.371Z"
   },
   {
    "duration": 237,
    "start_time": "2022-01-15T12:34:58.562Z"
   },
   {
    "duration": 231,
    "start_time": "2022-01-15T12:34:58.800Z"
   },
   {
    "duration": 7,
    "start_time": "2022-01-15T12:34:59.033Z"
   },
   {
    "duration": 208,
    "start_time": "2022-01-15T12:34:59.041Z"
   },
   {
    "duration": 4,
    "start_time": "2022-01-15T12:34:59.250Z"
   },
   {
    "duration": 7,
    "start_time": "2022-01-15T12:34:59.255Z"
   },
   {
    "duration": 145,
    "start_time": "2022-01-15T12:34:59.263Z"
   },
   {
    "duration": 131,
    "start_time": "2022-01-15T12:34:59.412Z"
   },
   {
    "duration": 5,
    "start_time": "2022-01-15T12:34:59.545Z"
   },
   {
    "duration": 8,
    "start_time": "2022-01-15T12:34:59.552Z"
   },
   {
    "duration": 9,
    "start_time": "2022-01-15T12:34:59.561Z"
   },
   {
    "duration": 143,
    "start_time": "2022-01-15T12:34:59.571Z"
   },
   {
    "duration": 181,
    "start_time": "2022-01-15T12:34:59.716Z"
   },
   {
    "duration": 16,
    "start_time": "2022-01-15T12:34:59.899Z"
   },
   {
    "duration": 7,
    "start_time": "2022-01-15T12:34:59.917Z"
   },
   {
    "duration": 8,
    "start_time": "2022-01-15T12:34:59.926Z"
   },
   {
    "duration": 157,
    "start_time": "2022-01-15T12:34:59.935Z"
   },
   {
    "duration": 138,
    "start_time": "2022-01-15T12:35:00.093Z"
   },
   {
    "duration": 137,
    "start_time": "2022-01-15T12:35:00.233Z"
   },
   {
    "duration": 7,
    "start_time": "2022-01-15T12:35:00.371Z"
   },
   {
    "duration": 11,
    "start_time": "2022-01-15T12:35:00.379Z"
   },
   {
    "duration": 11,
    "start_time": "2022-01-15T12:35:00.392Z"
   },
   {
    "duration": 7,
    "start_time": "2022-01-15T12:35:00.412Z"
   },
   {
    "duration": 144,
    "start_time": "2022-01-15T12:35:00.420Z"
   },
   {
    "duration": 7,
    "start_time": "2022-01-15T12:35:00.565Z"
   },
   {
    "duration": 20,
    "start_time": "2022-01-15T12:35:00.573Z"
   },
   {
    "duration": 13,
    "start_time": "2022-01-15T12:35:00.595Z"
   },
   {
    "duration": 19,
    "start_time": "2022-01-15T12:35:00.612Z"
   },
   {
    "duration": 27,
    "start_time": "2022-01-15T12:35:00.633Z"
   },
   {
    "duration": 25,
    "start_time": "2022-01-15T12:36:23.471Z"
   },
   {
    "duration": 23,
    "start_time": "2022-01-15T12:37:01.811Z"
   },
   {
    "duration": 25,
    "start_time": "2022-01-15T12:37:06.740Z"
   },
   {
    "duration": 596,
    "start_time": "2022-01-15T12:37:54.500Z"
   },
   {
    "duration": 67,
    "start_time": "2022-01-15T12:37:55.097Z"
   },
   {
    "duration": 31,
    "start_time": "2022-01-15T12:37:55.166Z"
   },
   {
    "duration": 10,
    "start_time": "2022-01-15T12:37:55.211Z"
   },
   {
    "duration": 7,
    "start_time": "2022-01-15T12:37:55.223Z"
   },
   {
    "duration": 8,
    "start_time": "2022-01-15T12:37:55.232Z"
   },
   {
    "duration": 12,
    "start_time": "2022-01-15T12:37:55.241Z"
   },
   {
    "duration": 14221,
    "start_time": "2022-01-15T12:37:55.255Z"
   },
   {
    "duration": 7,
    "start_time": "2022-01-15T12:38:09.478Z"
   },
   {
    "duration": 8,
    "start_time": "2022-01-15T12:38:09.486Z"
   },
   {
    "duration": 23,
    "start_time": "2022-01-15T12:38:09.496Z"
   },
   {
    "duration": 9,
    "start_time": "2022-01-15T12:38:09.521Z"
   },
   {
    "duration": 4329,
    "start_time": "2022-01-15T12:38:09.531Z"
   },
   {
    "duration": 7,
    "start_time": "2022-01-15T12:38:13.862Z"
   },
   {
    "duration": 8,
    "start_time": "2022-01-15T12:38:13.870Z"
   },
   {
    "duration": 477,
    "start_time": "2022-01-15T12:38:13.879Z"
   },
   {
    "duration": 7,
    "start_time": "2022-01-15T12:38:14.357Z"
   },
   {
    "duration": 9,
    "start_time": "2022-01-15T12:38:14.366Z"
   },
   {
    "duration": 8,
    "start_time": "2022-01-15T12:38:14.376Z"
   },
   {
    "duration": 33,
    "start_time": "2022-01-15T12:38:14.385Z"
   },
   {
    "duration": 9,
    "start_time": "2022-01-15T12:38:14.420Z"
   },
   {
    "duration": 5,
    "start_time": "2022-01-15T12:38:14.430Z"
   },
   {
    "duration": 90,
    "start_time": "2022-01-15T12:38:14.438Z"
   },
   {
    "duration": 99,
    "start_time": "2022-01-15T12:38:14.530Z"
   },
   {
    "duration": 5,
    "start_time": "2022-01-15T12:38:14.630Z"
   },
   {
    "duration": 410,
    "start_time": "2022-01-15T12:38:14.637Z"
   },
   {
    "duration": 6,
    "start_time": "2022-01-15T12:38:15.048Z"
   },
   {
    "duration": 25,
    "start_time": "2022-01-15T12:38:15.055Z"
   },
   {
    "duration": 381,
    "start_time": "2022-01-15T12:38:15.081Z"
   },
   {
    "duration": 337,
    "start_time": "2022-01-15T12:38:15.463Z"
   },
   {
    "duration": 294,
    "start_time": "2022-01-15T12:38:15.801Z"
   },
   {
    "duration": 190,
    "start_time": "2022-01-15T12:38:16.097Z"
   },
   {
    "duration": 249,
    "start_time": "2022-01-15T12:38:16.288Z"
   },
   {
    "duration": 234,
    "start_time": "2022-01-15T12:38:16.539Z"
   },
   {
    "duration": 10,
    "start_time": "2022-01-15T12:38:16.775Z"
   },
   {
    "duration": 216,
    "start_time": "2022-01-15T12:38:16.787Z"
   },
   {
    "duration": 4,
    "start_time": "2022-01-15T12:38:17.005Z"
   },
   {
    "duration": 4,
    "start_time": "2022-01-15T12:38:17.013Z"
   },
   {
    "duration": 161,
    "start_time": "2022-01-15T12:38:17.019Z"
   },
   {
    "duration": 134,
    "start_time": "2022-01-15T12:38:17.182Z"
   },
   {
    "duration": 6,
    "start_time": "2022-01-15T12:38:17.317Z"
   },
   {
    "duration": 8,
    "start_time": "2022-01-15T12:38:17.324Z"
   },
   {
    "duration": 7,
    "start_time": "2022-01-15T12:38:17.334Z"
   },
   {
    "duration": 148,
    "start_time": "2022-01-15T12:38:17.342Z"
   },
   {
    "duration": 186,
    "start_time": "2022-01-15T12:38:17.492Z"
   },
   {
    "duration": 6,
    "start_time": "2022-01-15T12:38:17.679Z"
   },
   {
    "duration": 7,
    "start_time": "2022-01-15T12:38:17.686Z"
   },
   {
    "duration": 6,
    "start_time": "2022-01-15T12:38:17.712Z"
   },
   {
    "duration": 128,
    "start_time": "2022-01-15T12:38:17.719Z"
   },
   {
    "duration": 127,
    "start_time": "2022-01-15T12:38:17.849Z"
   },
   {
    "duration": 120,
    "start_time": "2022-01-15T12:38:17.977Z"
   },
   {
    "duration": 18,
    "start_time": "2022-01-15T12:38:18.099Z"
   },
   {
    "duration": 6,
    "start_time": "2022-01-15T12:38:18.119Z"
   },
   {
    "duration": 7,
    "start_time": "2022-01-15T12:38:18.127Z"
   },
   {
    "duration": 8,
    "start_time": "2022-01-15T12:38:18.136Z"
   },
   {
    "duration": 168,
    "start_time": "2022-01-15T12:38:18.146Z"
   },
   {
    "duration": 8,
    "start_time": "2022-01-15T12:38:18.316Z"
   },
   {
    "duration": 8,
    "start_time": "2022-01-15T12:38:18.325Z"
   },
   {
    "duration": 6,
    "start_time": "2022-01-15T12:38:18.335Z"
   },
   {
    "duration": 4,
    "start_time": "2022-01-15T12:38:18.343Z"
   },
   {
    "duration": 26,
    "start_time": "2022-01-15T12:38:45.640Z"
   },
   {
    "duration": 12,
    "start_time": "2022-01-15T12:39:07.876Z"
   },
   {
    "duration": 11,
    "start_time": "2022-01-15T12:39:10.465Z"
   },
   {
    "duration": 215,
    "start_time": "2022-01-15T12:39:59.325Z"
   },
   {
    "duration": 78,
    "start_time": "2022-01-15T12:40:06.783Z"
   },
   {
    "duration": 282,
    "start_time": "2022-01-15T12:40:19.624Z"
   },
   {
    "duration": 12,
    "start_time": "2022-01-15T12:40:28.948Z"
   },
   {
    "duration": 11,
    "start_time": "2022-01-15T12:40:37.173Z"
   },
   {
    "duration": 8,
    "start_time": "2022-01-15T12:40:55.297Z"
   },
   {
    "duration": 11,
    "start_time": "2022-01-15T12:41:22.539Z"
   },
   {
    "duration": 9,
    "start_time": "2022-01-15T12:41:23.329Z"
   },
   {
    "duration": 1606,
    "start_time": "2022-01-15T12:42:26.639Z"
   },
   {
    "duration": 39,
    "start_time": "2022-01-15T12:44:01.636Z"
   },
   {
    "duration": 10,
    "start_time": "2022-01-15T12:44:04.133Z"
   },
   {
    "duration": 9,
    "start_time": "2022-01-15T12:44:04.857Z"
   },
   {
    "duration": 542,
    "start_time": "2022-01-15T12:44:45.238Z"
   },
   {
    "duration": 61,
    "start_time": "2022-01-15T12:44:45.781Z"
   },
   {
    "duration": 29,
    "start_time": "2022-01-15T12:44:45.844Z"
   },
   {
    "duration": 9,
    "start_time": "2022-01-15T12:44:45.874Z"
   },
   {
    "duration": 30,
    "start_time": "2022-01-15T12:44:45.885Z"
   },
   {
    "duration": 7,
    "start_time": "2022-01-15T12:44:45.917Z"
   },
   {
    "duration": 10,
    "start_time": "2022-01-15T12:44:45.925Z"
   },
   {
    "duration": 14115,
    "start_time": "2022-01-15T12:44:45.937Z"
   },
   {
    "duration": 7,
    "start_time": "2022-01-15T12:45:00.054Z"
   },
   {
    "duration": 15,
    "start_time": "2022-01-15T12:45:00.062Z"
   },
   {
    "duration": 10,
    "start_time": "2022-01-15T12:45:00.078Z"
   },
   {
    "duration": 30,
    "start_time": "2022-01-15T12:45:00.090Z"
   },
   {
    "duration": 4334,
    "start_time": "2022-01-15T12:45:00.122Z"
   },
   {
    "duration": 7,
    "start_time": "2022-01-15T12:45:04.457Z"
   },
   {
    "duration": 7,
    "start_time": "2022-01-15T12:45:04.465Z"
   },
   {
    "duration": 482,
    "start_time": "2022-01-15T12:45:04.474Z"
   },
   {
    "duration": 6,
    "start_time": "2022-01-15T12:45:04.958Z"
   },
   {
    "duration": 8,
    "start_time": "2022-01-15T12:45:04.966Z"
   },
   {
    "duration": 6,
    "start_time": "2022-01-15T12:45:04.975Z"
   },
   {
    "duration": 37,
    "start_time": "2022-01-15T12:45:04.983Z"
   },
   {
    "duration": 7,
    "start_time": "2022-01-15T12:45:05.021Z"
   },
   {
    "duration": 5,
    "start_time": "2022-01-15T12:45:05.030Z"
   },
   {
    "duration": 93,
    "start_time": "2022-01-15T12:45:05.038Z"
   },
   {
    "duration": 108,
    "start_time": "2022-01-15T12:45:05.133Z"
   },
   {
    "duration": 5,
    "start_time": "2022-01-15T12:45:05.243Z"
   },
   {
    "duration": 413,
    "start_time": "2022-01-15T12:45:05.249Z"
   },
   {
    "duration": 4,
    "start_time": "2022-01-15T12:45:05.664Z"
   },
   {
    "duration": 22,
    "start_time": "2022-01-15T12:45:05.670Z"
   },
   {
    "duration": 387,
    "start_time": "2022-01-15T12:45:05.693Z"
   },
   {
    "duration": 344,
    "start_time": "2022-01-15T12:45:06.081Z"
   },
   {
    "duration": 295,
    "start_time": "2022-01-15T12:45:06.426Z"
   },
   {
    "duration": 199,
    "start_time": "2022-01-15T12:45:06.723Z"
   },
   {
    "duration": 252,
    "start_time": "2022-01-15T12:45:06.923Z"
   },
   {
    "duration": 242,
    "start_time": "2022-01-15T12:45:07.176Z"
   },
   {
    "duration": 9,
    "start_time": "2022-01-15T12:45:07.420Z"
   },
   {
    "duration": 225,
    "start_time": "2022-01-15T12:45:07.431Z"
   },
   {
    "duration": 4,
    "start_time": "2022-01-15T12:45:07.658Z"
   },
   {
    "duration": 5,
    "start_time": "2022-01-15T12:45:07.664Z"
   },
   {
    "duration": 158,
    "start_time": "2022-01-15T12:45:07.671Z"
   },
   {
    "duration": 137,
    "start_time": "2022-01-15T12:45:07.831Z"
   },
   {
    "duration": 5,
    "start_time": "2022-01-15T12:45:07.970Z"
   },
   {
    "duration": 5,
    "start_time": "2022-01-15T12:45:07.977Z"
   },
   {
    "duration": 7,
    "start_time": "2022-01-15T12:45:07.983Z"
   },
   {
    "duration": 151,
    "start_time": "2022-01-15T12:45:07.992Z"
   },
   {
    "duration": 186,
    "start_time": "2022-01-15T12:45:08.145Z"
   },
   {
    "duration": 6,
    "start_time": "2022-01-15T12:45:08.332Z"
   },
   {
    "duration": 6,
    "start_time": "2022-01-15T12:45:08.339Z"
   },
   {
    "duration": 7,
    "start_time": "2022-01-15T12:45:08.346Z"
   },
   {
    "duration": 176,
    "start_time": "2022-01-15T12:45:08.355Z"
   },
   {
    "duration": 136,
    "start_time": "2022-01-15T12:45:08.533Z"
   },
   {
    "duration": 123,
    "start_time": "2022-01-15T12:45:08.670Z"
   },
   {
    "duration": 7,
    "start_time": "2022-01-15T12:45:08.794Z"
   },
   {
    "duration": 13,
    "start_time": "2022-01-15T12:45:08.802Z"
   },
   {
    "duration": 8,
    "start_time": "2022-01-15T12:45:08.816Z"
   },
   {
    "duration": 6,
    "start_time": "2022-01-15T12:45:08.825Z"
   },
   {
    "duration": 148,
    "start_time": "2022-01-15T12:45:08.832Z"
   },
   {
    "duration": 6,
    "start_time": "2022-01-15T12:45:08.981Z"
   },
   {
    "duration": 23,
    "start_time": "2022-01-15T12:45:08.989Z"
   },
   {
    "duration": 6,
    "start_time": "2022-01-15T12:45:09.013Z"
   },
   {
    "duration": 7,
    "start_time": "2022-01-15T12:45:09.020Z"
   },
   {
    "duration": 40,
    "start_time": "2022-01-15T12:45:27.753Z"
   },
   {
    "duration": 10,
    "start_time": "2022-01-15T12:45:29.400Z"
   },
   {
    "duration": 10,
    "start_time": "2022-01-15T12:45:30.619Z"
   },
   {
    "duration": 1529,
    "start_time": "2022-01-15T12:45:41.868Z"
   },
   {
    "duration": 9,
    "start_time": "2022-01-15T12:46:16.466Z"
   },
   {
    "duration": 550,
    "start_time": "2022-01-15T12:46:47.319Z"
   },
   {
    "duration": 61,
    "start_time": "2022-01-15T12:46:47.870Z"
   },
   {
    "duration": 29,
    "start_time": "2022-01-15T12:46:47.933Z"
   },
   {
    "duration": 11,
    "start_time": "2022-01-15T12:46:47.965Z"
   },
   {
    "duration": 35,
    "start_time": "2022-01-15T12:46:47.977Z"
   },
   {
    "duration": 7,
    "start_time": "2022-01-15T12:46:48.014Z"
   },
   {
    "duration": 9,
    "start_time": "2022-01-15T12:46:48.023Z"
   },
   {
    "duration": 13965,
    "start_time": "2022-01-15T12:46:48.035Z"
   },
   {
    "duration": 7,
    "start_time": "2022-01-15T12:47:02.002Z"
   },
   {
    "duration": 9,
    "start_time": "2022-01-15T12:47:02.012Z"
   },
   {
    "duration": 17,
    "start_time": "2022-01-15T12:47:02.022Z"
   },
   {
    "duration": 11,
    "start_time": "2022-01-15T12:47:02.040Z"
   },
   {
    "duration": 4327,
    "start_time": "2022-01-15T12:47:02.052Z"
   },
   {
    "duration": 7,
    "start_time": "2022-01-15T12:47:06.380Z"
   },
   {
    "duration": 23,
    "start_time": "2022-01-15T12:47:06.389Z"
   },
   {
    "duration": 464,
    "start_time": "2022-01-15T12:47:06.413Z"
   },
   {
    "duration": 8,
    "start_time": "2022-01-15T12:47:06.878Z"
   },
   {
    "duration": 8,
    "start_time": "2022-01-15T12:47:06.887Z"
   },
   {
    "duration": 5,
    "start_time": "2022-01-15T12:47:06.912Z"
   },
   {
    "duration": 12,
    "start_time": "2022-01-15T12:47:06.918Z"
   },
   {
    "duration": 7,
    "start_time": "2022-01-15T12:47:06.932Z"
   },
   {
    "duration": 4,
    "start_time": "2022-01-15T12:47:06.940Z"
   },
   {
    "duration": 101,
    "start_time": "2022-01-15T12:47:06.947Z"
   },
   {
    "duration": 106,
    "start_time": "2022-01-15T12:47:07.050Z"
   },
   {
    "duration": 5,
    "start_time": "2022-01-15T12:47:07.157Z"
   },
   {
    "duration": 417,
    "start_time": "2022-01-15T12:47:07.163Z"
   },
   {
    "duration": 5,
    "start_time": "2022-01-15T12:47:07.581Z"
   },
   {
    "duration": 32,
    "start_time": "2022-01-15T12:47:07.587Z"
   },
   {
    "duration": 374,
    "start_time": "2022-01-15T12:47:07.621Z"
   },
   {
    "duration": 344,
    "start_time": "2022-01-15T12:47:07.997Z"
   },
   {
    "duration": 327,
    "start_time": "2022-01-15T12:47:08.343Z"
   },
   {
    "duration": 199,
    "start_time": "2022-01-15T12:47:08.672Z"
   },
   {
    "duration": 246,
    "start_time": "2022-01-15T12:47:08.873Z"
   },
   {
    "duration": 240,
    "start_time": "2022-01-15T12:47:09.121Z"
   },
   {
    "duration": 9,
    "start_time": "2022-01-15T12:47:09.363Z"
   },
   {
    "duration": 220,
    "start_time": "2022-01-15T12:47:09.374Z"
   },
   {
    "duration": 4,
    "start_time": "2022-01-15T12:47:09.596Z"
   },
   {
    "duration": 5,
    "start_time": "2022-01-15T12:47:09.612Z"
   },
   {
    "duration": 153,
    "start_time": "2022-01-15T12:47:09.618Z"
   },
   {
    "duration": 139,
    "start_time": "2022-01-15T12:47:09.773Z"
   },
   {
    "duration": 8,
    "start_time": "2022-01-15T12:47:09.913Z"
   },
   {
    "duration": 6,
    "start_time": "2022-01-15T12:47:09.923Z"
   },
   {
    "duration": 8,
    "start_time": "2022-01-15T12:47:09.931Z"
   },
   {
    "duration": 159,
    "start_time": "2022-01-15T12:47:09.941Z"
   },
   {
    "duration": 175,
    "start_time": "2022-01-15T12:47:10.102Z"
   },
   {
    "duration": 6,
    "start_time": "2022-01-15T12:47:10.279Z"
   },
   {
    "duration": 5,
    "start_time": "2022-01-15T12:47:10.287Z"
   },
   {
    "duration": 6,
    "start_time": "2022-01-15T12:47:10.312Z"
   },
   {
    "duration": 128,
    "start_time": "2022-01-15T12:47:10.320Z"
   },
   {
    "duration": 127,
    "start_time": "2022-01-15T12:47:10.450Z"
   },
   {
    "duration": 123,
    "start_time": "2022-01-15T12:47:10.578Z"
   },
   {
    "duration": 12,
    "start_time": "2022-01-15T12:47:10.702Z"
   },
   {
    "duration": 5,
    "start_time": "2022-01-15T12:47:10.716Z"
   },
   {
    "duration": 7,
    "start_time": "2022-01-15T12:47:10.722Z"
   },
   {
    "duration": 7,
    "start_time": "2022-01-15T12:47:10.730Z"
   },
   {
    "duration": 157,
    "start_time": "2022-01-15T12:47:10.738Z"
   },
   {
    "duration": 6,
    "start_time": "2022-01-15T12:47:10.896Z"
   },
   {
    "duration": 16,
    "start_time": "2022-01-15T12:47:10.903Z"
   },
   {
    "duration": 6,
    "start_time": "2022-01-15T12:47:10.920Z"
   },
   {
    "duration": 6,
    "start_time": "2022-01-15T12:47:10.927Z"
   },
   {
    "duration": 12,
    "start_time": "2022-01-15T12:47:14.471Z"
   },
   {
    "duration": 11,
    "start_time": "2022-01-15T12:47:15.837Z"
   },
   {
    "duration": 9,
    "start_time": "2022-01-15T12:47:16.466Z"
   },
   {
    "duration": 19,
    "start_time": "2022-01-15T12:49:59.236Z"
   },
   {
    "duration": 13,
    "start_time": "2022-01-15T12:50:36.550Z"
   },
   {
    "duration": 1630,
    "start_time": "2022-01-15T12:50:58.693Z"
   },
   {
    "duration": 290,
    "start_time": "2022-01-15T12:57:49.311Z"
   },
   {
    "duration": 16,
    "start_time": "2022-01-15T12:58:39.200Z"
   },
   {
    "duration": 8,
    "start_time": "2022-01-15T13:09:16.380Z"
   },
   {
    "duration": 4,
    "start_time": "2022-01-15T13:48:19.342Z"
   },
   {
    "duration": 10,
    "start_time": "2022-01-15T13:48:33.190Z"
   },
   {
    "duration": 4,
    "start_time": "2022-01-15T13:49:26.254Z"
   },
   {
    "duration": 10,
    "start_time": "2022-01-15T13:49:27.190Z"
   },
   {
    "duration": 18,
    "start_time": "2022-01-15T13:51:49.369Z"
   },
   {
    "duration": 10,
    "start_time": "2022-01-15T13:51:53.234Z"
   },
   {
    "duration": 6031,
    "start_time": "2022-01-15T13:52:14.269Z"
   },
   {
    "duration": 17,
    "start_time": "2022-01-15T13:53:07.147Z"
   },
   {
    "duration": 11,
    "start_time": "2022-01-15T13:53:09.501Z"
   },
   {
    "duration": 6030,
    "start_time": "2022-01-15T13:53:14.278Z"
   },
   {
    "duration": 235,
    "start_time": "2022-01-15T13:58:01.251Z"
   },
   {
    "duration": 16,
    "start_time": "2022-01-15T13:58:08.073Z"
   },
   {
    "duration": 10,
    "start_time": "2022-01-15T13:58:09.779Z"
   },
   {
    "duration": 6379,
    "start_time": "2022-01-15T13:58:10.274Z"
   },
   {
    "duration": 6005,
    "start_time": "2022-01-15T13:58:23.441Z"
   },
   {
    "duration": 6227,
    "start_time": "2022-01-15T14:08:20.264Z"
   },
   {
    "duration": 809,
    "start_time": "2022-01-15T14:28:31.480Z"
   },
   {
    "duration": 5,
    "start_time": "2022-01-15T14:37:03.292Z"
   },
   {
    "duration": 5891,
    "start_time": "2022-01-15T14:39:00.620Z"
   },
   {
    "duration": 236,
    "start_time": "2022-01-15T14:39:25.788Z"
   },
   {
    "duration": 8,
    "start_time": "2022-01-15T14:40:22.732Z"
   },
   {
    "duration": 13,
    "start_time": "2022-01-15T14:42:24.329Z"
   },
   {
    "duration": 271,
    "start_time": "2022-01-15T14:44:11.461Z"
   },
   {
    "duration": 523,
    "start_time": "2022-01-15T14:50:16.469Z"
   },
   {
    "duration": 66,
    "start_time": "2022-01-15T14:50:18.175Z"
   },
   {
    "duration": 31,
    "start_time": "2022-01-15T14:50:19.140Z"
   },
   {
    "duration": 10,
    "start_time": "2022-01-15T14:50:20.483Z"
   },
   {
    "duration": 8,
    "start_time": "2022-01-15T14:50:24.429Z"
   },
   {
    "duration": 8,
    "start_time": "2022-01-15T14:50:25.412Z"
   },
   {
    "duration": 7,
    "start_time": "2022-01-15T14:50:27.520Z"
   },
   {
    "duration": 13890,
    "start_time": "2022-01-15T14:50:31.465Z"
   },
   {
    "duration": 6,
    "start_time": "2022-01-15T14:50:45.357Z"
   },
   {
    "duration": 7,
    "start_time": "2022-01-15T14:50:45.365Z"
   },
   {
    "duration": 11,
    "start_time": "2022-01-15T14:50:50.887Z"
   },
   {
    "duration": 11,
    "start_time": "2022-01-15T14:50:54.625Z"
   },
   {
    "duration": 4476,
    "start_time": "2022-01-15T14:50:55.100Z"
   },
   {
    "duration": 7,
    "start_time": "2022-01-15T14:50:59.578Z"
   },
   {
    "duration": 9,
    "start_time": "2022-01-15T14:51:00.806Z"
   },
   {
    "duration": 482,
    "start_time": "2022-01-15T14:51:01.933Z"
   },
   {
    "duration": 7,
    "start_time": "2022-01-15T14:51:03.584Z"
   },
   {
    "duration": 10,
    "start_time": "2022-01-15T14:51:07.665Z"
   },
   {
    "duration": 6,
    "start_time": "2022-01-15T14:51:10.187Z"
   },
   {
    "duration": 15,
    "start_time": "2022-01-15T14:51:13.865Z"
   },
   {
    "duration": 9,
    "start_time": "2022-01-15T14:51:14.716Z"
   },
   {
    "duration": 6,
    "start_time": "2022-01-15T14:51:32.055Z"
   },
   {
    "duration": 312,
    "start_time": "2022-01-15T14:51:33.324Z"
   },
   {
    "duration": 231,
    "start_time": "2022-01-15T14:51:49.807Z"
   },
   {
    "duration": 5,
    "start_time": "2022-01-15T14:51:56.864Z"
   },
   {
    "duration": 4,
    "start_time": "2022-01-15T14:52:21.107Z"
   },
   {
    "duration": 5,
    "start_time": "2022-01-15T14:56:27.011Z"
   },
   {
    "duration": 5,
    "start_time": "2022-01-15T14:56:28.884Z"
   },
   {
    "duration": 419,
    "start_time": "2022-01-15T14:56:32.221Z"
   },
   {
    "duration": 6,
    "start_time": "2022-01-15T14:56:36.413Z"
   },
   {
    "duration": 23,
    "start_time": "2022-01-15T14:56:37.904Z"
   },
   {
    "duration": 456,
    "start_time": "2022-01-15T14:56:39.639Z"
   },
   {
    "duration": 306,
    "start_time": "2022-01-15T14:56:40.280Z"
   },
   {
    "duration": 287,
    "start_time": "2022-01-15T14:56:45.467Z"
   },
   {
    "duration": 212,
    "start_time": "2022-01-15T14:56:48.260Z"
   },
   {
    "duration": 240,
    "start_time": "2022-01-15T14:56:50.505Z"
   },
   {
    "duration": 267,
    "start_time": "2022-01-15T14:56:53.121Z"
   },
   {
    "duration": 9,
    "start_time": "2022-01-15T14:56:56.978Z"
   },
   {
    "duration": 204,
    "start_time": "2022-01-15T14:56:57.941Z"
   },
   {
    "duration": 4,
    "start_time": "2022-01-15T14:56:58.334Z"
   },
   {
    "duration": 4,
    "start_time": "2022-01-15T14:56:58.756Z"
   },
   {
    "duration": 135,
    "start_time": "2022-01-15T14:57:00.148Z"
   },
   {
    "duration": 136,
    "start_time": "2022-01-15T14:57:00.612Z"
   },
   {
    "duration": 6,
    "start_time": "2022-01-15T14:57:02.081Z"
   },
   {
    "duration": 6,
    "start_time": "2022-01-15T14:57:02.365Z"
   },
   {
    "duration": 8,
    "start_time": "2022-01-15T14:57:03.056Z"
   },
   {
    "duration": 123,
    "start_time": "2022-01-15T14:57:03.519Z"
   },
   {
    "duration": 123,
    "start_time": "2022-01-15T14:57:04.405Z"
   },
   {
    "duration": 6,
    "start_time": "2022-01-15T14:57:04.877Z"
   },
   {
    "duration": 6,
    "start_time": "2022-01-15T14:57:05.103Z"
   },
   {
    "duration": 8,
    "start_time": "2022-01-15T14:57:05.493Z"
   },
   {
    "duration": 120,
    "start_time": "2022-01-15T14:57:05.933Z"
   },
   {
    "duration": 123,
    "start_time": "2022-01-15T14:57:07.131Z"
   },
   {
    "duration": 120,
    "start_time": "2022-01-15T14:57:08.644Z"
   },
   {
    "duration": 7,
    "start_time": "2022-01-15T14:57:09.753Z"
   },
   {
    "duration": 7,
    "start_time": "2022-01-15T14:57:10.210Z"
   },
   {
    "duration": 7,
    "start_time": "2022-01-15T14:57:10.966Z"
   },
   {
    "duration": 9,
    "start_time": "2022-01-15T14:57:11.926Z"
   },
   {
    "duration": 134,
    "start_time": "2022-01-15T14:57:12.813Z"
   },
   {
    "duration": 6,
    "start_time": "2022-01-15T14:57:13.988Z"
   },
   {
    "duration": 7,
    "start_time": "2022-01-15T14:57:14.351Z"
   },
   {
    "duration": 7,
    "start_time": "2022-01-15T14:57:15.023Z"
   },
   {
    "duration": 3,
    "start_time": "2022-01-15T14:57:15.953Z"
   },
   {
    "duration": 16,
    "start_time": "2022-01-15T14:57:37.068Z"
   },
   {
    "duration": 10,
    "start_time": "2022-01-15T14:57:39.984Z"
   },
   {
    "duration": 6242,
    "start_time": "2022-01-15T14:57:45.910Z"
   },
   {
    "duration": 5,
    "start_time": "2022-01-15T14:58:11.178Z"
   },
   {
    "duration": 4,
    "start_time": "2022-01-15T14:58:24.287Z"
   },
   {
    "duration": 17,
    "start_time": "2022-01-15T14:59:03.205Z"
   },
   {
    "duration": 26,
    "start_time": "2022-01-15T14:59:25.124Z"
   },
   {
    "duration": 21,
    "start_time": "2022-01-15T15:00:00.985Z"
   },
   {
    "duration": 276,
    "start_time": "2022-01-15T15:00:28.889Z"
   },
   {
    "duration": 249,
    "start_time": "2022-01-15T15:00:34.410Z"
   },
   {
    "duration": 10,
    "start_time": "2022-01-15T15:00:48.975Z"
   },
   {
    "duration": 11,
    "start_time": "2022-01-15T15:00:58.421Z"
   },
   {
    "duration": 252,
    "start_time": "2022-01-15T15:01:49.062Z"
   },
   {
    "duration": 4,
    "start_time": "2022-01-15T15:04:55.202Z"
   },
   {
    "duration": 4,
    "start_time": "2022-01-15T15:04:59.698Z"
   },
   {
    "duration": 10,
    "start_time": "2022-01-15T15:05:03.697Z"
   },
   {
    "duration": 10,
    "start_time": "2022-01-15T15:12:10.209Z"
   },
   {
    "duration": 229,
    "start_time": "2022-01-15T15:12:37.559Z"
   },
   {
    "duration": 12,
    "start_time": "2022-01-15T15:15:59.574Z"
   },
   {
    "duration": 11,
    "start_time": "2022-01-15T15:16:25.435Z"
   },
   {
    "duration": 11,
    "start_time": "2022-01-15T15:16:37.646Z"
   },
   {
    "duration": 12,
    "start_time": "2022-01-15T15:16:48.670Z"
   },
   {
    "duration": 11,
    "start_time": "2022-01-15T15:17:13.850Z"
   },
   {
    "duration": 77,
    "start_time": "2022-01-15T15:17:28.777Z"
   },
   {
    "duration": 9,
    "start_time": "2022-01-15T15:17:32.602Z"
   },
   {
    "duration": 10,
    "start_time": "2022-01-15T15:17:40.231Z"
   },
   {
    "duration": 9,
    "start_time": "2022-01-15T15:17:44.816Z"
   },
   {
    "duration": 8,
    "start_time": "2022-01-15T15:19:11.830Z"
   },
   {
    "duration": 7,
    "start_time": "2022-01-15T15:20:45.676Z"
   },
   {
    "duration": 7,
    "start_time": "2022-01-15T15:20:52.499Z"
   },
   {
    "duration": 7,
    "start_time": "2022-01-15T15:21:32.133Z"
   },
   {
    "duration": 15,
    "start_time": "2022-01-15T15:28:16.925Z"
   },
   {
    "duration": 30,
    "start_time": "2022-01-15T15:29:20.000Z"
   },
   {
    "duration": 31,
    "start_time": "2022-01-15T15:35:26.896Z"
   },
   {
    "duration": 32,
    "start_time": "2022-01-15T15:35:47.456Z"
   },
   {
    "duration": 7,
    "start_time": "2022-01-15T15:36:28.324Z"
   },
   {
    "duration": 264,
    "start_time": "2022-01-15T15:37:22.257Z"
   },
   {
    "duration": 9,
    "start_time": "2022-01-15T15:38:25.861Z"
   },
   {
    "duration": 26,
    "start_time": "2022-01-15T15:38:29.729Z"
   },
   {
    "duration": 12,
    "start_time": "2022-01-15T15:38:40.220Z"
   },
   {
    "duration": 28,
    "start_time": "2022-01-15T15:39:37.459Z"
   },
   {
    "duration": 21,
    "start_time": "2022-01-15T15:40:03.678Z"
   },
   {
    "duration": 7,
    "start_time": "2022-01-15T15:40:15.213Z"
   },
   {
    "duration": 15,
    "start_time": "2022-01-15T15:40:48.639Z"
   },
   {
    "duration": 13,
    "start_time": "2022-01-15T15:40:53.724Z"
   },
   {
    "duration": 13,
    "start_time": "2022-01-15T15:41:02.095Z"
   },
   {
    "duration": 8,
    "start_time": "2022-01-15T15:44:10.201Z"
   },
   {
    "duration": 114,
    "start_time": "2022-01-15T15:48:33.745Z"
   },
   {
    "duration": 12,
    "start_time": "2022-01-15T15:48:39.247Z"
   },
   {
    "duration": 242,
    "start_time": "2022-01-15T15:51:19.852Z"
   },
   {
    "duration": 13,
    "start_time": "2022-01-15T15:51:37.724Z"
   },
   {
    "duration": 84,
    "start_time": "2022-01-15T15:52:17.966Z"
   },
   {
    "duration": 77,
    "start_time": "2022-01-15T15:52:31.515Z"
   },
   {
    "duration": 13,
    "start_time": "2022-01-15T15:52:37.388Z"
   },
   {
    "duration": 12,
    "start_time": "2022-01-15T15:53:33.486Z"
   },
   {
    "duration": 518,
    "start_time": "2022-01-15T16:08:20.868Z"
   },
   {
    "duration": 63,
    "start_time": "2022-01-15T16:08:21.388Z"
   },
   {
    "duration": 29,
    "start_time": "2022-01-15T16:08:21.453Z"
   },
   {
    "duration": 8,
    "start_time": "2022-01-15T16:08:21.484Z"
   },
   {
    "duration": 23,
    "start_time": "2022-01-15T16:08:21.494Z"
   },
   {
    "duration": 7,
    "start_time": "2022-01-15T16:08:21.518Z"
   },
   {
    "duration": 9,
    "start_time": "2022-01-15T16:08:21.526Z"
   },
   {
    "duration": 13882,
    "start_time": "2022-01-15T16:08:21.537Z"
   },
   {
    "duration": 6,
    "start_time": "2022-01-15T16:08:35.421Z"
   },
   {
    "duration": 7,
    "start_time": "2022-01-15T16:08:35.429Z"
   },
   {
    "duration": 8,
    "start_time": "2022-01-15T16:08:35.438Z"
   },
   {
    "duration": 9,
    "start_time": "2022-01-15T16:08:35.447Z"
   },
   {
    "duration": 4319,
    "start_time": "2022-01-15T16:08:35.457Z"
   },
   {
    "duration": 7,
    "start_time": "2022-01-15T16:08:39.778Z"
   },
   {
    "duration": 7,
    "start_time": "2022-01-15T16:08:39.786Z"
   },
   {
    "duration": 453,
    "start_time": "2022-01-15T16:08:39.812Z"
   },
   {
    "duration": 7,
    "start_time": "2022-01-15T16:08:40.266Z"
   },
   {
    "duration": 8,
    "start_time": "2022-01-15T16:08:40.275Z"
   },
   {
    "duration": 27,
    "start_time": "2022-01-15T16:08:40.285Z"
   },
   {
    "duration": 13,
    "start_time": "2022-01-15T16:08:40.313Z"
   },
   {
    "duration": 7,
    "start_time": "2022-01-15T16:08:40.328Z"
   },
   {
    "duration": 4,
    "start_time": "2022-01-15T16:08:40.336Z"
   },
   {
    "duration": 5,
    "start_time": "2022-01-15T16:08:40.344Z"
   },
   {
    "duration": 5,
    "start_time": "2022-01-15T16:08:40.351Z"
   },
   {
    "duration": 5,
    "start_time": "2022-01-15T16:08:40.357Z"
   },
   {
    "duration": 435,
    "start_time": "2022-01-15T16:08:40.363Z"
   },
   {
    "duration": 5,
    "start_time": "2022-01-15T16:08:40.800Z"
   },
   {
    "duration": 25,
    "start_time": "2022-01-15T16:08:40.806Z"
   },
   {
    "duration": 412,
    "start_time": "2022-01-15T16:08:40.832Z"
   },
   {
    "duration": 301,
    "start_time": "2022-01-15T16:08:41.245Z"
   },
   {
    "duration": 303,
    "start_time": "2022-01-15T16:08:41.547Z"
   },
   {
    "duration": 202,
    "start_time": "2022-01-15T16:08:41.851Z"
   },
   {
    "duration": 267,
    "start_time": "2022-01-15T16:08:42.054Z"
   },
   {
    "duration": 285,
    "start_time": "2022-01-15T16:08:42.322Z"
   },
   {
    "duration": 8,
    "start_time": "2022-01-15T16:08:42.609Z"
   },
   {
    "duration": 217,
    "start_time": "2022-01-15T16:08:42.618Z"
   },
   {
    "duration": 3,
    "start_time": "2022-01-15T16:08:42.837Z"
   },
   {
    "duration": 4,
    "start_time": "2022-01-15T16:08:42.841Z"
   },
   {
    "duration": 144,
    "start_time": "2022-01-15T16:08:42.847Z"
   },
   {
    "duration": 140,
    "start_time": "2022-01-15T16:08:42.993Z"
   },
   {
    "duration": 6,
    "start_time": "2022-01-15T16:08:43.134Z"
   },
   {
    "duration": 4,
    "start_time": "2022-01-15T16:08:43.142Z"
   },
   {
    "duration": 6,
    "start_time": "2022-01-15T16:08:43.148Z"
   },
   {
    "duration": 159,
    "start_time": "2022-01-15T16:08:43.156Z"
   },
   {
    "duration": 126,
    "start_time": "2022-01-15T16:08:43.316Z"
   },
   {
    "duration": 6,
    "start_time": "2022-01-15T16:08:43.444Z"
   },
   {
    "duration": 6,
    "start_time": "2022-01-15T16:08:43.452Z"
   },
   {
    "duration": 7,
    "start_time": "2022-01-15T16:08:43.460Z"
   },
   {
    "duration": 152,
    "start_time": "2022-01-15T16:08:43.468Z"
   },
   {
    "duration": 130,
    "start_time": "2022-01-15T16:08:43.622Z"
   },
   {
    "duration": 135,
    "start_time": "2022-01-15T16:08:43.754Z"
   },
   {
    "duration": 8,
    "start_time": "2022-01-15T16:08:43.891Z"
   },
   {
    "duration": 6,
    "start_time": "2022-01-15T16:08:43.912Z"
   },
   {
    "duration": 11,
    "start_time": "2022-01-15T16:08:43.920Z"
   },
   {
    "duration": 14,
    "start_time": "2022-01-15T16:08:43.932Z"
   },
   {
    "duration": 151,
    "start_time": "2022-01-15T16:08:43.947Z"
   },
   {
    "duration": 16,
    "start_time": "2022-01-15T16:08:44.100Z"
   },
   {
    "duration": 7,
    "start_time": "2022-01-15T16:08:44.118Z"
   },
   {
    "duration": 7,
    "start_time": "2022-01-15T16:08:44.127Z"
   },
   {
    "duration": 4,
    "start_time": "2022-01-15T16:08:44.136Z"
   },
   {
    "duration": 18,
    "start_time": "2022-01-15T16:08:44.141Z"
   },
   {
    "duration": 52,
    "start_time": "2022-01-15T16:08:44.161Z"
   },
   {
    "duration": 5905,
    "start_time": "2022-01-15T16:08:44.215Z"
   },
   {
    "duration": 4,
    "start_time": "2022-01-15T16:08:50.122Z"
   },
   {
    "duration": 12,
    "start_time": "2022-01-15T16:08:50.128Z"
   },
   {
    "duration": 7,
    "start_time": "2022-01-15T16:08:50.142Z"
   },
   {
    "duration": 8,
    "start_time": "2022-01-15T16:08:50.151Z"
   },
   {
    "duration": 57,
    "start_time": "2022-01-15T16:08:50.163Z"
   },
   {
    "duration": 377,
    "start_time": "2022-01-16T09:06:44.963Z"
   },
   {
    "duration": 787,
    "start_time": "2022-01-16T09:06:51.272Z"
   },
   {
    "duration": 87,
    "start_time": "2022-01-16T09:06:52.062Z"
   },
   {
    "duration": 52,
    "start_time": "2022-01-16T09:06:52.152Z"
   },
   {
    "duration": 15,
    "start_time": "2022-01-16T09:06:52.207Z"
   },
   {
    "duration": 38,
    "start_time": "2022-01-16T09:06:52.224Z"
   },
   {
    "duration": 12,
    "start_time": "2022-01-16T09:06:52.264Z"
   },
   {
    "duration": 12,
    "start_time": "2022-01-16T09:06:52.278Z"
   },
   {
    "duration": 23703,
    "start_time": "2022-01-16T09:06:52.293Z"
   },
   {
    "duration": 30,
    "start_time": "2022-01-16T09:07:15.999Z"
   },
   {
    "duration": 76,
    "start_time": "2022-01-16T09:07:16.032Z"
   },
   {
    "duration": 122,
    "start_time": "2022-01-16T09:07:16.120Z"
   },
   {
    "duration": 90,
    "start_time": "2022-01-16T09:07:16.245Z"
   },
   {
    "duration": 7990,
    "start_time": "2022-01-16T09:07:16.339Z"
   },
   {
    "duration": 11,
    "start_time": "2022-01-16T09:07:24.331Z"
   },
   {
    "duration": 13,
    "start_time": "2022-01-16T09:07:24.360Z"
   },
   {
    "duration": 1070,
    "start_time": "2022-01-16T09:07:24.376Z"
   },
   {
    "duration": 18,
    "start_time": "2022-01-16T09:07:25.449Z"
   },
   {
    "duration": 12,
    "start_time": "2022-01-16T09:07:25.470Z"
   },
   {
    "duration": 12,
    "start_time": "2022-01-16T09:07:25.485Z"
   },
   {
    "duration": 70,
    "start_time": "2022-01-16T09:07:25.500Z"
   },
   {
    "duration": 16,
    "start_time": "2022-01-16T09:07:25.573Z"
   },
   {
    "duration": 13,
    "start_time": "2022-01-16T09:07:25.592Z"
   },
   {
    "duration": 49,
    "start_time": "2022-01-16T09:07:25.613Z"
   },
   {
    "duration": 10,
    "start_time": "2022-01-16T09:07:25.667Z"
   },
   {
    "duration": 9,
    "start_time": "2022-01-16T09:07:25.679Z"
   },
   {
    "duration": 1336,
    "start_time": "2022-01-16T09:07:25.691Z"
   },
   {
    "duration": 9,
    "start_time": "2022-01-16T09:07:27.030Z"
   },
   {
    "duration": 62,
    "start_time": "2022-01-16T09:07:27.041Z"
   },
   {
    "duration": 1093,
    "start_time": "2022-01-16T09:07:27.106Z"
   },
   {
    "duration": 1061,
    "start_time": "2022-01-16T09:07:28.202Z"
   },
   {
    "duration": 784,
    "start_time": "2022-01-16T09:07:29.265Z"
   },
   {
    "duration": 368,
    "start_time": "2022-01-16T09:07:30.052Z"
   },
   {
    "duration": 456,
    "start_time": "2022-01-16T09:07:30.423Z"
   },
   {
    "duration": 645,
    "start_time": "2022-01-16T09:07:30.882Z"
   },
   {
    "duration": 32,
    "start_time": "2022-01-16T09:07:31.530Z"
   },
   {
    "duration": 584,
    "start_time": "2022-01-16T09:07:31.565Z"
   },
   {
    "duration": 10,
    "start_time": "2022-01-16T09:07:32.152Z"
   },
   {
    "duration": 9,
    "start_time": "2022-01-16T09:07:32.164Z"
   },
   {
    "duration": 314,
    "start_time": "2022-01-16T09:07:32.176Z"
   },
   {
    "duration": 255,
    "start_time": "2022-01-16T09:07:32.493Z"
   },
   {
    "duration": 16,
    "start_time": "2022-01-16T09:07:32.750Z"
   },
   {
    "duration": 9,
    "start_time": "2022-01-16T09:07:32.768Z"
   },
   {
    "duration": 11,
    "start_time": "2022-01-16T09:07:32.779Z"
   },
   {
    "duration": 283,
    "start_time": "2022-01-16T09:07:32.793Z"
   },
   {
    "duration": 240,
    "start_time": "2022-01-16T09:07:33.078Z"
   },
   {
    "duration": 9,
    "start_time": "2022-01-16T09:07:33.320Z"
   },
   {
    "duration": 31,
    "start_time": "2022-01-16T09:07:33.331Z"
   },
   {
    "duration": 10,
    "start_time": "2022-01-16T09:07:33.364Z"
   },
   {
    "duration": 241,
    "start_time": "2022-01-16T09:07:33.376Z"
   },
   {
    "duration": 249,
    "start_time": "2022-01-16T09:07:33.619Z"
   },
   {
    "duration": 230,
    "start_time": "2022-01-16T09:07:33.872Z"
   },
   {
    "duration": 9,
    "start_time": "2022-01-16T09:07:34.105Z"
   },
   {
    "duration": 10,
    "start_time": "2022-01-16T09:07:34.117Z"
   },
   {
    "duration": 39,
    "start_time": "2022-01-16T09:07:34.129Z"
   },
   {
    "duration": 10,
    "start_time": "2022-01-16T09:07:34.171Z"
   },
   {
    "duration": 278,
    "start_time": "2022-01-16T09:07:34.183Z"
   },
   {
    "duration": 9,
    "start_time": "2022-01-16T09:07:34.464Z"
   },
   {
    "duration": 14,
    "start_time": "2022-01-16T09:07:34.475Z"
   },
   {
    "duration": 14,
    "start_time": "2022-01-16T09:07:34.492Z"
   },
   {
    "duration": 5,
    "start_time": "2022-01-16T09:07:34.509Z"
   },
   {
    "duration": 67,
    "start_time": "2022-01-16T09:07:34.516Z"
   },
   {
    "duration": 19,
    "start_time": "2022-01-16T09:07:34.585Z"
   },
   {
    "duration": 11562,
    "start_time": "2022-01-16T09:07:34.606Z"
   },
   {
    "duration": 9,
    "start_time": "2022-01-16T09:07:46.171Z"
   },
   {
    "duration": 22,
    "start_time": "2022-01-16T09:07:46.182Z"
   },
   {
    "duration": 13,
    "start_time": "2022-01-16T09:07:46.207Z"
   },
   {
    "duration": 17,
    "start_time": "2022-01-16T09:07:46.260Z"
   },
   {
    "duration": 23,
    "start_time": "2022-01-16T09:07:46.284Z"
   },
   {
    "duration": 9,
    "start_time": "2022-01-16T09:10:25.397Z"
   },
   {
    "duration": 39,
    "start_time": "2022-01-16T09:11:14.059Z"
   },
   {
    "duration": 401,
    "start_time": "2022-01-16T09:13:53.792Z"
   },
   {
    "duration": 46,
    "start_time": "2022-01-16T09:14:08.168Z"
   },
   {
    "duration": 7,
    "start_time": "2022-01-16T09:14:58.772Z"
   },
   {
    "duration": 44,
    "start_time": "2022-01-16T09:15:05.713Z"
   },
   {
    "duration": 7,
    "start_time": "2022-01-16T09:18:07.894Z"
   },
   {
    "duration": 7,
    "start_time": "2022-01-16T09:21:01.044Z"
   },
   {
    "duration": 98,
    "start_time": "2022-01-16T09:26:54.435Z"
   },
   {
    "duration": 761,
    "start_time": "2022-01-16T09:27:01.187Z"
   },
   {
    "duration": 2891,
    "start_time": "2022-01-16T09:27:16.058Z"
   },
   {
    "duration": 15,
    "start_time": "2022-01-16T09:28:44.439Z"
   },
   {
    "duration": 955,
    "start_time": "2022-01-16T09:28:52.231Z"
   },
   {
    "duration": 1381,
    "start_time": "2022-01-16T09:29:29.057Z"
   },
   {
    "duration": 54,
    "start_time": "2022-01-16T09:30:29.814Z"
   },
   {
    "duration": 834,
    "start_time": "2022-01-16T09:32:01.418Z"
   },
   {
    "duration": 6,
    "start_time": "2022-01-16T09:33:29.729Z"
   },
   {
    "duration": 9,
    "start_time": "2022-01-16T09:35:02.252Z"
   },
   {
    "duration": 1186,
    "start_time": "2022-01-16T09:35:21.955Z"
   },
   {
    "duration": 86,
    "start_time": "2022-01-16T09:35:23.144Z"
   },
   {
    "duration": 53,
    "start_time": "2022-01-16T09:35:23.233Z"
   },
   {
    "duration": 16,
    "start_time": "2022-01-16T09:35:23.288Z"
   },
   {
    "duration": 11,
    "start_time": "2022-01-16T09:35:23.306Z"
   },
   {
    "duration": 44,
    "start_time": "2022-01-16T09:35:23.319Z"
   },
   {
    "duration": 14,
    "start_time": "2022-01-16T09:35:23.366Z"
   },
   {
    "duration": 23619,
    "start_time": "2022-01-16T09:35:23.385Z"
   },
   {
    "duration": 12,
    "start_time": "2022-01-16T09:35:47.007Z"
   },
   {
    "duration": 14,
    "start_time": "2022-01-16T09:35:47.021Z"
   },
   {
    "duration": 18,
    "start_time": "2022-01-16T09:35:47.059Z"
   },
   {
    "duration": 16,
    "start_time": "2022-01-16T09:35:47.079Z"
   },
   {
    "duration": 7771,
    "start_time": "2022-01-16T09:35:47.097Z"
   },
   {
    "duration": 10,
    "start_time": "2022-01-16T09:35:54.871Z"
   },
   {
    "duration": 11,
    "start_time": "2022-01-16T09:35:54.883Z"
   },
   {
    "duration": 879,
    "start_time": "2022-01-16T09:35:54.897Z"
   },
   {
    "duration": 11,
    "start_time": "2022-01-16T09:35:55.778Z"
   },
   {
    "duration": 12,
    "start_time": "2022-01-16T09:35:55.792Z"
   },
   {
    "duration": 10,
    "start_time": "2022-01-16T09:35:55.806Z"
   },
   {
    "duration": 52,
    "start_time": "2022-01-16T09:35:55.818Z"
   },
   {
    "duration": 13,
    "start_time": "2022-01-16T09:35:55.873Z"
   },
   {
    "duration": 11,
    "start_time": "2022-01-16T09:35:55.888Z"
   },
   {
    "duration": 8,
    "start_time": "2022-01-16T09:35:55.905Z"
   },
   {
    "duration": 42,
    "start_time": "2022-01-16T09:35:55.917Z"
   },
   {
    "duration": 8,
    "start_time": "2022-01-16T09:35:55.962Z"
   },
   {
    "duration": 759,
    "start_time": "2022-01-16T09:35:55.973Z"
   },
   {
    "duration": 8,
    "start_time": "2022-01-16T09:35:56.734Z"
   },
   {
    "duration": 45,
    "start_time": "2022-01-16T09:35:56.744Z"
   },
   {
    "duration": 729,
    "start_time": "2022-01-16T09:35:56.792Z"
   },
   {
    "duration": 555,
    "start_time": "2022-01-16T09:35:57.523Z"
   },
   {
    "duration": 528,
    "start_time": "2022-01-16T09:35:58.080Z"
   },
   {
    "duration": 347,
    "start_time": "2022-01-16T09:35:58.610Z"
   },
   {
    "duration": 435,
    "start_time": "2022-01-16T09:35:58.960Z"
   },
   {
    "duration": 479,
    "start_time": "2022-01-16T09:35:59.397Z"
   },
   {
    "duration": 10,
    "start_time": "2022-01-16T09:35:59.879Z"
   },
   {
    "duration": 392,
    "start_time": "2022-01-16T09:35:59.891Z"
   },
   {
    "duration": 6,
    "start_time": "2022-01-16T09:36:00.285Z"
   },
   {
    "duration": 15,
    "start_time": "2022-01-16T09:36:00.293Z"
   },
   {
    "duration": 277,
    "start_time": "2022-01-16T09:36:00.311Z"
   },
   {
    "duration": 243,
    "start_time": "2022-01-16T09:36:00.590Z"
   },
   {
    "duration": 9,
    "start_time": "2022-01-16T09:36:00.837Z"
   },
   {
    "duration": 9,
    "start_time": "2022-01-16T09:36:00.860Z"
   },
   {
    "duration": 13,
    "start_time": "2022-01-16T09:36:00.873Z"
   },
   {
    "duration": 274,
    "start_time": "2022-01-16T09:36:00.888Z"
   },
   {
    "duration": 243,
    "start_time": "2022-01-16T09:36:01.165Z"
   },
   {
    "duration": 10,
    "start_time": "2022-01-16T09:36:01.411Z"
   },
   {
    "duration": 15,
    "start_time": "2022-01-16T09:36:01.423Z"
   },
   {
    "duration": 27,
    "start_time": "2022-01-16T09:36:01.441Z"
   },
   {
    "duration": 246,
    "start_time": "2022-01-16T09:36:01.471Z"
   },
   {
    "duration": 240,
    "start_time": "2022-01-16T09:36:01.719Z"
   },
   {
    "duration": 223,
    "start_time": "2022-01-16T09:36:01.962Z"
   },
   {
    "duration": 10,
    "start_time": "2022-01-16T09:36:02.187Z"
   },
   {
    "duration": 8,
    "start_time": "2022-01-16T09:36:02.199Z"
   },
   {
    "duration": 10,
    "start_time": "2022-01-16T09:36:02.210Z"
   },
   {
    "duration": 47,
    "start_time": "2022-01-16T09:36:02.223Z"
   },
   {
    "duration": 251,
    "start_time": "2022-01-16T09:36:02.272Z"
   },
   {
    "duration": 10,
    "start_time": "2022-01-16T09:36:02.525Z"
   },
   {
    "duration": 22,
    "start_time": "2022-01-16T09:36:02.537Z"
   },
   {
    "duration": 10,
    "start_time": "2022-01-16T09:36:02.561Z"
   },
   {
    "duration": 6,
    "start_time": "2022-01-16T09:36:02.574Z"
   },
   {
    "duration": 29,
    "start_time": "2022-01-16T09:36:02.583Z"
   },
   {
    "duration": 53,
    "start_time": "2022-01-16T09:36:02.614Z"
   },
   {
    "duration": 10225,
    "start_time": "2022-01-16T09:36:02.669Z"
   },
   {
    "duration": 5,
    "start_time": "2022-01-16T09:36:12.897Z"
   },
   {
    "duration": 15,
    "start_time": "2022-01-16T09:36:12.905Z"
   },
   {
    "duration": 39,
    "start_time": "2022-01-16T09:36:12.923Z"
   },
   {
    "duration": 15,
    "start_time": "2022-01-16T09:36:12.964Z"
   },
   {
    "duration": 21,
    "start_time": "2022-01-16T09:36:12.986Z"
   },
   {
    "duration": 9,
    "start_time": "2022-01-16T09:36:13.009Z"
   },
   {
    "duration": 7,
    "start_time": "2022-01-16T09:36:17.731Z"
   },
   {
    "duration": 584,
    "start_time": "2022-01-16T09:39:06.955Z"
   },
   {
    "duration": 576,
    "start_time": "2022-01-16T09:39:06.965Z"
   },
   {
    "duration": 6,
    "start_time": "2022-01-16T09:39:11.924Z"
   },
   {
    "duration": 616,
    "start_time": "2022-01-16T09:39:13.191Z"
   },
   {
    "duration": 6,
    "start_time": "2022-01-16T09:40:09.338Z"
   },
   {
    "duration": 586,
    "start_time": "2022-01-16T09:41:21.102Z"
   },
   {
    "duration": 320,
    "start_time": "2022-01-16T09:41:40.025Z"
   },
   {
    "duration": 322,
    "start_time": "2022-01-16T09:42:37.010Z"
   },
   {
    "duration": 428,
    "start_time": "2022-01-16T09:42:42.871Z"
   },
   {
    "duration": 6,
    "start_time": "2022-01-16T09:43:10.851Z"
   },
   {
    "duration": 7,
    "start_time": "2022-01-16T09:43:17.332Z"
   },
   {
    "duration": 6,
    "start_time": "2022-01-16T09:43:31.665Z"
   },
   {
    "duration": 8,
    "start_time": "2022-01-16T09:43:51.809Z"
   },
   {
    "duration": 6,
    "start_time": "2022-01-16T09:46:28.649Z"
   },
   {
    "duration": 6,
    "start_time": "2022-01-16T09:46:49.744Z"
   },
   {
    "duration": 8,
    "start_time": "2022-01-16T09:47:14.407Z"
   },
   {
    "duration": 10,
    "start_time": "2022-01-16T09:47:46.718Z"
   },
   {
    "duration": 5,
    "start_time": "2022-01-16T09:48:07.376Z"
   },
   {
    "duration": 6,
    "start_time": "2022-01-16T09:48:11.473Z"
   },
   {
    "duration": 11,
    "start_time": "2022-01-16T10:18:24.688Z"
   },
   {
    "duration": 7,
    "start_time": "2022-01-16T10:19:49.377Z"
   },
   {
    "duration": 8,
    "start_time": "2022-01-16T10:20:05.109Z"
   },
   {
    "duration": 6,
    "start_time": "2022-01-16T10:21:56.977Z"
   },
   {
    "duration": 4,
    "start_time": "2022-01-16T10:22:02.348Z"
   },
   {
    "duration": 8,
    "start_time": "2022-01-16T10:22:22.333Z"
   },
   {
    "duration": 6,
    "start_time": "2022-01-16T10:22:25.776Z"
   },
   {
    "duration": 6,
    "start_time": "2022-01-16T10:22:30.674Z"
   },
   {
    "duration": 8,
    "start_time": "2022-01-16T10:22:37.610Z"
   },
   {
    "duration": 340,
    "start_time": "2022-01-16T10:22:53.429Z"
   },
   {
    "duration": 594,
    "start_time": "2022-01-16T10:23:56.798Z"
   },
   {
    "duration": 289,
    "start_time": "2022-01-16T10:24:40.091Z"
   },
   {
    "duration": 348,
    "start_time": "2022-01-16T10:24:55.013Z"
   },
   {
    "duration": 902,
    "start_time": "2022-01-16T10:27:47.548Z"
   },
   {
    "duration": 808,
    "start_time": "2022-01-16T10:28:15.420Z"
   },
   {
    "duration": 783,
    "start_time": "2022-01-16T10:28:19.013Z"
   },
   {
    "duration": 340,
    "start_time": "2022-01-16T10:28:24.664Z"
   },
   {
    "duration": 360,
    "start_time": "2022-01-16T10:28:28.712Z"
   },
   {
    "duration": 350,
    "start_time": "2022-01-16T10:28:33.054Z"
   },
   {
    "duration": 357,
    "start_time": "2022-01-16T10:30:23.037Z"
   },
   {
    "duration": 387,
    "start_time": "2022-01-16T10:30:28.276Z"
   },
   {
    "duration": 353,
    "start_time": "2022-01-16T10:30:31.896Z"
   },
   {
    "duration": 2791,
    "start_time": "2022-01-16T10:33:29.454Z"
   },
   {
    "duration": 2565,
    "start_time": "2022-01-16T10:34:05.778Z"
   },
   {
    "duration": 1949,
    "start_time": "2022-01-16T10:34:27.636Z"
   },
   {
    "duration": 147,
    "start_time": "2022-01-16T10:34:46.617Z"
   },
   {
    "duration": 607,
    "start_time": "2022-01-16T10:34:55.080Z"
   },
   {
    "duration": 313,
    "start_time": "2022-01-16T10:35:44.095Z"
   },
   {
    "duration": 308,
    "start_time": "2022-01-16T10:36:19.253Z"
   },
   {
    "duration": 8,
    "start_time": "2022-01-16T10:36:25.600Z"
   },
   {
    "duration": 741,
    "start_time": "2022-01-16T10:36:28.609Z"
   },
   {
    "duration": 128031,
    "start_time": "2022-01-16T10:36:51.635Z"
   },
   {
    "duration": 883,
    "start_time": "2022-01-16T10:40:06.592Z"
   },
   {
    "duration": 128,
    "start_time": "2022-01-16T10:40:07.478Z"
   },
   {
    "duration": 88,
    "start_time": "2022-01-16T10:40:07.611Z"
   },
   {
    "duration": 25,
    "start_time": "2022-01-16T10:40:07.706Z"
   },
   {
    "duration": 34,
    "start_time": "2022-01-16T10:40:07.734Z"
   },
   {
    "duration": 20,
    "start_time": "2022-01-16T10:40:07.771Z"
   },
   {
    "duration": 18,
    "start_time": "2022-01-16T10:40:07.794Z"
   },
   {
    "duration": 23803,
    "start_time": "2022-01-16T10:40:07.818Z"
   },
   {
    "duration": 10,
    "start_time": "2022-01-16T10:40:31.624Z"
   },
   {
    "duration": 31,
    "start_time": "2022-01-16T10:40:31.637Z"
   },
   {
    "duration": 16,
    "start_time": "2022-01-16T10:40:31.671Z"
   },
   {
    "duration": 16,
    "start_time": "2022-01-16T10:40:31.689Z"
   },
   {
    "duration": 7747,
    "start_time": "2022-01-16T10:40:31.707Z"
   },
   {
    "duration": 13,
    "start_time": "2022-01-16T10:40:39.456Z"
   },
   {
    "duration": 13,
    "start_time": "2022-01-16T10:40:39.472Z"
   },
   {
    "duration": 872,
    "start_time": "2022-01-16T10:40:39.487Z"
   },
   {
    "duration": 13,
    "start_time": "2022-01-16T10:40:40.362Z"
   },
   {
    "duration": 13,
    "start_time": "2022-01-16T10:40:40.378Z"
   },
   {
    "duration": 13,
    "start_time": "2022-01-16T10:40:40.394Z"
   },
   {
    "duration": 61,
    "start_time": "2022-01-16T10:40:40.410Z"
   },
   {
    "duration": 14,
    "start_time": "2022-01-16T10:40:40.475Z"
   },
   {
    "duration": 12,
    "start_time": "2022-01-16T10:40:40.492Z"
   },
   {
    "duration": 8,
    "start_time": "2022-01-16T10:40:40.511Z"
   },
   {
    "duration": 8,
    "start_time": "2022-01-16T10:40:40.560Z"
   },
   {
    "duration": 9,
    "start_time": "2022-01-16T10:40:40.571Z"
   },
   {
    "duration": 761,
    "start_time": "2022-01-16T10:40:40.582Z"
   },
   {
    "duration": 16,
    "start_time": "2022-01-16T10:40:41.346Z"
   },
   {
    "duration": 35,
    "start_time": "2022-01-16T10:40:41.365Z"
   },
   {
    "duration": 788,
    "start_time": "2022-01-16T10:40:41.402Z"
   },
   {
    "duration": 601,
    "start_time": "2022-01-16T10:40:42.192Z"
   },
   {
    "duration": 904,
    "start_time": "2022-01-16T10:40:42.796Z"
   },
   {
    "duration": 352,
    "start_time": "2022-01-16T10:40:43.703Z"
   },
   {
    "duration": 433,
    "start_time": "2022-01-16T10:40:44.060Z"
   },
   {
    "duration": 471,
    "start_time": "2022-01-16T10:40:44.496Z"
   },
   {
    "duration": 13,
    "start_time": "2022-01-16T10:40:44.970Z"
   },
   {
    "duration": 393,
    "start_time": "2022-01-16T10:40:44.985Z"
   },
   {
    "duration": 5,
    "start_time": "2022-01-16T10:40:45.380Z"
   },
   {
    "duration": 8,
    "start_time": "2022-01-16T10:40:45.388Z"
   },
   {
    "duration": 263,
    "start_time": "2022-01-16T10:40:45.398Z"
   },
   {
    "duration": 230,
    "start_time": "2022-01-16T10:40:45.664Z"
   },
   {
    "duration": 9,
    "start_time": "2022-01-16T10:40:45.896Z"
   },
   {
    "duration": 9,
    "start_time": "2022-01-16T10:40:45.907Z"
   },
   {
    "duration": 40,
    "start_time": "2022-01-16T10:40:45.919Z"
   },
   {
    "duration": 236,
    "start_time": "2022-01-16T10:40:45.962Z"
   },
   {
    "duration": 233,
    "start_time": "2022-01-16T10:40:46.201Z"
   },
   {
    "duration": 23,
    "start_time": "2022-01-16T10:40:46.437Z"
   },
   {
    "duration": 9,
    "start_time": "2022-01-16T10:40:46.462Z"
   },
   {
    "duration": 9,
    "start_time": "2022-01-16T10:40:46.474Z"
   },
   {
    "duration": 246,
    "start_time": "2022-01-16T10:40:46.486Z"
   },
   {
    "duration": 225,
    "start_time": "2022-01-16T10:40:46.734Z"
   },
   {
    "duration": 222,
    "start_time": "2022-01-16T10:40:46.961Z"
   },
   {
    "duration": 9,
    "start_time": "2022-01-16T10:40:47.185Z"
   },
   {
    "duration": 11,
    "start_time": "2022-01-16T10:40:47.196Z"
   },
   {
    "duration": 11,
    "start_time": "2022-01-16T10:40:47.210Z"
   },
   {
    "duration": 42,
    "start_time": "2022-01-16T10:40:47.224Z"
   },
   {
    "duration": 268,
    "start_time": "2022-01-16T10:40:47.269Z"
   },
   {
    "duration": 27,
    "start_time": "2022-01-16T10:40:47.540Z"
   },
   {
    "duration": 8,
    "start_time": "2022-01-16T10:40:47.569Z"
   },
   {
    "duration": 8,
    "start_time": "2022-01-16T10:40:47.579Z"
   },
   {
    "duration": 5,
    "start_time": "2022-01-16T10:40:47.590Z"
   },
   {
    "duration": 64,
    "start_time": "2022-01-16T10:40:47.597Z"
   },
   {
    "duration": 15,
    "start_time": "2022-01-16T10:40:47.664Z"
   },
   {
    "duration": 11066,
    "start_time": "2022-01-16T10:40:47.681Z"
   },
   {
    "duration": 10,
    "start_time": "2022-01-16T10:40:58.750Z"
   },
   {
    "duration": 14,
    "start_time": "2022-01-16T10:40:58.762Z"
   },
   {
    "duration": 9,
    "start_time": "2022-01-16T10:40:58.779Z"
   },
   {
    "duration": 15,
    "start_time": "2022-01-16T10:40:58.790Z"
   },
   {
    "duration": 54,
    "start_time": "2022-01-16T10:40:58.811Z"
   },
   {
    "duration": 10,
    "start_time": "2022-01-16T10:40:58.869Z"
   },
   {
    "duration": 8,
    "start_time": "2022-01-16T10:40:58.882Z"
   },
   {
    "duration": 7,
    "start_time": "2022-01-16T10:40:58.893Z"
   },
   {
    "duration": 58,
    "start_time": "2022-01-16T10:40:58.903Z"
   },
   {
    "duration": 475,
    "start_time": "2022-01-16T10:42:30.228Z"
   },
   {
    "duration": 6,
    "start_time": "2022-01-16T10:42:31.528Z"
   },
   {
    "duration": 7,
    "start_time": "2022-01-16T10:42:34.399Z"
   },
   {
    "duration": 6,
    "start_time": "2022-01-16T10:42:39.809Z"
   },
   {
    "duration": 10,
    "start_time": "2022-01-16T10:45:25.848Z"
   },
   {
    "duration": 9,
    "start_time": "2022-01-16T10:45:33.121Z"
   },
   {
    "duration": 9,
    "start_time": "2022-01-16T10:45:38.920Z"
   },
   {
    "duration": 8800,
    "start_time": "2022-01-16T10:45:40.916Z"
   },
   {
    "duration": 750,
    "start_time": "2022-01-16T10:46:16.949Z"
   },
   {
    "duration": 88,
    "start_time": "2022-01-16T10:46:17.702Z"
   },
   {
    "duration": 49,
    "start_time": "2022-01-16T10:46:17.793Z"
   },
   {
    "duration": 27,
    "start_time": "2022-01-16T10:46:17.844Z"
   },
   {
    "duration": 11,
    "start_time": "2022-01-16T10:46:17.874Z"
   },
   {
    "duration": 11,
    "start_time": "2022-01-16T10:46:17.887Z"
   },
   {
    "duration": 12,
    "start_time": "2022-01-16T10:46:17.900Z"
   },
   {
    "duration": 23344,
    "start_time": "2022-01-16T10:46:17.915Z"
   },
   {
    "duration": 15,
    "start_time": "2022-01-16T10:46:41.265Z"
   },
   {
    "duration": 28,
    "start_time": "2022-01-16T10:46:41.284Z"
   },
   {
    "duration": 45,
    "start_time": "2022-01-16T10:46:41.315Z"
   },
   {
    "duration": 16,
    "start_time": "2022-01-16T10:46:41.363Z"
   },
   {
    "duration": 7782,
    "start_time": "2022-01-16T10:46:41.382Z"
   },
   {
    "duration": 10,
    "start_time": "2022-01-16T10:46:49.167Z"
   },
   {
    "duration": 11,
    "start_time": "2022-01-16T10:46:49.180Z"
   },
   {
    "duration": 860,
    "start_time": "2022-01-16T10:46:49.194Z"
   },
   {
    "duration": 11,
    "start_time": "2022-01-16T10:46:50.059Z"
   },
   {
    "duration": 12,
    "start_time": "2022-01-16T10:46:50.072Z"
   },
   {
    "duration": 11,
    "start_time": "2022-01-16T10:46:50.087Z"
   },
   {
    "duration": 21,
    "start_time": "2022-01-16T10:46:50.101Z"
   },
   {
    "duration": 12,
    "start_time": "2022-01-16T10:46:50.160Z"
   },
   {
    "duration": 10,
    "start_time": "2022-01-16T10:46:50.175Z"
   },
   {
    "duration": 8,
    "start_time": "2022-01-16T10:46:50.188Z"
   },
   {
    "duration": 7,
    "start_time": "2022-01-16T10:46:50.198Z"
   },
   {
    "duration": 7,
    "start_time": "2022-01-16T10:46:50.208Z"
   },
   {
    "duration": 769,
    "start_time": "2022-01-16T10:46:50.217Z"
   },
   {
    "duration": 8,
    "start_time": "2022-01-16T10:46:50.992Z"
   },
   {
    "duration": 58,
    "start_time": "2022-01-16T10:46:51.003Z"
   },
   {
    "duration": 766,
    "start_time": "2022-01-16T10:46:51.064Z"
   },
   {
    "duration": 546,
    "start_time": "2022-01-16T10:46:51.832Z"
   },
   {
    "duration": 526,
    "start_time": "2022-01-16T10:46:52.380Z"
   },
   {
    "duration": 354,
    "start_time": "2022-01-16T10:46:52.908Z"
   },
   {
    "duration": 453,
    "start_time": "2022-01-16T10:46:53.265Z"
   },
   {
    "duration": 582,
    "start_time": "2022-01-16T10:46:53.722Z"
   },
   {
    "duration": 10,
    "start_time": "2022-01-16T10:46:54.307Z"
   },
   {
    "duration": 380,
    "start_time": "2022-01-16T10:46:54.320Z"
   },
   {
    "duration": 6,
    "start_time": "2022-01-16T10:46:54.702Z"
   },
   {
    "duration": 11,
    "start_time": "2022-01-16T10:46:54.711Z"
   },
   {
    "duration": 266,
    "start_time": "2022-01-16T10:46:54.724Z"
   },
   {
    "duration": 245,
    "start_time": "2022-01-16T10:46:54.993Z"
   },
   {
    "duration": 9,
    "start_time": "2022-01-16T10:46:55.240Z"
   },
   {
    "duration": 8,
    "start_time": "2022-01-16T10:46:55.260Z"
   },
   {
    "duration": 11,
    "start_time": "2022-01-16T10:46:55.270Z"
   },
   {
    "duration": 256,
    "start_time": "2022-01-16T10:46:55.284Z"
   },
   {
    "duration": 243,
    "start_time": "2022-01-16T10:46:55.543Z"
   },
   {
    "duration": 10,
    "start_time": "2022-01-16T10:46:55.788Z"
   },
   {
    "duration": 19,
    "start_time": "2022-01-16T10:46:55.801Z"
   },
   {
    "duration": 13,
    "start_time": "2022-01-16T10:46:55.823Z"
   },
   {
    "duration": 253,
    "start_time": "2022-01-16T10:46:55.838Z"
   },
   {
    "duration": 245,
    "start_time": "2022-01-16T10:46:56.094Z"
   },
   {
    "duration": 232,
    "start_time": "2022-01-16T10:46:56.342Z"
   },
   {
    "duration": 11,
    "start_time": "2022-01-16T10:46:56.577Z"
   },
   {
    "duration": 20,
    "start_time": "2022-01-16T10:46:56.591Z"
   },
   {
    "duration": 26,
    "start_time": "2022-01-16T10:46:56.614Z"
   },
   {
    "duration": 26,
    "start_time": "2022-01-16T10:46:56.643Z"
   },
   {
    "duration": 271,
    "start_time": "2022-01-16T10:46:56.672Z"
   },
   {
    "duration": 19,
    "start_time": "2022-01-16T10:46:56.946Z"
   },
   {
    "duration": 11,
    "start_time": "2022-01-16T10:46:56.968Z"
   },
   {
    "duration": 29,
    "start_time": "2022-01-16T10:46:56.982Z"
   },
   {
    "duration": 6,
    "start_time": "2022-01-16T10:46:57.013Z"
   },
   {
    "duration": 58,
    "start_time": "2022-01-16T10:46:57.022Z"
   },
   {
    "duration": 16,
    "start_time": "2022-01-16T10:46:57.083Z"
   },
   {
    "duration": 10217,
    "start_time": "2022-01-16T10:46:57.101Z"
   },
   {
    "duration": 5,
    "start_time": "2022-01-16T10:47:07.321Z"
   },
   {
    "duration": 36,
    "start_time": "2022-01-16T10:47:07.329Z"
   },
   {
    "duration": 10,
    "start_time": "2022-01-16T10:47:07.368Z"
   },
   {
    "duration": 15,
    "start_time": "2022-01-16T10:47:07.380Z"
   },
   {
    "duration": 23,
    "start_time": "2022-01-16T10:47:07.397Z"
   },
   {
    "duration": 40,
    "start_time": "2022-01-16T10:47:07.423Z"
   },
   {
    "duration": 17,
    "start_time": "2022-01-16T10:47:54.713Z"
   },
   {
    "duration": 12,
    "start_time": "2022-01-16T10:48:16.173Z"
   },
   {
    "duration": 13,
    "start_time": "2022-01-16T10:48:39.986Z"
   },
   {
    "duration": 8,
    "start_time": "2022-01-16T10:48:58.559Z"
   },
   {
    "duration": 9,
    "start_time": "2022-01-16T10:49:17.765Z"
   },
   {
    "duration": 611,
    "start_time": "2022-01-16T10:49:54.512Z"
   },
   {
    "duration": 1081,
    "start_time": "2022-01-16T10:50:34.681Z"
   },
   {
    "duration": 129,
    "start_time": "2022-01-16T10:50:35.766Z"
   },
   {
    "duration": 88,
    "start_time": "2022-01-16T10:50:35.899Z"
   },
   {
    "duration": 24,
    "start_time": "2022-01-16T10:50:35.990Z"
   },
   {
    "duration": 42,
    "start_time": "2022-01-16T10:50:36.018Z"
   },
   {
    "duration": 21,
    "start_time": "2022-01-16T10:50:36.065Z"
   },
   {
    "duration": 18,
    "start_time": "2022-01-16T10:50:36.089Z"
   },
   {
    "duration": 34886,
    "start_time": "2022-01-16T10:50:36.114Z"
   },
   {
    "duration": 18,
    "start_time": "2022-01-16T10:51:11.003Z"
   },
   {
    "duration": 36,
    "start_time": "2022-01-16T10:51:11.025Z"
   },
   {
    "duration": 18,
    "start_time": "2022-01-16T10:51:11.065Z"
   },
   {
    "duration": 18,
    "start_time": "2022-01-16T10:51:11.086Z"
   },
   {
    "duration": 8001,
    "start_time": "2022-01-16T10:51:11.106Z"
   },
   {
    "duration": 11,
    "start_time": "2022-01-16T10:51:19.109Z"
   },
   {
    "duration": 12,
    "start_time": "2022-01-16T10:51:19.122Z"
   },
   {
    "duration": 874,
    "start_time": "2022-01-16T10:51:19.160Z"
   },
   {
    "duration": 10,
    "start_time": "2022-01-16T10:51:20.037Z"
   },
   {
    "duration": 13,
    "start_time": "2022-01-16T10:51:20.060Z"
   },
   {
    "duration": 13,
    "start_time": "2022-01-16T10:51:20.075Z"
   },
   {
    "duration": 24,
    "start_time": "2022-01-16T10:51:20.090Z"
   },
   {
    "duration": 46,
    "start_time": "2022-01-16T10:51:20.116Z"
   },
   {
    "duration": 11,
    "start_time": "2022-01-16T10:51:20.164Z"
   },
   {
    "duration": 10,
    "start_time": "2022-01-16T10:51:20.185Z"
   },
   {
    "duration": 10,
    "start_time": "2022-01-16T10:51:20.200Z"
   },
   {
    "duration": 10,
    "start_time": "2022-01-16T10:51:20.213Z"
   },
   {
    "duration": 1463,
    "start_time": "2022-01-16T10:51:20.260Z"
   },
   {
    "duration": 7,
    "start_time": "2022-01-16T10:51:21.725Z"
   },
   {
    "duration": 56,
    "start_time": "2022-01-16T10:51:21.735Z"
   },
   {
    "duration": 1209,
    "start_time": "2022-01-16T10:51:21.794Z"
   },
   {
    "duration": 956,
    "start_time": "2022-01-16T10:51:23.007Z"
   },
   {
    "duration": 912,
    "start_time": "2022-01-16T10:51:23.966Z"
   },
   {
    "duration": 432,
    "start_time": "2022-01-16T10:51:24.881Z"
   },
   {
    "duration": 521,
    "start_time": "2022-01-16T10:51:25.316Z"
   },
   {
    "duration": 675,
    "start_time": "2022-01-16T10:51:25.840Z"
   },
   {
    "duration": 12,
    "start_time": "2022-01-16T10:51:26.518Z"
   },
   {
    "duration": 402,
    "start_time": "2022-01-16T10:51:26.532Z"
   },
   {
    "duration": 23,
    "start_time": "2022-01-16T10:51:26.937Z"
   },
   {
    "duration": 7,
    "start_time": "2022-01-16T10:51:26.962Z"
   },
   {
    "duration": 263,
    "start_time": "2022-01-16T10:51:26.972Z"
   },
   {
    "duration": 257,
    "start_time": "2022-01-16T10:51:27.238Z"
   },
   {
    "duration": 11,
    "start_time": "2022-01-16T10:51:27.498Z"
   },
   {
    "duration": 13,
    "start_time": "2022-01-16T10:51:27.511Z"
   },
   {
    "duration": 36,
    "start_time": "2022-01-16T10:51:27.526Z"
   },
   {
    "duration": 379,
    "start_time": "2022-01-16T10:51:27.566Z"
   },
   {
    "duration": 254,
    "start_time": "2022-01-16T10:51:27.948Z"
   },
   {
    "duration": 10,
    "start_time": "2022-01-16T10:51:28.204Z"
   },
   {
    "duration": 13,
    "start_time": "2022-01-16T10:51:28.217Z"
   },
   {
    "duration": 33,
    "start_time": "2022-01-16T10:51:28.233Z"
   },
   {
    "duration": 239,
    "start_time": "2022-01-16T10:51:28.269Z"
   },
   {
    "duration": 255,
    "start_time": "2022-01-16T10:51:28.510Z"
   },
   {
    "duration": 245,
    "start_time": "2022-01-16T10:51:28.769Z"
   },
   {
    "duration": 11,
    "start_time": "2022-01-16T10:51:29.017Z"
   },
   {
    "duration": 32,
    "start_time": "2022-01-16T10:51:29.031Z"
   },
   {
    "duration": 10,
    "start_time": "2022-01-16T10:51:29.066Z"
   },
   {
    "duration": 12,
    "start_time": "2022-01-16T10:51:29.078Z"
   },
   {
    "duration": 275,
    "start_time": "2022-01-16T10:51:29.093Z"
   },
   {
    "duration": 9,
    "start_time": "2022-01-16T10:51:29.370Z"
   },
   {
    "duration": 8,
    "start_time": "2022-01-16T10:51:29.382Z"
   },
   {
    "duration": 15,
    "start_time": "2022-01-16T10:51:29.392Z"
   },
   {
    "duration": 6,
    "start_time": "2022-01-16T10:51:29.409Z"
   },
   {
    "duration": 69,
    "start_time": "2022-01-16T10:51:29.418Z"
   },
   {
    "duration": 16,
    "start_time": "2022-01-16T10:51:29.489Z"
   },
   {
    "duration": 11794,
    "start_time": "2022-01-16T10:51:29.509Z"
   },
   {
    "duration": 7,
    "start_time": "2022-01-16T10:51:41.305Z"
   },
   {
    "duration": 23,
    "start_time": "2022-01-16T10:51:41.315Z"
   },
   {
    "duration": 10,
    "start_time": "2022-01-16T10:51:41.360Z"
   },
   {
    "duration": 17,
    "start_time": "2022-01-16T10:51:41.373Z"
   },
   {
    "duration": 22,
    "start_time": "2022-01-16T10:51:41.398Z"
   },
   {
    "duration": 10,
    "start_time": "2022-01-16T10:51:41.459Z"
   },
   {
    "duration": 17,
    "start_time": "2022-01-16T10:51:41.471Z"
   },
   {
    "duration": 8,
    "start_time": "2022-01-16T10:51:41.490Z"
   },
   {
    "duration": 401,
    "start_time": "2022-01-16T10:51:41.501Z"
   },
   {
    "duration": 51795,
    "start_time": "2022-01-16T10:52:22.061Z"
   },
   {
    "duration": 736,
    "start_time": "2022-01-16T10:53:26.269Z"
   },
   {
    "duration": 91,
    "start_time": "2022-01-16T10:53:27.008Z"
   },
   {
    "duration": 63,
    "start_time": "2022-01-16T10:53:27.105Z"
   },
   {
    "duration": 15,
    "start_time": "2022-01-16T10:53:27.170Z"
   },
   {
    "duration": 10,
    "start_time": "2022-01-16T10:53:27.188Z"
   },
   {
    "duration": 11,
    "start_time": "2022-01-16T10:53:27.200Z"
   },
   {
    "duration": 53,
    "start_time": "2022-01-16T10:53:27.214Z"
   },
   {
    "duration": 24498,
    "start_time": "2022-01-16T10:53:27.270Z"
   },
   {
    "duration": 11,
    "start_time": "2022-01-16T10:53:51.771Z"
   },
   {
    "duration": 15,
    "start_time": "2022-01-16T10:53:51.785Z"
   },
   {
    "duration": 59,
    "start_time": "2022-01-16T10:53:51.803Z"
   },
   {
    "duration": 24,
    "start_time": "2022-01-16T10:53:51.864Z"
   },
   {
    "duration": 8213,
    "start_time": "2022-01-16T10:53:51.891Z"
   },
   {
    "duration": 10,
    "start_time": "2022-01-16T10:54:00.107Z"
   },
   {
    "duration": 15,
    "start_time": "2022-01-16T10:54:00.119Z"
   },
   {
    "duration": 865,
    "start_time": "2022-01-16T10:54:00.136Z"
   },
   {
    "duration": 12,
    "start_time": "2022-01-16T10:54:01.003Z"
   },
   {
    "duration": 41,
    "start_time": "2022-01-16T10:54:01.018Z"
   },
   {
    "duration": 15,
    "start_time": "2022-01-16T10:54:01.062Z"
   },
   {
    "duration": 28,
    "start_time": "2022-01-16T10:54:01.080Z"
   },
   {
    "duration": 25,
    "start_time": "2022-01-16T10:54:01.110Z"
   },
   {
    "duration": 13,
    "start_time": "2022-01-16T10:54:01.160Z"
   },
   {
    "duration": 15,
    "start_time": "2022-01-16T10:54:01.176Z"
   },
   {
    "duration": 9,
    "start_time": "2022-01-16T10:54:01.194Z"
   },
   {
    "duration": 9,
    "start_time": "2022-01-16T10:54:01.206Z"
   },
   {
    "duration": 787,
    "start_time": "2022-01-16T10:54:01.223Z"
   },
   {
    "duration": 9,
    "start_time": "2022-01-16T10:54:02.014Z"
   },
   {
    "duration": 60,
    "start_time": "2022-01-16T10:54:02.026Z"
   },
   {
    "duration": 698,
    "start_time": "2022-01-16T10:54:02.089Z"
   },
   {
    "duration": 550,
    "start_time": "2022-01-16T10:54:02.789Z"
   },
   {
    "duration": 565,
    "start_time": "2022-01-16T10:54:03.342Z"
   },
   {
    "duration": 338,
    "start_time": "2022-01-16T10:54:03.910Z"
   },
   {
    "duration": 439,
    "start_time": "2022-01-16T10:54:04.251Z"
   },
   {
    "duration": 472,
    "start_time": "2022-01-16T10:54:04.692Z"
   },
   {
    "duration": 11,
    "start_time": "2022-01-16T10:54:05.167Z"
   },
   {
    "duration": 393,
    "start_time": "2022-01-16T10:54:05.181Z"
   },
   {
    "duration": 4,
    "start_time": "2022-01-16T10:54:05.577Z"
   },
   {
    "duration": 7,
    "start_time": "2022-01-16T10:54:05.584Z"
   },
   {
    "duration": 282,
    "start_time": "2022-01-16T10:54:05.593Z"
   },
   {
    "duration": 376,
    "start_time": "2022-01-16T10:54:05.878Z"
   },
   {
    "duration": 13,
    "start_time": "2022-01-16T10:54:06.260Z"
   },
   {
    "duration": 13,
    "start_time": "2022-01-16T10:54:06.277Z"
   },
   {
    "duration": 14,
    "start_time": "2022-01-16T10:54:06.293Z"
   },
   {
    "duration": 385,
    "start_time": "2022-01-16T10:54:06.311Z"
   },
   {
    "duration": 364,
    "start_time": "2022-01-16T10:54:06.699Z"
   },
   {
    "duration": 13,
    "start_time": "2022-01-16T10:54:07.067Z"
   },
   {
    "duration": 16,
    "start_time": "2022-01-16T10:54:07.083Z"
   },
   {
    "duration": 10,
    "start_time": "2022-01-16T10:54:07.101Z"
   },
   {
    "duration": 377,
    "start_time": "2022-01-16T10:54:07.114Z"
   },
   {
    "duration": 288,
    "start_time": "2022-01-16T10:54:07.494Z"
   },
   {
    "duration": 237,
    "start_time": "2022-01-16T10:54:07.784Z"
   },
   {
    "duration": 12,
    "start_time": "2022-01-16T10:54:08.024Z"
   },
   {
    "duration": 27,
    "start_time": "2022-01-16T10:54:08.040Z"
   },
   {
    "duration": 14,
    "start_time": "2022-01-16T10:54:08.070Z"
   },
   {
    "duration": 17,
    "start_time": "2022-01-16T10:54:08.087Z"
   },
   {
    "duration": 306,
    "start_time": "2022-01-16T10:54:08.107Z"
   },
   {
    "duration": 9,
    "start_time": "2022-01-16T10:54:08.416Z"
   },
   {
    "duration": 32,
    "start_time": "2022-01-16T10:54:08.428Z"
   },
   {
    "duration": 10,
    "start_time": "2022-01-16T10:54:08.462Z"
   },
   {
    "duration": 8,
    "start_time": "2022-01-16T10:54:08.475Z"
   },
   {
    "duration": 31,
    "start_time": "2022-01-16T10:54:08.486Z"
   },
   {
    "duration": 55,
    "start_time": "2022-01-16T10:54:08.520Z"
   },
   {
    "duration": 18241,
    "start_time": "2022-01-16T10:54:08.578Z"
   },
   {
    "duration": 7,
    "start_time": "2022-01-16T10:54:26.822Z"
   },
   {
    "duration": 41,
    "start_time": "2022-01-16T10:54:26.832Z"
   },
   {
    "duration": 15,
    "start_time": "2022-01-16T10:54:26.876Z"
   },
   {
    "duration": 25,
    "start_time": "2022-01-16T10:54:26.894Z"
   },
   {
    "duration": 67,
    "start_time": "2022-01-16T10:54:26.922Z"
   },
   {
    "duration": 12,
    "start_time": "2022-01-16T10:54:26.992Z"
   },
   {
    "duration": 24,
    "start_time": "2022-01-16T10:54:27.007Z"
   },
   {
    "duration": 8,
    "start_time": "2022-01-16T10:54:27.061Z"
   },
   {
    "duration": 369,
    "start_time": "2022-01-16T10:54:32.293Z"
   },
   {
    "duration": 405,
    "start_time": "2022-01-16T11:07:20.423Z"
   },
   {
    "duration": 30,
    "start_time": "2022-01-16T11:07:30.418Z"
   },
   {
    "duration": 11,
    "start_time": "2022-01-16T11:09:51.132Z"
   },
   {
    "duration": 414,
    "start_time": "2022-01-16T11:10:04.548Z"
   },
   {
    "duration": 12,
    "start_time": "2022-01-16T11:10:23.159Z"
   },
   {
    "duration": 12,
    "start_time": "2022-01-16T11:11:22.457Z"
   },
   {
    "duration": 11,
    "start_time": "2022-01-16T11:12:04.282Z"
   },
   {
    "duration": 340,
    "start_time": "2022-01-16T11:12:21.105Z"
   },
   {
    "duration": 313,
    "start_time": "2022-01-16T11:12:24.422Z"
   },
   {
    "duration": 372,
    "start_time": "2022-01-16T11:12:28.075Z"
   },
   {
    "duration": 6,
    "start_time": "2022-01-16T11:12:30.357Z"
   },
   {
    "duration": 7,
    "start_time": "2022-01-16T11:12:34.454Z"
   },
   {
    "duration": 7,
    "start_time": "2022-01-16T11:12:40.934Z"
   },
   {
    "duration": 316,
    "start_time": "2022-01-16T11:13:06.866Z"
   },
   {
    "duration": 9,
    "start_time": "2022-01-16T11:13:15.160Z"
   },
   {
    "duration": 9,
    "start_time": "2022-01-16T11:13:29.019Z"
   },
   {
    "duration": 305,
    "start_time": "2022-01-16T11:13:36.407Z"
   },
   {
    "duration": 332,
    "start_time": "2022-01-16T11:13:39.732Z"
   },
   {
    "duration": 6,
    "start_time": "2022-01-16T11:13:50.696Z"
   },
   {
    "duration": 11,
    "start_time": "2022-01-16T11:13:55.211Z"
   },
   {
    "duration": 8,
    "start_time": "2022-01-16T11:14:26.979Z"
   },
   {
    "duration": 7,
    "start_time": "2022-01-16T11:14:30.681Z"
   },
   {
    "duration": 7,
    "start_time": "2022-01-16T11:14:36.467Z"
   },
   {
    "duration": 8,
    "start_time": "2022-01-16T11:14:49.173Z"
   },
   {
    "duration": 345,
    "start_time": "2022-01-16T11:15:18.588Z"
   },
   {
    "duration": 330,
    "start_time": "2022-01-16T11:17:58.242Z"
   },
   {
    "duration": 376,
    "start_time": "2022-01-16T11:18:02.747Z"
   },
   {
    "duration": 13,
    "start_time": "2022-01-16T11:18:07.006Z"
   },
   {
    "duration": 13,
    "start_time": "2022-01-16T11:18:44.948Z"
   },
   {
    "duration": 329,
    "start_time": "2022-01-16T11:19:07.265Z"
   },
   {
    "duration": 323,
    "start_time": "2022-01-16T11:19:18.528Z"
   },
   {
    "duration": 47,
    "start_time": "2022-01-16T11:22:09.757Z"
   },
   {
    "duration": 8,
    "start_time": "2022-01-16T11:22:19.228Z"
   },
   {
    "duration": 35,
    "start_time": "2022-01-16T11:22:38.057Z"
   },
   {
    "duration": 13,
    "start_time": "2022-01-16T11:23:42.482Z"
   },
   {
    "duration": 12,
    "start_time": "2022-01-16T11:23:50.064Z"
   },
   {
    "duration": 11,
    "start_time": "2022-01-16T11:23:53.988Z"
   },
   {
    "duration": 69,
    "start_time": "2022-01-16T11:25:33.387Z"
   },
   {
    "duration": 69,
    "start_time": "2022-01-16T11:25:40.133Z"
   },
   {
    "duration": 73,
    "start_time": "2022-01-16T11:25:49.683Z"
   },
   {
    "duration": 8689,
    "start_time": "2022-01-16T11:26:30.710Z"
   },
   {
    "duration": 8,
    "start_time": "2022-01-16T11:27:02.981Z"
   },
   {
    "duration": 9039,
    "start_time": "2022-01-16T11:27:09.087Z"
   },
   {
    "duration": 10427,
    "start_time": "2022-01-16T11:27:26.316Z"
   },
   {
    "duration": 8620,
    "start_time": "2022-01-16T11:27:41.987Z"
   },
   {
    "duration": 990,
    "start_time": "2022-01-16T11:27:56.344Z"
   },
   {
    "duration": 95,
    "start_time": "2022-01-16T11:27:57.336Z"
   },
   {
    "duration": 58,
    "start_time": "2022-01-16T11:27:57.434Z"
   },
   {
    "duration": 15,
    "start_time": "2022-01-16T11:27:57.495Z"
   },
   {
    "duration": 11,
    "start_time": "2022-01-16T11:27:57.513Z"
   },
   {
    "duration": 50,
    "start_time": "2022-01-16T11:27:57.526Z"
   },
   {
    "duration": 11,
    "start_time": "2022-01-16T11:27:57.578Z"
   },
   {
    "duration": 26621,
    "start_time": "2022-01-16T11:27:57.592Z"
   },
   {
    "duration": 12,
    "start_time": "2022-01-16T11:28:24.216Z"
   },
   {
    "duration": 38,
    "start_time": "2022-01-16T11:28:24.230Z"
   },
   {
    "duration": 17,
    "start_time": "2022-01-16T11:28:24.271Z"
   },
   {
    "duration": 15,
    "start_time": "2022-01-16T11:28:24.291Z"
   },
   {
    "duration": 8180,
    "start_time": "2022-01-16T11:28:24.308Z"
   },
   {
    "duration": 12,
    "start_time": "2022-01-16T11:28:32.490Z"
   },
   {
    "duration": 12,
    "start_time": "2022-01-16T11:28:32.504Z"
   },
   {
    "duration": 943,
    "start_time": "2022-01-16T11:28:32.518Z"
   },
   {
    "duration": 12,
    "start_time": "2022-01-16T11:28:33.463Z"
   },
   {
    "duration": 13,
    "start_time": "2022-01-16T11:28:33.477Z"
   },
   {
    "duration": 13,
    "start_time": "2022-01-16T11:28:33.492Z"
   },
   {
    "duration": 56,
    "start_time": "2022-01-16T11:28:33.508Z"
   },
   {
    "duration": 13,
    "start_time": "2022-01-16T11:28:33.567Z"
   },
   {
    "duration": 13,
    "start_time": "2022-01-16T11:28:33.583Z"
   },
   {
    "duration": 8,
    "start_time": "2022-01-16T11:28:33.602Z"
   },
   {
    "duration": 48,
    "start_time": "2022-01-16T11:28:33.614Z"
   },
   {
    "duration": 8,
    "start_time": "2022-01-16T11:28:33.665Z"
   },
   {
    "duration": 818,
    "start_time": "2022-01-16T11:28:33.676Z"
   },
   {
    "duration": 7,
    "start_time": "2022-01-16T11:28:34.497Z"
   },
   {
    "duration": 55,
    "start_time": "2022-01-16T11:28:34.506Z"
   },
   {
    "duration": 734,
    "start_time": "2022-01-16T11:28:34.564Z"
   },
   {
    "duration": 1098,
    "start_time": "2022-01-16T11:28:35.302Z"
   },
   {
    "duration": 962,
    "start_time": "2022-01-16T11:28:36.404Z"
   },
   {
    "duration": 650,
    "start_time": "2022-01-16T11:28:37.370Z"
   },
   {
    "duration": 461,
    "start_time": "2022-01-16T11:28:38.024Z"
   },
   {
    "duration": 515,
    "start_time": "2022-01-16T11:28:38.488Z"
   },
   {
    "duration": 13,
    "start_time": "2022-01-16T11:28:39.005Z"
   },
   {
    "duration": 385,
    "start_time": "2022-01-16T11:28:39.020Z"
   },
   {
    "duration": 6,
    "start_time": "2022-01-16T11:28:39.407Z"
   },
   {
    "duration": 9,
    "start_time": "2022-01-16T11:28:39.416Z"
   },
   {
    "duration": 280,
    "start_time": "2022-01-16T11:28:39.428Z"
   },
   {
    "duration": 264,
    "start_time": "2022-01-16T11:28:39.711Z"
   },
   {
    "duration": 9,
    "start_time": "2022-01-16T11:28:39.978Z"
   },
   {
    "duration": 12,
    "start_time": "2022-01-16T11:28:39.991Z"
   },
   {
    "duration": 17,
    "start_time": "2022-01-16T11:28:40.007Z"
   },
   {
    "duration": 420,
    "start_time": "2022-01-16T11:28:40.062Z"
   },
   {
    "duration": 423,
    "start_time": "2022-01-16T11:28:40.486Z"
   },
   {
    "duration": 16,
    "start_time": "2022-01-16T11:28:40.913Z"
   },
   {
    "duration": 33,
    "start_time": "2022-01-16T11:28:40.932Z"
   },
   {
    "duration": 17,
    "start_time": "2022-01-16T11:28:40.969Z"
   },
   {
    "duration": 370,
    "start_time": "2022-01-16T11:28:40.990Z"
   },
   {
    "duration": 255,
    "start_time": "2022-01-16T11:28:41.363Z"
   },
   {
    "duration": 242,
    "start_time": "2022-01-16T11:28:41.620Z"
   },
   {
    "duration": 13,
    "start_time": "2022-01-16T11:28:41.866Z"
   },
   {
    "duration": 10,
    "start_time": "2022-01-16T11:28:41.883Z"
   },
   {
    "duration": 19,
    "start_time": "2022-01-16T11:28:41.896Z"
   },
   {
    "duration": 44,
    "start_time": "2022-01-16T11:28:41.917Z"
   },
   {
    "duration": 269,
    "start_time": "2022-01-16T11:28:41.964Z"
   },
   {
    "duration": 9,
    "start_time": "2022-01-16T11:28:42.235Z"
   },
   {
    "duration": 13,
    "start_time": "2022-01-16T11:28:42.261Z"
   },
   {
    "duration": 10,
    "start_time": "2022-01-16T11:28:42.277Z"
   },
   {
    "duration": 6,
    "start_time": "2022-01-16T11:28:42.289Z"
   },
   {
    "duration": 75,
    "start_time": "2022-01-16T11:28:42.297Z"
   },
   {
    "duration": 16,
    "start_time": "2022-01-16T11:28:42.375Z"
   },
   {
    "duration": 11914,
    "start_time": "2022-01-16T11:28:42.393Z"
   },
   {
    "duration": 6,
    "start_time": "2022-01-16T11:28:54.309Z"
   },
   {
    "duration": 16,
    "start_time": "2022-01-16T11:28:54.317Z"
   },
   {
    "duration": 11,
    "start_time": "2022-01-16T11:28:54.359Z"
   },
   {
    "duration": 24,
    "start_time": "2022-01-16T11:28:54.373Z"
   },
   {
    "duration": 22,
    "start_time": "2022-01-16T11:28:54.406Z"
   },
   {
    "duration": 37,
    "start_time": "2022-01-16T11:28:54.432Z"
   },
   {
    "duration": 22,
    "start_time": "2022-01-16T11:28:54.472Z"
   },
   {
    "duration": 8,
    "start_time": "2022-01-16T11:28:54.497Z"
   },
   {
    "duration": 8734,
    "start_time": "2022-01-16T11:28:58.213Z"
   },
   {
    "duration": 3058,
    "start_time": "2022-01-16T11:29:42.507Z"
   },
   {
    "duration": 128,
    "start_time": "2022-01-16T11:29:54.069Z"
   },
   {
    "duration": 77,
    "start_time": "2022-01-16T11:30:05.319Z"
   },
   {
    "duration": 3567,
    "start_time": "2022-01-16T11:30:15.917Z"
   },
   {
    "duration": 74,
    "start_time": "2022-01-16T11:30:31.619Z"
   },
   {
    "duration": 7887,
    "start_time": "2022-01-16T11:30:53.093Z"
   },
   {
    "duration": 412,
    "start_time": "2022-01-16T11:31:05.934Z"
   },
   {
    "duration": 286,
    "start_time": "2022-01-16T11:31:09.188Z"
   },
   {
    "duration": 293,
    "start_time": "2022-01-16T11:31:29.008Z"
   },
   {
    "duration": 398,
    "start_time": "2022-01-16T11:31:36.922Z"
   },
   {
    "duration": 450,
    "start_time": "2022-01-16T11:32:54.393Z"
   },
   {
    "duration": 425,
    "start_time": "2022-01-16T11:33:40.503Z"
   },
   {
    "duration": 282,
    "start_time": "2022-01-16T11:33:51.897Z"
   },
   {
    "duration": 121,
    "start_time": "2022-01-16T11:49:30.416Z"
   },
   {
    "duration": 805,
    "start_time": "2022-01-16T11:55:24.975Z"
   },
   {
    "duration": 92,
    "start_time": "2022-01-16T11:55:25.783Z"
   },
   {
    "duration": 48,
    "start_time": "2022-01-16T11:55:25.878Z"
   },
   {
    "duration": 31,
    "start_time": "2022-01-16T11:55:25.929Z"
   },
   {
    "duration": 14,
    "start_time": "2022-01-16T11:55:25.963Z"
   },
   {
    "duration": 17,
    "start_time": "2022-01-16T11:55:25.980Z"
   },
   {
    "duration": 27,
    "start_time": "2022-01-16T11:55:26.000Z"
   },
   {
    "duration": 24280,
    "start_time": "2022-01-16T11:55:26.032Z"
   },
   {
    "duration": 11,
    "start_time": "2022-01-16T11:55:50.315Z"
   },
   {
    "duration": 38,
    "start_time": "2022-01-16T11:55:50.329Z"
   },
   {
    "duration": 24,
    "start_time": "2022-01-16T11:55:50.370Z"
   },
   {
    "duration": 16,
    "start_time": "2022-01-16T11:55:50.397Z"
   },
   {
    "duration": 8544,
    "start_time": "2022-01-16T11:55:50.415Z"
   },
   {
    "duration": 13,
    "start_time": "2022-01-16T11:55:58.963Z"
   },
   {
    "duration": 13,
    "start_time": "2022-01-16T11:55:58.980Z"
   },
   {
    "duration": 928,
    "start_time": "2022-01-16T11:55:58.996Z"
   },
   {
    "duration": 12,
    "start_time": "2022-01-16T11:55:59.926Z"
   },
   {
    "duration": 38,
    "start_time": "2022-01-16T11:55:59.941Z"
   },
   {
    "duration": 11,
    "start_time": "2022-01-16T11:55:59.982Z"
   },
   {
    "duration": 35,
    "start_time": "2022-01-16T11:55:59.996Z"
   },
   {
    "duration": 33,
    "start_time": "2022-01-16T11:56:00.033Z"
   },
   {
    "duration": 22,
    "start_time": "2022-01-16T11:56:00.072Z"
   },
   {
    "duration": 9,
    "start_time": "2022-01-16T11:56:00.104Z"
   },
   {
    "duration": 7,
    "start_time": "2022-01-16T11:56:00.117Z"
   },
   {
    "duration": 39,
    "start_time": "2022-01-16T11:56:00.127Z"
   },
   {
    "duration": 814,
    "start_time": "2022-01-16T11:56:00.169Z"
   },
   {
    "duration": 8,
    "start_time": "2022-01-16T11:56:00.985Z"
   },
   {
    "duration": 39,
    "start_time": "2022-01-16T11:56:00.996Z"
   },
   {
    "duration": 873,
    "start_time": "2022-01-16T11:56:01.038Z"
   },
   {
    "duration": 579,
    "start_time": "2022-01-16T11:56:01.913Z"
   },
   {
    "duration": 546,
    "start_time": "2022-01-16T11:56:02.494Z"
   },
   {
    "duration": 366,
    "start_time": "2022-01-16T11:56:03.042Z"
   },
   {
    "duration": 475,
    "start_time": "2022-01-16T11:56:03.410Z"
   },
   {
    "duration": 497,
    "start_time": "2022-01-16T11:56:03.887Z"
   },
   {
    "duration": 11,
    "start_time": "2022-01-16T11:56:04.387Z"
   },
   {
    "duration": 394,
    "start_time": "2022-01-16T11:56:04.401Z"
   },
   {
    "duration": 5,
    "start_time": "2022-01-16T11:56:04.797Z"
   },
   {
    "duration": 7,
    "start_time": "2022-01-16T11:56:04.805Z"
   },
   {
    "duration": 275,
    "start_time": "2022-01-16T11:56:04.814Z"
   },
   {
    "duration": 275,
    "start_time": "2022-01-16T11:56:05.092Z"
   },
   {
    "duration": 12,
    "start_time": "2022-01-16T11:56:05.371Z"
   },
   {
    "duration": 10,
    "start_time": "2022-01-16T11:56:05.386Z"
   },
   {
    "duration": 12,
    "start_time": "2022-01-16T11:56:05.398Z"
   },
   {
    "duration": 272,
    "start_time": "2022-01-16T11:56:05.412Z"
   },
   {
    "duration": 239,
    "start_time": "2022-01-16T11:56:05.686Z"
   },
   {
    "duration": 10,
    "start_time": "2022-01-16T11:56:05.928Z"
   },
   {
    "duration": 27,
    "start_time": "2022-01-16T11:56:05.941Z"
   },
   {
    "duration": 19,
    "start_time": "2022-01-16T11:56:05.973Z"
   },
   {
    "duration": 251,
    "start_time": "2022-01-16T11:56:05.995Z"
   },
   {
    "duration": 242,
    "start_time": "2022-01-16T11:56:06.249Z"
   },
   {
    "duration": 227,
    "start_time": "2022-01-16T11:56:06.493Z"
   },
   {
    "duration": 10,
    "start_time": "2022-01-16T11:56:06.723Z"
   },
   {
    "duration": 28,
    "start_time": "2022-01-16T11:56:06.736Z"
   },
   {
    "duration": 13,
    "start_time": "2022-01-16T11:56:06.766Z"
   },
   {
    "duration": 11,
    "start_time": "2022-01-16T11:56:06.782Z"
   },
   {
    "duration": 282,
    "start_time": "2022-01-16T11:56:06.795Z"
   },
   {
    "duration": 9,
    "start_time": "2022-01-16T11:56:07.080Z"
   },
   {
    "duration": 9,
    "start_time": "2022-01-16T11:56:07.091Z"
   },
   {
    "duration": 9,
    "start_time": "2022-01-16T11:56:07.102Z"
   },
   {
    "duration": 6,
    "start_time": "2022-01-16T11:56:07.113Z"
   },
   {
    "duration": 66,
    "start_time": "2022-01-16T11:56:07.121Z"
   },
   {
    "duration": 16,
    "start_time": "2022-01-16T11:56:07.189Z"
   },
   {
    "duration": 12294,
    "start_time": "2022-01-16T11:56:07.208Z"
   },
   {
    "duration": 7,
    "start_time": "2022-01-16T11:56:19.504Z"
   },
   {
    "duration": 14,
    "start_time": "2022-01-16T11:56:19.523Z"
   },
   {
    "duration": 32,
    "start_time": "2022-01-16T11:56:19.539Z"
   },
   {
    "duration": 19,
    "start_time": "2022-01-16T11:56:19.575Z"
   },
   {
    "duration": 25,
    "start_time": "2022-01-16T11:56:19.602Z"
   },
   {
    "duration": 41,
    "start_time": "2022-01-16T11:56:19.630Z"
   },
   {
    "duration": 17,
    "start_time": "2022-01-16T11:56:19.674Z"
   },
   {
    "duration": 8,
    "start_time": "2022-01-16T11:56:19.693Z"
   },
   {
    "duration": 18,
    "start_time": "2022-01-16T11:56:19.704Z"
   },
   {
    "duration": 466,
    "start_time": "2022-01-16T11:56:19.724Z"
   },
   {
    "duration": 670,
    "start_time": "2022-01-16T11:56:19.524Z"
   },
   {
    "duration": 665,
    "start_time": "2022-01-16T11:56:19.531Z"
   },
   {
    "duration": 57,
    "start_time": "2022-01-16T11:57:17.120Z"
   },
   {
    "duration": 10,
    "start_time": "2022-01-16T11:57:20.585Z"
   },
   {
    "duration": 10,
    "start_time": "2022-01-16T11:57:47.393Z"
   },
   {
    "duration": 1119,
    "start_time": "2022-01-16T11:57:49.286Z"
   },
   {
    "duration": 17,
    "start_time": "2022-01-16T11:57:58.552Z"
   },
   {
    "duration": 56,
    "start_time": "2022-01-16T11:58:28.584Z"
   },
   {
    "duration": 11,
    "start_time": "2022-01-16T11:58:30.643Z"
   },
   {
    "duration": 645,
    "start_time": "2022-01-16T11:58:34.745Z"
   },
   {
    "duration": 10,
    "start_time": "2022-01-16T12:00:12.370Z"
   },
   {
    "duration": 763,
    "start_time": "2022-01-16T12:00:17.234Z"
   },
   {
    "duration": 358,
    "start_time": "2022-01-16T12:00:29.596Z"
   },
   {
    "duration": 417,
    "start_time": "2022-01-16T12:00:33.329Z"
   },
   {
    "duration": 376,
    "start_time": "2022-01-16T12:02:26.490Z"
   },
   {
    "duration": 1837,
    "start_time": "2022-01-16T13:00:28.396Z"
   },
   {
    "duration": 11,
    "start_time": "2022-01-16T13:02:14.023Z"
   },
   {
    "duration": 7,
    "start_time": "2022-01-16T13:04:22.551Z"
   },
   {
    "duration": 6,
    "start_time": "2022-01-16T13:05:05.165Z"
   },
   {
    "duration": 101,
    "start_time": "2022-01-16T13:05:42.549Z"
   },
   {
    "duration": 7685,
    "start_time": "2022-01-16T13:07:09.624Z"
   },
   {
    "duration": 33,
    "start_time": "2022-01-16T13:07:54.528Z"
   },
   {
    "duration": 13,
    "start_time": "2022-01-16T13:22:28.070Z"
   },
   {
    "duration": 18,
    "start_time": "2022-01-16T13:24:21.634Z"
   },
   {
    "duration": 3222,
    "start_time": "2022-01-16T13:24:35.748Z"
   },
   {
    "duration": 792,
    "start_time": "2022-01-16T13:27:47.837Z"
   },
   {
    "duration": 91,
    "start_time": "2022-01-16T13:27:48.632Z"
   },
   {
    "duration": 72,
    "start_time": "2022-01-16T13:27:48.727Z"
   },
   {
    "duration": 18,
    "start_time": "2022-01-16T13:27:48.802Z"
   },
   {
    "duration": 36,
    "start_time": "2022-01-16T13:27:48.823Z"
   },
   {
    "duration": 11,
    "start_time": "2022-01-16T13:27:48.861Z"
   },
   {
    "duration": 15,
    "start_time": "2022-01-16T13:27:48.875Z"
   },
   {
    "duration": 24581,
    "start_time": "2022-01-16T13:27:48.894Z"
   },
   {
    "duration": 11,
    "start_time": "2022-01-16T13:28:13.478Z"
   },
   {
    "duration": 14,
    "start_time": "2022-01-16T13:28:13.491Z"
   },
   {
    "duration": 16,
    "start_time": "2022-01-16T13:28:13.508Z"
   },
   {
    "duration": 17,
    "start_time": "2022-01-16T13:28:13.560Z"
   },
   {
    "duration": 8762,
    "start_time": "2022-01-16T13:28:13.579Z"
   },
   {
    "duration": 20,
    "start_time": "2022-01-16T13:28:22.344Z"
   },
   {
    "duration": 14,
    "start_time": "2022-01-16T13:28:22.367Z"
   },
   {
    "duration": 1068,
    "start_time": "2022-01-16T13:28:22.384Z"
   },
   {
    "duration": 16,
    "start_time": "2022-01-16T13:28:23.454Z"
   },
   {
    "duration": 17,
    "start_time": "2022-01-16T13:28:23.473Z"
   },
   {
    "duration": 17,
    "start_time": "2022-01-16T13:28:23.493Z"
   },
   {
    "duration": 52,
    "start_time": "2022-01-16T13:28:23.512Z"
   },
   {
    "duration": 18,
    "start_time": "2022-01-16T13:28:23.567Z"
   },
   {
    "duration": 15,
    "start_time": "2022-01-16T13:28:23.588Z"
   },
   {
    "duration": 8,
    "start_time": "2022-01-16T13:28:23.609Z"
   },
   {
    "duration": 7,
    "start_time": "2022-01-16T13:28:23.621Z"
   },
   {
    "duration": 9,
    "start_time": "2022-01-16T13:28:23.659Z"
   },
   {
    "duration": 993,
    "start_time": "2022-01-16T13:28:23.671Z"
   },
   {
    "duration": 11,
    "start_time": "2022-01-16T13:28:24.666Z"
   },
   {
    "duration": 38,
    "start_time": "2022-01-16T13:28:24.680Z"
   },
   {
    "duration": 776,
    "start_time": "2022-01-16T13:28:24.720Z"
   },
   {
    "duration": 597,
    "start_time": "2022-01-16T13:28:25.499Z"
   },
   {
    "duration": 551,
    "start_time": "2022-01-16T13:28:26.099Z"
   },
   {
    "duration": 364,
    "start_time": "2022-01-16T13:28:26.652Z"
   },
   {
    "duration": 464,
    "start_time": "2022-01-16T13:28:27.019Z"
   },
   {
    "duration": 525,
    "start_time": "2022-01-16T13:28:27.485Z"
   },
   {
    "duration": 14,
    "start_time": "2022-01-16T13:28:28.013Z"
   },
   {
    "duration": 387,
    "start_time": "2022-01-16T13:28:28.030Z"
   },
   {
    "duration": 5,
    "start_time": "2022-01-16T13:28:28.420Z"
   },
   {
    "duration": 8,
    "start_time": "2022-01-16T13:28:28.427Z"
   },
   {
    "duration": 257,
    "start_time": "2022-01-16T13:28:28.460Z"
   },
   {
    "duration": 241,
    "start_time": "2022-01-16T13:28:28.721Z"
   },
   {
    "duration": 10,
    "start_time": "2022-01-16T13:28:28.966Z"
   },
   {
    "duration": 13,
    "start_time": "2022-01-16T13:28:28.979Z"
   },
   {
    "duration": 13,
    "start_time": "2022-01-16T13:28:28.995Z"
   },
   {
    "duration": 262,
    "start_time": "2022-01-16T13:28:29.011Z"
   },
   {
    "duration": 256,
    "start_time": "2022-01-16T13:28:29.276Z"
   },
   {
    "duration": 25,
    "start_time": "2022-01-16T13:28:29.535Z"
   },
   {
    "duration": 12,
    "start_time": "2022-01-16T13:28:29.564Z"
   },
   {
    "duration": 11,
    "start_time": "2022-01-16T13:28:29.579Z"
   },
   {
    "duration": 256,
    "start_time": "2022-01-16T13:28:29.592Z"
   },
   {
    "duration": 242,
    "start_time": "2022-01-16T13:28:29.850Z"
   },
   {
    "duration": 233,
    "start_time": "2022-01-16T13:28:30.095Z"
   },
   {
    "duration": 10,
    "start_time": "2022-01-16T13:28:30.331Z"
   },
   {
    "duration": 32,
    "start_time": "2022-01-16T13:28:30.343Z"
   },
   {
    "duration": 15,
    "start_time": "2022-01-16T13:28:30.377Z"
   },
   {
    "duration": 15,
    "start_time": "2022-01-16T13:28:30.394Z"
   },
   {
    "duration": 273,
    "start_time": "2022-01-16T13:28:30.411Z"
   },
   {
    "duration": 10,
    "start_time": "2022-01-16T13:28:30.686Z"
   },
   {
    "duration": 16,
    "start_time": "2022-01-16T13:28:30.698Z"
   },
   {
    "duration": 14,
    "start_time": "2022-01-16T13:28:30.716Z"
   },
   {
    "duration": 28,
    "start_time": "2022-01-16T13:28:30.732Z"
   },
   {
    "duration": 32,
    "start_time": "2022-01-16T13:28:30.762Z"
   },
   {
    "duration": 16,
    "start_time": "2022-01-16T13:28:30.796Z"
   },
   {
    "duration": 11223,
    "start_time": "2022-01-16T13:28:30.815Z"
   },
   {
    "duration": 19,
    "start_time": "2022-01-16T13:28:42.041Z"
   },
   {
    "duration": 26,
    "start_time": "2022-01-16T13:28:42.062Z"
   },
   {
    "duration": 11,
    "start_time": "2022-01-16T13:28:42.091Z"
   },
   {
    "duration": 14,
    "start_time": "2022-01-16T13:28:42.105Z"
   },
   {
    "duration": 52,
    "start_time": "2022-01-16T13:28:42.127Z"
   },
   {
    "duration": 9,
    "start_time": "2022-01-16T13:28:42.183Z"
   },
   {
    "duration": 14,
    "start_time": "2022-01-16T13:28:42.195Z"
   },
   {
    "duration": 9,
    "start_time": "2022-01-16T13:28:42.211Z"
   },
   {
    "duration": 42,
    "start_time": "2022-01-16T13:28:42.223Z"
   },
   {
    "duration": 61,
    "start_time": "2022-01-16T13:28:42.268Z"
   },
   {
    "duration": 9,
    "start_time": "2022-01-16T13:28:42.331Z"
   },
   {
    "duration": 405,
    "start_time": "2022-01-16T13:28:42.342Z"
   },
   {
    "duration": 301,
    "start_time": "2022-01-16T13:28:42.749Z"
   },
   {
    "duration": 13,
    "start_time": "2022-01-16T13:28:43.053Z"
   },
   {
    "duration": 14,
    "start_time": "2022-01-16T13:28:43.069Z"
   },
   {
    "duration": 31,
    "start_time": "2022-01-16T13:28:43.085Z"
   },
   {
    "duration": 42,
    "start_time": "2022-01-16T13:28:43.118Z"
   },
   {
    "duration": 17,
    "start_time": "2022-01-16T13:28:43.162Z"
   },
   {
    "duration": 3100,
    "start_time": "2022-01-16T13:28:43.181Z"
   },
   {
    "duration": 6,
    "start_time": "2022-01-16T13:28:46.283Z"
   },
   {
    "duration": 19,
    "start_time": "2022-01-16T13:28:46.291Z"
   },
   {
    "duration": 415,
    "start_time": "2022-01-16T14:05:17.226Z"
   },
   {
    "duration": 405,
    "start_time": "2022-01-16T14:05:34.117Z"
   },
   {
    "duration": 302,
    "start_time": "2022-01-16T14:05:50.386Z"
   },
   {
    "duration": 333,
    "start_time": "2022-01-16T14:06:26.037Z"
   },
   {
    "duration": 284,
    "start_time": "2022-01-16T14:06:42.405Z"
   },
   {
    "duration": 98,
    "start_time": "2022-01-16T14:07:09.199Z"
   },
   {
    "duration": 13,
    "start_time": "2022-01-16T14:08:59.246Z"
   },
   {
    "duration": 103,
    "start_time": "2022-01-16T14:09:53.676Z"
   },
   {
    "duration": 608,
    "start_time": "2022-01-19T11:41:34.095Z"
   },
   {
    "duration": 71,
    "start_time": "2022-01-19T11:41:34.705Z"
   },
   {
    "duration": 31,
    "start_time": "2022-01-19T11:41:34.778Z"
   },
   {
    "duration": 29,
    "start_time": "2022-01-19T11:41:34.812Z"
   },
   {
    "duration": 18,
    "start_time": "2022-01-19T11:41:34.843Z"
   },
   {
    "duration": 23,
    "start_time": "2022-01-19T11:41:34.863Z"
   },
   {
    "duration": 21,
    "start_time": "2022-01-19T11:41:34.888Z"
   },
   {
    "duration": 15105,
    "start_time": "2022-01-19T11:41:34.912Z"
   },
   {
    "duration": 7,
    "start_time": "2022-01-19T11:41:50.019Z"
   },
   {
    "duration": 31,
    "start_time": "2022-01-19T11:41:50.028Z"
   },
   {
    "duration": 29,
    "start_time": "2022-01-19T11:41:50.061Z"
   },
   {
    "duration": 13,
    "start_time": "2022-01-19T11:41:50.092Z"
   },
   {
    "duration": 4503,
    "start_time": "2022-01-19T11:41:50.107Z"
   },
   {
    "duration": 7,
    "start_time": "2022-01-19T11:41:54.611Z"
   },
   {
    "duration": 22,
    "start_time": "2022-01-19T11:41:54.620Z"
   },
   {
    "duration": 498,
    "start_time": "2022-01-19T11:41:54.643Z"
   },
   {
    "duration": 8,
    "start_time": "2022-01-19T11:41:55.142Z"
   },
   {
    "duration": 28,
    "start_time": "2022-01-19T11:41:55.151Z"
   },
   {
    "duration": 18,
    "start_time": "2022-01-19T11:41:55.181Z"
   },
   {
    "duration": 30,
    "start_time": "2022-01-19T11:41:55.201Z"
   },
   {
    "duration": 23,
    "start_time": "2022-01-19T11:41:55.232Z"
   },
   {
    "duration": 39,
    "start_time": "2022-01-19T11:41:55.256Z"
   },
   {
    "duration": 6,
    "start_time": "2022-01-19T11:41:55.298Z"
   },
   {
    "duration": 31,
    "start_time": "2022-01-19T11:41:55.306Z"
   },
   {
    "duration": 18,
    "start_time": "2022-01-19T11:41:55.339Z"
   },
   {
    "duration": 428,
    "start_time": "2022-01-19T11:41:55.359Z"
   },
   {
    "duration": 5,
    "start_time": "2022-01-19T11:41:55.789Z"
   },
   {
    "duration": 41,
    "start_time": "2022-01-19T11:41:55.796Z"
   },
   {
    "duration": 463,
    "start_time": "2022-01-19T11:41:55.839Z"
   },
   {
    "duration": 316,
    "start_time": "2022-01-19T11:41:56.304Z"
   },
   {
    "duration": 297,
    "start_time": "2022-01-19T11:41:56.622Z"
   },
   {
    "duration": 195,
    "start_time": "2022-01-19T11:41:56.921Z"
   },
   {
    "duration": 265,
    "start_time": "2022-01-19T11:41:57.118Z"
   },
   {
    "duration": 306,
    "start_time": "2022-01-19T11:41:57.385Z"
   },
   {
    "duration": 8,
    "start_time": "2022-01-19T11:41:57.693Z"
   },
   {
    "duration": 227,
    "start_time": "2022-01-19T11:41:57.703Z"
   },
   {
    "duration": 10,
    "start_time": "2022-01-19T11:41:57.932Z"
   },
   {
    "duration": 6,
    "start_time": "2022-01-19T11:41:57.944Z"
   },
   {
    "duration": 149,
    "start_time": "2022-01-19T11:41:57.951Z"
   },
   {
    "duration": 140,
    "start_time": "2022-01-19T11:41:58.101Z"
   },
   {
    "duration": 6,
    "start_time": "2022-01-19T11:41:58.243Z"
   },
   {
    "duration": 9,
    "start_time": "2022-01-19T11:41:58.250Z"
   },
   {
    "duration": 10,
    "start_time": "2022-01-19T11:41:58.260Z"
   },
   {
    "duration": 148,
    "start_time": "2022-01-19T11:41:58.271Z"
   },
   {
    "duration": 141,
    "start_time": "2022-01-19T11:41:58.421Z"
   },
   {
    "duration": 7,
    "start_time": "2022-01-19T11:41:58.564Z"
   },
   {
    "duration": 18,
    "start_time": "2022-01-19T11:41:58.573Z"
   },
   {
    "duration": 12,
    "start_time": "2022-01-19T11:41:58.593Z"
   },
   {
    "duration": 128,
    "start_time": "2022-01-19T11:41:58.606Z"
   },
   {
    "duration": 130,
    "start_time": "2022-01-19T11:41:58.736Z"
   },
   {
    "duration": 130,
    "start_time": "2022-01-19T11:41:58.867Z"
   },
   {
    "duration": 7,
    "start_time": "2022-01-19T11:41:58.998Z"
   },
   {
    "duration": 12,
    "start_time": "2022-01-19T11:41:59.006Z"
   },
   {
    "duration": 6,
    "start_time": "2022-01-19T11:41:59.020Z"
   },
   {
    "duration": 19,
    "start_time": "2022-01-19T11:41:59.028Z"
   },
   {
    "duration": 143,
    "start_time": "2022-01-19T11:41:59.049Z"
   },
   {
    "duration": 6,
    "start_time": "2022-01-19T11:41:59.193Z"
   },
   {
    "duration": 7,
    "start_time": "2022-01-19T11:41:59.201Z"
   },
   {
    "duration": 8,
    "start_time": "2022-01-19T11:41:59.209Z"
   },
   {
    "duration": 25,
    "start_time": "2022-01-19T11:41:59.219Z"
   },
   {
    "duration": 18,
    "start_time": "2022-01-19T11:41:59.246Z"
   },
   {
    "duration": 10,
    "start_time": "2022-01-19T11:41:59.266Z"
   },
   {
    "duration": 8005,
    "start_time": "2022-01-19T11:41:59.277Z"
   },
   {
    "duration": 4,
    "start_time": "2022-01-19T11:42:07.283Z"
   },
   {
    "duration": 14,
    "start_time": "2022-01-19T11:42:07.289Z"
   },
   {
    "duration": 6,
    "start_time": "2022-01-19T11:42:07.304Z"
   },
   {
    "duration": 29,
    "start_time": "2022-01-19T11:42:07.312Z"
   },
   {
    "duration": 15,
    "start_time": "2022-01-19T11:42:07.348Z"
   },
   {
    "duration": 8,
    "start_time": "2022-01-19T11:42:07.365Z"
   },
   {
    "duration": 11,
    "start_time": "2022-01-19T11:42:07.375Z"
   },
   {
    "duration": 9,
    "start_time": "2022-01-19T11:42:07.388Z"
   },
   {
    "duration": 9,
    "start_time": "2022-01-19T11:42:07.399Z"
   },
   {
    "duration": 65,
    "start_time": "2022-01-19T11:42:07.410Z"
   },
   {
    "duration": 7,
    "start_time": "2022-01-19T11:42:07.477Z"
   },
   {
    "duration": 250,
    "start_time": "2022-01-19T11:42:07.485Z"
   },
   {
    "duration": 186,
    "start_time": "2022-01-19T11:42:07.736Z"
   },
   {
    "duration": 25,
    "start_time": "2022-01-19T11:42:07.924Z"
   },
   {
    "duration": 15,
    "start_time": "2022-01-19T11:42:07.952Z"
   },
   {
    "duration": 40,
    "start_time": "2022-01-19T11:42:07.969Z"
   },
   {
    "duration": 10,
    "start_time": "2022-01-19T11:42:08.011Z"
   },
   {
    "duration": 16,
    "start_time": "2022-01-19T11:42:08.023Z"
   },
   {
    "duration": 1799,
    "start_time": "2022-01-19T11:42:08.042Z"
   },
   {
    "duration": 4,
    "start_time": "2022-01-19T11:42:09.843Z"
   },
   {
    "duration": 21,
    "start_time": "2022-01-19T11:42:09.849Z"
   },
   {
    "duration": 10,
    "start_time": "2022-01-19T11:42:28.031Z"
   },
   {
    "duration": 25,
    "start_time": "2022-01-19T11:42:30.135Z"
   },
   {
    "duration": 5,
    "start_time": "2022-01-19T11:42:39.040Z"
   },
   {
    "duration": 3,
    "start_time": "2022-01-19T11:44:31.740Z"
   },
   {
    "duration": 9,
    "start_time": "2022-01-19T11:44:55.703Z"
   },
   {
    "duration": 165,
    "start_time": "2022-01-19T12:07:44.812Z"
   },
   {
    "duration": 174,
    "start_time": "2022-01-19T12:08:27.951Z"
   },
   {
    "duration": 676,
    "start_time": "2022-01-19T13:30:20.482Z"
   },
   {
    "duration": 68,
    "start_time": "2022-01-19T13:30:21.160Z"
   },
   {
    "duration": 30,
    "start_time": "2022-01-19T13:30:21.230Z"
   },
   {
    "duration": 10,
    "start_time": "2022-01-19T13:30:21.262Z"
   },
   {
    "duration": 24,
    "start_time": "2022-01-19T13:30:21.274Z"
   },
   {
    "duration": 8,
    "start_time": "2022-01-19T13:30:21.300Z"
   },
   {
    "duration": 11,
    "start_time": "2022-01-19T13:30:21.310Z"
   },
   {
    "duration": 15802,
    "start_time": "2022-01-19T13:30:21.324Z"
   },
   {
    "duration": 10,
    "start_time": "2022-01-19T13:30:37.128Z"
   },
   {
    "duration": 9,
    "start_time": "2022-01-19T13:30:37.140Z"
   },
   {
    "duration": 11,
    "start_time": "2022-01-19T13:30:37.151Z"
   },
   {
    "duration": 37,
    "start_time": "2022-01-19T13:30:37.164Z"
   },
   {
    "duration": 4796,
    "start_time": "2022-01-19T13:30:37.202Z"
   },
   {
    "duration": 8,
    "start_time": "2022-01-19T13:30:41.999Z"
   },
   {
    "duration": 15,
    "start_time": "2022-01-19T13:30:42.008Z"
   },
   {
    "duration": 523,
    "start_time": "2022-01-19T13:30:42.025Z"
   },
   {
    "duration": 7,
    "start_time": "2022-01-19T13:30:42.550Z"
   },
   {
    "duration": 298,
    "start_time": "2022-01-19T13:30:42.558Z"
   },
   {
    "duration": 139,
    "start_time": "2022-01-19T13:30:42.719Z"
   },
   {
    "duration": 134,
    "start_time": "2022-01-19T13:30:42.725Z"
   },
   {
    "duration": 129,
    "start_time": "2022-01-19T13:30:42.731Z"
   },
   {
    "duration": 123,
    "start_time": "2022-01-19T13:30:42.738Z"
   },
   {
    "duration": 119,
    "start_time": "2022-01-19T13:30:42.743Z"
   },
   {
    "duration": 113,
    "start_time": "2022-01-19T13:30:42.750Z"
   },
   {
    "duration": 109,
    "start_time": "2022-01-19T13:30:42.755Z"
   },
   {
    "duration": 104,
    "start_time": "2022-01-19T13:30:42.761Z"
   },
   {
    "duration": 100,
    "start_time": "2022-01-19T13:30:42.766Z"
   },
   {
    "duration": 95,
    "start_time": "2022-01-19T13:30:42.772Z"
   },
   {
    "duration": 91,
    "start_time": "2022-01-19T13:30:42.777Z"
   },
   {
    "duration": 86,
    "start_time": "2022-01-19T13:30:42.783Z"
   },
   {
    "duration": 82,
    "start_time": "2022-01-19T13:30:42.788Z"
   },
   {
    "duration": 66,
    "start_time": "2022-01-19T13:30:42.805Z"
   },
   {
    "duration": 613,
    "start_time": "2022-01-19T13:31:56.370Z"
   },
   {
    "duration": 384,
    "start_time": "2022-01-19T13:32:17.475Z"
   },
   {
    "duration": 98,
    "start_time": "2022-01-19T13:33:25.249Z"
   },
   {
    "duration": 592,
    "start_time": "2022-01-19T13:33:34.014Z"
   },
   {
    "duration": 394,
    "start_time": "2022-01-19T13:33:49.446Z"
   },
   {
    "duration": 379,
    "start_time": "2022-01-19T13:34:00.026Z"
   },
   {
    "duration": 1333,
    "start_time": "2022-01-19T13:35:58.823Z"
   },
   {
    "duration": 901,
    "start_time": "2022-01-19T13:36:20.978Z"
   },
   {
    "duration": 410,
    "start_time": "2022-01-19T13:36:30.400Z"
   },
   {
    "duration": 394,
    "start_time": "2022-01-19T13:36:55.744Z"
   },
   {
    "duration": 384,
    "start_time": "2022-01-19T13:38:02.527Z"
   },
   {
    "duration": 362,
    "start_time": "2022-01-19T13:39:43.898Z"
   },
   {
    "duration": 224,
    "start_time": "2022-01-19T13:39:58.350Z"
   },
   {
    "duration": 433,
    "start_time": "2022-01-19T13:40:24.962Z"
   },
   {
    "duration": 402,
    "start_time": "2022-01-19T13:40:33.898Z"
   },
   {
    "duration": 365,
    "start_time": "2022-01-19T13:40:45.115Z"
   },
   {
    "duration": 378,
    "start_time": "2022-01-19T13:40:55.673Z"
   },
   {
    "duration": 227,
    "start_time": "2022-01-19T13:41:11.415Z"
   },
   {
    "duration": 219,
    "start_time": "2022-01-19T13:41:30.613Z"
   },
   {
    "duration": 215,
    "start_time": "2022-01-19T13:41:37.004Z"
   },
   {
    "duration": 316,
    "start_time": "2022-01-19T13:41:43.382Z"
   },
   {
    "duration": 238,
    "start_time": "2022-01-19T13:42:14.195Z"
   },
   {
    "duration": 296,
    "start_time": "2022-01-19T13:45:31.733Z"
   },
   {
    "duration": 283,
    "start_time": "2022-01-19T13:45:43.755Z"
   },
   {
    "duration": 281,
    "start_time": "2022-01-19T13:45:54.021Z"
   },
   {
    "duration": 285,
    "start_time": "2022-01-19T13:45:59.214Z"
   },
   {
    "duration": 304,
    "start_time": "2022-01-19T13:46:04.874Z"
   },
   {
    "duration": 240,
    "start_time": "2022-01-19T13:48:44.311Z"
   },
   {
    "duration": 295,
    "start_time": "2022-01-19T13:49:10.299Z"
   },
   {
    "duration": 366,
    "start_time": "2022-01-19T13:49:23.853Z"
   },
   {
    "duration": 282,
    "start_time": "2022-01-19T13:49:34.139Z"
   },
   {
    "duration": 154,
    "start_time": "2022-01-19T13:51:09.181Z"
   },
   {
    "duration": 159,
    "start_time": "2022-01-19T13:51:17.847Z"
   },
   {
    "duration": 147,
    "start_time": "2022-01-19T13:52:03.893Z"
   },
   {
    "duration": 147,
    "start_time": "2022-01-19T13:52:18.193Z"
   },
   {
    "duration": 150,
    "start_time": "2022-01-19T13:52:41.149Z"
   },
   {
    "duration": 155,
    "start_time": "2022-01-19T13:53:12.365Z"
   },
   {
    "duration": 139,
    "start_time": "2022-01-19T13:53:29.308Z"
   },
   {
    "duration": 686,
    "start_time": "2022-01-19T13:53:50.373Z"
   },
   {
    "duration": 70,
    "start_time": "2022-01-19T13:53:51.061Z"
   },
   {
    "duration": 30,
    "start_time": "2022-01-19T13:53:51.133Z"
   },
   {
    "duration": 11,
    "start_time": "2022-01-19T13:53:51.165Z"
   },
   {
    "duration": 26,
    "start_time": "2022-01-19T13:53:51.177Z"
   },
   {
    "duration": 8,
    "start_time": "2022-01-19T13:53:51.205Z"
   },
   {
    "duration": 11,
    "start_time": "2022-01-19T13:53:51.214Z"
   },
   {
    "duration": 15367,
    "start_time": "2022-01-19T13:53:51.228Z"
   },
   {
    "duration": 7,
    "start_time": "2022-01-19T13:54:06.597Z"
   },
   {
    "duration": 9,
    "start_time": "2022-01-19T13:54:06.605Z"
   },
   {
    "duration": 14,
    "start_time": "2022-01-19T13:54:06.615Z"
   },
   {
    "duration": 11,
    "start_time": "2022-01-19T13:54:06.630Z"
   },
   {
    "duration": 4852,
    "start_time": "2022-01-19T13:54:06.643Z"
   },
   {
    "duration": 7,
    "start_time": "2022-01-19T13:54:11.497Z"
   },
   {
    "duration": 9,
    "start_time": "2022-01-19T13:54:11.506Z"
   },
   {
    "duration": 530,
    "start_time": "2022-01-19T13:54:11.516Z"
   },
   {
    "duration": 8,
    "start_time": "2022-01-19T13:54:12.048Z"
   },
   {
    "duration": 294,
    "start_time": "2022-01-19T13:54:12.057Z"
   },
   {
    "duration": 175,
    "start_time": "2022-01-19T13:54:12.180Z"
   },
   {
    "duration": 170,
    "start_time": "2022-01-19T13:54:12.186Z"
   },
   {
    "duration": 164,
    "start_time": "2022-01-19T13:54:12.194Z"
   },
   {
    "duration": 159,
    "start_time": "2022-01-19T13:54:12.200Z"
   },
   {
    "duration": 154,
    "start_time": "2022-01-19T13:54:12.206Z"
   },
   {
    "duration": 149,
    "start_time": "2022-01-19T13:54:12.212Z"
   },
   {
    "duration": 136,
    "start_time": "2022-01-19T13:54:12.226Z"
   },
   {
    "duration": 130,
    "start_time": "2022-01-19T13:54:12.233Z"
   },
   {
    "duration": 125,
    "start_time": "2022-01-19T13:54:12.239Z"
   },
   {
    "duration": 120,
    "start_time": "2022-01-19T13:54:12.245Z"
   },
   {
    "duration": 116,
    "start_time": "2022-01-19T13:54:12.250Z"
   },
   {
    "duration": 111,
    "start_time": "2022-01-19T13:54:12.256Z"
   },
   {
    "duration": 106,
    "start_time": "2022-01-19T13:54:12.262Z"
   },
   {
    "duration": 102,
    "start_time": "2022-01-19T13:54:12.268Z"
   },
   {
    "duration": 88,
    "start_time": "2022-01-19T13:54:12.283Z"
   },
   {
    "duration": 83,
    "start_time": "2022-01-19T13:54:12.289Z"
   },
   {
    "duration": 78,
    "start_time": "2022-01-19T13:54:12.295Z"
   },
   {
    "duration": 74,
    "start_time": "2022-01-19T13:54:12.300Z"
   },
   {
    "duration": 69,
    "start_time": "2022-01-19T13:54:12.306Z"
   },
   {
    "duration": 65,
    "start_time": "2022-01-19T13:54:12.311Z"
   },
   {
    "duration": 62,
    "start_time": "2022-01-19T13:54:12.316Z"
   },
   {
    "duration": 56,
    "start_time": "2022-01-19T13:54:12.322Z"
   },
   {
    "duration": 39,
    "start_time": "2022-01-19T13:54:12.340Z"
   },
   {
    "duration": 34,
    "start_time": "2022-01-19T13:54:12.346Z"
   },
   {
    "duration": 30,
    "start_time": "2022-01-19T13:54:12.351Z"
   },
   {
    "duration": 25,
    "start_time": "2022-01-19T13:54:12.357Z"
   },
   {
    "duration": 21,
    "start_time": "2022-01-19T13:54:12.362Z"
   },
   {
    "duration": 16,
    "start_time": "2022-01-19T13:54:12.368Z"
   },
   {
    "duration": 12,
    "start_time": "2022-01-19T13:54:12.373Z"
   },
   {
    "duration": 7,
    "start_time": "2022-01-19T13:54:12.379Z"
   },
   {
    "duration": 2,
    "start_time": "2022-01-19T13:54:12.385Z"
   },
   {
    "duration": -2,
    "start_time": "2022-01-19T13:54:12.390Z"
   },
   {
    "duration": -6,
    "start_time": "2022-01-19T13:54:12.395Z"
   },
   {
    "duration": -10,
    "start_time": "2022-01-19T13:54:12.400Z"
   },
   {
    "duration": -15,
    "start_time": "2022-01-19T13:54:12.406Z"
   },
   {
    "duration": -19,
    "start_time": "2022-01-19T13:54:12.411Z"
   },
   {
    "duration": -24,
    "start_time": "2022-01-19T13:54:12.417Z"
   },
   {
    "duration": -28,
    "start_time": "2022-01-19T13:54:12.422Z"
   },
   {
    "duration": -34,
    "start_time": "2022-01-19T13:54:12.428Z"
   },
   {
    "duration": -39,
    "start_time": "2022-01-19T13:54:12.434Z"
   },
   {
    "duration": -55,
    "start_time": "2022-01-19T13:54:12.450Z"
   },
   {
    "duration": 5,
    "start_time": "2022-01-19T13:54:49.470Z"
   },
   {
    "duration": 676,
    "start_time": "2022-01-19T14:06:59.295Z"
   },
   {
    "duration": 73,
    "start_time": "2022-01-19T14:06:59.973Z"
   },
   {
    "duration": 31,
    "start_time": "2022-01-19T14:07:00.049Z"
   },
   {
    "duration": 23,
    "start_time": "2022-01-19T14:07:00.082Z"
   },
   {
    "duration": 9,
    "start_time": "2022-01-19T14:07:00.107Z"
   },
   {
    "duration": 13,
    "start_time": "2022-01-19T14:07:00.117Z"
   },
   {
    "duration": 15,
    "start_time": "2022-01-19T14:07:00.132Z"
   },
   {
    "duration": 15300,
    "start_time": "2022-01-19T14:07:00.149Z"
   },
   {
    "duration": 7,
    "start_time": "2022-01-19T14:07:15.452Z"
   },
   {
    "duration": 11,
    "start_time": "2022-01-19T14:07:15.461Z"
   },
   {
    "duration": 27,
    "start_time": "2022-01-19T14:07:15.474Z"
   },
   {
    "duration": 14,
    "start_time": "2022-01-19T14:07:15.502Z"
   },
   {
    "duration": 4752,
    "start_time": "2022-01-19T14:07:15.517Z"
   },
   {
    "duration": 7,
    "start_time": "2022-01-19T14:07:20.271Z"
   },
   {
    "duration": 18,
    "start_time": "2022-01-19T14:07:20.280Z"
   },
   {
    "duration": 529,
    "start_time": "2022-01-19T14:07:20.300Z"
   },
   {
    "duration": 8,
    "start_time": "2022-01-19T14:07:20.831Z"
   },
   {
    "duration": 4,
    "start_time": "2022-01-19T14:07:20.841Z"
   },
   {
    "duration": 9,
    "start_time": "2022-01-19T14:07:20.847Z"
   },
   {
    "duration": 16,
    "start_time": "2022-01-19T14:07:20.858Z"
   },
   {
    "duration": 26,
    "start_time": "2022-01-19T14:07:20.876Z"
   },
   {
    "duration": 6,
    "start_time": "2022-01-19T14:07:20.903Z"
   },
   {
    "duration": 11,
    "start_time": "2022-01-19T14:07:20.910Z"
   },
   {
    "duration": 7,
    "start_time": "2022-01-19T14:07:20.922Z"
   },
   {
    "duration": 11,
    "start_time": "2022-01-19T14:07:20.931Z"
   },
   {
    "duration": 9,
    "start_time": "2022-01-19T14:07:20.943Z"
   },
   {
    "duration": 5,
    "start_time": "2022-01-19T14:07:20.956Z"
   },
   {
    "duration": 36,
    "start_time": "2022-01-19T14:07:20.963Z"
   },
   {
    "duration": 6,
    "start_time": "2022-01-19T14:07:21.001Z"
   },
   {
    "duration": 508,
    "start_time": "2022-01-19T14:07:21.008Z"
   },
   {
    "duration": 5,
    "start_time": "2022-01-19T14:07:21.517Z"
   },
   {
    "duration": 30,
    "start_time": "2022-01-19T14:07:21.524Z"
   },
   {
    "duration": 384,
    "start_time": "2022-01-19T14:07:21.555Z"
   },
   {
    "duration": 379,
    "start_time": "2022-01-19T14:07:21.941Z"
   },
   {
    "duration": 348,
    "start_time": "2022-01-19T14:07:22.322Z"
   },
   {
    "duration": 244,
    "start_time": "2022-01-19T14:07:22.672Z"
   },
   {
    "duration": 227,
    "start_time": "2022-01-19T14:07:22.918Z"
   },
   {
    "duration": 304,
    "start_time": "2022-01-19T14:07:23.147Z"
   },
   {
    "duration": 348,
    "start_time": "2022-01-19T14:07:23.453Z"
   },
   {
    "duration": 8,
    "start_time": "2022-01-19T14:07:23.802Z"
   },
   {
    "duration": 305,
    "start_time": "2022-01-19T14:07:23.812Z"
   },
   {
    "duration": 4,
    "start_time": "2022-01-19T14:07:24.118Z"
   },
   {
    "duration": 6,
    "start_time": "2022-01-19T14:07:24.124Z"
   },
   {
    "duration": 174,
    "start_time": "2022-01-19T14:07:24.132Z"
   },
   {
    "duration": 166,
    "start_time": "2022-01-19T14:07:24.308Z"
   },
   {
    "duration": 8,
    "start_time": "2022-01-19T14:07:24.476Z"
   },
   {
    "duration": 18,
    "start_time": "2022-01-19T14:07:24.485Z"
   },
   {
    "duration": 13,
    "start_time": "2022-01-19T14:07:24.504Z"
   },
   {
    "duration": 157,
    "start_time": "2022-01-19T14:07:24.518Z"
   },
   {
    "duration": 155,
    "start_time": "2022-01-19T14:07:24.677Z"
   },
   {
    "duration": 7,
    "start_time": "2022-01-19T14:07:24.833Z"
   },
   {
    "duration": 7,
    "start_time": "2022-01-19T14:07:24.841Z"
   },
   {
    "duration": 10,
    "start_time": "2022-01-19T14:07:24.850Z"
   },
   {
    "duration": 158,
    "start_time": "2022-01-19T14:07:24.861Z"
   },
   {
    "duration": 142,
    "start_time": "2022-01-19T14:07:28.214Z"
   },
   {
    "duration": 145,
    "start_time": "2022-01-19T14:07:34.540Z"
   },
   {
    "duration": 139,
    "start_time": "2022-01-19T14:07:38.337Z"
   },
   {
    "duration": 8,
    "start_time": "2022-01-19T14:08:00.010Z"
   },
   {
    "duration": 6,
    "start_time": "2022-01-19T14:08:01.671Z"
   },
   {
    "duration": 8,
    "start_time": "2022-01-19T14:08:02.715Z"
   },
   {
    "duration": 10,
    "start_time": "2022-01-19T14:08:05.755Z"
   },
   {
    "duration": 172,
    "start_time": "2022-01-19T14:08:09.458Z"
   },
   {
    "duration": 8,
    "start_time": "2022-01-19T14:08:13.977Z"
   },
   {
    "duration": 7,
    "start_time": "2022-01-19T14:08:15.403Z"
   },
   {
    "duration": 8,
    "start_time": "2022-01-19T14:08:20.013Z"
   },
   {
    "duration": 4,
    "start_time": "2022-01-19T14:08:23.099Z"
   },
   {
    "duration": 19,
    "start_time": "2022-01-19T14:08:49.385Z"
   },
   {
    "duration": 12,
    "start_time": "2022-01-19T14:08:52.888Z"
   },
   {
    "duration": 6897,
    "start_time": "2022-01-19T14:08:56.623Z"
   },
   {
    "duration": 4,
    "start_time": "2022-01-19T14:09:13.951Z"
   },
   {
    "duration": 10,
    "start_time": "2022-01-19T14:09:14.813Z"
   },
   {
    "duration": 7,
    "start_time": "2022-01-19T14:09:27.647Z"
   },
   {
    "duration": 208,
    "start_time": "2022-01-19T14:09:32.414Z"
   },
   {
    "duration": 11,
    "start_time": "2022-01-19T14:09:36.101Z"
   },
   {
    "duration": 16,
    "start_time": "2022-01-19T14:09:40.929Z"
   },
   {
    "duration": 8,
    "start_time": "2022-01-19T14:09:49.299Z"
   },
   {
    "duration": 10,
    "start_time": "2022-01-19T14:09:54.042Z"
   },
   {
    "duration": 5,
    "start_time": "2022-01-19T14:09:56.406Z"
   },
   {
    "duration": 7,
    "start_time": "2022-01-19T14:09:59.761Z"
   },
   {
    "duration": 36,
    "start_time": "2022-01-19T14:10:02.929Z"
   },
   {
    "duration": 7,
    "start_time": "2022-01-19T14:10:08.739Z"
   },
   {
    "duration": 253,
    "start_time": "2022-01-19T14:10:10.497Z"
   },
   {
    "duration": 6,
    "start_time": "2022-01-19T14:13:40.961Z"
   },
   {
    "duration": 4,
    "start_time": "2022-01-19T14:13:43.520Z"
   },
   {
    "duration": 22,
    "start_time": "2022-01-19T14:13:47.113Z"
   },
   {
    "duration": 10,
    "start_time": "2022-01-19T14:16:48.358Z"
   },
   {
    "duration": 11,
    "start_time": "2022-01-19T14:16:53.037Z"
   },
   {
    "duration": 3169,
    "start_time": "2022-01-19T14:17:01.815Z"
   },
   {
    "duration": 4,
    "start_time": "2022-01-19T14:19:36.716Z"
   },
   {
    "duration": 10,
    "start_time": "2022-01-19T14:19:38.185Z"
   },
   {
    "duration": 637,
    "start_time": "2022-08-03T14:11:56.439Z"
   },
   {
    "duration": 284,
    "start_time": "2022-08-03T14:11:57.078Z"
   },
   {
    "duration": 32,
    "start_time": "2022-08-03T14:11:57.364Z"
   },
   {
    "duration": 28,
    "start_time": "2022-08-03T14:11:57.398Z"
   },
   {
    "duration": 27,
    "start_time": "2022-08-03T14:11:57.428Z"
   },
   {
    "duration": 30,
    "start_time": "2022-08-03T14:11:57.456Z"
   },
   {
    "duration": 24,
    "start_time": "2022-08-03T14:11:57.488Z"
   },
   {
    "duration": 15426,
    "start_time": "2022-08-03T14:11:57.513Z"
   },
   {
    "duration": 7,
    "start_time": "2022-08-03T14:12:12.941Z"
   },
   {
    "duration": 21,
    "start_time": "2022-08-03T14:12:12.950Z"
   },
   {
    "duration": 17,
    "start_time": "2022-08-03T14:12:12.972Z"
   },
   {
    "duration": 21,
    "start_time": "2022-08-03T14:12:12.991Z"
   },
   {
    "duration": 3374,
    "start_time": "2022-08-03T14:12:13.014Z"
   },
   {
    "duration": 10,
    "start_time": "2022-08-03T14:12:16.391Z"
   },
   {
    "duration": 8,
    "start_time": "2022-08-03T14:12:16.402Z"
   },
   {
    "duration": 368,
    "start_time": "2022-08-03T14:12:16.412Z"
   },
   {
    "duration": 9,
    "start_time": "2022-08-03T14:12:16.782Z"
   },
   {
    "duration": 14,
    "start_time": "2022-08-03T14:12:16.793Z"
   },
   {
    "duration": 29,
    "start_time": "2022-08-03T14:12:16.809Z"
   },
   {
    "duration": 24,
    "start_time": "2022-08-03T14:12:16.840Z"
   },
   {
    "duration": 16,
    "start_time": "2022-08-03T14:12:16.866Z"
   },
   {
    "duration": 4,
    "start_time": "2022-08-03T14:12:16.884Z"
   },
   {
    "duration": 16,
    "start_time": "2022-08-03T14:12:16.890Z"
   },
   {
    "duration": 6,
    "start_time": "2022-08-03T14:12:16.907Z"
   },
   {
    "duration": 7,
    "start_time": "2022-08-03T14:12:16.914Z"
   },
   {
    "duration": 316,
    "start_time": "2022-08-03T14:12:16.922Z"
   },
   {
    "duration": 7,
    "start_time": "2022-08-03T14:12:17.240Z"
   },
   {
    "duration": 28,
    "start_time": "2022-08-03T14:12:17.248Z"
   },
   {
    "duration": 285,
    "start_time": "2022-08-03T14:12:17.278Z"
   },
   {
    "duration": 259,
    "start_time": "2022-08-03T14:12:17.564Z"
   },
   {
    "duration": 234,
    "start_time": "2022-08-03T14:12:17.825Z"
   },
   {
    "duration": 169,
    "start_time": "2022-08-03T14:12:18.061Z"
   },
   {
    "duration": 147,
    "start_time": "2022-08-03T14:12:18.231Z"
   },
   {
    "duration": 276,
    "start_time": "2022-08-03T14:12:18.380Z"
   },
   {
    "duration": 181,
    "start_time": "2022-08-03T14:12:18.658Z"
   },
   {
    "duration": 11,
    "start_time": "2022-08-03T14:12:18.841Z"
   },
   {
    "duration": 232,
    "start_time": "2022-08-03T14:12:18.853Z"
   },
   {
    "duration": 5,
    "start_time": "2022-08-03T14:12:19.087Z"
   },
   {
    "duration": 21,
    "start_time": "2022-08-03T14:12:19.094Z"
   },
   {
    "duration": 174,
    "start_time": "2022-08-03T14:12:19.117Z"
   },
   {
    "duration": 144,
    "start_time": "2022-08-03T14:12:19.298Z"
   },
   {
    "duration": 6,
    "start_time": "2022-08-03T14:12:19.445Z"
   },
   {
    "duration": 11,
    "start_time": "2022-08-03T14:12:19.453Z"
   },
   {
    "duration": 8,
    "start_time": "2022-08-03T14:12:19.466Z"
   },
   {
    "duration": 126,
    "start_time": "2022-08-03T14:12:19.476Z"
   },
   {
    "duration": 138,
    "start_time": "2022-08-03T14:12:19.603Z"
   },
   {
    "duration": 6,
    "start_time": "2022-08-03T14:12:19.743Z"
   },
   {
    "duration": 12,
    "start_time": "2022-08-03T14:12:19.751Z"
   },
   {
    "duration": 20,
    "start_time": "2022-08-03T14:12:19.765Z"
   },
   {
    "duration": 129,
    "start_time": "2022-08-03T14:12:19.787Z"
   },
   {
    "duration": 125,
    "start_time": "2022-08-03T14:12:19.918Z"
   },
   {
    "duration": 119,
    "start_time": "2022-08-03T14:12:20.045Z"
   },
   {
    "duration": 8,
    "start_time": "2022-08-03T14:12:20.166Z"
   },
   {
    "duration": 9,
    "start_time": "2022-08-03T14:12:20.175Z"
   },
   {
    "duration": 14,
    "start_time": "2022-08-03T14:12:20.185Z"
   },
   {
    "duration": 7,
    "start_time": "2022-08-03T14:12:20.201Z"
   },
   {
    "duration": 211,
    "start_time": "2022-08-03T14:12:20.210Z"
   },
   {
    "duration": 8,
    "start_time": "2022-08-03T14:12:20.422Z"
   },
   {
    "duration": 6,
    "start_time": "2022-08-03T14:12:20.438Z"
   },
   {
    "duration": 8,
    "start_time": "2022-08-03T14:12:20.446Z"
   },
   {
    "duration": 6,
    "start_time": "2022-08-03T14:12:20.456Z"
   },
   {
    "duration": 21,
    "start_time": "2022-08-03T14:12:20.463Z"
   },
   {
    "duration": 12,
    "start_time": "2022-08-03T14:12:20.485Z"
   },
   {
    "duration": 2087,
    "start_time": "2022-08-03T14:12:20.498Z"
   },
   {
    "duration": 3,
    "start_time": "2022-08-03T14:12:22.587Z"
   },
   {
    "duration": 18,
    "start_time": "2022-08-03T14:12:22.592Z"
   },
   {
    "duration": 7,
    "start_time": "2022-08-03T14:12:22.612Z"
   },
   {
    "duration": 176,
    "start_time": "2022-08-03T14:12:22.620Z"
   },
   {
    "duration": 9,
    "start_time": "2022-08-03T14:12:22.798Z"
   },
   {
    "duration": 24,
    "start_time": "2022-08-03T14:12:22.809Z"
   },
   {
    "duration": 7,
    "start_time": "2022-08-03T14:12:22.838Z"
   },
   {
    "duration": 27,
    "start_time": "2022-08-03T14:12:22.847Z"
   },
   {
    "duration": 17,
    "start_time": "2022-08-03T14:12:22.876Z"
   },
   {
    "duration": 12,
    "start_time": "2022-08-03T14:12:22.894Z"
   },
   {
    "duration": 39,
    "start_time": "2022-08-03T14:12:22.908Z"
   },
   {
    "duration": 7,
    "start_time": "2022-08-03T14:12:22.948Z"
   },
   {
    "duration": 198,
    "start_time": "2022-08-03T14:12:22.957Z"
   },
   {
    "duration": 220,
    "start_time": "2022-08-03T14:12:23.157Z"
   },
   {
    "duration": 7,
    "start_time": "2022-08-03T14:12:23.378Z"
   },
   {
    "duration": 20,
    "start_time": "2022-08-03T14:12:23.386Z"
   },
   {
    "duration": 34,
    "start_time": "2022-08-03T14:12:23.408Z"
   },
   {
    "duration": 12,
    "start_time": "2022-08-03T14:12:23.445Z"
   },
   {
    "duration": 14,
    "start_time": "2022-08-03T14:12:23.459Z"
   },
   {
    "duration": 1353,
    "start_time": "2022-08-03T14:12:23.475Z"
   },
   {
    "duration": 9,
    "start_time": "2022-08-03T14:12:24.830Z"
   },
   {
    "duration": 18,
    "start_time": "2022-08-03T14:12:24.841Z"
   },
   {
    "duration": 662,
    "start_time": "2022-08-03T14:14:52.434Z"
   },
   {
    "duration": 93,
    "start_time": "2022-08-03T14:14:53.098Z"
   },
   {
    "duration": 33,
    "start_time": "2022-08-03T14:14:53.193Z"
   },
   {
    "duration": 15,
    "start_time": "2022-08-03T14:14:53.237Z"
   },
   {
    "duration": 5,
    "start_time": "2022-08-03T14:14:53.253Z"
   },
   {
    "duration": 11,
    "start_time": "2022-08-03T14:14:53.259Z"
   },
   {
    "duration": 13,
    "start_time": "2022-08-03T14:14:53.272Z"
   },
   {
    "duration": 14006,
    "start_time": "2022-08-03T14:14:53.287Z"
   },
   {
    "duration": 9,
    "start_time": "2022-08-03T14:15:07.294Z"
   },
   {
    "duration": 12,
    "start_time": "2022-08-03T14:15:07.306Z"
   },
   {
    "duration": 15,
    "start_time": "2022-08-03T14:15:07.338Z"
   },
   {
    "duration": 13,
    "start_time": "2022-08-03T14:15:07.354Z"
   },
   {
    "duration": 3229,
    "start_time": "2022-08-03T14:15:07.369Z"
   },
   {
    "duration": 10,
    "start_time": "2022-08-03T14:15:10.600Z"
   },
   {
    "duration": 26,
    "start_time": "2022-08-03T14:15:10.612Z"
   },
   {
    "duration": 343,
    "start_time": "2022-08-03T14:15:10.640Z"
   },
   {
    "duration": 8,
    "start_time": "2022-08-03T14:15:10.985Z"
   },
   {
    "duration": 5,
    "start_time": "2022-08-03T14:15:10.994Z"
   },
   {
    "duration": 10,
    "start_time": "2022-08-03T14:15:11.001Z"
   },
   {
    "duration": 34,
    "start_time": "2022-08-03T14:15:11.012Z"
   },
   {
    "duration": 12,
    "start_time": "2022-08-03T14:15:11.047Z"
   },
   {
    "duration": 4,
    "start_time": "2022-08-03T14:15:11.061Z"
   },
   {
    "duration": 10,
    "start_time": "2022-08-03T14:15:11.066Z"
   },
   {
    "duration": 6,
    "start_time": "2022-08-03T14:15:11.077Z"
   },
   {
    "duration": 6,
    "start_time": "2022-08-03T14:15:11.084Z"
   },
   {
    "duration": 338,
    "start_time": "2022-08-03T14:15:11.091Z"
   },
   {
    "duration": 10,
    "start_time": "2022-08-03T14:15:11.431Z"
   },
   {
    "duration": 24,
    "start_time": "2022-08-03T14:15:11.445Z"
   },
   {
    "duration": 265,
    "start_time": "2022-08-03T14:15:11.470Z"
   },
   {
    "duration": 239,
    "start_time": "2022-08-03T14:15:11.737Z"
   },
   {
    "duration": 217,
    "start_time": "2022-08-03T14:15:11.977Z"
   },
   {
    "duration": 165,
    "start_time": "2022-08-03T14:15:12.195Z"
   },
   {
    "duration": 145,
    "start_time": "2022-08-03T14:15:12.362Z"
   },
   {
    "duration": 266,
    "start_time": "2022-08-03T14:15:12.508Z"
   },
   {
    "duration": 177,
    "start_time": "2022-08-03T14:15:12.775Z"
   },
   {
    "duration": 10,
    "start_time": "2022-08-03T14:15:12.954Z"
   },
   {
    "duration": 185,
    "start_time": "2022-08-03T14:15:12.966Z"
   },
   {
    "duration": 4,
    "start_time": "2022-08-03T14:15:13.152Z"
   },
   {
    "duration": 8,
    "start_time": "2022-08-03T14:15:13.157Z"
   },
   {
    "duration": 142,
    "start_time": "2022-08-03T14:15:13.166Z"
   },
   {
    "duration": 135,
    "start_time": "2022-08-03T14:15:13.310Z"
   },
   {
    "duration": 7,
    "start_time": "2022-08-03T14:15:13.446Z"
   },
   {
    "duration": 8,
    "start_time": "2022-08-03T14:15:13.454Z"
   },
   {
    "duration": 7,
    "start_time": "2022-08-03T14:15:13.463Z"
   },
   {
    "duration": 138,
    "start_time": "2022-08-03T14:15:13.471Z"
   },
   {
    "duration": 141,
    "start_time": "2022-08-03T14:15:13.611Z"
   },
   {
    "duration": 7,
    "start_time": "2022-08-03T14:15:13.754Z"
   },
   {
    "duration": 7,
    "start_time": "2022-08-03T14:15:13.762Z"
   },
   {
    "duration": 8,
    "start_time": "2022-08-03T14:15:13.771Z"
   },
   {
    "duration": 140,
    "start_time": "2022-08-03T14:15:13.781Z"
   },
   {
    "duration": 132,
    "start_time": "2022-08-03T14:15:13.923Z"
   },
   {
    "duration": 122,
    "start_time": "2022-08-03T14:15:14.057Z"
   },
   {
    "duration": 9,
    "start_time": "2022-08-03T14:15:14.181Z"
   },
   {
    "duration": 7,
    "start_time": "2022-08-03T14:15:14.192Z"
   },
   {
    "duration": 40,
    "start_time": "2022-08-03T14:15:14.201Z"
   },
   {
    "duration": 8,
    "start_time": "2022-08-03T14:15:14.243Z"
   },
   {
    "duration": 217,
    "start_time": "2022-08-03T14:15:14.252Z"
   },
   {
    "duration": 7,
    "start_time": "2022-08-03T14:15:14.471Z"
   },
   {
    "duration": 7,
    "start_time": "2022-08-03T14:15:14.480Z"
   },
   {
    "duration": 6,
    "start_time": "2022-08-03T14:15:14.488Z"
   },
   {
    "duration": 5,
    "start_time": "2022-08-03T14:15:14.495Z"
   },
   {
    "duration": 52,
    "start_time": "2022-08-03T14:15:14.501Z"
   },
   {
    "duration": 11,
    "start_time": "2022-08-03T14:15:14.555Z"
   },
   {
    "duration": 2069,
    "start_time": "2022-08-03T14:15:14.567Z"
   },
   {
    "duration": 5,
    "start_time": "2022-08-03T14:15:16.638Z"
   },
   {
    "duration": 14,
    "start_time": "2022-08-03T14:15:16.644Z"
   },
   {
    "duration": 7,
    "start_time": "2022-08-03T14:15:16.660Z"
   },
   {
    "duration": 193,
    "start_time": "2022-08-03T14:15:16.669Z"
   },
   {
    "duration": 12,
    "start_time": "2022-08-03T14:15:16.864Z"
   },
   {
    "duration": 18,
    "start_time": "2022-08-03T14:15:16.877Z"
   },
   {
    "duration": 7,
    "start_time": "2022-08-03T14:15:16.897Z"
   },
   {
    "duration": 34,
    "start_time": "2022-08-03T14:15:16.905Z"
   },
   {
    "duration": 8,
    "start_time": "2022-08-03T14:15:16.941Z"
   },
   {
    "duration": 10,
    "start_time": "2022-08-03T14:15:16.951Z"
   },
   {
    "duration": 46,
    "start_time": "2022-08-03T14:15:16.963Z"
   },
   {
    "duration": 29,
    "start_time": "2022-08-03T14:15:17.011Z"
   },
   {
    "duration": 197,
    "start_time": "2022-08-03T14:15:17.043Z"
   },
   {
    "duration": 221,
    "start_time": "2022-08-03T14:15:17.242Z"
   },
   {
    "duration": 6,
    "start_time": "2022-08-03T14:15:17.464Z"
   },
   {
    "duration": 5,
    "start_time": "2022-08-03T14:15:17.472Z"
   },
   {
    "duration": 21,
    "start_time": "2022-08-03T14:15:17.479Z"
   },
   {
    "duration": 8,
    "start_time": "2022-08-03T14:15:17.540Z"
   },
   {
    "duration": 13,
    "start_time": "2022-08-03T14:15:17.550Z"
   },
   {
    "duration": 1318,
    "start_time": "2022-08-03T14:15:17.564Z"
   },
   {
    "duration": 3,
    "start_time": "2022-08-03T14:15:18.885Z"
   },
   {
    "duration": 17,
    "start_time": "2022-08-03T14:15:18.890Z"
   }
  ],
  "kernelspec": {
   "display_name": "Python 3 (ipykernel)",
   "language": "python",
   "name": "python3"
  },
  "language_info": {
   "codemirror_mode": {
    "name": "ipython",
    "version": 3
   },
   "file_extension": ".py",
   "mimetype": "text/x-python",
   "name": "python",
   "nbconvert_exporter": "python",
   "pygments_lexer": "ipython3",
   "version": "3.9.5"
  },
  "toc": {
   "base_numbering": 1,
   "nav_menu": {},
   "number_sections": true,
   "sideBar": true,
   "skip_h1_title": true,
   "title_cell": "Содержание",
   "title_sidebar": "Contents",
   "toc_cell": true,
   "toc_position": {
    "height": "calc(100% - 180px)",
    "left": "10px",
    "top": "150px",
    "width": "304.344px"
   },
   "toc_section_display": true,
   "toc_window_display": true
  }
 },
 "nbformat": 4,
 "nbformat_minor": 2
}
