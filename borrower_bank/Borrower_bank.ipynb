{
 "cells": [
  {
   "cell_type": "markdown",
   "metadata": {},
   "source": [
    "# Исследование надёжности заёмщиков\n",
    "\n",
    "Заказчик — кредитный отдел банка. Нужно разобраться, влияет ли семейное положение и количество детей клиента на факт погашения кредита в срок. Входные данные от банка — статистика о платёжеспособности клиентов.\n",
    "\n",
    "Результаты исследования будут учтены при построении модели **кредитного скоринга** — специальной системы, которая оценивает способность потенциального заёмщика вернуть кредит банку.\n",
    "\n",
    "**Цель исследования** - ответить на вопросы:\n",
    "1. Есть ли зависимость между наличием детей и возвратом кредита в срок?\n",
    "2. Есть ли зависимость между семейным положением и возвратом кредита в срок?\n",
    "3. Есть ли зависимость между уровнем дохода и возвратом кредита в срок?\n",
    "4. Как разные цели кредита влияют на его возврат в срок?\n",
    "\n",
    "**Ход исследования**\n",
    "\n",
    "Данные для исследования в файле `data.csv`. О качестве данных ничего не известно. Поэтому перед тем, чтобы ответить на вопросы,  понадобится обзор данных.\n",
    "\n",
    "Проверим данные на ошибки и оценим их влияние на исследование. Затем, на этапе предобработки мы поищем возможность исправить самые критичные ошибки данных.\n",
    "\n",
    "Таким образом, исследование пройдёт в три этапа:\n",
    "\n",
    "1. Обзор данных.\n",
    "2. Предобработка данных.\n",
    "3. Ответы на вопросы."
   ]
  },
  {
   "cell_type": "markdown",
   "metadata": {},
   "source": [
    "## Обзор данных\n",
    "\n",
    "Составим первое представление о данных клиентов."
   ]
  },
  {
   "cell_type": "markdown",
   "metadata": {},
   "source": [
    "Основной инструмент аналитика - pandas. Импортируем эту библиотеку."
   ]
  },
  {
   "cell_type": "code",
   "execution_count": 1,
   "metadata": {
    "scrolled": true
   },
   "outputs": [],
   "source": [
    "# импорт библиотеки pandas\n",
    "import pandas as pd"
   ]
  },
  {
   "cell_type": "markdown",
   "metadata": {},
   "source": [
    "Прочитаем файл data.csv из папки /datasets и сохраним его в переменной df:"
   ]
  },
  {
   "cell_type": "code",
   "execution_count": 2,
   "metadata": {
    "scrolled": true
   },
   "outputs": [],
   "source": [
    "# чтение файла с данными и сохранение в df\n",
    "borrower_bank = pd.read_csv('/datasets/data.csv')"
   ]
  },
  {
   "cell_type": "markdown",
   "metadata": {},
   "source": [
    "Выведем на экран первые 15 строк таблицы:"
   ]
  },
  {
   "cell_type": "code",
   "execution_count": 3,
   "metadata": {
    "scrolled": true
   },
   "outputs": [
    {
     "data": {
      "text/html": [
       "<div>\n",
       "<style scoped>\n",
       "    .dataframe tbody tr th:only-of-type {\n",
       "        vertical-align: middle;\n",
       "    }\n",
       "\n",
       "    .dataframe tbody tr th {\n",
       "        vertical-align: top;\n",
       "    }\n",
       "\n",
       "    .dataframe thead th {\n",
       "        text-align: right;\n",
       "    }\n",
       "</style>\n",
       "<table border=\"1\" class=\"dataframe\">\n",
       "  <thead>\n",
       "    <tr style=\"text-align: right;\">\n",
       "      <th></th>\n",
       "      <th>children</th>\n",
       "      <th>days_employed</th>\n",
       "      <th>dob_years</th>\n",
       "      <th>education</th>\n",
       "      <th>education_id</th>\n",
       "      <th>family_status</th>\n",
       "      <th>family_status_id</th>\n",
       "      <th>gender</th>\n",
       "      <th>income_type</th>\n",
       "      <th>debt</th>\n",
       "      <th>total_income</th>\n",
       "      <th>purpose</th>\n",
       "    </tr>\n",
       "  </thead>\n",
       "  <tbody>\n",
       "    <tr>\n",
       "      <th>0</th>\n",
       "      <td>1</td>\n",
       "      <td>-8437.673028</td>\n",
       "      <td>42</td>\n",
       "      <td>высшее</td>\n",
       "      <td>0</td>\n",
       "      <td>женат / замужем</td>\n",
       "      <td>0</td>\n",
       "      <td>F</td>\n",
       "      <td>сотрудник</td>\n",
       "      <td>0</td>\n",
       "      <td>253875.639453</td>\n",
       "      <td>покупка жилья</td>\n",
       "    </tr>\n",
       "    <tr>\n",
       "      <th>1</th>\n",
       "      <td>1</td>\n",
       "      <td>-4024.803754</td>\n",
       "      <td>36</td>\n",
       "      <td>среднее</td>\n",
       "      <td>1</td>\n",
       "      <td>женат / замужем</td>\n",
       "      <td>0</td>\n",
       "      <td>F</td>\n",
       "      <td>сотрудник</td>\n",
       "      <td>0</td>\n",
       "      <td>112080.014102</td>\n",
       "      <td>приобретение автомобиля</td>\n",
       "    </tr>\n",
       "    <tr>\n",
       "      <th>2</th>\n",
       "      <td>0</td>\n",
       "      <td>-5623.422610</td>\n",
       "      <td>33</td>\n",
       "      <td>Среднее</td>\n",
       "      <td>1</td>\n",
       "      <td>женат / замужем</td>\n",
       "      <td>0</td>\n",
       "      <td>M</td>\n",
       "      <td>сотрудник</td>\n",
       "      <td>0</td>\n",
       "      <td>145885.952297</td>\n",
       "      <td>покупка жилья</td>\n",
       "    </tr>\n",
       "    <tr>\n",
       "      <th>3</th>\n",
       "      <td>3</td>\n",
       "      <td>-4124.747207</td>\n",
       "      <td>32</td>\n",
       "      <td>среднее</td>\n",
       "      <td>1</td>\n",
       "      <td>женат / замужем</td>\n",
       "      <td>0</td>\n",
       "      <td>M</td>\n",
       "      <td>сотрудник</td>\n",
       "      <td>0</td>\n",
       "      <td>267628.550329</td>\n",
       "      <td>дополнительное образование</td>\n",
       "    </tr>\n",
       "    <tr>\n",
       "      <th>4</th>\n",
       "      <td>0</td>\n",
       "      <td>340266.072047</td>\n",
       "      <td>53</td>\n",
       "      <td>среднее</td>\n",
       "      <td>1</td>\n",
       "      <td>гражданский брак</td>\n",
       "      <td>1</td>\n",
       "      <td>F</td>\n",
       "      <td>пенсионер</td>\n",
       "      <td>0</td>\n",
       "      <td>158616.077870</td>\n",
       "      <td>сыграть свадьбу</td>\n",
       "    </tr>\n",
       "    <tr>\n",
       "      <th>5</th>\n",
       "      <td>0</td>\n",
       "      <td>-926.185831</td>\n",
       "      <td>27</td>\n",
       "      <td>высшее</td>\n",
       "      <td>0</td>\n",
       "      <td>гражданский брак</td>\n",
       "      <td>1</td>\n",
       "      <td>M</td>\n",
       "      <td>компаньон</td>\n",
       "      <td>0</td>\n",
       "      <td>255763.565419</td>\n",
       "      <td>покупка жилья</td>\n",
       "    </tr>\n",
       "    <tr>\n",
       "      <th>6</th>\n",
       "      <td>0</td>\n",
       "      <td>-2879.202052</td>\n",
       "      <td>43</td>\n",
       "      <td>высшее</td>\n",
       "      <td>0</td>\n",
       "      <td>женат / замужем</td>\n",
       "      <td>0</td>\n",
       "      <td>F</td>\n",
       "      <td>компаньон</td>\n",
       "      <td>0</td>\n",
       "      <td>240525.971920</td>\n",
       "      <td>операции с жильем</td>\n",
       "    </tr>\n",
       "    <tr>\n",
       "      <th>7</th>\n",
       "      <td>0</td>\n",
       "      <td>-152.779569</td>\n",
       "      <td>50</td>\n",
       "      <td>СРЕДНЕЕ</td>\n",
       "      <td>1</td>\n",
       "      <td>женат / замужем</td>\n",
       "      <td>0</td>\n",
       "      <td>M</td>\n",
       "      <td>сотрудник</td>\n",
       "      <td>0</td>\n",
       "      <td>135823.934197</td>\n",
       "      <td>образование</td>\n",
       "    </tr>\n",
       "    <tr>\n",
       "      <th>8</th>\n",
       "      <td>2</td>\n",
       "      <td>-6929.865299</td>\n",
       "      <td>35</td>\n",
       "      <td>ВЫСШЕЕ</td>\n",
       "      <td>0</td>\n",
       "      <td>гражданский брак</td>\n",
       "      <td>1</td>\n",
       "      <td>F</td>\n",
       "      <td>сотрудник</td>\n",
       "      <td>0</td>\n",
       "      <td>95856.832424</td>\n",
       "      <td>на проведение свадьбы</td>\n",
       "    </tr>\n",
       "    <tr>\n",
       "      <th>9</th>\n",
       "      <td>0</td>\n",
       "      <td>-2188.756445</td>\n",
       "      <td>41</td>\n",
       "      <td>среднее</td>\n",
       "      <td>1</td>\n",
       "      <td>женат / замужем</td>\n",
       "      <td>0</td>\n",
       "      <td>M</td>\n",
       "      <td>сотрудник</td>\n",
       "      <td>0</td>\n",
       "      <td>144425.938277</td>\n",
       "      <td>покупка жилья для семьи</td>\n",
       "    </tr>\n",
       "    <tr>\n",
       "      <th>10</th>\n",
       "      <td>2</td>\n",
       "      <td>-4171.483647</td>\n",
       "      <td>36</td>\n",
       "      <td>высшее</td>\n",
       "      <td>0</td>\n",
       "      <td>женат / замужем</td>\n",
       "      <td>0</td>\n",
       "      <td>M</td>\n",
       "      <td>компаньон</td>\n",
       "      <td>0</td>\n",
       "      <td>113943.491460</td>\n",
       "      <td>покупка недвижимости</td>\n",
       "    </tr>\n",
       "    <tr>\n",
       "      <th>11</th>\n",
       "      <td>0</td>\n",
       "      <td>-792.701887</td>\n",
       "      <td>40</td>\n",
       "      <td>среднее</td>\n",
       "      <td>1</td>\n",
       "      <td>женат / замужем</td>\n",
       "      <td>0</td>\n",
       "      <td>F</td>\n",
       "      <td>сотрудник</td>\n",
       "      <td>0</td>\n",
       "      <td>77069.234271</td>\n",
       "      <td>покупка коммерческой недвижимости</td>\n",
       "    </tr>\n",
       "    <tr>\n",
       "      <th>12</th>\n",
       "      <td>0</td>\n",
       "      <td>NaN</td>\n",
       "      <td>65</td>\n",
       "      <td>среднее</td>\n",
       "      <td>1</td>\n",
       "      <td>гражданский брак</td>\n",
       "      <td>1</td>\n",
       "      <td>M</td>\n",
       "      <td>пенсионер</td>\n",
       "      <td>0</td>\n",
       "      <td>NaN</td>\n",
       "      <td>сыграть свадьбу</td>\n",
       "    </tr>\n",
       "    <tr>\n",
       "      <th>13</th>\n",
       "      <td>0</td>\n",
       "      <td>-1846.641941</td>\n",
       "      <td>54</td>\n",
       "      <td>неоконченное высшее</td>\n",
       "      <td>2</td>\n",
       "      <td>женат / замужем</td>\n",
       "      <td>0</td>\n",
       "      <td>F</td>\n",
       "      <td>сотрудник</td>\n",
       "      <td>0</td>\n",
       "      <td>130458.228857</td>\n",
       "      <td>приобретение автомобиля</td>\n",
       "    </tr>\n",
       "    <tr>\n",
       "      <th>14</th>\n",
       "      <td>0</td>\n",
       "      <td>-1844.956182</td>\n",
       "      <td>56</td>\n",
       "      <td>высшее</td>\n",
       "      <td>0</td>\n",
       "      <td>гражданский брак</td>\n",
       "      <td>1</td>\n",
       "      <td>F</td>\n",
       "      <td>компаньон</td>\n",
       "      <td>1</td>\n",
       "      <td>165127.911772</td>\n",
       "      <td>покупка жилой недвижимости</td>\n",
       "    </tr>\n",
       "  </tbody>\n",
       "</table>\n",
       "</div>"
      ],
      "text/plain": [
       "    children  days_employed  dob_years            education  education_id  \\\n",
       "0          1   -8437.673028         42               высшее             0   \n",
       "1          1   -4024.803754         36              среднее             1   \n",
       "2          0   -5623.422610         33              Среднее             1   \n",
       "3          3   -4124.747207         32              среднее             1   \n",
       "4          0  340266.072047         53              среднее             1   \n",
       "5          0    -926.185831         27               высшее             0   \n",
       "6          0   -2879.202052         43               высшее             0   \n",
       "7          0    -152.779569         50              СРЕДНЕЕ             1   \n",
       "8          2   -6929.865299         35               ВЫСШЕЕ             0   \n",
       "9          0   -2188.756445         41              среднее             1   \n",
       "10         2   -4171.483647         36               высшее             0   \n",
       "11         0    -792.701887         40              среднее             1   \n",
       "12         0            NaN         65              среднее             1   \n",
       "13         0   -1846.641941         54  неоконченное высшее             2   \n",
       "14         0   -1844.956182         56               высшее             0   \n",
       "\n",
       "       family_status  family_status_id gender income_type  debt  \\\n",
       "0    женат / замужем                 0      F   сотрудник     0   \n",
       "1    женат / замужем                 0      F   сотрудник     0   \n",
       "2    женат / замужем                 0      M   сотрудник     0   \n",
       "3    женат / замужем                 0      M   сотрудник     0   \n",
       "4   гражданский брак                 1      F   пенсионер     0   \n",
       "5   гражданский брак                 1      M   компаньон     0   \n",
       "6    женат / замужем                 0      F   компаньон     0   \n",
       "7    женат / замужем                 0      M   сотрудник     0   \n",
       "8   гражданский брак                 1      F   сотрудник     0   \n",
       "9    женат / замужем                 0      M   сотрудник     0   \n",
       "10   женат / замужем                 0      M   компаньон     0   \n",
       "11   женат / замужем                 0      F   сотрудник     0   \n",
       "12  гражданский брак                 1      M   пенсионер     0   \n",
       "13   женат / замужем                 0      F   сотрудник     0   \n",
       "14  гражданский брак                 1      F   компаньон     1   \n",
       "\n",
       "     total_income                            purpose  \n",
       "0   253875.639453                      покупка жилья  \n",
       "1   112080.014102            приобретение автомобиля  \n",
       "2   145885.952297                      покупка жилья  \n",
       "3   267628.550329         дополнительное образование  \n",
       "4   158616.077870                    сыграть свадьбу  \n",
       "5   255763.565419                      покупка жилья  \n",
       "6   240525.971920                  операции с жильем  \n",
       "7   135823.934197                        образование  \n",
       "8    95856.832424              на проведение свадьбы  \n",
       "9   144425.938277            покупка жилья для семьи  \n",
       "10  113943.491460               покупка недвижимости  \n",
       "11   77069.234271  покупка коммерческой недвижимости  \n",
       "12            NaN                    сыграть свадьбу  \n",
       "13  130458.228857            приобретение автомобиля  \n",
       "14  165127.911772         покупка жилой недвижимости  "
      ]
     },
     "execution_count": 3,
     "metadata": {},
     "output_type": "execute_result"
    }
   ],
   "source": [
    "# получение первых 15 строк таблицы df\n",
    "borrower_bank.head(15)"
   ]
  },
  {
   "cell_type": "markdown",
   "metadata": {},
   "source": [
    "Методом <i>.info()</i> узнаем общую информацию о таблице:"
   ]
  },
  {
   "cell_type": "code",
   "execution_count": 4,
   "metadata": {
    "scrolled": true
   },
   "outputs": [
    {
     "name": "stdout",
     "output_type": "stream",
     "text": [
      "<class 'pandas.core.frame.DataFrame'>\n",
      "RangeIndex: 21525 entries, 0 to 21524\n",
      "Data columns (total 12 columns):\n",
      " #   Column            Non-Null Count  Dtype  \n",
      "---  ------            --------------  -----  \n",
      " 0   children          21525 non-null  int64  \n",
      " 1   days_employed     19351 non-null  float64\n",
      " 2   dob_years         21525 non-null  int64  \n",
      " 3   education         21525 non-null  object \n",
      " 4   education_id      21525 non-null  int64  \n",
      " 5   family_status     21525 non-null  object \n",
      " 6   family_status_id  21525 non-null  int64  \n",
      " 7   gender            21525 non-null  object \n",
      " 8   income_type       21525 non-null  object \n",
      " 9   debt              21525 non-null  int64  \n",
      " 10  total_income      19351 non-null  float64\n",
      " 11  purpose           21525 non-null  object \n",
      "dtypes: float64(2), int64(5), object(5)\n",
      "memory usage: 2.0+ MB\n"
     ]
    }
   ],
   "source": [
    "# получение общей информации о данных в таблице df методом info()\n",
    "borrower_bank.info()"
   ]
  },
  {
   "cell_type": "markdown",
   "metadata": {},
   "source": [
    "Методом <i>describe()</i> узнаем общую информацию о таблице, но несколько в ином виде:"
   ]
  },
  {
   "cell_type": "code",
   "execution_count": 5,
   "metadata": {
    "scrolled": true
   },
   "outputs": [
    {
     "data": {
      "text/html": [
       "<div>\n",
       "<style scoped>\n",
       "    .dataframe tbody tr th:only-of-type {\n",
       "        vertical-align: middle;\n",
       "    }\n",
       "\n",
       "    .dataframe tbody tr th {\n",
       "        vertical-align: top;\n",
       "    }\n",
       "\n",
       "    .dataframe thead th {\n",
       "        text-align: right;\n",
       "    }\n",
       "</style>\n",
       "<table border=\"1\" class=\"dataframe\">\n",
       "  <thead>\n",
       "    <tr style=\"text-align: right;\">\n",
       "      <th></th>\n",
       "      <th>children</th>\n",
       "      <th>days_employed</th>\n",
       "      <th>dob_years</th>\n",
       "      <th>education_id</th>\n",
       "      <th>family_status_id</th>\n",
       "      <th>debt</th>\n",
       "      <th>total_income</th>\n",
       "    </tr>\n",
       "  </thead>\n",
       "  <tbody>\n",
       "    <tr>\n",
       "      <th>count</th>\n",
       "      <td>21525.000000</td>\n",
       "      <td>19351.000000</td>\n",
       "      <td>21525.000000</td>\n",
       "      <td>21525.000000</td>\n",
       "      <td>21525.000000</td>\n",
       "      <td>21525.000000</td>\n",
       "      <td>1.935100e+04</td>\n",
       "    </tr>\n",
       "    <tr>\n",
       "      <th>mean</th>\n",
       "      <td>0.538908</td>\n",
       "      <td>63046.497661</td>\n",
       "      <td>43.293380</td>\n",
       "      <td>0.817236</td>\n",
       "      <td>0.972544</td>\n",
       "      <td>0.080883</td>\n",
       "      <td>1.674223e+05</td>\n",
       "    </tr>\n",
       "    <tr>\n",
       "      <th>std</th>\n",
       "      <td>1.381587</td>\n",
       "      <td>140827.311974</td>\n",
       "      <td>12.574584</td>\n",
       "      <td>0.548138</td>\n",
       "      <td>1.420324</td>\n",
       "      <td>0.272661</td>\n",
       "      <td>1.029716e+05</td>\n",
       "    </tr>\n",
       "    <tr>\n",
       "      <th>min</th>\n",
       "      <td>-1.000000</td>\n",
       "      <td>-18388.949901</td>\n",
       "      <td>0.000000</td>\n",
       "      <td>0.000000</td>\n",
       "      <td>0.000000</td>\n",
       "      <td>0.000000</td>\n",
       "      <td>2.066726e+04</td>\n",
       "    </tr>\n",
       "    <tr>\n",
       "      <th>25%</th>\n",
       "      <td>0.000000</td>\n",
       "      <td>-2747.423625</td>\n",
       "      <td>33.000000</td>\n",
       "      <td>1.000000</td>\n",
       "      <td>0.000000</td>\n",
       "      <td>0.000000</td>\n",
       "      <td>1.030532e+05</td>\n",
       "    </tr>\n",
       "    <tr>\n",
       "      <th>50%</th>\n",
       "      <td>0.000000</td>\n",
       "      <td>-1203.369529</td>\n",
       "      <td>42.000000</td>\n",
       "      <td>1.000000</td>\n",
       "      <td>0.000000</td>\n",
       "      <td>0.000000</td>\n",
       "      <td>1.450179e+05</td>\n",
       "    </tr>\n",
       "    <tr>\n",
       "      <th>75%</th>\n",
       "      <td>1.000000</td>\n",
       "      <td>-291.095954</td>\n",
       "      <td>53.000000</td>\n",
       "      <td>1.000000</td>\n",
       "      <td>1.000000</td>\n",
       "      <td>0.000000</td>\n",
       "      <td>2.034351e+05</td>\n",
       "    </tr>\n",
       "    <tr>\n",
       "      <th>max</th>\n",
       "      <td>20.000000</td>\n",
       "      <td>401755.400475</td>\n",
       "      <td>75.000000</td>\n",
       "      <td>4.000000</td>\n",
       "      <td>4.000000</td>\n",
       "      <td>1.000000</td>\n",
       "      <td>2.265604e+06</td>\n",
       "    </tr>\n",
       "  </tbody>\n",
       "</table>\n",
       "</div>"
      ],
      "text/plain": [
       "           children  days_employed     dob_years  education_id  \\\n",
       "count  21525.000000   19351.000000  21525.000000  21525.000000   \n",
       "mean       0.538908   63046.497661     43.293380      0.817236   \n",
       "std        1.381587  140827.311974     12.574584      0.548138   \n",
       "min       -1.000000  -18388.949901      0.000000      0.000000   \n",
       "25%        0.000000   -2747.423625     33.000000      1.000000   \n",
       "50%        0.000000   -1203.369529     42.000000      1.000000   \n",
       "75%        1.000000    -291.095954     53.000000      1.000000   \n",
       "max       20.000000  401755.400475     75.000000      4.000000   \n",
       "\n",
       "       family_status_id          debt  total_income  \n",
       "count      21525.000000  21525.000000  1.935100e+04  \n",
       "mean           0.972544      0.080883  1.674223e+05  \n",
       "std            1.420324      0.272661  1.029716e+05  \n",
       "min            0.000000      0.000000  2.066726e+04  \n",
       "25%            0.000000      0.000000  1.030532e+05  \n",
       "50%            0.000000      0.000000  1.450179e+05  \n",
       "75%            1.000000      0.000000  2.034351e+05  \n",
       "max            4.000000      1.000000  2.265604e+06  "
      ]
     },
     "execution_count": 5,
     "metadata": {},
     "output_type": "execute_result"
    }
   ],
   "source": [
    "# получение общей информации о данных в таблице df методом describe()\n",
    "borrower_bank.describe()"
   ]
  },
  {
   "cell_type": "markdown",
   "metadata": {},
   "source": [
    "Итак, в таблице 12 столбцов. Типы данных в столбцах : `int64`, `float64` и `object`.\n",
    "\n",
    "Согласно документации к данным:\n",
    "* `children` — количество детей в семье\n",
    "* `days_employed` — трудовой стаж в днях\n",
    "* `dob_years` — возраст клиента в годах\n",
    "* `education` — образование клиента\n",
    "* `education_id` — идентификатор образования\n",
    "* `family_status` — семейное положение\n",
    "* `family_status_id` — идентификатор семейного положения\n",
    "* `gender` — пол клиента\n",
    "* `income_type` — тип занятости\n",
    "* `debt` — имел ли задолженность по возврату кредитов\n",
    "* `total_income` — доход в месяц\n",
    "* `purpose` — цель получения кредита\n",
    "\n",
    "Название колонок записано верно.\n",
    "\n",
    "Количество значений в столбцах различается. Значит, в данных есть пропущенные значения.\n",
    "\n",
    "Заметны некорректные данные:\n",
    "* отрицательные значения в столбце со стажем,\n",
    "* разная форма записей в столбце со стажем (если среднее число дней стажа перевести в года, то получится 172, это невозможно),\n",
    "* в столбце количество детей тоже закрались некорректные записи (-1 и 20),\n",
    "* минимальное значени возраста - 0 (это говорит о том, что данные были пропущены),"
   ]
  },
  {
   "cell_type": "markdown",
   "metadata": {},
   "source": [
    "**Выводы**\n",
    "\n"
   ]
  },
  {
   "cell_type": "markdown",
   "metadata": {},
   "source": [
    "В каждой строке таблицы - данные о клиенте, оформившего кредит в банке.\n",
    "\n",
    "Предварительно можно утверждать, что данных достаточно для наших целей. Но встречаются пропуски в данных, а значения в некоторых колонках - некоректно записаны данные.\n",
    "\n",
    "Чтобы ответить на вопросы, нужно устранить проблемы в данных."
   ]
  },
  {
   "cell_type": "markdown",
   "metadata": {},
   "source": [
    "##  Предобработка данных"
   ]
  },
  {
   "cell_type": "markdown",
   "metadata": {},
   "source": [
    "### Обработка некоректных данных"
   ]
  },
  {
   "cell_type": "markdown",
   "metadata": {},
   "source": [
    "Первым делом займемся столбцом `days_employed`:\n",
    "* Воспользуемся функцией <i>abs</i> и методом <i> apply()</i> "
   ]
  },
  {
   "cell_type": "code",
   "execution_count": 6,
   "metadata": {
    "scrolled": true
   },
   "outputs": [],
   "source": [
    "# присвоим значениям столбца 'days_employed' значения-результаты работы функции abs\n",
    "borrower_bank['days_employed'] = borrower_bank['days_employed'].apply(abs)"
   ]
  },
  {
   "cell_type": "markdown",
   "metadata": {},
   "source": [
    "* Переведем некоректные записи стажа (часы в дни)\n",
    "\n",
    "Предположим, что работать разрешено с 16 лет, поэтому нам нужно найти значения, которые больше выражения: (Возраст - 16)* 365. Те значения, которые меньше или равны этому выражению записаны корректно, а остальные нет, поэтому мы поделим их на 24 (24 часа = 1 день)."
   ]
  },
  {
   "cell_type": "code",
   "execution_count": 7,
   "metadata": {
    "scrolled": true
   },
   "outputs": [],
   "source": [
    "# выполним логическую индексацию и проверим условие\n",
    "\n",
    "for i in range(len(borrower_bank)):\n",
    "    if borrower_bank.loc[i, 'days_employed'] > ((borrower_bank.loc[i, 'dob_years'] - 16)*365):\n",
    "        borrower_bank.loc[i, 'days_employed'] = borrower_bank.loc[i, 'days_employed'] / 24"
   ]
  },
  {
   "cell_type": "markdown",
   "metadata": {},
   "source": [
    "Выведем первые 10 строк и посмотрим на результат."
   ]
  },
  {
   "cell_type": "code",
   "execution_count": 8,
   "metadata": {
    "scrolled": true
   },
   "outputs": [
    {
     "data": {
      "text/html": [
       "<div>\n",
       "<style scoped>\n",
       "    .dataframe tbody tr th:only-of-type {\n",
       "        vertical-align: middle;\n",
       "    }\n",
       "\n",
       "    .dataframe tbody tr th {\n",
       "        vertical-align: top;\n",
       "    }\n",
       "\n",
       "    .dataframe thead th {\n",
       "        text-align: right;\n",
       "    }\n",
       "</style>\n",
       "<table border=\"1\" class=\"dataframe\">\n",
       "  <thead>\n",
       "    <tr style=\"text-align: right;\">\n",
       "      <th></th>\n",
       "      <th>children</th>\n",
       "      <th>days_employed</th>\n",
       "      <th>dob_years</th>\n",
       "      <th>education</th>\n",
       "      <th>education_id</th>\n",
       "      <th>family_status</th>\n",
       "      <th>family_status_id</th>\n",
       "      <th>gender</th>\n",
       "      <th>income_type</th>\n",
       "      <th>debt</th>\n",
       "      <th>total_income</th>\n",
       "      <th>purpose</th>\n",
       "    </tr>\n",
       "  </thead>\n",
       "  <tbody>\n",
       "    <tr>\n",
       "      <th>0</th>\n",
       "      <td>1</td>\n",
       "      <td>8437.673028</td>\n",
       "      <td>42</td>\n",
       "      <td>высшее</td>\n",
       "      <td>0</td>\n",
       "      <td>женат / замужем</td>\n",
       "      <td>0</td>\n",
       "      <td>F</td>\n",
       "      <td>сотрудник</td>\n",
       "      <td>0</td>\n",
       "      <td>253875.639453</td>\n",
       "      <td>покупка жилья</td>\n",
       "    </tr>\n",
       "    <tr>\n",
       "      <th>1</th>\n",
       "      <td>1</td>\n",
       "      <td>4024.803754</td>\n",
       "      <td>36</td>\n",
       "      <td>среднее</td>\n",
       "      <td>1</td>\n",
       "      <td>женат / замужем</td>\n",
       "      <td>0</td>\n",
       "      <td>F</td>\n",
       "      <td>сотрудник</td>\n",
       "      <td>0</td>\n",
       "      <td>112080.014102</td>\n",
       "      <td>приобретение автомобиля</td>\n",
       "    </tr>\n",
       "    <tr>\n",
       "      <th>2</th>\n",
       "      <td>0</td>\n",
       "      <td>5623.422610</td>\n",
       "      <td>33</td>\n",
       "      <td>Среднее</td>\n",
       "      <td>1</td>\n",
       "      <td>женат / замужем</td>\n",
       "      <td>0</td>\n",
       "      <td>M</td>\n",
       "      <td>сотрудник</td>\n",
       "      <td>0</td>\n",
       "      <td>145885.952297</td>\n",
       "      <td>покупка жилья</td>\n",
       "    </tr>\n",
       "    <tr>\n",
       "      <th>3</th>\n",
       "      <td>3</td>\n",
       "      <td>4124.747207</td>\n",
       "      <td>32</td>\n",
       "      <td>среднее</td>\n",
       "      <td>1</td>\n",
       "      <td>женат / замужем</td>\n",
       "      <td>0</td>\n",
       "      <td>M</td>\n",
       "      <td>сотрудник</td>\n",
       "      <td>0</td>\n",
       "      <td>267628.550329</td>\n",
       "      <td>дополнительное образование</td>\n",
       "    </tr>\n",
       "    <tr>\n",
       "      <th>4</th>\n",
       "      <td>0</td>\n",
       "      <td>14177.753002</td>\n",
       "      <td>53</td>\n",
       "      <td>среднее</td>\n",
       "      <td>1</td>\n",
       "      <td>гражданский брак</td>\n",
       "      <td>1</td>\n",
       "      <td>F</td>\n",
       "      <td>пенсионер</td>\n",
       "      <td>0</td>\n",
       "      <td>158616.077870</td>\n",
       "      <td>сыграть свадьбу</td>\n",
       "    </tr>\n",
       "    <tr>\n",
       "      <th>5</th>\n",
       "      <td>0</td>\n",
       "      <td>926.185831</td>\n",
       "      <td>27</td>\n",
       "      <td>высшее</td>\n",
       "      <td>0</td>\n",
       "      <td>гражданский брак</td>\n",
       "      <td>1</td>\n",
       "      <td>M</td>\n",
       "      <td>компаньон</td>\n",
       "      <td>0</td>\n",
       "      <td>255763.565419</td>\n",
       "      <td>покупка жилья</td>\n",
       "    </tr>\n",
       "    <tr>\n",
       "      <th>6</th>\n",
       "      <td>0</td>\n",
       "      <td>2879.202052</td>\n",
       "      <td>43</td>\n",
       "      <td>высшее</td>\n",
       "      <td>0</td>\n",
       "      <td>женат / замужем</td>\n",
       "      <td>0</td>\n",
       "      <td>F</td>\n",
       "      <td>компаньон</td>\n",
       "      <td>0</td>\n",
       "      <td>240525.971920</td>\n",
       "      <td>операции с жильем</td>\n",
       "    </tr>\n",
       "    <tr>\n",
       "      <th>7</th>\n",
       "      <td>0</td>\n",
       "      <td>152.779569</td>\n",
       "      <td>50</td>\n",
       "      <td>СРЕДНЕЕ</td>\n",
       "      <td>1</td>\n",
       "      <td>женат / замужем</td>\n",
       "      <td>0</td>\n",
       "      <td>M</td>\n",
       "      <td>сотрудник</td>\n",
       "      <td>0</td>\n",
       "      <td>135823.934197</td>\n",
       "      <td>образование</td>\n",
       "    </tr>\n",
       "    <tr>\n",
       "      <th>8</th>\n",
       "      <td>2</td>\n",
       "      <td>6929.865299</td>\n",
       "      <td>35</td>\n",
       "      <td>ВЫСШЕЕ</td>\n",
       "      <td>0</td>\n",
       "      <td>гражданский брак</td>\n",
       "      <td>1</td>\n",
       "      <td>F</td>\n",
       "      <td>сотрудник</td>\n",
       "      <td>0</td>\n",
       "      <td>95856.832424</td>\n",
       "      <td>на проведение свадьбы</td>\n",
       "    </tr>\n",
       "    <tr>\n",
       "      <th>9</th>\n",
       "      <td>0</td>\n",
       "      <td>2188.756445</td>\n",
       "      <td>41</td>\n",
       "      <td>среднее</td>\n",
       "      <td>1</td>\n",
       "      <td>женат / замужем</td>\n",
       "      <td>0</td>\n",
       "      <td>M</td>\n",
       "      <td>сотрудник</td>\n",
       "      <td>0</td>\n",
       "      <td>144425.938277</td>\n",
       "      <td>покупка жилья для семьи</td>\n",
       "    </tr>\n",
       "  </tbody>\n",
       "</table>\n",
       "</div>"
      ],
      "text/plain": [
       "   children  days_employed  dob_years education  education_id  \\\n",
       "0         1    8437.673028         42    высшее             0   \n",
       "1         1    4024.803754         36   среднее             1   \n",
       "2         0    5623.422610         33   Среднее             1   \n",
       "3         3    4124.747207         32   среднее             1   \n",
       "4         0   14177.753002         53   среднее             1   \n",
       "5         0     926.185831         27    высшее             0   \n",
       "6         0    2879.202052         43    высшее             0   \n",
       "7         0     152.779569         50   СРЕДНЕЕ             1   \n",
       "8         2    6929.865299         35    ВЫСШЕЕ             0   \n",
       "9         0    2188.756445         41   среднее             1   \n",
       "\n",
       "      family_status  family_status_id gender income_type  debt   total_income  \\\n",
       "0   женат / замужем                 0      F   сотрудник     0  253875.639453   \n",
       "1   женат / замужем                 0      F   сотрудник     0  112080.014102   \n",
       "2   женат / замужем                 0      M   сотрудник     0  145885.952297   \n",
       "3   женат / замужем                 0      M   сотрудник     0  267628.550329   \n",
       "4  гражданский брак                 1      F   пенсионер     0  158616.077870   \n",
       "5  гражданский брак                 1      M   компаньон     0  255763.565419   \n",
       "6   женат / замужем                 0      F   компаньон     0  240525.971920   \n",
       "7   женат / замужем                 0      M   сотрудник     0  135823.934197   \n",
       "8  гражданский брак                 1      F   сотрудник     0   95856.832424   \n",
       "9   женат / замужем                 0      M   сотрудник     0  144425.938277   \n",
       "\n",
       "                      purpose  \n",
       "0               покупка жилья  \n",
       "1     приобретение автомобиля  \n",
       "2               покупка жилья  \n",
       "3  дополнительное образование  \n",
       "4             сыграть свадьбу  \n",
       "5               покупка жилья  \n",
       "6           операции с жильем  \n",
       "7                 образование  \n",
       "8       на проведение свадьбы  \n",
       "9     покупка жилья для семьи  "
      ]
     },
     "execution_count": 8,
     "metadata": {},
     "output_type": "execute_result"
    }
   ],
   "source": [
    "# прочитаем первые 10 строк таблицы df\n",
    "borrower_bank.head(10)"
   ]
  },
  {
   "cell_type": "markdown",
   "metadata": {},
   "source": [
    "Результат есть - стаж записан везде одинаково : в днях и без отрицательныз значений."
   ]
  },
  {
   "cell_type": "markdown",
   "metadata": {},
   "source": [
    "Теперь вернемся к столбцу `children`. Заметим что:\n",
    "* есть отрицательное значение -1, что скорее всего ознает \"нет детей\", поэтому значение -1 поменяем на 0,\n",
    "* значение 20 скорее всего не означает, что у клиента 20 детей, а то, что цифры 2 и 0 находят радом на клавиатуре, поэтому будем считать что 0 был дописан случайно и значения 20 поменяем на 2.\n",
    "\n",
    "Для замены значений в столбце воспользуемся методом <i> replace() </i>:"
   ]
  },
  {
   "cell_type": "code",
   "execution_count": 9,
   "metadata": {
    "scrolled": false
   },
   "outputs": [],
   "source": [
    "# заменяем значения в столбце 'children' методом replace(), где первый аргумент - значение, которое нужно заменить (-1, 20),\n",
    "# а второй - значение, на которое меняем (0, 2)\n",
    "\n",
    "borrower_bank['children'] = borrower_bank['children'].replace({-1:0, 20:2})"
   ]
  },
  {
   "cell_type": "markdown",
   "metadata": {},
   "source": [
    "### Обработка пропусков"
   ]
  },
  {
   "cell_type": "markdown",
   "metadata": {},
   "source": [
    "Cначала посчитаем, сколько в таблице пропущенных значений. Для этого воспользуемся двумя методами `pandas`:"
   ]
  },
  {
   "cell_type": "code",
   "execution_count": 10,
   "metadata": {
    "scrolled": false
   },
   "outputs": [
    {
     "data": {
      "text/plain": [
       "children               0\n",
       "days_employed       2174\n",
       "dob_years              0\n",
       "education              0\n",
       "education_id           0\n",
       "family_status          0\n",
       "family_status_id       0\n",
       "gender                 0\n",
       "income_type            0\n",
       "debt                   0\n",
       "total_income        2174\n",
       "purpose                0\n",
       "dtype: int64"
      ]
     },
     "execution_count": 10,
     "metadata": {},
     "output_type": "execute_result"
    }
   ],
   "source": [
    "# подсчёт пропусков\n",
    "borrower_bank.isna().sum() "
   ]
  },
  {
   "cell_type": "markdown",
   "metadata": {},
   "source": [
    "Видим, что в столбцах `days_employed` и `total_income` есть пропущенные значения. Проверим:\n",
    "* в одинаковых строках пропущенные значения или нет, \n",
    "* что представляют собой пропущенные значения в столбцах."
   ]
  },
  {
   "cell_type": "code",
   "execution_count": 11,
   "metadata": {
    "scrolled": true
   },
   "outputs": [
    {
     "name": "stdout",
     "output_type": "stream",
     "text": [
      "<class 'pandas.core.frame.DataFrame'>\n",
      "Int64Index: 2174 entries, 12 to 21510\n",
      "Data columns (total 12 columns):\n",
      " #   Column            Non-Null Count  Dtype  \n",
      "---  ------            --------------  -----  \n",
      " 0   children          2174 non-null   int64  \n",
      " 1   days_employed     0 non-null      float64\n",
      " 2   dob_years         2174 non-null   int64  \n",
      " 3   education         2174 non-null   object \n",
      " 4   education_id      2174 non-null   int64  \n",
      " 5   family_status     2174 non-null   object \n",
      " 6   family_status_id  2174 non-null   int64  \n",
      " 7   gender            2174 non-null   object \n",
      " 8   income_type       2174 non-null   object \n",
      " 9   debt              2174 non-null   int64  \n",
      " 10  total_income      0 non-null      float64\n",
      " 11  purpose           2174 non-null   object \n",
      "dtypes: float64(2), int64(5), object(5)\n",
      "memory usage: 220.8+ KB\n"
     ]
    }
   ],
   "source": [
    "# при помощи логического И проверяем условие \"в одинаковых строках пропущеные значения\" \n",
    "# выводим информацию методом info()\n",
    "borrower_bank[(borrower_bank['days_employed'].isna() == True) & (borrower_bank['total_income'].isna() == True)].info()"
   ]
  },
  {
   "cell_type": "markdown",
   "metadata": {},
   "source": [
    "Предположение подтвердилось, теперь посмотрим какие это пропущенные значения."
   ]
  },
  {
   "cell_type": "code",
   "execution_count": 12,
   "metadata": {
    "scrolled": true
   },
   "outputs": [
    {
     "data": {
      "text/html": [
       "<div>\n",
       "<style scoped>\n",
       "    .dataframe tbody tr th:only-of-type {\n",
       "        vertical-align: middle;\n",
       "    }\n",
       "\n",
       "    .dataframe tbody tr th {\n",
       "        vertical-align: top;\n",
       "    }\n",
       "\n",
       "    .dataframe thead th {\n",
       "        text-align: right;\n",
       "    }\n",
       "</style>\n",
       "<table border=\"1\" class=\"dataframe\">\n",
       "  <thead>\n",
       "    <tr style=\"text-align: right;\">\n",
       "      <th></th>\n",
       "      <th>children</th>\n",
       "      <th>days_employed</th>\n",
       "      <th>dob_years</th>\n",
       "      <th>education</th>\n",
       "      <th>education_id</th>\n",
       "      <th>family_status</th>\n",
       "      <th>family_status_id</th>\n",
       "      <th>gender</th>\n",
       "      <th>income_type</th>\n",
       "      <th>debt</th>\n",
       "      <th>total_income</th>\n",
       "      <th>purpose</th>\n",
       "    </tr>\n",
       "  </thead>\n",
       "  <tbody>\n",
       "    <tr>\n",
       "      <th>12</th>\n",
       "      <td>0</td>\n",
       "      <td>NaN</td>\n",
       "      <td>65</td>\n",
       "      <td>среднее</td>\n",
       "      <td>1</td>\n",
       "      <td>гражданский брак</td>\n",
       "      <td>1</td>\n",
       "      <td>M</td>\n",
       "      <td>пенсионер</td>\n",
       "      <td>0</td>\n",
       "      <td>NaN</td>\n",
       "      <td>сыграть свадьбу</td>\n",
       "    </tr>\n",
       "    <tr>\n",
       "      <th>26</th>\n",
       "      <td>0</td>\n",
       "      <td>NaN</td>\n",
       "      <td>41</td>\n",
       "      <td>среднее</td>\n",
       "      <td>1</td>\n",
       "      <td>женат / замужем</td>\n",
       "      <td>0</td>\n",
       "      <td>M</td>\n",
       "      <td>госслужащий</td>\n",
       "      <td>0</td>\n",
       "      <td>NaN</td>\n",
       "      <td>образование</td>\n",
       "    </tr>\n",
       "    <tr>\n",
       "      <th>29</th>\n",
       "      <td>0</td>\n",
       "      <td>NaN</td>\n",
       "      <td>63</td>\n",
       "      <td>среднее</td>\n",
       "      <td>1</td>\n",
       "      <td>Не женат / не замужем</td>\n",
       "      <td>4</td>\n",
       "      <td>F</td>\n",
       "      <td>пенсионер</td>\n",
       "      <td>0</td>\n",
       "      <td>NaN</td>\n",
       "      <td>строительство жилой недвижимости</td>\n",
       "    </tr>\n",
       "    <tr>\n",
       "      <th>41</th>\n",
       "      <td>0</td>\n",
       "      <td>NaN</td>\n",
       "      <td>50</td>\n",
       "      <td>среднее</td>\n",
       "      <td>1</td>\n",
       "      <td>женат / замужем</td>\n",
       "      <td>0</td>\n",
       "      <td>F</td>\n",
       "      <td>госслужащий</td>\n",
       "      <td>0</td>\n",
       "      <td>NaN</td>\n",
       "      <td>сделка с подержанным автомобилем</td>\n",
       "    </tr>\n",
       "    <tr>\n",
       "      <th>55</th>\n",
       "      <td>0</td>\n",
       "      <td>NaN</td>\n",
       "      <td>54</td>\n",
       "      <td>среднее</td>\n",
       "      <td>1</td>\n",
       "      <td>гражданский брак</td>\n",
       "      <td>1</td>\n",
       "      <td>F</td>\n",
       "      <td>пенсионер</td>\n",
       "      <td>1</td>\n",
       "      <td>NaN</td>\n",
       "      <td>сыграть свадьбу</td>\n",
       "    </tr>\n",
       "    <tr>\n",
       "      <th>65</th>\n",
       "      <td>0</td>\n",
       "      <td>NaN</td>\n",
       "      <td>21</td>\n",
       "      <td>среднее</td>\n",
       "      <td>1</td>\n",
       "      <td>Не женат / не замужем</td>\n",
       "      <td>4</td>\n",
       "      <td>M</td>\n",
       "      <td>компаньон</td>\n",
       "      <td>0</td>\n",
       "      <td>NaN</td>\n",
       "      <td>операции с коммерческой недвижимостью</td>\n",
       "    </tr>\n",
       "    <tr>\n",
       "      <th>67</th>\n",
       "      <td>0</td>\n",
       "      <td>NaN</td>\n",
       "      <td>52</td>\n",
       "      <td>высшее</td>\n",
       "      <td>0</td>\n",
       "      <td>женат / замужем</td>\n",
       "      <td>0</td>\n",
       "      <td>F</td>\n",
       "      <td>пенсионер</td>\n",
       "      <td>0</td>\n",
       "      <td>NaN</td>\n",
       "      <td>покупка жилья для семьи</td>\n",
       "    </tr>\n",
       "    <tr>\n",
       "      <th>72</th>\n",
       "      <td>1</td>\n",
       "      <td>NaN</td>\n",
       "      <td>32</td>\n",
       "      <td>высшее</td>\n",
       "      <td>0</td>\n",
       "      <td>женат / замужем</td>\n",
       "      <td>0</td>\n",
       "      <td>M</td>\n",
       "      <td>госслужащий</td>\n",
       "      <td>0</td>\n",
       "      <td>NaN</td>\n",
       "      <td>операции с коммерческой недвижимостью</td>\n",
       "    </tr>\n",
       "    <tr>\n",
       "      <th>82</th>\n",
       "      <td>2</td>\n",
       "      <td>NaN</td>\n",
       "      <td>50</td>\n",
       "      <td>высшее</td>\n",
       "      <td>0</td>\n",
       "      <td>женат / замужем</td>\n",
       "      <td>0</td>\n",
       "      <td>F</td>\n",
       "      <td>сотрудник</td>\n",
       "      <td>0</td>\n",
       "      <td>NaN</td>\n",
       "      <td>жилье</td>\n",
       "    </tr>\n",
       "    <tr>\n",
       "      <th>83</th>\n",
       "      <td>0</td>\n",
       "      <td>NaN</td>\n",
       "      <td>52</td>\n",
       "      <td>среднее</td>\n",
       "      <td>1</td>\n",
       "      <td>женат / замужем</td>\n",
       "      <td>0</td>\n",
       "      <td>M</td>\n",
       "      <td>сотрудник</td>\n",
       "      <td>0</td>\n",
       "      <td>NaN</td>\n",
       "      <td>жилье</td>\n",
       "    </tr>\n",
       "  </tbody>\n",
       "</table>\n",
       "</div>"
      ],
      "text/plain": [
       "    children  days_employed  dob_years education  education_id  \\\n",
       "12         0            NaN         65   среднее             1   \n",
       "26         0            NaN         41   среднее             1   \n",
       "29         0            NaN         63   среднее             1   \n",
       "41         0            NaN         50   среднее             1   \n",
       "55         0            NaN         54   среднее             1   \n",
       "65         0            NaN         21   среднее             1   \n",
       "67         0            NaN         52    высшее             0   \n",
       "72         1            NaN         32    высшее             0   \n",
       "82         2            NaN         50    высшее             0   \n",
       "83         0            NaN         52   среднее             1   \n",
       "\n",
       "            family_status  family_status_id gender  income_type  debt  \\\n",
       "12       гражданский брак                 1      M    пенсионер     0   \n",
       "26        женат / замужем                 0      M  госслужащий     0   \n",
       "29  Не женат / не замужем                 4      F    пенсионер     0   \n",
       "41        женат / замужем                 0      F  госслужащий     0   \n",
       "55       гражданский брак                 1      F    пенсионер     1   \n",
       "65  Не женат / не замужем                 4      M    компаньон     0   \n",
       "67        женат / замужем                 0      F    пенсионер     0   \n",
       "72        женат / замужем                 0      M  госслужащий     0   \n",
       "82        женат / замужем                 0      F    сотрудник     0   \n",
       "83        женат / замужем                 0      M    сотрудник     0   \n",
       "\n",
       "    total_income                                purpose  \n",
       "12           NaN                        сыграть свадьбу  \n",
       "26           NaN                            образование  \n",
       "29           NaN       строительство жилой недвижимости  \n",
       "41           NaN       сделка с подержанным автомобилем  \n",
       "55           NaN                        сыграть свадьбу  \n",
       "65           NaN  операции с коммерческой недвижимостью  \n",
       "67           NaN                покупка жилья для семьи  \n",
       "72           NaN  операции с коммерческой недвижимостью  \n",
       "82           NaN                                  жилье  \n",
       "83           NaN                                  жилье  "
      ]
     },
     "execution_count": 12,
     "metadata": {},
     "output_type": "execute_result"
    }
   ],
   "source": [
    "# выводим 10 первых строк с пропущенными значениями\n",
    "borrower_bank[borrower_bank['days_employed'].isna()].head(10)"
   ]
  },
  {
   "cell_type": "markdown",
   "metadata": {},
   "source": [
    "Пропущенными значениями в столбцах оказались NaN. Они замещают отсутсвующие в ячейке число и принадлежат к типу float.\n",
    "Пропущенные значения неслучайные. Вероятность пропуска зависит от других значений, в том числе и от значений собственного столбца, т.е. клиент нарочно не указал свой стаж и доход.\n",
    "\n",
    "Чтобы их изменить:\n",
    "1. Создадим три Series без пропущенных значений, c группировкой DataFrame по столбцу `income_type` с данными столбцов стажа, возраста и дохода.\n",
    "2. Посчитаем медиану для каждого столбца.\n",
    "3. Заполним пропущенные значения значениями медианы в соответствии с должностью.\n",
    "4. Возраст 0 - медианой по возрасту в соответствии с должностью."
   ]
  },
  {
   "cell_type": "code",
   "execution_count": 13,
   "metadata": {
    "scrolled": true
   },
   "outputs": [
    {
     "data": {
      "text/plain": [
       "income_type\n",
       "безработный        15267.235531\n",
       "в декрете           3296.759962\n",
       "госслужащий         2605.718536\n",
       "компаньон           1523.272831\n",
       "пенсионер          15217.221094\n",
       "предприниматель      520.848083\n",
       "сотрудник           1539.475707\n",
       "студент              578.751554\n",
       "Name: days_employed, dtype: float64"
      ]
     },
     "execution_count": 13,
     "metadata": {},
     "output_type": "execute_result"
    }
   ],
   "source": [
    "# сгруппируем df без пропущенных значений по столбцу 'income_type'\n",
    "# c выводом в столбце 'days_employed' медианного значения\n",
    "df_days_employed = borrower_bank[borrower_bank.isna() == False].groupby('income_type')['days_employed'].median()\n",
    "# выведем результат на экран\n",
    "df_days_employed"
   ]
  },
  {
   "cell_type": "code",
   "execution_count": 14,
   "metadata": {
    "scrolled": true
   },
   "outputs": [
    {
     "data": {
      "text/plain": [
       "income_type\n",
       "безработный        131339.751676\n",
       "в декрете           53829.130729\n",
       "госслужащий        150447.935283\n",
       "компаньон          172357.950966\n",
       "пенсионер          118514.486412\n",
       "предприниматель    499163.144947\n",
       "сотрудник          142594.396847\n",
       "студент             98201.625314\n",
       "Name: total_income, dtype: float64"
      ]
     },
     "execution_count": 14,
     "metadata": {},
     "output_type": "execute_result"
    }
   ],
   "source": [
    "# сгрупируем df без пропущенных значений по столбцу 'income_type'\n",
    "# c выводом в столбце 'total_income' медианного значения\n",
    "df_total_income = borrower_bank[borrower_bank.isna() == False].groupby('income_type')['total_income'].median()\n",
    "# выведем результат на экран\n",
    "df_total_income"
   ]
  },
  {
   "cell_type": "code",
   "execution_count": 15,
   "metadata": {
    "scrolled": true
   },
   "outputs": [
    {
     "data": {
      "text/plain": [
       "income_type\n",
       "безработный        38.0\n",
       "в декрете          39.0\n",
       "госслужащий        40.0\n",
       "компаньон          39.0\n",
       "пенсионер          60.0\n",
       "предприниматель    42.5\n",
       "сотрудник          39.0\n",
       "студент            22.0\n",
       "Name: dob_years, dtype: float64"
      ]
     },
     "execution_count": 15,
     "metadata": {},
     "output_type": "execute_result"
    }
   ],
   "source": [
    "# сгруппируем df без строк, где возраст 0, по столбцу 'income_type'\n",
    "# c выводом в столбце 'dob_years' медианного значения\n",
    "df_dob_years = borrower_bank[borrower_bank['dob_years'] != 0].groupby('income_type')['dob_years'].median()\n",
    "# выведем результат на экран\n",
    "df_dob_years"
   ]
  },
  {
   "cell_type": "markdown",
   "metadata": {},
   "source": [
    "Данные получены, поэтому можно заполнять пропуски и менять возраст с 0 на соответсвующий, в зависимости от должности."
   ]
  },
  {
   "cell_type": "markdown",
   "metadata": {},
   "source": [
    " - заполним пропуски столбцов `days_employed` и `total_income` \n",
    " - заменим \"нулевой\" возраст в столбце `dob_years`"
   ]
  },
  {
   "cell_type": "code",
   "execution_count": 16,
   "metadata": {
    "scrolled": true
   },
   "outputs": [],
   "source": [
    "# импорт библиотеки numpy\n",
    "import numpy as np\n",
    "\n",
    "# циклом for перебираем условия (категории должностей), по которым перебираем следующие условия:\n",
    "# строчки df, в которых встречается пропуск: если у обоих условий - True, \n",
    "# то перезаписываем NaN медианным значением из соотв. Series;\n",
    "# значение возраста равно 0 - True, записываем значение из соотв. Series\n",
    "\n",
    "for i in range(len(borrower_bank)):\n",
    "    if (borrower_bank.loc[i, 'income_type'] == 'безработный'):\n",
    "        if (np.isnan(borrower_bank.loc[i, 'days_employed'])):\n",
    "            borrower_bank.loc[i, 'days_employed'] = df_days_employed[0]\n",
    "            borrower_bank.loc[i, 'total_income'] = df_total_income[0]\n",
    "        if (borrower_bank.loc[i, 'dob_years'] == 0):\n",
    "            borrower_bank.loc[i, 'dob_years'] = df_dob_years[0]\n",
    "\n",
    "    elif (borrower_bank.loc[i, 'income_type'] == 'в декрете'):\n",
    "        if (np.isnan(borrower_bank.loc[i, 'days_employed'])):\n",
    "            borrower_bank.loc[i, 'days_employed'] = df_days_employed[1]\n",
    "            borrower_bank.loc[i, 'total_income'] = df_total_income[1]\n",
    "        if (borrower_bank.loc[i, 'dob_years'] == 0):\n",
    "            borrower_bank.loc[i, 'dob_years'] = df_dob_years[1]\n",
    "\n",
    "    elif (borrower_bank.loc[i, 'income_type'] == 'госслужащий'):\n",
    "        if (np.isnan(borrower_bank.loc[i, 'days_employed'])):\n",
    "            borrower_bank.loc[i, 'days_employed'] = df_days_employed[2]\n",
    "            borrower_bank.loc[i, 'total_income'] = df_total_income[2]\n",
    "        if (borrower_bank.loc[i, 'dob_years'] == 0):\n",
    "            borrower_bank.loc[i, 'dob_years'] = df_dob_years[2]\n",
    "\n",
    "    elif (borrower_bank.loc[i, 'income_type'] == 'компаньон'):\n",
    "        if (np.isnan(borrower_bank.loc[i, 'days_employed'])):\n",
    "            borrower_bank.loc[i, 'days_employed'] = df_days_employed[3]\n",
    "            borrower_bank.loc[i, 'total_income'] = df_total_income[3]\n",
    "        if (borrower_bank.loc[i, 'dob_years'] == 0):\n",
    "            borrower_bank.loc[i, 'dob_years'] = df_dob_years[3]\n",
    "\n",
    "    elif (borrower_bank.loc[i, 'income_type'] == 'пенсионер'):\n",
    "        if (np.isnan(borrower_bank.loc[i, 'days_employed'])):\n",
    "            borrower_bank.loc[i, 'days_employed'] = df_days_employed[4]\n",
    "            borrower_bank.loc[i, 'total_income'] = df_total_income[4]\n",
    "        if (borrower_bank.loc[i, 'dob_years'] == 0):\n",
    "            borrower_bank.loc[i, 'dob_years'] = df_dob_years[4]\n",
    "\n",
    "    elif (borrower_bank.loc[i, 'income_type'] == 'предприниматель'):\n",
    "        if (np.isnan(borrower_bank.loc[i, 'days_employed'])):\n",
    "            borrower_bank.loc[i, 'days_employed'] = df_days_employed[5]\n",
    "            borrower_bank.loc[i, 'total_income'] = df_total_income[5]\n",
    "        if (borrower_bank.loc[i, 'dob_years'] == 0):\n",
    "            borrower_bank.loc[i, 'dob_years'] = df_dob_years[5]\n",
    "\n",
    "    elif (borrower_bank.loc[i, 'income_type'] == 'сотрудник'):\n",
    "        if (np.isnan(borrower_bank.loc[i, 'days_employed'])):\n",
    "            borrower_bank.loc[i, 'days_employed'] = df_days_employed[6]\n",
    "            borrower_bank.loc[i, 'total_income'] = df_total_income[6]\n",
    "        if (borrower_bank.loc[i, 'dob_years'] == 0):\n",
    "            borrower_bank.loc[i, 'dob_years'] = df_dob_years[6]\n",
    "\n",
    "    elif (borrower_bank.loc[i, 'income_type'] == 'студент'):\n",
    "        if (np.isnan(borrower_bank.loc[i, 'days_employed'])):\n",
    "            borrower_bank.loc[i, 'days_employed'] = df_days_employed[7]\n",
    "            borrower_bank.loc[i, 'total_income'] = df_total_income[7]\n",
    "        if (borrower_bank.loc[i, 'dob_years'] == 0):\n",
    "            borrower_bank.loc[i, 'dob_years'] = df_dob_years[7]"
   ]
  },
  {
   "cell_type": "code",
   "execution_count": 17,
   "metadata": {
    "scrolled": true
   },
   "outputs": [
    {
     "data": {
      "text/html": [
       "<div>\n",
       "<style scoped>\n",
       "    .dataframe tbody tr th:only-of-type {\n",
       "        vertical-align: middle;\n",
       "    }\n",
       "\n",
       "    .dataframe tbody tr th {\n",
       "        vertical-align: top;\n",
       "    }\n",
       "\n",
       "    .dataframe thead th {\n",
       "        text-align: right;\n",
       "    }\n",
       "</style>\n",
       "<table border=\"1\" class=\"dataframe\">\n",
       "  <thead>\n",
       "    <tr style=\"text-align: right;\">\n",
       "      <th></th>\n",
       "      <th>children</th>\n",
       "      <th>days_employed</th>\n",
       "      <th>dob_years</th>\n",
       "      <th>education</th>\n",
       "      <th>education_id</th>\n",
       "      <th>family_status</th>\n",
       "      <th>family_status_id</th>\n",
       "      <th>gender</th>\n",
       "      <th>income_type</th>\n",
       "      <th>debt</th>\n",
       "      <th>total_income</th>\n",
       "      <th>purpose</th>\n",
       "    </tr>\n",
       "  </thead>\n",
       "  <tbody>\n",
       "    <tr>\n",
       "      <th>0</th>\n",
       "      <td>1</td>\n",
       "      <td>8437.673028</td>\n",
       "      <td>42.0</td>\n",
       "      <td>высшее</td>\n",
       "      <td>0</td>\n",
       "      <td>женат / замужем</td>\n",
       "      <td>0</td>\n",
       "      <td>F</td>\n",
       "      <td>сотрудник</td>\n",
       "      <td>0</td>\n",
       "      <td>253875.639453</td>\n",
       "      <td>покупка жилья</td>\n",
       "    </tr>\n",
       "    <tr>\n",
       "      <th>1</th>\n",
       "      <td>1</td>\n",
       "      <td>4024.803754</td>\n",
       "      <td>36.0</td>\n",
       "      <td>среднее</td>\n",
       "      <td>1</td>\n",
       "      <td>женат / замужем</td>\n",
       "      <td>0</td>\n",
       "      <td>F</td>\n",
       "      <td>сотрудник</td>\n",
       "      <td>0</td>\n",
       "      <td>112080.014102</td>\n",
       "      <td>приобретение автомобиля</td>\n",
       "    </tr>\n",
       "    <tr>\n",
       "      <th>2</th>\n",
       "      <td>0</td>\n",
       "      <td>5623.422610</td>\n",
       "      <td>33.0</td>\n",
       "      <td>Среднее</td>\n",
       "      <td>1</td>\n",
       "      <td>женат / замужем</td>\n",
       "      <td>0</td>\n",
       "      <td>M</td>\n",
       "      <td>сотрудник</td>\n",
       "      <td>0</td>\n",
       "      <td>145885.952297</td>\n",
       "      <td>покупка жилья</td>\n",
       "    </tr>\n",
       "    <tr>\n",
       "      <th>3</th>\n",
       "      <td>3</td>\n",
       "      <td>4124.747207</td>\n",
       "      <td>32.0</td>\n",
       "      <td>среднее</td>\n",
       "      <td>1</td>\n",
       "      <td>женат / замужем</td>\n",
       "      <td>0</td>\n",
       "      <td>M</td>\n",
       "      <td>сотрудник</td>\n",
       "      <td>0</td>\n",
       "      <td>267628.550329</td>\n",
       "      <td>дополнительное образование</td>\n",
       "    </tr>\n",
       "    <tr>\n",
       "      <th>4</th>\n",
       "      <td>0</td>\n",
       "      <td>14177.753002</td>\n",
       "      <td>53.0</td>\n",
       "      <td>среднее</td>\n",
       "      <td>1</td>\n",
       "      <td>гражданский брак</td>\n",
       "      <td>1</td>\n",
       "      <td>F</td>\n",
       "      <td>пенсионер</td>\n",
       "      <td>0</td>\n",
       "      <td>158616.077870</td>\n",
       "      <td>сыграть свадьбу</td>\n",
       "    </tr>\n",
       "    <tr>\n",
       "      <th>5</th>\n",
       "      <td>0</td>\n",
       "      <td>926.185831</td>\n",
       "      <td>27.0</td>\n",
       "      <td>высшее</td>\n",
       "      <td>0</td>\n",
       "      <td>гражданский брак</td>\n",
       "      <td>1</td>\n",
       "      <td>M</td>\n",
       "      <td>компаньон</td>\n",
       "      <td>0</td>\n",
       "      <td>255763.565419</td>\n",
       "      <td>покупка жилья</td>\n",
       "    </tr>\n",
       "    <tr>\n",
       "      <th>6</th>\n",
       "      <td>0</td>\n",
       "      <td>2879.202052</td>\n",
       "      <td>43.0</td>\n",
       "      <td>высшее</td>\n",
       "      <td>0</td>\n",
       "      <td>женат / замужем</td>\n",
       "      <td>0</td>\n",
       "      <td>F</td>\n",
       "      <td>компаньон</td>\n",
       "      <td>0</td>\n",
       "      <td>240525.971920</td>\n",
       "      <td>операции с жильем</td>\n",
       "    </tr>\n",
       "    <tr>\n",
       "      <th>7</th>\n",
       "      <td>0</td>\n",
       "      <td>152.779569</td>\n",
       "      <td>50.0</td>\n",
       "      <td>СРЕДНЕЕ</td>\n",
       "      <td>1</td>\n",
       "      <td>женат / замужем</td>\n",
       "      <td>0</td>\n",
       "      <td>M</td>\n",
       "      <td>сотрудник</td>\n",
       "      <td>0</td>\n",
       "      <td>135823.934197</td>\n",
       "      <td>образование</td>\n",
       "    </tr>\n",
       "    <tr>\n",
       "      <th>8</th>\n",
       "      <td>2</td>\n",
       "      <td>6929.865299</td>\n",
       "      <td>35.0</td>\n",
       "      <td>ВЫСШЕЕ</td>\n",
       "      <td>0</td>\n",
       "      <td>гражданский брак</td>\n",
       "      <td>1</td>\n",
       "      <td>F</td>\n",
       "      <td>сотрудник</td>\n",
       "      <td>0</td>\n",
       "      <td>95856.832424</td>\n",
       "      <td>на проведение свадьбы</td>\n",
       "    </tr>\n",
       "    <tr>\n",
       "      <th>9</th>\n",
       "      <td>0</td>\n",
       "      <td>2188.756445</td>\n",
       "      <td>41.0</td>\n",
       "      <td>среднее</td>\n",
       "      <td>1</td>\n",
       "      <td>женат / замужем</td>\n",
       "      <td>0</td>\n",
       "      <td>M</td>\n",
       "      <td>сотрудник</td>\n",
       "      <td>0</td>\n",
       "      <td>144425.938277</td>\n",
       "      <td>покупка жилья для семьи</td>\n",
       "    </tr>\n",
       "    <tr>\n",
       "      <th>10</th>\n",
       "      <td>2</td>\n",
       "      <td>4171.483647</td>\n",
       "      <td>36.0</td>\n",
       "      <td>высшее</td>\n",
       "      <td>0</td>\n",
       "      <td>женат / замужем</td>\n",
       "      <td>0</td>\n",
       "      <td>M</td>\n",
       "      <td>компаньон</td>\n",
       "      <td>0</td>\n",
       "      <td>113943.491460</td>\n",
       "      <td>покупка недвижимости</td>\n",
       "    </tr>\n",
       "    <tr>\n",
       "      <th>11</th>\n",
       "      <td>0</td>\n",
       "      <td>792.701887</td>\n",
       "      <td>40.0</td>\n",
       "      <td>среднее</td>\n",
       "      <td>1</td>\n",
       "      <td>женат / замужем</td>\n",
       "      <td>0</td>\n",
       "      <td>F</td>\n",
       "      <td>сотрудник</td>\n",
       "      <td>0</td>\n",
       "      <td>77069.234271</td>\n",
       "      <td>покупка коммерческой недвижимости</td>\n",
       "    </tr>\n",
       "    <tr>\n",
       "      <th>12</th>\n",
       "      <td>0</td>\n",
       "      <td>15217.221094</td>\n",
       "      <td>65.0</td>\n",
       "      <td>среднее</td>\n",
       "      <td>1</td>\n",
       "      <td>гражданский брак</td>\n",
       "      <td>1</td>\n",
       "      <td>M</td>\n",
       "      <td>пенсионер</td>\n",
       "      <td>0</td>\n",
       "      <td>118514.486412</td>\n",
       "      <td>сыграть свадьбу</td>\n",
       "    </tr>\n",
       "    <tr>\n",
       "      <th>13</th>\n",
       "      <td>0</td>\n",
       "      <td>1846.641941</td>\n",
       "      <td>54.0</td>\n",
       "      <td>неоконченное высшее</td>\n",
       "      <td>2</td>\n",
       "      <td>женат / замужем</td>\n",
       "      <td>0</td>\n",
       "      <td>F</td>\n",
       "      <td>сотрудник</td>\n",
       "      <td>0</td>\n",
       "      <td>130458.228857</td>\n",
       "      <td>приобретение автомобиля</td>\n",
       "    </tr>\n",
       "    <tr>\n",
       "      <th>14</th>\n",
       "      <td>0</td>\n",
       "      <td>1844.956182</td>\n",
       "      <td>56.0</td>\n",
       "      <td>высшее</td>\n",
       "      <td>0</td>\n",
       "      <td>гражданский брак</td>\n",
       "      <td>1</td>\n",
       "      <td>F</td>\n",
       "      <td>компаньон</td>\n",
       "      <td>1</td>\n",
       "      <td>165127.911772</td>\n",
       "      <td>покупка жилой недвижимости</td>\n",
       "    </tr>\n",
       "  </tbody>\n",
       "</table>\n",
       "</div>"
      ],
      "text/plain": [
       "    children  days_employed  dob_years            education  education_id  \\\n",
       "0          1    8437.673028       42.0               высшее             0   \n",
       "1          1    4024.803754       36.0              среднее             1   \n",
       "2          0    5623.422610       33.0              Среднее             1   \n",
       "3          3    4124.747207       32.0              среднее             1   \n",
       "4          0   14177.753002       53.0              среднее             1   \n",
       "5          0     926.185831       27.0               высшее             0   \n",
       "6          0    2879.202052       43.0               высшее             0   \n",
       "7          0     152.779569       50.0              СРЕДНЕЕ             1   \n",
       "8          2    6929.865299       35.0               ВЫСШЕЕ             0   \n",
       "9          0    2188.756445       41.0              среднее             1   \n",
       "10         2    4171.483647       36.0               высшее             0   \n",
       "11         0     792.701887       40.0              среднее             1   \n",
       "12         0   15217.221094       65.0              среднее             1   \n",
       "13         0    1846.641941       54.0  неоконченное высшее             2   \n",
       "14         0    1844.956182       56.0               высшее             0   \n",
       "\n",
       "       family_status  family_status_id gender income_type  debt  \\\n",
       "0    женат / замужем                 0      F   сотрудник     0   \n",
       "1    женат / замужем                 0      F   сотрудник     0   \n",
       "2    женат / замужем                 0      M   сотрудник     0   \n",
       "3    женат / замужем                 0      M   сотрудник     0   \n",
       "4   гражданский брак                 1      F   пенсионер     0   \n",
       "5   гражданский брак                 1      M   компаньон     0   \n",
       "6    женат / замужем                 0      F   компаньон     0   \n",
       "7    женат / замужем                 0      M   сотрудник     0   \n",
       "8   гражданский брак                 1      F   сотрудник     0   \n",
       "9    женат / замужем                 0      M   сотрудник     0   \n",
       "10   женат / замужем                 0      M   компаньон     0   \n",
       "11   женат / замужем                 0      F   сотрудник     0   \n",
       "12  гражданский брак                 1      M   пенсионер     0   \n",
       "13   женат / замужем                 0      F   сотрудник     0   \n",
       "14  гражданский брак                 1      F   компаньон     1   \n",
       "\n",
       "     total_income                            purpose  \n",
       "0   253875.639453                      покупка жилья  \n",
       "1   112080.014102            приобретение автомобиля  \n",
       "2   145885.952297                      покупка жилья  \n",
       "3   267628.550329         дополнительное образование  \n",
       "4   158616.077870                    сыграть свадьбу  \n",
       "5   255763.565419                      покупка жилья  \n",
       "6   240525.971920                  операции с жильем  \n",
       "7   135823.934197                        образование  \n",
       "8    95856.832424              на проведение свадьбы  \n",
       "9   144425.938277            покупка жилья для семьи  \n",
       "10  113943.491460               покупка недвижимости  \n",
       "11   77069.234271  покупка коммерческой недвижимости  \n",
       "12  118514.486412                    сыграть свадьбу  \n",
       "13  130458.228857            приобретение автомобиля  \n",
       "14  165127.911772         покупка жилой недвижимости  "
      ]
     },
     "execution_count": 17,
     "metadata": {},
     "output_type": "execute_result"
    }
   ],
   "source": [
    "# выведем первые 15 строк df\n",
    "borrower_bank.head(15)"
   ]
  },
  {
   "cell_type": "markdown",
   "metadata": {},
   "source": [
    "При первом выводе данных в столбцах `days_employed` и `total_income` было NaN ( индекс 12), сейчас это наши полученные медианные значения, значит все верно."
   ]
  },
  {
   "cell_type": "markdown",
   "metadata": {},
   "source": [
    "Проверим минимальный возраст в столбце `dob_years` (ранее это было значение 0)."
   ]
  },
  {
   "cell_type": "code",
   "execution_count": 18,
   "metadata": {},
   "outputs": [
    {
     "data": {
      "text/plain": [
       "19.0"
      ]
     },
     "execution_count": 18,
     "metadata": {},
     "output_type": "execute_result"
    }
   ],
   "source": [
    "# выведем минимальный возраст\n",
    "borrower_bank['dob_years'].min()"
   ]
  },
  {
   "cell_type": "markdown",
   "metadata": {},
   "source": [
    "Минимальный возраст 19 лет, а это значит, что все некорреткные данные по возрасту изменились."
   ]
  },
  {
   "cell_type": "markdown",
   "metadata": {},
   "source": [
    "Убедимся, что в таблице не осталось пропущенных значений. Для этого еще раз поcчитаем пропуски."
   ]
  },
  {
   "cell_type": "code",
   "execution_count": 19,
   "metadata": {
    "scrolled": true
   },
   "outputs": [
    {
     "data": {
      "text/plain": [
       "children            0\n",
       "days_employed       0\n",
       "dob_years           0\n",
       "education           0\n",
       "education_id        0\n",
       "family_status       0\n",
       "family_status_id    0\n",
       "gender              0\n",
       "income_type         0\n",
       "debt                0\n",
       "total_income        0\n",
       "purpose             0\n",
       "dtype: int64"
      ]
     },
     "execution_count": 19,
     "metadata": {},
     "output_type": "execute_result"
    }
   ],
   "source": [
    "# подсчёт пропусков\n",
    "borrower_bank.isna().sum()"
   ]
  },
  {
   "cell_type": "markdown",
   "metadata": {},
   "source": [
    "**Вывод**\n",
    "\n",
    "Некорректные данные стали корректными, пропуски заполнены медианными значениями по должностям, а это значит, что можно переходить к следующему этапу."
   ]
  },
  {
   "cell_type": "markdown",
   "metadata": {},
   "source": [
    "### Замена типа данных"
   ]
  },
  {
   "cell_type": "markdown",
   "metadata": {},
   "source": [
    "Изменим тип данных столбцов `days_employed`,`total_income`, `dob_years` на int c помощью цикла for."
   ]
  },
  {
   "cell_type": "code",
   "execution_count": 20,
   "metadata": {
    "scrolled": true
   },
   "outputs": [],
   "source": [
    "# запишем значения колонок в список columns_replace_type\n",
    "# и методом astype() изменим тип данных на int\n",
    "columns_replace_type = ['days_employed', 'total_income', 'dob_years' ]\n",
    "\n",
    "borrower_bank[columns_replace_type] = borrower_bank[columns_replace_type].astype('int')"
   ]
  },
  {
   "cell_type": "markdown",
   "metadata": {},
   "source": [
    "Проверим информацию о таблице после проделанных изменений методом <i>.info()</i>."
   ]
  },
  {
   "cell_type": "code",
   "execution_count": 21,
   "metadata": {
    "scrolled": false
   },
   "outputs": [
    {
     "name": "stdout",
     "output_type": "stream",
     "text": [
      "<class 'pandas.core.frame.DataFrame'>\n",
      "RangeIndex: 21525 entries, 0 to 21524\n",
      "Data columns (total 12 columns):\n",
      " #   Column            Non-Null Count  Dtype \n",
      "---  ------            --------------  ----- \n",
      " 0   children          21525 non-null  int64 \n",
      " 1   days_employed     21525 non-null  int64 \n",
      " 2   dob_years         21525 non-null  int64 \n",
      " 3   education         21525 non-null  object\n",
      " 4   education_id      21525 non-null  int64 \n",
      " 5   family_status     21525 non-null  object\n",
      " 6   family_status_id  21525 non-null  int64 \n",
      " 7   gender            21525 non-null  object\n",
      " 8   income_type       21525 non-null  object\n",
      " 9   debt              21525 non-null  int64 \n",
      " 10  total_income      21525 non-null  int64 \n",
      " 11  purpose           21525 non-null  object\n",
      "dtypes: int64(7), object(5)\n",
      "memory usage: 2.0+ MB\n"
     ]
    }
   ],
   "source": [
    "# получение общей информации о данных в таблице df\n",
    "borrower_bank.info()"
   ]
  },
  {
   "cell_type": "markdown",
   "metadata": {},
   "source": [
    "**Вывод**"
   ]
  },
  {
   "cell_type": "markdown",
   "metadata": {},
   "source": [
    "Данные в таблице приняли визуально понятный вид. Самое время продолжить исследовать данные."
   ]
  },
  {
   "cell_type": "markdown",
   "metadata": {},
   "source": [
    "### Обработка дубликатов"
   ]
  },
  {
   "cell_type": "markdown",
   "metadata": {},
   "source": [
    "Для того, чтобы начать искать явные дубликаты, важно заметить, что в столбцах `education` и `family_status` встречается разный регистр в значениях, что тоже может повлиять на нахождение явных дубликатов."
   ]
  },
  {
   "cell_type": "markdown",
   "metadata": {},
   "source": [
    "Поэтому для начала приведем значения в столбце `education` и `family_status` к нижнему регистру методом <i> str.lower()</i>."
   ]
  },
  {
   "cell_type": "code",
   "execution_count": 22,
   "metadata": {
    "scrolled": true
   },
   "outputs": [],
   "source": [
    "# приведем значения в столбцах 'education' и 'family_status' к нижнему регистру методом str.lower()\n",
    "borrower_bank['education'] = borrower_bank['education'].str.lower()\n",
    "borrower_bank['family_status'] = borrower_bank ['family_status'].str.lower()"
   ]
  },
  {
   "cell_type": "markdown",
   "metadata": {},
   "source": [
    "Теперь посчитаем явные дубликаты в таблице одной командой:"
   ]
  },
  {
   "cell_type": "code",
   "execution_count": 23,
   "metadata": {
    "scrolled": true
   },
   "outputs": [
    {
     "data": {
      "text/plain": [
       "71"
      ]
     },
     "execution_count": 23,
     "metadata": {},
     "output_type": "execute_result"
    }
   ],
   "source": [
    "# подсчёт явных дубликатов\n",
    "borrower_bank.duplicated().sum()"
   ]
  },
  {
   "cell_type": "markdown",
   "metadata": {},
   "source": [
    "Вызовем специальный метод `pandas`, чтобы удалить явные дубликаты:"
   ]
  },
  {
   "cell_type": "code",
   "execution_count": 24,
   "metadata": {
    "scrolled": true
   },
   "outputs": [],
   "source": [
    "# удаление явных дубликатов (с удалением старых индексов и формированием новых)\n",
    "borrower_bank = borrower_bank.drop_duplicates().reset_index(drop=True)"
   ]
  },
  {
   "cell_type": "markdown",
   "metadata": {},
   "source": [
    "Ещё раз посчитаем явные дубликаты в таблице — убедимся, что полностью от них избавились:"
   ]
  },
  {
   "cell_type": "code",
   "execution_count": 25,
   "metadata": {
    "scrolled": true
   },
   "outputs": [
    {
     "data": {
      "text/plain": [
       "0"
      ]
     },
     "execution_count": 25,
     "metadata": {},
     "output_type": "execute_result"
    }
   ],
   "source": [
    "# подсчёт явных дубликатов\n",
    "borrower_bank.duplicated().sum()"
   ]
  },
  {
   "cell_type": "markdown",
   "metadata": {},
   "source": [
    "Явные дубликаты удалены, и наша таблица стала еще более информативной. \n",
    "Причиной появления дубликатов мог послужить человеческий фактор. "
   ]
  },
  {
   "cell_type": "markdown",
   "metadata": {},
   "source": [
    "### Лемматизация"
   ]
  },
  {
   "cell_type": "markdown",
   "metadata": {},
   "source": [
    "Теперь избавимся от неявных дубликатов в колонке `purpose`. Например, одна и та же цель может быть записана немного по-разному. Такие ошибки тоже повлияют на результат исследования."
   ]
  },
  {
   "cell_type": "markdown",
   "metadata": {},
   "source": [
    "Выведем на экран список уникальных целей, отсортированный в алфавитном порядке. Для этого:\n",
    "* извлечём нужный столбец датафрейма, \n",
    "* применим к нему метод сортировки,\n",
    "* для отсортированного столбца вызовем метод, который вернёт уникальные значения из столбца,\n",
    "* результат запишем в переменную `purpose_list` и выведем его на экран."
   ]
  },
  {
   "cell_type": "code",
   "execution_count": 26,
   "metadata": {
    "scrolled": false
   },
   "outputs": [
    {
     "data": {
      "text/plain": [
       "array(['автомобили', 'автомобиль', 'высшее образование',\n",
       "       'дополнительное образование', 'жилье',\n",
       "       'заняться высшим образованием', 'заняться образованием',\n",
       "       'на покупку автомобиля', 'на покупку подержанного автомобиля',\n",
       "       'на покупку своего автомобиля', 'на проведение свадьбы',\n",
       "       'недвижимость', 'образование', 'операции с жильем',\n",
       "       'операции с коммерческой недвижимостью',\n",
       "       'операции с недвижимостью', 'операции со своей недвижимостью',\n",
       "       'покупка жилой недвижимости', 'покупка жилья',\n",
       "       'покупка жилья для сдачи', 'покупка жилья для семьи',\n",
       "       'покупка коммерческой недвижимости', 'покупка недвижимости',\n",
       "       'покупка своего жилья', 'получение высшего образования',\n",
       "       'получение дополнительного образования', 'получение образования',\n",
       "       'приобретение автомобиля', 'профильное образование',\n",
       "       'ремонт жилью', 'свадьба', 'свой автомобиль',\n",
       "       'сделка с автомобилем', 'сделка с подержанным автомобилем',\n",
       "       'строительство жилой недвижимости', 'строительство недвижимости',\n",
       "       'строительство собственной недвижимости', 'сыграть свадьбу'],\n",
       "      dtype=object)"
      ]
     },
     "execution_count": 26,
     "metadata": {},
     "output_type": "execute_result"
    }
   ],
   "source": [
    "# Просмотр уникальных целей \n",
    "purpose_list = borrower_bank['purpose'].sort_values().unique()\n",
    "purpose_list "
   ]
  },
  {
   "cell_type": "markdown",
   "metadata": {},
   "source": [
    "В списке целей много повторяющихся категорий - неявных дубликатов. Сделаем лемматизацию списка `purpose_list`."
   ]
  },
  {
   "cell_type": "markdown",
   "metadata": {},
   "source": [
    "Импортируем библиотеку `pymystem3`."
   ]
  },
  {
   "cell_type": "code",
   "execution_count": 27,
   "metadata": {
    "scrolled": true
   },
   "outputs": [],
   "source": [
    "# импорт библиотеки pymystem3\n",
    "from pymystem3 import Mystem\n",
    "m = Mystem() "
   ]
  },
  {
   "cell_type": "markdown",
   "metadata": {},
   "source": [
    "Создаем пустой список lemmas для записи списка лемм из получившего списка уникальных целей."
   ]
  },
  {
   "cell_type": "code",
   "execution_count": 28,
   "metadata": {
    "scrolled": true
   },
   "outputs": [],
   "source": [
    "# создаем пустой список lemmas\n",
    "lemmas = []\n",
    "\n",
    "# с помощью цикла for лемматизируем каждую строчку списка purpose_list и записываем в список lemmas\n",
    "\n",
    "for line in purpose_list:\n",
    "    lemma = m.lemmatize(line)\n",
    "    lemmas.append(lemma)"
   ]
  },
  {
   "cell_type": "markdown",
   "metadata": {},
   "source": [
    "Результат выведем на экран:"
   ]
  },
  {
   "cell_type": "code",
   "execution_count": 29,
   "metadata": {
    "scrolled": true
   },
   "outputs": [
    {
     "name": "stdout",
     "output_type": "stream",
     "text": [
      "[['автомобиль', '\\n'], ['автомобиль', '\\n'], ['высокий', ' ', 'образование', '\\n'], ['дополнительный', ' ', 'образование', '\\n'], ['жилье', '\\n'], ['заниматься', ' ', 'высокий', ' ', 'образование', '\\n'], ['заниматься', ' ', 'образование', '\\n'], ['на', ' ', 'покупка', ' ', 'автомобиль', '\\n'], ['на', ' ', 'покупка', ' ', 'подержать', ' ', 'автомобиль', '\\n'], ['на', ' ', 'покупка', ' ', 'свой', ' ', 'автомобиль', '\\n'], ['на', ' ', 'проведение', ' ', 'свадьба', '\\n'], ['недвижимость', '\\n'], ['образование', '\\n'], ['операция', ' ', 'с', ' ', 'жилье', '\\n'], ['операция', ' ', 'с', ' ', 'коммерческий', ' ', 'недвижимость', '\\n'], ['операция', ' ', 'с', ' ', 'недвижимость', '\\n'], ['операция', ' ', 'со', ' ', 'свой', ' ', 'недвижимость', '\\n'], ['покупка', ' ', 'жилой', ' ', 'недвижимость', '\\n'], ['покупка', ' ', 'жилье', '\\n'], ['покупка', ' ', 'жилье', ' ', 'для', ' ', 'сдача', '\\n'], ['покупка', ' ', 'жилье', ' ', 'для', ' ', 'семья', '\\n'], ['покупка', ' ', 'коммерческий', ' ', 'недвижимость', '\\n'], ['покупка', ' ', 'недвижимость', '\\n'], ['покупка', ' ', 'свой', ' ', 'жилье', '\\n'], ['получение', ' ', 'высокий', ' ', 'образование', '\\n'], ['получение', ' ', 'дополнительный', ' ', 'образование', '\\n'], ['получение', ' ', 'образование', '\\n'], ['приобретение', ' ', 'автомобиль', '\\n'], ['профильный', ' ', 'образование', '\\n'], ['ремонт', ' ', 'жилье', '\\n'], ['свадьба', '\\n'], ['свой', ' ', 'автомобиль', '\\n'], ['сделка', ' ', 'с', ' ', 'автомобиль', '\\n'], ['сделка', ' ', 'с', ' ', 'подержанный', ' ', 'автомобиль', '\\n'], ['строительство', ' ', 'жилой', ' ', 'недвижимость', '\\n'], ['строительство', ' ', 'недвижимость', '\\n'], ['строительство', ' ', 'собственный', ' ', 'недвижимость', '\\n'], ['сыграть', ' ', 'свадьба', '\\n']]\n"
     ]
    }
   ],
   "source": [
    "print(lemmas)"
   ]
  },
  {
   "cell_type": "markdown",
   "metadata": {},
   "source": [
    "Лемматизация прошла успешно и уже можно заметить, что некоторые цели совпадают по смыслу. Самое время распределить их по категорияем."
   ]
  },
  {
   "cell_type": "markdown",
   "metadata": {},
   "source": [
    "### Категоризация данных"
   ]
  },
  {
   "cell_type": "markdown",
   "metadata": {},
   "source": [
    "Пришло время привести цели в порядок. Для этого разобьем по категориям полученные леммы:\n",
    "* автомобиль,\n",
    "* жилье или недвижимость,\n",
    "* образование,\n",
    "* свадьба."
   ]
  },
  {
   "cell_type": "markdown",
   "metadata": {},
   "source": [
    "Создадим функцию `purpose_category()`, с помощью которой разобьем на категории цели."
   ]
  },
  {
   "cell_type": "code",
   "execution_count": 30,
   "metadata": {
    "scrolled": true
   },
   "outputs": [],
   "source": [
    "# Объявляется функция purpose_category() с параметром purpose.\n",
    "# В переменной lemmas_row лематизируем строки purpose\n",
    "# С помощью цикла for пройдемся по строкам и при совпадении какой-либо подстроки (заданные условия с помощью if)\n",
    "# функция возвращает категорию цели, к которой относится подкатегория(строка purpose)\n",
    "\n",
    "def purpose_category(purpose):\n",
    "    lemmas_row = m.lemmatize(purpose)\n",
    "    for row in lemmas_row:\n",
    "        if 'авто' in row:\n",
    "            return 'автомобиль'\n",
    "        if ('недвиж' in row) or ('жил' in row):\n",
    "            return  'недвижимость'\n",
    "        if 'свад' in row:\n",
    "            return  'свадьба'\n",
    "        if 'образов' in row:\n",
    "            return 'образование'"
   ]
  },
  {
   "cell_type": "markdown",
   "metadata": {},
   "source": [
    "Перезапишем столбец в DataFrame  `purpose`, присвоив значения-результаты функции `purpose_category()` методом <i> apply() </i>."
   ]
  },
  {
   "cell_type": "code",
   "execution_count": 31,
   "metadata": {
    "scrolled": true
   },
   "outputs": [],
   "source": [
    "# перезапишем столбец 'purpose' в df методом apply() \n",
    "borrower_bank['purpose'] = borrower_bank['purpose'].apply(purpose_category)"
   ]
  },
  {
   "cell_type": "markdown",
   "metadata": {},
   "source": [
    "Категоризируем данные для столбца `children`  используя правила:\n",
    "* меньше 1 ребенка - нет детей\n",
    "* меньше или равно 2 детям и не равно 0 - один или два ребенка\n",
    "* больше 2 детей - многодетные"
   ]
  },
  {
   "cell_type": "code",
   "execution_count": 32,
   "metadata": {},
   "outputs": [],
   "source": [
    "# Объявляется функция children_category() с параметром children.\n",
    "# функция возвращает категорию детей, используя правила\n",
    "\n",
    "def сhildren_category(children):\n",
    "    if children < 1:\n",
    "        return 'нет детей'\n",
    "    if (children > 0) and (children < 3):\n",
    "        return  'один или два ребенка'\n",
    "    if children > 2:\n",
    "        return  'многодетные'   "
   ]
  },
  {
   "cell_type": "markdown",
   "metadata": {},
   "source": [
    "Перезапишем столбец `children` в DataFrame , присвоив значения-результаты функции `children_category()` методом <i> apply() </i>."
   ]
  },
  {
   "cell_type": "code",
   "execution_count": 33,
   "metadata": {
    "scrolled": false
   },
   "outputs": [],
   "source": [
    "# перезапишем столбец 'children' в df методом apply() \n",
    "borrower_bank['children'] = borrower_bank['children'].apply(сhildren_category)"
   ]
  },
  {
   "cell_type": "markdown",
   "metadata": {},
   "source": [
    "Категоризируем данные столбца `total_income`. Для начала найдем минимальное, медианное и максимальное значение дохода и выведем на экран."
   ]
  },
  {
   "cell_type": "code",
   "execution_count": 34,
   "metadata": {},
   "outputs": [
    {
     "name": "stdout",
     "output_type": "stream",
     "text": [
      "Минимальный доход:  20667\n",
      "Средний доход:  142594.0\n",
      "Максимальный доход:  2265604\n"
     ]
    }
   ],
   "source": [
    "# подсчет медианы, минимального и максимального значений столбца 'total_income'\n",
    "mediana = borrower_bank['total_income'].median()\n",
    "minimum = borrower_bank['total_income'].min()\n",
    "maximum = borrower_bank['total_income'].max()\n",
    "\n",
    "# вывод на экран результатов\n",
    "print('Минимальный доход: ', minimum)\n",
    "print('Средний доход: ', mediana)\n",
    "print('Максимальный доход: ', maximum)"
   ]
  },
  {
   "cell_type": "markdown",
   "metadata": {},
   "source": [
    "Чтобы категоризировать эти данные, посчитаем два средних значения : `mean_1` - среднее от минимального и среднего дохода, `mean_2` - среднее от среднего и высокого дохода. Эти медианны послежат чертой для деления дохода на группы (низкий доход, средний доход, высокий доход)."
   ]
  },
  {
   "cell_type": "code",
   "execution_count": 35,
   "metadata": {},
   "outputs": [],
   "source": [
    "# запишем в переменные mean_1 и mean_2 список нужных значений\n",
    "mean_1 = [minimum, mediana] \n",
    "mean_2 = [mediana, maximum] \n",
    "\n",
    "# произведем расчет средних значений - черту деления\n",
    "mean_1 = sum(mean_1)/len(mean_1)\n",
    "mean_2 = sum(mean_2)/len(mean_2)"
   ]
  },
  {
   "cell_type": "markdown",
   "metadata": {},
   "source": [
    "Пришло время категоризовать столбец, все данные у нас есть.\n",
    "* Низкий доход: меньше или равно `mean_1`\n",
    "* Средний доход: больше `mean_1` и меньше или равно `mean_2`\n",
    "* Высокий доход: больше `mean_2`"
   ]
  },
  {
   "cell_type": "code",
   "execution_count": 36,
   "metadata": {},
   "outputs": [],
   "source": [
    "# Объявляется функция income_category() с параметром income.\n",
    "# функция возвращает категорию доходов, используя правила\n",
    "\n",
    "def income_category(income):\n",
    "    if income <= mean_1:\n",
    "        return 'низкий доход'\n",
    "    if (income > mean_1) and (income <= mean_2):\n",
    "        return  'средний доход'\n",
    "    if income > mean_2:\n",
    "        return  'высокий доход' "
   ]
  },
  {
   "cell_type": "markdown",
   "metadata": {},
   "source": [
    "Перезапишем столбец `total_income` в DataFrame , присвоив значения-результаты функции `income_category()` методом <i> apply() </i>."
   ]
  },
  {
   "cell_type": "code",
   "execution_count": 37,
   "metadata": {},
   "outputs": [],
   "source": [
    "# перезапишем столбец 'total_income' в df методом apply() \n",
    "borrower_bank['total_income'] = borrower_bank['total_income'].apply(income_category)"
   ]
  },
  {
   "cell_type": "markdown",
   "metadata": {},
   "source": [
    "Посмотрим первые 5 строк нового DataFrame."
   ]
  },
  {
   "cell_type": "code",
   "execution_count": 38,
   "metadata": {},
   "outputs": [
    {
     "data": {
      "text/html": [
       "<div>\n",
       "<style scoped>\n",
       "    .dataframe tbody tr th:only-of-type {\n",
       "        vertical-align: middle;\n",
       "    }\n",
       "\n",
       "    .dataframe tbody tr th {\n",
       "        vertical-align: top;\n",
       "    }\n",
       "\n",
       "    .dataframe thead th {\n",
       "        text-align: right;\n",
       "    }\n",
       "</style>\n",
       "<table border=\"1\" class=\"dataframe\">\n",
       "  <thead>\n",
       "    <tr style=\"text-align: right;\">\n",
       "      <th></th>\n",
       "      <th>children</th>\n",
       "      <th>days_employed</th>\n",
       "      <th>dob_years</th>\n",
       "      <th>education</th>\n",
       "      <th>education_id</th>\n",
       "      <th>family_status</th>\n",
       "      <th>family_status_id</th>\n",
       "      <th>gender</th>\n",
       "      <th>income_type</th>\n",
       "      <th>debt</th>\n",
       "      <th>total_income</th>\n",
       "      <th>purpose</th>\n",
       "    </tr>\n",
       "  </thead>\n",
       "  <tbody>\n",
       "    <tr>\n",
       "      <th>0</th>\n",
       "      <td>один или два ребенка</td>\n",
       "      <td>8437</td>\n",
       "      <td>42</td>\n",
       "      <td>высшее</td>\n",
       "      <td>0</td>\n",
       "      <td>женат / замужем</td>\n",
       "      <td>0</td>\n",
       "      <td>F</td>\n",
       "      <td>сотрудник</td>\n",
       "      <td>0</td>\n",
       "      <td>средний доход</td>\n",
       "      <td>недвижимость</td>\n",
       "    </tr>\n",
       "    <tr>\n",
       "      <th>1</th>\n",
       "      <td>один или два ребенка</td>\n",
       "      <td>4024</td>\n",
       "      <td>36</td>\n",
       "      <td>среднее</td>\n",
       "      <td>1</td>\n",
       "      <td>женат / замужем</td>\n",
       "      <td>0</td>\n",
       "      <td>F</td>\n",
       "      <td>сотрудник</td>\n",
       "      <td>0</td>\n",
       "      <td>средний доход</td>\n",
       "      <td>автомобиль</td>\n",
       "    </tr>\n",
       "    <tr>\n",
       "      <th>2</th>\n",
       "      <td>нет детей</td>\n",
       "      <td>5623</td>\n",
       "      <td>33</td>\n",
       "      <td>среднее</td>\n",
       "      <td>1</td>\n",
       "      <td>женат / замужем</td>\n",
       "      <td>0</td>\n",
       "      <td>M</td>\n",
       "      <td>сотрудник</td>\n",
       "      <td>0</td>\n",
       "      <td>средний доход</td>\n",
       "      <td>недвижимость</td>\n",
       "    </tr>\n",
       "    <tr>\n",
       "      <th>3</th>\n",
       "      <td>многодетные</td>\n",
       "      <td>4124</td>\n",
       "      <td>32</td>\n",
       "      <td>среднее</td>\n",
       "      <td>1</td>\n",
       "      <td>женат / замужем</td>\n",
       "      <td>0</td>\n",
       "      <td>M</td>\n",
       "      <td>сотрудник</td>\n",
       "      <td>0</td>\n",
       "      <td>средний доход</td>\n",
       "      <td>образование</td>\n",
       "    </tr>\n",
       "    <tr>\n",
       "      <th>4</th>\n",
       "      <td>нет детей</td>\n",
       "      <td>14177</td>\n",
       "      <td>53</td>\n",
       "      <td>среднее</td>\n",
       "      <td>1</td>\n",
       "      <td>гражданский брак</td>\n",
       "      <td>1</td>\n",
       "      <td>F</td>\n",
       "      <td>пенсионер</td>\n",
       "      <td>0</td>\n",
       "      <td>средний доход</td>\n",
       "      <td>свадьба</td>\n",
       "    </tr>\n",
       "  </tbody>\n",
       "</table>\n",
       "</div>"
      ],
      "text/plain": [
       "               children  days_employed  dob_years education  education_id  \\\n",
       "0  один или два ребенка           8437         42    высшее             0   \n",
       "1  один или два ребенка           4024         36   среднее             1   \n",
       "2             нет детей           5623         33   среднее             1   \n",
       "3           многодетные           4124         32   среднее             1   \n",
       "4             нет детей          14177         53   среднее             1   \n",
       "\n",
       "      family_status  family_status_id gender income_type  debt   total_income  \\\n",
       "0   женат / замужем                 0      F   сотрудник     0  средний доход   \n",
       "1   женат / замужем                 0      F   сотрудник     0  средний доход   \n",
       "2   женат / замужем                 0      M   сотрудник     0  средний доход   \n",
       "3   женат / замужем                 0      M   сотрудник     0  средний доход   \n",
       "4  гражданский брак                 1      F   пенсионер     0  средний доход   \n",
       "\n",
       "        purpose  \n",
       "0  недвижимость  \n",
       "1    автомобиль  \n",
       "2  недвижимость  \n",
       "3   образование  \n",
       "4       свадьба  "
      ]
     },
     "execution_count": 38,
     "metadata": {},
     "output_type": "execute_result"
    }
   ],
   "source": [
    "borrower_bank.head(5)"
   ]
  },
  {
   "cell_type": "markdown",
   "metadata": {},
   "source": [
    "С помощью категоризации данных мы категоризировали столбцы `purpose`, `children`, `income_type`. \n",
    "В дальнейшем, это поможет ответить на вопросы, ради которых и проводилось данное исследование."
   ]
  },
  {
   "cell_type": "markdown",
   "metadata": {},
   "source": [
    "**Выводы**"
   ]
  },
  {
   "cell_type": "markdown",
   "metadata": {},
   "source": [
    "Предобработка обнаружила проблемы в данных:\n",
    "\n",
    "- пропущенные значения,\n",
    "- некорректные данный,\n",
    "- дубликаты — явные и неявные.\n",
    "\n",
    "Мы предположили образование некоректных данных, исправили их, исправили тип данных в столбцах `days_employed`, `total_income` и `dob_years`, чтобы упростить работу с таблицей.\n",
    "В столбцах `education`, `family_status` значения привели к нижнему регистра. Без дубликатов исследование станет более точным.\n",
    "\n",
    "Пропущенные значения мы заменили на медиану.\n",
    "Категоризировали значения из столбца `purpose` c помощью лемматизации. Так же без категоризации не обошлись и столбцы `children`, `income_type`. Результаты всех изменений перезаписали в соответсвующий столбец.\n",
    "\n",
    "Теперь можно перейти к ответам на вопросы. "
   ]
  },
  {
   "cell_type": "markdown",
   "metadata": {},
   "source": [
    "## Ответы на вопросы"
   ]
  },
  {
   "cell_type": "markdown",
   "metadata": {},
   "source": [
    "- Есть ли зависимость между наличием детей и возвратом кредита в срок?"
   ]
  },
  {
   "cell_type": "markdown",
   "metadata": {},
   "source": [
    "Убедимся, что в столбце `debt` уникальные значения : 0 и 1."
   ]
  },
  {
   "cell_type": "code",
   "execution_count": 39,
   "metadata": {},
   "outputs": [
    {
     "data": {
      "text/plain": [
       "array([0, 1])"
      ]
     },
     "execution_count": 39,
     "metadata": {},
     "output_type": "execute_result"
    }
   ],
   "source": [
    "# найдем уникальные значения столбца 'debt'\n",
    "borrower_bank['debt'].unique()"
   ]
  },
  {
   "cell_type": "markdown",
   "metadata": {},
   "source": [
    "Значение 1 означает, что задолжности по кредиту есть, а 0 - что нет.\n",
    "Сгруппируем df по столбцу `children`, и применим к столбцу `debt` две операции : найдем сумму и общее количество."
   ]
  },
  {
   "cell_type": "code",
   "execution_count": 40,
   "metadata": {
    "scrolled": true
   },
   "outputs": [
    {
     "data": {
      "text/html": [
       "<div>\n",
       "<style scoped>\n",
       "    .dataframe tbody tr th:only-of-type {\n",
       "        vertical-align: middle;\n",
       "    }\n",
       "\n",
       "    .dataframe tbody tr th {\n",
       "        vertical-align: top;\n",
       "    }\n",
       "\n",
       "    .dataframe thead tr th {\n",
       "        text-align: left;\n",
       "    }\n",
       "\n",
       "    .dataframe thead tr:last-of-type th {\n",
       "        text-align: right;\n",
       "    }\n",
       "</style>\n",
       "<table border=\"1\" class=\"dataframe\">\n",
       "  <thead>\n",
       "    <tr>\n",
       "      <th></th>\n",
       "      <th colspan=\"2\" halign=\"left\">debt</th>\n",
       "    </tr>\n",
       "    <tr>\n",
       "      <th></th>\n",
       "      <th>sum</th>\n",
       "      <th>count</th>\n",
       "    </tr>\n",
       "    <tr>\n",
       "      <th>children</th>\n",
       "      <th></th>\n",
       "      <th></th>\n",
       "    </tr>\n",
       "  </thead>\n",
       "  <tbody>\n",
       "    <tr>\n",
       "      <th>многодетные</th>\n",
       "      <td>31</td>\n",
       "      <td>380</td>\n",
       "    </tr>\n",
       "    <tr>\n",
       "      <th>нет детей</th>\n",
       "      <td>1064</td>\n",
       "      <td>14138</td>\n",
       "    </tr>\n",
       "    <tr>\n",
       "      <th>один или два ребенка</th>\n",
       "      <td>646</td>\n",
       "      <td>6936</td>\n",
       "    </tr>\n",
       "  </tbody>\n",
       "</table>\n",
       "</div>"
      ],
      "text/plain": [
       "                      debt       \n",
       "                       sum  count\n",
       "children                         \n",
       "многодетные             31    380\n",
       "нет детей             1064  14138\n",
       "один или два ребенка   646   6936"
      ]
     },
     "execution_count": 40,
     "metadata": {},
     "output_type": "execute_result"
    }
   ],
   "source": [
    "# сгруппироуем df по столбцу 'children' и по столбцу 'debt' вычислим сумму и количество методом agg()\n",
    "borrower_bank.groupby('children').agg({'debt': ['sum', 'count']})"
   ]
  },
  {
   "cell_type": "markdown",
   "metadata": {},
   "source": [
    "Создадим таблицу `df_chidren` со столбцами :\n",
    "* `debtors` - клиенты, которые имеют задолженности банку,\n",
    "* `clients` - общее число клиентов,\n",
    "* `ratio`- процент должников от всех клиентов."
   ]
  },
  {
   "cell_type": "code",
   "execution_count": 41,
   "metadata": {},
   "outputs": [
    {
     "data": {
      "text/html": [
       "<div>\n",
       "<style scoped>\n",
       "    .dataframe tbody tr th:only-of-type {\n",
       "        vertical-align: middle;\n",
       "    }\n",
       "\n",
       "    .dataframe tbody tr th {\n",
       "        vertical-align: top;\n",
       "    }\n",
       "\n",
       "    .dataframe thead th {\n",
       "        text-align: right;\n",
       "    }\n",
       "</style>\n",
       "<table border=\"1\" class=\"dataframe\">\n",
       "  <thead>\n",
       "    <tr style=\"text-align: right;\">\n",
       "      <th></th>\n",
       "      <th>debtors</th>\n",
       "      <th>clients</th>\n",
       "      <th>ratio</th>\n",
       "    </tr>\n",
       "  </thead>\n",
       "  <tbody>\n",
       "    <tr>\n",
       "      <th>многодетные</th>\n",
       "      <td>31</td>\n",
       "      <td>380</td>\n",
       "      <td>8.2</td>\n",
       "    </tr>\n",
       "    <tr>\n",
       "      <th>нет детей</th>\n",
       "      <td>1064</td>\n",
       "      <td>14138</td>\n",
       "      <td>7.5</td>\n",
       "    </tr>\n",
       "    <tr>\n",
       "      <th>один или два ребенка</th>\n",
       "      <td>646</td>\n",
       "      <td>6936</td>\n",
       "      <td>9.3</td>\n",
       "    </tr>\n",
       "  </tbody>\n",
       "</table>\n",
       "</div>"
      ],
      "text/plain": [
       "                      debtors  clients  ratio\n",
       "многодетные                31      380    8.2\n",
       "нет детей                1064    14138    7.5\n",
       "один или два ребенка      646     6936    9.3"
      ]
     },
     "execution_count": 41,
     "metadata": {},
     "output_type": "execute_result"
    }
   ],
   "source": [
    "# создание столбцов, которые получили при группировке по столбцу 'children'\n",
    "data = {'debtors': [31, 1064, 646], 'clients': [380, 14138, 6936]}\n",
    "\n",
    "# создадим DataFrame df_chidren\n",
    "df_chidren = pd.DataFrame(data, index = ['многодетные', 'нет детей', 'один или два ребенка'])\n",
    "\n",
    "# добавим к df_chidren столбец 'ratio'\n",
    "df_chidren['ratio'] = round((df_chidren['debtors'] / df_chidren['clients']),3)*100\n",
    "\n",
    "#вывод df_chidren\n",
    "df_chidren"
   ]
  },
  {
   "cell_type": "code",
   "execution_count": 42,
   "metadata": {},
   "outputs": [
    {
     "data": {
      "text/html": [
       "<style  type=\"text/css\" >\n",
       "</style><table id=\"T_8abab_\" ><thead>    <tr>        <th class=\"blank level0\" ></th>        <th class=\"col_heading level0 col0\" >Кол-во пользователей</th>        <th class=\"col_heading level0 col1\" >Кол-во должников</th>        <th class=\"col_heading level0 col2\" >% должников</th>        <th class=\"col_heading level0 col3\" >% НЕдолжников</th>    </tr>    <tr>        <th class=\"index_name level0\" >children</th>        <th class=\"blank\" ></th>        <th class=\"blank\" ></th>        <th class=\"blank\" ></th>        <th class=\"blank\" ></th>    </tr></thead><tbody>\n",
       "                <tr>\n",
       "                        <th id=\"T_8abab_level0_row0\" class=\"row_heading level0 row0\" >многодетные</th>\n",
       "                        <td id=\"T_8abab_row0_col0\" class=\"data row0 col0\" >380</td>\n",
       "                        <td id=\"T_8abab_row0_col1\" class=\"data row0 col1\" >31</td>\n",
       "                        <td id=\"T_8abab_row0_col2\" class=\"data row0 col2\" >8.16%</td>\n",
       "                        <td id=\"T_8abab_row0_col3\" class=\"data row0 col3\" >91.84%</td>\n",
       "            </tr>\n",
       "            <tr>\n",
       "                        <th id=\"T_8abab_level0_row1\" class=\"row_heading level0 row1\" >нет детей</th>\n",
       "                        <td id=\"T_8abab_row1_col0\" class=\"data row1 col0\" >14138</td>\n",
       "                        <td id=\"T_8abab_row1_col1\" class=\"data row1 col1\" >1064</td>\n",
       "                        <td id=\"T_8abab_row1_col2\" class=\"data row1 col2\" >7.53%</td>\n",
       "                        <td id=\"T_8abab_row1_col3\" class=\"data row1 col3\" >92.47%</td>\n",
       "            </tr>\n",
       "            <tr>\n",
       "                        <th id=\"T_8abab_level0_row2\" class=\"row_heading level0 row2\" >один или два ребенка</th>\n",
       "                        <td id=\"T_8abab_row2_col0\" class=\"data row2 col0\" >6936</td>\n",
       "                        <td id=\"T_8abab_row2_col1\" class=\"data row2 col1\" >646</td>\n",
       "                        <td id=\"T_8abab_row2_col2\" class=\"data row2 col2\" >9.31%</td>\n",
       "                        <td id=\"T_8abab_row2_col3\" class=\"data row2 col3\" >90.69%</td>\n",
       "            </tr>\n",
       "    </tbody></table>"
      ],
      "text/plain": [
       "<pandas.io.formats.style.Styler at 0x7ffb657b5400>"
      ]
     },
     "execution_count": 42,
     "metadata": {},
     "output_type": "execute_result"
    }
   ],
   "source": [
    "df_example = borrower_bank.groupby('children')['debt'].agg(['count', 'sum', 'mean', lambda x: 1 - x.mean()])\n",
    "df_example.columns = ['Кол-во пользователей', 'Кол-во должников', '% должников', '% НЕдолжников']\n",
    "df_example.style.format({'% должников': '{:.2%}', '% НЕдолжников': '{:.2%}'})"
   ]
  },
  {
   "cell_type": "markdown",
   "metadata": {},
   "source": [
    "**Вывод**"
   ]
  },
  {
   "cell_type": "markdown",
   "metadata": {},
   "source": [
    "Из созданной нами таблицы видно, что клиенты, которые имеют один или два ребенка, более склонны не оплачивть кредит в срок, по сравнению с многодетными или кто не имеет детей."
   ]
  },
  {
   "cell_type": "markdown",
   "metadata": {},
   "source": [
    "- Есть ли зависимость между семейным положением и возвратом кредита в срок?"
   ]
  },
  {
   "cell_type": "markdown",
   "metadata": {},
   "source": [
    "Сгрупируем `borrower_bank` по столбцу `family_status`."
   ]
  },
  {
   "cell_type": "code",
   "execution_count": 43,
   "metadata": {
    "scrolled": true
   },
   "outputs": [
    {
     "data": {
      "text/html": [
       "<div>\n",
       "<style scoped>\n",
       "    .dataframe tbody tr th:only-of-type {\n",
       "        vertical-align: middle;\n",
       "    }\n",
       "\n",
       "    .dataframe tbody tr th {\n",
       "        vertical-align: top;\n",
       "    }\n",
       "\n",
       "    .dataframe thead tr th {\n",
       "        text-align: left;\n",
       "    }\n",
       "\n",
       "    .dataframe thead tr:last-of-type th {\n",
       "        text-align: right;\n",
       "    }\n",
       "</style>\n",
       "<table border=\"1\" class=\"dataframe\">\n",
       "  <thead>\n",
       "    <tr>\n",
       "      <th></th>\n",
       "      <th colspan=\"2\" halign=\"left\">debt</th>\n",
       "    </tr>\n",
       "    <tr>\n",
       "      <th></th>\n",
       "      <th>sum</th>\n",
       "      <th>count</th>\n",
       "    </tr>\n",
       "    <tr>\n",
       "      <th>family_status</th>\n",
       "      <th></th>\n",
       "      <th></th>\n",
       "    </tr>\n",
       "  </thead>\n",
       "  <tbody>\n",
       "    <tr>\n",
       "      <th>в разводе</th>\n",
       "      <td>85</td>\n",
       "      <td>1195</td>\n",
       "    </tr>\n",
       "    <tr>\n",
       "      <th>вдовец / вдова</th>\n",
       "      <td>63</td>\n",
       "      <td>959</td>\n",
       "    </tr>\n",
       "    <tr>\n",
       "      <th>гражданский брак</th>\n",
       "      <td>388</td>\n",
       "      <td>4151</td>\n",
       "    </tr>\n",
       "    <tr>\n",
       "      <th>женат / замужем</th>\n",
       "      <td>931</td>\n",
       "      <td>12339</td>\n",
       "    </tr>\n",
       "    <tr>\n",
       "      <th>не женат / не замужем</th>\n",
       "      <td>274</td>\n",
       "      <td>2810</td>\n",
       "    </tr>\n",
       "  </tbody>\n",
       "</table>\n",
       "</div>"
      ],
      "text/plain": [
       "                      debt       \n",
       "                       sum  count\n",
       "family_status                    \n",
       "в разводе               85   1195\n",
       "вдовец / вдова          63    959\n",
       "гражданский брак       388   4151\n",
       "женат / замужем        931  12339\n",
       "не женат / не замужем  274   2810"
      ]
     },
     "execution_count": 43,
     "metadata": {},
     "output_type": "execute_result"
    }
   ],
   "source": [
    "# сгруппироуем df по столбцу 'family_status' и по столбцу 'debt' вычислим сумму и количество методом agg()\n",
    "borrower_bank.groupby(['family_status']).agg({'debt': ['sum', 'count']})"
   ]
  },
  {
   "cell_type": "markdown",
   "metadata": {},
   "source": [
    "Создадим таблицу `df_family` со столбцами :\n",
    "* `debtors` - клиенты, которые имеют задолженности банку,\n",
    "* `clients` - общее число клиентов,\n",
    "* `ratio`- процент должников от всех клиентов."
   ]
  },
  {
   "cell_type": "code",
   "execution_count": 44,
   "metadata": {},
   "outputs": [
    {
     "data": {
      "text/html": [
       "<div>\n",
       "<style scoped>\n",
       "    .dataframe tbody tr th:only-of-type {\n",
       "        vertical-align: middle;\n",
       "    }\n",
       "\n",
       "    .dataframe tbody tr th {\n",
       "        vertical-align: top;\n",
       "    }\n",
       "\n",
       "    .dataframe thead th {\n",
       "        text-align: right;\n",
       "    }\n",
       "</style>\n",
       "<table border=\"1\" class=\"dataframe\">\n",
       "  <thead>\n",
       "    <tr style=\"text-align: right;\">\n",
       "      <th></th>\n",
       "      <th>debtors</th>\n",
       "      <th>clients</th>\n",
       "      <th>ratio</th>\n",
       "    </tr>\n",
       "  </thead>\n",
       "  <tbody>\n",
       "    <tr>\n",
       "      <th>в разводе</th>\n",
       "      <td>85</td>\n",
       "      <td>1195</td>\n",
       "      <td>7.1</td>\n",
       "    </tr>\n",
       "    <tr>\n",
       "      <th>вдовец / вдова</th>\n",
       "      <td>63</td>\n",
       "      <td>959</td>\n",
       "      <td>6.6</td>\n",
       "    </tr>\n",
       "    <tr>\n",
       "      <th>гражданский брак</th>\n",
       "      <td>388</td>\n",
       "      <td>4151</td>\n",
       "      <td>9.3</td>\n",
       "    </tr>\n",
       "    <tr>\n",
       "      <th>женат / замужем</th>\n",
       "      <td>931</td>\n",
       "      <td>12339</td>\n",
       "      <td>7.5</td>\n",
       "    </tr>\n",
       "    <tr>\n",
       "      <th>не женат / не замужем</th>\n",
       "      <td>274</td>\n",
       "      <td>2810</td>\n",
       "      <td>9.8</td>\n",
       "    </tr>\n",
       "  </tbody>\n",
       "</table>\n",
       "</div>"
      ],
      "text/plain": [
       "                       debtors  clients  ratio\n",
       "в разводе                   85     1195    7.1\n",
       "вдовец / вдова              63      959    6.6\n",
       "гражданский брак           388     4151    9.3\n",
       "женат / замужем            931    12339    7.5\n",
       "не женат / не замужем      274     2810    9.8"
      ]
     },
     "execution_count": 44,
     "metadata": {},
     "output_type": "execute_result"
    }
   ],
   "source": [
    "# создание столбцов, которые получили при группировке по столбцу 'family_status'\n",
    "data = {'debtors': [85, 63, 388, 931, 274], 'clients': [1195, 959, 4151, 12339, 2810]}\n",
    "\n",
    "# создадим DataFrame df_family\n",
    "df_family = pd.DataFrame(data, index = ['в разводе', 'вдовец / вдова', 'гражданский брак', 'женат / замужем', 'не женат / не замужем'])\n",
    "\n",
    "# добавим к df_family столбец 'ratio'\n",
    "df_family['ratio'] = round((df_family['debtors'] / df_family['clients']),3)*100\n",
    "\n",
    "#вывод df_family\n",
    "df_family"
   ]
  },
  {
   "cell_type": "markdown",
   "metadata": {},
   "source": [
    "**Вывод**"
   ]
  },
  {
   "cell_type": "markdown",
   "metadata": {},
   "source": [
    "Из созданной нами таблицы можно сделать вывод, что клиенты, которые взяли кредит в банке и находятся в гражданском браке или не замужем / не женаты больше склонны к просроченному платежучем другие."
   ]
  },
  {
   "cell_type": "markdown",
   "metadata": {},
   "source": [
    "- Есть ли зависимость между уровнем дохода и возвратом кредита в срок?"
   ]
  },
  {
   "cell_type": "markdown",
   "metadata": {},
   "source": [
    "Сгруппируем `borrower_bank` по столбцу `total_income`."
   ]
  },
  {
   "cell_type": "code",
   "execution_count": 45,
   "metadata": {
    "scrolled": true
   },
   "outputs": [
    {
     "data": {
      "text/html": [
       "<div>\n",
       "<style scoped>\n",
       "    .dataframe tbody tr th:only-of-type {\n",
       "        vertical-align: middle;\n",
       "    }\n",
       "\n",
       "    .dataframe tbody tr th {\n",
       "        vertical-align: top;\n",
       "    }\n",
       "\n",
       "    .dataframe thead tr th {\n",
       "        text-align: left;\n",
       "    }\n",
       "\n",
       "    .dataframe thead tr:last-of-type th {\n",
       "        text-align: right;\n",
       "    }\n",
       "</style>\n",
       "<table border=\"1\" class=\"dataframe\">\n",
       "  <thead>\n",
       "    <tr>\n",
       "      <th></th>\n",
       "      <th colspan=\"2\" halign=\"left\">debt</th>\n",
       "    </tr>\n",
       "    <tr>\n",
       "      <th></th>\n",
       "      <th>sum</th>\n",
       "      <th>count</th>\n",
       "    </tr>\n",
       "    <tr>\n",
       "      <th>total_income</th>\n",
       "      <th></th>\n",
       "      <th></th>\n",
       "    </tr>\n",
       "  </thead>\n",
       "  <tbody>\n",
       "    <tr>\n",
       "      <th>высокий доход</th>\n",
       "      <td>1</td>\n",
       "      <td>13</td>\n",
       "    </tr>\n",
       "    <tr>\n",
       "      <th>низкий доход</th>\n",
       "      <td>188</td>\n",
       "      <td>2454</td>\n",
       "    </tr>\n",
       "    <tr>\n",
       "      <th>средний доход</th>\n",
       "      <td>1552</td>\n",
       "      <td>18987</td>\n",
       "    </tr>\n",
       "  </tbody>\n",
       "</table>\n",
       "</div>"
      ],
      "text/plain": [
       "               debt       \n",
       "                sum  count\n",
       "total_income              \n",
       "высокий доход     1     13\n",
       "низкий доход    188   2454\n",
       "средний доход  1552  18987"
      ]
     },
     "execution_count": 45,
     "metadata": {},
     "output_type": "execute_result"
    }
   ],
   "source": [
    "# сгруппироуем df по столбцу 'total_income' и по столбцу 'debt' вычислим сумму и количество методом agg()\n",
    "borrower_bank.groupby(['total_income']).agg({'debt': ['sum', 'count']})"
   ]
  },
  {
   "cell_type": "markdown",
   "metadata": {},
   "source": [
    "Создадим таблицу `df_income` со столбцами :\n",
    "* `debtors` - клиенты, которые имеют задолженности банку,\n",
    "* `clients` - общее число клиентов,\n",
    "* `ratio`- процент должников от всех клиентов."
   ]
  },
  {
   "cell_type": "code",
   "execution_count": 46,
   "metadata": {},
   "outputs": [
    {
     "data": {
      "text/html": [
       "<div>\n",
       "<style scoped>\n",
       "    .dataframe tbody tr th:only-of-type {\n",
       "        vertical-align: middle;\n",
       "    }\n",
       "\n",
       "    .dataframe tbody tr th {\n",
       "        vertical-align: top;\n",
       "    }\n",
       "\n",
       "    .dataframe thead th {\n",
       "        text-align: right;\n",
       "    }\n",
       "</style>\n",
       "<table border=\"1\" class=\"dataframe\">\n",
       "  <thead>\n",
       "    <tr style=\"text-align: right;\">\n",
       "      <th></th>\n",
       "      <th>debtors</th>\n",
       "      <th>clients</th>\n",
       "      <th>ratio</th>\n",
       "    </tr>\n",
       "  </thead>\n",
       "  <tbody>\n",
       "    <tr>\n",
       "      <th>низкий доход</th>\n",
       "      <td>188</td>\n",
       "      <td>2454</td>\n",
       "      <td>7.66</td>\n",
       "    </tr>\n",
       "    <tr>\n",
       "      <th>средний доход</th>\n",
       "      <td>1552</td>\n",
       "      <td>18987</td>\n",
       "      <td>8.17</td>\n",
       "    </tr>\n",
       "    <tr>\n",
       "      <th>высокий доход</th>\n",
       "      <td>1</td>\n",
       "      <td>13</td>\n",
       "      <td>7.69</td>\n",
       "    </tr>\n",
       "  </tbody>\n",
       "</table>\n",
       "</div>"
      ],
      "text/plain": [
       "               debtors  clients  ratio\n",
       "низкий доход       188     2454   7.66\n",
       "средний доход     1552    18987   8.17\n",
       "высокий доход        1       13   7.69"
      ]
     },
     "execution_count": 46,
     "metadata": {},
     "output_type": "execute_result"
    }
   ],
   "source": [
    "# создание столбцов, которые получили при группировке по столбцу 'total_income'\n",
    "data = {'debtors': [188, 1552, 1], 'clients': [2454, 18987, 13]}\n",
    "\n",
    "# создадим DataFrame df_income\n",
    "df_income = pd.DataFrame(data, index = ['низкий доход', 'средний доход', 'высокий доход'])\n",
    "\n",
    "# добавим к df_income столбец 'ratio'\n",
    "df_income['ratio'] = round((df_income['debtors'] / df_income['clients']),4)*100\n",
    "\n",
    "#вывод df_income\n",
    "df_income"
   ]
  },
  {
   "cell_type": "markdown",
   "metadata": {},
   "source": [
    "**Вывод**"
   ]
  },
  {
   "cell_type": "markdown",
   "metadata": {},
   "source": [
    "Как ни странно, но большая вероятность задолженности банку при взятии кредита у клиент ов со средним доходом."
   ]
  },
  {
   "cell_type": "markdown",
   "metadata": {},
   "source": [
    "- Как разные цели кредита влияют на его возврат в срок?"
   ]
  },
  {
   "cell_type": "markdown",
   "metadata": {},
   "source": [
    "Сгруппируем `borrower_bank` по столбцу `purpose`."
   ]
  },
  {
   "cell_type": "code",
   "execution_count": 47,
   "metadata": {
    "scrolled": true
   },
   "outputs": [
    {
     "data": {
      "text/html": [
       "<div>\n",
       "<style scoped>\n",
       "    .dataframe tbody tr th:only-of-type {\n",
       "        vertical-align: middle;\n",
       "    }\n",
       "\n",
       "    .dataframe tbody tr th {\n",
       "        vertical-align: top;\n",
       "    }\n",
       "\n",
       "    .dataframe thead tr th {\n",
       "        text-align: left;\n",
       "    }\n",
       "\n",
       "    .dataframe thead tr:last-of-type th {\n",
       "        text-align: right;\n",
       "    }\n",
       "</style>\n",
       "<table border=\"1\" class=\"dataframe\">\n",
       "  <thead>\n",
       "    <tr>\n",
       "      <th></th>\n",
       "      <th colspan=\"2\" halign=\"left\">debt</th>\n",
       "    </tr>\n",
       "    <tr>\n",
       "      <th></th>\n",
       "      <th>sum</th>\n",
       "      <th>count</th>\n",
       "    </tr>\n",
       "    <tr>\n",
       "      <th>purpose</th>\n",
       "      <th></th>\n",
       "      <th></th>\n",
       "    </tr>\n",
       "  </thead>\n",
       "  <tbody>\n",
       "    <tr>\n",
       "      <th>автомобиль</th>\n",
       "      <td>403</td>\n",
       "      <td>4306</td>\n",
       "    </tr>\n",
       "    <tr>\n",
       "      <th>недвижимость</th>\n",
       "      <td>782</td>\n",
       "      <td>10811</td>\n",
       "    </tr>\n",
       "    <tr>\n",
       "      <th>образование</th>\n",
       "      <td>370</td>\n",
       "      <td>4013</td>\n",
       "    </tr>\n",
       "    <tr>\n",
       "      <th>свадьба</th>\n",
       "      <td>186</td>\n",
       "      <td>2324</td>\n",
       "    </tr>\n",
       "  </tbody>\n",
       "</table>\n",
       "</div>"
      ],
      "text/plain": [
       "             debt       \n",
       "              sum  count\n",
       "purpose                 \n",
       "автомобиль    403   4306\n",
       "недвижимость  782  10811\n",
       "образование   370   4013\n",
       "свадьба       186   2324"
      ]
     },
     "execution_count": 47,
     "metadata": {},
     "output_type": "execute_result"
    }
   ],
   "source": [
    "# сгруппироуем df по столбцу 'purpose' и по столбцу 'debt' вычислим сумму и количество методом agg()\n",
    "borrower_bank.groupby(['purpose']).agg({'debt': ['sum', 'count']})"
   ]
  },
  {
   "cell_type": "markdown",
   "metadata": {},
   "source": [
    "Создадим таблицу `df_purpose` со столбцами :\n",
    "* `debtors` - клиенты, которые имеют задолженности банку,\n",
    "* `clients` - общее число клиентов,\n",
    "* `ratio`- коээфициент заемщиков, которые имеют задолжности банку, измеряется в процентах."
   ]
  },
  {
   "cell_type": "code",
   "execution_count": 48,
   "metadata": {},
   "outputs": [
    {
     "data": {
      "text/html": [
       "<div>\n",
       "<style scoped>\n",
       "    .dataframe tbody tr th:only-of-type {\n",
       "        vertical-align: middle;\n",
       "    }\n",
       "\n",
       "    .dataframe tbody tr th {\n",
       "        vertical-align: top;\n",
       "    }\n",
       "\n",
       "    .dataframe thead th {\n",
       "        text-align: right;\n",
       "    }\n",
       "</style>\n",
       "<table border=\"1\" class=\"dataframe\">\n",
       "  <thead>\n",
       "    <tr style=\"text-align: right;\">\n",
       "      <th></th>\n",
       "      <th>debtors</th>\n",
       "      <th>clients</th>\n",
       "      <th>ratio</th>\n",
       "    </tr>\n",
       "  </thead>\n",
       "  <tbody>\n",
       "    <tr>\n",
       "      <th>автомобиль</th>\n",
       "      <td>403</td>\n",
       "      <td>4306</td>\n",
       "      <td>9.36</td>\n",
       "    </tr>\n",
       "    <tr>\n",
       "      <th>недвижимость</th>\n",
       "      <td>782</td>\n",
       "      <td>10811</td>\n",
       "      <td>7.23</td>\n",
       "    </tr>\n",
       "    <tr>\n",
       "      <th>образование</th>\n",
       "      <td>370</td>\n",
       "      <td>4013</td>\n",
       "      <td>9.22</td>\n",
       "    </tr>\n",
       "    <tr>\n",
       "      <th>свадьба</th>\n",
       "      <td>186</td>\n",
       "      <td>2324</td>\n",
       "      <td>8.00</td>\n",
       "    </tr>\n",
       "  </tbody>\n",
       "</table>\n",
       "</div>"
      ],
      "text/plain": [
       "              debtors  clients  ratio\n",
       "автомобиль        403     4306   9.36\n",
       "недвижимость      782    10811   7.23\n",
       "образование       370     4013   9.22\n",
       "свадьба           186     2324   8.00"
      ]
     },
     "execution_count": 48,
     "metadata": {},
     "output_type": "execute_result"
    }
   ],
   "source": [
    "# создание столбцов, которые получили при группировке по столбцу 'purpose'\n",
    "data = {'debtors': [403, 782, 370, 186], 'clients': [4306, 10811, 4013, 2324]}\n",
    "\n",
    "# создадим DataFrame df_purpose\n",
    "df_purpose = pd.DataFrame(data, index = ['автомобиль', 'недвижимость', 'образование', 'свадьба'])\n",
    "\n",
    "# добавим к df_purpose столбец 'ratio'\n",
    "df_purpose['ratio'] = round((df_purpose['debtors'] / df_purpose['clients']),4)*100\n",
    "\n",
    "#вывод df_purpose\n",
    "df_purpose"
   ]
  },
  {
   "cell_type": "markdown",
   "metadata": {},
   "source": [
    "**Вывод**"
   ]
  },
  {
   "cell_type": "markdown",
   "metadata": {},
   "source": [
    "Клиенты, которые взяли кредит на автомобиль, чаще всего имеют задолженности по кредиту."
   ]
  },
  {
   "cell_type": "markdown",
   "metadata": {},
   "source": [
    "## Итоги исследования"
   ]
  },
  {
   "cell_type": "markdown",
   "metadata": {},
   "source": [
    "*При первом открытии данных мы заметили некоторые некорректные данные и приступили к их предобработке*:\n",
    "\n",
    "1. Обработали некорректные значения:\n",
    " - Отрицательные значения в столбце со стажем иразная форма записей: избавились от отрицательных значений и привели значения стажа к одному формату записи (в количествах дней).\n",
    " - В столбце количество детей тоже закрались некорректные записи (-1 и 20) : заменили значения \"-1\" на 0, а 20 на 2.\n",
    "2. Обработали и заменили по возможности пропуски:\n",
    " - Заполнили пропущенные значения значениями медианы в соответствии с должностью.\n",
    " - Возраст 0 заменили медианой по возрасту в соответствии с должностью.\n",
    "3. Удалили явные дубликаты\n",
    "4. Произвели лематизацию в нужных столбцах и произвели категоризацию данных.\n",
    "\n",
    "*Мы изучили данные и ответили на вопросы*:\n",
    " 1. **Есть ли зависимость между наличием детей и возвратом кредита в срок?**\n",
    " \n",
    "Заемщики, не имеющие детей, менее склонны к просрочке по выплатам кредита.\n",
    "\n",
    " 2. **Есть ли зависимость между семейным положением и возвратом кредита в срок?**\n",
    " \n",
    "Заемщики, которые находятся в разводе или потеряли мужа / жену, чаще всего не имеют задолженностей по кредиту.\n",
    " \n",
    " 3. **Есть ли зависимость между уровнем дохода и возвратом кредита в срок?**\n",
    " \n",
    "Люди, более с низким или высоким доходом чаще отдают кредит в срок, чем люди имеющие средний доход.\n",
    " \n",
    " 4. **Как разные цели кредита влияют на его возврат в срок?** \n",
    " \n",
    "Клиенты, целью кредита которых является автомобиль или образование, более сколнны к просроченным платежам по кредиту."
   ]
  }
 ],
 "metadata": {
  "ExecuteTimeLog": [
   {
    "duration": 531,
    "start_time": "2021-12-12T10:46:57.438Z"
   },
   {
    "duration": 54,
    "start_time": "2021-12-12T10:46:59.963Z"
   },
   {
    "duration": 20,
    "start_time": "2021-12-12T10:47:01.329Z"
   },
   {
    "duration": 13,
    "start_time": "2021-12-12T10:47:07.001Z"
   },
   {
    "duration": 5,
    "start_time": "2021-12-12T10:50:09.250Z"
   },
   {
    "duration": 12,
    "start_time": "2021-12-12T10:52:55.512Z"
   },
   {
    "duration": 10,
    "start_time": "2021-12-12T10:54:09.445Z"
   },
   {
    "duration": 10,
    "start_time": "2021-12-12T11:37:28.774Z"
   },
   {
    "duration": 63,
    "start_time": "2021-12-12T12:05:19.209Z"
   },
   {
    "duration": 9,
    "start_time": "2021-12-12T12:08:32.198Z"
   },
   {
    "duration": 564,
    "start_time": "2021-12-12T12:08:44.166Z"
   },
   {
    "duration": 52,
    "start_time": "2021-12-12T12:08:44.732Z"
   },
   {
    "duration": 18,
    "start_time": "2021-12-12T12:08:44.787Z"
   },
   {
    "duration": 12,
    "start_time": "2021-12-12T12:08:44.807Z"
   },
   {
    "duration": 10,
    "start_time": "2021-12-12T12:08:44.820Z"
   },
   {
    "duration": 4390,
    "start_time": "2021-12-12T12:08:44.832Z"
   },
   {
    "duration": 12,
    "start_time": "2021-12-12T12:08:49.212Z"
   },
   {
    "duration": 551,
    "start_time": "2021-12-12T12:09:17.003Z"
   },
   {
    "duration": 54,
    "start_time": "2021-12-12T12:09:17.556Z"
   },
   {
    "duration": 21,
    "start_time": "2021-12-12T12:09:17.613Z"
   },
   {
    "duration": 13,
    "start_time": "2021-12-12T12:09:17.636Z"
   },
   {
    "duration": 41,
    "start_time": "2021-12-12T12:09:17.651Z"
   },
   {
    "duration": 10,
    "start_time": "2021-12-12T12:09:23.070Z"
   },
   {
    "duration": 7,
    "start_time": "2021-12-12T12:09:25.694Z"
   },
   {
    "duration": 14,
    "start_time": "2021-12-12T12:09:29.861Z"
   },
   {
    "duration": 526,
    "start_time": "2021-12-12T12:17:04.060Z"
   },
   {
    "duration": 52,
    "start_time": "2021-12-12T12:17:04.588Z"
   },
   {
    "duration": 18,
    "start_time": "2021-12-12T12:17:04.642Z"
   },
   {
    "duration": 11,
    "start_time": "2021-12-12T12:17:04.662Z"
   },
   {
    "duration": 21,
    "start_time": "2021-12-12T12:17:04.674Z"
   },
   {
    "duration": 282,
    "start_time": "2021-12-12T12:17:07.325Z"
   },
   {
    "duration": 9,
    "start_time": "2021-12-12T12:17:18.855Z"
   },
   {
    "duration": 516,
    "start_time": "2021-12-12T12:26:01.054Z"
   },
   {
    "duration": 52,
    "start_time": "2021-12-12T12:26:01.572Z"
   },
   {
    "duration": 20,
    "start_time": "2021-12-12T12:26:01.627Z"
   },
   {
    "duration": 49,
    "start_time": "2021-12-12T12:26:01.648Z"
   },
   {
    "duration": 24,
    "start_time": "2021-12-12T12:26:01.699Z"
   },
   {
    "duration": 9,
    "start_time": "2021-12-12T12:26:03.493Z"
   },
   {
    "duration": 9,
    "start_time": "2021-12-12T12:26:06.313Z"
   },
   {
    "duration": 14,
    "start_time": "2021-12-12T12:26:12.610Z"
   },
   {
    "duration": 12,
    "start_time": "2021-12-12T12:40:20.951Z"
   },
   {
    "duration": 4,
    "start_time": "2021-12-12T12:41:41.748Z"
   },
   {
    "duration": 3,
    "start_time": "2021-12-12T12:46:26.743Z"
   },
   {
    "duration": 556,
    "start_time": "2021-12-12T12:48:34.286Z"
   },
   {
    "duration": 52,
    "start_time": "2021-12-12T12:48:34.843Z"
   },
   {
    "duration": 19,
    "start_time": "2021-12-12T12:48:36.594Z"
   },
   {
    "duration": 22,
    "start_time": "2021-12-12T12:48:45.819Z"
   },
   {
    "duration": 12,
    "start_time": "2021-12-12T12:49:28.186Z"
   },
   {
    "duration": 11,
    "start_time": "2021-12-12T12:49:29.557Z"
   },
   {
    "duration": 10,
    "start_time": "2021-12-12T12:49:34.748Z"
   },
   {
    "duration": 9,
    "start_time": "2021-12-12T12:49:36.894Z"
   },
   {
    "duration": 14,
    "start_time": "2021-12-12T12:49:38.392Z"
   },
   {
    "duration": 5,
    "start_time": "2021-12-12T12:49:43.727Z"
   },
   {
    "duration": 7,
    "start_time": "2021-12-12T12:49:48.338Z"
   },
   {
    "duration": 566,
    "start_time": "2021-12-12T12:50:55.275Z"
   },
   {
    "duration": 51,
    "start_time": "2021-12-12T12:50:55.843Z"
   },
   {
    "duration": 20,
    "start_time": "2021-12-12T12:50:57.054Z"
   },
   {
    "duration": 21,
    "start_time": "2021-12-12T12:51:40.338Z"
   },
   {
    "duration": 23,
    "start_time": "2021-12-12T12:53:24.100Z"
   },
   {
    "duration": 568,
    "start_time": "2021-12-12T12:55:40.783Z"
   },
   {
    "duration": 55,
    "start_time": "2021-12-12T12:55:41.353Z"
   },
   {
    "duration": 19,
    "start_time": "2021-12-12T12:55:41.410Z"
   },
   {
    "duration": 12,
    "start_time": "2021-12-12T12:55:41.431Z"
   },
   {
    "duration": 8,
    "start_time": "2021-12-12T12:55:41.445Z"
   },
   {
    "duration": 37,
    "start_time": "2021-12-12T12:55:41.455Z"
   },
   {
    "duration": 16,
    "start_time": "2021-12-12T12:55:41.494Z"
   },
   {
    "duration": 6,
    "start_time": "2021-12-12T12:55:41.512Z"
   },
   {
    "duration": 5,
    "start_time": "2021-12-12T12:55:43.399Z"
   },
   {
    "duration": 7,
    "start_time": "2021-12-12T12:55:49.928Z"
   },
   {
    "duration": 5,
    "start_time": "2021-12-12T12:55:52.721Z"
   },
   {
    "duration": 11,
    "start_time": "2021-12-12T12:58:00.587Z"
   },
   {
    "duration": 11,
    "start_time": "2021-12-12T12:58:36.579Z"
   },
   {
    "duration": 6,
    "start_time": "2021-12-12T13:08:16.354Z"
   },
   {
    "duration": 20,
    "start_time": "2021-12-12T13:09:16.207Z"
   },
   {
    "duration": 272,
    "start_time": "2021-12-12T13:11:22.490Z"
   },
   {
    "duration": 563,
    "start_time": "2021-12-12T13:11:39.462Z"
   },
   {
    "duration": 52,
    "start_time": "2021-12-12T13:11:40.027Z"
   },
   {
    "duration": 18,
    "start_time": "2021-12-12T13:11:40.081Z"
   },
   {
    "duration": 24,
    "start_time": "2021-12-12T13:11:40.100Z"
   },
   {
    "duration": 17,
    "start_time": "2021-12-12T13:11:40.125Z"
   },
   {
    "duration": 30,
    "start_time": "2021-12-12T13:11:40.144Z"
   },
   {
    "duration": 28,
    "start_time": "2021-12-12T13:11:40.175Z"
   },
   {
    "duration": 743,
    "start_time": "2021-12-12T13:11:40.204Z"
   },
   {
    "duration": 77,
    "start_time": "2021-12-12T13:11:40.872Z"
   },
   {
    "duration": 75,
    "start_time": "2021-12-12T13:11:40.875Z"
   },
   {
    "duration": 74,
    "start_time": "2021-12-12T13:11:40.877Z"
   },
   {
    "duration": 73,
    "start_time": "2021-12-12T13:11:40.879Z"
   },
   {
    "duration": 72,
    "start_time": "2021-12-12T13:11:40.881Z"
   },
   {
    "duration": 72,
    "start_time": "2021-12-12T13:11:40.882Z"
   },
   {
    "duration": 71,
    "start_time": "2021-12-12T13:11:40.884Z"
   },
   {
    "duration": 5,
    "start_time": "2021-12-12T13:12:35.187Z"
   },
   {
    "duration": 12,
    "start_time": "2021-12-12T13:12:54.040Z"
   },
   {
    "duration": 563,
    "start_time": "2021-12-12T13:28:42.278Z"
   },
   {
    "duration": 53,
    "start_time": "2021-12-12T13:28:42.843Z"
   },
   {
    "duration": 18,
    "start_time": "2021-12-12T13:28:42.898Z"
   },
   {
    "duration": 11,
    "start_time": "2021-12-12T13:28:42.918Z"
   },
   {
    "duration": 8,
    "start_time": "2021-12-12T13:28:42.931Z"
   },
   {
    "duration": 11,
    "start_time": "2021-12-12T13:28:45.129Z"
   },
   {
    "duration": 11,
    "start_time": "2021-12-12T13:28:46.941Z"
   },
   {
    "duration": 11,
    "start_time": "2021-12-12T13:28:57.267Z"
   },
   {
    "duration": 12,
    "start_time": "2021-12-12T13:31:13.571Z"
   },
   {
    "duration": 558,
    "start_time": "2021-12-12T13:31:43.578Z"
   },
   {
    "duration": 50,
    "start_time": "2021-12-12T13:31:44.138Z"
   },
   {
    "duration": 18,
    "start_time": "2021-12-12T13:31:46.929Z"
   },
   {
    "duration": 238,
    "start_time": "2021-12-12T13:32:40.399Z"
   },
   {
    "duration": 565,
    "start_time": "2021-12-12T13:32:48.178Z"
   },
   {
    "duration": 50,
    "start_time": "2021-12-12T13:32:48.745Z"
   },
   {
    "duration": 19,
    "start_time": "2021-12-12T13:32:48.797Z"
   },
   {
    "duration": 27,
    "start_time": "2021-12-12T13:32:48.818Z"
   },
   {
    "duration": 35,
    "start_time": "2021-12-12T13:32:48.846Z"
   },
   {
    "duration": 26,
    "start_time": "2021-12-12T13:32:48.883Z"
   },
   {
    "duration": 25,
    "start_time": "2021-12-12T13:32:48.911Z"
   },
   {
    "duration": 39,
    "start_time": "2021-12-12T13:32:48.938Z"
   },
   {
    "duration": 9,
    "start_time": "2021-12-12T13:45:46.348Z"
   },
   {
    "duration": 22,
    "start_time": "2021-12-12T13:45:51.119Z"
   },
   {
    "duration": 18,
    "start_time": "2021-12-12T13:46:30.475Z"
   },
   {
    "duration": 58,
    "start_time": "2021-12-12T13:49:05.154Z"
   },
   {
    "duration": 558,
    "start_time": "2021-12-12T13:49:24.287Z"
   },
   {
    "duration": 51,
    "start_time": "2021-12-12T13:49:24.847Z"
   },
   {
    "duration": 19,
    "start_time": "2021-12-12T13:49:24.899Z"
   },
   {
    "duration": 11,
    "start_time": "2021-12-12T13:49:24.920Z"
   },
   {
    "duration": 9,
    "start_time": "2021-12-12T13:49:24.933Z"
   },
   {
    "duration": 64,
    "start_time": "2021-12-12T13:49:24.943Z"
   },
   {
    "duration": 116,
    "start_time": "2021-12-12T13:52:24.845Z"
   },
   {
    "duration": 11,
    "start_time": "2021-12-12T13:52:27.680Z"
   },
   {
    "duration": 4206,
    "start_time": "2021-12-12T13:52:29.334Z"
   },
   {
    "duration": 10,
    "start_time": "2021-12-12T13:53:43.552Z"
   },
   {
    "duration": 542,
    "start_time": "2021-12-12T13:54:33.994Z"
   },
   {
    "duration": 50,
    "start_time": "2021-12-12T13:54:34.538Z"
   },
   {
    "duration": 18,
    "start_time": "2021-12-12T13:54:34.590Z"
   },
   {
    "duration": 10,
    "start_time": "2021-12-12T13:54:34.610Z"
   },
   {
    "duration": 11,
    "start_time": "2021-12-12T13:54:36.674Z"
   },
   {
    "duration": 15,
    "start_time": "2021-12-12T13:59:33.397Z"
   },
   {
    "duration": 280,
    "start_time": "2021-12-12T14:01:28.980Z"
   },
   {
    "duration": 18,
    "start_time": "2021-12-12T14:01:37.618Z"
   },
   {
    "duration": 27,
    "start_time": "2021-12-12T14:01:49.682Z"
   },
   {
    "duration": 11,
    "start_time": "2021-12-12T14:04:25.915Z"
   },
   {
    "duration": 14,
    "start_time": "2021-12-12T14:04:30.002Z"
   },
   {
    "duration": 22,
    "start_time": "2021-12-12T14:04:44.743Z"
   },
   {
    "duration": 32,
    "start_time": "2021-12-12T14:09:48.473Z"
   },
   {
    "duration": 24,
    "start_time": "2021-12-12T14:10:23.216Z"
   },
   {
    "duration": 27,
    "start_time": "2021-12-12T14:15:14.389Z"
   },
   {
    "duration": 34,
    "start_time": "2021-12-12T14:15:25.069Z"
   },
   {
    "duration": 19,
    "start_time": "2021-12-12T14:16:02.437Z"
   },
   {
    "duration": 5,
    "start_time": "2021-12-12T14:16:15.205Z"
   },
   {
    "duration": 6,
    "start_time": "2021-12-12T14:16:18.256Z"
   },
   {
    "duration": 11,
    "start_time": "2021-12-12T14:20:26.775Z"
   },
   {
    "duration": 575,
    "start_time": "2021-12-12T14:21:32.472Z"
   },
   {
    "duration": 52,
    "start_time": "2021-12-12T14:21:33.049Z"
   },
   {
    "duration": 18,
    "start_time": "2021-12-12T14:21:33.103Z"
   },
   {
    "duration": 10,
    "start_time": "2021-12-12T14:21:33.123Z"
   },
   {
    "duration": 10,
    "start_time": "2021-12-12T14:21:33.135Z"
   },
   {
    "duration": 44,
    "start_time": "2021-12-12T14:21:33.147Z"
   },
   {
    "duration": 14,
    "start_time": "2021-12-12T14:21:33.193Z"
   },
   {
    "duration": 5,
    "start_time": "2021-12-12T14:21:33.210Z"
   },
   {
    "duration": 16,
    "start_time": "2021-12-12T14:21:33.218Z"
   },
   {
    "duration": 5,
    "start_time": "2021-12-12T14:28:58.584Z"
   },
   {
    "duration": 575,
    "start_time": "2021-12-12T14:29:06.788Z"
   },
   {
    "duration": 58,
    "start_time": "2021-12-12T14:29:07.365Z"
   },
   {
    "duration": 19,
    "start_time": "2021-12-12T14:29:07.425Z"
   },
   {
    "duration": 11,
    "start_time": "2021-12-12T14:29:07.446Z"
   },
   {
    "duration": 37,
    "start_time": "2021-12-12T14:29:07.459Z"
   },
   {
    "duration": 5,
    "start_time": "2021-12-12T14:29:10.278Z"
   },
   {
    "duration": 8,
    "start_time": "2021-12-12T14:30:43.789Z"
   },
   {
    "duration": 224,
    "start_time": "2021-12-12T14:33:15.110Z"
   },
   {
    "duration": 13,
    "start_time": "2021-12-12T14:33:44.460Z"
   },
   {
    "duration": 175,
    "start_time": "2021-12-12T14:37:51.638Z"
   },
   {
    "duration": 581,
    "start_time": "2021-12-12T14:38:00.569Z"
   },
   {
    "duration": 53,
    "start_time": "2021-12-12T14:38:01.152Z"
   },
   {
    "duration": 20,
    "start_time": "2021-12-12T14:38:01.207Z"
   },
   {
    "duration": 19,
    "start_time": "2021-12-12T14:38:01.229Z"
   },
   {
    "duration": 17,
    "start_time": "2021-12-12T14:38:01.250Z"
   },
   {
    "duration": 29,
    "start_time": "2021-12-12T14:38:01.269Z"
   },
   {
    "duration": 8,
    "start_time": "2021-12-12T14:38:01.300Z"
   },
   {
    "duration": 14,
    "start_time": "2021-12-12T14:38:01.310Z"
   },
   {
    "duration": 5,
    "start_time": "2021-12-12T14:38:03.369Z"
   },
   {
    "duration": 12,
    "start_time": "2021-12-12T14:38:11.346Z"
   },
   {
    "duration": 5,
    "start_time": "2021-12-12T15:00:38.340Z"
   },
   {
    "duration": 11,
    "start_time": "2021-12-12T15:07:09.100Z"
   },
   {
    "duration": 15,
    "start_time": "2021-12-12T15:07:27.016Z"
   },
   {
    "duration": 17,
    "start_time": "2021-12-12T15:20:45.090Z"
   },
   {
    "duration": 15,
    "start_time": "2021-12-12T15:20:51.628Z"
   },
   {
    "duration": 17,
    "start_time": "2021-12-12T15:23:50.158Z"
   },
   {
    "duration": 15,
    "start_time": "2021-12-12T16:31:34.725Z"
   },
   {
    "duration": 19,
    "start_time": "2021-12-12T16:32:38.573Z"
   },
   {
    "duration": 16,
    "start_time": "2021-12-12T16:33:29.333Z"
   },
   {
    "duration": 17,
    "start_time": "2021-12-12T16:36:53.185Z"
   },
   {
    "duration": 56,
    "start_time": "2021-12-12T16:50:56.956Z"
   },
   {
    "duration": 12,
    "start_time": "2021-12-12T16:52:49.740Z"
   },
   {
    "duration": 19,
    "start_time": "2021-12-12T16:54:15.012Z"
   },
   {
    "duration": 571,
    "start_time": "2021-12-12T16:56:57.664Z"
   },
   {
    "duration": 52,
    "start_time": "2021-12-12T16:56:58.236Z"
   },
   {
    "duration": 20,
    "start_time": "2021-12-12T16:56:58.290Z"
   },
   {
    "duration": 10,
    "start_time": "2021-12-12T16:56:58.312Z"
   },
   {
    "duration": 9,
    "start_time": "2021-12-12T16:56:58.324Z"
   },
   {
    "duration": 13,
    "start_time": "2021-12-12T16:56:58.335Z"
   },
   {
    "duration": 45,
    "start_time": "2021-12-12T16:56:58.350Z"
   },
   {
    "duration": 9,
    "start_time": "2021-12-12T16:56:58.397Z"
   },
   {
    "duration": 5,
    "start_time": "2021-12-12T16:56:58.407Z"
   },
   {
    "duration": 14,
    "start_time": "2021-12-12T16:56:58.413Z"
   },
   {
    "duration": 11,
    "start_time": "2021-12-12T16:56:58.429Z"
   },
   {
    "duration": 61,
    "start_time": "2021-12-12T16:56:58.441Z"
   },
   {
    "duration": 17,
    "start_time": "2021-12-12T16:56:58.504Z"
   },
   {
    "duration": 17,
    "start_time": "2021-12-12T16:57:04.554Z"
   },
   {
    "duration": 18,
    "start_time": "2021-12-12T17:02:56.755Z"
   },
   {
    "duration": 4,
    "start_time": "2021-12-12T17:08:18.055Z"
   },
   {
    "duration": 243,
    "start_time": "2021-12-12T17:08:18.807Z"
   },
   {
    "duration": 525,
    "start_time": "2021-12-12T17:09:25.438Z"
   },
   {
    "duration": 56,
    "start_time": "2021-12-12T17:09:25.965Z"
   },
   {
    "duration": 22,
    "start_time": "2021-12-12T17:09:26.023Z"
   },
   {
    "duration": 10,
    "start_time": "2021-12-12T17:09:26.047Z"
   },
   {
    "duration": 41,
    "start_time": "2021-12-12T17:09:26.059Z"
   },
   {
    "duration": 12,
    "start_time": "2021-12-12T17:09:26.102Z"
   },
   {
    "duration": 9,
    "start_time": "2021-12-12T17:09:26.116Z"
   },
   {
    "duration": 8,
    "start_time": "2021-12-12T17:09:26.127Z"
   },
   {
    "duration": 5,
    "start_time": "2021-12-12T17:09:26.138Z"
   },
   {
    "duration": 12,
    "start_time": "2021-12-12T17:09:26.191Z"
   },
   {
    "duration": 11,
    "start_time": "2021-12-12T17:09:26.205Z"
   },
   {
    "duration": 22,
    "start_time": "2021-12-12T17:09:26.218Z"
   },
   {
    "duration": 56,
    "start_time": "2021-12-12T17:09:26.242Z"
   },
   {
    "duration": 16,
    "start_time": "2021-12-12T17:09:26.299Z"
   },
   {
    "duration": 16,
    "start_time": "2021-12-12T17:09:31.022Z"
   },
   {
    "duration": 5,
    "start_time": "2021-12-12T17:09:33.540Z"
   },
   {
    "duration": 235,
    "start_time": "2021-12-12T17:09:34.758Z"
   },
   {
    "duration": 166,
    "start_time": "2021-12-12T17:10:37.238Z"
   },
   {
    "duration": 19,
    "start_time": "2021-12-12T17:11:14.086Z"
   },
   {
    "duration": 4,
    "start_time": "2021-12-12T17:11:17.759Z"
   },
   {
    "duration": 182,
    "start_time": "2021-12-12T17:11:18.887Z"
   },
   {
    "duration": 18,
    "start_time": "2021-12-12T17:11:41.744Z"
   },
   {
    "duration": 4,
    "start_time": "2021-12-12T17:17:03.507Z"
   },
   {
    "duration": 227,
    "start_time": "2021-12-12T17:17:04.601Z"
   },
   {
    "duration": 3,
    "start_time": "2021-12-12T17:17:34.796Z"
   },
   {
    "duration": 539,
    "start_time": "2021-12-12T17:17:57.917Z"
   },
   {
    "duration": 55,
    "start_time": "2021-12-12T17:17:58.457Z"
   },
   {
    "duration": 20,
    "start_time": "2021-12-12T17:17:58.514Z"
   },
   {
    "duration": 11,
    "start_time": "2021-12-12T17:17:58.536Z"
   },
   {
    "duration": 10,
    "start_time": "2021-12-12T17:17:58.549Z"
   },
   {
    "duration": 14,
    "start_time": "2021-12-12T17:17:58.592Z"
   },
   {
    "duration": 8,
    "start_time": "2021-12-12T17:17:58.608Z"
   },
   {
    "duration": 9,
    "start_time": "2021-12-12T17:17:58.618Z"
   },
   {
    "duration": 5,
    "start_time": "2021-12-12T17:17:58.629Z"
   },
   {
    "duration": 13,
    "start_time": "2021-12-12T17:17:58.636Z"
   },
   {
    "duration": 51,
    "start_time": "2021-12-12T17:17:58.650Z"
   },
   {
    "duration": 19,
    "start_time": "2021-12-12T17:17:58.703Z"
   },
   {
    "duration": 18,
    "start_time": "2021-12-12T17:17:58.723Z"
   },
   {
    "duration": 15,
    "start_time": "2021-12-12T17:17:58.742Z"
   },
   {
    "duration": 19,
    "start_time": "2021-12-12T17:18:00.759Z"
   },
   {
    "duration": 5,
    "start_time": "2021-12-12T18:10:00.747Z"
   },
   {
    "duration": 3,
    "start_time": "2021-12-12T18:10:13.455Z"
   },
   {
    "duration": 231,
    "start_time": "2021-12-12T18:15:35.438Z"
   },
   {
    "duration": 603,
    "start_time": "2021-12-12T18:15:54.784Z"
   },
   {
    "duration": 54,
    "start_time": "2021-12-12T18:15:55.389Z"
   },
   {
    "duration": 20,
    "start_time": "2021-12-12T18:15:55.446Z"
   },
   {
    "duration": 26,
    "start_time": "2021-12-12T18:15:55.469Z"
   },
   {
    "duration": 10,
    "start_time": "2021-12-12T18:15:55.497Z"
   },
   {
    "duration": 15,
    "start_time": "2021-12-12T18:15:55.509Z"
   },
   {
    "duration": 9,
    "start_time": "2021-12-12T18:15:55.526Z"
   },
   {
    "duration": 62,
    "start_time": "2021-12-12T18:15:55.538Z"
   },
   {
    "duration": 4,
    "start_time": "2021-12-12T18:15:55.602Z"
   },
   {
    "duration": 13,
    "start_time": "2021-12-12T18:15:55.608Z"
   },
   {
    "duration": 11,
    "start_time": "2021-12-12T18:15:55.623Z"
   },
   {
    "duration": 63,
    "start_time": "2021-12-12T18:15:55.636Z"
   },
   {
    "duration": 18,
    "start_time": "2021-12-12T18:15:55.701Z"
   },
   {
    "duration": 15,
    "start_time": "2021-12-12T18:15:55.721Z"
   },
   {
    "duration": 20,
    "start_time": "2021-12-12T18:15:57.014Z"
   },
   {
    "duration": 4,
    "start_time": "2021-12-12T18:15:59.668Z"
   },
   {
    "duration": 770,
    "start_time": "2021-12-12T18:16:01.510Z"
   },
   {
    "duration": 3,
    "start_time": "2021-12-12T18:17:20.786Z"
   },
   {
    "duration": 610,
    "start_time": "2021-12-12T18:18:22.782Z"
   },
   {
    "duration": 58,
    "start_time": "2021-12-12T18:18:23.394Z"
   },
   {
    "duration": 22,
    "start_time": "2021-12-12T18:18:23.455Z"
   },
   {
    "duration": 24,
    "start_time": "2021-12-12T18:18:23.479Z"
   },
   {
    "duration": 11,
    "start_time": "2021-12-12T18:18:23.506Z"
   },
   {
    "duration": 17,
    "start_time": "2021-12-12T18:18:23.519Z"
   },
   {
    "duration": 59,
    "start_time": "2021-12-12T18:18:23.538Z"
   },
   {
    "duration": 10,
    "start_time": "2021-12-12T18:18:23.599Z"
   },
   {
    "duration": 4,
    "start_time": "2021-12-12T18:18:23.611Z"
   },
   {
    "duration": 15,
    "start_time": "2021-12-12T18:18:23.617Z"
   },
   {
    "duration": 13,
    "start_time": "2021-12-12T18:18:23.634Z"
   },
   {
    "duration": 59,
    "start_time": "2021-12-12T18:18:23.648Z"
   },
   {
    "duration": 19,
    "start_time": "2021-12-12T18:18:23.709Z"
   },
   {
    "duration": 16,
    "start_time": "2021-12-12T18:18:23.729Z"
   },
   {
    "duration": 233,
    "start_time": "2021-12-12T18:18:24.528Z"
   },
   {
    "duration": 200,
    "start_time": "2021-12-12T18:18:58.377Z"
   },
   {
    "duration": 19,
    "start_time": "2021-12-12T18:19:07.424Z"
   },
   {
    "duration": 3,
    "start_time": "2021-12-12T18:35:51.148Z"
   },
   {
    "duration": 49,
    "start_time": "2021-12-12T18:39:56.957Z"
   },
   {
    "duration": 404,
    "start_time": "2021-12-12T18:40:54.935Z"
   },
   {
    "duration": 7,
    "start_time": "2021-12-12T18:41:45.016Z"
   },
   {
    "duration": 686,
    "start_time": "2021-12-12T18:41:48.007Z"
   },
   {
    "duration": 3016,
    "start_time": "2021-12-12T18:47:02.652Z"
   },
   {
    "duration": 63,
    "start_time": "2021-12-12T18:47:36.099Z"
   },
   {
    "duration": 16,
    "start_time": "2021-12-12T18:47:53.857Z"
   },
   {
    "duration": 4,
    "start_time": "2021-12-12T18:52:52.243Z"
   },
   {
    "duration": 2983,
    "start_time": "2021-12-12T18:52:53.622Z"
   },
   {
    "duration": 15,
    "start_time": "2021-12-12T18:52:59.285Z"
   },
   {
    "duration": 627,
    "start_time": "2021-12-12T18:53:38.051Z"
   },
   {
    "duration": 15,
    "start_time": "2021-12-12T18:53:39.482Z"
   },
   {
    "duration": 377,
    "start_time": "2021-12-12T18:56:34.810Z"
   },
   {
    "duration": 15,
    "start_time": "2021-12-12T18:56:37.121Z"
   },
   {
    "duration": 11,
    "start_time": "2021-12-12T18:56:56.698Z"
   },
   {
    "duration": 4,
    "start_time": "2021-12-12T19:02:07.571Z"
   },
   {
    "duration": 359,
    "start_time": "2021-12-12T19:02:10.930Z"
   },
   {
    "duration": 858,
    "start_time": "2021-12-12T19:02:49.119Z"
   },
   {
    "duration": 4,
    "start_time": "2021-12-12T19:03:26.280Z"
   },
   {
    "duration": 2864,
    "start_time": "2021-12-12T19:03:27.765Z"
   },
   {
    "duration": 12,
    "start_time": "2021-12-12T19:03:31.635Z"
   },
   {
    "duration": 3,
    "start_time": "2021-12-12T19:06:25.141Z"
   },
   {
    "duration": 2744,
    "start_time": "2021-12-12T19:07:47.893Z"
   },
   {
    "duration": 12,
    "start_time": "2021-12-12T19:07:55.261Z"
   },
   {
    "duration": 3,
    "start_time": "2021-12-12T19:08:09.590Z"
   },
   {
    "duration": 56,
    "start_time": "2021-12-12T19:11:53.981Z"
   },
   {
    "duration": 5,
    "start_time": "2021-12-12T19:12:21.961Z"
   },
   {
    "duration": 2717,
    "start_time": "2021-12-12T19:12:24.341Z"
   },
   {
    "duration": 12,
    "start_time": "2021-12-12T19:12:28.487Z"
   },
   {
    "duration": 5,
    "start_time": "2021-12-12T19:17:05.719Z"
   },
   {
    "duration": 2797,
    "start_time": "2021-12-12T19:17:07.020Z"
   },
   {
    "duration": 12,
    "start_time": "2021-12-12T19:17:09.818Z"
   },
   {
    "duration": 82,
    "start_time": "2021-12-12T19:25:50.512Z"
   },
   {
    "duration": 530,
    "start_time": "2021-12-12T19:29:57.923Z"
   },
   {
    "duration": 54,
    "start_time": "2021-12-12T19:29:58.455Z"
   },
   {
    "duration": 19,
    "start_time": "2021-12-12T19:29:58.511Z"
   },
   {
    "duration": 12,
    "start_time": "2021-12-12T19:29:58.532Z"
   },
   {
    "duration": 11,
    "start_time": "2021-12-12T19:29:58.546Z"
   },
   {
    "duration": 43,
    "start_time": "2021-12-12T19:29:58.559Z"
   },
   {
    "duration": 8,
    "start_time": "2021-12-12T19:29:58.604Z"
   },
   {
    "duration": 9,
    "start_time": "2021-12-12T19:29:58.614Z"
   },
   {
    "duration": 4,
    "start_time": "2021-12-12T19:29:58.625Z"
   },
   {
    "duration": 14,
    "start_time": "2021-12-12T19:29:58.631Z"
   },
   {
    "duration": 51,
    "start_time": "2021-12-12T19:29:58.646Z"
   },
   {
    "duration": 20,
    "start_time": "2021-12-12T19:29:58.699Z"
   },
   {
    "duration": 25,
    "start_time": "2021-12-12T19:29:58.721Z"
   },
   {
    "duration": 45,
    "start_time": "2021-12-12T19:29:58.748Z"
   },
   {
    "duration": 28,
    "start_time": "2021-12-12T19:29:58.795Z"
   },
   {
    "duration": 4,
    "start_time": "2021-12-12T19:29:58.825Z"
   },
   {
    "duration": 693,
    "start_time": "2021-12-12T19:29:58.831Z"
   },
   {
    "duration": 4,
    "start_time": "2021-12-12T19:29:59.526Z"
   },
   {
    "duration": 6,
    "start_time": "2021-12-12T19:29:59.531Z"
   },
   {
    "duration": 2885,
    "start_time": "2021-12-12T19:29:59.538Z"
   },
   {
    "duration": 13,
    "start_time": "2021-12-12T19:30:02.425Z"
   },
   {
    "duration": 476,
    "start_time": "2021-12-13T14:51:48.032Z"
   },
   {
    "duration": 835,
    "start_time": "2021-12-13T14:52:38.127Z"
   },
   {
    "duration": 66,
    "start_time": "2021-12-13T14:52:38.965Z"
   },
   {
    "duration": 35,
    "start_time": "2021-12-13T14:52:39.034Z"
   },
   {
    "duration": 16,
    "start_time": "2021-12-13T14:52:39.071Z"
   },
   {
    "duration": 12,
    "start_time": "2021-12-13T14:52:39.089Z"
   },
   {
    "duration": 55,
    "start_time": "2021-12-13T14:52:39.104Z"
   },
   {
    "duration": 12,
    "start_time": "2021-12-13T14:52:39.162Z"
   },
   {
    "duration": 14,
    "start_time": "2021-12-13T14:52:39.177Z"
   },
   {
    "duration": 6,
    "start_time": "2021-12-13T14:52:39.194Z"
   },
   {
    "duration": 15,
    "start_time": "2021-12-13T14:52:39.203Z"
   },
   {
    "duration": 17,
    "start_time": "2021-12-13T14:52:39.260Z"
   },
   {
    "duration": 34,
    "start_time": "2021-12-13T14:52:39.279Z"
   },
   {
    "duration": 23,
    "start_time": "2021-12-13T14:52:39.316Z"
   },
   {
    "duration": 22,
    "start_time": "2021-12-13T14:52:39.360Z"
   },
   {
    "duration": 24,
    "start_time": "2021-12-13T14:52:39.385Z"
   },
   {
    "duration": 21,
    "start_time": "2021-12-13T14:52:39.412Z"
   },
   {
    "duration": 941,
    "start_time": "2021-12-13T14:52:39.435Z"
   },
   {
    "duration": 5,
    "start_time": "2021-12-13T14:52:40.379Z"
   },
   {
    "duration": 7,
    "start_time": "2021-12-13T14:52:40.386Z"
   },
   {
    "duration": 3909,
    "start_time": "2021-12-13T14:52:40.395Z"
   },
   {
    "duration": 18,
    "start_time": "2021-12-13T14:52:44.307Z"
   },
   {
    "duration": 8,
    "start_time": "2021-12-13T14:52:49.053Z"
   },
   {
    "duration": 6,
    "start_time": "2021-12-13T14:53:31.763Z"
   },
   {
    "duration": 3,
    "start_time": "2021-12-13T15:29:34.005Z"
   },
   {
    "duration": 3,
    "start_time": "2021-12-13T15:29:47.547Z"
   },
   {
    "duration": 737,
    "start_time": "2021-12-13T15:29:54.093Z"
   },
   {
    "duration": 65,
    "start_time": "2021-12-13T15:29:54.832Z"
   },
   {
    "duration": 29,
    "start_time": "2021-12-13T15:29:54.900Z"
   },
   {
    "duration": 31,
    "start_time": "2021-12-13T15:29:54.932Z"
   },
   {
    "duration": 13,
    "start_time": "2021-12-13T15:32:41.292Z"
   },
   {
    "duration": 11,
    "start_time": "2021-12-13T15:33:02.076Z"
   },
   {
    "duration": 10,
    "start_time": "2021-12-13T15:39:06.702Z"
   },
   {
    "duration": 36,
    "start_time": "2021-12-13T15:42:03.409Z"
   },
   {
    "duration": 31,
    "start_time": "2021-12-13T15:46:49.739Z"
   },
   {
    "duration": 31,
    "start_time": "2021-12-13T15:47:10.688Z"
   },
   {
    "duration": 30,
    "start_time": "2021-12-13T15:49:18.303Z"
   },
   {
    "duration": 579,
    "start_time": "2021-12-13T15:50:53.763Z"
   },
   {
    "duration": 14,
    "start_time": "2021-12-13T15:51:11.333Z"
   },
   {
    "duration": 754,
    "start_time": "2021-12-13T15:51:35.798Z"
   },
   {
    "duration": 64,
    "start_time": "2021-12-13T15:51:36.554Z"
   },
   {
    "duration": 38,
    "start_time": "2021-12-13T15:51:36.621Z"
   },
   {
    "duration": 16,
    "start_time": "2021-12-13T15:51:36.661Z"
   },
   {
    "duration": 3,
    "start_time": "2021-12-13T15:51:39.302Z"
   },
   {
    "duration": 38,
    "start_time": "2021-12-13T15:51:40.123Z"
   },
   {
    "duration": 33,
    "start_time": "2021-12-13T15:52:44.072Z"
   },
   {
    "duration": 40,
    "start_time": "2021-12-13T15:53:14.112Z"
   },
   {
    "duration": 43,
    "start_time": "2021-12-13T15:53:29.966Z"
   },
   {
    "duration": 37,
    "start_time": "2021-12-13T15:53:45.109Z"
   },
   {
    "duration": 35,
    "start_time": "2021-12-13T16:04:12.385Z"
   },
   {
    "duration": 470,
    "start_time": "2021-12-13T16:12:05.640Z"
   },
   {
    "duration": 29,
    "start_time": "2021-12-13T16:12:25.486Z"
   },
   {
    "duration": 20,
    "start_time": "2021-12-13T16:17:51.524Z"
   },
   {
    "duration": 855,
    "start_time": "2021-12-13T16:22:05.668Z"
   },
   {
    "duration": 66,
    "start_time": "2021-12-13T16:22:06.526Z"
   },
   {
    "duration": 31,
    "start_time": "2021-12-13T16:22:06.596Z"
   },
   {
    "duration": 38,
    "start_time": "2021-12-13T16:22:06.630Z"
   },
   {
    "duration": 9,
    "start_time": "2021-12-13T16:22:13.476Z"
   },
   {
    "duration": 36,
    "start_time": "2021-12-13T16:22:14.163Z"
   },
   {
    "duration": 765,
    "start_time": "2021-12-13T16:23:45.265Z"
   },
   {
    "duration": 67,
    "start_time": "2021-12-13T16:23:46.033Z"
   },
   {
    "duration": 31,
    "start_time": "2021-12-13T16:23:46.103Z"
   },
   {
    "duration": 32,
    "start_time": "2021-12-13T16:23:46.137Z"
   },
   {
    "duration": 21,
    "start_time": "2021-12-13T16:23:47.538Z"
   },
   {
    "duration": 36,
    "start_time": "2021-12-13T16:23:48.706Z"
   },
   {
    "duration": 64,
    "start_time": "2021-12-13T16:25:03.934Z"
   },
   {
    "duration": 28,
    "start_time": "2021-12-13T16:25:04.001Z"
   },
   {
    "duration": 35,
    "start_time": "2021-12-13T16:25:04.032Z"
   },
   {
    "duration": 8,
    "start_time": "2021-12-13T16:25:04.070Z"
   },
   {
    "duration": 37,
    "start_time": "2021-12-13T16:25:04.081Z"
   },
   {
    "duration": 3,
    "start_time": "2021-12-13T16:25:04.120Z"
   },
   {
    "duration": 804,
    "start_time": "2021-12-13T16:25:57.868Z"
   },
   {
    "duration": 67,
    "start_time": "2021-12-13T16:26:00.262Z"
   },
   {
    "duration": 40,
    "start_time": "2021-12-13T16:26:02.151Z"
   },
   {
    "duration": 17,
    "start_time": "2021-12-13T16:26:03.817Z"
   },
   {
    "duration": 10,
    "start_time": "2021-12-13T16:26:09.072Z"
   },
   {
    "duration": 36,
    "start_time": "2021-12-13T16:26:40.359Z"
   },
   {
    "duration": 34,
    "start_time": "2021-12-13T16:27:06.859Z"
   },
   {
    "duration": 31,
    "start_time": "2021-12-13T16:33:11.222Z"
   },
   {
    "duration": 786,
    "start_time": "2021-12-13T16:41:01.780Z"
   },
   {
    "duration": 70,
    "start_time": "2021-12-13T16:41:02.569Z"
   },
   {
    "duration": 34,
    "start_time": "2021-12-13T16:41:02.642Z"
   },
   {
    "duration": 16,
    "start_time": "2021-12-13T16:41:02.678Z"
   },
   {
    "duration": 464,
    "start_time": "2021-12-13T16:41:09.565Z"
   },
   {
    "duration": 15,
    "start_time": "2021-12-13T16:41:19.317Z"
   },
   {
    "duration": 718,
    "start_time": "2021-12-13T17:19:28.089Z"
   },
   {
    "duration": 1029,
    "start_time": "2021-12-13T17:19:40.770Z"
   },
   {
    "duration": 90,
    "start_time": "2021-12-13T17:19:41.803Z"
   },
   {
    "duration": 45,
    "start_time": "2021-12-13T17:19:41.897Z"
   },
   {
    "duration": 20,
    "start_time": "2021-12-13T17:19:41.961Z"
   },
   {
    "duration": 14,
    "start_time": "2021-12-13T17:19:41.983Z"
   },
   {
    "duration": 9,
    "start_time": "2021-12-13T17:19:42.000Z"
   },
   {
    "duration": 73,
    "start_time": "2021-12-13T17:19:42.012Z"
   },
   {
    "duration": 14,
    "start_time": "2021-12-13T17:19:42.088Z"
   },
   {
    "duration": 39,
    "start_time": "2021-12-13T17:19:42.122Z"
   },
   {
    "duration": 12,
    "start_time": "2021-12-13T17:19:42.163Z"
   },
   {
    "duration": 18,
    "start_time": "2021-12-13T17:19:42.178Z"
   },
   {
    "duration": 8,
    "start_time": "2021-12-13T17:19:42.199Z"
   },
   {
    "duration": 57,
    "start_time": "2021-12-13T17:19:42.210Z"
   },
   {
    "duration": 16,
    "start_time": "2021-12-13T17:19:42.270Z"
   },
   {
    "duration": 33,
    "start_time": "2021-12-13T17:19:42.288Z"
   },
   {
    "duration": 54,
    "start_time": "2021-12-13T17:19:42.323Z"
   },
   {
    "duration": 32,
    "start_time": "2021-12-13T17:19:42.381Z"
   },
   {
    "duration": 49,
    "start_time": "2021-12-13T17:19:42.415Z"
   },
   {
    "duration": 11,
    "start_time": "2021-12-13T17:19:42.466Z"
   },
   {
    "duration": 1171,
    "start_time": "2021-12-13T17:19:42.480Z"
   },
   {
    "duration": 6,
    "start_time": "2021-12-13T17:19:43.660Z"
   },
   {
    "duration": 8,
    "start_time": "2021-12-13T17:19:43.668Z"
   },
   {
    "duration": 4196,
    "start_time": "2021-12-13T17:19:43.681Z"
   },
   {
    "duration": 36,
    "start_time": "2021-12-13T17:19:47.880Z"
   },
   {
    "duration": 10,
    "start_time": "2021-12-13T17:19:47.919Z"
   },
   {
    "duration": 117,
    "start_time": "2021-12-13T18:05:55.939Z"
   },
   {
    "duration": 968,
    "start_time": "2021-12-13T18:06:33.543Z"
   },
   {
    "duration": 65,
    "start_time": "2021-12-13T18:06:34.515Z"
   },
   {
    "duration": 29,
    "start_time": "2021-12-13T18:06:34.583Z"
   },
   {
    "duration": 20,
    "start_time": "2021-12-13T18:06:34.615Z"
   },
   {
    "duration": 123,
    "start_time": "2021-12-13T18:06:36.293Z"
   },
   {
    "duration": 24,
    "start_time": "2021-12-13T18:06:44.205Z"
   },
   {
    "duration": 750,
    "start_time": "2021-12-13T18:10:03.672Z"
   },
   {
    "duration": 65,
    "start_time": "2021-12-13T18:10:04.425Z"
   },
   {
    "duration": 29,
    "start_time": "2021-12-13T18:10:04.493Z"
   },
   {
    "duration": 34,
    "start_time": "2021-12-13T18:10:04.525Z"
   },
   {
    "duration": 48,
    "start_time": "2021-12-13T18:10:13.714Z"
   },
   {
    "duration": 779,
    "start_time": "2021-12-13T18:17:12.236Z"
   },
   {
    "duration": 63,
    "start_time": "2021-12-13T18:17:13.018Z"
   },
   {
    "duration": 31,
    "start_time": "2021-12-13T18:17:15.233Z"
   },
   {
    "duration": 414,
    "start_time": "2021-12-13T18:31:58.567Z"
   },
   {
    "duration": 770,
    "start_time": "2021-12-13T18:32:09.744Z"
   },
   {
    "duration": 63,
    "start_time": "2021-12-13T18:32:10.516Z"
   },
   {
    "duration": 32,
    "start_time": "2021-12-13T18:32:10.583Z"
   },
   {
    "duration": 17,
    "start_time": "2021-12-13T18:32:10.618Z"
   },
   {
    "duration": 48,
    "start_time": "2021-12-13T18:32:10.660Z"
   },
   {
    "duration": 14,
    "start_time": "2021-12-13T18:32:12.026Z"
   },
   {
    "duration": 768,
    "start_time": "2021-12-13T19:12:31.951Z"
   },
   {
    "duration": 65,
    "start_time": "2021-12-13T19:12:32.722Z"
   },
   {
    "duration": 30,
    "start_time": "2021-12-13T19:12:32.789Z"
   },
   {
    "duration": 16,
    "start_time": "2021-12-13T19:12:32.821Z"
   },
   {
    "duration": 65,
    "start_time": "2021-12-13T19:12:32.839Z"
   },
   {
    "duration": 11,
    "start_time": "2021-12-13T19:12:33.664Z"
   },
   {
    "duration": 4,
    "start_time": "2021-12-13T19:17:18.383Z"
   },
   {
    "duration": 22,
    "start_time": "2021-12-13T19:20:42.339Z"
   },
   {
    "duration": 783,
    "start_time": "2021-12-13T19:21:57.064Z"
   },
   {
    "duration": 66,
    "start_time": "2021-12-13T19:21:57.851Z"
   },
   {
    "duration": 31,
    "start_time": "2021-12-13T19:21:57.919Z"
   },
   {
    "duration": 20,
    "start_time": "2021-12-13T19:21:57.953Z"
   },
   {
    "duration": 45,
    "start_time": "2021-12-13T19:21:57.976Z"
   },
   {
    "duration": 38,
    "start_time": "2021-12-13T19:21:58.024Z"
   },
   {
    "duration": 478,
    "start_time": "2021-12-13T19:21:59.070Z"
   },
   {
    "duration": 22,
    "start_time": "2021-12-13T19:22:00.427Z"
   },
   {
    "duration": 1371,
    "start_time": "2021-12-13T19:23:07.857Z"
   },
   {
    "duration": 1361,
    "start_time": "2021-12-13T19:23:07.869Z"
   },
   {
    "duration": 819,
    "start_time": "2021-12-13T19:23:14.939Z"
   },
   {
    "duration": 73,
    "start_time": "2021-12-13T19:23:15.761Z"
   },
   {
    "duration": 36,
    "start_time": "2021-12-13T19:23:15.838Z"
   },
   {
    "duration": 16,
    "start_time": "2021-12-13T19:23:15.877Z"
   },
   {
    "duration": 75,
    "start_time": "2021-12-13T19:23:15.895Z"
   },
   {
    "duration": 10,
    "start_time": "2021-12-13T19:23:15.972Z"
   },
   {
    "duration": 11091,
    "start_time": "2021-12-13T19:23:15.984Z"
   },
   {
    "duration": 866,
    "start_time": "2021-12-13T19:25:32.933Z"
   },
   {
    "duration": 64,
    "start_time": "2021-12-13T19:25:33.802Z"
   },
   {
    "duration": 31,
    "start_time": "2021-12-13T19:25:33.869Z"
   },
   {
    "duration": 15,
    "start_time": "2021-12-13T19:25:33.903Z"
   },
   {
    "duration": 73,
    "start_time": "2021-12-13T19:25:33.921Z"
   },
   {
    "duration": 9,
    "start_time": "2021-12-13T19:25:33.997Z"
   },
   {
    "duration": 9514,
    "start_time": "2021-12-13T19:25:36.314Z"
   },
   {
    "duration": 1313,
    "start_time": "2021-12-13T19:25:44.518Z"
   },
   {
    "duration": 2844,
    "start_time": "2021-12-13T19:26:57.594Z"
   },
   {
    "duration": 8,
    "start_time": "2021-12-13T19:32:32.420Z"
   },
   {
    "duration": 155,
    "start_time": "2021-12-13T19:32:59.088Z"
   },
   {
    "duration": 126,
    "start_time": "2021-12-13T19:33:09.418Z"
   },
   {
    "duration": 8,
    "start_time": "2021-12-13T19:33:19.046Z"
   },
   {
    "duration": 9,
    "start_time": "2021-12-13T19:33:41.229Z"
   },
   {
    "duration": 366,
    "start_time": "2021-12-13T19:39:16.197Z"
   },
   {
    "duration": 368,
    "start_time": "2021-12-13T19:40:25.357Z"
   },
   {
    "duration": 372,
    "start_time": "2021-12-13T19:41:02.028Z"
   },
   {
    "duration": 11,
    "start_time": "2021-12-13T19:41:40.173Z"
   },
   {
    "duration": 15,
    "start_time": "2021-12-13T19:42:09.756Z"
   },
   {
    "duration": 1384,
    "start_time": "2021-12-13T19:46:00.023Z"
   },
   {
    "duration": 369,
    "start_time": "2021-12-13T19:46:23.614Z"
   },
   {
    "duration": 10517,
    "start_time": "2021-12-13T19:46:38.876Z"
   },
   {
    "duration": 2879,
    "start_time": "2021-12-13T19:46:57.997Z"
   },
   {
    "duration": 23,
    "start_time": "2021-12-13T19:47:21.046Z"
   },
   {
    "duration": 20,
    "start_time": "2021-12-13T19:59:36.974Z"
   },
   {
    "duration": 15,
    "start_time": "2021-12-13T20:09:33.717Z"
   },
   {
    "duration": 14,
    "start_time": "2021-12-13T20:09:50.414Z"
   },
   {
    "duration": 14,
    "start_time": "2021-12-13T20:10:08.956Z"
   },
   {
    "duration": 359,
    "start_time": "2021-12-13T20:14:53.884Z"
   },
   {
    "duration": 523,
    "start_time": "2021-12-13T20:15:46.516Z"
   },
   {
    "duration": 35,
    "start_time": "2021-12-13T20:19:01.406Z"
   },
   {
    "duration": 40,
    "start_time": "2021-12-13T20:19:41.746Z"
   },
   {
    "duration": 30,
    "start_time": "2021-12-13T20:20:32.152Z"
   },
   {
    "duration": 31,
    "start_time": "2021-12-13T20:20:41.363Z"
   },
   {
    "duration": 402,
    "start_time": "2021-12-13T20:21:12.911Z"
   },
   {
    "duration": 22,
    "start_time": "2021-12-13T20:21:21.747Z"
   },
   {
    "duration": 27,
    "start_time": "2021-12-13T20:24:26.387Z"
   },
   {
    "duration": 9,
    "start_time": "2021-12-13T20:24:48.898Z"
   },
   {
    "duration": 15,
    "start_time": "2021-12-13T20:25:22.163Z"
   },
   {
    "duration": 13,
    "start_time": "2021-12-13T20:25:31.323Z"
   },
   {
    "duration": 12,
    "start_time": "2021-12-13T20:25:38.771Z"
   },
   {
    "duration": 35,
    "start_time": "2021-12-13T20:25:50.752Z"
   },
   {
    "duration": 11,
    "start_time": "2021-12-13T20:25:56.487Z"
   },
   {
    "duration": 34,
    "start_time": "2021-12-13T20:26:02.188Z"
   },
   {
    "duration": 13,
    "start_time": "2021-12-13T20:26:09.965Z"
   },
   {
    "duration": 49,
    "start_time": "2021-12-13T20:26:33.117Z"
   },
   {
    "duration": 831,
    "start_time": "2021-12-13T20:27:02.942Z"
   },
   {
    "duration": 68,
    "start_time": "2021-12-13T20:27:03.777Z"
   },
   {
    "duration": 29,
    "start_time": "2021-12-13T20:27:03.848Z"
   },
   {
    "duration": 18,
    "start_time": "2021-12-13T20:27:03.880Z"
   },
   {
    "duration": 71,
    "start_time": "2021-12-13T20:27:03.900Z"
   },
   {
    "duration": 9,
    "start_time": "2021-12-13T20:27:03.974Z"
   },
   {
    "duration": 3079,
    "start_time": "2021-12-13T20:27:03.985Z"
   },
   {
    "duration": 19,
    "start_time": "2021-12-13T20:27:07.067Z"
   },
   {
    "duration": 71,
    "start_time": "2021-12-13T20:27:07.193Z"
   },
   {
    "duration": 48,
    "start_time": "2021-12-13T20:27:15.118Z"
   },
   {
    "duration": 47,
    "start_time": "2021-12-13T20:27:34.709Z"
   },
   {
    "duration": 779,
    "start_time": "2021-12-14T15:06:25.342Z"
   },
   {
    "duration": 66,
    "start_time": "2021-12-14T15:06:26.123Z"
   },
   {
    "duration": 30,
    "start_time": "2021-12-14T15:06:26.192Z"
   },
   {
    "duration": 14,
    "start_time": "2021-12-14T15:06:26.225Z"
   },
   {
    "duration": 46,
    "start_time": "2021-12-14T15:06:26.259Z"
   },
   {
    "duration": 9,
    "start_time": "2021-12-14T15:06:26.307Z"
   },
   {
    "duration": 2850,
    "start_time": "2021-12-14T15:06:26.318Z"
   },
   {
    "duration": 19,
    "start_time": "2021-12-14T15:06:29.171Z"
   },
   {
    "duration": 46,
    "start_time": "2021-12-14T15:06:29.192Z"
   },
   {
    "duration": 28,
    "start_time": "2021-12-14T15:06:29.240Z"
   },
   {
    "duration": 14,
    "start_time": "2021-12-14T15:07:22.978Z"
   },
   {
    "duration": 20,
    "start_time": "2021-12-14T15:08:39.418Z"
   },
   {
    "duration": 764,
    "start_time": "2021-12-14T15:09:25.296Z"
   },
   {
    "duration": 67,
    "start_time": "2021-12-14T15:09:26.063Z"
   },
   {
    "duration": 31,
    "start_time": "2021-12-14T15:09:26.133Z"
   },
   {
    "duration": 20,
    "start_time": "2021-12-14T15:09:26.167Z"
   },
   {
    "duration": 70,
    "start_time": "2021-12-14T15:09:26.189Z"
   },
   {
    "duration": 9,
    "start_time": "2021-12-14T15:09:26.262Z"
   },
   {
    "duration": 2817,
    "start_time": "2021-12-14T15:09:26.273Z"
   },
   {
    "duration": 19,
    "start_time": "2021-12-14T15:09:29.093Z"
   },
   {
    "duration": 5,
    "start_time": "2021-12-14T15:09:29.115Z"
   },
   {
    "duration": 37,
    "start_time": "2021-12-14T15:09:29.123Z"
   },
   {
    "duration": 14,
    "start_time": "2021-12-14T15:09:29.163Z"
   },
   {
    "duration": 23,
    "start_time": "2021-12-14T15:27:16.070Z"
   },
   {
    "duration": 27,
    "start_time": "2021-12-14T15:27:24.340Z"
   },
   {
    "duration": 14,
    "start_time": "2021-12-14T15:28:36.796Z"
   },
   {
    "duration": 22,
    "start_time": "2021-12-14T15:28:53.000Z"
   },
   {
    "duration": 40,
    "start_time": "2021-12-14T15:29:41.323Z"
   },
   {
    "duration": 11,
    "start_time": "2021-12-14T15:29:45.346Z"
   },
   {
    "duration": 35,
    "start_time": "2021-12-14T15:29:48.068Z"
   },
   {
    "duration": 780,
    "start_time": "2021-12-14T15:30:13.627Z"
   },
   {
    "duration": 67,
    "start_time": "2021-12-14T15:30:14.411Z"
   },
   {
    "duration": 31,
    "start_time": "2021-12-14T15:30:14.485Z"
   },
   {
    "duration": 41,
    "start_time": "2021-12-14T15:30:14.519Z"
   },
   {
    "duration": 48,
    "start_time": "2021-12-14T15:30:14.563Z"
   },
   {
    "duration": 9,
    "start_time": "2021-12-14T15:30:14.613Z"
   },
   {
    "duration": 2974,
    "start_time": "2021-12-14T15:30:14.626Z"
   },
   {
    "duration": 19,
    "start_time": "2021-12-14T15:30:17.603Z"
   },
   {
    "duration": 7,
    "start_time": "2021-12-14T15:30:17.624Z"
   },
   {
    "duration": 37,
    "start_time": "2021-12-14T15:30:17.633Z"
   },
   {
    "duration": 14,
    "start_time": "2021-12-14T15:30:17.672Z"
   },
   {
    "duration": 21,
    "start_time": "2021-12-14T15:30:17.688Z"
   },
   {
    "duration": 21,
    "start_time": "2021-12-14T15:30:25.733Z"
   },
   {
    "duration": 38,
    "start_time": "2021-12-14T15:30:32.498Z"
   },
   {
    "duration": 37,
    "start_time": "2021-12-14T15:31:30.067Z"
   },
   {
    "duration": 10,
    "start_time": "2021-12-14T15:33:08.901Z"
   },
   {
    "duration": 17,
    "start_time": "2021-12-14T15:33:22.077Z"
   },
   {
    "duration": 3261,
    "start_time": "2021-12-14T15:36:20.615Z"
   },
   {
    "duration": 116,
    "start_time": "2021-12-14T15:36:48.116Z"
   },
   {
    "duration": 17,
    "start_time": "2021-12-14T15:36:54.191Z"
   },
   {
    "duration": 436,
    "start_time": "2021-12-14T15:45:02.908Z"
   },
   {
    "duration": 5,
    "start_time": "2021-12-14T15:49:53.053Z"
   },
   {
    "duration": 12,
    "start_time": "2021-12-14T15:50:00.840Z"
   },
   {
    "duration": 30,
    "start_time": "2021-12-14T15:57:46.744Z"
   },
   {
    "duration": 26,
    "start_time": "2021-12-14T15:57:59.337Z"
   },
   {
    "duration": 788,
    "start_time": "2021-12-14T15:58:25.246Z"
   },
   {
    "duration": 67,
    "start_time": "2021-12-14T15:58:26.037Z"
   },
   {
    "duration": 48,
    "start_time": "2021-12-14T15:58:26.111Z"
   },
   {
    "duration": 15,
    "start_time": "2021-12-14T15:58:26.162Z"
   },
   {
    "duration": 47,
    "start_time": "2021-12-14T15:58:26.180Z"
   },
   {
    "duration": 33,
    "start_time": "2021-12-14T15:58:26.230Z"
   },
   {
    "duration": 2825,
    "start_time": "2021-12-14T15:58:26.266Z"
   },
   {
    "duration": 19,
    "start_time": "2021-12-14T15:58:29.095Z"
   },
   {
    "duration": 7,
    "start_time": "2021-12-14T15:58:29.117Z"
   },
   {
    "duration": 38,
    "start_time": "2021-12-14T15:58:29.126Z"
   },
   {
    "duration": 14,
    "start_time": "2021-12-14T15:58:29.167Z"
   },
   {
    "duration": 21,
    "start_time": "2021-12-14T15:58:29.183Z"
   },
   {
    "duration": 44,
    "start_time": "2021-12-14T15:58:49.905Z"
   },
   {
    "duration": 22,
    "start_time": "2021-12-14T15:59:00.916Z"
   },
   {
    "duration": 10,
    "start_time": "2021-12-14T16:00:14.867Z"
   },
   {
    "duration": 6,
    "start_time": "2021-12-14T16:00:22.499Z"
   },
   {
    "duration": 460,
    "start_time": "2021-12-14T16:04:07.854Z"
   },
   {
    "duration": 770,
    "start_time": "2021-12-14T16:04:23.154Z"
   },
   {
    "duration": 66,
    "start_time": "2021-12-14T16:04:23.926Z"
   },
   {
    "duration": 31,
    "start_time": "2021-12-14T16:04:23.995Z"
   },
   {
    "duration": 37,
    "start_time": "2021-12-14T16:04:24.029Z"
   },
   {
    "duration": 46,
    "start_time": "2021-12-14T16:04:24.069Z"
   },
   {
    "duration": 9,
    "start_time": "2021-12-14T16:04:24.118Z"
   },
   {
    "duration": 2846,
    "start_time": "2021-12-14T16:04:24.130Z"
   },
   {
    "duration": 20,
    "start_time": "2021-12-14T16:04:26.979Z"
   },
   {
    "duration": 6,
    "start_time": "2021-12-14T16:04:27.002Z"
   },
   {
    "duration": 11,
    "start_time": "2021-12-14T16:04:27.011Z"
   },
   {
    "duration": 44,
    "start_time": "2021-12-14T16:04:27.025Z"
   },
   {
    "duration": 21,
    "start_time": "2021-12-14T16:04:27.071Z"
   },
   {
    "duration": 66,
    "start_time": "2021-12-14T16:04:27.095Z"
   },
   {
    "duration": 33,
    "start_time": "2021-12-14T16:04:27.163Z"
   },
   {
    "duration": 15,
    "start_time": "2021-12-14T16:04:27.198Z"
   },
   {
    "duration": 13,
    "start_time": "2021-12-14T16:04:31.292Z"
   },
   {
    "duration": 9489,
    "start_time": "2021-12-14T16:04:35.133Z"
   },
   {
    "duration": 379,
    "start_time": "2021-12-14T16:13:06.115Z"
   },
   {
    "duration": 384,
    "start_time": "2021-12-14T16:13:39.898Z"
   },
   {
    "duration": 3204,
    "start_time": "2021-12-14T16:16:25.591Z"
   },
   {
    "duration": 3104,
    "start_time": "2021-12-14T16:19:11.853Z"
   },
   {
    "duration": 5513,
    "start_time": "2021-12-14T16:20:04.637Z"
   },
   {
    "duration": 3585,
    "start_time": "2021-12-14T16:22:13.623Z"
   },
   {
    "duration": 878,
    "start_time": "2021-12-14T16:28:43.056Z"
   },
   {
    "duration": 85,
    "start_time": "2021-12-14T16:28:43.937Z"
   },
   {
    "duration": 44,
    "start_time": "2021-12-14T16:28:44.026Z"
   },
   {
    "duration": 14,
    "start_time": "2021-12-14T16:28:44.073Z"
   },
   {
    "duration": 77,
    "start_time": "2021-12-14T16:28:44.089Z"
   },
   {
    "duration": 9,
    "start_time": "2021-12-14T16:28:44.169Z"
   },
   {
    "duration": 3068,
    "start_time": "2021-12-14T16:28:44.181Z"
   },
   {
    "duration": 23,
    "start_time": "2021-12-14T16:28:47.252Z"
   },
   {
    "duration": 6,
    "start_time": "2021-12-14T16:28:47.279Z"
   },
   {
    "duration": 11,
    "start_time": "2021-12-14T16:28:47.288Z"
   },
   {
    "duration": 14,
    "start_time": "2021-12-14T16:28:47.302Z"
   },
   {
    "duration": 22,
    "start_time": "2021-12-14T16:28:47.359Z"
   },
   {
    "duration": 62,
    "start_time": "2021-12-14T16:28:47.384Z"
   },
   {
    "duration": 44,
    "start_time": "2021-12-14T16:28:47.459Z"
   },
   {
    "duration": 3473,
    "start_time": "2021-12-14T16:28:58.155Z"
   },
   {
    "duration": 23,
    "start_time": "2021-12-14T16:29:24.892Z"
   },
   {
    "duration": 772,
    "start_time": "2021-12-14T16:35:15.169Z"
   },
   {
    "duration": 3479,
    "start_time": "2021-12-14T16:35:59.806Z"
   },
   {
    "duration": 21,
    "start_time": "2021-12-14T16:36:05.916Z"
   },
   {
    "duration": 53,
    "start_time": "2021-12-14T16:37:50.929Z"
   },
   {
    "duration": 37,
    "start_time": "2021-12-14T16:37:53.092Z"
   },
   {
    "duration": 17,
    "start_time": "2021-12-14T16:37:54.817Z"
   },
   {
    "duration": 15,
    "start_time": "2021-12-14T16:37:56.050Z"
   },
   {
    "duration": 802,
    "start_time": "2021-12-14T16:38:03.727Z"
   },
   {
    "duration": 69,
    "start_time": "2021-12-14T16:38:04.532Z"
   },
   {
    "duration": 32,
    "start_time": "2021-12-14T16:38:04.605Z"
   },
   {
    "duration": 30,
    "start_time": "2021-12-14T16:38:04.640Z"
   },
   {
    "duration": 51,
    "start_time": "2021-12-14T16:38:04.673Z"
   },
   {
    "duration": 39,
    "start_time": "2021-12-14T16:38:04.726Z"
   },
   {
    "duration": 4877,
    "start_time": "2021-12-14T16:38:04.768Z"
   },
   {
    "duration": 32,
    "start_time": "2021-12-14T16:38:09.649Z"
   },
   {
    "duration": 7,
    "start_time": "2021-12-14T16:38:09.684Z"
   },
   {
    "duration": 18,
    "start_time": "2021-12-14T16:38:09.694Z"
   },
   {
    "duration": 19,
    "start_time": "2021-12-14T16:38:09.715Z"
   },
   {
    "duration": 42,
    "start_time": "2021-12-14T16:38:09.737Z"
   },
   {
    "duration": 87,
    "start_time": "2021-12-14T16:38:09.782Z"
   },
   {
    "duration": 38,
    "start_time": "2021-12-14T16:38:09.872Z"
   },
   {
    "duration": 57,
    "start_time": "2021-12-14T16:38:09.914Z"
   },
   {
    "duration": 15,
    "start_time": "2021-12-14T16:38:17.749Z"
   },
   {
    "duration": 19,
    "start_time": "2021-12-14T16:38:19.609Z"
   },
   {
    "duration": 708,
    "start_time": "2021-12-14T16:40:10.050Z"
   },
   {
    "duration": 822,
    "start_time": "2021-12-14T16:44:21.533Z"
   },
   {
    "duration": 76,
    "start_time": "2021-12-14T16:44:22.360Z"
   },
   {
    "duration": 31,
    "start_time": "2021-12-14T16:44:22.439Z"
   },
   {
    "duration": 16,
    "start_time": "2021-12-14T16:44:22.473Z"
   },
   {
    "duration": 73,
    "start_time": "2021-12-14T16:44:22.492Z"
   },
   {
    "duration": 10,
    "start_time": "2021-12-14T16:44:22.567Z"
   },
   {
    "duration": 2987,
    "start_time": "2021-12-14T16:44:22.579Z"
   },
   {
    "duration": 21,
    "start_time": "2021-12-14T16:44:25.568Z"
   },
   {
    "duration": 7,
    "start_time": "2021-12-14T16:44:25.595Z"
   },
   {
    "duration": 15,
    "start_time": "2021-12-14T16:44:25.605Z"
   },
   {
    "duration": 17,
    "start_time": "2021-12-14T16:44:25.660Z"
   },
   {
    "duration": 24,
    "start_time": "2021-12-14T16:44:25.680Z"
   },
   {
    "duration": 79,
    "start_time": "2021-12-14T16:44:25.707Z"
   },
   {
    "duration": 35,
    "start_time": "2021-12-14T16:44:25.789Z"
   },
   {
    "duration": 42,
    "start_time": "2021-12-14T16:44:25.827Z"
   },
   {
    "duration": 13,
    "start_time": "2021-12-14T16:44:25.871Z"
   },
   {
    "duration": 502,
    "start_time": "2021-12-14T16:44:25.886Z"
   },
   {
    "duration": 766,
    "start_time": "2021-12-14T16:44:41.615Z"
   },
   {
    "duration": 70,
    "start_time": "2021-12-14T16:44:42.384Z"
   },
   {
    "duration": 31,
    "start_time": "2021-12-14T16:44:42.457Z"
   },
   {
    "duration": 15,
    "start_time": "2021-12-14T16:44:42.491Z"
   },
   {
    "duration": 81,
    "start_time": "2021-12-14T16:44:42.508Z"
   },
   {
    "duration": 9,
    "start_time": "2021-12-14T16:44:42.592Z"
   },
   {
    "duration": 2827,
    "start_time": "2021-12-14T16:44:42.604Z"
   },
   {
    "duration": 26,
    "start_time": "2021-12-14T16:44:45.435Z"
   },
   {
    "duration": 8,
    "start_time": "2021-12-14T16:44:45.463Z"
   },
   {
    "duration": 12,
    "start_time": "2021-12-14T16:44:45.473Z"
   },
   {
    "duration": 13,
    "start_time": "2021-12-14T16:44:45.488Z"
   },
   {
    "duration": 61,
    "start_time": "2021-12-14T16:44:45.504Z"
   },
   {
    "duration": 43,
    "start_time": "2021-12-14T16:44:45.568Z"
   },
   {
    "duration": 52,
    "start_time": "2021-12-14T16:44:45.613Z"
   },
   {
    "duration": 17,
    "start_time": "2021-12-14T16:44:45.667Z"
   },
   {
    "duration": 13,
    "start_time": "2021-12-14T16:44:45.687Z"
   },
   {
    "duration": 14,
    "start_time": "2021-12-14T16:44:48.578Z"
   },
   {
    "duration": 3194,
    "start_time": "2021-12-14T16:44:53.109Z"
   },
   {
    "duration": 21,
    "start_time": "2021-12-14T16:44:56.306Z"
   },
   {
    "duration": 519,
    "start_time": "2021-12-14T16:45:15.260Z"
   },
   {
    "duration": 393,
    "start_time": "2021-12-14T16:45:21.956Z"
   },
   {
    "duration": 389,
    "start_time": "2021-12-14T16:45:40.006Z"
   },
   {
    "duration": 3369,
    "start_time": "2021-12-14T16:50:00.820Z"
   },
   {
    "duration": 21,
    "start_time": "2021-12-14T16:50:10.569Z"
   },
   {
    "duration": 3140,
    "start_time": "2021-12-14T16:50:26.034Z"
   },
   {
    "duration": 3300,
    "start_time": "2021-12-14T16:50:31.000Z"
   },
   {
    "duration": 21,
    "start_time": "2021-12-14T16:50:35.622Z"
   },
   {
    "duration": 23,
    "start_time": "2021-12-14T16:50:40.197Z"
   },
   {
    "duration": 350,
    "start_time": "2021-12-14T16:52:05.259Z"
   },
   {
    "duration": 348,
    "start_time": "2021-12-14T16:52:05.263Z"
   },
   {
    "duration": 3338,
    "start_time": "2021-12-14T16:52:13.705Z"
   },
   {
    "duration": 20,
    "start_time": "2021-12-14T16:52:21.024Z"
   },
   {
    "duration": 780,
    "start_time": "2021-12-14T16:52:38.649Z"
   },
   {
    "duration": 65,
    "start_time": "2021-12-14T16:52:39.432Z"
   },
   {
    "duration": 30,
    "start_time": "2021-12-14T16:52:39.501Z"
   },
   {
    "duration": 27,
    "start_time": "2021-12-14T16:52:39.534Z"
   },
   {
    "duration": 46,
    "start_time": "2021-12-14T16:52:39.564Z"
   },
   {
    "duration": 9,
    "start_time": "2021-12-14T16:52:39.613Z"
   },
   {
    "duration": 2825,
    "start_time": "2021-12-14T16:52:39.624Z"
   },
   {
    "duration": 24,
    "start_time": "2021-12-14T16:52:42.452Z"
   },
   {
    "duration": 6,
    "start_time": "2021-12-14T16:52:42.478Z"
   },
   {
    "duration": 11,
    "start_time": "2021-12-14T16:52:42.487Z"
   },
   {
    "duration": 13,
    "start_time": "2021-12-14T16:52:42.501Z"
   },
   {
    "duration": 57,
    "start_time": "2021-12-14T16:52:42.516Z"
   },
   {
    "duration": 41,
    "start_time": "2021-12-14T16:52:42.576Z"
   },
   {
    "duration": 54,
    "start_time": "2021-12-14T16:52:42.620Z"
   },
   {
    "duration": 16,
    "start_time": "2021-12-14T16:52:42.676Z"
   },
   {
    "duration": 13,
    "start_time": "2021-12-14T16:52:42.694Z"
   },
   {
    "duration": 3547,
    "start_time": "2021-12-14T16:52:56.092Z"
   },
   {
    "duration": 3552,
    "start_time": "2021-12-14T16:53:15.893Z"
   },
   {
    "duration": 22,
    "start_time": "2021-12-14T16:53:22.744Z"
   },
   {
    "duration": 464,
    "start_time": "2021-12-14T16:54:37.821Z"
   },
   {
    "duration": 370,
    "start_time": "2021-12-14T16:54:50.615Z"
   },
   {
    "duration": 3608,
    "start_time": "2021-12-14T16:56:24.138Z"
   },
   {
    "duration": 21,
    "start_time": "2021-12-14T16:56:27.883Z"
   },
   {
    "duration": 3511,
    "start_time": "2021-12-14T16:57:00.566Z"
   },
   {
    "duration": 138,
    "start_time": "2021-12-14T16:58:19.010Z"
   },
   {
    "duration": 182,
    "start_time": "2021-12-14T16:58:54.869Z"
   },
   {
    "duration": 134,
    "start_time": "2021-12-14T16:59:15.172Z"
   },
   {
    "duration": 128,
    "start_time": "2021-12-14T16:59:17.949Z"
   },
   {
    "duration": 381,
    "start_time": "2021-12-14T16:59:26.123Z"
   },
   {
    "duration": 394,
    "start_time": "2021-12-14T16:59:47.001Z"
   },
   {
    "duration": 4304,
    "start_time": "2021-12-14T17:00:47.837Z"
   },
   {
    "duration": 22,
    "start_time": "2021-12-14T17:00:55.094Z"
   },
   {
    "duration": 20,
    "start_time": "2021-12-14T17:00:58.519Z"
   },
   {
    "duration": 424,
    "start_time": "2021-12-14T17:01:23.788Z"
   },
   {
    "duration": 833,
    "start_time": "2021-12-14T17:01:56.371Z"
   },
   {
    "duration": 4349,
    "start_time": "2021-12-14T17:02:02.950Z"
   },
   {
    "duration": 521,
    "start_time": "2021-12-14T17:02:16.162Z"
   },
   {
    "duration": 551,
    "start_time": "2021-12-14T17:02:31.768Z"
   },
   {
    "duration": 4129,
    "start_time": "2021-12-14T17:04:07.775Z"
   },
   {
    "duration": 139,
    "start_time": "2021-12-14T17:04:32.882Z"
   },
   {
    "duration": 3125,
    "start_time": "2021-12-14T17:04:41.791Z"
   },
   {
    "duration": 376,
    "start_time": "2021-12-14T17:06:10.277Z"
   },
   {
    "duration": 490,
    "start_time": "2021-12-14T17:06:51.682Z"
   },
   {
    "duration": 996,
    "start_time": "2021-12-14T17:07:10.327Z"
   },
   {
    "duration": 82,
    "start_time": "2021-12-14T17:07:11.326Z"
   },
   {
    "duration": 58,
    "start_time": "2021-12-14T17:07:11.412Z"
   },
   {
    "duration": 16,
    "start_time": "2021-12-14T17:07:11.473Z"
   },
   {
    "duration": 87,
    "start_time": "2021-12-14T17:07:11.493Z"
   },
   {
    "duration": 10,
    "start_time": "2021-12-14T17:07:11.583Z"
   },
   {
    "duration": 3681,
    "start_time": "2021-12-14T17:07:11.595Z"
   },
   {
    "duration": 24,
    "start_time": "2021-12-14T17:07:15.280Z"
   },
   {
    "duration": 14,
    "start_time": "2021-12-14T17:07:15.307Z"
   },
   {
    "duration": 41,
    "start_time": "2021-12-14T17:07:15.324Z"
   },
   {
    "duration": 18,
    "start_time": "2021-12-14T17:07:15.368Z"
   },
   {
    "duration": 33,
    "start_time": "2021-12-14T17:07:15.389Z"
   },
   {
    "duration": 74,
    "start_time": "2021-12-14T17:07:15.425Z"
   },
   {
    "duration": 57,
    "start_time": "2021-12-14T17:07:15.502Z"
   },
   {
    "duration": 15,
    "start_time": "2021-12-14T17:07:15.561Z"
   },
   {
    "duration": 14,
    "start_time": "2021-12-14T17:07:15.578Z"
   },
   {
    "duration": 609,
    "start_time": "2021-12-14T17:07:18.804Z"
   },
   {
    "duration": 399,
    "start_time": "2021-12-14T17:07:47.845Z"
   },
   {
    "duration": 370,
    "start_time": "2021-12-14T17:07:57.955Z"
   },
   {
    "duration": 382,
    "start_time": "2021-12-14T17:08:08.475Z"
   },
   {
    "duration": 388,
    "start_time": "2021-12-14T17:08:14.511Z"
   },
   {
    "duration": 31,
    "start_time": "2021-12-14T17:09:19.845Z"
   },
   {
    "duration": 33,
    "start_time": "2021-12-14T17:09:26.448Z"
   },
   {
    "duration": 4165,
    "start_time": "2021-12-14T17:09:44.394Z"
   },
   {
    "duration": 4062,
    "start_time": "2021-12-14T17:09:51.926Z"
   },
   {
    "duration": 785,
    "start_time": "2021-12-14T17:10:29.149Z"
   },
   {
    "duration": 67,
    "start_time": "2021-12-14T17:10:29.936Z"
   },
   {
    "duration": 33,
    "start_time": "2021-12-14T17:10:30.006Z"
   },
   {
    "duration": 29,
    "start_time": "2021-12-14T17:10:30.043Z"
   },
   {
    "duration": 55,
    "start_time": "2021-12-14T17:10:30.075Z"
   },
   {
    "duration": 28,
    "start_time": "2021-12-14T17:10:30.133Z"
   },
   {
    "duration": 2869,
    "start_time": "2021-12-14T17:10:30.163Z"
   },
   {
    "duration": 26,
    "start_time": "2021-12-14T17:10:33.035Z"
   },
   {
    "duration": 7,
    "start_time": "2021-12-14T17:10:33.064Z"
   },
   {
    "duration": 15,
    "start_time": "2021-12-14T17:10:33.074Z"
   },
   {
    "duration": 16,
    "start_time": "2021-12-14T17:10:33.092Z"
   },
   {
    "duration": 69,
    "start_time": "2021-12-14T17:10:33.111Z"
   },
   {
    "duration": 44,
    "start_time": "2021-12-14T17:10:33.183Z"
   },
   {
    "duration": 61,
    "start_time": "2021-12-14T17:10:33.230Z"
   },
   {
    "duration": 17,
    "start_time": "2021-12-14T17:10:33.295Z"
   },
   {
    "duration": 46,
    "start_time": "2021-12-14T17:10:33.314Z"
   },
   {
    "duration": 3865,
    "start_time": "2021-12-14T17:10:36.821Z"
   },
   {
    "duration": 4147,
    "start_time": "2021-12-14T17:10:49.948Z"
   },
   {
    "duration": 604,
    "start_time": "2021-12-14T17:11:06.052Z"
   },
   {
    "duration": 408,
    "start_time": "2021-12-14T17:11:51.876Z"
   },
   {
    "duration": 443,
    "start_time": "2021-12-14T17:12:02.498Z"
   },
   {
    "duration": 732,
    "start_time": "2021-12-14T17:12:25.847Z"
   },
   {
    "duration": 792,
    "start_time": "2021-12-14T17:12:35.033Z"
   },
   {
    "duration": 65,
    "start_time": "2021-12-14T17:12:35.828Z"
   },
   {
    "duration": 31,
    "start_time": "2021-12-14T17:12:35.896Z"
   },
   {
    "duration": 34,
    "start_time": "2021-12-14T17:12:35.929Z"
   },
   {
    "duration": 61,
    "start_time": "2021-12-14T17:12:35.965Z"
   },
   {
    "duration": 31,
    "start_time": "2021-12-14T17:12:36.028Z"
   },
   {
    "duration": 2893,
    "start_time": "2021-12-14T17:12:36.061Z"
   },
   {
    "duration": 19,
    "start_time": "2021-12-14T17:12:38.960Z"
   },
   {
    "duration": 8,
    "start_time": "2021-12-14T17:12:38.981Z"
   },
   {
    "duration": 13,
    "start_time": "2021-12-14T17:12:38.991Z"
   },
   {
    "duration": 54,
    "start_time": "2021-12-14T17:12:39.007Z"
   },
   {
    "duration": 21,
    "start_time": "2021-12-14T17:12:39.064Z"
   },
   {
    "duration": 40,
    "start_time": "2021-12-14T17:12:39.087Z"
   },
   {
    "duration": 60,
    "start_time": "2021-12-14T17:12:39.129Z"
   },
   {
    "duration": 18,
    "start_time": "2021-12-14T17:12:39.192Z"
   },
   {
    "duration": 14,
    "start_time": "2021-12-14T17:12:39.213Z"
   },
   {
    "duration": 503,
    "start_time": "2021-12-14T17:12:41.311Z"
   },
   {
    "duration": 4001,
    "start_time": "2021-12-14T17:12:50.731Z"
   },
   {
    "duration": 26,
    "start_time": "2021-12-14T17:12:54.735Z"
   },
   {
    "duration": 826,
    "start_time": "2021-12-14T17:15:31.635Z"
   },
   {
    "duration": 22,
    "start_time": "2021-12-14T17:15:33.979Z"
   },
   {
    "duration": 667,
    "start_time": "2021-12-14T17:16:05.980Z"
   },
   {
    "duration": 22,
    "start_time": "2021-12-14T17:16:08.421Z"
   },
   {
    "duration": 969,
    "start_time": "2021-12-14T17:16:22.695Z"
   },
   {
    "duration": 69,
    "start_time": "2021-12-14T17:16:23.666Z"
   },
   {
    "duration": 45,
    "start_time": "2021-12-14T17:16:23.737Z"
   },
   {
    "duration": 20,
    "start_time": "2021-12-14T17:16:23.786Z"
   },
   {
    "duration": 78,
    "start_time": "2021-12-14T17:16:23.808Z"
   },
   {
    "duration": 9,
    "start_time": "2021-12-14T17:16:23.889Z"
   },
   {
    "duration": 3626,
    "start_time": "2021-12-14T17:16:23.900Z"
   },
   {
    "duration": 30,
    "start_time": "2021-12-14T17:16:27.529Z"
   },
   {
    "duration": 12,
    "start_time": "2021-12-14T17:16:27.562Z"
   },
   {
    "duration": 14,
    "start_time": "2021-12-14T17:16:27.577Z"
   },
   {
    "duration": 18,
    "start_time": "2021-12-14T17:16:27.594Z"
   },
   {
    "duration": 58,
    "start_time": "2021-12-14T17:16:27.616Z"
   },
   {
    "duration": 60,
    "start_time": "2021-12-14T17:16:27.677Z"
   },
   {
    "duration": 49,
    "start_time": "2021-12-14T17:16:27.740Z"
   },
   {
    "duration": 18,
    "start_time": "2021-12-14T17:16:27.792Z"
   },
   {
    "duration": 17,
    "start_time": "2021-12-14T17:16:27.813Z"
   },
   {
    "duration": 810,
    "start_time": "2021-12-14T17:16:27.833Z"
   },
   {
    "duration": 697,
    "start_time": "2021-12-14T17:16:32.581Z"
   },
   {
    "duration": 21,
    "start_time": "2021-12-14T17:16:34.581Z"
   },
   {
    "duration": 464,
    "start_time": "2021-12-14T17:19:19.481Z"
   },
   {
    "duration": 997,
    "start_time": "2021-12-14T17:23:17.991Z"
   },
   {
    "duration": 22,
    "start_time": "2021-12-14T17:23:28.470Z"
   },
   {
    "duration": 717,
    "start_time": "2021-12-14T17:27:58.135Z"
   },
   {
    "duration": 22,
    "start_time": "2021-12-14T17:28:00.160Z"
   },
   {
    "duration": 1378,
    "start_time": "2021-12-14T17:28:16.569Z"
   },
   {
    "duration": 791,
    "start_time": "2021-12-14T17:28:31.515Z"
   },
   {
    "duration": 95,
    "start_time": "2021-12-14T17:28:32.309Z"
   },
   {
    "duration": 55,
    "start_time": "2021-12-14T17:28:32.408Z"
   },
   {
    "duration": 15,
    "start_time": "2021-12-14T17:28:32.465Z"
   },
   {
    "duration": 49,
    "start_time": "2021-12-14T17:28:32.482Z"
   },
   {
    "duration": 34,
    "start_time": "2021-12-14T17:28:32.533Z"
   },
   {
    "duration": 2882,
    "start_time": "2021-12-14T17:28:32.570Z"
   },
   {
    "duration": 19,
    "start_time": "2021-12-14T17:28:35.455Z"
   },
   {
    "duration": 12,
    "start_time": "2021-12-14T17:28:35.476Z"
   },
   {
    "duration": 12,
    "start_time": "2021-12-14T17:28:35.491Z"
   },
   {
    "duration": 12,
    "start_time": "2021-12-14T17:28:35.506Z"
   },
   {
    "duration": 59,
    "start_time": "2021-12-14T17:28:35.521Z"
   },
   {
    "duration": 38,
    "start_time": "2021-12-14T17:28:35.582Z"
   },
   {
    "duration": 53,
    "start_time": "2021-12-14T17:28:35.622Z"
   },
   {
    "duration": 16,
    "start_time": "2021-12-14T17:28:35.677Z"
   },
   {
    "duration": 12,
    "start_time": "2021-12-14T17:28:35.695Z"
   },
   {
    "duration": 1146,
    "start_time": "2021-12-14T17:28:44.027Z"
   },
   {
    "duration": 21,
    "start_time": "2021-12-14T17:28:46.407Z"
   },
   {
    "duration": 581,
    "start_time": "2021-12-14T17:29:44.815Z"
   },
   {
    "duration": 22,
    "start_time": "2021-12-14T17:29:47.332Z"
   },
   {
    "duration": 757,
    "start_time": "2021-12-14T17:29:57.477Z"
   },
   {
    "duration": 63,
    "start_time": "2021-12-14T17:29:58.237Z"
   },
   {
    "duration": 30,
    "start_time": "2021-12-14T17:29:58.303Z"
   },
   {
    "duration": 26,
    "start_time": "2021-12-14T17:29:58.335Z"
   },
   {
    "duration": 51,
    "start_time": "2021-12-14T17:29:58.364Z"
   },
   {
    "duration": 9,
    "start_time": "2021-12-14T17:29:58.418Z"
   },
   {
    "duration": 3229,
    "start_time": "2021-12-14T17:29:58.430Z"
   },
   {
    "duration": 20,
    "start_time": "2021-12-14T17:30:01.663Z"
   },
   {
    "duration": 17,
    "start_time": "2021-12-14T17:30:01.686Z"
   },
   {
    "duration": 27,
    "start_time": "2021-12-14T17:30:01.705Z"
   },
   {
    "duration": 25,
    "start_time": "2021-12-14T17:30:01.734Z"
   },
   {
    "duration": 24,
    "start_time": "2021-12-14T17:30:01.762Z"
   },
   {
    "duration": 39,
    "start_time": "2021-12-14T17:30:01.788Z"
   },
   {
    "duration": 55,
    "start_time": "2021-12-14T17:30:01.829Z"
   },
   {
    "duration": 15,
    "start_time": "2021-12-14T17:30:01.887Z"
   },
   {
    "duration": 16,
    "start_time": "2021-12-14T17:30:01.904Z"
   },
   {
    "duration": 1252,
    "start_time": "2021-12-14T17:30:04.921Z"
   },
   {
    "duration": 21,
    "start_time": "2021-12-14T17:30:07.821Z"
   },
   {
    "duration": 13,
    "start_time": "2021-12-14T17:35:15.808Z"
   },
   {
    "duration": 754,
    "start_time": "2021-12-14T17:43:19.372Z"
   },
   {
    "duration": 66,
    "start_time": "2021-12-14T17:43:20.129Z"
   },
   {
    "duration": 34,
    "start_time": "2021-12-14T17:43:20.200Z"
   },
   {
    "duration": 29,
    "start_time": "2021-12-14T17:43:20.237Z"
   },
   {
    "duration": 46,
    "start_time": "2021-12-14T17:43:20.269Z"
   },
   {
    "duration": 9,
    "start_time": "2021-12-14T17:43:20.317Z"
   },
   {
    "duration": 3033,
    "start_time": "2021-12-14T17:43:20.328Z"
   },
   {
    "duration": 19,
    "start_time": "2021-12-14T17:43:23.364Z"
   },
   {
    "duration": 7,
    "start_time": "2021-12-14T17:43:23.385Z"
   },
   {
    "duration": 14,
    "start_time": "2021-12-14T17:43:23.395Z"
   },
   {
    "duration": 47,
    "start_time": "2021-12-14T17:43:23.412Z"
   },
   {
    "duration": 22,
    "start_time": "2021-12-14T17:43:23.462Z"
   },
   {
    "duration": 40,
    "start_time": "2021-12-14T17:43:29.558Z"
   },
   {
    "duration": 34,
    "start_time": "2021-12-14T17:43:30.722Z"
   },
   {
    "duration": 17,
    "start_time": "2021-12-14T17:43:31.540Z"
   },
   {
    "duration": 8067,
    "start_time": "2021-12-14T17:43:34.095Z"
   },
   {
    "duration": 21,
    "start_time": "2021-12-14T17:43:42.164Z"
   },
   {
    "duration": 13,
    "start_time": "2021-12-14T17:43:59.411Z"
   },
   {
    "duration": 493,
    "start_time": "2021-12-14T17:50:37.472Z"
   },
   {
    "duration": 772,
    "start_time": "2021-12-14T17:50:53.137Z"
   },
   {
    "duration": 64,
    "start_time": "2021-12-14T17:50:53.911Z"
   },
   {
    "duration": 29,
    "start_time": "2021-12-14T17:50:53.978Z"
   },
   {
    "duration": 15,
    "start_time": "2021-12-14T17:50:54.010Z"
   },
   {
    "duration": 67,
    "start_time": "2021-12-14T17:50:54.027Z"
   },
   {
    "duration": 9,
    "start_time": "2021-12-14T17:50:54.096Z"
   },
   {
    "duration": 3023,
    "start_time": "2021-12-14T17:50:54.107Z"
   },
   {
    "duration": 27,
    "start_time": "2021-12-14T17:50:57.132Z"
   },
   {
    "duration": 7,
    "start_time": "2021-12-14T17:50:57.162Z"
   },
   {
    "duration": 14,
    "start_time": "2021-12-14T17:50:57.172Z"
   },
   {
    "duration": 16,
    "start_time": "2021-12-14T17:50:57.189Z"
   },
   {
    "duration": 71,
    "start_time": "2021-12-14T17:50:57.208Z"
   },
   {
    "duration": 38,
    "start_time": "2021-12-14T17:50:57.281Z"
   },
   {
    "duration": 53,
    "start_time": "2021-12-14T17:50:57.321Z"
   },
   {
    "duration": 15,
    "start_time": "2021-12-14T17:50:57.377Z"
   },
   {
    "duration": 8574,
    "start_time": "2021-12-14T17:50:57.394Z"
   },
   {
    "duration": 23,
    "start_time": "2021-12-14T17:51:05.970Z"
   },
   {
    "duration": 15,
    "start_time": "2021-12-14T17:51:05.996Z"
   },
   {
    "duration": 13,
    "start_time": "2021-12-14T17:51:16.184Z"
   },
   {
    "duration": 4995,
    "start_time": "2021-12-14T17:51:19.265Z"
   },
   {
    "duration": 458,
    "start_time": "2021-12-14T17:59:26.922Z"
   },
   {
    "duration": 872,
    "start_time": "2021-12-14T17:59:57.910Z"
   },
   {
    "duration": 73,
    "start_time": "2021-12-14T17:59:58.784Z"
   },
   {
    "duration": 30,
    "start_time": "2021-12-14T17:59:58.860Z"
   },
   {
    "duration": 14,
    "start_time": "2021-12-14T17:59:58.892Z"
   },
   {
    "duration": 76,
    "start_time": "2021-12-14T17:59:58.909Z"
   },
   {
    "duration": 8,
    "start_time": "2021-12-14T17:59:58.987Z"
   },
   {
    "duration": 3097,
    "start_time": "2021-12-14T17:59:58.998Z"
   },
   {
    "duration": 19,
    "start_time": "2021-12-14T18:00:02.098Z"
   },
   {
    "duration": 26,
    "start_time": "2021-12-14T18:00:02.120Z"
   },
   {
    "duration": 26,
    "start_time": "2021-12-14T18:00:02.149Z"
   },
   {
    "duration": 14,
    "start_time": "2021-12-14T18:00:02.177Z"
   },
   {
    "duration": 22,
    "start_time": "2021-12-14T18:00:02.194Z"
   },
   {
    "duration": 71,
    "start_time": "2021-12-14T18:00:02.218Z"
   },
   {
    "duration": 33,
    "start_time": "2021-12-14T18:00:02.291Z"
   },
   {
    "duration": 40,
    "start_time": "2021-12-14T18:00:02.327Z"
   },
   {
    "duration": 8132,
    "start_time": "2021-12-14T18:00:02.369Z"
   },
   {
    "duration": 22,
    "start_time": "2021-12-14T18:00:10.503Z"
   },
   {
    "duration": 33,
    "start_time": "2021-12-14T18:00:10.527Z"
   },
   {
    "duration": 4907,
    "start_time": "2021-12-14T18:00:20.728Z"
   },
   {
    "duration": 528,
    "start_time": "2021-12-14T18:00:28.961Z"
   },
   {
    "duration": 8,
    "start_time": "2021-12-14T18:00:41.202Z"
   },
   {
    "duration": 148,
    "start_time": "2021-12-14T18:01:41.128Z"
   },
   {
    "duration": 1027,
    "start_time": "2021-12-14T18:03:43.526Z"
   },
   {
    "duration": 90,
    "start_time": "2021-12-14T18:03:44.556Z"
   },
   {
    "duration": 37,
    "start_time": "2021-12-14T18:03:44.649Z"
   },
   {
    "duration": 19,
    "start_time": "2021-12-14T18:03:44.690Z"
   },
   {
    "duration": 103,
    "start_time": "2021-12-14T18:03:44.713Z"
   },
   {
    "duration": 14,
    "start_time": "2021-12-14T18:03:44.819Z"
   },
   {
    "duration": 3725,
    "start_time": "2021-12-14T18:03:44.836Z"
   },
   {
    "duration": 23,
    "start_time": "2021-12-14T18:03:48.566Z"
   },
   {
    "duration": 9,
    "start_time": "2021-12-14T18:03:48.593Z"
   },
   {
    "duration": 15,
    "start_time": "2021-12-14T18:03:48.604Z"
   },
   {
    "duration": 54,
    "start_time": "2021-12-14T18:03:48.622Z"
   },
   {
    "duration": 23,
    "start_time": "2021-12-14T18:03:48.679Z"
   },
   {
    "duration": 88,
    "start_time": "2021-12-14T18:03:48.705Z"
   },
   {
    "duration": 64,
    "start_time": "2021-12-14T18:03:48.797Z"
   },
   {
    "duration": 22,
    "start_time": "2021-12-14T18:03:48.864Z"
   },
   {
    "duration": 9054,
    "start_time": "2021-12-14T18:03:48.889Z"
   },
   {
    "duration": 26,
    "start_time": "2021-12-14T18:03:57.945Z"
   },
   {
    "duration": 12,
    "start_time": "2021-12-14T18:03:57.974Z"
   },
   {
    "duration": 4445,
    "start_time": "2021-12-14T18:03:57.989Z"
   },
   {
    "duration": 6,
    "start_time": "2021-12-14T18:04:02.436Z"
   },
   {
    "duration": 7,
    "start_time": "2021-12-14T18:04:10.232Z"
   },
   {
    "duration": 16,
    "start_time": "2021-12-14T18:04:15.561Z"
   },
   {
    "duration": 8,
    "start_time": "2021-12-14T18:05:02.204Z"
   },
   {
    "duration": 14,
    "start_time": "2021-12-14T18:05:05.215Z"
   },
   {
    "duration": 15,
    "start_time": "2021-12-14T18:05:22.549Z"
   },
   {
    "duration": 25,
    "start_time": "2021-12-14T18:05:24.715Z"
   },
   {
    "duration": 30,
    "start_time": "2021-12-14T18:05:26.428Z"
   },
   {
    "duration": 21,
    "start_time": "2021-12-14T18:05:27.955Z"
   },
   {
    "duration": 26,
    "start_time": "2021-12-14T18:05:45.498Z"
   },
   {
    "duration": 20,
    "start_time": "2021-12-14T18:06:33.679Z"
   },
   {
    "duration": 1023,
    "start_time": "2021-12-14T18:06:35.246Z"
   },
   {
    "duration": 5,
    "start_time": "2021-12-14T18:06:37.802Z"
   },
   {
    "duration": 5,
    "start_time": "2021-12-14T18:06:43.701Z"
   },
   {
    "duration": 3868,
    "start_time": "2021-12-14T18:06:48.791Z"
   },
   {
    "duration": 17,
    "start_time": "2021-12-14T18:06:52.662Z"
   },
   {
    "duration": 6,
    "start_time": "2021-12-14T18:13:19.933Z"
   },
   {
    "duration": 6,
    "start_time": "2021-12-14T18:16:48.468Z"
   },
   {
    "duration": 9,
    "start_time": "2021-12-14T18:26:56.765Z"
   },
   {
    "duration": 792,
    "start_time": "2021-12-14T18:33:50.552Z"
   },
   {
    "duration": 66,
    "start_time": "2021-12-14T18:33:51.346Z"
   },
   {
    "duration": 29,
    "start_time": "2021-12-14T18:33:51.415Z"
   },
   {
    "duration": 14,
    "start_time": "2021-12-14T18:33:51.459Z"
   },
   {
    "duration": 47,
    "start_time": "2021-12-14T18:33:51.476Z"
   },
   {
    "duration": 38,
    "start_time": "2021-12-14T18:33:51.525Z"
   },
   {
    "duration": 2899,
    "start_time": "2021-12-14T18:33:51.566Z"
   },
   {
    "duration": 19,
    "start_time": "2021-12-14T18:33:54.468Z"
   },
   {
    "duration": 6,
    "start_time": "2021-12-14T18:33:54.491Z"
   },
   {
    "duration": 12,
    "start_time": "2021-12-14T18:33:54.499Z"
   },
   {
    "duration": 50,
    "start_time": "2021-12-14T18:33:54.513Z"
   },
   {
    "duration": 20,
    "start_time": "2021-12-14T18:33:54.565Z"
   },
   {
    "duration": 41,
    "start_time": "2021-12-14T18:33:54.588Z"
   },
   {
    "duration": 57,
    "start_time": "2021-12-14T18:33:54.631Z"
   },
   {
    "duration": 15,
    "start_time": "2021-12-14T18:33:54.691Z"
   },
   {
    "duration": 8076,
    "start_time": "2021-12-14T18:33:54.709Z"
   },
   {
    "duration": 22,
    "start_time": "2021-12-14T18:34:02.787Z"
   },
   {
    "duration": 14,
    "start_time": "2021-12-14T18:34:02.812Z"
   },
   {
    "duration": 4576,
    "start_time": "2021-12-14T18:34:02.828Z"
   },
   {
    "duration": 6,
    "start_time": "2021-12-14T18:34:07.406Z"
   },
   {
    "duration": 13,
    "start_time": "2021-12-14T18:34:07.414Z"
   },
   {
    "duration": 30,
    "start_time": "2021-12-14T18:34:07.430Z"
   },
   {
    "duration": 21,
    "start_time": "2021-12-14T18:34:07.465Z"
   },
   {
    "duration": 26,
    "start_time": "2021-12-14T18:34:07.489Z"
   },
   {
    "duration": 56,
    "start_time": "2021-12-14T18:34:07.517Z"
   },
   {
    "duration": 21,
    "start_time": "2021-12-14T18:34:07.576Z"
   },
   {
    "duration": 24,
    "start_time": "2021-12-14T18:34:07.600Z"
   },
   {
    "duration": 33,
    "start_time": "2021-12-14T18:34:07.627Z"
   },
   {
    "duration": 935,
    "start_time": "2021-12-14T18:34:07.663Z"
   },
   {
    "duration": 5,
    "start_time": "2021-12-14T18:34:08.601Z"
   },
   {
    "duration": 6,
    "start_time": "2021-12-14T18:34:08.608Z"
   },
   {
    "duration": 4053,
    "start_time": "2021-12-14T18:34:08.616Z"
   },
   {
    "duration": 19,
    "start_time": "2021-12-14T18:34:15.168Z"
   },
   {
    "duration": 5,
    "start_time": "2021-12-14T18:34:21.012Z"
   },
   {
    "duration": 11314,
    "start_time": "2021-12-14T18:34:21.693Z"
   },
   {
    "duration": 5,
    "start_time": "2021-12-14T18:37:46.611Z"
   },
   {
    "duration": 12034,
    "start_time": "2021-12-14T18:37:47.393Z"
   },
   {
    "duration": 4,
    "start_time": "2021-12-14T18:38:50.319Z"
   },
   {
    "duration": 11669,
    "start_time": "2021-12-14T18:38:51.129Z"
   },
   {
    "duration": 5,
    "start_time": "2021-12-14T18:41:10.164Z"
   },
   {
    "duration": 9795,
    "start_time": "2021-12-14T18:41:11.164Z"
   },
   {
    "duration": 802,
    "start_time": "2021-12-14T18:41:40.323Z"
   },
   {
    "duration": 66,
    "start_time": "2021-12-14T18:41:41.127Z"
   },
   {
    "duration": 30,
    "start_time": "2021-12-14T18:41:41.196Z"
   },
   {
    "duration": 30,
    "start_time": "2021-12-14T18:41:41.229Z"
   },
   {
    "duration": 47,
    "start_time": "2021-12-14T18:41:41.262Z"
   },
   {
    "duration": 9,
    "start_time": "2021-12-14T18:41:41.311Z"
   },
   {
    "duration": 2904,
    "start_time": "2021-12-14T18:41:41.322Z"
   },
   {
    "duration": 19,
    "start_time": "2021-12-14T18:41:44.230Z"
   },
   {
    "duration": 6,
    "start_time": "2021-12-14T18:41:44.260Z"
   },
   {
    "duration": 14,
    "start_time": "2021-12-14T18:41:44.268Z"
   },
   {
    "duration": 14,
    "start_time": "2021-12-14T18:41:44.285Z"
   },
   {
    "duration": 22,
    "start_time": "2021-12-14T18:41:44.301Z"
   },
   {
    "duration": 41,
    "start_time": "2021-12-14T18:41:44.359Z"
   },
   {
    "duration": 36,
    "start_time": "2021-12-14T18:41:44.402Z"
   },
   {
    "duration": 15,
    "start_time": "2021-12-14T18:41:44.460Z"
   },
   {
    "duration": 9619,
    "start_time": "2021-12-14T18:41:44.478Z"
   },
   {
    "duration": 21,
    "start_time": "2021-12-14T18:41:54.099Z"
   },
   {
    "duration": 13,
    "start_time": "2021-12-14T18:41:54.123Z"
   },
   {
    "duration": 4985,
    "start_time": "2021-12-14T18:41:54.158Z"
   },
   {
    "duration": 16,
    "start_time": "2021-12-14T18:41:59.146Z"
   },
   {
    "duration": 8,
    "start_time": "2021-12-14T18:41:59.164Z"
   },
   {
    "duration": 16,
    "start_time": "2021-12-14T18:41:59.174Z"
   },
   {
    "duration": 14,
    "start_time": "2021-12-14T18:41:59.195Z"
   },
   {
    "duration": 62,
    "start_time": "2021-12-14T18:41:59.212Z"
   },
   {
    "duration": 22,
    "start_time": "2021-12-14T18:41:59.277Z"
   },
   {
    "duration": 19,
    "start_time": "2021-12-14T18:41:59.302Z"
   },
   {
    "duration": 52,
    "start_time": "2021-12-14T18:41:59.324Z"
   },
   {
    "duration": 10,
    "start_time": "2021-12-14T18:41:59.378Z"
   },
   {
    "duration": 979,
    "start_time": "2021-12-14T18:41:59.390Z"
   },
   {
    "duration": 5,
    "start_time": "2021-12-14T18:42:00.372Z"
   },
   {
    "duration": 10,
    "start_time": "2021-12-14T18:42:00.379Z"
   },
   {
    "duration": 3978,
    "start_time": "2021-12-14T18:42:00.391Z"
   },
   {
    "duration": 17,
    "start_time": "2021-12-14T18:42:07.348Z"
   },
   {
    "duration": 5,
    "start_time": "2021-12-14T18:42:09.580Z"
   },
   {
    "duration": 11094,
    "start_time": "2021-12-14T18:42:10.685Z"
   },
   {
    "duration": 4,
    "start_time": "2021-12-14T18:43:01.749Z"
   },
   {
    "duration": 9624,
    "start_time": "2021-12-14T18:43:02.773Z"
   },
   {
    "duration": 5,
    "start_time": "2021-12-14T18:43:49.722Z"
   },
   {
    "duration": 11347,
    "start_time": "2021-12-14T18:43:50.484Z"
   },
   {
    "duration": 5,
    "start_time": "2021-12-14T18:46:23.267Z"
   },
   {
    "duration": 6,
    "start_time": "2021-12-14T18:46:33.917Z"
   },
   {
    "duration": 8,
    "start_time": "2021-12-14T18:46:49.456Z"
   },
   {
    "duration": 9613,
    "start_time": "2021-12-14T18:47:31.428Z"
   },
   {
    "duration": 27,
    "start_time": "2021-12-14T18:48:59.228Z"
   },
   {
    "duration": 856,
    "start_time": "2021-12-14T18:49:30.509Z"
   },
   {
    "duration": 70,
    "start_time": "2021-12-14T18:49:31.368Z"
   },
   {
    "duration": 33,
    "start_time": "2021-12-14T18:49:31.440Z"
   },
   {
    "duration": 16,
    "start_time": "2021-12-14T18:49:31.476Z"
   },
   {
    "duration": 75,
    "start_time": "2021-12-14T18:49:31.495Z"
   },
   {
    "duration": 9,
    "start_time": "2021-12-14T18:49:31.573Z"
   },
   {
    "duration": 3220,
    "start_time": "2021-12-14T18:49:31.584Z"
   },
   {
    "duration": 19,
    "start_time": "2021-12-14T18:49:34.808Z"
   },
   {
    "duration": 31,
    "start_time": "2021-12-14T18:49:34.829Z"
   },
   {
    "duration": 12,
    "start_time": "2021-12-14T18:49:34.862Z"
   },
   {
    "duration": 13,
    "start_time": "2021-12-14T18:49:34.877Z"
   },
   {
    "duration": 22,
    "start_time": "2021-12-14T18:49:34.892Z"
   },
   {
    "duration": 78,
    "start_time": "2021-12-14T18:49:34.916Z"
   },
   {
    "duration": 37,
    "start_time": "2021-12-14T18:49:34.997Z"
   },
   {
    "duration": 35,
    "start_time": "2021-12-14T18:49:35.038Z"
   },
   {
    "duration": 7742,
    "start_time": "2021-12-14T18:49:35.075Z"
   },
   {
    "duration": 20,
    "start_time": "2021-12-14T18:49:42.819Z"
   },
   {
    "duration": 23,
    "start_time": "2021-12-14T18:49:42.841Z"
   },
   {
    "duration": 4310,
    "start_time": "2021-12-14T18:49:42.866Z"
   },
   {
    "duration": 5,
    "start_time": "2021-12-14T18:49:47.179Z"
   },
   {
    "duration": 7,
    "start_time": "2021-12-14T18:49:47.187Z"
   },
   {
    "duration": 15,
    "start_time": "2021-12-14T18:49:47.196Z"
   },
   {
    "duration": 49,
    "start_time": "2021-12-14T18:49:47.215Z"
   },
   {
    "duration": 26,
    "start_time": "2021-12-14T18:49:47.267Z"
   },
   {
    "duration": 28,
    "start_time": "2021-12-14T18:49:47.296Z"
   },
   {
    "duration": 49,
    "start_time": "2021-12-14T18:49:47.327Z"
   },
   {
    "duration": 27,
    "start_time": "2021-12-14T18:49:47.379Z"
   },
   {
    "duration": 10,
    "start_time": "2021-12-14T18:49:47.408Z"
   },
   {
    "duration": 988,
    "start_time": "2021-12-14T18:49:47.420Z"
   },
   {
    "duration": 4,
    "start_time": "2021-12-14T18:49:48.411Z"
   },
   {
    "duration": 6,
    "start_time": "2021-12-14T18:49:48.418Z"
   },
   {
    "duration": 4097,
    "start_time": "2021-12-14T18:49:48.427Z"
   },
   {
    "duration": 33,
    "start_time": "2021-12-14T18:49:52.526Z"
   },
   {
    "duration": 4,
    "start_time": "2021-12-14T18:50:01.960Z"
   },
   {
    "duration": 33,
    "start_time": "2021-12-14T18:50:03.057Z"
   },
   {
    "duration": 22,
    "start_time": "2021-12-14T18:50:23.757Z"
   },
   {
    "duration": 18,
    "start_time": "2021-12-14T18:52:42.539Z"
   },
   {
    "duration": 916,
    "start_time": "2021-12-14T18:55:00.417Z"
   },
   {
    "duration": 603,
    "start_time": "2021-12-14T18:55:30.152Z"
   },
   {
    "duration": 18,
    "start_time": "2021-12-14T18:55:36.225Z"
   },
   {
    "duration": 6,
    "start_time": "2021-12-14T18:59:02.137Z"
   },
   {
    "duration": 5,
    "start_time": "2021-12-14T19:43:43.387Z"
   },
   {
    "duration": 12,
    "start_time": "2021-12-14T19:43:45.003Z"
   },
   {
    "duration": 128,
    "start_time": "2021-12-14T19:43:48.305Z"
   },
   {
    "duration": 469,
    "start_time": "2021-12-14T19:44:06.420Z"
   },
   {
    "duration": 11978,
    "start_time": "2021-12-14T19:44:10.203Z"
   },
   {
    "duration": 417,
    "start_time": "2021-12-14T19:45:19.650Z"
   },
   {
    "duration": 18,
    "start_time": "2021-12-14T19:45:30.940Z"
   },
   {
    "duration": 13,
    "start_time": "2021-12-14T19:45:42.717Z"
   },
   {
    "duration": 18,
    "start_time": "2021-12-14T19:45:52.472Z"
   },
   {
    "duration": 13295,
    "start_time": "2021-12-14T19:46:35.966Z"
   },
   {
    "duration": 12,
    "start_time": "2021-12-14T19:53:20.123Z"
   },
   {
    "duration": 430,
    "start_time": "2021-12-14T19:53:32.769Z"
   },
   {
    "duration": 569,
    "start_time": "2021-12-14T20:01:48.034Z"
   },
   {
    "duration": 381,
    "start_time": "2021-12-14T20:02:40.448Z"
   },
   {
    "duration": 13,
    "start_time": "2021-12-14T20:03:46.186Z"
   },
   {
    "duration": 23,
    "start_time": "2021-12-14T20:05:16.653Z"
   },
   {
    "duration": 15,
    "start_time": "2021-12-14T20:05:32.138Z"
   },
   {
    "duration": 15,
    "start_time": "2021-12-14T20:07:40.433Z"
   },
   {
    "duration": 21,
    "start_time": "2021-12-14T20:10:55.383Z"
   },
   {
    "duration": 22,
    "start_time": "2021-12-14T20:11:01.325Z"
   },
   {
    "duration": 14,
    "start_time": "2021-12-14T20:11:06.313Z"
   },
   {
    "duration": 15,
    "start_time": "2021-12-14T20:12:53.718Z"
   },
   {
    "duration": 300,
    "start_time": "2021-12-15T11:23:15.449Z"
   },
   {
    "duration": 574,
    "start_time": "2021-12-15T11:23:27.868Z"
   },
   {
    "duration": 52,
    "start_time": "2021-12-15T11:23:28.443Z"
   },
   {
    "duration": 21,
    "start_time": "2021-12-15T11:23:28.498Z"
   },
   {
    "duration": 23,
    "start_time": "2021-12-15T11:23:28.521Z"
   },
   {
    "duration": 34,
    "start_time": "2021-12-15T11:23:28.546Z"
   },
   {
    "duration": 7,
    "start_time": "2021-12-15T11:23:28.582Z"
   },
   {
    "duration": 1721,
    "start_time": "2021-12-15T11:23:28.590Z"
   },
   {
    "duration": 12,
    "start_time": "2021-12-15T11:23:30.313Z"
   },
   {
    "duration": 37,
    "start_time": "2021-12-15T11:23:30.327Z"
   },
   {
    "duration": 32,
    "start_time": "2021-12-15T11:23:30.366Z"
   },
   {
    "duration": 26,
    "start_time": "2021-12-15T11:23:30.400Z"
   },
   {
    "duration": 16,
    "start_time": "2021-12-15T11:23:30.428Z"
   },
   {
    "duration": 48,
    "start_time": "2021-12-15T11:23:30.446Z"
   },
   {
    "duration": 23,
    "start_time": "2021-12-15T11:23:30.496Z"
   },
   {
    "duration": 25,
    "start_time": "2021-12-15T11:23:30.521Z"
   },
   {
    "duration": 4578,
    "start_time": "2021-12-15T11:23:30.548Z"
   },
   {
    "duration": 18,
    "start_time": "2021-12-15T11:23:35.127Z"
   },
   {
    "duration": 9,
    "start_time": "2021-12-15T11:23:35.147Z"
   },
   {
    "duration": 2778,
    "start_time": "2021-12-15T11:23:35.157Z"
   },
   {
    "duration": 8,
    "start_time": "2021-12-15T11:23:37.937Z"
   },
   {
    "duration": 6,
    "start_time": "2021-12-15T11:23:37.947Z"
   },
   {
    "duration": 17,
    "start_time": "2021-12-15T11:23:37.955Z"
   },
   {
    "duration": 15,
    "start_time": "2021-12-15T11:23:37.975Z"
   },
   {
    "duration": 25,
    "start_time": "2021-12-15T11:23:37.992Z"
   },
   {
    "duration": 30,
    "start_time": "2021-12-15T11:23:38.019Z"
   },
   {
    "duration": 15,
    "start_time": "2021-12-15T11:23:38.051Z"
   },
   {
    "duration": 18,
    "start_time": "2021-12-15T11:23:38.068Z"
   },
   {
    "duration": 8,
    "start_time": "2021-12-15T11:23:38.088Z"
   },
   {
    "duration": 657,
    "start_time": "2021-12-15T11:23:38.097Z"
   },
   {
    "duration": 4,
    "start_time": "2021-12-15T11:23:38.757Z"
   },
   {
    "duration": 6,
    "start_time": "2021-12-15T11:23:38.763Z"
   },
   {
    "duration": 3100,
    "start_time": "2021-12-15T11:23:38.771Z"
   },
   {
    "duration": 2,
    "start_time": "2021-12-15T11:23:41.873Z"
   },
   {
    "duration": 15,
    "start_time": "2021-12-15T11:23:41.877Z"
   },
   {
    "duration": 14,
    "start_time": "2021-12-15T11:23:49.361Z"
   },
   {
    "duration": 6,
    "start_time": "2021-12-15T11:26:01.599Z"
   },
   {
    "duration": 6,
    "start_time": "2021-12-15T11:28:38.268Z"
   },
   {
    "duration": 359,
    "start_time": "2021-12-15T11:32:05.345Z"
   },
   {
    "duration": 280,
    "start_time": "2021-12-15T11:32:42.297Z"
   },
   {
    "duration": 7,
    "start_time": "2021-12-15T11:32:50.656Z"
   },
   {
    "duration": 795,
    "start_time": "2021-12-15T11:32:59.795Z"
   },
   {
    "duration": 266,
    "start_time": "2021-12-15T11:33:19.284Z"
   },
   {
    "duration": 8,
    "start_time": "2021-12-15T11:38:31.341Z"
   },
   {
    "duration": 3,
    "start_time": "2021-12-15T11:38:57.148Z"
   },
   {
    "duration": 4,
    "start_time": "2021-12-15T11:39:05.131Z"
   },
   {
    "duration": 605,
    "start_time": "2021-12-15T11:49:06.864Z"
   },
   {
    "duration": 55,
    "start_time": "2021-12-15T11:49:07.471Z"
   },
   {
    "duration": 27,
    "start_time": "2021-12-15T11:49:07.528Z"
   },
   {
    "duration": 12,
    "start_time": "2021-12-15T11:49:07.557Z"
   },
   {
    "duration": 34,
    "start_time": "2021-12-15T11:49:07.572Z"
   },
   {
    "duration": 37,
    "start_time": "2021-12-15T11:49:07.608Z"
   },
   {
    "duration": 1748,
    "start_time": "2021-12-15T11:49:07.648Z"
   },
   {
    "duration": 13,
    "start_time": "2021-12-15T11:49:09.399Z"
   },
   {
    "duration": 9,
    "start_time": "2021-12-15T11:49:09.414Z"
   },
   {
    "duration": 23,
    "start_time": "2021-12-15T11:49:09.425Z"
   },
   {
    "duration": 10,
    "start_time": "2021-12-15T11:49:09.450Z"
   },
   {
    "duration": 15,
    "start_time": "2021-12-15T11:49:09.461Z"
   },
   {
    "duration": 32,
    "start_time": "2021-12-15T11:49:09.478Z"
   },
   {
    "duration": 58,
    "start_time": "2021-12-15T11:49:09.512Z"
   },
   {
    "duration": 13,
    "start_time": "2021-12-15T11:49:09.572Z"
   },
   {
    "duration": 4732,
    "start_time": "2021-12-15T11:49:09.587Z"
   },
   {
    "duration": 16,
    "start_time": "2021-12-15T11:49:14.321Z"
   },
   {
    "duration": 10,
    "start_time": "2021-12-15T11:49:14.345Z"
   },
   {
    "duration": 2635,
    "start_time": "2021-12-15T11:49:14.357Z"
   },
   {
    "duration": 5,
    "start_time": "2021-12-15T11:49:16.994Z"
   },
   {
    "duration": 7,
    "start_time": "2021-12-15T11:49:17.001Z"
   },
   {
    "duration": 13,
    "start_time": "2021-12-15T11:49:17.010Z"
   },
   {
    "duration": 12,
    "start_time": "2021-12-15T11:49:17.046Z"
   },
   {
    "duration": 25,
    "start_time": "2021-12-15T11:49:17.060Z"
   },
   {
    "duration": 19,
    "start_time": "2021-12-15T11:49:17.087Z"
   },
   {
    "duration": 38,
    "start_time": "2021-12-15T11:49:17.108Z"
   },
   {
    "duration": 21,
    "start_time": "2021-12-15T11:49:17.147Z"
   },
   {
    "duration": 8,
    "start_time": "2021-12-15T11:49:17.170Z"
   },
   {
    "duration": 684,
    "start_time": "2021-12-15T11:49:17.180Z"
   },
   {
    "duration": 4,
    "start_time": "2021-12-15T11:49:17.866Z"
   },
   {
    "duration": 9,
    "start_time": "2021-12-15T11:49:17.872Z"
   },
   {
    "duration": 3141,
    "start_time": "2021-12-15T11:49:17.882Z"
   },
   {
    "duration": 4,
    "start_time": "2021-12-15T11:49:21.025Z"
   },
   {
    "duration": 48,
    "start_time": "2021-12-15T11:49:21.031Z"
   },
   {
    "duration": 21,
    "start_time": "2021-12-15T11:49:21.080Z"
   },
   {
    "duration": 22,
    "start_time": "2021-12-15T11:49:21.103Z"
   },
   {
    "duration": 20,
    "start_time": "2021-12-15T11:49:21.127Z"
   },
   {
    "duration": 99,
    "start_time": "2021-12-15T11:49:21.149Z"
   },
   {
    "duration": 70,
    "start_time": "2021-12-15T11:49:21.180Z"
   },
   {
    "duration": 21,
    "start_time": "2021-12-15T11:49:39.215Z"
   },
   {
    "duration": 16,
    "start_time": "2021-12-15T11:49:42.726Z"
   },
   {
    "duration": 13,
    "start_time": "2021-12-15T11:50:01.969Z"
   },
   {
    "duration": 18,
    "start_time": "2021-12-15T12:04:01.862Z"
   },
   {
    "duration": 5,
    "start_time": "2021-12-15T12:05:24.153Z"
   },
   {
    "duration": 83,
    "start_time": "2021-12-15T12:08:44.631Z"
   },
   {
    "duration": 8,
    "start_time": "2021-12-15T12:08:53.540Z"
   },
   {
    "duration": 7,
    "start_time": "2021-12-15T12:09:55.911Z"
   },
   {
    "duration": 12,
    "start_time": "2021-12-15T12:11:16.082Z"
   },
   {
    "duration": 85,
    "start_time": "2021-12-15T12:12:07.749Z"
   },
   {
    "duration": 15,
    "start_time": "2021-12-15T12:12:13.749Z"
   },
   {
    "duration": 12,
    "start_time": "2021-12-15T12:13:55.483Z"
   },
   {
    "duration": 5,
    "start_time": "2021-12-15T12:16:53.695Z"
   },
   {
    "duration": 328,
    "start_time": "2021-12-15T12:19:25.362Z"
   },
   {
    "duration": 11,
    "start_time": "2021-12-15T12:19:40.675Z"
   },
   {
    "duration": 600,
    "start_time": "2021-12-15T12:22:34.752Z"
   },
   {
    "duration": 52,
    "start_time": "2021-12-15T12:22:35.355Z"
   },
   {
    "duration": 20,
    "start_time": "2021-12-15T12:22:35.409Z"
   },
   {
    "duration": 18,
    "start_time": "2021-12-15T12:22:35.432Z"
   },
   {
    "duration": 41,
    "start_time": "2021-12-15T12:22:35.452Z"
   },
   {
    "duration": 8,
    "start_time": "2021-12-15T12:22:35.495Z"
   },
   {
    "duration": 1873,
    "start_time": "2021-12-15T12:22:35.505Z"
   },
   {
    "duration": 12,
    "start_time": "2021-12-15T12:22:37.381Z"
   },
   {
    "duration": 21,
    "start_time": "2021-12-15T12:22:37.396Z"
   },
   {
    "duration": 19,
    "start_time": "2021-12-15T12:22:37.419Z"
   },
   {
    "duration": 22,
    "start_time": "2021-12-15T12:22:37.440Z"
   },
   {
    "duration": 20,
    "start_time": "2021-12-15T12:22:37.464Z"
   },
   {
    "duration": 47,
    "start_time": "2021-12-15T12:22:37.486Z"
   },
   {
    "duration": 24,
    "start_time": "2021-12-15T12:22:37.535Z"
   },
   {
    "duration": 16,
    "start_time": "2021-12-15T12:22:37.561Z"
   },
   {
    "duration": 4552,
    "start_time": "2021-12-15T12:22:37.579Z"
   },
   {
    "duration": 20,
    "start_time": "2021-12-15T12:22:42.133Z"
   },
   {
    "duration": 18,
    "start_time": "2021-12-15T12:22:42.154Z"
   },
   {
    "duration": 2504,
    "start_time": "2021-12-15T12:22:42.174Z"
   },
   {
    "duration": 4,
    "start_time": "2021-12-15T12:22:44.680Z"
   },
   {
    "duration": 17,
    "start_time": "2021-12-15T12:22:44.686Z"
   },
   {
    "duration": 15,
    "start_time": "2021-12-15T12:22:44.705Z"
   },
   {
    "duration": 49,
    "start_time": "2021-12-15T12:22:44.724Z"
   },
   {
    "duration": 33,
    "start_time": "2021-12-15T12:22:44.776Z"
   },
   {
    "duration": 47,
    "start_time": "2021-12-15T12:22:44.811Z"
   },
   {
    "duration": 18,
    "start_time": "2021-12-15T12:22:44.861Z"
   },
   {
    "duration": 21,
    "start_time": "2021-12-15T12:22:44.882Z"
   },
   {
    "duration": 43,
    "start_time": "2021-12-15T12:22:44.905Z"
   },
   {
    "duration": 677,
    "start_time": "2021-12-15T12:22:44.950Z"
   },
   {
    "duration": 5,
    "start_time": "2021-12-15T12:22:45.629Z"
   },
   {
    "duration": 6,
    "start_time": "2021-12-15T12:22:45.645Z"
   },
   {
    "duration": 3354,
    "start_time": "2021-12-15T12:22:45.653Z"
   },
   {
    "duration": 3,
    "start_time": "2021-12-15T12:22:49.009Z"
   },
   {
    "duration": 20,
    "start_time": "2021-12-15T12:22:49.014Z"
   },
   {
    "duration": 15,
    "start_time": "2021-12-15T12:22:49.036Z"
   },
   {
    "duration": 14,
    "start_time": "2021-12-15T12:22:49.053Z"
   },
   {
    "duration": 9,
    "start_time": "2021-12-15T12:22:49.069Z"
   },
   {
    "duration": 37,
    "start_time": "2021-12-15T12:22:49.080Z"
   },
   {
    "duration": 28,
    "start_time": "2021-12-15T12:22:49.119Z"
   },
   {
    "duration": 4,
    "start_time": "2021-12-15T12:23:00.014Z"
   },
   {
    "duration": 18,
    "start_time": "2021-12-15T12:23:03.037Z"
   },
   {
    "duration": 11,
    "start_time": "2021-12-15T12:23:08.233Z"
   },
   {
    "duration": 13,
    "start_time": "2021-12-15T12:23:13.542Z"
   },
   {
    "duration": 11,
    "start_time": "2021-12-15T12:25:05.100Z"
   },
   {
    "duration": 12,
    "start_time": "2021-12-15T12:28:22.036Z"
   },
   {
    "duration": 94,
    "start_time": "2021-12-15T12:30:02.567Z"
   },
   {
    "duration": 11,
    "start_time": "2021-12-15T12:32:27.077Z"
   },
   {
    "duration": 10,
    "start_time": "2021-12-15T12:32:59.801Z"
   },
   {
    "duration": 9,
    "start_time": "2021-12-15T12:33:31.017Z"
   },
   {
    "duration": 10,
    "start_time": "2021-12-15T12:34:02.681Z"
   },
   {
    "duration": 10,
    "start_time": "2021-12-15T12:34:07.105Z"
   },
   {
    "duration": 334,
    "start_time": "2021-12-15T12:36:29.899Z"
   },
   {
    "duration": 13,
    "start_time": "2021-12-15T12:36:58.347Z"
   },
   {
    "duration": 10,
    "start_time": "2021-12-15T12:38:52.928Z"
   },
   {
    "duration": 10,
    "start_time": "2021-12-15T12:39:05.274Z"
   },
   {
    "duration": 594,
    "start_time": "2021-12-15T12:55:33.158Z"
   },
   {
    "duration": 53,
    "start_time": "2021-12-15T12:55:33.754Z"
   },
   {
    "duration": 21,
    "start_time": "2021-12-15T12:55:33.810Z"
   },
   {
    "duration": 47,
    "start_time": "2021-12-15T12:55:33.834Z"
   },
   {
    "duration": 50,
    "start_time": "2021-12-15T12:55:33.883Z"
   },
   {
    "duration": 7,
    "start_time": "2021-12-15T12:55:33.935Z"
   },
   {
    "duration": 1818,
    "start_time": "2021-12-15T12:55:33.944Z"
   },
   {
    "duration": 13,
    "start_time": "2021-12-15T12:55:35.766Z"
   },
   {
    "duration": 52,
    "start_time": "2021-12-15T12:55:35.782Z"
   },
   {
    "duration": 43,
    "start_time": "2021-12-15T12:55:35.836Z"
   },
   {
    "duration": 56,
    "start_time": "2021-12-15T12:55:35.881Z"
   },
   {
    "duration": 55,
    "start_time": "2021-12-15T12:55:35.939Z"
   },
   {
    "duration": 70,
    "start_time": "2021-12-15T12:55:35.997Z"
   },
   {
    "duration": 50,
    "start_time": "2021-12-15T12:55:36.069Z"
   },
   {
    "duration": 32,
    "start_time": "2021-12-15T12:55:36.121Z"
   },
   {
    "duration": 4610,
    "start_time": "2021-12-15T12:55:36.154Z"
   },
   {
    "duration": 13,
    "start_time": "2021-12-15T12:55:40.766Z"
   },
   {
    "duration": 80,
    "start_time": "2021-12-15T12:55:40.781Z"
   },
   {
    "duration": 2510,
    "start_time": "2021-12-15T12:55:40.863Z"
   },
   {
    "duration": 4,
    "start_time": "2021-12-15T12:55:43.375Z"
   },
   {
    "duration": 41,
    "start_time": "2021-12-15T12:55:43.381Z"
   },
   {
    "duration": 56,
    "start_time": "2021-12-15T12:55:43.424Z"
   },
   {
    "duration": 54,
    "start_time": "2021-12-15T12:55:43.484Z"
   },
   {
    "duration": 70,
    "start_time": "2021-12-15T12:55:43.540Z"
   },
   {
    "duration": 42,
    "start_time": "2021-12-15T12:55:43.612Z"
   },
   {
    "duration": 43,
    "start_time": "2021-12-15T12:55:43.656Z"
   },
   {
    "duration": 56,
    "start_time": "2021-12-15T12:55:43.701Z"
   },
   {
    "duration": 27,
    "start_time": "2021-12-15T12:55:43.759Z"
   },
   {
    "duration": 685,
    "start_time": "2021-12-15T12:55:43.788Z"
   },
   {
    "duration": 5,
    "start_time": "2021-12-15T12:55:44.476Z"
   },
   {
    "duration": 44,
    "start_time": "2021-12-15T12:55:44.483Z"
   },
   {
    "duration": 3046,
    "start_time": "2021-12-15T12:55:44.529Z"
   },
   {
    "duration": 3,
    "start_time": "2021-12-15T12:55:47.577Z"
   },
   {
    "duration": 27,
    "start_time": "2021-12-15T12:55:47.582Z"
   },
   {
    "duration": 7,
    "start_time": "2021-12-15T12:55:47.610Z"
   },
   {
    "duration": 15,
    "start_time": "2021-12-15T12:55:47.618Z"
   },
   {
    "duration": 8,
    "start_time": "2021-12-15T12:55:47.635Z"
   },
   {
    "duration": 28,
    "start_time": "2021-12-15T12:55:47.645Z"
   },
   {
    "duration": 13,
    "start_time": "2021-12-15T12:55:47.674Z"
   },
   {
    "duration": 8,
    "start_time": "2021-12-15T12:55:47.689Z"
   },
   {
    "duration": 26,
    "start_time": "2021-12-15T12:55:47.699Z"
   },
   {
    "duration": 18,
    "start_time": "2021-12-15T12:55:47.727Z"
   },
   {
    "duration": 19,
    "start_time": "2021-12-15T12:55:47.747Z"
   },
   {
    "duration": 9,
    "start_time": "2021-12-15T12:55:47.768Z"
   },
   {
    "duration": 35,
    "start_time": "2021-12-15T12:55:47.779Z"
   },
   {
    "duration": 10,
    "start_time": "2021-12-15T12:55:47.816Z"
   },
   {
    "duration": 18,
    "start_time": "2021-12-15T12:55:47.828Z"
   },
   {
    "duration": 10,
    "start_time": "2021-12-15T12:55:47.848Z"
   },
   {
    "duration": 607,
    "start_time": "2021-12-15T15:24:34.117Z"
   },
   {
    "duration": 50,
    "start_time": "2021-12-15T15:24:34.726Z"
   },
   {
    "duration": 21,
    "start_time": "2021-12-15T15:24:34.778Z"
   },
   {
    "duration": 14,
    "start_time": "2021-12-15T15:24:34.802Z"
   },
   {
    "duration": 47,
    "start_time": "2021-12-15T15:24:34.818Z"
   },
   {
    "duration": 7,
    "start_time": "2021-12-15T15:24:34.867Z"
   },
   {
    "duration": 1742,
    "start_time": "2021-12-15T15:24:34.875Z"
   },
   {
    "duration": 12,
    "start_time": "2021-12-15T15:24:36.619Z"
   },
   {
    "duration": 4,
    "start_time": "2021-12-15T15:24:36.645Z"
   },
   {
    "duration": 32,
    "start_time": "2021-12-15T15:24:36.650Z"
   },
   {
    "duration": 25,
    "start_time": "2021-12-15T15:24:36.684Z"
   },
   {
    "duration": 18,
    "start_time": "2021-12-15T15:24:36.711Z"
   },
   {
    "duration": 34,
    "start_time": "2021-12-15T15:24:36.730Z"
   },
   {
    "duration": 24,
    "start_time": "2021-12-15T15:24:36.766Z"
   },
   {
    "duration": 12,
    "start_time": "2021-12-15T15:24:36.793Z"
   },
   {
    "duration": 1044,
    "start_time": "2021-12-15T15:24:36.807Z"
   },
   {
    "duration": 13,
    "start_time": "2021-12-15T15:24:37.853Z"
   },
   {
    "duration": 8,
    "start_time": "2021-12-15T15:24:37.867Z"
   },
   {
    "duration": 13,
    "start_time": "2021-12-15T15:24:37.877Z"
   },
   {
    "duration": 313,
    "start_time": "2021-12-15T15:24:37.892Z"
   },
   {
    "duration": 219,
    "start_time": "2021-12-15T15:24:37.989Z"
   },
   {
    "duration": 215,
    "start_time": "2021-12-15T15:24:37.994Z"
   },
   {
    "duration": 213,
    "start_time": "2021-12-15T15:24:37.997Z"
   },
   {
    "duration": 211,
    "start_time": "2021-12-15T15:24:38.000Z"
   },
   {
    "duration": 209,
    "start_time": "2021-12-15T15:24:38.003Z"
   },
   {
    "duration": 206,
    "start_time": "2021-12-15T15:24:38.007Z"
   },
   {
    "duration": 203,
    "start_time": "2021-12-15T15:24:38.011Z"
   },
   {
    "duration": 202,
    "start_time": "2021-12-15T15:24:38.013Z"
   },
   {
    "duration": 199,
    "start_time": "2021-12-15T15:24:38.017Z"
   },
   {
    "duration": 197,
    "start_time": "2021-12-15T15:24:38.020Z"
   },
   {
    "duration": 195,
    "start_time": "2021-12-15T15:24:38.023Z"
   },
   {
    "duration": 192,
    "start_time": "2021-12-15T15:24:38.026Z"
   },
   {
    "duration": 189,
    "start_time": "2021-12-15T15:24:38.030Z"
   },
   {
    "duration": 189,
    "start_time": "2021-12-15T15:24:38.032Z"
   },
   {
    "duration": 171,
    "start_time": "2021-12-15T15:24:38.050Z"
   },
   {
    "duration": 168,
    "start_time": "2021-12-15T15:24:38.054Z"
   },
   {
    "duration": 164,
    "start_time": "2021-12-15T15:24:38.059Z"
   },
   {
    "duration": 163,
    "start_time": "2021-12-15T15:24:38.061Z"
   },
   {
    "duration": 161,
    "start_time": "2021-12-15T15:24:38.064Z"
   },
   {
    "duration": 159,
    "start_time": "2021-12-15T15:24:38.067Z"
   },
   {
    "duration": 157,
    "start_time": "2021-12-15T15:24:38.070Z"
   },
   {
    "duration": 155,
    "start_time": "2021-12-15T15:24:38.073Z"
   },
   {
    "duration": 153,
    "start_time": "2021-12-15T15:24:38.076Z"
   },
   {
    "duration": 150,
    "start_time": "2021-12-15T15:24:38.079Z"
   },
   {
    "duration": 148,
    "start_time": "2021-12-15T15:24:38.082Z"
   },
   {
    "duration": 147,
    "start_time": "2021-12-15T15:24:38.084Z"
   },
   {
    "duration": 145,
    "start_time": "2021-12-15T15:24:38.087Z"
   },
   {
    "duration": 99,
    "start_time": "2021-12-15T15:28:31.735Z"
   },
   {
    "duration": 3267,
    "start_time": "2021-12-15T15:29:13.928Z"
   },
   {
    "duration": 13,
    "start_time": "2021-12-15T15:29:17.197Z"
   },
   {
    "duration": 658,
    "start_time": "2021-12-15T15:29:29.433Z"
   },
   {
    "duration": 51,
    "start_time": "2021-12-15T15:29:30.092Z"
   },
   {
    "duration": 20,
    "start_time": "2021-12-15T15:29:30.145Z"
   },
   {
    "duration": 32,
    "start_time": "2021-12-15T15:29:30.166Z"
   },
   {
    "duration": 33,
    "start_time": "2021-12-15T15:29:30.200Z"
   },
   {
    "duration": 7,
    "start_time": "2021-12-15T15:29:30.234Z"
   },
   {
    "duration": 1707,
    "start_time": "2021-12-15T15:29:30.244Z"
   },
   {
    "duration": 12,
    "start_time": "2021-12-15T15:29:31.953Z"
   },
   {
    "duration": 8,
    "start_time": "2021-12-15T15:29:31.966Z"
   },
   {
    "duration": 11,
    "start_time": "2021-12-15T15:29:31.976Z"
   },
   {
    "duration": 10,
    "start_time": "2021-12-15T15:29:31.988Z"
   },
   {
    "duration": 13,
    "start_time": "2021-12-15T15:29:32.000Z"
   },
   {
    "duration": 57,
    "start_time": "2021-12-15T15:29:32.014Z"
   },
   {
    "duration": 24,
    "start_time": "2021-12-15T15:29:32.073Z"
   },
   {
    "duration": 10,
    "start_time": "2021-12-15T15:29:32.099Z"
   },
   {
    "duration": 2897,
    "start_time": "2021-12-15T15:29:32.111Z"
   },
   {
    "duration": 14,
    "start_time": "2021-12-15T15:29:35.010Z"
   },
   {
    "duration": 19,
    "start_time": "2021-12-15T15:29:35.025Z"
   },
   {
    "duration": 9,
    "start_time": "2021-12-15T15:29:35.046Z"
   },
   {
    "duration": 5,
    "start_time": "2021-12-15T15:29:35.056Z"
   },
   {
    "duration": 19,
    "start_time": "2021-12-15T15:29:35.062Z"
   },
   {
    "duration": 20,
    "start_time": "2021-12-15T15:29:35.083Z"
   },
   {
    "duration": 39,
    "start_time": "2021-12-15T15:29:35.107Z"
   },
   {
    "duration": 17,
    "start_time": "2021-12-15T15:29:35.148Z"
   },
   {
    "duration": 14,
    "start_time": "2021-12-15T15:29:35.166Z"
   },
   {
    "duration": 16,
    "start_time": "2021-12-15T15:29:35.181Z"
   },
   {
    "duration": 10,
    "start_time": "2021-12-15T15:29:35.199Z"
   },
   {
    "duration": 659,
    "start_time": "2021-12-15T15:29:35.211Z"
   },
   {
    "duration": 4,
    "start_time": "2021-12-15T15:29:35.872Z"
   },
   {
    "duration": 7,
    "start_time": "2021-12-15T15:29:35.878Z"
   },
   {
    "duration": 3011,
    "start_time": "2021-12-15T15:29:35.886Z"
   },
   {
    "duration": 3,
    "start_time": "2021-12-15T15:29:38.899Z"
   },
   {
    "duration": 21,
    "start_time": "2021-12-15T15:29:38.904Z"
   },
   {
    "duration": 11,
    "start_time": "2021-12-15T15:29:38.927Z"
   },
   {
    "duration": 5,
    "start_time": "2021-12-15T15:29:38.940Z"
   },
   {
    "duration": 6,
    "start_time": "2021-12-15T15:29:38.946Z"
   },
   {
    "duration": 24,
    "start_time": "2021-12-15T15:29:38.953Z"
   },
   {
    "duration": 12,
    "start_time": "2021-12-15T15:29:38.979Z"
   },
   {
    "duration": 6,
    "start_time": "2021-12-15T15:29:38.992Z"
   },
   {
    "duration": 19,
    "start_time": "2021-12-15T15:29:38.999Z"
   },
   {
    "duration": 30,
    "start_time": "2021-12-15T15:29:39.020Z"
   },
   {
    "duration": 16,
    "start_time": "2021-12-15T15:29:39.052Z"
   },
   {
    "duration": 9,
    "start_time": "2021-12-15T15:29:39.069Z"
   },
   {
    "duration": 19,
    "start_time": "2021-12-15T15:29:39.079Z"
   },
   {
    "duration": 9,
    "start_time": "2021-12-15T15:29:39.099Z"
   },
   {
    "duration": 15,
    "start_time": "2021-12-15T15:29:39.110Z"
   },
   {
    "duration": 26,
    "start_time": "2021-12-15T15:29:39.127Z"
   },
   {
    "duration": 604,
    "start_time": "2021-12-16T13:55:59.475Z"
   },
   {
    "duration": 53,
    "start_time": "2021-12-16T13:56:00.081Z"
   },
   {
    "duration": 27,
    "start_time": "2021-12-16T13:56:00.138Z"
   },
   {
    "duration": 19,
    "start_time": "2021-12-16T13:56:00.167Z"
   },
   {
    "duration": 48,
    "start_time": "2021-12-16T13:56:00.188Z"
   },
   {
    "duration": 9,
    "start_time": "2021-12-16T13:56:00.237Z"
   },
   {
    "duration": 1860,
    "start_time": "2021-12-16T13:56:00.249Z"
   },
   {
    "duration": 18,
    "start_time": "2021-12-16T13:56:02.112Z"
   },
   {
    "duration": 33,
    "start_time": "2021-12-16T13:56:02.145Z"
   },
   {
    "duration": 13,
    "start_time": "2021-12-16T13:56:02.182Z"
   },
   {
    "duration": 14,
    "start_time": "2021-12-16T13:56:02.197Z"
   },
   {
    "duration": 20,
    "start_time": "2021-12-16T13:56:02.213Z"
   },
   {
    "duration": 37,
    "start_time": "2021-12-16T13:56:02.235Z"
   },
   {
    "duration": 31,
    "start_time": "2021-12-16T13:56:02.274Z"
   },
   {
    "duration": 13,
    "start_time": "2021-12-16T13:56:02.307Z"
   },
   {
    "duration": 4292,
    "start_time": "2021-12-16T13:56:02.322Z"
   },
   {
    "duration": 19,
    "start_time": "2021-12-16T13:56:06.616Z"
   },
   {
    "duration": 19,
    "start_time": "2021-12-16T13:56:06.645Z"
   },
   {
    "duration": 30,
    "start_time": "2021-12-16T13:56:06.665Z"
   },
   {
    "duration": 61,
    "start_time": "2021-12-16T13:56:06.697Z"
   },
   {
    "duration": 64,
    "start_time": "2021-12-16T13:56:06.760Z"
   },
   {
    "duration": 40,
    "start_time": "2021-12-16T13:56:06.829Z"
   },
   {
    "duration": 57,
    "start_time": "2021-12-16T13:56:06.872Z"
   },
   {
    "duration": 25,
    "start_time": "2021-12-16T13:56:06.931Z"
   },
   {
    "duration": 22,
    "start_time": "2021-12-16T13:56:06.958Z"
   },
   {
    "duration": 31,
    "start_time": "2021-12-16T13:56:06.982Z"
   },
   {
    "duration": 26,
    "start_time": "2021-12-16T13:56:07.015Z"
   },
   {
    "duration": 924,
    "start_time": "2021-12-16T13:56:07.043Z"
   },
   {
    "duration": 5,
    "start_time": "2021-12-16T13:56:07.969Z"
   },
   {
    "duration": 19,
    "start_time": "2021-12-16T13:56:07.975Z"
   },
   {
    "duration": 3190,
    "start_time": "2021-12-16T13:56:07.996Z"
   },
   {
    "duration": 3,
    "start_time": "2021-12-16T13:56:11.188Z"
   },
   {
    "duration": 30,
    "start_time": "2021-12-16T13:56:11.193Z"
   },
   {
    "duration": 19,
    "start_time": "2021-12-16T13:56:11.225Z"
   },
   {
    "duration": 15,
    "start_time": "2021-12-16T13:56:11.245Z"
   },
   {
    "duration": 12,
    "start_time": "2021-12-16T13:56:11.262Z"
   },
   {
    "duration": 48,
    "start_time": "2021-12-16T13:56:11.275Z"
   },
   {
    "duration": 12,
    "start_time": "2021-12-16T13:56:11.325Z"
   },
   {
    "duration": 32,
    "start_time": "2021-12-16T13:56:11.338Z"
   },
   {
    "duration": 25,
    "start_time": "2021-12-16T13:56:11.371Z"
   },
   {
    "duration": 10,
    "start_time": "2021-12-16T13:56:11.398Z"
   },
   {
    "duration": 28,
    "start_time": "2021-12-16T13:56:11.410Z"
   },
   {
    "duration": 11,
    "start_time": "2021-12-16T13:56:11.440Z"
   },
   {
    "duration": 31,
    "start_time": "2021-12-16T13:56:11.453Z"
   },
   {
    "duration": 11,
    "start_time": "2021-12-16T13:56:11.486Z"
   },
   {
    "duration": 37,
    "start_time": "2021-12-16T13:56:11.498Z"
   },
   {
    "duration": 10,
    "start_time": "2021-12-16T13:56:11.537Z"
   },
   {
    "duration": 58,
    "start_time": "2021-12-16T14:24:17.900Z"
   },
   {
    "duration": 16,
    "start_time": "2021-12-16T14:25:52.099Z"
   },
   {
    "duration": 532,
    "start_time": "2021-12-17T15:18:34.134Z"
   },
   {
    "duration": 48,
    "start_time": "2021-12-17T15:18:34.668Z"
   },
   {
    "duration": 11,
    "start_time": "2021-12-17T15:18:37.065Z"
   },
   {
    "duration": 6,
    "start_time": "2021-12-17T15:22:10.430Z"
   },
   {
    "duration": 227,
    "start_time": "2021-12-17T15:22:31.452Z"
   },
   {
    "duration": 217,
    "start_time": "2021-12-17T15:22:44.804Z"
   },
   {
    "duration": 221,
    "start_time": "2021-12-17T15:23:31.839Z"
   },
   {
    "duration": 272,
    "start_time": "2021-12-17T15:24:17.478Z"
   },
   {
    "duration": 22,
    "start_time": "2021-12-17T15:26:52.393Z"
   },
   {
    "duration": 31,
    "start_time": "2021-12-17T15:26:58.836Z"
   },
   {
    "duration": 306,
    "start_time": "2021-12-17T15:27:17.499Z"
   },
   {
    "duration": 258,
    "start_time": "2021-12-17T15:27:22.981Z"
   },
   {
    "duration": 259,
    "start_time": "2021-12-17T15:27:32.302Z"
   },
   {
    "duration": 275,
    "start_time": "2021-12-17T15:27:39.346Z"
   },
   {
    "duration": 8,
    "start_time": "2021-12-17T15:27:54.076Z"
   },
   {
    "duration": 12,
    "start_time": "2021-12-17T15:28:08.845Z"
   },
   {
    "duration": 9,
    "start_time": "2021-12-17T15:28:16.866Z"
   },
   {
    "duration": 356,
    "start_time": "2022-08-03T12:10:22.577Z"
   },
   {
    "duration": 291,
    "start_time": "2022-08-03T12:10:22.934Z"
   },
   {
    "duration": 19,
    "start_time": "2022-08-03T12:10:23.228Z"
   },
   {
    "duration": 15,
    "start_time": "2022-08-03T12:10:23.249Z"
   },
   {
    "duration": 30,
    "start_time": "2022-08-03T12:10:23.266Z"
   },
   {
    "duration": 82,
    "start_time": "2022-08-03T12:10:23.298Z"
   },
   {
    "duration": 0,
    "start_time": "2022-08-03T12:10:23.382Z"
   },
   {
    "duration": 0,
    "start_time": "2022-08-03T12:10:23.383Z"
   },
   {
    "duration": 0,
    "start_time": "2022-08-03T12:10:23.384Z"
   },
   {
    "duration": 0,
    "start_time": "2022-08-03T12:10:23.385Z"
   },
   {
    "duration": 1,
    "start_time": "2022-08-03T12:10:23.386Z"
   },
   {
    "duration": 0,
    "start_time": "2022-08-03T12:10:23.388Z"
   },
   {
    "duration": 0,
    "start_time": "2022-08-03T12:10:23.389Z"
   },
   {
    "duration": 0,
    "start_time": "2022-08-03T12:10:23.390Z"
   },
   {
    "duration": 0,
    "start_time": "2022-08-03T12:10:23.391Z"
   },
   {
    "duration": 0,
    "start_time": "2022-08-03T12:10:23.392Z"
   },
   {
    "duration": 0,
    "start_time": "2022-08-03T12:10:23.393Z"
   },
   {
    "duration": 0,
    "start_time": "2022-08-03T12:10:23.394Z"
   },
   {
    "duration": 0,
    "start_time": "2022-08-03T12:10:23.395Z"
   },
   {
    "duration": 0,
    "start_time": "2022-08-03T12:10:23.395Z"
   },
   {
    "duration": 3,
    "start_time": "2022-08-03T12:10:36.477Z"
   },
   {
    "duration": 87,
    "start_time": "2022-08-03T12:10:36.484Z"
   },
   {
    "duration": 16,
    "start_time": "2022-08-03T12:10:36.573Z"
   },
   {
    "duration": 19,
    "start_time": "2022-08-03T12:10:36.590Z"
   },
   {
    "duration": 48,
    "start_time": "2022-08-03T12:10:36.611Z"
   },
   {
    "duration": 7,
    "start_time": "2022-08-03T12:10:36.661Z"
   },
   {
    "duration": 0,
    "start_time": "2022-08-03T12:10:36.670Z"
   },
   {
    "duration": 0,
    "start_time": "2022-08-03T12:10:36.672Z"
   },
   {
    "duration": 0,
    "start_time": "2022-08-03T12:10:36.673Z"
   },
   {
    "duration": 0,
    "start_time": "2022-08-03T12:10:36.675Z"
   },
   {
    "duration": 0,
    "start_time": "2022-08-03T12:10:36.676Z"
   },
   {
    "duration": 0,
    "start_time": "2022-08-03T12:10:36.678Z"
   },
   {
    "duration": 0,
    "start_time": "2022-08-03T12:10:36.679Z"
   },
   {
    "duration": 0,
    "start_time": "2022-08-03T12:10:36.680Z"
   },
   {
    "duration": 0,
    "start_time": "2022-08-03T12:10:36.682Z"
   },
   {
    "duration": 0,
    "start_time": "2022-08-03T12:10:36.683Z"
   },
   {
    "duration": 0,
    "start_time": "2022-08-03T12:10:36.685Z"
   },
   {
    "duration": 0,
    "start_time": "2022-08-03T12:10:36.686Z"
   },
   {
    "duration": 0,
    "start_time": "2022-08-03T12:10:36.688Z"
   },
   {
    "duration": 0,
    "start_time": "2022-08-03T12:10:36.689Z"
   },
   {
    "duration": 459,
    "start_time": "2022-08-03T12:10:58.732Z"
   },
   {
    "duration": 72,
    "start_time": "2022-08-03T12:10:59.193Z"
   },
   {
    "duration": 21,
    "start_time": "2022-08-03T12:10:59.267Z"
   },
   {
    "duration": 14,
    "start_time": "2022-08-03T12:10:59.291Z"
   },
   {
    "duration": 46,
    "start_time": "2022-08-03T12:10:59.307Z"
   },
   {
    "duration": 7,
    "start_time": "2022-08-03T12:10:59.355Z"
   },
   {
    "duration": 1301,
    "start_time": "2022-08-03T12:10:59.364Z"
   },
   {
    "duration": 14,
    "start_time": "2022-08-03T12:11:00.666Z"
   },
   {
    "duration": 12,
    "start_time": "2022-08-03T12:11:00.681Z"
   },
   {
    "duration": 22,
    "start_time": "2022-08-03T12:11:00.696Z"
   },
   {
    "duration": 18,
    "start_time": "2022-08-03T12:11:00.720Z"
   },
   {
    "duration": 14,
    "start_time": "2022-08-03T12:11:00.740Z"
   },
   {
    "duration": 24,
    "start_time": "2022-08-03T12:11:00.756Z"
   },
   {
    "duration": 19,
    "start_time": "2022-08-03T12:11:00.782Z"
   },
   {
    "duration": 38,
    "start_time": "2022-08-03T12:11:00.803Z"
   },
   {
    "duration": 69,
    "start_time": "2022-08-03T12:11:00.843Z"
   },
   {
    "duration": 0,
    "start_time": "2022-08-03T12:11:00.914Z"
   },
   {
    "duration": 0,
    "start_time": "2022-08-03T12:11:00.915Z"
   },
   {
    "duration": 0,
    "start_time": "2022-08-03T12:11:00.916Z"
   },
   {
    "duration": 0,
    "start_time": "2022-08-03T12:11:00.917Z"
   },
   {
    "duration": 15,
    "start_time": "2022-08-03T12:11:05.989Z"
   },
   {
    "duration": 12,
    "start_time": "2022-08-03T12:11:35.662Z"
   },
   {
    "duration": 2520,
    "start_time": "2022-08-03T12:12:00.464Z"
   },
   {
    "duration": 14,
    "start_time": "2022-08-03T12:12:02.986Z"
   },
   {
    "duration": 5,
    "start_time": "2022-08-03T12:12:05.236Z"
   },
   {
    "duration": 16,
    "start_time": "2022-08-03T12:12:07.541Z"
   },
   {
    "duration": 6,
    "start_time": "2022-08-03T12:12:41.633Z"
   },
   {
    "duration": 14,
    "start_time": "2022-08-03T12:12:45.332Z"
   },
   {
    "duration": 411,
    "start_time": "2022-08-03T12:30:06.754Z"
   },
   {
    "duration": 69,
    "start_time": "2022-08-03T12:30:07.167Z"
   },
   {
    "duration": 24,
    "start_time": "2022-08-03T12:30:07.237Z"
   },
   {
    "duration": 15,
    "start_time": "2022-08-03T12:30:07.263Z"
   },
   {
    "duration": 31,
    "start_time": "2022-08-03T12:30:07.280Z"
   },
   {
    "duration": 42,
    "start_time": "2022-08-03T12:30:07.313Z"
   },
   {
    "duration": 1349,
    "start_time": "2022-08-03T12:30:07.357Z"
   },
   {
    "duration": 12,
    "start_time": "2022-08-03T12:30:08.708Z"
   },
   {
    "duration": 24,
    "start_time": "2022-08-03T12:30:08.721Z"
   },
   {
    "duration": 12,
    "start_time": "2022-08-03T12:30:08.752Z"
   },
   {
    "duration": 14,
    "start_time": "2022-08-03T12:30:08.765Z"
   },
   {
    "duration": 14,
    "start_time": "2022-08-03T12:30:08.780Z"
   },
   {
    "duration": 21,
    "start_time": "2022-08-03T12:30:08.796Z"
   },
   {
    "duration": 27,
    "start_time": "2022-08-03T12:30:08.842Z"
   },
   {
    "duration": 14,
    "start_time": "2022-08-03T12:30:08.871Z"
   },
   {
    "duration": 2874,
    "start_time": "2022-08-03T12:30:08.886Z"
   },
   {
    "duration": 16,
    "start_time": "2022-08-03T12:30:11.762Z"
   },
   {
    "duration": 60,
    "start_time": "2022-08-03T12:30:11.779Z"
   },
   {
    "duration": 30,
    "start_time": "2022-08-03T12:30:11.841Z"
   },
   {
    "duration": 6,
    "start_time": "2022-08-03T12:30:11.872Z"
   },
   {
    "duration": 67,
    "start_time": "2022-08-03T12:30:11.880Z"
   },
   {
    "duration": 23,
    "start_time": "2022-08-03T12:30:11.949Z"
   },
   {
    "duration": 73,
    "start_time": "2022-08-03T12:30:11.974Z"
   },
   {
    "duration": 23,
    "start_time": "2022-08-03T12:30:12.049Z"
   },
   {
    "duration": 77,
    "start_time": "2022-08-03T12:30:12.074Z"
   },
   {
    "duration": 27,
    "start_time": "2022-08-03T12:30:12.154Z"
   },
   {
    "duration": 5,
    "start_time": "2022-08-03T12:30:12.182Z"
   },
   {
    "duration": 1460,
    "start_time": "2022-08-03T12:30:12.239Z"
   },
   {
    "duration": 4,
    "start_time": "2022-08-03T12:30:13.702Z"
   },
   {
    "duration": 37,
    "start_time": "2022-08-03T12:30:13.708Z"
   },
   {
    "duration": 3062,
    "start_time": "2022-08-03T12:30:13.750Z"
   },
   {
    "duration": 4,
    "start_time": "2022-08-03T12:30:16.813Z"
   },
   {
    "duration": 23,
    "start_time": "2022-08-03T12:30:16.818Z"
   },
   {
    "duration": 8,
    "start_time": "2022-08-03T12:30:16.843Z"
   },
   {
    "duration": 11,
    "start_time": "2022-08-03T12:30:16.857Z"
   },
   {
    "duration": 5,
    "start_time": "2022-08-03T12:30:16.871Z"
   },
   {
    "duration": 20,
    "start_time": "2022-08-03T12:30:16.878Z"
   },
   {
    "duration": 14,
    "start_time": "2022-08-03T12:30:16.899Z"
   },
   {
    "duration": 17,
    "start_time": "2022-08-03T12:30:16.914Z"
   },
   {
    "duration": 22,
    "start_time": "2022-08-03T12:30:16.933Z"
   },
   {
    "duration": 14,
    "start_time": "2022-08-03T12:30:16.958Z"
   },
   {
    "duration": 511,
    "start_time": "2022-08-03T12:30:16.974Z"
   },
   {
    "duration": 15,
    "start_time": "2022-08-03T12:30:17.487Z"
   },
   {
    "duration": 10,
    "start_time": "2022-08-03T12:30:17.504Z"
   },
   {
    "duration": 32,
    "start_time": "2022-08-03T12:30:17.515Z"
   },
   {
    "duration": 11,
    "start_time": "2022-08-03T12:30:17.549Z"
   },
   {
    "duration": 92,
    "start_time": "2022-08-03T12:30:17.562Z"
   },
   {
    "duration": 0,
    "start_time": "2022-08-03T12:30:17.656Z"
   },
   {
    "duration": 12,
    "start_time": "2022-08-03T12:30:32.014Z"
   },
   {
    "duration": 15,
    "start_time": "2022-08-03T12:30:36.035Z"
   },
   {
    "duration": 425,
    "start_time": "2022-08-03T12:30:45.335Z"
   },
   {
    "duration": 69,
    "start_time": "2022-08-03T12:30:45.762Z"
   },
   {
    "duration": 31,
    "start_time": "2022-08-03T12:30:45.833Z"
   },
   {
    "duration": 21,
    "start_time": "2022-08-03T12:30:45.866Z"
   },
   {
    "duration": 33,
    "start_time": "2022-08-03T12:30:45.889Z"
   },
   {
    "duration": 26,
    "start_time": "2022-08-03T12:30:45.923Z"
   },
   {
    "duration": 1434,
    "start_time": "2022-08-03T12:30:45.951Z"
   },
   {
    "duration": 13,
    "start_time": "2022-08-03T12:30:47.386Z"
   },
   {
    "duration": 6,
    "start_time": "2022-08-03T12:30:47.401Z"
   },
   {
    "duration": 10,
    "start_time": "2022-08-03T12:30:47.409Z"
   },
   {
    "duration": 33,
    "start_time": "2022-08-03T12:30:47.421Z"
   },
   {
    "duration": 16,
    "start_time": "2022-08-03T12:30:47.456Z"
   },
   {
    "duration": 22,
    "start_time": "2022-08-03T12:30:47.475Z"
   },
   {
    "duration": 53,
    "start_time": "2022-08-03T12:30:47.498Z"
   },
   {
    "duration": 14,
    "start_time": "2022-08-03T12:30:47.552Z"
   },
   {
    "duration": 2716,
    "start_time": "2022-08-03T12:30:47.567Z"
   },
   {
    "duration": 14,
    "start_time": "2022-08-03T12:30:50.285Z"
   },
   {
    "duration": 6,
    "start_time": "2022-08-03T12:30:50.301Z"
   },
   {
    "duration": 15,
    "start_time": "2022-08-03T12:30:50.309Z"
   },
   {
    "duration": 24,
    "start_time": "2022-08-03T12:30:50.325Z"
   },
   {
    "duration": 20,
    "start_time": "2022-08-03T12:30:50.356Z"
   },
   {
    "duration": 20,
    "start_time": "2022-08-03T12:30:50.377Z"
   },
   {
    "duration": 33,
    "start_time": "2022-08-03T12:30:50.398Z"
   },
   {
    "duration": 27,
    "start_time": "2022-08-03T12:30:50.432Z"
   },
   {
    "duration": 16,
    "start_time": "2022-08-03T12:30:50.461Z"
   },
   {
    "duration": 16,
    "start_time": "2022-08-03T12:30:50.479Z"
   },
   {
    "duration": 4,
    "start_time": "2022-08-03T12:30:50.497Z"
   },
   {
    "duration": 691,
    "start_time": "2022-08-03T12:30:50.504Z"
   },
   {
    "duration": 4,
    "start_time": "2022-08-03T12:30:51.197Z"
   },
   {
    "duration": 12,
    "start_time": "2022-08-03T12:30:51.203Z"
   },
   {
    "duration": 2841,
    "start_time": "2022-08-03T12:30:51.217Z"
   },
   {
    "duration": 4,
    "start_time": "2022-08-03T12:30:54.059Z"
   },
   {
    "duration": 10,
    "start_time": "2022-08-03T12:30:54.064Z"
   },
   {
    "duration": 7,
    "start_time": "2022-08-03T12:30:54.076Z"
   },
   {
    "duration": 7,
    "start_time": "2022-08-03T12:30:54.085Z"
   },
   {
    "duration": 6,
    "start_time": "2022-08-03T12:30:54.093Z"
   },
   {
    "duration": 46,
    "start_time": "2022-08-03T12:30:54.101Z"
   },
   {
    "duration": 14,
    "start_time": "2022-08-03T12:30:54.150Z"
   },
   {
    "duration": 5,
    "start_time": "2022-08-03T12:30:54.166Z"
   },
   {
    "duration": 13,
    "start_time": "2022-08-03T12:30:54.173Z"
   },
   {
    "duration": 10,
    "start_time": "2022-08-03T12:30:54.188Z"
   },
   {
    "duration": 313,
    "start_time": "2022-08-03T12:30:54.199Z"
   },
   {
    "duration": 14,
    "start_time": "2022-08-03T12:30:54.514Z"
   },
   {
    "duration": 12,
    "start_time": "2022-08-03T12:30:54.544Z"
   },
   {
    "duration": 11,
    "start_time": "2022-08-03T12:30:54.558Z"
   },
   {
    "duration": 10,
    "start_time": "2022-08-03T12:30:54.571Z"
   },
   {
    "duration": 16,
    "start_time": "2022-08-03T12:30:54.583Z"
   },
   {
    "duration": 10,
    "start_time": "2022-08-03T12:30:54.600Z"
   }
  ],
  "kernelspec": {
   "display_name": "Python 3 (ipykernel)",
   "language": "python",
   "name": "python3"
  },
  "language_info": {
   "codemirror_mode": {
    "name": "ipython",
    "version": 3
   },
   "file_extension": ".py",
   "mimetype": "text/x-python",
   "name": "python",
   "nbconvert_exporter": "python",
   "pygments_lexer": "ipython3",
   "version": "3.9.5"
  },
  "toc": {
   "base_numbering": 1,
   "nav_menu": {},
   "number_sections": true,
   "sideBar": true,
   "skip_h1_title": true,
   "title_cell": "Table of Contents",
   "title_sidebar": "Contents",
   "toc_cell": false,
   "toc_position": {},
   "toc_section_display": true,
   "toc_window_display": true
  }
 },
 "nbformat": 4,
 "nbformat_minor": 2
}
