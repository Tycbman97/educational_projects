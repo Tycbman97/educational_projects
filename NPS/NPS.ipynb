{
 "cells": [
  {
   "cell_type": "markdown",
   "id": "a3aa0fe0",
   "metadata": {
    "tags": [
     "aa81075c-062f-4de0-b5fe-14c73dc7468e"
    ]
   },
   "source": [
    "# Исследование опроса клиентов телекомунникационной компании"
   ]
  },
  {
   "cell_type": "markdown",
   "id": "05d2c534",
   "metadata": {},
   "source": [
    "Заказчик этого исследования — большая телекоммуникационная компания, которая оказывает услуги на территории всего СНГ. Перед компанией стоит задача определить текущий уровень потребительской лояльности, или NPS (от англ. Net Promoter Score), среди клиентов из России.\n",
    "\n",
    "Чтобы определить уровень лояльности, клиентам задавали классический вопрос: «Оцените по шкале от 1 до 10 вероятность того, что вы порекомендуете компанию друзьям и знакомым».\n",
    "\n",
    "**Задачи исследования** - ответить на вопросы:\n",
    "1. Как распределены участники опроса по возрасту, полу и возрасту? Каких пользователей больше: новых или старых? Пользователи из каких городов активнее участвовали в опросе?\n",
    "2. Какие группы пользователей наиболее лояльны к сервису? Какие менее?\n",
    "3. Какой общий NPS среди всех опрошенных?\n",
    "4. Как можно описать клиентов, которые относятся к группе cторонников (англ. promoters)?\n",
    "\n",
    "**Ход исследования**:\n",
    "1. Подключение к базе\n",
    "2. Выгрузка данных \n",
    "   2.1. Создание SQL запроса\n",
    "   2.2. Вывод данных\n",
    "   2.3. Изучение данных\n",
    "   2.4. Сохранение данных в csv файл\n",
    "3. Создание дашборда в Tableau\n",
    "4. Ответы на вопросы с выводами  в презентации\n"
   ]
  },
  {
   "cell_type": "markdown",
   "id": "d06acee6",
   "metadata": {},
   "source": [
    "## Подключение к базе"
   ]
  },
  {
   "cell_type": "code",
   "execution_count": 1,
   "id": "f7b88ee3",
   "metadata": {},
   "outputs": [],
   "source": [
    "# импорт нужных библиотек\n",
    "import pandas as pd\n",
    "import numpy as np\n",
    "\n",
    "from sqlalchemy import create_engine"
   ]
  },
  {
   "cell_type": "code",
   "execution_count": 2,
   "id": "795b4ad3",
   "metadata": {},
   "outputs": [],
   "source": [
    "path_to_db = '/datasets/telecomm_csi.db' # путь к файлу\n",
    "engine = create_engine(f'sqlite:///{path_to_db}', echo = False)"
   ]
  },
  {
   "cell_type": "markdown",
   "id": "de2c2dd0",
   "metadata": {},
   "source": [
    "## Выгрузка данных "
   ]
  },
  {
   "cell_type": "markdown",
   "id": "99fbadb2",
   "metadata": {},
   "source": [
    "### Создание SQL запроса"
   ]
  },
  {
   "cell_type": "code",
   "execution_count": 3,
   "id": "1c44af83",
   "metadata": {},
   "outputs": [],
   "source": [
    "query = \"\"\"\n",
    "\n",
    "SELECT user.user_id,\n",
    "       user.lt_day,\n",
    "       CASE\n",
    "           WHEN user.lt_day <= 365 THEN 'новый'\n",
    "           WHEN user.lt_day > 365 THEN 'не новый'\n",
    "       END AS is_new,\n",
    "       user.age,\n",
    "       CASE \n",
    "           WHEN user.gender_segment = 1 THEN 'женщина'\n",
    "           WHEN user.gender_segment = 0 THEN 'мужчина'\n",
    "       END AS gender_segment,\n",
    "       user.os_name,\n",
    "       user.cpe_type_name,\n",
    "       location.country,\n",
    "       location.city,\n",
    "       substr(age_segment.title, 4) AS age_segment,\n",
    "       substr(traffic_segment.title, 4) AS traffic_segment,\n",
    "       substr(lifetime_segment.title, 4) AS lifetime_segment,\n",
    "       user.nps_score,\n",
    "       CASE \n",
    "           WHEN user.nps_score < 7 THEN 'критики'\n",
    "           WHEN user.nps_score > 6 AND user.nps_score < 9 THEN 'нейтралы'\n",
    "           WHEN user.nps_score > 8 THEN 'сторонники'\n",
    "       END AS nps_group\n",
    "FROM user AS user\n",
    "JOIN location AS location ON user.location_id = location.location_id\n",
    "JOIN age_segment AS age_segment ON user.age_gr_id = age_segment.age_gr_id\n",
    "JOIN traffic_segment AS traffic_segment ON user.tr_gr_id = traffic_segment.tr_gr_id\n",
    "JOIN lifetime_segment AS lifetime_segment ON user.lt_gr_id = lifetime_segment.lt_gr_id;\n",
    "\n",
    "\"\"\""
   ]
  },
  {
   "cell_type": "markdown",
   "id": "b81f5ea3",
   "metadata": {},
   "source": [
    "### Вывод данных"
   ]
  },
  {
   "cell_type": "code",
   "execution_count": 4,
   "id": "e8470475",
   "metadata": {},
   "outputs": [
    {
     "data": {
      "text/html": [
       "<div>\n",
       "<style scoped>\n",
       "    .dataframe tbody tr th:only-of-type {\n",
       "        vertical-align: middle;\n",
       "    }\n",
       "\n",
       "    .dataframe tbody tr th {\n",
       "        vertical-align: top;\n",
       "    }\n",
       "\n",
       "    .dataframe thead th {\n",
       "        text-align: right;\n",
       "    }\n",
       "</style>\n",
       "<table border=\"1\" class=\"dataframe\">\n",
       "  <thead>\n",
       "    <tr style=\"text-align: right;\">\n",
       "      <th></th>\n",
       "      <th>user_id</th>\n",
       "      <th>lt_day</th>\n",
       "      <th>is_new</th>\n",
       "      <th>age</th>\n",
       "      <th>gender_segment</th>\n",
       "      <th>os_name</th>\n",
       "      <th>cpe_type_name</th>\n",
       "      <th>country</th>\n",
       "      <th>city</th>\n",
       "      <th>age_segment</th>\n",
       "      <th>traffic_segment</th>\n",
       "      <th>lifetime_segment</th>\n",
       "      <th>nps_score</th>\n",
       "      <th>nps_group</th>\n",
       "    </tr>\n",
       "  </thead>\n",
       "  <tbody>\n",
       "    <tr>\n",
       "      <th>0</th>\n",
       "      <td>A001A2</td>\n",
       "      <td>2320</td>\n",
       "      <td>не новый</td>\n",
       "      <td>45.0</td>\n",
       "      <td>женщина</td>\n",
       "      <td>ANDROID</td>\n",
       "      <td>SMARTPHONE</td>\n",
       "      <td>Россия</td>\n",
       "      <td>Уфа</td>\n",
       "      <td>45-54</td>\n",
       "      <td>1-5</td>\n",
       "      <td>36+</td>\n",
       "      <td>10</td>\n",
       "      <td>сторонники</td>\n",
       "    </tr>\n",
       "    <tr>\n",
       "      <th>1</th>\n",
       "      <td>A001WF</td>\n",
       "      <td>2344</td>\n",
       "      <td>не новый</td>\n",
       "      <td>53.0</td>\n",
       "      <td>мужчина</td>\n",
       "      <td>ANDROID</td>\n",
       "      <td>SMARTPHONE</td>\n",
       "      <td>Россия</td>\n",
       "      <td>Киров</td>\n",
       "      <td>45-54</td>\n",
       "      <td>1-5</td>\n",
       "      <td>36+</td>\n",
       "      <td>10</td>\n",
       "      <td>сторонники</td>\n",
       "    </tr>\n",
       "    <tr>\n",
       "      <th>2</th>\n",
       "      <td>A003Q7</td>\n",
       "      <td>467</td>\n",
       "      <td>не новый</td>\n",
       "      <td>57.0</td>\n",
       "      <td>мужчина</td>\n",
       "      <td>ANDROID</td>\n",
       "      <td>SMARTPHONE</td>\n",
       "      <td>Россия</td>\n",
       "      <td>Москва</td>\n",
       "      <td>55-64</td>\n",
       "      <td>20-25</td>\n",
       "      <td>13-24</td>\n",
       "      <td>10</td>\n",
       "      <td>сторонники</td>\n",
       "    </tr>\n",
       "    <tr>\n",
       "      <th>3</th>\n",
       "      <td>A004TB</td>\n",
       "      <td>4190</td>\n",
       "      <td>не новый</td>\n",
       "      <td>44.0</td>\n",
       "      <td>женщина</td>\n",
       "      <td>IOS</td>\n",
       "      <td>SMARTPHONE</td>\n",
       "      <td>Россия</td>\n",
       "      <td>РостовнаДону</td>\n",
       "      <td>35-44</td>\n",
       "      <td>0.1-1</td>\n",
       "      <td>36+</td>\n",
       "      <td>10</td>\n",
       "      <td>сторонники</td>\n",
       "    </tr>\n",
       "    <tr>\n",
       "      <th>4</th>\n",
       "      <td>A004XT</td>\n",
       "      <td>1163</td>\n",
       "      <td>не новый</td>\n",
       "      <td>24.0</td>\n",
       "      <td>мужчина</td>\n",
       "      <td>ANDROID</td>\n",
       "      <td>SMARTPHONE</td>\n",
       "      <td>Россия</td>\n",
       "      <td>Рязань</td>\n",
       "      <td>16-24</td>\n",
       "      <td>5-10</td>\n",
       "      <td>36+</td>\n",
       "      <td>10</td>\n",
       "      <td>сторонники</td>\n",
       "    </tr>\n",
       "    <tr>\n",
       "      <th>5</th>\n",
       "      <td>A005O0</td>\n",
       "      <td>5501</td>\n",
       "      <td>не новый</td>\n",
       "      <td>42.0</td>\n",
       "      <td>женщина</td>\n",
       "      <td>ANDROID</td>\n",
       "      <td>SMARTPHONE</td>\n",
       "      <td>Россия</td>\n",
       "      <td>Омск</td>\n",
       "      <td>35-44</td>\n",
       "      <td>5-10</td>\n",
       "      <td>36+</td>\n",
       "      <td>6</td>\n",
       "      <td>критики</td>\n",
       "    </tr>\n",
       "    <tr>\n",
       "      <th>6</th>\n",
       "      <td>A0061R</td>\n",
       "      <td>1236</td>\n",
       "      <td>не новый</td>\n",
       "      <td>45.0</td>\n",
       "      <td>мужчина</td>\n",
       "      <td>ANDROID</td>\n",
       "      <td>SMARTPHONE</td>\n",
       "      <td>Россия</td>\n",
       "      <td>Уфа</td>\n",
       "      <td>45-54</td>\n",
       "      <td>10-15</td>\n",
       "      <td>36+</td>\n",
       "      <td>10</td>\n",
       "      <td>сторонники</td>\n",
       "    </tr>\n",
       "    <tr>\n",
       "      <th>7</th>\n",
       "      <td>A009KS</td>\n",
       "      <td>313</td>\n",
       "      <td>новый</td>\n",
       "      <td>35.0</td>\n",
       "      <td>мужчина</td>\n",
       "      <td>ANDROID</td>\n",
       "      <td>SMARTPHONE</td>\n",
       "      <td>Россия</td>\n",
       "      <td>Москва</td>\n",
       "      <td>35-44</td>\n",
       "      <td>45-50</td>\n",
       "      <td>7-12</td>\n",
       "      <td>10</td>\n",
       "      <td>сторонники</td>\n",
       "    </tr>\n",
       "    <tr>\n",
       "      <th>8</th>\n",
       "      <td>A00AES</td>\n",
       "      <td>3238</td>\n",
       "      <td>не новый</td>\n",
       "      <td>36.0</td>\n",
       "      <td>женщина</td>\n",
       "      <td>ANDROID</td>\n",
       "      <td>SMARTPHONE</td>\n",
       "      <td>Россия</td>\n",
       "      <td>СанктПетербург</td>\n",
       "      <td>35-44</td>\n",
       "      <td>1-5</td>\n",
       "      <td>36+</td>\n",
       "      <td>10</td>\n",
       "      <td>сторонники</td>\n",
       "    </tr>\n",
       "    <tr>\n",
       "      <th>9</th>\n",
       "      <td>A00F70</td>\n",
       "      <td>4479</td>\n",
       "      <td>не новый</td>\n",
       "      <td>54.0</td>\n",
       "      <td>женщина</td>\n",
       "      <td>ANDROID</td>\n",
       "      <td>SMARTPHONE</td>\n",
       "      <td>Россия</td>\n",
       "      <td>Волгоград</td>\n",
       "      <td>45-54</td>\n",
       "      <td>15-20</td>\n",
       "      <td>36+</td>\n",
       "      <td>9</td>\n",
       "      <td>сторонники</td>\n",
       "    </tr>\n",
       "    <tr>\n",
       "      <th>10</th>\n",
       "      <td>A00HL5</td>\n",
       "      <td>5297</td>\n",
       "      <td>не новый</td>\n",
       "      <td>39.0</td>\n",
       "      <td>мужчина</td>\n",
       "      <td>ANDROID</td>\n",
       "      <td>SMARTPHONE</td>\n",
       "      <td>Россия</td>\n",
       "      <td>Тольятти</td>\n",
       "      <td>35-44</td>\n",
       "      <td>25-30</td>\n",
       "      <td>36+</td>\n",
       "      <td>10</td>\n",
       "      <td>сторонники</td>\n",
       "    </tr>\n",
       "    <tr>\n",
       "      <th>11</th>\n",
       "      <td>A00NDN</td>\n",
       "      <td>1374</td>\n",
       "      <td>не новый</td>\n",
       "      <td>21.0</td>\n",
       "      <td>мужчина</td>\n",
       "      <td>ANDROID</td>\n",
       "      <td>SMARTPHONE</td>\n",
       "      <td>Россия</td>\n",
       "      <td>Рязань</td>\n",
       "      <td>16-24</td>\n",
       "      <td>10-15</td>\n",
       "      <td>36+</td>\n",
       "      <td>2</td>\n",
       "      <td>критики</td>\n",
       "    </tr>\n",
       "    <tr>\n",
       "      <th>12</th>\n",
       "      <td>A00P46</td>\n",
       "      <td>179</td>\n",
       "      <td>новый</td>\n",
       "      <td>27.0</td>\n",
       "      <td>мужчина</td>\n",
       "      <td>ANDROID</td>\n",
       "      <td>SMARTPHONE</td>\n",
       "      <td>Россия</td>\n",
       "      <td>Казань</td>\n",
       "      <td>25-34</td>\n",
       "      <td>45-50</td>\n",
       "      <td>4-6</td>\n",
       "      <td>10</td>\n",
       "      <td>сторонники</td>\n",
       "    </tr>\n",
       "    <tr>\n",
       "      <th>13</th>\n",
       "      <td>A00SA7</td>\n",
       "      <td>667</td>\n",
       "      <td>не новый</td>\n",
       "      <td>60.0</td>\n",
       "      <td>мужчина</td>\n",
       "      <td>ANDROID</td>\n",
       "      <td>TABLET</td>\n",
       "      <td>Россия</td>\n",
       "      <td>Казань</td>\n",
       "      <td>55-64</td>\n",
       "      <td>5-10</td>\n",
       "      <td>13-24</td>\n",
       "      <td>5</td>\n",
       "      <td>критики</td>\n",
       "    </tr>\n",
       "    <tr>\n",
       "      <th>14</th>\n",
       "      <td>A00U8A</td>\n",
       "      <td>2908</td>\n",
       "      <td>не новый</td>\n",
       "      <td>44.0</td>\n",
       "      <td>женщина</td>\n",
       "      <td>ANDROID</td>\n",
       "      <td>SMARTPHONE</td>\n",
       "      <td>Россия</td>\n",
       "      <td>СанктПетербург</td>\n",
       "      <td>35-44</td>\n",
       "      <td>5-10</td>\n",
       "      <td>36+</td>\n",
       "      <td>10</td>\n",
       "      <td>сторонники</td>\n",
       "    </tr>\n",
       "  </tbody>\n",
       "</table>\n",
       "</div>"
      ],
      "text/plain": [
       "   user_id  lt_day    is_new   age gender_segment  os_name cpe_type_name  \\\n",
       "0   A001A2    2320  не новый  45.0        женщина  ANDROID    SMARTPHONE   \n",
       "1   A001WF    2344  не новый  53.0        мужчина  ANDROID    SMARTPHONE   \n",
       "2   A003Q7     467  не новый  57.0        мужчина  ANDROID    SMARTPHONE   \n",
       "3   A004TB    4190  не новый  44.0        женщина      IOS    SMARTPHONE   \n",
       "4   A004XT    1163  не новый  24.0        мужчина  ANDROID    SMARTPHONE   \n",
       "5   A005O0    5501  не новый  42.0        женщина  ANDROID    SMARTPHONE   \n",
       "6   A0061R    1236  не новый  45.0        мужчина  ANDROID    SMARTPHONE   \n",
       "7   A009KS     313     новый  35.0        мужчина  ANDROID    SMARTPHONE   \n",
       "8   A00AES    3238  не новый  36.0        женщина  ANDROID    SMARTPHONE   \n",
       "9   A00F70    4479  не новый  54.0        женщина  ANDROID    SMARTPHONE   \n",
       "10  A00HL5    5297  не новый  39.0        мужчина  ANDROID    SMARTPHONE   \n",
       "11  A00NDN    1374  не новый  21.0        мужчина  ANDROID    SMARTPHONE   \n",
       "12  A00P46     179     новый  27.0        мужчина  ANDROID    SMARTPHONE   \n",
       "13  A00SA7     667  не новый  60.0        мужчина  ANDROID        TABLET   \n",
       "14  A00U8A    2908  не новый  44.0        женщина  ANDROID    SMARTPHONE   \n",
       "\n",
       "   country            city age_segment traffic_segment lifetime_segment  \\\n",
       "0   Россия             Уфа       45-54             1-5              36+   \n",
       "1   Россия           Киров       45-54             1-5              36+   \n",
       "2   Россия          Москва       55-64           20-25            13-24   \n",
       "3   Россия    РостовнаДону       35-44           0.1-1              36+   \n",
       "4   Россия          Рязань       16-24            5-10              36+   \n",
       "5   Россия            Омск       35-44            5-10              36+   \n",
       "6   Россия             Уфа       45-54           10-15              36+   \n",
       "7   Россия          Москва       35-44           45-50             7-12   \n",
       "8   Россия  СанктПетербург       35-44             1-5              36+   \n",
       "9   Россия       Волгоград       45-54           15-20              36+   \n",
       "10  Россия        Тольятти       35-44           25-30              36+   \n",
       "11  Россия          Рязань       16-24           10-15              36+   \n",
       "12  Россия          Казань       25-34           45-50              4-6   \n",
       "13  Россия          Казань       55-64            5-10            13-24   \n",
       "14  Россия  СанктПетербург       35-44            5-10              36+   \n",
       "\n",
       "    nps_score   nps_group  \n",
       "0          10  сторонники  \n",
       "1          10  сторонники  \n",
       "2          10  сторонники  \n",
       "3          10  сторонники  \n",
       "4          10  сторонники  \n",
       "5           6     критики  \n",
       "6          10  сторонники  \n",
       "7          10  сторонники  \n",
       "8          10  сторонники  \n",
       "9           9  сторонники  \n",
       "10         10  сторонники  \n",
       "11          2     критики  \n",
       "12         10  сторонники  \n",
       "13          5     критики  \n",
       "14         10  сторонники  "
      ]
     },
     "execution_count": 4,
     "metadata": {},
     "output_type": "execute_result"
    }
   ],
   "source": [
    "df = pd.read_sql(query, engine)\n",
    "df.head(15)"
   ]
  },
  {
   "cell_type": "markdown",
   "id": "76e93ca8",
   "metadata": {},
   "source": [
    "### Изучение данных"
   ]
  },
  {
   "cell_type": "markdown",
   "id": "6d1e12b0",
   "metadata": {},
   "source": [
    "Мы извлекли нужные нам данные и имеем следующую информацию:\n",
    "\n",
    "* `user_id` -\tидентификатор клиента\n",
    "* `lt_day` - количество дней «жизни» клиента\n",
    "* `is_new` - поле хранит информацию о том, является ли клиент новым\n",
    "* `age` -\tвозраст\n",
    "* `gender_segment` - пол \n",
    "* `os_name` -\tтип операционной системы\n",
    "* `cpe_type_name` - тип устройства\n",
    "* `country` - страна проживания\n",
    "* `city` - город проживания\n",
    "* `age_segment` - возрастной сегмент\n",
    "* `traffic_segment` - сегмент по объёму потребляемого трафика\n",
    "* `lifetime_segment` - сегмент по количеству дней «жизни»\n",
    "* `nps_score` - оценка клиента в NPS-опросе\n",
    "* `nps_group` - поле хранит информацию о том, к какой группе относится оценка клиента в опросе"
   ]
  },
  {
   "cell_type": "markdown",
   "id": "38f6e6d2",
   "metadata": {},
   "source": [
    "### Сохранение данных"
   ]
  },
  {
   "cell_type": "code",
   "execution_count": 5,
   "id": "065221f9",
   "metadata": {},
   "outputs": [],
   "source": [
    "# сохраним данные в csv формате\n",
    "df.to_csv('telecomm_csi_tableau.csv', index=False)"
   ]
  },
  {
   "cell_type": "markdown",
   "id": "b9ad2c70",
   "metadata": {},
   "source": [
    "## Создание дашборда в Tableau"
   ]
  },
  {
   "cell_type": "markdown",
   "id": "99375c48",
   "metadata": {},
   "source": [
    "*Ссылка на дашборд* : https://public.tableau.com/app/profile/.85962202/viz/NPS_V2/Dashboard1?publish=yes"
   ]
  },
  {
   "cell_type": "markdown",
   "id": "692c36f5",
   "metadata": {},
   "source": [
    "## Ответы на вопросы с выводами в презентации"
   ]
  },
  {
   "cell_type": "markdown",
   "id": "fe72f110",
   "metadata": {},
   "source": [
    "*Ссылка на презентацию* : https://drive.google.com/file/d/15HikldRn2kwTAP_9Hsd7Pvcwapb0Knw4/view?usp=sharing"
   ]
  }
 ],
 "metadata": {
  "ExecuteTimeLog": [
   {
    "duration": 752,
    "start_time": "2021-10-03T17:40:52.731Z"
   },
   {
    "duration": 20,
    "start_time": "2021-10-03T17:40:53.486Z"
   },
   {
    "duration": 4,
    "start_time": "2021-10-03T17:41:04.638Z"
   },
   {
    "duration": 461,
    "start_time": "2021-10-03T17:41:04.912Z"
   },
   {
    "duration": 284,
    "start_time": "2021-10-03T17:41:05.376Z"
   },
   {
    "duration": 574,
    "start_time": "2021-10-06T07:55:05.029Z"
   },
   {
    "duration": 6,
    "start_time": "2021-10-06T07:55:05.605Z"
   },
   {
    "duration": 3,
    "start_time": "2021-10-06T07:55:14.685Z"
   },
   {
    "duration": 406,
    "start_time": "2021-10-06T07:55:15.522Z"
   },
   {
    "duration": 67,
    "start_time": "2021-10-06T07:55:15.929Z"
   },
   {
    "duration": 840,
    "start_time": "2021-10-07T07:54:04.647Z"
   },
   {
    "duration": 10,
    "start_time": "2021-10-07T07:54:05.490Z"
   },
   {
    "duration": 4,
    "start_time": "2021-10-07T07:54:05.544Z"
   },
   {
    "duration": 391,
    "start_time": "2021-10-07T07:54:06.237Z"
   },
   {
    "duration": 293,
    "start_time": "2021-10-07T07:54:06.654Z"
   },
   {
    "duration": 696,
    "start_time": "2022-04-19T13:42:20.381Z"
   },
   {
    "duration": 37,
    "start_time": "2022-04-19T13:42:21.713Z"
   },
   {
    "duration": 4,
    "start_time": "2022-04-19T13:42:22.206Z"
   },
   {
    "duration": 272,
    "start_time": "2022-04-19T13:42:22.719Z"
   },
   {
    "duration": 649,
    "start_time": "2022-04-19T13:42:23.709Z"
   },
   {
    "duration": 571,
    "start_time": "2022-04-20T08:36:44.876Z"
   },
   {
    "duration": 29,
    "start_time": "2022-04-20T08:36:46.159Z"
   },
   {
    "duration": 3,
    "start_time": "2022-04-20T08:36:46.995Z"
   },
   {
    "duration": 351,
    "start_time": "2022-04-20T08:36:47.886Z"
   },
   {
    "duration": 4,
    "start_time": "2022-04-20T08:37:46.704Z"
   },
   {
    "duration": 3,
    "start_time": "2022-04-20T08:37:53.026Z"
   },
   {
    "duration": 4,
    "start_time": "2022-04-20T08:37:53.589Z"
   },
   {
    "duration": 3,
    "start_time": "2022-04-20T08:37:54.124Z"
   },
   {
    "duration": 243,
    "start_time": "2022-04-20T08:37:55.909Z"
   },
   {
    "duration": 2,
    "start_time": "2022-04-20T08:38:57.101Z"
   },
   {
    "duration": 264,
    "start_time": "2022-04-20T08:38:58.471Z"
   },
   {
    "duration": 3,
    "start_time": "2022-04-20T08:40:23.205Z"
   },
   {
    "duration": 251,
    "start_time": "2022-04-20T08:40:24.244Z"
   },
   {
    "duration": 3,
    "start_time": "2022-04-20T08:41:52.516Z"
   },
   {
    "duration": 4201,
    "start_time": "2022-04-20T08:41:53.352Z"
   },
   {
    "duration": 3,
    "start_time": "2022-04-20T08:43:40.575Z"
   },
   {
    "duration": 5685,
    "start_time": "2022-04-20T08:43:41.250Z"
   },
   {
    "duration": 2,
    "start_time": "2022-04-20T08:55:49.737Z"
   },
   {
    "duration": 4590,
    "start_time": "2022-04-20T08:55:50.436Z"
   },
   {
    "duration": 3,
    "start_time": "2022-04-20T08:58:22.506Z"
   },
   {
    "duration": 178,
    "start_time": "2022-04-20T08:58:23.383Z"
   },
   {
    "duration": 2,
    "start_time": "2022-04-20T08:58:30.970Z"
   },
   {
    "duration": 3,
    "start_time": "2022-04-20T08:58:41.126Z"
   },
   {
    "duration": 176,
    "start_time": "2022-04-20T08:58:43.409Z"
   },
   {
    "duration": 3,
    "start_time": "2022-04-20T08:59:23.648Z"
   },
   {
    "duration": 4451,
    "start_time": "2022-04-20T08:59:24.358Z"
   },
   {
    "duration": 3,
    "start_time": "2022-04-20T09:00:04.480Z"
   },
   {
    "duration": 258,
    "start_time": "2022-04-20T09:00:09.782Z"
   },
   {
    "duration": 3,
    "start_time": "2022-04-20T09:00:31.316Z"
   },
   {
    "duration": 4705,
    "start_time": "2022-04-20T09:00:34.647Z"
   },
   {
    "duration": 3,
    "start_time": "2022-04-20T09:00:55.890Z"
   },
   {
    "duration": 186,
    "start_time": "2022-04-20T09:00:56.960Z"
   },
   {
    "duration": 3,
    "start_time": "2022-04-20T09:02:25.216Z"
   },
   {
    "duration": 4500,
    "start_time": "2022-04-20T09:02:25.801Z"
   },
   {
    "duration": 5117,
    "start_time": "2022-04-20T09:02:33.429Z"
   },
   {
    "duration": 4453,
    "start_time": "2022-04-20T09:02:39.730Z"
   },
   {
    "duration": 3,
    "start_time": "2022-04-20T09:05:19.053Z"
   },
   {
    "duration": 4855,
    "start_time": "2022-04-20T09:05:20.698Z"
   },
   {
    "duration": 3,
    "start_time": "2022-04-20T09:07:48.147Z"
   },
   {
    "duration": 257,
    "start_time": "2022-04-20T09:07:49.025Z"
   },
   {
    "duration": 3,
    "start_time": "2022-04-20T09:08:01.283Z"
   },
   {
    "duration": 541,
    "start_time": "2022-04-20T09:08:25.090Z"
   },
   {
    "duration": 34,
    "start_time": "2022-04-20T09:08:25.633Z"
   },
   {
    "duration": 4,
    "start_time": "2022-04-20T09:08:26.196Z"
   },
   {
    "duration": 5150,
    "start_time": "2022-04-20T09:08:27.243Z"
   },
   {
    "duration": 4,
    "start_time": "2022-04-20T09:08:56.335Z"
   },
   {
    "duration": 8459,
    "start_time": "2022-04-20T09:08:56.965Z"
   },
   {
    "duration": 4,
    "start_time": "2022-04-20T09:09:19.433Z"
   },
   {
    "duration": 269,
    "start_time": "2022-04-20T09:09:22.940Z"
   },
   {
    "duration": 4,
    "start_time": "2022-04-20T09:09:33.156Z"
   },
   {
    "duration": 4931,
    "start_time": "2022-04-20T09:09:36.494Z"
   },
   {
    "duration": 3,
    "start_time": "2022-04-20T09:11:22.110Z"
   },
   {
    "duration": 4974,
    "start_time": "2022-04-20T09:11:23.491Z"
   },
   {
    "duration": 3,
    "start_time": "2022-04-20T09:13:24.337Z"
   },
   {
    "duration": 5287,
    "start_time": "2022-04-20T09:13:25.696Z"
   },
   {
    "duration": 3,
    "start_time": "2022-04-20T09:16:02.796Z"
   },
   {
    "duration": 5505,
    "start_time": "2022-04-20T09:16:04.170Z"
   },
   {
    "duration": 4,
    "start_time": "2022-04-20T09:17:15.381Z"
   },
   {
    "duration": 259,
    "start_time": "2022-04-20T09:17:17.975Z"
   },
   {
    "duration": 3,
    "start_time": "2022-04-20T09:17:30.093Z"
   },
   {
    "duration": 5135,
    "start_time": "2022-04-20T09:17:30.855Z"
   },
   {
    "duration": 555,
    "start_time": "2022-04-20T09:23:27.337Z"
   },
   {
    "duration": 9,
    "start_time": "2022-04-20T09:23:27.895Z"
   },
   {
    "duration": 4,
    "start_time": "2022-04-20T09:23:27.906Z"
   },
   {
    "duration": 5503,
    "start_time": "2022-04-20T09:23:28.578Z"
   },
   {
    "duration": 543,
    "start_time": "2022-04-22T04:34:33.139Z"
   },
   {
    "duration": 15,
    "start_time": "2022-04-22T04:34:33.684Z"
   },
   {
    "duration": 4,
    "start_time": "2022-04-22T04:34:33.700Z"
   },
   {
    "duration": 5613,
    "start_time": "2022-04-22T04:34:33.706Z"
   },
   {
    "duration": 3693,
    "start_time": "2022-04-22T04:34:39.321Z"
   },
   {
    "duration": 12,
    "start_time": "2022-04-22T08:48:46.722Z"
   },
   {
    "duration": 119,
    "start_time": "2022-04-22T08:48:48.244Z"
   },
   {
    "duration": 707,
    "start_time": "2022-04-22T08:48:54.953Z"
   },
   {
    "duration": 33,
    "start_time": "2022-04-22T08:48:55.663Z"
   },
   {
    "duration": 5,
    "start_time": "2022-04-22T08:48:57.234Z"
   },
   {
    "duration": 12615,
    "start_time": "2022-04-22T08:48:58.508Z"
   },
   {
    "duration": 5,
    "start_time": "2022-04-22T08:50:34.784Z"
   },
   {
    "duration": 7446,
    "start_time": "2022-04-22T08:50:35.624Z"
   },
   {
    "duration": 484,
    "start_time": "2022-04-23T04:10:59.520Z"
   },
   {
    "duration": 8,
    "start_time": "2022-04-23T04:11:00.006Z"
   },
   {
    "duration": 3,
    "start_time": "2022-04-23T04:11:00.016Z"
   },
   {
    "duration": 5299,
    "start_time": "2022-04-23T04:11:00.021Z"
   },
   {
    "duration": 3854,
    "start_time": "2022-04-23T04:11:05.322Z"
   },
   {
    "duration": 46,
    "start_time": "2022-08-08T10:58:50.996Z"
   },
   {
    "duration": 488,
    "start_time": "2022-08-08T10:58:59.969Z"
   },
   {
    "duration": 8,
    "start_time": "2022-08-08T10:59:00.460Z"
   },
   {
    "duration": 15,
    "start_time": "2022-08-08T10:59:00.469Z"
   },
   {
    "duration": 6816,
    "start_time": "2022-08-08T10:59:00.486Z"
   },
   {
    "duration": 5528,
    "start_time": "2022-08-08T10:59:07.304Z"
   }
  ],
  "kernelspec": {
   "display_name": "Python 3 (ipykernel)",
   "language": "python",
   "name": "python3"
  },
  "language_info": {
   "codemirror_mode": {
    "name": "ipython",
    "version": 3
   },
   "file_extension": ".py",
   "mimetype": "text/x-python",
   "name": "python",
   "nbconvert_exporter": "python",
   "pygments_lexer": "ipython3",
   "version": "3.9.5"
  },
  "toc": {
   "base_numbering": 1,
   "nav_menu": {},
   "number_sections": true,
   "sideBar": true,
   "skip_h1_title": true,
   "title_cell": "Table of Contents",
   "title_sidebar": "Contents",
   "toc_cell": false,
   "toc_position": {},
   "toc_section_display": true,
   "toc_window_display": true
  }
 },
 "nbformat": 4,
 "nbformat_minor": 5
}
