{
 "cells": [
  {
   "cell_type": "markdown",
   "metadata": {
    "id": "sIfNaMOxgFyK"
   },
   "source": [
    "# Исследование данных о российском кинопрокате\n",
    "\n",
    "В нашем распоряжение данные, опубликованные на портале открытых данных Министерства культуры. Набор данных содержит информацию о прокатных удостоверениях, сборах и государственной поддержке фильмов, а также информацию с сайта КиноПоиск.\n",
    "\n",
    "Заказчик исследования — Министерство культуры Российской Федерации.\n",
    "\n",
    "**Цель исследования** - изучить рынок российского кинопроката и выявить текущие тренды. Обратить внимание на фильмы, которые получили государственную поддержку, чтобы ответить на вопрос, насколько такие фильмы интересны зрителю.\n",
    "\n",
    "**Ход исследования**\n",
    "\n",
    "Данные для исследования в файлах mkrf_movies.csv и mkrf_shows.csv. О качестве данных ничего не известно.\n",
    "Поэтому перед тем, чтобы начать исследование, понадобится обзор данных.\n",
    "\n",
    "Проверим данные на ошибки и оценим их влияние на исследование. На этапе предобработки мы\n",
    "поищем возможность исправить самые критичные ошибки данных.\n",
    "\n",
    "Таким образом, исследование пройдёт в несколько этапов:\n",
    "\n",
    "1. Обзор данных\n",
    "2. Предобработка данных\n",
    "3. Исследовастелький анализ данных\n",
    "4. Исследование фильмов с государственной поддержкой\n",
    "5. Вывод исследования\n"
   ]
  },
  {
   "cell_type": "markdown",
   "metadata": {},
   "source": [
    "### Обзор данных"
   ]
  },
  {
   "cell_type": "markdown",
   "metadata": {},
   "source": [
    "Составим общее впечатление о данных кинематографа."
   ]
  },
  {
   "cell_type": "code",
   "execution_count": 1,
   "metadata": {
    "id": "dw87FlzMgFyM"
   },
   "outputs": [],
   "source": [
    "# импорт библиотеки pandas\n",
    "import pandas as pd\n",
    "# импорт библиотеки numpy\n",
    "import numpy as np\n",
    "# импорт библиотеки matplotlib\n",
    "import matplotlib.pyplot as plt"
   ]
  },
  {
   "cell_type": "markdown",
   "metadata": {},
   "source": [
    "Прочитаем файл `mkrf_movies.csv` из папки /datasets и сохраним его в переменной `data_movies`. Выведем первые 5 строк таблицы на экран."
   ]
  },
  {
   "cell_type": "code",
   "execution_count": 2,
   "metadata": {
    "scrolled": true
   },
   "outputs": [
    {
     "data": {
      "text/html": [
       "<div>\n",
       "<style scoped>\n",
       "    .dataframe tbody tr th:only-of-type {\n",
       "        vertical-align: middle;\n",
       "    }\n",
       "\n",
       "    .dataframe tbody tr th {\n",
       "        vertical-align: top;\n",
       "    }\n",
       "\n",
       "    .dataframe thead th {\n",
       "        text-align: right;\n",
       "    }\n",
       "</style>\n",
       "<table border=\"1\" class=\"dataframe\">\n",
       "  <thead>\n",
       "    <tr style=\"text-align: right;\">\n",
       "      <th></th>\n",
       "      <th>title</th>\n",
       "      <th>puNumber</th>\n",
       "      <th>show_start_date</th>\n",
       "      <th>type</th>\n",
       "      <th>film_studio</th>\n",
       "      <th>production_country</th>\n",
       "      <th>director</th>\n",
       "      <th>producer</th>\n",
       "      <th>age_restriction</th>\n",
       "      <th>refundable_support</th>\n",
       "      <th>nonrefundable_support</th>\n",
       "      <th>budget</th>\n",
       "      <th>financing_source</th>\n",
       "      <th>ratings</th>\n",
       "      <th>genres</th>\n",
       "    </tr>\n",
       "  </thead>\n",
       "  <tbody>\n",
       "    <tr>\n",
       "      <td>0</td>\n",
       "      <td>Открытый простор</td>\n",
       "      <td>221048915</td>\n",
       "      <td>2015-11-27T12:00:00.000Z</td>\n",
       "      <td>Художественный</td>\n",
       "      <td>Тачстоун Пикчерз, Кобальт Пикчерз, Бикон Пикче...</td>\n",
       "      <td>США</td>\n",
       "      <td>Кевин Костнер</td>\n",
       "      <td>Дэвид Валдес, Кевин Костнер, Джейк Эбертс</td>\n",
       "      <td>«18+» - запрещено для детей</td>\n",
       "      <td>NaN</td>\n",
       "      <td>NaN</td>\n",
       "      <td>NaN</td>\n",
       "      <td>NaN</td>\n",
       "      <td>7.2</td>\n",
       "      <td>боевик,драма,мелодрама</td>\n",
       "    </tr>\n",
       "    <tr>\n",
       "      <td>1</td>\n",
       "      <td>Особо важное задание</td>\n",
       "      <td>111013716</td>\n",
       "      <td>2016-09-13T12:00:00.000Z</td>\n",
       "      <td>Художественный</td>\n",
       "      <td>Киностудия \"Мосфильм\"</td>\n",
       "      <td>СССР</td>\n",
       "      <td>Е.Матвеев</td>\n",
       "      <td>NaN</td>\n",
       "      <td>«6+» - для детей старше 6 лет</td>\n",
       "      <td>NaN</td>\n",
       "      <td>NaN</td>\n",
       "      <td>NaN</td>\n",
       "      <td>NaN</td>\n",
       "      <td>6.6</td>\n",
       "      <td>драма,военный</td>\n",
       "    </tr>\n",
       "    <tr>\n",
       "      <td>2</td>\n",
       "      <td>Особо опасен</td>\n",
       "      <td>221038416</td>\n",
       "      <td>2016-10-10T12:00:00.000Z</td>\n",
       "      <td>Художественный</td>\n",
       "      <td>Юниверсал Пикчерз, Кикстарт Продакшнз, Марк Пл...</td>\n",
       "      <td>США</td>\n",
       "      <td>Тимур Бекмамбетов</td>\n",
       "      <td>Джим Лемли, Джейсон Нетер, Марк Е.Платт, Яйн Смит</td>\n",
       "      <td>«18+» - запрещено для детей</td>\n",
       "      <td>NaN</td>\n",
       "      <td>NaN</td>\n",
       "      <td>NaN</td>\n",
       "      <td>NaN</td>\n",
       "      <td>6.8</td>\n",
       "      <td>фантастика,боевик,триллер</td>\n",
       "    </tr>\n",
       "    <tr>\n",
       "      <td>3</td>\n",
       "      <td>Особо опасен</td>\n",
       "      <td>221026916</td>\n",
       "      <td>2016-06-10T12:00:00.000Z</td>\n",
       "      <td>Художественный</td>\n",
       "      <td>Юниверсал Пикчерз, Кикстарт Продакшнз, Марк Пл...</td>\n",
       "      <td>США</td>\n",
       "      <td>Тимур Бекмамбетов</td>\n",
       "      <td>Джим Лемли, Джейсон Нетер, Марк Е.Платт, Яйн Смит</td>\n",
       "      <td>«18+» - запрещено для детей</td>\n",
       "      <td>NaN</td>\n",
       "      <td>NaN</td>\n",
       "      <td>NaN</td>\n",
       "      <td>NaN</td>\n",
       "      <td>6.8</td>\n",
       "      <td>фантастика,боевик,триллер</td>\n",
       "    </tr>\n",
       "    <tr>\n",
       "      <td>4</td>\n",
       "      <td>Особо опасен</td>\n",
       "      <td>221030815</td>\n",
       "      <td>2015-07-29T12:00:00.000Z</td>\n",
       "      <td>Художественный</td>\n",
       "      <td>Юниверсал Пикчерз, Кикстарт Продакшнз, Марк Пл...</td>\n",
       "      <td>США</td>\n",
       "      <td>Тимур Бекмамбетов</td>\n",
       "      <td>Джим Лемли, Джейсон Нетер, Марк Е.Платт, Яйн Смит</td>\n",
       "      <td>«18+» - запрещено для детей</td>\n",
       "      <td>NaN</td>\n",
       "      <td>NaN</td>\n",
       "      <td>NaN</td>\n",
       "      <td>NaN</td>\n",
       "      <td>6.8</td>\n",
       "      <td>фантастика,боевик,триллер</td>\n",
       "    </tr>\n",
       "  </tbody>\n",
       "</table>\n",
       "</div>"
      ],
      "text/plain": [
       "                  title   puNumber           show_start_date            type  \\\n",
       "0      Открытый простор  221048915  2015-11-27T12:00:00.000Z  Художественный   \n",
       "1  Особо важное задание  111013716  2016-09-13T12:00:00.000Z  Художественный   \n",
       "2          Особо опасен  221038416  2016-10-10T12:00:00.000Z  Художественный   \n",
       "3          Особо опасен  221026916  2016-06-10T12:00:00.000Z  Художественный   \n",
       "4          Особо опасен  221030815  2015-07-29T12:00:00.000Z  Художественный   \n",
       "\n",
       "                                         film_studio production_country  \\\n",
       "0  Тачстоун Пикчерз, Кобальт Пикчерз, Бикон Пикче...                США   \n",
       "1                              Киностудия \"Мосфильм\"               СССР   \n",
       "2  Юниверсал Пикчерз, Кикстарт Продакшнз, Марк Пл...                США   \n",
       "3  Юниверсал Пикчерз, Кикстарт Продакшнз, Марк Пл...                США   \n",
       "4  Юниверсал Пикчерз, Кикстарт Продакшнз, Марк Пл...                США   \n",
       "\n",
       "            director                                           producer  \\\n",
       "0      Кевин Костнер          Дэвид Валдес, Кевин Костнер, Джейк Эбертс   \n",
       "1          Е.Матвеев                                                NaN   \n",
       "2  Тимур Бекмамбетов  Джим Лемли, Джейсон Нетер, Марк Е.Платт, Яйн Смит   \n",
       "3  Тимур Бекмамбетов  Джим Лемли, Джейсон Нетер, Марк Е.Платт, Яйн Смит   \n",
       "4  Тимур Бекмамбетов  Джим Лемли, Джейсон Нетер, Марк Е.Платт, Яйн Смит   \n",
       "\n",
       "                 age_restriction  refundable_support  nonrefundable_support  \\\n",
       "0    «18+» - запрещено для детей                 NaN                    NaN   \n",
       "1  «6+» - для детей старше 6 лет                 NaN                    NaN   \n",
       "2    «18+» - запрещено для детей                 NaN                    NaN   \n",
       "3    «18+» - запрещено для детей                 NaN                    NaN   \n",
       "4    «18+» - запрещено для детей                 NaN                    NaN   \n",
       "\n",
       "   budget financing_source ratings                     genres  \n",
       "0     NaN              NaN     7.2     боевик,драма,мелодрама  \n",
       "1     NaN              NaN     6.6              драма,военный  \n",
       "2     NaN              NaN     6.8  фантастика,боевик,триллер  \n",
       "3     NaN              NaN     6.8  фантастика,боевик,триллер  \n",
       "4     NaN              NaN     6.8  фантастика,боевик,триллер  "
      ]
     },
     "execution_count": 2,
     "metadata": {},
     "output_type": "execute_result"
    }
   ],
   "source": [
    "# чтение файла с данными и сохранение в data_movies\n",
    "data_movies = pd.read_csv('/datasets/mkrf_movies.csv')\n",
    "# выведем первые 5 строк data_movies\n",
    "data_movies.head()"
   ]
  },
  {
   "cell_type": "markdown",
   "metadata": {},
   "source": [
    "Прочитаем файл `mkrf_shows.csv` из папки /datasets и сохраним его в переменной `data_shows`. Выведем первые 5 строк таблицы на экран."
   ]
  },
  {
   "cell_type": "code",
   "execution_count": 3,
   "metadata": {},
   "outputs": [
    {
     "data": {
      "text/html": [
       "<div>\n",
       "<style scoped>\n",
       "    .dataframe tbody tr th:only-of-type {\n",
       "        vertical-align: middle;\n",
       "    }\n",
       "\n",
       "    .dataframe tbody tr th {\n",
       "        vertical-align: top;\n",
       "    }\n",
       "\n",
       "    .dataframe thead th {\n",
       "        text-align: right;\n",
       "    }\n",
       "</style>\n",
       "<table border=\"1\" class=\"dataframe\">\n",
       "  <thead>\n",
       "    <tr style=\"text-align: right;\">\n",
       "      <th></th>\n",
       "      <th>puNumber</th>\n",
       "      <th>box_office</th>\n",
       "    </tr>\n",
       "  </thead>\n",
       "  <tbody>\n",
       "    <tr>\n",
       "      <td>0</td>\n",
       "      <td>111000113</td>\n",
       "      <td>2,450.00</td>\n",
       "    </tr>\n",
       "    <tr>\n",
       "      <td>1</td>\n",
       "      <td>111000115</td>\n",
       "      <td>61,040.00</td>\n",
       "    </tr>\n",
       "    <tr>\n",
       "      <td>2</td>\n",
       "      <td>111000116</td>\n",
       "      <td>153,030,013.40</td>\n",
       "    </tr>\n",
       "    <tr>\n",
       "      <td>3</td>\n",
       "      <td>111000117</td>\n",
       "      <td>12,260,956.00</td>\n",
       "    </tr>\n",
       "    <tr>\n",
       "      <td>4</td>\n",
       "      <td>111000118</td>\n",
       "      <td>163,684,057.79</td>\n",
       "    </tr>\n",
       "  </tbody>\n",
       "</table>\n",
       "</div>"
      ],
      "text/plain": [
       "    puNumber     box_office\n",
       "0  111000113       2,450.00\n",
       "1  111000115      61,040.00\n",
       "2  111000116 153,030,013.40\n",
       "3  111000117  12,260,956.00\n",
       "4  111000118 163,684,057.79"
      ]
     },
     "execution_count": 3,
     "metadata": {},
     "output_type": "execute_result"
    }
   ],
   "source": [
    "# чтение файла с данными и сохранение в data_shows\n",
    "data_shows = pd.read_csv('/datasets/mkrf_shows.csv')\n",
    "# используем настройку для избавления экспоненты\n",
    "pd.options.display.float_format = '{:,.2f}'.format\n",
    "# выведем первые 5 строк data_shows\n",
    "data_shows.head()"
   ]
  },
  {
   "cell_type": "markdown",
   "metadata": {},
   "source": [
    "Видим, что `data_movies` и `data_movies` имеют одинаковый столбец `puNumber`. Прежде чем объединить их, посмотрим какой тип данных имеет этот столбец в каждой таблице."
   ]
  },
  {
   "cell_type": "code",
   "execution_count": 4,
   "metadata": {},
   "outputs": [
    {
     "name": "stdout",
     "output_type": "stream",
     "text": [
      "Тип данных столбца \"puNumber\" в data_movies: object\n",
      "Тип данных столбца \"puNumber\" в data_shows: int64\n"
     ]
    }
   ],
   "source": [
    "# выведем на экран тип данных в столбце 'puNumber' для двух таблиц методом dtypes\n",
    "print('Тип данных столбца \"puNumber\" в data_movies:', data_movies['puNumber'].dtypes)\n",
    "print('Тип данных столбца \"puNumber\" в data_shows:', data_shows['puNumber'].dtypes)"
   ]
  },
  {
   "cell_type": "markdown",
   "metadata": {},
   "source": [
    "Как мы видим, тип данных разный. Приобразуем столбец `puNumber` в `data_shows` к типу данных - object."
   ]
  },
  {
   "cell_type": "code",
   "execution_count": 5,
   "metadata": {},
   "outputs": [
    {
     "name": "stdout",
     "output_type": "stream",
     "text": [
      "Тип данных столбца \"puNumber\" в data_shows: object\n"
     ]
    }
   ],
   "source": [
    "# изменим тип данных в 'puNumber' для data_shows\n",
    "data_shows['puNumber'] = data_shows['puNumber'].astype('str')\n",
    "# выведем на экран тип данных в столбце 'puNumber' методом dtypes\n",
    "print('Тип данных столбца \"puNumber\" в data_shows:', data_shows['puNumber'].dtypes)"
   ]
  },
  {
   "cell_type": "markdown",
   "metadata": {},
   "source": [
    "Посчитаем количество строк в двух таблицах, чтобы понимать каким методом объединять данные."
   ]
  },
  {
   "cell_type": "code",
   "execution_count": 6,
   "metadata": {
    "scrolled": true
   },
   "outputs": [
    {
     "name": "stdout",
     "output_type": "stream",
     "text": [
      "Количество строк и столбцов в data_movies: (7486, 15)\n",
      "Количество строк и столбцов в data_shows: (3158, 2)\n"
     ]
    }
   ],
   "source": [
    "# выведем размер таблиц 'data_movies' и 'data_shows'\n",
    "print('Количество строк и столбцов в data_movies:', data_movies.shape)\n",
    "print('Количество строк и столбцов в data_shows:', data_shows.shape)"
   ]
  },
  {
   "cell_type": "markdown",
   "metadata": {},
   "source": [
    "Столбцы имеют одинаковый тип данных. Для объеденения двух таблиц, чтобы все данные из таблицы `data_movies` сохранились применим метод `merge()`, с объединение по столбцу `puNumber`  и режимом объединения \"внешний\"."
   ]
  },
  {
   "cell_type": "code",
   "execution_count": 7,
   "metadata": {
    "scrolled": true
   },
   "outputs": [
    {
     "data": {
      "text/html": [
       "<div>\n",
       "<style scoped>\n",
       "    .dataframe tbody tr th:only-of-type {\n",
       "        vertical-align: middle;\n",
       "    }\n",
       "\n",
       "    .dataframe tbody tr th {\n",
       "        vertical-align: top;\n",
       "    }\n",
       "\n",
       "    .dataframe thead th {\n",
       "        text-align: right;\n",
       "    }\n",
       "</style>\n",
       "<table border=\"1\" class=\"dataframe\">\n",
       "  <thead>\n",
       "    <tr style=\"text-align: right;\">\n",
       "      <th></th>\n",
       "      <th>puNumber</th>\n",
       "      <th>box_office</th>\n",
       "      <th>title</th>\n",
       "      <th>show_start_date</th>\n",
       "      <th>type</th>\n",
       "      <th>film_studio</th>\n",
       "      <th>production_country</th>\n",
       "      <th>director</th>\n",
       "      <th>producer</th>\n",
       "      <th>age_restriction</th>\n",
       "      <th>refundable_support</th>\n",
       "      <th>nonrefundable_support</th>\n",
       "      <th>budget</th>\n",
       "      <th>financing_source</th>\n",
       "      <th>ratings</th>\n",
       "      <th>genres</th>\n",
       "    </tr>\n",
       "  </thead>\n",
       "  <tbody>\n",
       "    <tr>\n",
       "      <td>0</td>\n",
       "      <td>111000113</td>\n",
       "      <td>2,450.00</td>\n",
       "      <td>Тайна перевала Дятлова</td>\n",
       "      <td>2013-01-17T12:00:00.000Z</td>\n",
       "      <td>Художественный</td>\n",
       "      <td>ООО \"Нон-Стоп Продакшн\"</td>\n",
       "      <td>Россия</td>\n",
       "      <td>Ренни Харлин</td>\n",
       "      <td>А.Роднянский, С.Мелькумов, С.Беспалов, Киа Джэм</td>\n",
       "      <td>«16+» - для детей старше 16 лет</td>\n",
       "      <td>nan</td>\n",
       "      <td>nan</td>\n",
       "      <td>nan</td>\n",
       "      <td>NaN</td>\n",
       "      <td>5.1</td>\n",
       "      <td>ужасы,фантастика</td>\n",
       "    </tr>\n",
       "    <tr>\n",
       "      <td>1</td>\n",
       "      <td>111000115</td>\n",
       "      <td>61,040.00</td>\n",
       "      <td>Небесный верблюд</td>\n",
       "      <td>2015-01-14T12:00:00.000Z</td>\n",
       "      <td>Художественный</td>\n",
       "      <td>ООО Продюсерский центр \"Всё хорошо\"</td>\n",
       "      <td>Россия</td>\n",
       "      <td>Ю.Фетинг</td>\n",
       "      <td>И.Плиско</td>\n",
       "      <td>«0+» - для любой зрительской аудитории</td>\n",
       "      <td>0.00</td>\n",
       "      <td>34,000,000.00</td>\n",
       "      <td>49,280,496.00</td>\n",
       "      <td>Министерство культуры</td>\n",
       "      <td>6.7</td>\n",
       "      <td>детский,семейный</td>\n",
       "    </tr>\n",
       "    <tr>\n",
       "      <td>2</td>\n",
       "      <td>111000116</td>\n",
       "      <td>153,030,013.40</td>\n",
       "      <td>Статус: \"Свободен\"</td>\n",
       "      <td>2016-01-13T12:00:00.000Z</td>\n",
       "      <td>Художественный</td>\n",
       "      <td>ООО \"Кинодом\"</td>\n",
       "      <td>Россия</td>\n",
       "      <td>П.Руминов</td>\n",
       "      <td>С.Ливнев, Д.Козловский, С.Бобза</td>\n",
       "      <td>«16+» - для детей старше 16 лет</td>\n",
       "      <td>20,000,000.00</td>\n",
       "      <td>20,000,000.00</td>\n",
       "      <td>78,686,500.00</td>\n",
       "      <td>Фонд кино</td>\n",
       "      <td>5.8</td>\n",
       "      <td>комедия,мелодрама</td>\n",
       "    </tr>\n",
       "    <tr>\n",
       "      <td>3</td>\n",
       "      <td>111000117</td>\n",
       "      <td>12,260,956.00</td>\n",
       "      <td>После тебя</td>\n",
       "      <td>2017-01-10T12:00:00.000Z</td>\n",
       "      <td>Художественный</td>\n",
       "      <td>Компания Production Value WorldWide (ООО \"ПРОД...</td>\n",
       "      <td>Россия</td>\n",
       "      <td>А.Матисон</td>\n",
       "      <td>С.Безруков</td>\n",
       "      <td>«16+» - для детей старше 16 лет</td>\n",
       "      <td>7,000,000.00</td>\n",
       "      <td>20,000,000.00</td>\n",
       "      <td>45,483,233.00</td>\n",
       "      <td>Министерство культуры, Фонд кино</td>\n",
       "      <td>6.7</td>\n",
       "      <td>драма</td>\n",
       "    </tr>\n",
       "    <tr>\n",
       "      <td>4</td>\n",
       "      <td>111000118</td>\n",
       "      <td>163,684,057.79</td>\n",
       "      <td>ЗОМБОЯЩИК (ZОМБОЯЩИК)</td>\n",
       "      <td>2018-01-23T12:00:00.000Z</td>\n",
       "      <td>Художественный</td>\n",
       "      <td>ООО \"Комеди Клаб продакшн\"</td>\n",
       "      <td>Россия</td>\n",
       "      <td>З.Болотаев, К.Смирнов</td>\n",
       "      <td>Е.Казаков, Т.Бадзиев</td>\n",
       "      <td>«18+» - запрещено для детей</td>\n",
       "      <td>nan</td>\n",
       "      <td>nan</td>\n",
       "      <td>nan</td>\n",
       "      <td>NaN</td>\n",
       "      <td>3.2</td>\n",
       "      <td>комедия</td>\n",
       "    </tr>\n",
       "  </tbody>\n",
       "</table>\n",
       "</div>"
      ],
      "text/plain": [
       "    puNumber     box_office                   title           show_start_date  \\\n",
       "0  111000113       2,450.00  Тайна перевала Дятлова  2013-01-17T12:00:00.000Z   \n",
       "1  111000115      61,040.00        Небесный верблюд  2015-01-14T12:00:00.000Z   \n",
       "2  111000116 153,030,013.40      Статус: \"Свободен\"  2016-01-13T12:00:00.000Z   \n",
       "3  111000117  12,260,956.00              После тебя  2017-01-10T12:00:00.000Z   \n",
       "4  111000118 163,684,057.79   ЗОМБОЯЩИК (ZОМБОЯЩИК)  2018-01-23T12:00:00.000Z   \n",
       "\n",
       "              type                                        film_studio  \\\n",
       "0   Художественный                            ООО \"Нон-Стоп Продакшн\"   \n",
       "1   Художественный                ООО Продюсерский центр \"Всё хорошо\"   \n",
       "2   Художественный                                      ООО \"Кинодом\"   \n",
       "3   Художественный  Компания Production Value WorldWide (ООО \"ПРОД...   \n",
       "4   Художественный                         ООО \"Комеди Клаб продакшн\"   \n",
       "\n",
       "  production_country               director  \\\n",
       "0             Россия           Ренни Харлин   \n",
       "1             Россия               Ю.Фетинг   \n",
       "2             Россия              П.Руминов   \n",
       "3             Россия              А.Матисон   \n",
       "4             Россия  З.Болотаев, К.Смирнов   \n",
       "\n",
       "                                          producer  \\\n",
       "0  А.Роднянский, С.Мелькумов, С.Беспалов, Киа Джэм   \n",
       "1                                         И.Плиско   \n",
       "2                  С.Ливнев, Д.Козловский, С.Бобза   \n",
       "3                                       С.Безруков   \n",
       "4                             Е.Казаков, Т.Бадзиев   \n",
       "\n",
       "                          age_restriction  refundable_support  \\\n",
       "0         «16+» - для детей старше 16 лет                 nan   \n",
       "1  «0+» - для любой зрительской аудитории                0.00   \n",
       "2         «16+» - для детей старше 16 лет       20,000,000.00   \n",
       "3         «16+» - для детей старше 16 лет        7,000,000.00   \n",
       "4             «18+» - запрещено для детей                 nan   \n",
       "\n",
       "   nonrefundable_support        budget                  financing_source  \\\n",
       "0                    nan           nan                               NaN   \n",
       "1          34,000,000.00 49,280,496.00             Министерство культуры   \n",
       "2          20,000,000.00 78,686,500.00                         Фонд кино   \n",
       "3          20,000,000.00 45,483,233.00  Министерство культуры, Фонд кино   \n",
       "4                    nan           nan                               NaN   \n",
       "\n",
       "  ratings             genres  \n",
       "0     5.1   ужасы,фантастика  \n",
       "1     6.7   детский,семейный  \n",
       "2     5.8  комедия,мелодрама  \n",
       "3     6.7              драма  \n",
       "4     3.2            комедия  "
      ]
     },
     "execution_count": 7,
     "metadata": {},
     "output_type": "execute_result"
    }
   ],
   "source": [
    "# объедиение таблиц методом merge() по столбцу 'puNumber', параметр how - outer\n",
    "data = data_shows.merge(data_movies, on='puNumber', how='outer')\n",
    "# выведем первые 5 строк получившийся тааблицы data\n",
    "data.head()"
   ]
  },
  {
   "cell_type": "markdown",
   "metadata": {},
   "source": [
    "Изучим данные таблицы `data` методом `info()`:"
   ]
  },
  {
   "cell_type": "code",
   "execution_count": 8,
   "metadata": {},
   "outputs": [
    {
     "name": "stdout",
     "output_type": "stream",
     "text": [
      "<class 'pandas.core.frame.DataFrame'>\n",
      "Int64Index: 7486 entries, 0 to 7485\n",
      "Data columns (total 16 columns):\n",
      "puNumber                 7486 non-null object\n",
      "box_office               3158 non-null float64\n",
      "title                    7486 non-null object\n",
      "show_start_date          7486 non-null object\n",
      "type                     7486 non-null object\n",
      "film_studio              7468 non-null object\n",
      "production_country       7484 non-null object\n",
      "director                 7477 non-null object\n",
      "producer                 6918 non-null object\n",
      "age_restriction          7486 non-null object\n",
      "refundable_support       332 non-null float64\n",
      "nonrefundable_support    332 non-null float64\n",
      "budget                   332 non-null float64\n",
      "financing_source         332 non-null object\n",
      "ratings                  6519 non-null object\n",
      "genres                   6510 non-null object\n",
      "dtypes: float64(4), object(12)\n",
      "memory usage: 994.2+ KB\n"
     ]
    }
   ],
   "source": [
    "#получение общей информации о данных\n",
    "data.info()"
   ]
  },
  {
   "cell_type": "markdown",
   "metadata": {},
   "source": [
    "Теперь посчитаем количество строк в двух таблицах :\n",
    " - `data_movies` - к которой добавляли\n",
    " - `data` - которую получили."
   ]
  },
  {
   "cell_type": "code",
   "execution_count": 9,
   "metadata": {},
   "outputs": [
    {
     "name": "stdout",
     "output_type": "stream",
     "text": [
      "Количество строк и столбцов в data_movies: (7486, 15)\n",
      "Количество строк и столбцов в data: (7486, 16)\n"
     ]
    }
   ],
   "source": [
    "# выведем размер таблиц 'data_movies' и 'data'\n",
    "print('Количество строк и столбцов в data_movies:', data_movies.shape)\n",
    "print('Количество строк и столбцов в data:', data.shape)"
   ]
  },
  {
   "cell_type": "markdown",
   "metadata": {},
   "source": [
    " И так, можно сделать вывод, что в таблицу вошли все строки из `data_movies`, так как количество строк совпадает с количеством строк в получившийся таблице `data`, количество столбцов увеличилось на 1 (присоединили столбец `box_office` из `data_shows`).\n",
    " \n",
    " В таблице 16 столбцов, типы данных:  `float64` и `object`.\n",
    " \n",
    " Согласно документации к данным:\n",
    " \n",
    "* `puNumber` — номер прокатного удостоверения\n",
    "* `box_office` — сборы в рублях\n",
    "* `title` — название фильма\n",
    "* `show_start_date` — дата премьеры фильма\n",
    "* `type` — тип фильма\n",
    "* `film_studio` — студия-производитель\n",
    "* `production_country` — страна-производитель\n",
    "* `director` — режиссёр\n",
    "* `producer` — продюсер\n",
    "* `age_restriction` — возрастная категория\n",
    "* `refundable_support` — объём возвратных средств государственной поддержки\n",
    "* `nonrefundable_support` — объём невозвратных средств государственной поддержки\n",
    "* `financing_source` — источник государственного финансирования\n",
    "* `budget` — общий бюджет фильма\n",
    "* `ratings` — рейтинг фильма на КиноПоиске\n",
    "* `genres` — жанр фильма\n",
    "\n",
    "В названии столбца `puNumber` приведем название к змеином и нижнему регистру. Остальные названия записаны верно. \n",
    "\n",
    "Количество значений в столбцах различается. Значит, в данных есть пропущенные значения."
   ]
  },
  {
   "cell_type": "markdown",
   "metadata": {},
   "source": [
    "**Вывод**"
   ]
  },
  {
   "cell_type": "markdown",
   "metadata": {},
   "source": [
    "В каждой строке таблицы представлена информация о фильме, кто, где и когда произвел, а так же рейтинг и бюджет.\n",
    "\n",
    "Предварительно, мы можем утверждать что данных достаточно для проведения исследования, но встречаются пропущенные значения, судить о происхождении которых с первого взгляда не получится. Для этого нужно привести данные в корректный вид и дальше проводить исследования."
   ]
  },
  {
   "cell_type": "markdown",
   "metadata": {
    "id": "KLDGpPG0gFyM"
   },
   "source": [
    "### Предобработка данных"
   ]
  },
  {
   "cell_type": "markdown",
   "metadata": {},
   "source": [
    "#### Переименование столбцов"
   ]
  },
  {
   "cell_type": "markdown",
   "metadata": {},
   "source": [
    "Приведем название столбца `puNumber` к нижнему и змеиному регистру."
   ]
  },
  {
   "cell_type": "code",
   "execution_count": 10,
   "metadata": {},
   "outputs": [],
   "source": [
    "# переименование столбца методом rename\n",
    "data = data.rename(columns = {'puNumber': 'pu_number'})"
   ]
  },
  {
   "cell_type": "markdown",
   "metadata": {
    "id": "ssWwKXsxgFyO"
   },
   "source": [
    "#### Типы данных"
   ]
  },
  {
   "cell_type": "markdown",
   "metadata": {},
   "source": [
    "Проверем типы данных в датафрейме и преобразуем их там, где это необходимо."
   ]
  },
  {
   "cell_type": "code",
   "execution_count": 11,
   "metadata": {
    "id": "kVGSplJOgFyO"
   },
   "outputs": [
    {
     "data": {
      "text/plain": [
       "pu_number                 object\n",
       "box_office               float64\n",
       "title                     object\n",
       "show_start_date           object\n",
       "type                      object\n",
       "film_studio               object\n",
       "production_country        object\n",
       "director                  object\n",
       "producer                  object\n",
       "age_restriction           object\n",
       "refundable_support       float64\n",
       "nonrefundable_support    float64\n",
       "budget                   float64\n",
       "financing_source          object\n",
       "ratings                   object\n",
       "genres                    object\n",
       "dtype: object"
      ]
     },
     "execution_count": 11,
     "metadata": {},
     "output_type": "execute_result"
    }
   ],
   "source": [
    "# посмотрим каой тип данных в каждом столбце датафрейма\n",
    "data.dtypes"
   ]
  },
  {
   "cell_type": "markdown",
   "metadata": {},
   "source": [
    "Значения в столбце `ratings` имеют тип данных `object` (присутсвую значения тип данных которых str, float). Для перевода типа данных значений во float:\n",
    "\n",
    "* посмотрим уникальные значения `ratings`\n",
    "* напишем функцию, которая приведет значения столбца `ratings` к единому формату"
   ]
  },
  {
   "cell_type": "code",
   "execution_count": 12,
   "metadata": {},
   "outputs": [
    {
     "data": {
      "text/plain": [
       "array(['5.1', '6.7', '5.8', '3.2', '5.3', '3.0', '5.4', '6.1', '5.9',\n",
       "       '4.7', '6.6', '6.0', '7.2', '7.1', '4.5', '7.3', '3.3', '6.8',\n",
       "       '5.7', nan, '4.9', '4.3', '2.8', '6.2', '3.9', '1.9', '4.8', '7.0',\n",
       "       '7.5', '6.4', '99%', '4.2', '6.5', '5.2', '5.0', '3.1', '6.3',\n",
       "       '5.6', '3.7', '2.6', '8.0', '6.9', '7.8', '4.1', '91%', '2.9',\n",
       "       '7.4', '3.4', '4.6', '7.9', '8.5', '8.1', '98%', '7.6', '94%',\n",
       "       '1.4', '3.8', '7.7', '1.5', '2.7', '4.4', '4.0', '2.5', '8.3',\n",
       "       '8.8', '1.2', '8.4', '5.5', '8.2', '8.7', '1.6', '79%', '9.2',\n",
       "       '1.0', '89%', '90%', '2.1', '28%', '2.4', '3.5', '83%', '64%',\n",
       "       '8.6', '3.6', '88%', '19%', '97%', '1.1', '62%', '1.3', '1.8',\n",
       "       '1.7', '9.0', '8.9', '9.1'], dtype=object)"
      ]
     },
     "execution_count": 12,
     "metadata": {},
     "output_type": "execute_result"
    }
   ],
   "source": [
    "# просмотр уникальных значений столбца 'ratings'\n",
    "data['ratings'].unique()"
   ]
  },
  {
   "cell_type": "code",
   "execution_count": 13,
   "metadata": {},
   "outputs": [],
   "source": [
    "# напишем функцию fromPersentToRaiting с параметром value, которая будет искать строковое значение\n",
    "# если это строка и в ней присутствует '%', то удаляем '%' и делим на 10\n",
    "# если это строка, то меняем на тип float\n",
    "\n",
    "def fromPersentToRaiting(value):\n",
    "    if isinstance(value, str):\n",
    "        if '%' in value:\n",
    "            value = value.replace('%', '')\n",
    "            try:\n",
    "                return float(value) / 10\n",
    "            except ValueError:\n",
    "                return 0\n",
    "        else:\n",
    "            return float(value)\n",
    "    return value\n",
    "# перезапишем значения столбца, которые будут подходить под условие функции fromPersentToRaiting\n",
    "data['ratings'] = data['ratings'].apply(lambda value: fromPersentToRaiting(value))"
   ]
  },
  {
   "cell_type": "code",
   "execution_count": 14,
   "metadata": {},
   "outputs": [
    {
     "data": {
      "text/plain": [
       "dtype('float64')"
      ]
     },
     "execution_count": 14,
     "metadata": {},
     "output_type": "execute_result"
    }
   ],
   "source": [
    "# просмотр типа данных столбца 'ratings'\n",
    "data['ratings'].dtypes"
   ]
  },
  {
   "cell_type": "markdown",
   "metadata": {},
   "source": [
    "Тип данных поменялся на  `float64`. В дальнейшем со столбцом `ratings` можно будет проводить математические операции, если это потребуется."
   ]
  },
  {
   "cell_type": "markdown",
   "metadata": {},
   "source": [
    "Стоит заметить, что дата премьеры фильма записана не корректно. Переведем значения столбца `show_start_date` из строки в дату и время"
   ]
  },
  {
   "cell_type": "code",
   "execution_count": 15,
   "metadata": {},
   "outputs": [],
   "source": [
    "# переведем значения столбца 'show_start_date' из строки в дату и время\n",
    "data['show_start_date'] = pd.to_datetime(data['show_start_date'], format='%Y-%m-%dT%H:%M:%S.%fZ')"
   ]
  },
  {
   "cell_type": "code",
   "execution_count": 16,
   "metadata": {
    "scrolled": true
   },
   "outputs": [
    {
     "data": {
      "text/plain": [
       "pu_number                        object\n",
       "box_office                      float64\n",
       "title                            object\n",
       "show_start_date          datetime64[ns]\n",
       "type                             object\n",
       "film_studio                      object\n",
       "production_country               object\n",
       "director                         object\n",
       "producer                         object\n",
       "age_restriction                  object\n",
       "refundable_support              float64\n",
       "nonrefundable_support           float64\n",
       "budget                          float64\n",
       "financing_source                 object\n",
       "ratings                         float64\n",
       "genres                           object\n",
       "dtype: object"
      ]
     },
     "execution_count": 16,
     "metadata": {},
     "output_type": "execute_result"
    }
   ],
   "source": [
    "# проверим тип данных в столбцах data\n",
    "data.dtypes"
   ]
  },
  {
   "cell_type": "markdown",
   "metadata": {},
   "source": [
    "**Вывод**\n",
    "\n",
    "Мы поменяли тип данных в столбцах `ratings`, `age_restriction ` на числовые типы данных - float, int. Значения столбца `show_start_date` привели к типу datetime."
   ]
  },
  {
   "cell_type": "markdown",
   "metadata": {
    "id": "i0MOLbF-gFyP"
   },
   "source": [
    "####  Пропущенные значения"
   ]
  },
  {
   "cell_type": "markdown",
   "metadata": {},
   "source": [
    "Cначала посчитаем, сколько в таблице пропущенных значений. Для этого воспользуемся двумя методами pandas :"
   ]
  },
  {
   "cell_type": "code",
   "execution_count": 17,
   "metadata": {
    "id": "8MJD_lkngFyP"
   },
   "outputs": [
    {
     "data": {
      "text/plain": [
       "pu_number                   0\n",
       "box_office               4328\n",
       "title                       0\n",
       "show_start_date             0\n",
       "type                        0\n",
       "film_studio                18\n",
       "production_country          2\n",
       "director                    9\n",
       "producer                  568\n",
       "age_restriction             0\n",
       "refundable_support       7154\n",
       "nonrefundable_support    7154\n",
       "budget                   7154\n",
       "financing_source         7154\n",
       "ratings                   967\n",
       "genres                    976\n",
       "dtype: int64"
      ]
     },
     "execution_count": 17,
     "metadata": {},
     "output_type": "execute_result"
    }
   ],
   "source": [
    "# подсчёт пропусков\n",
    "data.isna().sum()"
   ]
  },
  {
   "cell_type": "markdown",
   "metadata": {},
   "source": [
    "Заменим пропущенные значения в столбцах с категориальными значениям на строку 'не определен' (`film_studio`, `production_country`, `director`, `producer`, `genres`) методом `fillna()`."
   ]
  },
  {
   "cell_type": "code",
   "execution_count": 18,
   "metadata": {},
   "outputs": [],
   "source": [
    "# создадим список столбцов, в которых будем менять пропущенные значения\n",
    "columns_fillna = ['film_studio', 'production_country', 'director', 'producer', 'genres']\n",
    "# заменим пропущенные значения на 'не определен'\n",
    "data[columns_fillna] = data[columns_fillna].fillna('не определен')"
   ]
  },
  {
   "cell_type": "markdown",
   "metadata": {},
   "source": [
    "Количественные значения в данном случае заменять не будем - не хватает данных для заполнения пропущенных значений."
   ]
  },
  {
   "cell_type": "code",
   "execution_count": 19,
   "metadata": {},
   "outputs": [
    {
     "data": {
      "text/plain": [
       "pu_number                   0\n",
       "box_office               4328\n",
       "title                       0\n",
       "show_start_date             0\n",
       "type                        0\n",
       "film_studio                 0\n",
       "production_country          0\n",
       "director                    0\n",
       "producer                    0\n",
       "age_restriction             0\n",
       "refundable_support       7154\n",
       "nonrefundable_support    7154\n",
       "budget                   7154\n",
       "financing_source         7154\n",
       "ratings                   967\n",
       "genres                      0\n",
       "dtype: int64"
      ]
     },
     "execution_count": 19,
     "metadata": {},
     "output_type": "execute_result"
    }
   ],
   "source": [
    "# подсчёт пропусков\n",
    "data.isna().sum()"
   ]
  },
  {
   "cell_type": "markdown",
   "metadata": {},
   "source": [
    "**Вывод**\n",
    "\n",
    "На данном этапе мы заменили пропущенные значения в категориальных столбцах на 'не определен', для заполнения количественных данных не хватает данных."
   ]
  },
  {
   "cell_type": "markdown",
   "metadata": {
    "id": "4c6k1t9ygFyQ"
   },
   "source": [
    "#### Дубликаты"
   ]
  },
  {
   "cell_type": "markdown",
   "metadata": {},
   "source": [
    "Выполним подсчет явных дубликатов методами`duplicated()` и `sum()`."
   ]
  },
  {
   "cell_type": "code",
   "execution_count": 20,
   "metadata": {
    "id": "aKck8RIdgFyQ",
    "scrolled": true
   },
   "outputs": [
    {
     "name": "stdout",
     "output_type": "stream",
     "text": [
      "Количество дубликатов в DataFrame: 0\n"
     ]
    }
   ],
   "source": [
    "# подсчет дубликатов\n",
    "print('Количество дубликатов в DataFrame:', data.duplicated().sum())"
   ]
  },
  {
   "cell_type": "markdown",
   "metadata": {},
   "source": [
    "Проверим повторяются ли значения в столбце `pu_number`, так как значения этого столбца нас интересуют без повторений, то есть значения являются уникальными."
   ]
  },
  {
   "cell_type": "code",
   "execution_count": 21,
   "metadata": {},
   "outputs": [
    {
     "data": {
      "text/html": [
       "<div>\n",
       "<style scoped>\n",
       "    .dataframe tbody tr th:only-of-type {\n",
       "        vertical-align: middle;\n",
       "    }\n",
       "\n",
       "    .dataframe tbody tr th {\n",
       "        vertical-align: top;\n",
       "    }\n",
       "\n",
       "    .dataframe thead th {\n",
       "        text-align: right;\n",
       "    }\n",
       "</style>\n",
       "<table border=\"1\" class=\"dataframe\">\n",
       "  <thead>\n",
       "    <tr style=\"text-align: right;\">\n",
       "      <th></th>\n",
       "      <th>pu_number</th>\n",
       "    </tr>\n",
       "  </thead>\n",
       "  <tbody>\n",
       "    <tr>\n",
       "      <td>221054410</td>\n",
       "      <td>2</td>\n",
       "    </tr>\n",
       "    <tr>\n",
       "      <td>221154310</td>\n",
       "      <td>2</td>\n",
       "    </tr>\n",
       "    <tr>\n",
       "      <td>121023313</td>\n",
       "      <td>1</td>\n",
       "    </tr>\n",
       "    <tr>\n",
       "      <td>221078012</td>\n",
       "      <td>1</td>\n",
       "    </tr>\n",
       "    <tr>\n",
       "      <td>121003115</td>\n",
       "      <td>1</td>\n",
       "    </tr>\n",
       "    <tr>\n",
       "      <td>...</td>\n",
       "      <td>...</td>\n",
       "    </tr>\n",
       "    <tr>\n",
       "      <td>224004013</td>\n",
       "      <td>1</td>\n",
       "    </tr>\n",
       "    <tr>\n",
       "      <td>121026313</td>\n",
       "      <td>1</td>\n",
       "    </tr>\n",
       "    <tr>\n",
       "      <td>224008615</td>\n",
       "      <td>1</td>\n",
       "    </tr>\n",
       "    <tr>\n",
       "      <td>124004318</td>\n",
       "      <td>1</td>\n",
       "    </tr>\n",
       "    <tr>\n",
       "      <td>111015515</td>\n",
       "      <td>1</td>\n",
       "    </tr>\n",
       "  </tbody>\n",
       "</table>\n",
       "<p>7484 rows × 1 columns</p>\n",
       "</div>"
      ],
      "text/plain": [
       "           pu_number\n",
       "221054410          2\n",
       "221154310          2\n",
       "121023313          1\n",
       "221078012          1\n",
       "121003115          1\n",
       "...              ...\n",
       "224004013          1\n",
       "121026313          1\n",
       "224008615          1\n",
       "124004318          1\n",
       "111015515          1\n",
       "\n",
       "[7484 rows x 1 columns]"
      ]
     },
     "execution_count": 21,
     "metadata": {},
     "output_type": "execute_result"
    }
   ],
   "source": [
    "# посчитаем уникальные значения для 'pu_number' выведем в порядке убывания\n",
    "data['pu_number'].value_counts().to_frame()"
   ]
  },
  {
   "cell_type": "markdown",
   "metadata": {},
   "source": [
    "Как мы видим, есть совпадения у двух прокатных удостоверений. Это и есть неявные дубликаты. Рассмотрим строчки, где совпадают номера прокатных удостоверений."
   ]
  },
  {
   "cell_type": "code",
   "execution_count": 22,
   "metadata": {
    "scrolled": false
   },
   "outputs": [
    {
     "data": {
      "text/html": [
       "<div>\n",
       "<style scoped>\n",
       "    .dataframe tbody tr th:only-of-type {\n",
       "        vertical-align: middle;\n",
       "    }\n",
       "\n",
       "    .dataframe tbody tr th {\n",
       "        vertical-align: top;\n",
       "    }\n",
       "\n",
       "    .dataframe thead th {\n",
       "        text-align: right;\n",
       "    }\n",
       "</style>\n",
       "<table border=\"1\" class=\"dataframe\">\n",
       "  <thead>\n",
       "    <tr style=\"text-align: right;\">\n",
       "      <th></th>\n",
       "      <th>pu_number</th>\n",
       "      <th>box_office</th>\n",
       "      <th>title</th>\n",
       "      <th>show_start_date</th>\n",
       "      <th>type</th>\n",
       "      <th>film_studio</th>\n",
       "      <th>production_country</th>\n",
       "      <th>director</th>\n",
       "      <th>producer</th>\n",
       "      <th>age_restriction</th>\n",
       "      <th>refundable_support</th>\n",
       "      <th>nonrefundable_support</th>\n",
       "      <th>budget</th>\n",
       "      <th>financing_source</th>\n",
       "      <th>ratings</th>\n",
       "      <th>genres</th>\n",
       "    </tr>\n",
       "  </thead>\n",
       "  <tbody>\n",
       "    <tr>\n",
       "      <td>5934</td>\n",
       "      <td>221154310</td>\n",
       "      <td>nan</td>\n",
       "      <td>Как жениться и остаться холостым</td>\n",
       "      <td>2010-12-17 12:00:00</td>\n",
       "      <td>Художественный</td>\n",
       "      <td>Ше Вам, Скрипт Ассосье, Тэ Фэ 1 Фильм Продюксь...</td>\n",
       "      <td>Франция</td>\n",
       "      <td>Эрик Лартиго</td>\n",
       "      <td>Амандин Било, Алан Шаба</td>\n",
       "      <td>«16+» - для детей старше 16 лет</td>\n",
       "      <td>nan</td>\n",
       "      <td>nan</td>\n",
       "      <td>nan</td>\n",
       "      <td>NaN</td>\n",
       "      <td>7.00</td>\n",
       "      <td>мелодрама,комедия</td>\n",
       "    </tr>\n",
       "    <tr>\n",
       "      <td>5935</td>\n",
       "      <td>221154310</td>\n",
       "      <td>nan</td>\n",
       "      <td>Иоанна - женщина на папском престоле /По роман...</td>\n",
       "      <td>2010-12-17 12:00:00</td>\n",
       "      <td>Художественный</td>\n",
       "      <td>Константин Фильм, А Эр Ди Дегето Фильм, Дюне ...</td>\n",
       "      <td>Германия - Великобритания - Италия - Испания</td>\n",
       "      <td>Зенке Вортманн</td>\n",
       "      <td>Оливер Бербен, Дорис Д.Хайнце, Фарук Элтан</td>\n",
       "      <td>«16+» - для детей старше 16 лет</td>\n",
       "      <td>nan</td>\n",
       "      <td>nan</td>\n",
       "      <td>nan</td>\n",
       "      <td>NaN</td>\n",
       "      <td>7.60</td>\n",
       "      <td>драма,мелодрама,история</td>\n",
       "    </tr>\n",
       "  </tbody>\n",
       "</table>\n",
       "</div>"
      ],
      "text/plain": [
       "      pu_number  box_office  \\\n",
       "5934  221154310         nan   \n",
       "5935  221154310         nan   \n",
       "\n",
       "                                                  title     show_start_date  \\\n",
       "5934                   Как жениться и остаться холостым 2010-12-17 12:00:00   \n",
       "5935  Иоанна - женщина на папском престоле /По роман... 2010-12-17 12:00:00   \n",
       "\n",
       "                type                                        film_studio  \\\n",
       "5934  Художественный  Ше Вам, Скрипт Ассосье, Тэ Фэ 1 Фильм Продюксь...   \n",
       "5935  Художественный   Константин Фильм, А Эр Ди Дегето Фильм, Дюне ...   \n",
       "\n",
       "                                production_country        director  \\\n",
       "5934                                       Франция    Эрик Лартиго   \n",
       "5935  Германия - Великобритания - Италия - Испания  Зенке Вортманн   \n",
       "\n",
       "                                        producer  \\\n",
       "5934                     Амандин Било, Алан Шаба   \n",
       "5935  Оливер Бербен, Дорис Д.Хайнце, Фарук Элтан   \n",
       "\n",
       "                      age_restriction  refundable_support  \\\n",
       "5934  «16+» - для детей старше 16 лет                 nan   \n",
       "5935  «16+» - для детей старше 16 лет                 nan   \n",
       "\n",
       "      nonrefundable_support  budget financing_source  ratings  \\\n",
       "5934                    nan     nan              NaN     7.00   \n",
       "5935                    nan     nan              NaN     7.60   \n",
       "\n",
       "                       genres  \n",
       "5934        мелодрама,комедия  \n",
       "5935  драма,мелодрама,история  "
      ]
     },
     "execution_count": 22,
     "metadata": {},
     "output_type": "execute_result"
    }
   ],
   "source": [
    "# срез данных где значения \"221154310\"  в 'pu_number'\n",
    "data.query('\"221154310\" in pu_number')"
   ]
  },
  {
   "cell_type": "markdown",
   "metadata": {},
   "source": [
    "Как мы видим по некоторым данным (название фильма, страна, режиссер и продюссер и тд), это два разных фильма, у которых одинаковый номер прокатного удостоверения. Возможно, такие фильмы были \"выпущены\" не зависимо друг от друга в одно и тоже время, а программа, присваивающее номер дала сбой."
   ]
  },
  {
   "cell_type": "code",
   "execution_count": 23,
   "metadata": {
    "scrolled": true
   },
   "outputs": [
    {
     "data": {
      "text/html": [
       "<div>\n",
       "<style scoped>\n",
       "    .dataframe tbody tr th:only-of-type {\n",
       "        vertical-align: middle;\n",
       "    }\n",
       "\n",
       "    .dataframe tbody tr th {\n",
       "        vertical-align: top;\n",
       "    }\n",
       "\n",
       "    .dataframe thead th {\n",
       "        text-align: right;\n",
       "    }\n",
       "</style>\n",
       "<table border=\"1\" class=\"dataframe\">\n",
       "  <thead>\n",
       "    <tr style=\"text-align: right;\">\n",
       "      <th></th>\n",
       "      <th>pu_number</th>\n",
       "      <th>box_office</th>\n",
       "      <th>title</th>\n",
       "      <th>show_start_date</th>\n",
       "      <th>type</th>\n",
       "      <th>film_studio</th>\n",
       "      <th>production_country</th>\n",
       "      <th>director</th>\n",
       "      <th>producer</th>\n",
       "      <th>age_restriction</th>\n",
       "      <th>refundable_support</th>\n",
       "      <th>nonrefundable_support</th>\n",
       "      <th>budget</th>\n",
       "      <th>financing_source</th>\n",
       "      <th>ratings</th>\n",
       "      <th>genres</th>\n",
       "    </tr>\n",
       "  </thead>\n",
       "  <tbody>\n",
       "    <tr>\n",
       "      <td>6304</td>\n",
       "      <td>221054410</td>\n",
       "      <td>nan</td>\n",
       "      <td>Анализируй это!</td>\n",
       "      <td>2010-05-25 12:00:00</td>\n",
       "      <td>Художественный</td>\n",
       "      <td>Уорнер Бразерс, Вилладж Роудшоу Филмз ЛТД</td>\n",
       "      <td>США-Австралия</td>\n",
       "      <td>ХЭрольд Рэмис</td>\n",
       "      <td>Джейн Розенталь, Пола Уейнстейн</td>\n",
       "      <td>«16+» - для детей старше 16 лет</td>\n",
       "      <td>nan</td>\n",
       "      <td>nan</td>\n",
       "      <td>nan</td>\n",
       "      <td>NaN</td>\n",
       "      <td>7.40</td>\n",
       "      <td>комедия,криминал</td>\n",
       "    </tr>\n",
       "    <tr>\n",
       "      <td>6305</td>\n",
       "      <td>221054410</td>\n",
       "      <td>nan</td>\n",
       "      <td>Анализируй то!</td>\n",
       "      <td>2010-05-25 12:00:00</td>\n",
       "      <td>Художественный</td>\n",
       "      <td>Уорнер Бразерс, Виллидж Роадшоу Пикчерз, Эн-Пи...</td>\n",
       "      <td>США</td>\n",
       "      <td>Гарольд Реймис</td>\n",
       "      <td>Джейн Розенталь, Паул Уэйнстейн</td>\n",
       "      <td>«12+» - для детей старше 12 лет</td>\n",
       "      <td>nan</td>\n",
       "      <td>nan</td>\n",
       "      <td>nan</td>\n",
       "      <td>NaN</td>\n",
       "      <td>6.80</td>\n",
       "      <td>комедия,криминал</td>\n",
       "    </tr>\n",
       "  </tbody>\n",
       "</table>\n",
       "</div>"
      ],
      "text/plain": [
       "      pu_number  box_office            title     show_start_date  \\\n",
       "6304  221054410         nan  Анализируй это! 2010-05-25 12:00:00   \n",
       "6305  221054410         nan   Анализируй то! 2010-05-25 12:00:00   \n",
       "\n",
       "                type                                        film_studio  \\\n",
       "6304  Художественный          Уорнер Бразерс, Вилладж Роудшоу Филмз ЛТД   \n",
       "6305  Художественный  Уорнер Бразерс, Виллидж Роадшоу Пикчерз, Эн-Пи...   \n",
       "\n",
       "     production_country        director                         producer  \\\n",
       "6304      США-Австралия   ХЭрольд Рэмис  Джейн Розенталь, Пола Уейнстейн   \n",
       "6305                США  Гарольд Реймис  Джейн Розенталь, Паул Уэйнстейн   \n",
       "\n",
       "                      age_restriction  refundable_support  \\\n",
       "6304  «16+» - для детей старше 16 лет                 nan   \n",
       "6305  «12+» - для детей старше 12 лет                 nan   \n",
       "\n",
       "      nonrefundable_support  budget financing_source  ratings  \\\n",
       "6304                    nan     nan              NaN     7.40   \n",
       "6305                    nan     nan              NaN     6.80   \n",
       "\n",
       "                genres  \n",
       "6304  комедия,криминал  \n",
       "6305  комедия,криминал  "
      ]
     },
     "execution_count": 23,
     "metadata": {},
     "output_type": "execute_result"
    }
   ],
   "source": [
    "# срез данных где значения \"221054410\"  в 'pu_number'\n",
    "data.query('\"221054410\" in pu_number')"
   ]
  },
  {
   "cell_type": "markdown",
   "metadata": {},
   "source": [
    "Если вдаться в подробности, то два таких фильма действительно существуют, но у них разные даты премьеры. Смею предположить, что тут скорее всего произошла ошибка при вводе данных и речь идет об одном и том же фильме."
   ]
  },
  {
   "cell_type": "markdown",
   "metadata": {},
   "source": [
    "По аналогии с `pu_number` посмотрим и посчитаем уникальные значения для `title`."
   ]
  },
  {
   "cell_type": "code",
   "execution_count": 24,
   "metadata": {},
   "outputs": [
    {
     "data": {
      "text/html": [
       "<div>\n",
       "<style scoped>\n",
       "    .dataframe tbody tr th:only-of-type {\n",
       "        vertical-align: middle;\n",
       "    }\n",
       "\n",
       "    .dataframe tbody tr th {\n",
       "        vertical-align: top;\n",
       "    }\n",
       "\n",
       "    .dataframe thead th {\n",
       "        text-align: right;\n",
       "    }\n",
       "</style>\n",
       "<table border=\"1\" class=\"dataframe\">\n",
       "  <thead>\n",
       "    <tr style=\"text-align: right;\">\n",
       "      <th></th>\n",
       "      <th>title</th>\n",
       "    </tr>\n",
       "  </thead>\n",
       "  <tbody>\n",
       "    <tr>\n",
       "      <td>День святого Валентина_</td>\n",
       "      <td>5</td>\n",
       "    </tr>\n",
       "    <tr>\n",
       "      <td>Гарри Поттер и Дары Смерти - Часть 1/По роману Дж.К.Ролинг/</td>\n",
       "      <td>4</td>\n",
       "    </tr>\n",
       "    <tr>\n",
       "      <td>Рапунцель: Запутанная история</td>\n",
       "      <td>4</td>\n",
       "    </tr>\n",
       "    <tr>\n",
       "      <td>Знакомство с Факерами 2.</td>\n",
       "      <td>4</td>\n",
       "    </tr>\n",
       "    <tr>\n",
       "      <td>Жена путешественника во времени</td>\n",
       "      <td>4</td>\n",
       "    </tr>\n",
       "    <tr>\n",
       "      <td>...</td>\n",
       "      <td>...</td>\n",
       "    </tr>\n",
       "    <tr>\n",
       "      <td>Время желаний</td>\n",
       "      <td>1</td>\n",
       "    </tr>\n",
       "    <tr>\n",
       "      <td>Расплата._</td>\n",
       "      <td>1</td>\n",
       "    </tr>\n",
       "    <tr>\n",
       "      <td>Отражение /Фильм содержит сцены жестокости/</td>\n",
       "      <td>1</td>\n",
       "    </tr>\n",
       "    <tr>\n",
       "      <td>Выйти замуж за два дня</td>\n",
       "      <td>1</td>\n",
       "    </tr>\n",
       "    <tr>\n",
       "      <td>Без ума от Тиффани</td>\n",
       "      <td>1</td>\n",
       "    </tr>\n",
       "  </tbody>\n",
       "</table>\n",
       "<p>6772 rows × 1 columns</p>\n",
       "</div>"
      ],
      "text/plain": [
       "                                                    title\n",
       "День святого Валентина_                                 5\n",
       "Гарри Поттер и Дары Смерти - Часть 1/По роману ...      4\n",
       "Рапунцель: Запутанная история                           4\n",
       "Знакомство с Факерами 2.                                4\n",
       "Жена путешественника во времени                         4\n",
       "...                                                   ...\n",
       "Время желаний                                           1\n",
       "Расплата._                                              1\n",
       "Отражение /Фильм содержит сцены жестокости/             1\n",
       "Выйти замуж за два дня                                  1\n",
       "Без ума от Тиффани                                      1\n",
       "\n",
       "[6772 rows x 1 columns]"
      ]
     },
     "execution_count": 24,
     "metadata": {},
     "output_type": "execute_result"
    }
   ],
   "source": [
    "# посчитаем уникальные значения для 'title' выведем в порядке убывания\n",
    "data['title'].value_counts().to_frame()"
   ]
  },
  {
   "cell_type": "markdown",
   "metadata": {},
   "source": [
    "Посмотрим строчки с дубликатами в названиях, чтобы убедиться что это разные фильмы."
   ]
  },
  {
   "cell_type": "code",
   "execution_count": 25,
   "metadata": {},
   "outputs": [
    {
     "data": {
      "text/html": [
       "<div>\n",
       "<style scoped>\n",
       "    .dataframe tbody tr th:only-of-type {\n",
       "        vertical-align: middle;\n",
       "    }\n",
       "\n",
       "    .dataframe tbody tr th {\n",
       "        vertical-align: top;\n",
       "    }\n",
       "\n",
       "    .dataframe thead th {\n",
       "        text-align: right;\n",
       "    }\n",
       "</style>\n",
       "<table border=\"1\" class=\"dataframe\">\n",
       "  <thead>\n",
       "    <tr style=\"text-align: right;\">\n",
       "      <th></th>\n",
       "      <th>pu_number</th>\n",
       "      <th>box_office</th>\n",
       "      <th>title</th>\n",
       "      <th>show_start_date</th>\n",
       "      <th>type</th>\n",
       "      <th>film_studio</th>\n",
       "      <th>production_country</th>\n",
       "      <th>director</th>\n",
       "      <th>producer</th>\n",
       "      <th>age_restriction</th>\n",
       "      <th>refundable_support</th>\n",
       "      <th>nonrefundable_support</th>\n",
       "      <th>budget</th>\n",
       "      <th>financing_source</th>\n",
       "      <th>ratings</th>\n",
       "      <th>genres</th>\n",
       "    </tr>\n",
       "  </thead>\n",
       "  <tbody>\n",
       "    <tr>\n",
       "      <td>5281</td>\n",
       "      <td>221083810</td>\n",
       "      <td>nan</td>\n",
       "      <td>День святого Валентина_</td>\n",
       "      <td>2010-07-15 12:00:00</td>\n",
       "      <td>Художественный</td>\n",
       "      <td>Уорнер Бразерс, Нью Лайн Синема, Уэйн Райс, Ка...</td>\n",
       "      <td>США</td>\n",
       "      <td>Гарри Маршалл</td>\n",
       "      <td>Сэмюэл Дж.Браун</td>\n",
       "      <td>«16+» - для детей старше 16 лет</td>\n",
       "      <td>nan</td>\n",
       "      <td>nan</td>\n",
       "      <td>nan</td>\n",
       "      <td>NaN</td>\n",
       "      <td>6.70</td>\n",
       "      <td>мелодрама,комедия</td>\n",
       "    </tr>\n",
       "    <tr>\n",
       "      <td>5359</td>\n",
       "      <td>221068010</td>\n",
       "      <td>nan</td>\n",
       "      <td>День святого Валентина_</td>\n",
       "      <td>2010-05-14 12:00:00</td>\n",
       "      <td>Художественный</td>\n",
       "      <td>Уорнер Бразерс, Нью Лайн Синема, Уэйн Райс, Ка...</td>\n",
       "      <td>США</td>\n",
       "      <td>Гарри Маршалл</td>\n",
       "      <td>Сэмюэл Дж.Браун</td>\n",
       "      <td>«16+» - для детей старше 16 лет</td>\n",
       "      <td>nan</td>\n",
       "      <td>nan</td>\n",
       "      <td>nan</td>\n",
       "      <td>NaN</td>\n",
       "      <td>6.70</td>\n",
       "      <td>мелодрама,комедия</td>\n",
       "    </tr>\n",
       "    <tr>\n",
       "      <td>5430</td>\n",
       "      <td>121002210</td>\n",
       "      <td>nan</td>\n",
       "      <td>День святого Валентина_</td>\n",
       "      <td>2010-02-03 12:00:00</td>\n",
       "      <td>Художественный</td>\n",
       "      <td>Уорнер Бразерс, Нью Лайн Синема, Уэйн Райс, Ка...</td>\n",
       "      <td>США</td>\n",
       "      <td>Гарри Маршалл</td>\n",
       "      <td>Сэмюэл Дж.Браун</td>\n",
       "      <td>«16+» - для детей старше 16 лет</td>\n",
       "      <td>nan</td>\n",
       "      <td>nan</td>\n",
       "      <td>nan</td>\n",
       "      <td>NaN</td>\n",
       "      <td>6.70</td>\n",
       "      <td>мелодрама,комедия</td>\n",
       "    </tr>\n",
       "    <tr>\n",
       "      <td>5549</td>\n",
       "      <td>221136210</td>\n",
       "      <td>nan</td>\n",
       "      <td>День святого Валентина_</td>\n",
       "      <td>2010-11-30 12:00:00</td>\n",
       "      <td>Художественный</td>\n",
       "      <td>Уорнер Бразерс, Нью Лайн Синема, Уэйн Райс, Ка...</td>\n",
       "      <td>США</td>\n",
       "      <td>Гарри Маршалл</td>\n",
       "      <td>Сэмюэл Дж.Браун</td>\n",
       "      <td>«16+» - для детей старше 16 лет</td>\n",
       "      <td>nan</td>\n",
       "      <td>nan</td>\n",
       "      <td>nan</td>\n",
       "      <td>NaN</td>\n",
       "      <td>6.70</td>\n",
       "      <td>мелодрама,комедия</td>\n",
       "    </tr>\n",
       "    <tr>\n",
       "      <td>6307</td>\n",
       "      <td>221066410</td>\n",
       "      <td>nan</td>\n",
       "      <td>День святого Валентина_</td>\n",
       "      <td>2010-06-01 12:00:00</td>\n",
       "      <td>Художественный</td>\n",
       "      <td>Уорнер Бразерс, Нью Лайн Синема, Уэйн Райс, Ка...</td>\n",
       "      <td>США</td>\n",
       "      <td>Гарри Маршалл</td>\n",
       "      <td>Сэмюэл Дж.Браун</td>\n",
       "      <td>«16+» - для детей старше 16 лет</td>\n",
       "      <td>nan</td>\n",
       "      <td>nan</td>\n",
       "      <td>nan</td>\n",
       "      <td>NaN</td>\n",
       "      <td>6.70</td>\n",
       "      <td>мелодрама,комедия</td>\n",
       "    </tr>\n",
       "  </tbody>\n",
       "</table>\n",
       "</div>"
      ],
      "text/plain": [
       "      pu_number  box_office                    title     show_start_date  \\\n",
       "5281  221083810         nan  День святого Валентина_ 2010-07-15 12:00:00   \n",
       "5359  221068010         nan  День святого Валентина_ 2010-05-14 12:00:00   \n",
       "5430  121002210         nan  День святого Валентина_ 2010-02-03 12:00:00   \n",
       "5549  221136210         nan  День святого Валентина_ 2010-11-30 12:00:00   \n",
       "6307  221066410         nan  День святого Валентина_ 2010-06-01 12:00:00   \n",
       "\n",
       "                type                                        film_studio  \\\n",
       "5281  Художественный  Уорнер Бразерс, Нью Лайн Синема, Уэйн Райс, Ка...   \n",
       "5359  Художественный  Уорнер Бразерс, Нью Лайн Синема, Уэйн Райс, Ка...   \n",
       "5430  Художественный  Уорнер Бразерс, Нью Лайн Синема, Уэйн Райс, Ка...   \n",
       "5549  Художественный  Уорнер Бразерс, Нью Лайн Синема, Уэйн Райс, Ка...   \n",
       "6307  Художественный  Уорнер Бразерс, Нью Лайн Синема, Уэйн Райс, Ка...   \n",
       "\n",
       "     production_country       director         producer  \\\n",
       "5281                США  Гарри Маршалл  Сэмюэл Дж.Браун   \n",
       "5359                США  Гарри Маршалл  Сэмюэл Дж.Браун   \n",
       "5430                США  Гарри Маршалл  Сэмюэл Дж.Браун   \n",
       "5549                США  Гарри Маршалл  Сэмюэл Дж.Браун   \n",
       "6307                США  Гарри Маршалл  Сэмюэл Дж.Браун   \n",
       "\n",
       "                      age_restriction  refundable_support  \\\n",
       "5281  «16+» - для детей старше 16 лет                 nan   \n",
       "5359  «16+» - для детей старше 16 лет                 nan   \n",
       "5430  «16+» - для детей старше 16 лет                 nan   \n",
       "5549  «16+» - для детей старше 16 лет                 nan   \n",
       "6307  «16+» - для детей старше 16 лет                 nan   \n",
       "\n",
       "      nonrefundable_support  budget financing_source  ratings  \\\n",
       "5281                    nan     nan              NaN     6.70   \n",
       "5359                    nan     nan              NaN     6.70   \n",
       "5430                    nan     nan              NaN     6.70   \n",
       "5549                    nan     nan              NaN     6.70   \n",
       "6307                    nan     nan              NaN     6.70   \n",
       "\n",
       "                 genres  \n",
       "5281  мелодрама,комедия  \n",
       "5359  мелодрама,комедия  \n",
       "5430  мелодрама,комедия  \n",
       "5549  мелодрама,комедия  \n",
       "6307  мелодрама,комедия  "
      ]
     },
     "execution_count": 25,
     "metadata": {},
     "output_type": "execute_result"
    }
   ],
   "source": [
    "# срез данных где значения \"День святого Валентина_\"  в 'title'\n",
    "data.query('\"День святого Валентина_\" in title')"
   ]
  },
  {
   "cell_type": "markdown",
   "metadata": {},
   "source": [
    "Можно заметить, что прокатные удостоверения у всех этих 5 фильмов разные, а значит можно считать, что это и есть разные фильмы. Например у римейков могут быть разные прокатные удостоверения и это явно разные фильмы, считать их дубликатами нельзя. Более того, для проката в раазных сетях (кинотеатр, тв и т.п.) выдаются разные прокатные удостоверения."
   ]
  },
  {
   "cell_type": "markdown",
   "metadata": {},
   "source": [
    "**Вывод**\n",
    "\n",
    "Явных дубликатов нет. Дубликаты по прокатным удостоверениям найдены, но удалять я их не спешу. Возможно в обоих случаях, это действительно разные фильмы, и прокатные удостоверения должны быть различными, но программа или человеческий фактор дали сбой в этих случаях."
   ]
  },
  {
   "cell_type": "markdown",
   "metadata": {
    "id": "52fOPrEBgFyQ"
   },
   "source": [
    "#### Изучение категориальных значений"
   ]
  },
  {
   "cell_type": "markdown",
   "metadata": {},
   "source": [
    "Для изучения категориальных значений вспомним, какие это значения. Такие значения встречаются в столбцах `type`, `film_studio`, `production_country`, `director`, `producer`,`financing_source`, `age_restriction`, `genres`."
   ]
  },
  {
   "cell_type": "code",
   "execution_count": 26,
   "metadata": {
    "id": "PnXKIVdFgFyR"
   },
   "outputs": [
    {
     "data": {
      "text/html": [
       "<div>\n",
       "<style scoped>\n",
       "    .dataframe tbody tr th:only-of-type {\n",
       "        vertical-align: middle;\n",
       "    }\n",
       "\n",
       "    .dataframe tbody tr th {\n",
       "        vertical-align: top;\n",
       "    }\n",
       "\n",
       "    .dataframe thead th {\n",
       "        text-align: right;\n",
       "    }\n",
       "</style>\n",
       "<table border=\"1\" class=\"dataframe\">\n",
       "  <thead>\n",
       "    <tr style=\"text-align: right;\">\n",
       "      <th></th>\n",
       "      <th>pu_number</th>\n",
       "      <th>box_office</th>\n",
       "      <th>title</th>\n",
       "      <th>show_start_date</th>\n",
       "      <th>type</th>\n",
       "      <th>film_studio</th>\n",
       "      <th>production_country</th>\n",
       "      <th>director</th>\n",
       "      <th>producer</th>\n",
       "      <th>age_restriction</th>\n",
       "      <th>refundable_support</th>\n",
       "      <th>nonrefundable_support</th>\n",
       "      <th>budget</th>\n",
       "      <th>financing_source</th>\n",
       "      <th>ratings</th>\n",
       "      <th>genres</th>\n",
       "    </tr>\n",
       "  </thead>\n",
       "  <tbody>\n",
       "    <tr>\n",
       "      <td>0</td>\n",
       "      <td>111000113</td>\n",
       "      <td>2,450.00</td>\n",
       "      <td>Тайна перевала Дятлова</td>\n",
       "      <td>2013-01-17 12:00:00</td>\n",
       "      <td>Художественный</td>\n",
       "      <td>ООО \"Нон-Стоп Продакшн\"</td>\n",
       "      <td>Россия</td>\n",
       "      <td>Ренни Харлин</td>\n",
       "      <td>А.Роднянский, С.Мелькумов, С.Беспалов, Киа Джэм</td>\n",
       "      <td>«16+» - для детей старше 16 лет</td>\n",
       "      <td>nan</td>\n",
       "      <td>nan</td>\n",
       "      <td>nan</td>\n",
       "      <td>NaN</td>\n",
       "      <td>5.10</td>\n",
       "      <td>ужасы,фантастика</td>\n",
       "    </tr>\n",
       "    <tr>\n",
       "      <td>1</td>\n",
       "      <td>111000115</td>\n",
       "      <td>61,040.00</td>\n",
       "      <td>Небесный верблюд</td>\n",
       "      <td>2015-01-14 12:00:00</td>\n",
       "      <td>Художественный</td>\n",
       "      <td>ООО Продюсерский центр \"Всё хорошо\"</td>\n",
       "      <td>Россия</td>\n",
       "      <td>Ю.Фетинг</td>\n",
       "      <td>И.Плиско</td>\n",
       "      <td>«0+» - для любой зрительской аудитории</td>\n",
       "      <td>0.00</td>\n",
       "      <td>34,000,000.00</td>\n",
       "      <td>49,280,496.00</td>\n",
       "      <td>Министерство культуры</td>\n",
       "      <td>6.70</td>\n",
       "      <td>детский,семейный</td>\n",
       "    </tr>\n",
       "    <tr>\n",
       "      <td>2</td>\n",
       "      <td>111000116</td>\n",
       "      <td>153,030,013.40</td>\n",
       "      <td>Статус: \"Свободен\"</td>\n",
       "      <td>2016-01-13 12:00:00</td>\n",
       "      <td>Художественный</td>\n",
       "      <td>ООО \"Кинодом\"</td>\n",
       "      <td>Россия</td>\n",
       "      <td>П.Руминов</td>\n",
       "      <td>С.Ливнев, Д.Козловский, С.Бобза</td>\n",
       "      <td>«16+» - для детей старше 16 лет</td>\n",
       "      <td>20,000,000.00</td>\n",
       "      <td>20,000,000.00</td>\n",
       "      <td>78,686,500.00</td>\n",
       "      <td>Фонд кино</td>\n",
       "      <td>5.80</td>\n",
       "      <td>комедия,мелодрама</td>\n",
       "    </tr>\n",
       "    <tr>\n",
       "      <td>3</td>\n",
       "      <td>111000117</td>\n",
       "      <td>12,260,956.00</td>\n",
       "      <td>После тебя</td>\n",
       "      <td>2017-01-10 12:00:00</td>\n",
       "      <td>Художественный</td>\n",
       "      <td>Компания Production Value WorldWide (ООО \"ПРОД...</td>\n",
       "      <td>Россия</td>\n",
       "      <td>А.Матисон</td>\n",
       "      <td>С.Безруков</td>\n",
       "      <td>«16+» - для детей старше 16 лет</td>\n",
       "      <td>7,000,000.00</td>\n",
       "      <td>20,000,000.00</td>\n",
       "      <td>45,483,233.00</td>\n",
       "      <td>Министерство культуры, Фонд кино</td>\n",
       "      <td>6.70</td>\n",
       "      <td>драма</td>\n",
       "    </tr>\n",
       "    <tr>\n",
       "      <td>4</td>\n",
       "      <td>111000118</td>\n",
       "      <td>163,684,057.79</td>\n",
       "      <td>ЗОМБОЯЩИК (ZОМБОЯЩИК)</td>\n",
       "      <td>2018-01-23 12:00:00</td>\n",
       "      <td>Художественный</td>\n",
       "      <td>ООО \"Комеди Клаб продакшн\"</td>\n",
       "      <td>Россия</td>\n",
       "      <td>З.Болотаев, К.Смирнов</td>\n",
       "      <td>Е.Казаков, Т.Бадзиев</td>\n",
       "      <td>«18+» - запрещено для детей</td>\n",
       "      <td>nan</td>\n",
       "      <td>nan</td>\n",
       "      <td>nan</td>\n",
       "      <td>NaN</td>\n",
       "      <td>3.20</td>\n",
       "      <td>комедия</td>\n",
       "    </tr>\n",
       "  </tbody>\n",
       "</table>\n",
       "</div>"
      ],
      "text/plain": [
       "   pu_number     box_office                   title     show_start_date  \\\n",
       "0  111000113       2,450.00  Тайна перевала Дятлова 2013-01-17 12:00:00   \n",
       "1  111000115      61,040.00        Небесный верблюд 2015-01-14 12:00:00   \n",
       "2  111000116 153,030,013.40      Статус: \"Свободен\" 2016-01-13 12:00:00   \n",
       "3  111000117  12,260,956.00              После тебя 2017-01-10 12:00:00   \n",
       "4  111000118 163,684,057.79   ЗОМБОЯЩИК (ZОМБОЯЩИК) 2018-01-23 12:00:00   \n",
       "\n",
       "              type                                        film_studio  \\\n",
       "0   Художественный                            ООО \"Нон-Стоп Продакшн\"   \n",
       "1   Художественный                ООО Продюсерский центр \"Всё хорошо\"   \n",
       "2   Художественный                                      ООО \"Кинодом\"   \n",
       "3   Художественный  Компания Production Value WorldWide (ООО \"ПРОД...   \n",
       "4   Художественный                         ООО \"Комеди Клаб продакшн\"   \n",
       "\n",
       "  production_country               director  \\\n",
       "0             Россия           Ренни Харлин   \n",
       "1             Россия               Ю.Фетинг   \n",
       "2             Россия              П.Руминов   \n",
       "3             Россия              А.Матисон   \n",
       "4             Россия  З.Болотаев, К.Смирнов   \n",
       "\n",
       "                                          producer  \\\n",
       "0  А.Роднянский, С.Мелькумов, С.Беспалов, Киа Джэм   \n",
       "1                                         И.Плиско   \n",
       "2                  С.Ливнев, Д.Козловский, С.Бобза   \n",
       "3                                       С.Безруков   \n",
       "4                             Е.Казаков, Т.Бадзиев   \n",
       "\n",
       "                          age_restriction  refundable_support  \\\n",
       "0         «16+» - для детей старше 16 лет                 nan   \n",
       "1  «0+» - для любой зрительской аудитории                0.00   \n",
       "2         «16+» - для детей старше 16 лет       20,000,000.00   \n",
       "3         «16+» - для детей старше 16 лет        7,000,000.00   \n",
       "4             «18+» - запрещено для детей                 nan   \n",
       "\n",
       "   nonrefundable_support        budget                  financing_source  \\\n",
       "0                    nan           nan                               NaN   \n",
       "1          34,000,000.00 49,280,496.00             Министерство культуры   \n",
       "2          20,000,000.00 78,686,500.00                         Фонд кино   \n",
       "3          20,000,000.00 45,483,233.00  Министерство культуры, Фонд кино   \n",
       "4                    nan           nan                               NaN   \n",
       "\n",
       "   ratings             genres  \n",
       "0     5.10   ужасы,фантастика  \n",
       "1     6.70   детский,семейный  \n",
       "2     5.80  комедия,мелодрама  \n",
       "3     6.70              драма  \n",
       "4     3.20            комедия  "
      ]
     },
     "execution_count": 26,
     "metadata": {},
     "output_type": "execute_result"
    }
   ],
   "source": [
    "# выведем на экран первые 5 строк датафрейма\n",
    "data.head()"
   ]
  },
  {
   "cell_type": "markdown",
   "metadata": {},
   "source": [
    "**Вывод №1**\n",
    "\n",
    "Во многих этих столбцах, как мы помним были пропуски. Все категориальные пропущенные значения являются случайными, то есть это значит, что вероятность пропуска зависит от других значений в наборе данных, но не от значений собственного столбца - это одна из проблем, которая объединяет такие значения."
   ]
  },
  {
   "cell_type": "markdown",
   "metadata": {},
   "source": [
    "##### Исправление  и изучение проблемных значений"
   ]
  },
  {
   "cell_type": "markdown",
   "metadata": {},
   "source": [
    "Посмотрим на уникальные значения в категориальных столбцах."
   ]
  },
  {
   "cell_type": "markdown",
   "metadata": {},
   "source": [
    "`type`"
   ]
  },
  {
   "cell_type": "code",
   "execution_count": 27,
   "metadata": {
    "scrolled": true
   },
   "outputs": [
    {
     "data": {
      "text/plain": [
       "array(['Художественный', ' Художественный', 'Научно-популярный',\n",
       "       'Анимационный', 'Документальный', ' Анимационный', 'Прочие',\n",
       "       'Музыкально-развлекательный'], dtype=object)"
      ]
     },
     "execution_count": 27,
     "metadata": {},
     "output_type": "execute_result"
    }
   ],
   "source": [
    "# выведем уникальные значения столбца 'type'\n",
    "data['type'].unique()"
   ]
  },
  {
   "cell_type": "markdown",
   "metadata": {},
   "source": [
    "В столбце `type` всего несколько видов значений, но записаны они по разному: у некоторых присутсвуют пробелы вначале слова. Уберем пробелы и проверим уникальные значения по этому столбцу."
   ]
  },
  {
   "cell_type": "code",
   "execution_count": 28,
   "metadata": {},
   "outputs": [
    {
     "data": {
      "text/plain": [
       "array(['Художественный', 'Научно-популярный', 'Анимационный',\n",
       "       'Документальный', 'Прочие', 'Музыкально-развлекательный'],\n",
       "      dtype=object)"
      ]
     },
     "execution_count": 28,
     "metadata": {},
     "output_type": "execute_result"
    }
   ],
   "source": [
    "# уберем пробелы и найдем уникальные значения\n",
    "data['type'].str.strip().unique()"
   ]
  },
  {
   "cell_type": "markdown",
   "metadata": {},
   "source": [
    "`film_studio`"
   ]
  },
  {
   "cell_type": "code",
   "execution_count": 29,
   "metadata": {},
   "outputs": [
    {
     "data": {
      "text/plain": [
       "array(['ООО \"Нон-Стоп Продакшн\"', 'ООО Продюсерский центр \"Всё хорошо\"',\n",
       "       'ООО \"Кинодом\"', ...,\n",
       "       'Дэниел Гродник Продакшнз, Вандерфилм Медиа Корпорэйшн, Импринт Интертейнмент, Вор Хорс Интертейнмент, Пимиента ',\n",
       "       'Никелодеон Анимейшн Студиос, Спин Мастер',\n",
       "       'Анимаккорд Лтд., ООО Студия \"АНИМАККОРД\"'], dtype=object)"
      ]
     },
     "execution_count": 29,
     "metadata": {},
     "output_type": "execute_result"
    }
   ],
   "source": [
    "# выведем уникальные значения столбца 'film_studio'\n",
    "data['film_studio'].unique()"
   ]
  },
  {
   "cell_type": "markdown",
   "metadata": {},
   "source": [
    "`production_country`"
   ]
  },
  {
   "cell_type": "code",
   "execution_count": 30,
   "metadata": {},
   "outputs": [
    {
     "data": {
      "text/plain": [
       "array(['Россия', 'СССР', 'Россия-Казахстан', 'не определен',\n",
       "       'Россия, Республика Беларусь', 'Россия-Украина',\n",
       "       'Россия-Украина-Германия',\n",
       "       'Россия, Германия, Казахстан, Польша, Китай',\n",
       "       'СССР, Румыния, Франция', 'Россия - Германия',\n",
       "       'Россия, Франция, Германия, Бельгия', 'Россия, Армения',\n",
       "       'Россия, Сербия', 'Россия, Украина, Республика Беларусь, Литва',\n",
       "       'Россия, Казахстан, США', 'Россия-Франция', 'Россия - Польша',\n",
       "       'СССР, Финляндия', 'Россия - Италия', 'Россия-Германия',\n",
       "       'СССР - Швейцария - Франция', 'Россия, Италия',\n",
       "       'Россия, Украина, Польша', 'Россия-Словакия-Чехия',\n",
       "       'Россия-Белоруссия', 'Россия, Германия', 'Россия-Ирландия',\n",
       "       'Россия, Германия, Великобритания',\n",
       "       'СССР, Франция, Англия, Куба, ГДР', 'Армения-Россия',\n",
       "       'СССР, ЧССР, Западный Берлин, ПНР', 'Россия-Китай',\n",
       "       'Россия, Украина', 'Россия, Франция, Латвия', 'Россия,  Испания',\n",
       "       'Россия, Грузия, Испания', 'Россия, Латвия, Чешская Республика',\n",
       "       'СССР ', 'Россия-Кипр', 'Россия, Испания', 'США',\n",
       "       'Великобритания, Канада', 'Франция-Бельгия-Канада', 'США-Канада',\n",
       "       'Франция', 'Германия-Швеция', 'Италия - Франция - Швейцария',\n",
       "       'Норвегия', 'Франция - Германия - Италия',\n",
       "       'Португалия, Франция, Польша, США', 'Румыния-США', 'Иран, Франция',\n",
       "       'США-Австралия', 'Мексика - Тайвань - США', 'Германия', 'Италия',\n",
       "       'США - Канада - Аргентина', 'Испания', 'Бельгия - США',\n",
       "       'Канада - Франция - Великобритания',\n",
       "       'Дания-Франция-Бельгия-Германия-Великобритания',\n",
       "       'США-Великобритания', 'Китай-Гонконг-США', 'США - ЮАР',\n",
       "       'Австралия', 'Ливан-США', 'США, Великобритания', 'Германия - США',\n",
       "       'Франция-Германия', 'Великобритания', 'США - Германия',\n",
       "       'Великобритания - США - Россия', 'Франция - Дания - Швеция - КНР',\n",
       "       'Дания', 'Великобритания-США', 'Испания-Канада', 'Исландия',\n",
       "       'Грузия', 'Франция-Бельгия', 'Венгрия - Германия - Швеция',\n",
       "       'Великобритания-Франция',\n",
       "       'Германия - Франция -  Польша - Турция - Канада - Италия - Россия ',\n",
       "       'Канада', 'США - Франция - Германия',\n",
       "       'США - Франция - Германия - Канада - Австралия ', 'США - Канада',\n",
       "       'Ирландия - Великобритания - Канада', 'Великобритания - США',\n",
       "       'Франция, Бельгия', 'Чили - Франция - США', 'США, Гонконг ',\n",
       "       'Ирландия', 'США - Россия', 'Германия - Бельгия - США -Франция',\n",
       "       'Нидерланды - США - Германия - Канада - Франция - Ирландия - Великобритания',\n",
       "       'США - Великобритания', 'США-Германия',\n",
       "       'Норвегия - Азербайджан - Россия - Колумбия - Великобритания - Венгрия - Румыния - Франция - Грузия',\n",
       "       'Аргентина - Испания', 'Германия - США - Франция - Испания',\n",
       "       'Италия - Франция', 'Аргентина-Испания', 'Гонконг',\n",
       "       'Франция - Великобритания', 'Франция-Канада', 'США - Франция',\n",
       "       'США-Ирландия', 'США - Вьетнам', 'США - Мексика', 'США-Франция',\n",
       "       'Великобритания - Франция - США', 'США - Австралия',\n",
       "       'Бразилия - Испания', 'Италия - США', 'Великобритания - Франция',\n",
       "       'КНР - Гонконг', 'Венгрия', 'Япония',\n",
       "       'Нидерланды - Бельгия - Люксембург', 'Индия - Великобритания',\n",
       "       'Франция - Канада', 'Швеция',\n",
       "       'Франция - Испания - Дания - Венгрия - Швейцария',\n",
       "       'Австралия - Ирландия', 'Канада-Германия',\n",
       "       'США - Болгария - Мексика', 'Великобритания - Люксембург',\n",
       "       'Великобритания - Германия - Франция - Кипр - США',\n",
       "       'Нидерланды - Бельгия - Болгария',\n",
       "       'Люксембург - Бельгия - Франция',\n",
       "       'США - Великобритания - Швейцария - Франция', 'Индия - КНР',\n",
       "       'Канада - Франция', 'США - Великобритания - Болгария',\n",
       "       'Австралия - США', 'Ирландия - США', 'Иран',\n",
       "       'Австралия-Турция-США',\n",
       "       'Великобритания - США - Германия - Канада - Австралия',\n",
       "       'США-Великобритания-Австралия', 'Великобритания - США - Канада',\n",
       "       'Франция - Бельгия',\n",
       "       'Германия - Франция - Великобритания - Польша - США',\n",
       "       'Турция - США', 'Финляндия - Швеция - Германия',\n",
       "       'Германия - Люксембург - Франция', 'Казахстан',\n",
       "       'Бельгия, Великобритания, США', 'Великобритания - США - Германия',\n",
       "       'Великобритания - Норвегия - Дания - Германия',\n",
       "       'США - Южная Корея', 'Аргентина - Бразилия',\n",
       "       'Чехия-Великобритания-США', 'США-Германия-Великобритания',\n",
       "       'Великобритания, Австралия', 'Франция -Бельгия',\n",
       "       'Великобритания, США', 'Индонезия', 'Новая Зеландия - США',\n",
       "       'Канада - Германия', 'США - Австралия - Индия',\n",
       "       'Польша - Португалия - Франция - Великобритания',\n",
       "       'Франция - Бельгия - Люксембург',\n",
       "       'Финляндия - Великобритания - Германия',\n",
       "       'США - Великобритания - Австралия', 'США-ОАЭ',\n",
       "       'Франция - Украина - Грузия - Армения',\n",
       "       'Великобритания, США, Испания', 'Франция - США - Норвегия - Дания',\n",
       "       'Канада- Испания',\n",
       "       'Швейцария - Израиль - Франция - Великобритания',\n",
       "       'Италия - Швейцария - Германия',\n",
       "       'США - Австралия - Новая Зеландия - Великобритания',\n",
       "       'США - Колумбия - Испания',\n",
       "       'Аргентина - Мексика - Бразилия - Франция - США',\n",
       "       'Сербия - Германия - Венгрия', 'США, Великобритания, Франция',\n",
       "       'Испания - США', 'Франция, Германия', 'Китай, Канада, США',\n",
       "       'Ирландия, Великобритания', 'ОАЭ - США', 'Германия, США',\n",
       "       'Нидерланды - Великобритания - Бельгия',\n",
       "       'Германия - Люксембург - Бельгия', 'Канада-Великобритания',\n",
       "       'США - Япония', 'КНР, США', 'Польша', 'Франция - Чехия - Бельгия',\n",
       "       'США - Италия', 'США, Великобритания, Люксембург',\n",
       "       'Аргентина - Уругвай - Россия - Германия - Франция - Нидерланды',\n",
       "       'Германия - Австрия - Ирландия', 'Великобритания - Германия',\n",
       "       'Швеция - Франция - Норвегия - Дания',\n",
       "       'Испания, Ирландия, Бельгия, Франция',\n",
       "       'Франция - Израиль - Германия', 'Болгария - Франция - Изриль',\n",
       "       'Румыния, ЮАР, Иран, Франция, Канада, Великобритания',\n",
       "       'США - Россия - Франция',\n",
       "       'Великобритания - Франция - Германия - США',\n",
       "       'Великобритания - Гонконг - Венгрия - США - Ирландия',\n",
       "       'Германия - Италия', 'Нидерланды - Россия - Германия',\n",
       "       'Италия-Великобритания', 'Испания-Колумбия', 'Венесуэла',\n",
       "       'Италия - Россия', 'США - Испания', 'Франция - США',\n",
       "       'Австралия - Великобритания - Бельгия - Индия',\n",
       "       'Бельгия - Люксембург', 'Дания-Швеция-Франция-Германия',\n",
       "       'США-Китай', 'Франция - Италия', 'Аргентина - Испания - Уругвай',\n",
       "       'Германия, Франция', 'США - Канада - Япония - КНР',\n",
       "       'Израиль - Германия - Франция - Швейцария', 'Бельгия',\n",
       "       'Великобритания - Чехия - Франция', 'Германия - Австрия',\n",
       "       'Дания - Швеция', 'США - Бельгия',\n",
       "       'США - Румыния - Великобритания',\n",
       "       'Испания - Великобритания - Франция', 'США-Колумбия',\n",
       "       'Италия-Франция', 'Франция - Германия - Бельгия',\n",
       "       'Австралия - Германия', 'Испания - Болгария - США',\n",
       "       'Испания-Аргентина', 'США, Япония',\n",
       "       'Великобритания-Австралия - США',\n",
       "       'Великобритания - Нидерланды - Франция - США', 'Мексика',\n",
       "       'Франция - Греция', 'Великобритания - Канада - США', 'КНР - США',\n",
       "       'Великобритания - Италия - Испания', 'Республика Армения',\n",
       "       'Швеция - Германия - Франция - Норвегия',\n",
       "       'Япония - КНР - Южная Корея', 'Иран ', 'Индия',\n",
       "       'Финляндия - Канада',\n",
       "       'США - Россия - Польша - Германия - Пуэрто Рико', 'ЮАР - США',\n",
       "       'Республика Корея', 'Франция-Аргентина', 'Франция-США',\n",
       "       'Канада - Мексика', 'Франция -  Бельгия', 'Грузия-Франция',\n",
       "       'Аргентина', 'Дания - Франция - Италия - Бельгия - Нидерланды',\n",
       "       'Франция - Бенльгия', 'Франция - Бельгия - Канада', 'США - КНР',\n",
       "       'Мексика - Чили', 'Великобритания - Канада', 'США-Индия',\n",
       "       'США-Италия-Испания',\n",
       "       'Великобритания - Израиль - Франция - Япония - США',\n",
       "       'США - Гонконг - КНР ', 'Австрия - Германия',\n",
       "       'Испания - Бельгия - Франция - Португалия - Великобритания',\n",
       "       'Греция - Россия', 'Канада - США', 'США - Чили', 'США ',\n",
       "       'США, Франция', 'Канада-Франция', 'Бельгия - Нидерланды - Франция',\n",
       "       'Франция-Китай', 'Норвегия, Швеция, Дания', 'КНР',\n",
       "       'Великобритания - Франция - Бельгия - США',\n",
       "       'Польша - Италия - Россия', 'Великобритания - Ирландия',\n",
       "       'Новая Зеландия', 'КНР, Индия, Гонконг, США',\n",
       "       'Великобритания, Франция', 'США-Испания', 'Австралия, США',\n",
       "       'КНР - Канада - США', 'США-Россия',\n",
       "       'Италия-Франция-Великобритания',\n",
       "       'Швеция - Германия - Франция - Дания', 'Израиль',\n",
       "       'Германия-Франция-Великобритания-США', 'США - Швеция',\n",
       "       'Турция - Германя - Франция', 'Бразилия - Португалия - Франция',\n",
       "       'Южная Корея', 'Франция - Польша - Бельгия', 'Германия - Канада',\n",
       "       'Германия - Франция', 'Франция - США - Бельгия',\n",
       "       'США - Великобритания - Канада', 'CША', 'Великобритания - КНР',\n",
       "       'Германия - Бельгия', 'Нидерланды - Бельгия - Германия - Ирландия',\n",
       "       'Китай, США', 'Канада-США', 'Германия - Австрия - Франция',\n",
       "       'Бельгия - Италия - Франция ', 'Франция - Нидерланды',\n",
       "       'Швеция - Дания - Финляндия', 'Таиланд - США', 'Франция-Австралия',\n",
       "       'Италия - Франция - Швейцария - Великобритания',\n",
       "       'Бельгия - Франция - Люксембург', 'Эстония - Россия',\n",
       "       'Сингапур - Великобритания - Индонезия - Канада - США',\n",
       "       'США - Великобритания - Франция',\n",
       "       'Франция - Великобритания - Камбоджа - США - КНР',\n",
       "       'Франция - Германия - Турция - Катар', 'Великобритания - Румыния',\n",
       "       'Франция - Германия', 'Чехия - Испания - США', 'Швеция - Дания',\n",
       "       'Бразилия', 'Великобритания - Испания - Германия',\n",
       "       'Франция - Дания - США', 'Корея', 'США-Япония', 'США - Мальта',\n",
       "       'США - Великобритания - КНР', 'Великобритания-Венгрия',\n",
       "       'Франция - Германия - Литва - Нидерланды - Россия',\n",
       "       'Дания - Исландия', 'Латвия - Россия', 'Канада, Великобритания',\n",
       "       'Нидерланды', 'США - ЮАР - Гонконг',\n",
       "       'США - Бельгия - Великобритания',\n",
       "       'Бразилия, Уругвай, Дания, Норвегия, Чили, Швеция',\n",
       "       'Германия - Франция - Польша', 'Франция - Швейцария - Германия',\n",
       "       'Австралия - Колумбия', 'Пуэрто-Рико, Великобритания, США',\n",
       "       'США - Великобритания- Франция - Швеция',\n",
       "       'США - Великобритания - Новая Зеландия', 'Португалия',\n",
       "       'Великобритания-США-Франция',\n",
       "       'Ирландия-Нидерланды-Франция-США-Великобритания', 'Китай-Гонконг',\n",
       "       'Франция-КНР', 'Швейцария-Германия-ЮАР',\n",
       "       'Франция - Канада - Бельгия',\n",
       "       'Великобритания - США - Германия - Бельгия',\n",
       "       'Великобритания - Испания - Италия - Латвия - Франция - Эстония',\n",
       "       'Испания - Франция', 'США - Великобритания - Швеция',\n",
       "       'США - Ирландия - Великобритания - Франция',\n",
       "       'Франция - Швеция - Дания - Норвегия',\n",
       "       'Польша - Франция - Великобритания',\n",
       "       'Уругвай - Аргентина - Испания',\n",
       "       'Дания - Франция - Германия - Швеция', 'США - Германия - КНР',\n",
       "       'Великобритания - Франция - Венгрия',\n",
       "       'Великобритания - Италия - Швейцария',\n",
       "       'Дания, Норвегия, Венгрия, Чехия',\n",
       "       'Франция-Италия-Испания-Венгрия', 'Великобритания, Швеция, США',\n",
       "       'США - Великобритания - Германия - Бельгия - Дания',\n",
       "       'Германия - Франция - Бельгия', 'Болгария - США',\n",
       "       'США - Великобритания - Германия - - Швеция - Канада',\n",
       "       'США-Франция-Канада', 'США - Канада - Франция - Индия',\n",
       "       'Великобритания - Россия - КНР', 'Великобритания - Новая Зеландия',\n",
       "       'США - Германия - Франция', 'США-Франция-Ирландия',\n",
       "       'Италия, Франция', 'Франция, Люксембург, Бельгия',\n",
       "       'Финляндия - Германия', 'Италия-Швейцария-Франция-Германия ',\n",
       "       'Дания - Великобритания - ЮАР', 'Канада, США, Норвегия',\n",
       "       'США - Канада - КНР', 'США - Великобритания - Канада - КНР',\n",
       "       'Болгария', 'Россия - Франция - Великобритания - Латвия',\n",
       "       'Франция - Испания - Румыния - США - Бельгия',\n",
       "       'Бразилия - США - КНР ', 'Италия-США',\n",
       "       'Италия - Фрация - Бразилия - Германия',\n",
       "       'Германия - Нидерланды - Беларусь - Россия - Латвия',\n",
       "       'Бельгия, Канада', 'США - Новая Зеландия',\n",
       "       'Испания - США - Колумбия', 'Великобритания - Франция - Бельгия',\n",
       "       'Франция - Германия - Австрия', 'Великобритания - Австралия - США',\n",
       "       'Великобритания-Германия-Канада-ЮАР',\n",
       "       'США - Великобритания - Испания', 'Франция - Бельгия - Чехия',\n",
       "       'Норвегия - США', 'Канада - США - Германия - Франция',\n",
       "       'Великобритания - Франция - Швеция - Бельгия',\n",
       "       'Ирландия - Великобритания - США', 'КНР - США ',\n",
       "       'Великобритания - Ирландия - США ', 'Франция - Бельгия - Испания',\n",
       "       'Германия - Швейцария - Франция - Южная Корея - США',\n",
       "       'Колумбия - США', 'Россия-США-Канада-Люксембург',\n",
       "       'Швейцария - Великобритания',\n",
       "       'Швейцария, Великобритания, Франция, США, Ирландия',\n",
       "       'США - Великобритания - Франция - Гонконг',\n",
       "       'Великобритания, Франция, Бельгия', 'Германия-США',\n",
       "       'Бразилия - К;анада', 'Аргентина, Испания',\n",
       "       'Япония, Великобритания', 'Нидерланды, Бельгия', 'Гонконг - КНР',\n",
       "       'Испания, Франция, Италия',\n",
       "       'Мексика, Франция, Германия, Дания, Швеция', 'США - Гонконг',\n",
       "       'Польша - Франция - Испания - Бразилия - Швеция',\n",
       "       'Франция - Македония',\n",
       "       'Нидерланды - Франция - Германия - Бельгия - Швеция - Великобритания',\n",
       "       'Испания - США - Великобритания - Канада',\n",
       "       'Австрия, Великобритания, Германия', 'Польша - Ирландия',\n",
       "       'Сербия - Великобритания - США', 'Франция - Сенегал - Бельгия',\n",
       "       'Франция, Бельгия, Люксембург', 'Финляндия, Латвия',\n",
       "       'КНР - Франция',\n",
       "       'Дания - Канада - Швеция - Франция - Германия - Великобритания - США',\n",
       "       'Франция-Испания-Швейцария', 'Канада - КНР', 'США-КНР', 'США-ЮАР',\n",
       "       'США - Великобритания - Япония', 'КНР-США',\n",
       "       'Дания, Канада, Норвегия, Австралия, США',\n",
       "       'Германия - Италия - Франция', 'Перу', 'Япония - Канада',\n",
       "       'США- Ю.Корея', 'Франция - Бельгия - Япония', 'Финляндия - Польша',\n",
       "       'Таиланд', 'Дания - Германия', 'Южная Корея - США - Канада',\n",
       "       'Бразилия - Канада - США', 'Уругвай - Колумбия',\n",
       "       'США - Франция - Канада - Великобритания', 'Германия - Китай',\n",
       "       'Германия - Бельгия - Люксембург - Норвегия', 'США-Бельгия',\n",
       "       'Южная Корея - США',\n",
       "       'США - Канада - Россия - Франция - Чили - Ирландия', 'Индия - США',\n",
       "       'Великобритания - Польша - КНР - Индия - Норвегия',\n",
       "       'Канада - Южная Корея', 'США - Индия', 'Швейцария - Франция',\n",
       "       'Великобритания, Нидерланды, Польша, Швейцария, Франция',\n",
       "       'Франция-Перу',\n",
       "       'Ирландия - Дания - Бельгия - Люксембург - Франция', 'Франция ',\n",
       "       'Испания - Аргентина - Индия - США', 'США - Финляндия',\n",
       "       'Индия - Мексика', 'Исландия, Бельгия', 'Малайзия', 'ЮАР',\n",
       "       'Испания - Италия - Франция',\n",
       "       'Великобритания - США - Канада - Нидерланды - Франция',\n",
       "       'Южная Корея - КНР', 'Германия, Австралия', 'Франция - КНР',\n",
       "       'Франция-Великобритания', 'Бельгия - Франция',\n",
       "       'Великобритания - Мексика - США', 'Германия, Бельгия', 'Китай',\n",
       "       'Германия - Бельгия - Люксембург - Ирландия',\n",
       "       'Франция - Италия - Бельгия - Люксембург',\n",
       "       'Испания, Франция, Великобритания, Дания, Бельгия, Германия',\n",
       "       'Испания - Уругвай - Аргентина', 'Австралия-Ирландия',\n",
       "       'Германия - Бельгия - Великобритания', 'Испания - Аргентина',\n",
       "       'Канада-Южная Корея-США', 'Украина', 'КНР - Сингапур',\n",
       "       'Мексика - США', 'Мексика - Аргентина - Великобритания',\n",
       "       'Франция - Дания', 'Чехия - Словакия - Хорватия',\n",
       "       'Германия - Великобритания', 'Великобритания - США - Индия',\n",
       "       'Германия - Люксембург - Дания', 'США, Франция, Япония',\n",
       "       'Великобритания - Германия - Нидерланды - Дания', 'Малайзия - США',\n",
       "       'Финляндия - Дания - Германия - Ирландия',\n",
       "       'Великобритания - Польша', 'Республика Кипр', 'США - Китай',\n",
       "       'Франция - Люксембург', 'Канада - Испания',\n",
       "       'США - КНР - Индия - Ю.Корея', 'США - Дания',\n",
       "       'Канада, США, Каймановы острова',\n",
       "       'Испания - Германия - Нидерланды', 'Великобритания, Канада, США',\n",
       "       'США, Украина',\n",
       "       'Великобритания, Южная Корея, Канада, США, Индия, Китай, Япония',\n",
       "       'Пакистан', 'Новая Зеландия - КНР',\n",
       "       'Франция - Германия - Швеция - США - Чехия - Словакия - Великобритания - Нидерланды',\n",
       "       'Франция - Германия - США', 'Дания - Латвия - Россия - США',\n",
       "       'Польша - Франция',\n",
       "       'США - Франция - Канада - Германия - Австралия - Индия',\n",
       "       'Испания - Швейцария - Великобритания - Германия - Новая Зеландия - Нидерланды - Канада',\n",
       "       'Великобритания - Россия - Украина - США',\n",
       "       'Израиль - Франция - Германия - Палестина - США - Австрия - Великобритания',\n",
       "       'Германия - Австралия',\n",
       "       'Испания - Франция - США - Великобритания - Бельгия',\n",
       "       'Германия - США - Великобритания - Израиль',\n",
       "       'Украина - Германия - Латвия - Эстония',\n",
       "       'Франция - Германия - Нидерланды',\n",
       "       'Швейцария - КНР - США - Россия - Республика Корея - Великобритания',\n",
       "       'Испания - Франция - Нидерланды - Германия - Бельгия - Великобритания - Канада',\n",
       "       'Швеция - Норвегия',\n",
       "       'Грузия - Россия - Украина - Хорватия - Германия',\n",
       "       'Италия - Аргентина - Словения ', 'Франция - Бразилия - Италия',\n",
       "       'США, Россия',\n",
       "       'Дания - Австрия - Ирландия - Финляндия - Норвегия - Швеция - Нидерланды',\n",
       "       'США - Нидерланды - Финляндия - Великобритания - Италия',\n",
       "       'Австрия', 'США - Германия - Великобритания',\n",
       "       'Франция - Бельгия - Великобритания - США - Нидерланды - Канада',\n",
       "       'Ирландия - Великобритания - Франция - США - Германия - Нидерланды',\n",
       "       'Великобритания - Исландия - Испания - Швейцария - США',\n",
       "       'Франция - Бразилия',\n",
       "       'Франция - Бельгия - Великобритания - Испания - Германия - США',\n",
       "       'Канада - США - Нидерланды - Великобритания - Аргентина',\n",
       "       'Аргентина - Франция - Испания',\n",
       "       'США - Великобритания - Италия - Израиль - Сербия - Индия',\n",
       "       'Великобритания - Франция - Италия - Индия - Дания - КНР - Бангладеш - Камбоджа - Гаити - Уганда',\n",
       "       'Франция, Новая Зеландия',\n",
       "       'Франция - Канада - Н.Зеландия - США - Нидерланды - Германия - Швеция - Россия',\n",
       "       'Швеция, Норвегия, Финляндия, Франция', 'Италия, Испания',\n",
       "       'Ирландия - Великобритания - Франция - США',\n",
       "       'Испания-Франция-Греция-Индия-США-Россия-Великобритания',\n",
       "       'Великобритания, Германия, Дания, США',\n",
       "       'Германия - США - Швеция - Франция', 'Норвегия - Швеция - Россия',\n",
       "       'Германия - Дания - Испания - Швеция - Канада - Эстония - Франция',\n",
       "       'Великобритания - Франция - Австрия - Швеция',\n",
       "       'Франция - Финляндия', 'Чехия', 'США - Пуэрто-Рико - Франция ',\n",
       "       'Финляндия - Швеция - Норвегия',\n",
       "       'Великобритания - Испания - Непал - Индия - Венгрия - Гонконг - Германия - Дания - Бахрейн',\n",
       "       'Великобритания - Аргентина - США - Франция - Россия - Испания',\n",
       "       'Германия, Франция, США', 'Германия - Великобритания - США',\n",
       "       'Армения', 'Республика Казахстан', 'Киргизия-Россия', 'Киргизия',\n",
       "       'Грузия - Украина', 'Республика Беларусь, Германия, США, Россия',\n",
       "       'Украина - Нидерланды', 'Княжество Андорра - Украина',\n",
       "       'Великобритания - Франция - Италия', 'СССР, Венгрия',\n",
       "       'Германия-Великобритания', 'Великобритания - Италия',\n",
       "       'Чехословакия', 'США - Франция - Турция',\n",
       "       'Канада - Франция - Испания', 'Франция - Мексика - США',\n",
       "       'СССР, Швеция', 'Великобритания-США-Германия-КНР', 'СССР, Италия',\n",
       "       'Гонконг, КНР', 'США - Япония - Франция - Великобритания',\n",
       "       'Гонконг - Сингапур - Таиланд - Великобритания',\n",
       "       'Франция - Италия - Великобритания - США',\n",
       "       'Ирландия-Великобритания-Германия',\n",
       "       'США-Франция-Великобритания-Австрия',\n",
       "       'США - Ирландия - Великобритания',\n",
       "       'Люксембург - Нидерланды - Испания - Великобритания - США - Италия',\n",
       "       'США - Великобритания - Чехия', 'Великобритания - Германия - США',\n",
       "       'США - Франция - Великобритания', 'СССР, Польша',\n",
       "       'Франция - Испания', 'Германия - Италия - США',\n",
       "       'Дания - Швейцария - Бельгия - Франция',\n",
       "       'Франция - Австрия - Германия - Италия - США',\n",
       "       'США - Канада - Германия', 'Россия - Казахстан', 'США - ОАЭ',\n",
       "       'США - Франция - Испания - Великобритания',\n",
       "       'США-Италия-Испания-Аргентина', 'Франция - Италия - Швейцария',\n",
       "       'Германия - Великобритания - Австрия', 'США - Индия - ОАЭ',\n",
       "       'Германия-Канада-Великобритания-Швейцария-Франция', 'Чили',\n",
       "       'Португалия - Франция', 'Исландия-Ирландия-Германия',\n",
       "       'США-Индонезия', 'Мексика - Испания - Дания - США',\n",
       "       'США - Венгрия - Великобритания', 'Бельгия-Франция-Италия',\n",
       "       'Чехия - Германия', 'США-Нидерланды', 'США-Франция-Испания',\n",
       "       'Швеция-Франция-Дания', 'Германия-Франция-Польша',\n",
       "       'Франция-Великобритания - Германия',\n",
       "       'США - Бразилия - Франция - Австралия - Великобритания - Германия',\n",
       "       'Германия-Австрия', 'Германия-Италия- Шри-Ланка',\n",
       "       'Великобритания - Испания',\n",
       "       'США - Великобритания - Канада - Швеция',\n",
       "       'Босния и Герцеговина - Франция - Великобритания - Германия - Словения - Бельгия - Сербия',\n",
       "       'Великобритания - Франция - Италия - США',\n",
       "       'Норвегия - Швеция - Дания - Германия', 'Швейцария',\n",
       "       'Греция - Германия - Франция', 'Норвения',\n",
       "       'Австрия - Германия - Франция',\n",
       "       'Великобритания - Франция - Бельгия - Италия',\n",
       "       'Грузия - Франция - Люксембург',\n",
       "       'США - Франция - Великобритания - Бразилия ', 'Мексика - Франция',\n",
       "       'США - Германия - Гонконг - Сингапур',\n",
       "       'Финляндия - Австрия - Россия', 'Испания - Куба',\n",
       "       'Великобритания - ЮАР',\n",
       "       'Бразилия - Германия - Порртугалия - Франция ', 'Франция-Испания',\n",
       "       'Испания - Канада - Япония', 'Швеция-Куба',\n",
       "       'США-Великобритания-Ирландия', 'Испания - Канада',\n",
       "       'Япония-Великобритания', 'Финляндия - Франция - Германия',\n",
       "       'Мексика - Франция - Нидерланды - Германия',\n",
       "       'США-Великобритания-Индия', 'США-Канада-Бельгия',\n",
       "       'Республика Узбекистан', 'Италия ', 'Турция',\n",
       "       'Сербия - Словения - Хорватия - Черногория - Македония',\n",
       "       'Великобритания - Нидерланды - Франция - Хорватия',\n",
       "       'Япония - Франция - США - Южная Корея - Турция',\n",
       "       'Израиль - Франция', 'США - Великобритания ',\n",
       "       'Франция - Люксембург - Бельгия',\n",
       "       'Бельгия - Люксембург - Франция - Швейцария', 'Норвегия - Швеция',\n",
       "       'КНР - Гонконг - США', 'США - Сингапур - Малайзия - Индонезия',\n",
       "       'Германия - Россия',\n",
       "       'Франция - Люксембург - Германия - Бельгия - Швейцария - Великобритания ',\n",
       "       'США - Швейцария - Франция', 'Канада-ЮАР', 'Франция - Россия',\n",
       "       'Германия - Финляндия - Австралия', 'Германия - Франция - Австрия',\n",
       "       'Франция-Индия', 'Республика Беларусь',\n",
       "       'Великобритания - Австрия - Франция - США',\n",
       "       'Австрия-Германия-Франция',\n",
       "       'Дания - Швеция - Италия - Франция - Германия',\n",
       "       'Франция-Великобритания-Чехия', 'Румыния - Франция - Бельгия',\n",
       "       'Израиль - Германия - Польша - Бельгия - Франция - Люксембург',\n",
       "       'Россия, Германия, Франция, Бельгия', 'Франция - Португалия',\n",
       "       'Великобритания - Пуэрто-Рико', 'СССР, ФРГ, Западный Берлин',\n",
       "       'Франция - Австрия', 'Бельгия-Нидерланды',\n",
       "       'Канада - Франция - США - ОАЭ - Великобритания',\n",
       "       'США - Австралия - Франция', 'Исландия - Финляндия',\n",
       "       'Россия-Польша-Голландия-Словакия', 'Дания - Германия - Швеция',\n",
       "       'США-Мальта', 'США -Германия', 'США - Великобритания - Ирландия',\n",
       "       'США - Украина',\n",
       "       'США - Финляндия - Испания - Великобритания - Франция',\n",
       "       'Австралия-Великобритания',\n",
       "       'США - Канада - Афганистан - Бельгия - Франция',\n",
       "       'США - Великобритания - Германия - Новая Зеландия - Бельгия - Франция',\n",
       "       'Ирландия - Финляндия - Бельгия - Великобритания - США - Швейцария',\n",
       "       'США - Франция - Бельгия - Италия', 'Франция - Ирландия - Швеция',\n",
       "       'Азербайджан-Россия', 'Чили - Испания', 'Франция - Швейцария',\n",
       "       'Парагвай', 'США - Канада - Великобритания',\n",
       "       'Уругвай-Мексика-Германия ',\n",
       "       'Германия - Аргентина - Нидерланды - Чили',\n",
       "       'США - Канада - Индонезия', 'Армения - Казахстан', 'Финляндия',\n",
       "       'Бельгия - Испания - Канада - Нидерланды',\n",
       "       'Мексика - Эквадор - Канада - США - Франция - Малайзия - Италия - Аргентина - Германия - Индия  ',\n",
       "       'Япония - Великобритания - Франция', 'Франция-Польша',\n",
       "       'Россия-Азербайджан',\n",
       "       'США - Нидерланды - Бельгия - Венгрия - Греция - Канада',\n",
       "       'Германия - Франция - Люксембург',\n",
       "       'Великобритания - США - Франция', 'США - Австралия - Дания',\n",
       "       'Бельгия-Франция', 'США-Мексика', 'СЩА',\n",
       "       'США - Испания - Болгария', 'Армения - Германия',\n",
       "       'Швеция - Германия', 'СССР, Венгрия, ЧССР, ГДР',\n",
       "       'Бельгия - Германия - Люксембург', 'СССР  ', ' СССР ',\n",
       "       'Бразилия - США', 'Франция - Чили',\n",
       "       'Франция - США - Великобритания - Колумбия - Бельгия - Россия',\n",
       "       'СССР   ', 'Россия - Республика Кипр', ' СССР   ', 'СССР     ',\n",
       "       'Ирландия, Канада',\n",
       "       'Япония - Великобритания - Швейцария - Ирландия - Дания - Франция - Польша - Австралия - Канада  ',\n",
       "       'Великобритания - Франция - Республика Кипр - Швейцария - США - Сербия',\n",
       "       'Норвегия - Исландия - США - Великобритания ', 'Мексика - Испания',\n",
       "       'США - Чехия - Франция', 'Франция-Россия',\n",
       "       'Норвегия - Дания - Швеция',\n",
       "       'Россия - Эстония - Финляндия - Беларусь', 'США - Франция - ЮАР',\n",
       "       'Великобритания - США - Швейцария',\n",
       "       'Мексика - Нидерланды - Германия - Франция',\n",
       "       'США - Испания - Франция',\n",
       "       'Япония, Великобритания, Австрия, Германия, Ю.Корея',\n",
       "       'Великобритания - Ирландия - США', 'Германия - Исландия',\n",
       "       'СССР    ', 'Хорватия', 'Финляндия - Исландия - Швеция',\n",
       "       'Ирландия-Великобритания', ' СССР', 'СССР, Афганистан',\n",
       "       'СССР, Монголия',\n",
       "       'Великобритания - Нидерланды - Германия - Франция - Бельгия - Австрия ',\n",
       "       'Дания - Норвегия - Великобритания', 'СССР, Албания',\n",
       "       'Франция - Италия - Бельгия - КНР',\n",
       "       'Франция-Испания-Бельгия-Панама',\n",
       "       'США-Великобритания-Чехия-Румыния',\n",
       "       'Великобритания - США - Австралия - Ирландия - Германия - Куба - Канада',\n",
       "       'Швеция - США', 'Македония - Франция - Великобритания',\n",
       "       'Россия-США', 'Россия, Румыния', 'Россия, Республика Кипр',\n",
       "       'Грузия-Россия', 'США - Великобритания - Исландия',\n",
       "       'Великобритания - США - Канада - Бельгия - Нидерланды - Австрия - Германия',\n",
       "       'СССР, Россия', 'США - Норвегия', 'СССР, ГДР',\n",
       "       'Россия, Таджикистан', 'США-ФРГ-Россия',\n",
       "       'Россия, Грузия, Хорватия, Испания', 'СССР, ВНР', 'США - Колумбия',\n",
       "       'Великобритания - Дания', 'США - Канада - Германия - Франция',\n",
       "       'США-Канада-Франция', 'Россия-Италия', 'Китай - Гонконг',\n",
       "       'Германия-Австрия-Франция-Италия', 'США - Германия - Канада',\n",
       "       'Испания-Мексика',\n",
       "       'США - Япония - Канада - Великобритания - Германия - Франция',\n",
       "       'США -Великобритания - Австралия',\n",
       "       'Израиль - Франция - Великобритания - Германия',\n",
       "       'Россия - Болгария', 'Германия-Канада-Франция-Бельгия',\n",
       "       'Германия-Кения', 'Франция - Монако', 'Австрия-Франция-Германия',\n",
       "       'Румыния', 'США-Великобритания-Франция', 'Канада-Бразилия-Япония',\n",
       "       'Германия - Дания - Норвегия', 'СССР - Италия',\n",
       "       'СССР - ГДР - Польша - Италия',\n",
       "       'США - Испания - Франция - Великобритания', 'Мексика-Аргентина',\n",
       "       'Германия - Великобритания - Италия - Испания',\n",
       "       'Франция-Германия-Великобритания', 'Россия - Германия - Швейцария',\n",
       "       'Голландия', 'Швейцария-Франция', 'Франция - Испания - Тайвань',\n",
       "       'США-Южная Корея-Новая Зеландия',\n",
       "       'Великобритания-Франция-Германия', 'Франция-Германия-Италия',\n",
       "       'Швеция-Финляндия-Франция-Норвегия', 'Франция-Италия',\n",
       "       'Германия-Израиль', 'Швеция - Германия - Дания - Норвегия',\n",
       "       'Франция-Гонконг-Ирландия', 'Эстония', 'Литва-Россия-Украина',\n",
       "       'Великобритания - Австрия - Германия', 'Испания - Мальта',\n",
       "       'Франция-Россия-Румыния-Италия-Бельгия', 'Испания - Мексика',\n",
       "       'США-Аргентина', 'Великобритания ', 'Израиль-США-Франция',\n",
       "       'США - Новая Зеландия - Япония',\n",
       "       'Франция - Чехия - Великобритания', 'Россия-Польша',\n",
       "       'Германия-Франция-Великобритания', 'США-Германия-Канада',\n",
       "       'США-Гонконг-Китай', 'США - Великобритания - Германия',\n",
       "       'США-Канада-Австралия', 'Япония-США-Франция',\n",
       "       'Франция-Испания-Германия', 'США - Хорватия - Босния-Герцеговина',\n",
       "       'Великобритания - Чехия - Франция - Италия',\n",
       "       'США - Германия - Нидерланды', 'Германия - Франция - Канада',\n",
       "       'Франция-Грузия-Германия-Россия-Украина-Бельгия', 'Россия - США',\n",
       "       'Франция - Италия - Иран', 'Россия - Азербайджан', 'Греция',\n",
       "       'Дания - США', 'США-Великобритания-Новая Зеландия',\n",
       "       'США-Германия-Австралия', 'США-Канада-Италия',\n",
       "       'США - Япония - Германия', 'Австралия-США',\n",
       "       'Франция - Великобритания - Багамские острова - США',\n",
       "       'Швейцария - Люксембург', 'Швейцария - Австрия',\n",
       "       'Германия - Швейцария', 'Швейцария-Австрия', 'Нидерланды - Россия',\n",
       "       'Швеция-Франция', 'Франция-Украина', 'Германия-Украина-Нидерланды',\n",
       "       'Италия-Швейцария', 'Канада - Италия',\n",
       "       'США - Объединенные Арабские Эмираты', 'США-Венгрия',\n",
       "       'Россия - Германия - Украина', 'США - Австралия - Мексика',\n",
       "       'Литва - Венгрия',\n",
       "       'США - Германия - Франция - Великобритания - Канада ',\n",
       "       'Бельгия - Германия - Люксембург - Франция', 'Италия - Канада',\n",
       "       'США-Италия-Греция', 'Германия - США - Великобритания - Ирландия',\n",
       "       'Великобритания - Франция - Германия',\n",
       "       'Германия - Нидерланды - ЮАР',\n",
       "       'США-Япония-Германия-Великобритания-Нидерланды',\n",
       "       'США-Япония-Германия-Великобритания',\n",
       "       'Таиланд-Великобритания-Франция-Германия-Испания-Нидерланды',\n",
       "       'Германия-Италия-Швейцария',\n",
       "       'Дания - Швеция - Великобритания - Франция - Германия - Нидерланды - Норвегия - Финляндия',\n",
       "       'Франция - Великобритания - Нидерланды - Люксембург',\n",
       "       'Нидерланды-Великобритания-Франция-Италия-Япония',\n",
       "       'Финляндия-Дания-Германия-Ирландия', 'Италия - Франция - Германия',\n",
       "       'Австрия - Люксембург', 'Монголия', 'США - Германия - Япония',\n",
       "       'СССР, ФРГ', 'Франция-Германия-Австрия',\n",
       "       'Бельгия-Германия-Канада-Франция-США-Великобритания',\n",
       "       'Великобритания, Новая Зеландия', 'США - Пуэрто Рико',\n",
       "       'Россия, Нидерланды, Финляндия', 'Италия, Франция, Германия',\n",
       "       'Россия, Польша, Финляндия', 'Германия, Франция, Великобритания',\n",
       "       'Дания, Швеция, Великобритания, Франция, Германия, Норвегия, Финляндия, Нидерланды, Италия',\n",
       "       'Канада, Франция, Италия, Швейцария, США', 'США, Индия',\n",
       "       'Россия-Беларусь', 'Россия, Австрия',\n",
       "       'Великобритания - Япония - США', 'Япония - США',\n",
       "       'Франция - Россия - Швейцария - Румыния - Венгрия',\n",
       "       'Таиланд - КНР - США', 'Великобритания-Франция-Италия',\n",
       "       'Великобритания - Израиль',\n",
       "       'Великобритания - Норвегия - Кения - Хорватия',\n",
       "       'США - Бразилия - Великобритания - Канада', 'Австралия, Канада',\n",
       "       'Кения, Германия', 'Нидерланды, Бельгия, Люксембург', 'Колумбия',\n",
       "       'Латвия - Франция', 'Швеция, Франция, Великобритания',\n",
       "       'США, Великобритания, Ирландия, Люксембург', 'Япония, США',\n",
       "       'Канада, США', 'Республика Кипр - Россия', 'Россия - Грузия',\n",
       "       'Италия, Германия', 'Республика Кипр, Россия', 'Израиль, Украина',\n",
       "       'Франция, Канада', 'США, Германия', '2019',\n",
       "       'Великобритания, Япония, США', 'Сша, Канада', 'США, Канада',\n",
       "       'Норвегия - Нидерланды', 'Италия - Бельгия - Франция',\n",
       "       'Россия, Бельгия, Финляндия', 'Франция, Норвегия',\n",
       "       'Канада - Норвегия', 'Республика Кипр-Россия', 'Германия, Россия',\n",
       "       'Дания, Норвегия, Швеция, Исландия',\n",
       "       'Республика Кипр, США, Россия'], dtype=object)"
      ]
     },
     "execution_count": 30,
     "metadata": {},
     "output_type": "execute_result"
    }
   ],
   "source": [
    "# выведем уникальные значения столбца 'production_country'\n",
    "data['production_country'].unique()"
   ]
  },
  {
   "cell_type": "markdown",
   "metadata": {},
   "source": [
    "`director`"
   ]
  },
  {
   "cell_type": "code",
   "execution_count": 31,
   "metadata": {},
   "outputs": [
    {
     "data": {
      "text/plain": [
       "array(['Ренни Харлин', 'Ю.Фетинг', 'П.Руминов', ..., 'Ник Пауэлл',\n",
       "       'А.Беляев', 'И.Трусов'], dtype=object)"
      ]
     },
     "execution_count": 31,
     "metadata": {},
     "output_type": "execute_result"
    }
   ],
   "source": [
    "# выведем уникальные значения столбца 'director'\n",
    "data['director'].unique()"
   ]
  },
  {
   "cell_type": "markdown",
   "metadata": {},
   "source": [
    "`producer`"
   ]
  },
  {
   "cell_type": "code",
   "execution_count": 32,
   "metadata": {},
   "outputs": [
    {
     "data": {
      "text/plain": [
       "array(['А.Роднянский, С.Мелькумов, С.Беспалов, Киа Джэм', 'И.Плиско',\n",
       "       'С.Ливнев, Д.Козловский, С.Бобза', ..., 'ВГИК',\n",
       "       'Джефф Боулер, Дэниэл Гродник, Луильо Руис, Брэт Саксон, Кирк Шоу',\n",
       "       'Дженнифер Додж'], dtype=object)"
      ]
     },
     "execution_count": 32,
     "metadata": {},
     "output_type": "execute_result"
    }
   ],
   "source": [
    "# выведем уникальные значения столбца 'producer'\n",
    "data['producer'].unique()"
   ]
  },
  {
   "cell_type": "markdown",
   "metadata": {},
   "source": [
    "`financing_source`"
   ]
  },
  {
   "cell_type": "code",
   "execution_count": 33,
   "metadata": {},
   "outputs": [
    {
     "data": {
      "text/plain": [
       "array([nan, 'Министерство культуры', 'Фонд кино',\n",
       "       'Министерство культуры, Фонд кино'], dtype=object)"
      ]
     },
     "execution_count": 33,
     "metadata": {},
     "output_type": "execute_result"
    }
   ],
   "source": [
    "# выведем уникальные значения столбца 'financing_source'\n",
    "data['financing_source'].unique()"
   ]
  },
  {
   "cell_type": "markdown",
   "metadata": {},
   "source": [
    "`age_restriction`"
   ]
  },
  {
   "cell_type": "code",
   "execution_count": 34,
   "metadata": {},
   "outputs": [
    {
     "data": {
      "text/plain": [
       "array(['«16+» - для детей старше 16 лет',\n",
       "       '«0+» - для любой зрительской аудитории',\n",
       "       '«18+» - запрещено для детей', '«12+» - для детей старше 12 лет',\n",
       "       '«6+» - для детей старше 6 лет'], dtype=object)"
      ]
     },
     "execution_count": 34,
     "metadata": {},
     "output_type": "execute_result"
    }
   ],
   "source": [
    "# выведем уникальные значения столбца 'age_restriction'\n",
    "data['age_restriction'].unique()"
   ]
  },
  {
   "cell_type": "markdown",
   "metadata": {},
   "source": [
    "`genres`"
   ]
  },
  {
   "cell_type": "code",
   "execution_count": 35,
   "metadata": {},
   "outputs": [
    {
     "data": {
      "text/plain": [
       "array(['ужасы,фантастика', 'детский,семейный', 'комедия,мелодрама',\n",
       "       'драма', 'комедия', 'триллер', 'драма,история', 'спорт,драма',\n",
       "       'боевик,фэнтези,драма', 'военный,боевик,драма', 'история',\n",
       "       'триллер,драма', 'мюзикл,боевик,драма', 'ужасы,боевик',\n",
       "       'драма,криминал', 'детектив,фэнтези,триллер', 'не определен',\n",
       "       'приключения', 'фантастика,мелодрама,комедия', 'драма,военный',\n",
       "       'драма,мелодрама', 'комедия,семейный', 'детский,фэнтези',\n",
       "       'история,мелодрама', 'драма,военный,история',\n",
       "       'фантастика,фэнтези,боевик', 'детский,приключения,фантастика',\n",
       "       'драма,музыка', 'военный', 'ужасы,фэнтези,боевик',\n",
       "       'военный,драма,история', 'мелодрама,комедия', 'ужасы,драма',\n",
       "       'аниме,мультфильм,ужасы', 'триллер,ужасы', 'комедия,фантастика',\n",
       "       'драма,комедия', 'мелодрама,комедия,семейный', 'детский,комедия',\n",
       "       'фантастика,боевик,приключения', 'драма,биография,история',\n",
       "       'приключения,триллер,биография', 'детектив,приключения,драма',\n",
       "       'криминал,драма,триллер', 'биография,военный,драма', 'ужасы',\n",
       "       'ужасы,триллер', 'драма,детектив', 'фэнтези,комедия,семейный',\n",
       "       'военный,детектив', 'комедия,мелодрама,фэнтези',\n",
       "       'драма,мелодрама,детектив', 'триллер,боевик,приключения',\n",
       "       'комедия,приключения', 'триллер,драма,приключения',\n",
       "       'комедия,приключения,семейный', 'драма,семейный', 'драма,боевик',\n",
       "       'драма,спорт', 'фэнтези,приключения,драма', 'ужасы,драма,триллер',\n",
       "       'комедия,криминал,семейный', 'ужасы,триллер,детектив',\n",
       "       'история,драма', 'семейный', 'боевик,триллер,приключения',\n",
       "       'триллер,детектив,ужасы', 'мелодрама',\n",
       "       'приключения,история,военный', 'приключения,фантастика',\n",
       "       'боевик,драма', 'криминал,боевик,триллер',\n",
       "       'вестерн,криминал,триллер', 'боевик,триллер',\n",
       "       'детектив,история,драма', 'фэнтези,приключения',\n",
       "       'фантастика,боевик,комедия', 'триллер,драма,детектив',\n",
       "       'фантастика,драма', 'комедия,драма',\n",
       "       'боевик,фантастика,приключения', 'военный,драма',\n",
       "       'мультфильм,фэнтези,комедия', 'детектив,триллер,криминал',\n",
       "       'драма,триллер,биография', 'криминал,комедия',\n",
       "       'боевик,военный,драма', 'боевик,комедия,криминал',\n",
       "       'драма,криминал,детектив', 'военный,драма,боевик',\n",
       "       'детский,приключения,семейный', 'драма,биография', 'боевик',\n",
       "       'драма,мелодрама,комедия', 'драма,детектив,криминал',\n",
       "       'драма,триллер', 'комедия,семейный,фантастика', 'фантастика',\n",
       "       'семейный,приключения,комедия', 'драма,вестерн',\n",
       "       'приключения,семейный', 'фэнтези,комедия',\n",
       "       'история,биография,драма', 'боевик,мелодрама,комедия',\n",
       "       'детский,мелодрама,семейный', 'мультфильм,ужасы,фантастика',\n",
       "       'история,детектив', 'боевик,комедия', 'приключения,детский',\n",
       "       'семейный,мелодрама', 'фэнтези,драма,детектив',\n",
       "       'драма,триллер,приключения', 'драма,комедия,криминал',\n",
       "       'драма,мелодрама,история', 'комедия,фэнтези',\n",
       "       'комедия,триллер,драма', 'боевик,криминал',\n",
       "       'мультфильм,короткометражка,детский', 'фэнтези,боевик',\n",
       "       'семейный,фэнтези,комедия', 'комедия,приключения,история',\n",
       "       'боевик,фантастика', 'комедия,криминал',\n",
       "       'фантастика,комедия,приключения', 'боевик,триллер,драма',\n",
       "       'биография,музыка,драма', 'драма,боевик,история',\n",
       "       'мелодрама,драма,комедия', 'комедия,приключения,мелодрама',\n",
       "       'детский,фэнтези,приключения', 'мультфильм,фантастика,фэнтези',\n",
       "       'история,приключения', 'фэнтези,драма,комедия',\n",
       "       'драма,приключения,триллер', 'спорт,драма,биография',\n",
       "       'комедия,фэнтези,приключения', 'боевик,триллер,криминал',\n",
       "       'драма,спорт,биография', 'боевик,драма,криминал',\n",
       "       'фэнтези,семейный', 'комедия,мелодрама,криминал',\n",
       "       'приключения,детектив,семейный', 'фэнтези,драма,фильм-нуар',\n",
       "       'боевик,драма,мелодрама', 'фантастика,фэнтези,драма',\n",
       "       'история,боевик,фэнтези', 'фэнтези,ужасы', 'мелодрама,криминал',\n",
       "       'драма,военный,триллер', 'триллер,мелодрама',\n",
       "       'приключения,история', 'мюзикл,драма,мелодрама', 'криминал',\n",
       "       'драма,комедия,приключения', 'семейный,детектив,детский',\n",
       "       'триллер,детектив', 'фэнтези,мелодрама,комедия',\n",
       "       'триллер,криминал', 'ужасы,детектив', 'мелодрама,комедия,триллер',\n",
       "       'фантастика,триллер,драма', 'детский',\n",
       "       'фэнтези,триллер,приключения', 'мелодрама,комедия,драма',\n",
       "       'детектив', 'комедия,триллер', 'мюзикл,комедия,детский',\n",
       "       'драма,комедия,триллер', 'мелодрама,комедия,музыка',\n",
       "       'драма,история,биография', 'триллер,драма,криминал',\n",
       "       'ужасы,драма,вестерн', 'приключения,фэнтези',\n",
       "       'фэнтези,драма,мелодрама', 'драма,фантастика',\n",
       "       'драма,биография,музыка', 'семейный,приключения,военный',\n",
       "       'фэнтези,боевик,драма', 'фэнтези,приключения,боевик',\n",
       "       'триллер,драма,фантастика', 'фэнтези', 'биография,драма',\n",
       "       'триллер,драма,мелодрама', 'детектив,драма,триллер',\n",
       "       'боевик,триллер,мелодрама', 'триллер,приключения,драма',\n",
       "       'комедия,драма,криминал', 'фантастика,приключения,военный',\n",
       "       'драма,спорт,комедия', 'комедия,спорт',\n",
       "       'детектив,приключения,триллер', 'реальное ТВ',\n",
       "       'драма,военный,биография', 'мультфильм,фэнтези,боевик',\n",
       "       'приключения,фэнтези,семейный', 'семейный,фэнтези',\n",
       "       'мультфильм,приключения,семейный', 'аниме,мультфильм,мелодрама',\n",
       "       'мелодрама,драма', 'боевик,драма,военный',\n",
       "       'спорт,мелодрама,криминал', 'комедия,мультфильм,фантастика',\n",
       "       'мелодрама,военный,драма', 'фэнтези,боевик,семейный',\n",
       "       'боевик,приключения,история', 'фантастика,боевик,триллер',\n",
       "       'криминал,комедия,боевик', 'комедия,музыка',\n",
       "       'фантастика,комедия,боевик', 'семейный,комедия',\n",
       "       'приключения,боевик', 'триллер,фантастика,боевик',\n",
       "       'боевик,приключения', 'ужасы,комедия', 'история,драма,боевик',\n",
       "       'мюзикл,фэнтези,комедия', 'драма,боевик,криминал',\n",
       "       'биография,спорт,драма', 'комедия,драма,военный',\n",
       "       'триллер,фэнтези', 'боевик,драма,триллер',\n",
       "       'приключения,фантастика,драма', 'комедия,семейный,приключения',\n",
       "       'криминал,драма', 'мюзикл,комедия,мелодрама',\n",
       "       'приключения,детектив,мелодрама', 'мюзикл,фэнтези,семейный',\n",
       "       'мелодрама,комедия,спорт', 'военный,история',\n",
       "       'драма,триллер,детектив', 'семейный,комедия,драма',\n",
       "       'триллер,ужасы,мелодрама', 'драма,военный,боевик',\n",
       "       'драма,история,военный', 'мюзикл,мелодрама,комедия',\n",
       "       'документальный,военный,история', 'документальный',\n",
       "       'документальный,музыка,биография', 'документальный,приключения',\n",
       "       'документальный,биография,музыка', 'документальный,биография',\n",
       "       'ужасы,боевик,триллер', 'мультфильм,комедия,семейный',\n",
       "       'мультфильм,фантастика,комедия', 'мультфильм,фэнтези,история',\n",
       "       'детский,приключения,комедия', 'мультфильм,приключения',\n",
       "       'мультфильм,фэнтези,приключения', 'мультфильм,детский',\n",
       "       'мультфильм,семейный,комедия', 'мультфильм,комедия,приключения',\n",
       "       'мультфильм,мюзикл,детский', 'мультфильм,фэнтези',\n",
       "       'мультфильм,приключения,детский', 'мультфильм',\n",
       "       'мультфильм,приключения,фэнтези', 'мультфильм,фэнтези,семейный',\n",
       "       'мультфильм,приключения,фантастика',\n",
       "       'мультфильм,приключения,комедия', 'мультфильм,приключения,военный',\n",
       "       'мультфильм,фэнтези,детский', 'мультфильм,детский,приключения',\n",
       "       'ужасы,триллер,драма', 'ужасы,фэнтези,драма',\n",
       "       'триллер,криминал,драма', 'триллер,криминал,боевик',\n",
       "       'драма,комедия,биография', 'триллер,мелодрама,детектив',\n",
       "       'ужасы,фантастика,триллер', 'фэнтези,приключения,комедия',\n",
       "       'триллер,боевик', 'фэнтези,боевик,приключения',\n",
       "       'ужасы,фантастика,фэнтези', 'комедия,мелодрама,драма',\n",
       "       'боевик,триллер,комедия', 'ужасы,драма,мелодрама',\n",
       "       'триллер,драма,военный', 'драма,приключения',\n",
       "       'боевик,комедия,приключения', 'драма,история,детектив',\n",
       "       'ужасы,боевик,фантастика', 'фантастика,триллер,мелодрама',\n",
       "       'комедия,приключения,детектив', 'драма,мелодрама,военный',\n",
       "       'биография,мелодрама,драма', 'биография,история,драма',\n",
       "       'ужасы,фантастика,детектив', 'фэнтези,приключения,семейный',\n",
       "       'драма,комедия,детектив', 'триллер,приключения',\n",
       "       'драма,криминал,биография', 'ужасы,фэнтези',\n",
       "       'мелодрама,фантастика,драма', 'ужасы,фэнтези,триллер',\n",
       "       'аниме,мультфильм,фантастика', 'детектив,триллер,боевик',\n",
       "       'мюзикл,фэнтези,мелодрама', 'драма,детектив,приключения',\n",
       "       'драма,мелодрама,биография', 'фантастика,фэнтези,приключения',\n",
       "       'фэнтези,боевик,триллер', 'мюзикл,семейный,драма',\n",
       "       'боевик,драма,вестерн', 'боевик,криминал,триллер',\n",
       "       'фэнтези,триллер,драма', 'фантастика,боевик,фэнтези',\n",
       "       'фэнтези,боевик,комедия', 'ужасы,фантастика,драма',\n",
       "       'ужасы,фэнтези,детектив', 'фантастика,детектив,боевик',\n",
       "       'фантастика,комедия,детектив', 'боевик,драма,комедия',\n",
       "       'комедия,детектив', 'боевик,криминал,драма',\n",
       "       'драма,фантастика,ужасы', 'фэнтези,семейный,приключения',\n",
       "       'фантастика,боевик,драма', 'драма,приключения,семейный',\n",
       "       'драма,комедия,история', 'фантастика,триллер',\n",
       "       'приключения,биография,история', 'драма,боевик,приключения',\n",
       "       'фэнтези,ужасы,триллер', 'ужасы,комедия,музыка',\n",
       "       'триллер,криминал,детектив', 'фантастика,приключения,боевик',\n",
       "       'фэнтези,драма,приключения', 'приключения,биография,драма',\n",
       "       'комедия,ужасы', 'драма,мелодрама,фэнтези',\n",
       "       'триллер,ужасы,детектив', 'фэнтези,семейный,мелодрама',\n",
       "       'фэнтези,мелодрама', 'биография,драма,история',\n",
       "       'мелодрама,история,триллер', 'фантастика,триллер,комедия',\n",
       "       'комедия,история,драма', 'боевик,драма,приключения',\n",
       "       'ужасы,фантастика,боевик', 'ужасы,триллер,криминал',\n",
       "       'боевик,вестерн,приключения', 'фантастика,триллер,криминал',\n",
       "       'драма,комедия,военный', 'фантастика,триллер,приключения',\n",
       "       'фэнтези,комедия,драма', 'драма,комедия,музыка',\n",
       "       'фэнтези,комедия,приключения', 'фэнтези,триллер,детектив',\n",
       "       'криминал,комедия,триллер', 'комедия,криминал,драма',\n",
       "       'комедия,приключения,музыка', 'ужасы,драма,детектив',\n",
       "       'фантастика,приключения,семейный', 'ужасы,фэнтези,комедия',\n",
       "       'фантастика,драма,мелодрама', 'комедия,драма,семейный',\n",
       "       'триллер,комедия,криминал', 'приключения,мелодрама,детектив',\n",
       "       'фэнтези,мелодрама,приключения', 'триллер,драма,история',\n",
       "       'криминал,триллер,драма', 'комедия,криминал,приключения',\n",
       "       'драма,комедия,семейный', 'фэнтези,триллер,мелодрама',\n",
       "       'драма,ужасы', 'фантастика,приключения,детектив',\n",
       "       'биография,криминал,триллер', 'триллер,ужасы,драма',\n",
       "       'история,спорт,драма', 'вестерн,биография,драма',\n",
       "       'комедия,музыка,драма', 'биография,драма,криминал',\n",
       "       'триллер,комедия', 'фантастика,фэнтези,детектив',\n",
       "       'мелодрама,детектив,комедия', 'детектив,криминал,триллер',\n",
       "       'боевик,приключения,триллер', 'фантастика,драма,приключения',\n",
       "       'мультфильм,фантастика,боевик', 'триллер,драма,биография',\n",
       "       'детектив,триллер,драма', 'комедия,приключения,вестерн',\n",
       "       'мелодрама,комедия,приключения', 'мелодрама,история',\n",
       "       'ужасы,боевик,комедия', 'биография,музыка,мюзикл',\n",
       "       'приключения,боевик,триллер', 'мелодрама,драма,фэнтези',\n",
       "       'спорт,драма,комедия', 'ужасы,триллер,комедия',\n",
       "       'фантастика,мелодрама', 'комедия,боевик,приключения',\n",
       "       'драма,мелодрама,музыка', 'мелодрама,приключения,боевик',\n",
       "       'триллер,мелодрама,комедия', 'ужасы,приключения',\n",
       "       'боевик,фантастика,триллер', 'драма,мелодрама,криминал',\n",
       "       'фантастика,драма,боевик', 'боевик,драма,биография',\n",
       "       'фантастика,приключения', 'боевик,триллер,детектив',\n",
       "       'приключения,триллер', 'драма,криминал,семейный',\n",
       "       'фэнтези,боевик,ужасы', 'документальный,биография,история',\n",
       "       'триллер,драма,комедия', 'аниме,мультфильм,боевик',\n",
       "       'ужасы,комедия,фантастика', 'триллер,ужасы,криминал',\n",
       "       'драма,комедия,вестерн', 'мелодрама,приключения',\n",
       "       'фильм-нуар,триллер,детектив', 'биография',\n",
       "       'ужасы,комедия,детектив', 'мелодрама,фэнтези,триллер',\n",
       "       'драма,биография,спорт', 'ужасы,боевик,фэнтези',\n",
       "       'триллер,криминал,приключения', 'ужасы,триллер,мелодрама',\n",
       "       'фантастика,боевик,ужасы', 'фантастика,боевик', 'мюзикл,мелодрама',\n",
       "       'история,драма,мелодрама', 'фантастика,фэнтези,комедия',\n",
       "       'ужасы,комедия,драма', 'драма,криминал,боевик',\n",
       "       'детектив,криминал,драма', 'мелодрама,музыка,драма',\n",
       "       'триллер,мелодрама,драма', 'мелодрама,триллер,история',\n",
       "       'фантастика,комедия', 'боевик,триллер,фэнтези',\n",
       "       'комедия,военный,музыка', 'детектив,фантастика,триллер',\n",
       "       'драма,биография,комедия', 'триллер,детектив,драма',\n",
       "       'комедия,детектив,приключения', 'фэнтези,драма,ужасы',\n",
       "       'ужасы,комедия,криминал', 'детектив,фильм-нуар,комедия',\n",
       "       'фэнтези,драма', 'триллер,комедия,ужасы',\n",
       "       'биография,драма,военный', 'детектив,криминал,боевик',\n",
       "       'ужасы,комедия,приключения', 'приключения,семейный,драма',\n",
       "       'драма,комедия,спорт', 'музыка,мелодрама,фэнтези',\n",
       "       'вестерн,драма,триллер', 'комедия,криминал,биография',\n",
       "       'драма,биография,мюзикл', 'триллер,фантастика,драма',\n",
       "       'приключения,вестерн,боевик', 'семейный,комедия,музыка',\n",
       "       'криминал,комедия,драма', 'драма,криминал,вестерн',\n",
       "       'комедия,семейный,фэнтези', 'ужасы,мелодрама,детектив',\n",
       "       'боевик,приключения,семейный', 'биография,криминал,драма',\n",
       "       'ужасы,фантастика,комедия', 'фэнтези,боевик,мелодрама',\n",
       "       'ужасы,комедия,боевик', 'семейный,мультфильм,комедия',\n",
       "       'мюзикл,фэнтези,драма', 'биография,спорт,комедия',\n",
       "       'комедия,боевик,фантастика', 'комедия,драма,биография',\n",
       "       'комедия,мелодрама,фантастика', 'мелодрама,драма,музыка',\n",
       "       'драма,спорт,история', 'криминал,боевик,комедия',\n",
       "       'мелодрама,семейный,приключения', 'детектив,комедия,драма',\n",
       "       'комедия,криминал,детектив', 'драма,комедия,мультфильм',\n",
       "       'криминал,боевик', 'комедия,приключения,фэнтези',\n",
       "       'комедия,биография', 'драма,мелодрама,приключения',\n",
       "       'фантастика,фэнтези,триллер', 'приключения,история,драма',\n",
       "       'криминал,биография,комедия', 'военный,боевик,история',\n",
       "       'драма,криминал,фильм-нуар',\n",
       "       'документальный,короткометражка,семейный',\n",
       "       'документальный,драма,семейный', 'документальный,короткометражка',\n",
       "       'мультфильм,мелодрама,комедия', 'мультфильм,мюзикл,фэнтези',\n",
       "       'аниме,мультфильм,приключения', 'мультфильм,фэнтези,мелодрама',\n",
       "       'мультфильм,комедия,детский', 'мультфильм,мюзикл,комедия',\n",
       "       'мультфильм,комедия,криминал', 'мультфильм,семейный',\n",
       "       'мультфильм,мюзикл,драма', 'мультфильм,боевик,приключения',\n",
       "       'мультфильм,приключения,драма', 'драма,семейный,биография',\n",
       "       'мультфильм,фантастика,приключения', 'мультфильм,фэнтези,драма',\n",
       "       'аниме,мультфильм,драма', 'аниме,мультфильм,фэнтези',\n",
       "       'мультфильм,семейный,драма', 'аниме,мультфильм,комедия',\n",
       "       'мультфильм,семейный,детский', 'мультфильм,мелодрама,драма',\n",
       "       'мультфильм,семейный,спорт', 'мультфильм,ужасы,комедия',\n",
       "       'мультфильм,боевик,триллер', 'мультфильм,короткометражка,комедия',\n",
       "       'мультфильм,боевик,комедия', 'мультфильм,драма,приключения',\n",
       "       'мультфильм,ужасы,фэнтези', 'мультфильм,комедия',\n",
       "       'мультфильм,биография,драма', 'мультфильм,семейный,фэнтези',\n",
       "       'мультфильм,короткометражка,фэнтези', 'мультфильм,драма,комедия',\n",
       "       'фантастика,боевик,военный', 'аниме,мультфильм,детектив',\n",
       "       'мультфильм,история', 'мультфильм,комедия,фантастика',\n",
       "       'мультфильм,мелодрама,приключения', 'музыка,концерт',\n",
       "       'документальный,фэнтези', 'документальный,драма,биография',\n",
       "       'документальный,драма,история', 'семейный,документальный',\n",
       "       'документальный,музыка', 'концерт,музыка',\n",
       "       'документальный,история', 'документальный,спорт,биография',\n",
       "       'для взрослых,драма,комедия', 'музыка,концерт,документальный',\n",
       "       'документальный,триллер,биография',\n",
       "       'документальный,музыка,концерт', 'концерт,музыка,документальный',\n",
       "       'документальный,приключения,семейный', 'документальный,ужасы',\n",
       "       'короткометражка,драма', 'документальный,новости,драма',\n",
       "       'документальный,комедия', 'фантастика,мелодрама,боевик',\n",
       "       'семейный,приключения,документальный',\n",
       "       'документальный,фэнтези,драма', 'документальный,биография,спорт',\n",
       "       'драма,мелодрама,семейный', 'мультфильм,короткометражка,мелодрама',\n",
       "       'фантастика,драма,детектив', 'мюзикл,семейный',\n",
       "       'военный,приключения,драма', 'документальный,драма',\n",
       "       'комедия,история', 'триллер,военный', 'мюзикл,комедия',\n",
       "       'военный,биография,драма', 'боевик,история,драма',\n",
       "       'драма,криминал,спорт', 'криминал,детектив,приключения',\n",
       "       'мелодрама,биография', 'фэнтези,мелодрама,драма',\n",
       "       'криминал,детектив', 'мультфильм,короткометражка,ужасы',\n",
       "       'комедия,криминал,история', 'боевик,история',\n",
       "       'приключения,детский,комедия', 'мелодрама,комедия,криминал',\n",
       "       'мюзикл,ужасы,триллер', 'детектив,триллер,ужасы',\n",
       "       'мультфильм,драма', 'мюзикл,мелодрама,фэнтези',\n",
       "       'комедия,семейный,музыка', 'комедия,фантастика,мелодрама',\n",
       "       'боевик,военный', 'боевик,драма,история',\n",
       "       'для взрослых,драма,мелодрама', 'мультфильм,боевик,детектив',\n",
       "       'мелодрама,музыка', 'драма,приключения,военный',\n",
       "       'мюзикл,комедия,приключения', 'короткометражка,драма,военный',\n",
       "       'драма,мультфильм', 'документальный,фэнтези,семейный',\n",
       "       'ужасы,комедия,фэнтези', 'приключения,драма',\n",
       "       'фантастика,боевик,криминал', 'мюзикл,драма',\n",
       "       'комедия,биография,история', 'комедия,криминал,спорт',\n",
       "       'документальный,мюзикл', 'триллер,криминал,комедия',\n",
       "       'фантастика,драма,комедия', 'комедия,драма,мелодрама',\n",
       "       'драма,приключения,биография', 'драма,фэнтези',\n",
       "       'документальный,семейный', 'фэнтези,драма,семейный',\n",
       "       'вестерн,боевик,драма', 'ужасы,мелодрама,комедия',\n",
       "       'приключения,фантастика,семейный', 'драма,приключения,фэнтези',\n",
       "       'фантастика,мультфильм,драма', 'драма,история,музыка',\n",
       "       'триллер,боевик,криминал', 'драма,фантастика,триллер',\n",
       "       'фантастика,драма,триллер', 'биография,история', 'боевик,фэнтези',\n",
       "       'документальный,комедия,история', 'триллер,драма,боевик',\n",
       "       'комедия,криминал,боевик', 'комедия,фантастика,боевик',\n",
       "       'вестерн,приключения,боевик', 'боевик,мелодрама',\n",
       "       'комедия,криминал,триллер', 'комедия,боевик,криминал',\n",
       "       'комедия,вестерн', 'короткометражка,мультфильм',\n",
       "       'фантастика,драма,ужасы', 'триллер,драма,ужасы',\n",
       "       'драма,фэнтези,история', 'комедия,драма,короткометражка',\n",
       "       'комедия,фэнтези,ужасы', 'короткометражка,комедия,криминал',\n",
       "       'фантастика,приключения,драма', 'боевик,детектив',\n",
       "       'драма,история,триллер', 'детектив,драма,криминал',\n",
       "       'музыка,приключения,концерт', 'военный,драма,комедия',\n",
       "       'фэнтези,боевик,военный', 'детектив,криминал',\n",
       "       'мелодрама,комедия,ужасы', 'драма,криминал,приключения',\n",
       "       'драма,криминал,фантастика', 'фэнтези,драма,биография',\n",
       "       'детектив,фантастика,криминал', 'ужасы,фэнтези,мелодрама',\n",
       "       'детектив,ужасы,криминал', 'драма,военный,приключения',\n",
       "       'криминал,драма,комедия', 'драма,вестерн,боевик',\n",
       "       'фантастика,триллер,детектив', 'короткометражка,биография',\n",
       "       'мультфильм,приключения,детектив',\n",
       "       'документальный,криминал,военный', 'короткометражка,музыка',\n",
       "       'триллер,детектив,криминал', 'короткометражка,мелодрама',\n",
       "       'комедия,фэнтези,мелодрама', 'аниме,мультфильм',\n",
       "       'мультфильм,короткометражка', 'мультфильм,детский,комедия',\n",
       "       'документальный,боевик,приключения', 'приключения,военный',\n",
       "       'короткометражка', 'боевик,приключения,детектив',\n",
       "       'документальный,фантастика', 'драма,спорт,семейный',\n",
       "       'фантастика,мелодрама,фэнтези', 'мюзикл,комедия,музыка',\n",
       "       'приключения,комедия,фэнтези', 'фэнтези,боевик,детектив',\n",
       "       'комедия,военный', 'драма,спорт,боевик', 'мелодрама,семейный',\n",
       "       'фантастика,боевик,детектив', 'драма,приключения,история',\n",
       "       'документальный,драма,музыка', 'фантастика,триллер,боевик',\n",
       "       'фэнтези,боевик,вестерн', 'драма,комедия,мелодрама',\n",
       "       'ужасы,фэнтези,приключения', 'триллер,фэнтези,драма',\n",
       "       'мультфильм,мюзикл,мелодрама', 'ужасы,триллер,фантастика',\n",
       "       'ужасы,комедия,семейный', 'документальный,комедия,криминал',\n",
       "       'мелодрама,детектив', 'короткометражка,боевик,драма',\n",
       "       'боевик,комедия,семейный', 'фантастика,боевик,мелодрама',\n",
       "       'драма,детектив,история', 'боевик,криминал,детектив',\n",
       "       'мелодрама,драма,боевик', 'драма,вестерн,приключения',\n",
       "       'драма,приключения,мелодрама', 'фэнтези,боевик,криминал',\n",
       "       'фантастика,комедия,семейный', 'семейный,спорт,боевик',\n",
       "       'триллер,биография,драма', 'ужасы,драма,комедия',\n",
       "       'мультфильм,фэнтези,триллер', 'мюзикл', 'боевик,спорт,драма',\n",
       "       'документальный,ужасы,боевик', 'фантастика,боевик,семейный',\n",
       "       'ужасы,боевик,криминал', 'детектив,триллер',\n",
       "       'драма,семейный,комедия', 'драма,криминал,история',\n",
       "       'драма,комедия,фантастика', 'комедия,приключения,спорт',\n",
       "       'семейный,приключения', 'детектив,мелодрама,фэнтези',\n",
       "       'боевик,военный,история', 'триллер,мелодрама,криминал',\n",
       "       'военный,история,драма', 'фантастика,детектив,фэнтези',\n",
       "       'мультфильм,короткометражка,мюзикл', 'мультфильм,детский,семейный',\n",
       "       'документальный,драма,комедия', 'комедия,приключения,криминал',\n",
       "       'документальный,семейный,музыка', 'драма,мелодрама,триллер',\n",
       "       'документальный,спорт', 'биография,документальный',\n",
       "       'ужасы,фантастика,мелодрама', 'детектив,комедия',\n",
       "       'история,биография,военный', 'криминал,мелодрама',\n",
       "       'детектив,мелодрама', 'драма,комедия,ужасы',\n",
       "       'фантастика,драма,криминал', 'короткометражка,фантастика',\n",
       "       'детский,мультфильм,приключения', 'ужасы,триллер,приключения',\n",
       "       'фэнтези,комедия,детектив', 'аниме,мультфильм,короткометражка',\n",
       "       'приключения,драма,фантастика', 'комедия,фэнтези,криминал',\n",
       "       'биография,спорт,история', 'детектив,боевик,история',\n",
       "       'фэнтези,комедия,криминал', 'ужасы,драма,военный',\n",
       "       'история,криминал', 'драма,триллер,криминал',\n",
       "       'короткометражка,драма,триллер', 'документальный,военный,драма',\n",
       "       'мелодрама,история,драма'], dtype=object)"
      ]
     },
     "execution_count": 35,
     "metadata": {},
     "output_type": "execute_result"
    }
   ],
   "source": [
    "# выведем уникальные значения столбца 'genres'\n",
    "data['genres'].unique()"
   ]
  },
  {
   "cell_type": "markdown",
   "metadata": {},
   "source": [
    "**Вывод №2**\n",
    "\n",
    "Еще одно наблюдение, почти во всех столбцах значения записаны в виде списков. В дальнейшем в нужных нам столбцах (`genres` и `director`) мы выделим первые значения из списков. С остальными столбцами, если потребуется, можно сделать тоже самое."
   ]
  },
  {
   "cell_type": "markdown",
   "metadata": {},
   "source": [
    "#### Изучение количественных значений"
   ]
  },
  {
   "cell_type": "markdown",
   "metadata": {},
   "source": [
    "Для того, чтобы выявить проблему в данных,  построим гистограммы и диаграммы размаха для некоторых столбцов."
   ]
  },
  {
   "cell_type": "markdown",
   "metadata": {},
   "source": [
    "##### `box_office`"
   ]
  },
  {
   "cell_type": "code",
   "execution_count": 36,
   "metadata": {},
   "outputs": [
    {
     "data": {
      "text/html": [
       "<div>\n",
       "<style scoped>\n",
       "    .dataframe tbody tr th:only-of-type {\n",
       "        vertical-align: middle;\n",
       "    }\n",
       "\n",
       "    .dataframe tbody tr th {\n",
       "        vertical-align: top;\n",
       "    }\n",
       "\n",
       "    .dataframe thead th {\n",
       "        text-align: right;\n",
       "    }\n",
       "</style>\n",
       "<table border=\"1\" class=\"dataframe\">\n",
       "  <thead>\n",
       "    <tr style=\"text-align: right;\">\n",
       "      <th></th>\n",
       "      <th>box_office</th>\n",
       "    </tr>\n",
       "  </thead>\n",
       "  <tbody>\n",
       "    <tr>\n",
       "      <td>count</td>\n",
       "      <td>3,158.00</td>\n",
       "    </tr>\n",
       "    <tr>\n",
       "      <td>mean</td>\n",
       "      <td>76,478,696.16</td>\n",
       "    </tr>\n",
       "    <tr>\n",
       "      <td>std</td>\n",
       "      <td>240,353,122.82</td>\n",
       "    </tr>\n",
       "    <tr>\n",
       "      <td>min</td>\n",
       "      <td>0.00</td>\n",
       "    </tr>\n",
       "    <tr>\n",
       "      <td>25%</td>\n",
       "      <td>86,239.00</td>\n",
       "    </tr>\n",
       "    <tr>\n",
       "      <td>50%</td>\n",
       "      <td>2,327,987.55</td>\n",
       "    </tr>\n",
       "    <tr>\n",
       "      <td>75%</td>\n",
       "      <td>23,979,671.02</td>\n",
       "    </tr>\n",
       "    <tr>\n",
       "      <td>max</td>\n",
       "      <td>3,073,568,690.79</td>\n",
       "    </tr>\n",
       "  </tbody>\n",
       "</table>\n",
       "</div>"
      ],
      "text/plain": [
       "            box_office\n",
       "count         3,158.00\n",
       "mean     76,478,696.16\n",
       "std     240,353,122.82\n",
       "min               0.00\n",
       "25%          86,239.00\n",
       "50%       2,327,987.55\n",
       "75%      23,979,671.02\n",
       "max   3,073,568,690.79"
      ]
     },
     "execution_count": 36,
     "metadata": {},
     "output_type": "execute_result"
    }
   ],
   "source": [
    "# получим числовую информацию для 'box_office'\n",
    "data['box_office'].describe().to_frame()"
   ]
  },
  {
   "cell_type": "code",
   "execution_count": 37,
   "metadata": {
    "id": "YbzClBxagFyS"
   },
   "outputs": [
    {
     "data": {
      "image/png": "[encoded data removed]",
      "text/plain": [
       "<Figure size 360x360 with 1 Axes>"
      ]
     },
     "metadata": {
      "needs_background": "light"
     },
     "output_type": "display_data"
    }
   ],
   "source": [
    "# построим гистограмму, где bins=20,  размер картинки - 5х5\n",
    "data.hist('box_office', bins=20, figsize=(5,5))\n",
    "plt.title('Сборы в рублях')\n",
    "plt.show()"
   ]
  },
  {
   "cell_type": "code",
   "execution_count": 38,
   "metadata": {},
   "outputs": [
    {
     "data": {
      "image/png": "[encoded data removed]",
      "text/plain": [
       "<Figure size 432x288 with 1 Axes>"
      ]
     },
     "metadata": {
      "needs_background": "light"
     },
     "output_type": "display_data"
    }
   ],
   "source": [
    "# диаграмма размаха для 'box_office' \n",
    "plt.ylim (-10000000, 70000000)\n",
    "data.boxplot(column='box_office')\n",
    "plt.title('Диаграмма размаха сборов в рублях')\n",
    "plt.show()"
   ]
  },
  {
   "cell_type": "markdown",
   "metadata": {},
   "source": [
    "По гистограмме и диаграмме размаха можно сделать вывод, что есть выбросы. Нижний «ус» упирается в 0, минимальное значение. Верхний заканчивается около 60.000.000р. Все что находится выше рисуются отдельными точками и почти сливаются в одну жирную линию, значит выбросов много. И все же, значения которые отсек верхний ус - редкие. Видно, насколько медиана (зеленая линия) не стремится в длинному хвосту высоких значений. Большая часть сборов находится от 2.000.000р до 3.000.000р."
   ]
  },
  {
   "cell_type": "code",
   "execution_count": 39,
   "metadata": {
    "scrolled": true
   },
   "outputs": [
    {
     "name": "stdout",
     "output_type": "stream",
     "text": [
      "Количество выбросов для box_office > 60000000: 17.384420519316024\n"
     ]
    }
   ],
   "source": [
    "# выведем число строк-выбросов  box_office > 60000000\n",
    "print('Количество выбросов для box_office > 60000000:', \n",
    "      (len(data.query('box_office> 60000000')) / len(data.query('@pd.isna(box_office) == False')) * 100))"
   ]
  },
  {
   "cell_type": "markdown",
   "metadata": {},
   "source": [
    "Доля значений выбросов составляет ~ 17%."
   ]
  },
  {
   "cell_type": "markdown",
   "metadata": {},
   "source": [
    "##### `refundable_support` "
   ]
  },
  {
   "cell_type": "code",
   "execution_count": 40,
   "metadata": {},
   "outputs": [
    {
     "data": {
      "text/plain": [
       "count           332.00\n",
       "mean     11,864,457.83\n",
       "std      24,916,555.26\n",
       "min               0.00\n",
       "25%               0.00\n",
       "50%               0.00\n",
       "75%      15,000,000.00\n",
       "max     180,000,000.00\n",
       "Name: refundable_support, dtype: float64"
      ]
     },
     "execution_count": 40,
     "metadata": {},
     "output_type": "execute_result"
    }
   ],
   "source": [
    "# получим числовую информацию для 'refundable_suppor\n",
    "data['refundable_support'].describe()"
   ]
  },
  {
   "cell_type": "code",
   "execution_count": 41,
   "metadata": {},
   "outputs": [
    {
     "data": {
      "image/png": "[encoded data removed]",
      "text/plain": [
       "<Figure size 360x360 with 1 Axes>"
      ]
     },
     "metadata": {
      "needs_background": "light"
     },
     "output_type": "display_data"
    }
   ],
   "source": [
    "# построим гистограмму, где bins=25,  размер картинки - 5х5\n",
    "data.hist('refundable_support', bins=25, figsize=(5,5))\n",
    "plt.title('Объем возвратных средств')\n",
    "plt.show()"
   ]
  },
  {
   "cell_type": "code",
   "execution_count": 42,
   "metadata": {},
   "outputs": [
    {
     "data": {
      "image/png": "[encoded data removed]",
      "text/plain": [
       "<Figure size 432x288 with 1 Axes>"
      ]
     },
     "metadata": {
      "needs_background": "light"
     },
     "output_type": "display_data"
    }
   ],
   "source": [
    "# диаграмма размаха для 'refundable_support' \n",
    "plt.ylim (-10000000, 70000000)\n",
    "data.boxplot(column='refundable_support')\n",
    "plt.title('Диаграмма размаха возвратных средств')\n",
    "plt.show()"
   ]
  },
  {
   "cell_type": "markdown",
   "metadata": {},
   "source": [
    "Мы видим, что в данном столбце тоже существуют выбросы (точки выше верхнего «уса»). Медиана к ним не стремится и равна 0, как и нижный «ус». Видно, что возвратные средства гос.поддержки выше 37.000.000р уже становятся редки. "
   ]
  },
  {
   "cell_type": "code",
   "execution_count": 43,
   "metadata": {},
   "outputs": [
    {
     "name": "stdout",
     "output_type": "stream",
     "text": [
      "Количество выбросов для refundable_support > 37000000: 12.048192771084338\n"
     ]
    }
   ],
   "source": [
    "# выведем число строк-выбросов  refundable_support > 37000000\n",
    "print('Количество выбросов для refundable_support > 37000000:', \n",
    "      (len(data.query('refundable_support > 37000000')) / len(data.query('@pd.isna(refundable_support) == False')) * 100))"
   ]
  },
  {
   "cell_type": "markdown",
   "metadata": {},
   "source": [
    "Доля значений выбросов составляет ~ 12%."
   ]
  },
  {
   "cell_type": "markdown",
   "metadata": {},
   "source": [
    "##### `nonrefundable_support`"
   ]
  },
  {
   "cell_type": "code",
   "execution_count": 44,
   "metadata": {},
   "outputs": [
    {
     "data": {
      "text/plain": [
       "count           332.00\n",
       "mean     48,980,988.89\n",
       "std      59,980,117.92\n",
       "min               0.00\n",
       "25%      25,000,000.00\n",
       "50%      30,000,000.00\n",
       "75%      40,375,000.00\n",
       "max     400,000,000.00\n",
       "Name: nonrefundable_support, dtype: float64"
      ]
     },
     "execution_count": 44,
     "metadata": {},
     "output_type": "execute_result"
    }
   ],
   "source": [
    "# получим числовую информацию для 'nonrefundable_support'\n",
    "data['nonrefundable_support'].describe()"
   ]
  },
  {
   "cell_type": "code",
   "execution_count": 45,
   "metadata": {},
   "outputs": [
    {
     "data": {
      "image/png": "[encoded data removed]",
      "text/plain": [
       "<Figure size 360x360 with 1 Axes>"
      ]
     },
     "metadata": {
      "needs_background": "light"
     },
     "output_type": "display_data"
    }
   ],
   "source": [
    "# построим гистограмму, где bins=25,  размер картинки - 5х5\n",
    "data.hist('nonrefundable_support', bins=25, figsize=(5,5))\n",
    "plt.title('Объем невозвратных средств')\n",
    "plt.show()"
   ]
  },
  {
   "cell_type": "code",
   "execution_count": 46,
   "metadata": {},
   "outputs": [
    {
     "data": {
      "image/png": "[encoded data removed]",
      "text/plain": [
       "<Figure size 432x288 with 1 Axes>"
      ]
     },
     "metadata": {
      "needs_background": "light"
     },
     "output_type": "display_data"
    }
   ],
   "source": [
    "# диаграмма размаха для 'box_office' \n",
    "plt.ylim (-10000000, 100000000)\n",
    "data.boxplot(column='nonrefundable_support')\n",
    "plt.title('Диаграмма размаха невозвратных средств')\n",
    "plt.show()"
   ]
  },
  {
   "cell_type": "markdown",
   "metadata": {},
   "source": [
    "Выбросы есть, и они по обе стороны усов диаграммы размаха. Диапазон нормального размаха от 2.000.000р до 60.000.000р."
   ]
  },
  {
   "cell_type": "code",
   "execution_count": 47,
   "metadata": {},
   "outputs": [
    {
     "name": "stdout",
     "output_type": "stream",
     "text": [
      "Количество выбросов для refundable_support: 17.16867469879518\n"
     ]
    }
   ],
   "source": [
    "# выведем число строк-выбросов  refundable_support > 60000000 или refundable_support < 2000000\n",
    "print('Количество выбросов для refundable_support:', \n",
    "      (len(data.query('nonrefundable_support < 2000000 or nonrefundable_support >60000000')) / \n",
    "       len(data.query('@pd.isna(nonrefundable_support) == False')) * 100))"
   ]
  },
  {
   "cell_type": "markdown",
   "metadata": {},
   "source": [
    "Доля значений выбросов составляет ~ 17%."
   ]
  },
  {
   "cell_type": "markdown",
   "metadata": {},
   "source": [
    "##### `budget`"
   ]
  },
  {
   "cell_type": "markdown",
   "metadata": {},
   "source": [
    "Столбец `budget` - это общий бюджет фильма, в который входит то, что дал источник финансирования безвозвратно - `nonrefundable_support`, то что нужно вернуть `refundable_support`, а также то, что создатели фильма вкладывают из своего бюджета. Соответсвенно, из этого следует, то что вложил создатель это разность `budget` - (`nonrefundable_support` +`refundable_support`)."
   ]
  },
  {
   "cell_type": "markdown",
   "metadata": {
    "id": "Eu6oWp2CgFyS"
   },
   "source": [
    "#### Добавление новых столбцов"
   ]
  },
  {
   "cell_type": "markdown",
   "metadata": {
    "id": "7GgW-UpAgFyS"
   },
   "source": [
    "- Создадим столбец с информацией о годе проката. Выделим год из даты премьеры фильма."
   ]
  },
  {
   "cell_type": "code",
   "execution_count": 48,
   "metadata": {
    "id": "I-yd1DkWgFyT"
   },
   "outputs": [],
   "source": [
    "# присвоим столбцу 'years' год из столбца 'show_start_date'\n",
    "data['years'] = data['show_start_date'].dt.year"
   ]
  },
  {
   "cell_type": "markdown",
   "metadata": {
    "id": "nFTDLDYOgFyT"
   },
   "source": [
    "- Создадим два столбца: с именем и фамилией главного режиссёра и основным жанром фильма. В столбцы войдут первые значения из списка режиссёров и жанров соответственно."
   ]
  },
  {
   "cell_type": "code",
   "execution_count": 49,
   "metadata": {},
   "outputs": [],
   "source": [
    "# создадим функцию first_word с параметром value, которая будет возвращать значение из списка с индексом 0\n",
    "# cписок создадим методом split, где разделителем послужит ','\n",
    "def first_word(value):\n",
    "    if len(value) > 0:\n",
    "        value_list = value.split(',')\n",
    "        if len(value_list) > 0:\n",
    "            return value_list[0]\n",
    "    return value\n",
    "    \n",
    "# создадим столбец, значениями которого будет результат функции first_word\n",
    "data['main_director'] = data['director'].apply(lambda value: first_word(value))\n",
    "data['main_genres'] = data['genres'].apply(lambda value: first_word(value))"
   ]
  },
  {
   "cell_type": "markdown",
   "metadata": {
    "id": "1FsCXHwdgFyU"
   },
   "source": [
    "- Посчитаем, какую долю от общего бюджета фильма составляет государственная поддержка."
   ]
  },
  {
   "cell_type": "code",
   "execution_count": 50,
   "metadata": {
    "id": "LV6qFuZLgFyV"
   },
   "outputs": [],
   "source": [
    "# создадим столбец 'support_share', значениями которого будет доля гос. поддержки от общего бюджета\n",
    "data['support_share'] = (data['refundable_support'] + data['nonrefundable_support']) / data['budget']"
   ]
  },
  {
   "cell_type": "code",
   "execution_count": 51,
   "metadata": {},
   "outputs": [
    {
     "data": {
      "text/html": [
       "<div>\n",
       "<style scoped>\n",
       "    .dataframe tbody tr th:only-of-type {\n",
       "        vertical-align: middle;\n",
       "    }\n",
       "\n",
       "    .dataframe tbody tr th {\n",
       "        vertical-align: top;\n",
       "    }\n",
       "\n",
       "    .dataframe thead th {\n",
       "        text-align: right;\n",
       "    }\n",
       "</style>\n",
       "<table border=\"1\" class=\"dataframe\">\n",
       "  <thead>\n",
       "    <tr style=\"text-align: right;\">\n",
       "      <th></th>\n",
       "      <th>pu_number</th>\n",
       "      <th>box_office</th>\n",
       "      <th>title</th>\n",
       "      <th>show_start_date</th>\n",
       "      <th>type</th>\n",
       "      <th>film_studio</th>\n",
       "      <th>production_country</th>\n",
       "      <th>director</th>\n",
       "      <th>producer</th>\n",
       "      <th>age_restriction</th>\n",
       "      <th>refundable_support</th>\n",
       "      <th>nonrefundable_support</th>\n",
       "      <th>budget</th>\n",
       "      <th>financing_source</th>\n",
       "      <th>ratings</th>\n",
       "      <th>genres</th>\n",
       "      <th>years</th>\n",
       "      <th>main_director</th>\n",
       "      <th>main_genres</th>\n",
       "      <th>support_share</th>\n",
       "    </tr>\n",
       "  </thead>\n",
       "  <tbody>\n",
       "    <tr>\n",
       "      <td>0</td>\n",
       "      <td>111000113</td>\n",
       "      <td>2,450.00</td>\n",
       "      <td>Тайна перевала Дятлова</td>\n",
       "      <td>2013-01-17 12:00:00</td>\n",
       "      <td>Художественный</td>\n",
       "      <td>ООО \"Нон-Стоп Продакшн\"</td>\n",
       "      <td>Россия</td>\n",
       "      <td>Ренни Харлин</td>\n",
       "      <td>А.Роднянский, С.Мелькумов, С.Беспалов, Киа Джэм</td>\n",
       "      <td>«16+» - для детей старше 16 лет</td>\n",
       "      <td>nan</td>\n",
       "      <td>nan</td>\n",
       "      <td>nan</td>\n",
       "      <td>NaN</td>\n",
       "      <td>5.10</td>\n",
       "      <td>ужасы,фантастика</td>\n",
       "      <td>2013</td>\n",
       "      <td>Ренни Харлин</td>\n",
       "      <td>ужасы</td>\n",
       "      <td>nan</td>\n",
       "    </tr>\n",
       "    <tr>\n",
       "      <td>1</td>\n",
       "      <td>111000115</td>\n",
       "      <td>61,040.00</td>\n",
       "      <td>Небесный верблюд</td>\n",
       "      <td>2015-01-14 12:00:00</td>\n",
       "      <td>Художественный</td>\n",
       "      <td>ООО Продюсерский центр \"Всё хорошо\"</td>\n",
       "      <td>Россия</td>\n",
       "      <td>Ю.Фетинг</td>\n",
       "      <td>И.Плиско</td>\n",
       "      <td>«0+» - для любой зрительской аудитории</td>\n",
       "      <td>0.00</td>\n",
       "      <td>34,000,000.00</td>\n",
       "      <td>49,280,496.00</td>\n",
       "      <td>Министерство культуры</td>\n",
       "      <td>6.70</td>\n",
       "      <td>детский,семейный</td>\n",
       "      <td>2015</td>\n",
       "      <td>Ю.Фетинг</td>\n",
       "      <td>детский</td>\n",
       "      <td>0.69</td>\n",
       "    </tr>\n",
       "    <tr>\n",
       "      <td>2</td>\n",
       "      <td>111000116</td>\n",
       "      <td>153,030,013.40</td>\n",
       "      <td>Статус: \"Свободен\"</td>\n",
       "      <td>2016-01-13 12:00:00</td>\n",
       "      <td>Художественный</td>\n",
       "      <td>ООО \"Кинодом\"</td>\n",
       "      <td>Россия</td>\n",
       "      <td>П.Руминов</td>\n",
       "      <td>С.Ливнев, Д.Козловский, С.Бобза</td>\n",
       "      <td>«16+» - для детей старше 16 лет</td>\n",
       "      <td>20,000,000.00</td>\n",
       "      <td>20,000,000.00</td>\n",
       "      <td>78,686,500.00</td>\n",
       "      <td>Фонд кино</td>\n",
       "      <td>5.80</td>\n",
       "      <td>комедия,мелодрама</td>\n",
       "      <td>2016</td>\n",
       "      <td>П.Руминов</td>\n",
       "      <td>комедия</td>\n",
       "      <td>0.51</td>\n",
       "    </tr>\n",
       "    <tr>\n",
       "      <td>3</td>\n",
       "      <td>111000117</td>\n",
       "      <td>12,260,956.00</td>\n",
       "      <td>После тебя</td>\n",
       "      <td>2017-01-10 12:00:00</td>\n",
       "      <td>Художественный</td>\n",
       "      <td>Компания Production Value WorldWide (ООО \"ПРОД...</td>\n",
       "      <td>Россия</td>\n",
       "      <td>А.Матисон</td>\n",
       "      <td>С.Безруков</td>\n",
       "      <td>«16+» - для детей старше 16 лет</td>\n",
       "      <td>7,000,000.00</td>\n",
       "      <td>20,000,000.00</td>\n",
       "      <td>45,483,233.00</td>\n",
       "      <td>Министерство культуры, Фонд кино</td>\n",
       "      <td>6.70</td>\n",
       "      <td>драма</td>\n",
       "      <td>2017</td>\n",
       "      <td>А.Матисон</td>\n",
       "      <td>драма</td>\n",
       "      <td>0.59</td>\n",
       "    </tr>\n",
       "    <tr>\n",
       "      <td>4</td>\n",
       "      <td>111000118</td>\n",
       "      <td>163,684,057.79</td>\n",
       "      <td>ЗОМБОЯЩИК (ZОМБОЯЩИК)</td>\n",
       "      <td>2018-01-23 12:00:00</td>\n",
       "      <td>Художественный</td>\n",
       "      <td>ООО \"Комеди Клаб продакшн\"</td>\n",
       "      <td>Россия</td>\n",
       "      <td>З.Болотаев, К.Смирнов</td>\n",
       "      <td>Е.Казаков, Т.Бадзиев</td>\n",
       "      <td>«18+» - запрещено для детей</td>\n",
       "      <td>nan</td>\n",
       "      <td>nan</td>\n",
       "      <td>nan</td>\n",
       "      <td>NaN</td>\n",
       "      <td>3.20</td>\n",
       "      <td>комедия</td>\n",
       "      <td>2018</td>\n",
       "      <td>З.Болотаев</td>\n",
       "      <td>комедия</td>\n",
       "      <td>nan</td>\n",
       "    </tr>\n",
       "  </tbody>\n",
       "</table>\n",
       "</div>"
      ],
      "text/plain": [
       "   pu_number     box_office                   title     show_start_date  \\\n",
       "0  111000113       2,450.00  Тайна перевала Дятлова 2013-01-17 12:00:00   \n",
       "1  111000115      61,040.00        Небесный верблюд 2015-01-14 12:00:00   \n",
       "2  111000116 153,030,013.40      Статус: \"Свободен\" 2016-01-13 12:00:00   \n",
       "3  111000117  12,260,956.00              После тебя 2017-01-10 12:00:00   \n",
       "4  111000118 163,684,057.79   ЗОМБОЯЩИК (ZОМБОЯЩИК) 2018-01-23 12:00:00   \n",
       "\n",
       "              type                                        film_studio  \\\n",
       "0   Художественный                            ООО \"Нон-Стоп Продакшн\"   \n",
       "1   Художественный                ООО Продюсерский центр \"Всё хорошо\"   \n",
       "2   Художественный                                      ООО \"Кинодом\"   \n",
       "3   Художественный  Компания Production Value WorldWide (ООО \"ПРОД...   \n",
       "4   Художественный                         ООО \"Комеди Клаб продакшн\"   \n",
       "\n",
       "  production_country               director  \\\n",
       "0             Россия           Ренни Харлин   \n",
       "1             Россия               Ю.Фетинг   \n",
       "2             Россия              П.Руминов   \n",
       "3             Россия              А.Матисон   \n",
       "4             Россия  З.Болотаев, К.Смирнов   \n",
       "\n",
       "                                          producer  \\\n",
       "0  А.Роднянский, С.Мелькумов, С.Беспалов, Киа Джэм   \n",
       "1                                         И.Плиско   \n",
       "2                  С.Ливнев, Д.Козловский, С.Бобза   \n",
       "3                                       С.Безруков   \n",
       "4                             Е.Казаков, Т.Бадзиев   \n",
       "\n",
       "                          age_restriction  refundable_support  \\\n",
       "0         «16+» - для детей старше 16 лет                 nan   \n",
       "1  «0+» - для любой зрительской аудитории                0.00   \n",
       "2         «16+» - для детей старше 16 лет       20,000,000.00   \n",
       "3         «16+» - для детей старше 16 лет        7,000,000.00   \n",
       "4             «18+» - запрещено для детей                 nan   \n",
       "\n",
       "   nonrefundable_support        budget                  financing_source  \\\n",
       "0                    nan           nan                               NaN   \n",
       "1          34,000,000.00 49,280,496.00             Министерство культуры   \n",
       "2          20,000,000.00 78,686,500.00                         Фонд кино   \n",
       "3          20,000,000.00 45,483,233.00  Министерство культуры, Фонд кино   \n",
       "4                    nan           nan                               NaN   \n",
       "\n",
       "   ratings             genres  years main_director main_genres  support_share  \n",
       "0     5.10   ужасы,фантастика   2013  Ренни Харлин       ужасы            nan  \n",
       "1     6.70   детский,семейный   2015      Ю.Фетинг     детский           0.69  \n",
       "2     5.80  комедия,мелодрама   2016     П.Руминов     комедия           0.51  \n",
       "3     6.70              драма   2017     А.Матисон       драма           0.59  \n",
       "4     3.20            комедия   2018    З.Болотаев     комедия            nan  "
      ]
     },
     "execution_count": 51,
     "metadata": {},
     "output_type": "execute_result"
    }
   ],
   "source": [
    "# выведем первые 5 строк, чтобы проверить добавление столбца\n",
    "data.head()"
   ]
  },
  {
   "cell_type": "markdown",
   "metadata": {
    "id": "6t4EukPLgFyV"
   },
   "source": [
    "### Исследовательский анализ данных"
   ]
  },
  {
   "cell_type": "markdown",
   "metadata": {
    "id": "vAH8WCzugFyV"
   },
   "source": [
    "#### Фильмы в прокате\n",
    "\n",
    "- Посмотрим, сколько фильмов выходило в прокат каждый год. Обратим внимание, что данные о прокате в кинотеатрах известны не для всех фильмов.\n",
    "- Посчитаем, какую долю составляют фильмы с указанной информацией о прокате в кинотеатрах."
   ]
  },
  {
   "cell_type": "markdown",
   "metadata": {},
   "source": [
    "Фильмы, которые были в прокате, это те фильмы, которые получили какой-либо сбор, т.е. это те строчки dataframe, где нет пропущенных значений в столбце `box_office`. \n",
    "Построим столбчатую диаграмму, которая будет отражать количество фильмов вышло в прокат по годам."
   ]
  },
  {
   "cell_type": "code",
   "execution_count": 52,
   "metadata": {},
   "outputs": [
    {
     "data": {
      "image/png": "[encoded data removed]",
      "text/plain": [
       "<Figure size 432x288 with 1 Axes>"
      ]
     },
     "metadata": {
      "needs_background": "light"
     },
     "output_type": "display_data"
    }
   ],
   "source": [
    "# выберем срез, в котором будут фильмы, вышедшие в прокат, посчитаем сколько их вышло в каждом году,\n",
    "# построим столбчатую диаграмму\n",
    "(data\n",
    " .query('@pd.isna(box_office) == False')\n",
    " ['years'].value_counts().sort_index()\n",
    " .plot(kind='bar', title='Количество фильмов вышло в прокат по годам')\n",
    ")\n",
    "plt.show()"
   ]
  },
  {
   "cell_type": "code",
   "execution_count": 53,
   "metadata": {},
   "outputs": [
    {
     "name": "stdout",
     "output_type": "stream",
     "text": [
      "Доля фильмов с указанной информацией о прокате: 42.185412770504946\n"
     ]
    }
   ],
   "source": [
    "# узнаем долю фильмов в прокате от всех фильмов\n",
    "print('Доля фильмов с указанной информацией о прокате:',\n",
    "      len(data.query('@pd.isna(box_office) == False')) / len(data) * 100)"
   ]
  },
  {
   "cell_type": "markdown",
   "metadata": {},
   "source": [
    "**Вывод**\n",
    "\n",
    "На столбчатой диаграмме видно, что весь период предоставления информации - с 2010г по 2019г. После 2012г количество фильмов, вышедших в прокат растет. В 2017 году происходит скачок - фильмов вышло меньше, чем в 2015г. Больше всего фильмов показывали в кинотеатрах в 2019г. \n",
    "Данные по которым строилась диаграмма, это всего 42% от всех данных, что представлено. Получается, что 58% фильмов так и не были показаны в кинотеатрах, скорее всего это сериалы, телепередачи и тд."
   ]
  },
  {
   "cell_type": "markdown",
   "metadata": {},
   "source": [
    "#### Сборы по годам"
   ]
  },
  {
   "cell_type": "markdown",
   "metadata": {
    "id": "BEOdcIrIgFyW"
   },
   "source": [
    "- Изучим, как менялась динамика проката по годам.\n",
    "- В каком году сумма сборов была минимальной? А в каком максимальной?"
   ]
  },
  {
   "cell_type": "code",
   "execution_count": 54,
   "metadata": {},
   "outputs": [
    {
     "data": {
      "image/png": "[encoded data removed]",
      "text/plain": [
       "<Figure size 432x360 with 1 Axes>"
      ]
     },
     "metadata": {
      "needs_background": "light"
     },
     "output_type": "display_data"
    }
   ],
   "source": [
    "# построим столбчатую диаграмму для среза данных, где фильмы были в прокате\n",
    "# и посчитаем сумму сборов для каждого года\n",
    "(data\n",
    " .query('@pd.isna(box_office) == False')\n",
    " .groupby('years')['box_office'].sum()\n",
    " .sort_index()\n",
    " .plot(kind='bar', title='Сборы в рублях по годам (2010-2019)', figsize=(6, 5))\n",
    ")\n",
    "plt.show()"
   ]
  },
  {
   "cell_type": "markdown",
   "metadata": {},
   "source": [
    "Для периода 2010г - 2013г, чтобы увидеть динамику этих годов."
   ]
  },
  {
   "cell_type": "code",
   "execution_count": 55,
   "metadata": {
    "scrolled": true
   },
   "outputs": [
    {
     "data": {
      "image/png": "[encoded data removed]",
      "text/plain": [
       "<Figure size 432x360 with 1 Axes>"
      ]
     },
     "metadata": {
      "needs_background": "light"
     },
     "output_type": "display_data"
    }
   ],
   "source": [
    "# построим столбчатую диаграмму для среза данных, где фильмы были в прокате\n",
    "# и посчитаем сумму сборов для периода 2010 - 2013г\n",
    "(data\n",
    " .query('@pd.isna(box_office) == False')\n",
    " .groupby('years')['box_office'].sum()\n",
    " .sort_index().head(4)\n",
    " .plot(kind='bar', title='Сборы в рублях по годам (2010-2013)', figsize=(6, 5))\n",
    ")\n",
    "plt.show()"
   ]
  },
  {
   "cell_type": "markdown",
   "metadata": {},
   "source": [
    "На диаграммах видно, что первые 4 года (2010 - 2013) были не слишком прибыльными, посравнению с остальными. \n",
    "Можно заметить, что начиная с 2015г сумма сборов за фильм начинает быстро расти. \n",
    "Минимальная сумма зафиксирована в 2010г, тогда она составляла примерно 2.500.000р, а максимальная в 2018г - 50.000.000.000р, это в двадцать тысяч раз больше."
   ]
  },
  {
   "cell_type": "markdown",
   "metadata": {},
   "source": [
    "#### Средняя и медианная сумма сборов"
   ]
  },
  {
   "cell_type": "markdown",
   "metadata": {
    "id": "G-7qS-N-gFyY"
   },
   "source": [
    "- С помощью сводной таблицы посчитаем среднюю и медианную сумму сборов для каждого года."
   ]
  },
  {
   "cell_type": "code",
   "execution_count": 56,
   "metadata": {
    "id": "jmp-rgg9gFyY"
   },
   "outputs": [
    {
     "data": {
      "text/html": [
       "<div>\n",
       "<style scoped>\n",
       "    .dataframe tbody tr th:only-of-type {\n",
       "        vertical-align: middle;\n",
       "    }\n",
       "\n",
       "    .dataframe tbody tr th {\n",
       "        vertical-align: top;\n",
       "    }\n",
       "\n",
       "    .dataframe thead th {\n",
       "        text-align: right;\n",
       "    }\n",
       "</style>\n",
       "<table border=\"1\" class=\"dataframe\">\n",
       "  <thead>\n",
       "    <tr style=\"text-align: right;\">\n",
       "      <th></th>\n",
       "      <th>mean</th>\n",
       "      <th>median</th>\n",
       "    </tr>\n",
       "    <tr>\n",
       "      <th>years</th>\n",
       "      <th></th>\n",
       "      <th></th>\n",
       "    </tr>\n",
       "  </thead>\n",
       "  <tbody>\n",
       "    <tr>\n",
       "      <td>2010</td>\n",
       "      <td>23,130.04</td>\n",
       "      <td>1,700.00</td>\n",
       "    </tr>\n",
       "    <tr>\n",
       "      <td>2011</td>\n",
       "      <td>129,383.17</td>\n",
       "      <td>3,000.00</td>\n",
       "    </tr>\n",
       "    <tr>\n",
       "      <td>2012</td>\n",
       "      <td>54,339.24</td>\n",
       "      <td>5,660.00</td>\n",
       "    </tr>\n",
       "    <tr>\n",
       "      <td>2013</td>\n",
       "      <td>161,954.93</td>\n",
       "      <td>3,522.50</td>\n",
       "    </tr>\n",
       "    <tr>\n",
       "      <td>2014</td>\n",
       "      <td>26,684,415.27</td>\n",
       "      <td>18,160.00</td>\n",
       "    </tr>\n",
       "    <tr>\n",
       "      <td>2015</td>\n",
       "      <td>84,940,570.31</td>\n",
       "      <td>4,920,933.00</td>\n",
       "    </tr>\n",
       "    <tr>\n",
       "      <td>2016</td>\n",
       "      <td>91,000,569.85</td>\n",
       "      <td>3,846,679.41</td>\n",
       "    </tr>\n",
       "    <tr>\n",
       "      <td>2017</td>\n",
       "      <td>136,032,793.33</td>\n",
       "      <td>9,968,340.00</td>\n",
       "    </tr>\n",
       "    <tr>\n",
       "      <td>2018</td>\n",
       "      <td>104,565,059.23</td>\n",
       "      <td>8,891,102.21</td>\n",
       "    </tr>\n",
       "    <tr>\n",
       "      <td>2019</td>\n",
       "      <td>91,369,261.85</td>\n",
       "      <td>4,627,798.34</td>\n",
       "    </tr>\n",
       "  </tbody>\n",
       "</table>\n",
       "</div>"
      ],
      "text/plain": [
       "                mean       median\n",
       "years                            \n",
       "2010       23,130.04     1,700.00\n",
       "2011      129,383.17     3,000.00\n",
       "2012       54,339.24     5,660.00\n",
       "2013      161,954.93     3,522.50\n",
       "2014   26,684,415.27    18,160.00\n",
       "2015   84,940,570.31 4,920,933.00\n",
       "2016   91,000,569.85 3,846,679.41\n",
       "2017  136,032,793.33 9,968,340.00\n",
       "2018  104,565,059.23 8,891,102.21\n",
       "2019   91,369,261.85 4,627,798.34"
      ]
     },
     "execution_count": 56,
     "metadata": {},
     "output_type": "execute_result"
    }
   ],
   "source": [
    "# используем сводную таблицу, где индексы - года, значения - сборы в рублях, операции со значения - среднее и медиана\n",
    "table_summary = data.pivot_table(index='years', values='box_office', aggfunc=['mean', 'median'])\n",
    "# поменяем двухэтажные названия столбцов на привычные\n",
    "table_summary.columns = ['mean', 'median']\n",
    "# выведем полученную таблицу\n",
    "table_summary"
   ]
  },
  {
   "cell_type": "markdown",
   "metadata": {},
   "source": [
    "По сводной таблице видно, как сильно среднее отличается от медианного значения. Это обусловлено тем, что в каждом году были успешне, а так же не очень фильмы, сборы которых сильно отличаются. Несколько пар фильмов с крайне большими сборами (выбросы) искажают статистику среднего значения."
   ]
  },
  {
   "cell_type": "markdown",
   "metadata": {},
   "source": [
    "#### Возрастное ограничение"
   ]
  },
  {
   "cell_type": "markdown",
   "metadata": {
    "id": "Ok89WFwJgFyZ"
   },
   "source": [
    "- Определим, влияет ли возрастное ограничение аудитории («6+», «12+», «16+», «18+» и т. д.) на сборы фильма в прокате в период с 2015 по 2019 год? \n",
    "- Фильмы с каким возрастным ограничением собрали больше всего денег в прокате? \n",
    "- Меняется ли картина в зависимости от года? Если да, предположим, с чем это может быть связано."
   ]
  },
  {
   "cell_type": "markdown",
   "metadata": {},
   "source": [
    "Построим сводную таблицу, где индексами будут года (с 2015г), значениями - сборы в рублях, операция с которыми будет - подсчет суммы, а столбцы в этой таблице - категории возраста:"
   ]
  },
  {
   "cell_type": "code",
   "execution_count": 57,
   "metadata": {},
   "outputs": [],
   "source": [
    "# построим сводную таблицу по данным data, где года начиная с 2015\n",
    "# индексы - года, значения - сборы, колонки - категория возраста, операция со значениями - подсчет суммы\n",
    "age_table = (\n",
    "    data\n",
    "    .query('years >= 2015')\n",
    "    .pivot_table(index='years', values='box_office', columns='age_restriction', aggfunc='sum')\n",
    ")"
   ]
  },
  {
   "cell_type": "code",
   "execution_count": 58,
   "metadata": {
    "scrolled": false
   },
   "outputs": [
    {
     "data": {
      "image/png": "[encoded data removed]",
      "text/plain": [
       "<Figure size 1440x504 with 1 Axes>"
      ]
     },
     "metadata": {
      "needs_background": "light"
     },
     "output_type": "display_data"
    }
   ],
   "source": [
    "# построим график зависимости сборов от годов по каждой категории\n",
    "age_table.plot(title='Зависисмость сборов от года по категориям ограничения возраста', figsize=(20, 7))\n",
    "plt.xlabel('года')\n",
    "plt.ylabel('мил. рублей')\n",
    "plt.show()"
   ]
  },
  {
   "cell_type": "markdown",
   "metadata": {},
   "source": [
    "**Вывод**\n",
    "\n",
    "Как мы видим, влияние возрастного ограничения на сборы фильмов в прокате существует. Фильмы, у которых ограничение 16+ собирают больше всего сборов, чем остальные. Можно заметить, что каждый год картина меняется - скорее всего это связано с количеством выпускаемых фильмов каждый год для каждой категории. "
   ]
  },
  {
   "cell_type": "markdown",
   "metadata": {
    "id": "l_Kg6Ku4gFya"
   },
   "source": [
    "### Исследование фильмов, которые получили государственную поддержку"
   ]
  },
  {
   "cell_type": "markdown",
   "metadata": {},
   "source": [
    "Для работы с фильмами, в финансирование которых вкладывалось государсто, введем переменную `data_films`, которая будет хранить строчки DataFrame с данными финансирования от государства."
   ]
  },
  {
   "cell_type": "code",
   "execution_count": 59,
   "metadata": {},
   "outputs": [
    {
     "data": {
      "text/html": [
       "<div>\n",
       "<style scoped>\n",
       "    .dataframe tbody tr th:only-of-type {\n",
       "        vertical-align: middle;\n",
       "    }\n",
       "\n",
       "    .dataframe tbody tr th {\n",
       "        vertical-align: top;\n",
       "    }\n",
       "\n",
       "    .dataframe thead th {\n",
       "        text-align: right;\n",
       "    }\n",
       "</style>\n",
       "<table border=\"1\" class=\"dataframe\">\n",
       "  <thead>\n",
       "    <tr style=\"text-align: right;\">\n",
       "      <th></th>\n",
       "      <th>pu_number</th>\n",
       "      <th>box_office</th>\n",
       "      <th>title</th>\n",
       "      <th>show_start_date</th>\n",
       "      <th>type</th>\n",
       "      <th>film_studio</th>\n",
       "      <th>production_country</th>\n",
       "      <th>director</th>\n",
       "      <th>producer</th>\n",
       "      <th>age_restriction</th>\n",
       "      <th>refundable_support</th>\n",
       "      <th>nonrefundable_support</th>\n",
       "      <th>budget</th>\n",
       "      <th>financing_source</th>\n",
       "      <th>ratings</th>\n",
       "      <th>genres</th>\n",
       "      <th>years</th>\n",
       "      <th>main_director</th>\n",
       "      <th>main_genres</th>\n",
       "      <th>support_share</th>\n",
       "    </tr>\n",
       "  </thead>\n",
       "  <tbody>\n",
       "    <tr>\n",
       "      <td>1</td>\n",
       "      <td>111000115</td>\n",
       "      <td>61,040.00</td>\n",
       "      <td>Небесный верблюд</td>\n",
       "      <td>2015-01-14 12:00:00</td>\n",
       "      <td>Художественный</td>\n",
       "      <td>ООО Продюсерский центр \"Всё хорошо\"</td>\n",
       "      <td>Россия</td>\n",
       "      <td>Ю.Фетинг</td>\n",
       "      <td>И.Плиско</td>\n",
       "      <td>«0+» - для любой зрительской аудитории</td>\n",
       "      <td>0.00</td>\n",
       "      <td>34,000,000.00</td>\n",
       "      <td>49,280,496.00</td>\n",
       "      <td>Министерство культуры</td>\n",
       "      <td>6.70</td>\n",
       "      <td>детский,семейный</td>\n",
       "      <td>2015</td>\n",
       "      <td>Ю.Фетинг</td>\n",
       "      <td>детский</td>\n",
       "      <td>0.69</td>\n",
       "    </tr>\n",
       "    <tr>\n",
       "      <td>2</td>\n",
       "      <td>111000116</td>\n",
       "      <td>153,030,013.40</td>\n",
       "      <td>Статус: \"Свободен\"</td>\n",
       "      <td>2016-01-13 12:00:00</td>\n",
       "      <td>Художественный</td>\n",
       "      <td>ООО \"Кинодом\"</td>\n",
       "      <td>Россия</td>\n",
       "      <td>П.Руминов</td>\n",
       "      <td>С.Ливнев, Д.Козловский, С.Бобза</td>\n",
       "      <td>«16+» - для детей старше 16 лет</td>\n",
       "      <td>20,000,000.00</td>\n",
       "      <td>20,000,000.00</td>\n",
       "      <td>78,686,500.00</td>\n",
       "      <td>Фонд кино</td>\n",
       "      <td>5.80</td>\n",
       "      <td>комедия,мелодрама</td>\n",
       "      <td>2016</td>\n",
       "      <td>П.Руминов</td>\n",
       "      <td>комедия</td>\n",
       "      <td>0.51</td>\n",
       "    </tr>\n",
       "    <tr>\n",
       "      <td>3</td>\n",
       "      <td>111000117</td>\n",
       "      <td>12,260,956.00</td>\n",
       "      <td>После тебя</td>\n",
       "      <td>2017-01-10 12:00:00</td>\n",
       "      <td>Художественный</td>\n",
       "      <td>Компания Production Value WorldWide (ООО \"ПРОД...</td>\n",
       "      <td>Россия</td>\n",
       "      <td>А.Матисон</td>\n",
       "      <td>С.Безруков</td>\n",
       "      <td>«16+» - для детей старше 16 лет</td>\n",
       "      <td>7,000,000.00</td>\n",
       "      <td>20,000,000.00</td>\n",
       "      <td>45,483,233.00</td>\n",
       "      <td>Министерство культуры, Фонд кино</td>\n",
       "      <td>6.70</td>\n",
       "      <td>драма</td>\n",
       "      <td>2017</td>\n",
       "      <td>А.Матисон</td>\n",
       "      <td>драма</td>\n",
       "      <td>0.59</td>\n",
       "    </tr>\n",
       "    <tr>\n",
       "      <td>5</td>\n",
       "      <td>111000119</td>\n",
       "      <td>4,293,649.51</td>\n",
       "      <td>Пилигрим</td>\n",
       "      <td>2019-02-14 12:00:00</td>\n",
       "      <td>Художественный</td>\n",
       "      <td>ООО \"Чайка Синема\"</td>\n",
       "      <td>Россия</td>\n",
       "      <td>А.Баршак</td>\n",
       "      <td>М.Гуцериев, Е.Север, Т.Стацман</td>\n",
       "      <td>«16+» - для детей старше 16 лет</td>\n",
       "      <td>0.00</td>\n",
       "      <td>35,000,000.00</td>\n",
       "      <td>115,000,000.00</td>\n",
       "      <td>Министерство культуры</td>\n",
       "      <td>5.30</td>\n",
       "      <td>триллер</td>\n",
       "      <td>2019</td>\n",
       "      <td>А.Баршак</td>\n",
       "      <td>триллер</td>\n",
       "      <td>0.30</td>\n",
       "    </tr>\n",
       "    <tr>\n",
       "      <td>7</td>\n",
       "      <td>111000216</td>\n",
       "      <td>355,567.00</td>\n",
       "      <td>Городские птички.</td>\n",
       "      <td>2016-01-15 12:00:00</td>\n",
       "      <td>Художественный</td>\n",
       "      <td>ООО \"Каргофильм\"</td>\n",
       "      <td>Россия</td>\n",
       "      <td>Ю.Белюсева</td>\n",
       "      <td>А.Готлиб</td>\n",
       "      <td>«16+» - для детей старше 16 лет</td>\n",
       "      <td>0.00</td>\n",
       "      <td>25,000,000.00</td>\n",
       "      <td>38,461,538.00</td>\n",
       "      <td>Министерство культуры</td>\n",
       "      <td>5.40</td>\n",
       "      <td>комедия,мелодрама</td>\n",
       "      <td>2016</td>\n",
       "      <td>Ю.Белюсева</td>\n",
       "      <td>комедия</td>\n",
       "      <td>0.65</td>\n",
       "    </tr>\n",
       "  </tbody>\n",
       "</table>\n",
       "</div>"
      ],
      "text/plain": [
       "   pu_number     box_office               title     show_start_date  \\\n",
       "1  111000115      61,040.00    Небесный верблюд 2015-01-14 12:00:00   \n",
       "2  111000116 153,030,013.40  Статус: \"Свободен\" 2016-01-13 12:00:00   \n",
       "3  111000117  12,260,956.00          После тебя 2017-01-10 12:00:00   \n",
       "5  111000119   4,293,649.51            Пилигрим 2019-02-14 12:00:00   \n",
       "7  111000216     355,567.00   Городские птички. 2016-01-15 12:00:00   \n",
       "\n",
       "              type                                        film_studio  \\\n",
       "1   Художественный                ООО Продюсерский центр \"Всё хорошо\"   \n",
       "2   Художественный                                      ООО \"Кинодом\"   \n",
       "3   Художественный  Компания Production Value WorldWide (ООО \"ПРОД...   \n",
       "5   Художественный                                 ООО \"Чайка Синема\"   \n",
       "7   Художественный                                   ООО \"Каргофильм\"   \n",
       "\n",
       "  production_country    director                         producer  \\\n",
       "1             Россия    Ю.Фетинг                         И.Плиско   \n",
       "2             Россия   П.Руминов  С.Ливнев, Д.Козловский, С.Бобза   \n",
       "3             Россия   А.Матисон                       С.Безруков   \n",
       "5             Россия    А.Баршак   М.Гуцериев, Е.Север, Т.Стацман   \n",
       "7             Россия  Ю.Белюсева                         А.Готлиб   \n",
       "\n",
       "                          age_restriction  refundable_support  \\\n",
       "1  «0+» - для любой зрительской аудитории                0.00   \n",
       "2         «16+» - для детей старше 16 лет       20,000,000.00   \n",
       "3         «16+» - для детей старше 16 лет        7,000,000.00   \n",
       "5         «16+» - для детей старше 16 лет                0.00   \n",
       "7         «16+» - для детей старше 16 лет                0.00   \n",
       "\n",
       "   nonrefundable_support         budget                  financing_source  \\\n",
       "1          34,000,000.00  49,280,496.00             Министерство культуры   \n",
       "2          20,000,000.00  78,686,500.00                         Фонд кино   \n",
       "3          20,000,000.00  45,483,233.00  Министерство культуры, Фонд кино   \n",
       "5          35,000,000.00 115,000,000.00             Министерство культуры   \n",
       "7          25,000,000.00  38,461,538.00             Министерство культуры   \n",
       "\n",
       "   ratings             genres  years main_director main_genres  support_share  \n",
       "1     6.70   детский,семейный   2015      Ю.Фетинг     детский           0.69  \n",
       "2     5.80  комедия,мелодрама   2016     П.Руминов     комедия           0.51  \n",
       "3     6.70              драма   2017     А.Матисон       драма           0.59  \n",
       "5     5.30            триллер   2019      А.Баршак     триллер           0.30  \n",
       "7     5.40  комедия,мелодрама   2016    Ю.Белюсева     комедия           0.65  "
      ]
     },
     "execution_count": 59,
     "metadata": {},
     "output_type": "execute_result"
    }
   ],
   "source": [
    "# запишем в data_films все строки из data, где нет пропусков в столбце 'financing_source'\n",
    "data_films = data.query('@pd.isna(financing_source) == False')\n",
    "#выведем первые 5 строк \n",
    "data_films.head()"
   ]
  },
  {
   "cell_type": "markdown",
   "metadata": {},
   "source": [
    "- Определим в каком году было больше прибыли от сборов."
   ]
  },
  {
   "cell_type": "code",
   "execution_count": 60,
   "metadata": {},
   "outputs": [
    {
     "data": {
      "image/png": "[encoded data removed]",
      "text/plain": [
       "<Figure size 360x360 with 1 Axes>"
      ]
     },
     "metadata": {
      "needs_background": "light"
     },
     "output_type": "display_data"
    }
   ],
   "source": [
    "# построим столбчатую диаграмму для среза данных, где фильмы были в прокате\n",
    "# и посчитаем сумму сборов для каждого года\n",
    "(data_films\n",
    " .query('@pd.isna(box_office) == False')\n",
    " .groupby('years')['box_office'].sum()\n",
    " .sort_index()\n",
    " .plot(kind='bar', title='Сборы в рублях по годам', figsize=(5, 5))\n",
    ")\n",
    "plt.show()"
   ]
  },
  {
   "cell_type": "markdown",
   "metadata": {},
   "source": [
    "На графике, что наиболее успешным годом считается 2017г. В этом году сумма сборов достигла 110.000.000.000 рублей."
   ]
  },
  {
   "cell_type": "markdown",
   "metadata": {},
   "source": [
    "- Зная, какой был самый успешный год для финансирования, выведем на экран источников финансирования."
   ]
  },
  {
   "cell_type": "code",
   "execution_count": 61,
   "metadata": {},
   "outputs": [
    {
     "data": {
      "image/png": "[encoded data removed]",
      "text/plain": [
       "<Figure size 360x360 with 1 Axes>"
      ]
     },
     "metadata": {},
     "output_type": "display_data"
    }
   ],
   "source": [
    "# построим круговую диаграмму для среза данных, где год 2017\n",
    "# и посчитаем топ источников финансировая\n",
    "(data_films\n",
    " .query('years == 2017')['financing_source']\n",
    " .value_counts()\n",
    " .plot(kind='pie', title='Топ-5 источников финансирования', figsize=(5, 5))\n",
    ")\n",
    "\n",
    "plt.show()"
   ]
  },
  {
   "cell_type": "markdown",
   "metadata": {},
   "source": [
    "Мы видим, что главным источников финансирования является \"Фонд Кино\"."
   ]
  },
  {
   "cell_type": "markdown",
   "metadata": {},
   "source": [
    "- Фильмы каких жанров попадали под программу финансировая? Какой жанр был самый прибыльный?"
   ]
  },
  {
   "cell_type": "code",
   "execution_count": 62,
   "metadata": {},
   "outputs": [
    {
     "data": {
      "image/png": "[encoded data removed]",
      "text/plain": [
       "<Figure size 360x360 with 1 Axes>"
      ]
     },
     "metadata": {
      "needs_background": "light"
     },
     "output_type": "display_data"
    }
   ],
   "source": [
    "# построим столбчатую диаграмму для жанров\n",
    "(data_films\n",
    " .query('@pd.isna(box_office) == False')['main_genres']\n",
    " .value_counts()\n",
    " .plot(kind='bar', title='Жанры', figsize=(5, 5))\n",
    ")\n",
    "plt.show()"
   ]
  },
  {
   "cell_type": "markdown",
   "metadata": {},
   "source": [
    "Самыми производимыми были фильмы, жанры которых - драма и комедия. Посмотрим, какой жанр был прибыльнее."
   ]
  },
  {
   "cell_type": "code",
   "execution_count": 63,
   "metadata": {},
   "outputs": [
    {
     "data": {
      "image/png": "[encoded data removed]",
      "text/plain": [
       "<Figure size 720x360 with 1 Axes>"
      ]
     },
     "metadata": {
      "needs_background": "light"
     },
     "output_type": "display_data"
    }
   ],
   "source": [
    "data_films_genres = (\n",
    "    data_films\n",
    "    .query('(@pd.isna(box_office) == False) and (genres == \"драма\" or genres == \"комедия\")')\n",
    "    .pivot_table(index='years', values='box_office', columns='genres', aggfunc='sum')\n",
    ")\n",
    "data_films_genres.plot(figsize=(10,5))\n",
    "plt.title('Зависимость сборов от года по жанрам - драма и комедия')\n",
    "plt.xlabel('года')\n",
    "plt.ylabel('млн. рублей')\n",
    "plt.show()"
   ]
  },
  {
   "cell_type": "markdown",
   "metadata": {},
   "source": [
    "До лета 2016г сборы по двум жанрам были примерно одинаковыми, но в середине 2016г сборы по комедии резко пошли вверх. Из этого можно сделать вывод, что хоть и было поддержано больше драмматических кинокартин, но более прибыльными оставалась комедия, что значит, что на комедию в кино ходят чаще, чем на драмму."
   ]
  },
  {
   "cell_type": "markdown",
   "metadata": {},
   "source": [
    "- Посмотрим, какую оценку фильмы получали чаще всего."
   ]
  },
  {
   "cell_type": "code",
   "execution_count": 64,
   "metadata": {},
   "outputs": [
    {
     "data": {
      "image/png": "[encoded data removed]",
      "text/plain": [
       "<Figure size 360x360 with 1 Axes>"
      ]
     },
     "metadata": {
      "needs_background": "light"
     },
     "output_type": "display_data"
    }
   ],
   "source": [
    "# построим столбчатую диаграмму для оценок\n",
    "(data_films\n",
    " .query('@pd.isna(box_office) == False')['ratings']\n",
    " .value_counts().head(10)\n",
    " .plot(kind='bar', title='Топ-10 высоких оценок (фильмы с гос. поддержкой)', figsize=(5, 5))\n",
    ")\n",
    "plt.show()"
   ]
  },
  {
   "cell_type": "code",
   "execution_count": 65,
   "metadata": {},
   "outputs": [
    {
     "name": "stdout",
     "output_type": "stream",
     "text": [
      "Средняя оценка по фильмам с гос.поддержкой: 6.2\n"
     ]
    }
   ],
   "source": [
    "ratings_mean = data_films.query('@pd.isna(box_office) == False')['ratings'].median()\n",
    "print('Средняя оценка по фильмам с гос.поддержкой:', ratings_mean)"
   ]
  },
  {
   "cell_type": "markdown",
   "metadata": {},
   "source": [
    "Мы видим, что фильмы с гос. поддержкой чаще всего получали оценку 6.2, самая высокая оценка - 6.9. Такую оценку фильмы получили 10 раз."
   ]
  },
  {
   "cell_type": "code",
   "execution_count": 66,
   "metadata": {},
   "outputs": [
    {
     "data": {
      "image/png": "[encoded data removed]",
      "text/plain": [
       "<Figure size 360x360 with 1 Axes>"
      ]
     },
     "metadata": {
      "needs_background": "light"
     },
     "output_type": "display_data"
    }
   ],
   "source": [
    "# построим столбчатую диаграмму для оценок\n",
    "(data\n",
    " .query('@pd.isna(box_office) == True')['ratings']\n",
    " .value_counts().head(10)\n",
    " .plot(kind='bar', title='Топ-10 высоких оценок (фильмы без гос. поддержки)', figsize=(5, 5))\n",
    ")\n",
    "plt.show()"
   ]
  },
  {
   "cell_type": "code",
   "execution_count": 67,
   "metadata": {},
   "outputs": [
    {
     "name": "stdout",
     "output_type": "stream",
     "text": [
      "Средняя оценка по фильмам без гос. поддержки: 6.8\n"
     ]
    }
   ],
   "source": [
    "ratings_mean = data.query('@pd.isna(box_office) == True')['ratings'].median()\n",
    "print('Средняя оценка по фильмам без гос. поддержки:', ratings_mean)"
   ]
  },
  {
   "cell_type": "markdown",
   "metadata": {},
   "source": [
    "Можно заметить, что для фильмом без гос. поддержки рэйтинг ыильмов отличается. Средняя оценка возросла до 6.8 (с гос. поддержкой - 6.4). Чаще всего такие фильмы получали оценку 6.6 ( без гос. поодержки - 6.2)"
   ]
  },
  {
   "cell_type": "markdown",
   "metadata": {},
   "source": [
    "- Посмотрим, как сильно отличался объем возвратных и невозвратных средств по годам."
   ]
  },
  {
   "cell_type": "code",
   "execution_count": 68,
   "metadata": {
    "id": "W9QKpjUdgFyb"
   },
   "outputs": [
    {
     "data": {
      "image/png": "[encoded data removed]",
      "text/plain": [
       "<Figure size 720x360 with 1 Axes>"
      ]
     },
     "metadata": {
      "needs_background": "light"
     },
     "output_type": "display_data"
    }
   ],
   "source": [
    "data_support = data_films.pivot_table(index='years', values=['refundable_support', 'nonrefundable_support'], aggfunc='sum')\n",
    "data_support.plot(kind='bar', figsize=(10,5))\n",
    "plt.title('Отношение возвратных и невозвратных средств по годам')\n",
    "plt.xlabel('года')\n",
    "plt.ylabel('млн. рублей')\n",
    "plt.show()"
   ]
  },
  {
   "cell_type": "markdown",
   "metadata": {},
   "source": [
    "Видим, что объем возратных средств в год в среднем в 3-4 раза меньше, чем невозвратных."
   ]
  },
  {
   "cell_type": "markdown",
   "metadata": {
    "id": "V2gYwMcPgFyd"
   },
   "source": [
    "### Общий вывод по исследованию"
   ]
  },
  {
   "cell_type": "markdown",
   "metadata": {
    "id": "AYRg3dzXgFye"
   },
   "source": [
    "Мы изучили данные о кинокартинах за период с 2010г по 2019г. \n",
    "\n",
    "На этапе предобработки данных выявили некорреткные данные.\n",
    "\n",
    "1. Мы переимновали столбец `puNumber` в `pu_number` - привели к нижнему и змеиному регистру.\n",
    "2. Произвели замену категориальных пропусков на \"не определен\"\n",
    "3. Изенили тип данных в столбце рейтинг, извлекли некорректные записи и привели их к единому формату.\n",
    "4. Просмотрели количественные данные, выявили какие значения являются выбросами.\n",
    "5. Для более успешного исследования добавили новые столбцы: год выхода фильма, главный режиссер и жанр фильмов, посчитали долю гос.финансирования в бюджете фильма\n",
    "\n",
    "На этапе иследования всех кинокартин выяснили:\n",
    "- Больше всего фильмов вышло в прокат в 2019г, а доля фильмов вышедших в прокат за весь период исследования составила 42%.\n",
    "- Начиная с 2015г сумма сборов начинает резко расти, максимальный пик наблюдается в 2018г.\n",
    "- Возрастное ограничение влияет на сумму сборов. Фильмы, у которых ограничение 16+ собирают больше всего сборов, чем остальные.\n",
    "\n",
    "На этапе исследования фильмов, которые полчали гос. финансирование, было выявлено:\n",
    "- Наиболее успешным годом по прибыли был 2017г.\n",
    "- В 2017г главным источником финансирования стал \"Фонд Кино\".\n",
    "- Больше всего фильмов было снято в жанре драммы и комедии, причем из этих двух жанров больше прибыли принес жанр комедия (начиная с июня 2016г).\n",
    "- Самая высокая оценка у фильмов с гос. финансированием - 6.9, а средняя оценка - 6.2.\n",
    "- Объем возвратных средств государственной поддержки в 3.5 раза меньше, чем невозвратных."
   ]
  }
 ],
 "metadata": {
  "ExecuteTimeLog": [
   {
    "duration": 537,
    "start_time": "2021-07-07T10:12:08.634Z"
   },
   {
    "duration": 206,
    "start_time": "2021-07-07T10:12:30.191Z"
   },
   {
    "duration": 227,
    "start_time": "2021-07-07T10:12:33.078Z"
   },
   {
    "duration": 153,
    "start_time": "2021-07-07T10:13:42.146Z"
   },
   {
    "duration": 233,
    "start_time": "2021-07-07T10:30:09.252Z"
   },
   {
    "duration": 19,
    "start_time": "2021-07-07T10:30:15.577Z"
   },
   {
    "duration": 18,
    "start_time": "2021-07-07T10:30:57.348Z"
   },
   {
    "duration": 19,
    "start_time": "2021-07-07T10:31:17.452Z"
   },
   {
    "duration": 21,
    "start_time": "2021-07-07T10:31:32.227Z"
   },
   {
    "duration": 27,
    "start_time": "2021-07-07T10:32:06.588Z"
   },
   {
    "duration": 23,
    "start_time": "2021-07-07T10:32:43.645Z"
   },
   {
    "duration": 24,
    "start_time": "2021-07-07T10:33:06.948Z"
   },
   {
    "duration": 7,
    "start_time": "2021-07-07T10:33:28.558Z"
   },
   {
    "duration": 23,
    "start_time": "2021-07-07T10:33:43.761Z"
   },
   {
    "duration": 28,
    "start_time": "2021-07-07T10:34:13.466Z"
   },
   {
    "duration": 23,
    "start_time": "2021-07-07T10:35:56.187Z"
   },
   {
    "duration": 6,
    "start_time": "2021-07-07T10:36:48.182Z"
   },
   {
    "duration": 14,
    "start_time": "2021-07-07T10:37:49.641Z"
   },
   {
    "duration": 6,
    "start_time": "2021-07-07T10:38:06.694Z"
   },
   {
    "duration": 6,
    "start_time": "2021-07-07T10:38:13.493Z"
   },
   {
    "duration": 19,
    "start_time": "2021-07-07T10:38:44.056Z"
   },
   {
    "duration": 186,
    "start_time": "2021-07-07T10:48:35.618Z"
   },
   {
    "duration": 24,
    "start_time": "2021-07-07T10:48:51.498Z"
   },
   {
    "duration": 20,
    "start_time": "2021-07-07T10:48:59.415Z"
   },
   {
    "duration": 20,
    "start_time": "2021-07-07T10:53:02.195Z"
   },
   {
    "duration": 188,
    "start_time": "2021-07-07T10:54:40.486Z"
   },
   {
    "duration": 115,
    "start_time": "2021-07-07T10:54:52.552Z"
   },
   {
    "duration": 214,
    "start_time": "2021-07-07T10:54:56.354Z"
   },
   {
    "duration": 47,
    "start_time": "2021-07-07T10:54:58.282Z"
   },
   {
    "duration": 217,
    "start_time": "2021-07-07T10:59:16.075Z"
   },
   {
    "duration": 51,
    "start_time": "2021-07-07T10:59:16.243Z"
   },
   {
    "duration": 578,
    "start_time": "2021-07-07T10:59:18.774Z"
   },
   {
    "duration": 161,
    "start_time": "2021-07-07T10:59:21.238Z"
   },
   {
    "duration": 59,
    "start_time": "2021-07-07T10:59:21.453Z"
   },
   {
    "duration": 3,
    "start_time": "2021-07-07T11:02:10.786Z"
   },
   {
    "duration": 13,
    "start_time": "2021-07-07T11:07:07.722Z"
   },
   {
    "duration": 26,
    "start_time": "2021-07-07T11:07:17.958Z"
   },
   {
    "duration": 22,
    "start_time": "2021-07-07T11:08:17.939Z"
   },
   {
    "duration": 212,
    "start_time": "2021-07-07T11:08:19.665Z"
   },
   {
    "duration": 21,
    "start_time": "2021-07-07T11:08:29.945Z"
   },
   {
    "duration": 31,
    "start_time": "2021-07-07T11:08:38.899Z"
   },
   {
    "duration": 23,
    "start_time": "2021-07-07T11:08:54.527Z"
   },
   {
    "duration": 8,
    "start_time": "2021-07-07T11:18:55.974Z"
   },
   {
    "duration": 7,
    "start_time": "2021-07-07T11:19:03.639Z"
   },
   {
    "duration": 7,
    "start_time": "2021-07-07T11:19:06.444Z"
   },
   {
    "duration": 578,
    "start_time": "2021-07-07T12:09:59.576Z"
   },
   {
    "duration": 195,
    "start_time": "2021-07-07T12:10:00.156Z"
   },
   {
    "duration": 115,
    "start_time": "2021-07-07T12:10:00.353Z"
   },
   {
    "duration": 3,
    "start_time": "2021-07-07T12:10:00.470Z"
   },
   {
    "duration": 32,
    "start_time": "2021-07-07T12:10:00.474Z"
   },
   {
    "duration": 23,
    "start_time": "2021-07-07T12:10:00.508Z"
   },
   {
    "duration": 19,
    "start_time": "2021-07-07T12:10:00.533Z"
   },
   {
    "duration": 44,
    "start_time": "2021-07-07T12:10:00.553Z"
   },
   {
    "duration": 7,
    "start_time": "2021-07-07T12:10:00.600Z"
   },
   {
    "duration": 7,
    "start_time": "2021-07-07T12:19:45.761Z"
   },
   {
    "duration": 21,
    "start_time": "2021-07-07T12:21:35.482Z"
   },
   {
    "duration": 21,
    "start_time": "2021-07-07T12:29:23.569Z"
   },
   {
    "duration": 525,
    "start_time": "2021-07-07T12:29:44.542Z"
   },
   {
    "duration": 214,
    "start_time": "2021-07-07T12:29:45.069Z"
   },
   {
    "duration": 92,
    "start_time": "2021-07-07T12:29:45.285Z"
   },
   {
    "duration": 3,
    "start_time": "2021-07-07T12:29:45.379Z"
   },
   {
    "duration": 28,
    "start_time": "2021-07-07T12:29:45.384Z"
   },
   {
    "duration": 23,
    "start_time": "2021-07-07T12:29:45.413Z"
   },
   {
    "duration": 21,
    "start_time": "2021-07-07T12:29:45.437Z"
   },
   {
    "duration": 41,
    "start_time": "2021-07-07T12:29:45.460Z"
   },
   {
    "duration": 7,
    "start_time": "2021-07-07T12:29:45.502Z"
   },
   {
    "duration": 20,
    "start_time": "2021-07-07T12:29:45.511Z"
   },
   {
    "duration": 12,
    "start_time": "2021-07-07T12:34:02.800Z"
   },
   {
    "duration": 7,
    "start_time": "2021-07-07T12:35:10.479Z"
   },
   {
    "duration": 8,
    "start_time": "2021-07-07T12:35:22.440Z"
   },
   {
    "duration": 6,
    "start_time": "2021-07-07T12:35:35.649Z"
   },
   {
    "duration": 6,
    "start_time": "2021-07-07T12:35:43.107Z"
   },
   {
    "duration": 22,
    "start_time": "2021-07-07T12:38:03.029Z"
   },
   {
    "duration": 10,
    "start_time": "2021-07-07T12:38:06.592Z"
   },
   {
    "duration": 563,
    "start_time": "2021-07-07T12:38:46.493Z"
   },
   {
    "duration": 265,
    "start_time": "2021-07-07T12:38:47.058Z"
   },
   {
    "duration": 94,
    "start_time": "2021-07-07T12:38:47.325Z"
   },
   {
    "duration": 3,
    "start_time": "2021-07-07T12:38:47.422Z"
   },
   {
    "duration": 30,
    "start_time": "2021-07-07T12:38:47.427Z"
   },
   {
    "duration": 16,
    "start_time": "2021-07-07T12:38:53.305Z"
   },
   {
    "duration": 10,
    "start_time": "2021-07-07T12:38:53.499Z"
   },
   {
    "duration": 8,
    "start_time": "2021-07-07T12:39:48.161Z"
   },
   {
    "duration": 27,
    "start_time": "2021-07-07T12:41:17.629Z"
   },
   {
    "duration": 17,
    "start_time": "2021-07-07T12:41:17.867Z"
   },
   {
    "duration": 21,
    "start_time": "2021-07-07T12:41:19.310Z"
   },
   {
    "duration": 7,
    "start_time": "2021-07-07T12:41:19.544Z"
   },
   {
    "duration": 20,
    "start_time": "2021-07-07T12:41:20.504Z"
   },
   {
    "duration": 554,
    "start_time": "2021-07-07T12:56:23.696Z"
   },
   {
    "duration": 200,
    "start_time": "2021-07-07T12:56:25.234Z"
   },
   {
    "duration": 119,
    "start_time": "2021-07-07T12:56:25.480Z"
   },
   {
    "duration": 4,
    "start_time": "2021-07-07T12:56:25.762Z"
   },
   {
    "duration": 26,
    "start_time": "2021-07-07T12:56:27.172Z"
   },
   {
    "duration": 12,
    "start_time": "2021-07-07T12:56:29.051Z"
   },
   {
    "duration": 10,
    "start_time": "2021-07-07T12:56:29.291Z"
   },
   {
    "duration": 8,
    "start_time": "2021-07-07T12:56:29.623Z"
   },
   {
    "duration": 28,
    "start_time": "2021-07-07T12:56:32.137Z"
   },
   {
    "duration": 19,
    "start_time": "2021-07-07T12:56:39.785Z"
   },
   {
    "duration": 20,
    "start_time": "2021-07-07T12:56:44.297Z"
   },
   {
    "duration": 7,
    "start_time": "2021-07-07T12:56:45.392Z"
   },
   {
    "duration": 23,
    "start_time": "2021-07-07T12:56:46.615Z"
   },
   {
    "duration": 4,
    "start_time": "2021-07-07T12:57:06.625Z"
   },
   {
    "duration": 32,
    "start_time": "2021-07-07T12:57:36.690Z"
   },
   {
    "duration": 18,
    "start_time": "2021-07-07T12:58:00.149Z"
   },
   {
    "duration": 15,
    "start_time": "2021-07-07T12:59:16.793Z"
   },
   {
    "duration": 7,
    "start_time": "2021-07-07T13:19:22.624Z"
   },
   {
    "duration": 6,
    "start_time": "2021-07-07T14:17:33.527Z"
   },
   {
    "duration": 9,
    "start_time": "2021-07-07T14:17:48.409Z"
   },
   {
    "duration": 8,
    "start_time": "2021-07-07T14:20:13.060Z"
   },
   {
    "duration": 8,
    "start_time": "2021-07-07T14:20:37.957Z"
   },
   {
    "duration": 8,
    "start_time": "2021-07-07T14:20:47.470Z"
   },
   {
    "duration": 9,
    "start_time": "2021-07-07T14:20:54.503Z"
   },
   {
    "duration": 10,
    "start_time": "2021-07-07T14:28:57.763Z"
   },
   {
    "duration": 3,
    "start_time": "2021-07-07T14:30:23.377Z"
   },
   {
    "duration": 3,
    "start_time": "2021-07-07T14:30:36.489Z"
   },
   {
    "duration": 103,
    "start_time": "2021-07-07T14:30:52.351Z"
   },
   {
    "duration": 8,
    "start_time": "2021-07-07T14:30:54.763Z"
   },
   {
    "duration": 8,
    "start_time": "2021-07-07T14:31:29.301Z"
   },
   {
    "duration": 13,
    "start_time": "2021-07-07T14:31:44.516Z"
   },
   {
    "duration": 7,
    "start_time": "2021-07-07T14:33:10.972Z"
   },
   {
    "duration": 11,
    "start_time": "2021-07-07T14:33:27.780Z"
   },
   {
    "duration": 8,
    "start_time": "2021-07-07T14:34:44.588Z"
   },
   {
    "duration": 57,
    "start_time": "2021-07-07T14:35:59.042Z"
   },
   {
    "duration": 3,
    "start_time": "2021-07-07T14:36:28.168Z"
   },
   {
    "duration": 5,
    "start_time": "2021-07-07T14:36:46.254Z"
   },
   {
    "duration": 4,
    "start_time": "2021-07-07T14:36:52.714Z"
   },
   {
    "duration": 3,
    "start_time": "2021-07-07T14:36:56.612Z"
   },
   {
    "duration": 4,
    "start_time": "2021-07-07T14:36:57.049Z"
   },
   {
    "duration": 3,
    "start_time": "2021-07-07T14:39:21.214Z"
   },
   {
    "duration": 7,
    "start_time": "2021-07-07T14:39:52.406Z"
   },
   {
    "duration": 11,
    "start_time": "2021-07-07T14:39:58.576Z"
   },
   {
    "duration": 9,
    "start_time": "2021-07-07T14:40:26.301Z"
   },
   {
    "duration": 10,
    "start_time": "2021-07-07T14:40:31.704Z"
   },
   {
    "duration": 11,
    "start_time": "2021-07-07T14:40:36.249Z"
   },
   {
    "duration": 10,
    "start_time": "2021-07-07T14:40:39.783Z"
   },
   {
    "duration": 9,
    "start_time": "2021-07-07T14:40:48.558Z"
   },
   {
    "duration": 10,
    "start_time": "2021-07-07T14:40:57.143Z"
   },
   {
    "duration": 9,
    "start_time": "2021-07-07T14:41:06.074Z"
   },
   {
    "duration": 4324,
    "start_time": "2021-07-07T14:41:22.004Z"
   },
   {
    "duration": 11,
    "start_time": "2021-07-07T14:41:33.392Z"
   },
   {
    "duration": 9,
    "start_time": "2021-07-07T14:41:39.288Z"
   },
   {
    "duration": 569,
    "start_time": "2021-07-07T14:42:14.387Z"
   },
   {
    "duration": 197,
    "start_time": "2021-07-07T14:42:14.959Z"
   },
   {
    "duration": 84,
    "start_time": "2021-07-07T14:42:16.052Z"
   },
   {
    "duration": 4,
    "start_time": "2021-07-07T14:42:16.900Z"
   },
   {
    "duration": 27,
    "start_time": "2021-07-07T14:42:19.898Z"
   },
   {
    "duration": 12,
    "start_time": "2021-07-07T14:42:21.577Z"
   },
   {
    "duration": 9,
    "start_time": "2021-07-07T14:42:21.813Z"
   },
   {
    "duration": 9,
    "start_time": "2021-07-07T14:42:22.569Z"
   },
   {
    "duration": 29,
    "start_time": "2021-07-07T14:42:25.837Z"
   },
   {
    "duration": 20,
    "start_time": "2021-07-07T14:42:27.003Z"
   },
   {
    "duration": 21,
    "start_time": "2021-07-07T14:42:28.767Z"
   },
   {
    "duration": 7,
    "start_time": "2021-07-07T14:42:29.838Z"
   },
   {
    "duration": 4,
    "start_time": "2021-07-07T14:43:25.493Z"
   },
   {
    "duration": 7,
    "start_time": "2021-07-07T14:43:26.573Z"
   },
   {
    "duration": 10,
    "start_time": "2021-07-07T14:43:31.639Z"
   },
   {
    "duration": 9,
    "start_time": "2021-07-07T14:43:32.046Z"
   },
   {
    "duration": 10,
    "start_time": "2021-07-07T14:43:33.301Z"
   },
   {
    "duration": 12,
    "start_time": "2021-07-07T14:43:33.658Z"
   },
   {
    "duration": 8,
    "start_time": "2021-07-07T14:43:34.552Z"
   },
   {
    "duration": 9,
    "start_time": "2021-07-07T14:43:35.058Z"
   },
   {
    "duration": 12,
    "start_time": "2021-07-07T14:43:35.914Z"
   },
   {
    "duration": 17,
    "start_time": "2021-07-07T14:45:34.368Z"
   },
   {
    "duration": 512,
    "start_time": "2021-07-07T14:51:58.236Z"
   },
   {
    "duration": 223,
    "start_time": "2021-07-07T14:51:58.750Z"
   },
   {
    "duration": 93,
    "start_time": "2021-07-07T14:51:58.977Z"
   },
   {
    "duration": 4,
    "start_time": "2021-07-07T14:51:59.071Z"
   },
   {
    "duration": 37,
    "start_time": "2021-07-07T14:51:59.077Z"
   },
   {
    "duration": 18,
    "start_time": "2021-07-07T14:51:59.116Z"
   },
   {
    "duration": 10,
    "start_time": "2021-07-07T14:51:59.137Z"
   },
   {
    "duration": 8,
    "start_time": "2021-07-07T14:51:59.149Z"
   },
   {
    "duration": 54,
    "start_time": "2021-07-07T14:51:59.158Z"
   },
   {
    "duration": 18,
    "start_time": "2021-07-07T14:51:59.213Z"
   },
   {
    "duration": 22,
    "start_time": "2021-07-07T14:51:59.232Z"
   },
   {
    "duration": 36,
    "start_time": "2021-07-07T14:51:59.255Z"
   },
   {
    "duration": 7,
    "start_time": "2021-07-07T14:51:59.293Z"
   },
   {
    "duration": 10,
    "start_time": "2021-07-07T14:51:59.302Z"
   },
   {
    "duration": 9,
    "start_time": "2021-07-07T14:51:59.313Z"
   },
   {
    "duration": 11,
    "start_time": "2021-07-07T14:51:59.324Z"
   },
   {
    "duration": 8,
    "start_time": "2021-07-07T14:51:59.337Z"
   },
   {
    "duration": 46,
    "start_time": "2021-07-07T14:51:59.347Z"
   },
   {
    "duration": 22,
    "start_time": "2021-07-07T14:51:59.395Z"
   },
   {
    "duration": 24,
    "start_time": "2021-07-07T14:57:32.911Z"
   },
   {
    "duration": 7,
    "start_time": "2021-07-07T14:58:22.070Z"
   },
   {
    "duration": 4,
    "start_time": "2021-07-07T14:59:11.239Z"
   },
   {
    "duration": 25,
    "start_time": "2021-07-07T15:07:22.208Z"
   },
   {
    "duration": 16,
    "start_time": "2021-07-07T15:08:25.560Z"
   },
   {
    "duration": 15,
    "start_time": "2021-07-07T15:08:40.647Z"
   },
   {
    "duration": 14,
    "start_time": "2021-07-07T15:08:46.669Z"
   },
   {
    "duration": 533,
    "start_time": "2021-07-07T15:18:07.440Z"
   },
   {
    "duration": 173,
    "start_time": "2021-07-07T15:18:07.974Z"
   },
   {
    "duration": 84,
    "start_time": "2021-07-07T15:18:08.149Z"
   },
   {
    "duration": 3,
    "start_time": "2021-07-07T15:18:08.235Z"
   },
   {
    "duration": 30,
    "start_time": "2021-07-07T15:18:08.240Z"
   },
   {
    "duration": 22,
    "start_time": "2021-07-07T15:18:08.272Z"
   },
   {
    "duration": 11,
    "start_time": "2021-07-07T15:18:08.295Z"
   },
   {
    "duration": 11,
    "start_time": "2021-07-07T15:18:08.309Z"
   },
   {
    "duration": 40,
    "start_time": "2021-07-07T15:18:08.322Z"
   },
   {
    "duration": 42,
    "start_time": "2021-07-07T15:18:08.364Z"
   },
   {
    "duration": 22,
    "start_time": "2021-07-07T15:18:08.408Z"
   },
   {
    "duration": 5,
    "start_time": "2021-07-07T15:18:08.432Z"
   },
   {
    "duration": 13,
    "start_time": "2021-07-07T15:18:08.439Z"
   },
   {
    "duration": 9,
    "start_time": "2021-07-07T15:18:08.454Z"
   },
   {
    "duration": 32,
    "start_time": "2021-07-07T15:18:08.465Z"
   },
   {
    "duration": 10,
    "start_time": "2021-07-07T15:18:08.501Z"
   },
   {
    "duration": 7,
    "start_time": "2021-07-07T15:18:08.513Z"
   },
   {
    "duration": 11,
    "start_time": "2021-07-07T15:18:08.521Z"
   },
   {
    "duration": 17,
    "start_time": "2021-07-07T15:18:08.534Z"
   },
   {
    "duration": 44,
    "start_time": "2021-07-07T15:18:08.553Z"
   },
   {
    "duration": 22,
    "start_time": "2021-07-07T15:18:08.599Z"
   },
   {
    "duration": 61,
    "start_time": "2021-07-07T15:18:08.622Z"
   },
   {
    "duration": 7,
    "start_time": "2021-07-07T15:18:39.457Z"
   },
   {
    "duration": 5,
    "start_time": "2021-07-07T16:05:17.020Z"
   },
   {
    "duration": 5,
    "start_time": "2021-07-07T16:51:28.794Z"
   },
   {
    "duration": 546,
    "start_time": "2021-07-07T16:52:26.306Z"
   },
   {
    "duration": 203,
    "start_time": "2021-07-07T16:52:27.523Z"
   },
   {
    "duration": 85,
    "start_time": "2021-07-07T16:52:27.736Z"
   },
   {
    "duration": 4,
    "start_time": "2021-07-07T16:52:27.899Z"
   },
   {
    "duration": 25,
    "start_time": "2021-07-07T16:52:28.674Z"
   },
   {
    "duration": 8,
    "start_time": "2021-07-07T16:52:32.956Z"
   },
   {
    "duration": 18,
    "start_time": "2021-07-07T16:52:35.616Z"
   },
   {
    "duration": 6,
    "start_time": "2021-07-07T16:52:36.913Z"
   },
   {
    "duration": 11,
    "start_time": "2021-07-07T16:52:40.258Z"
   },
   {
    "duration": 10,
    "start_time": "2021-07-07T16:52:46.251Z"
   },
   {
    "duration": 8,
    "start_time": "2021-07-07T16:52:47.182Z"
   },
   {
    "duration": 27,
    "start_time": "2021-07-07T16:53:20.391Z"
   },
   {
    "duration": 20,
    "start_time": "2021-07-07T16:53:22.022Z"
   },
   {
    "duration": 23,
    "start_time": "2021-07-07T16:53:23.690Z"
   },
   {
    "duration": 8,
    "start_time": "2021-07-07T16:53:24.261Z"
   },
   {
    "duration": 4,
    "start_time": "2021-07-07T16:53:38.733Z"
   },
   {
    "duration": 7,
    "start_time": "2021-07-07T16:53:40.445Z"
   },
   {
    "duration": 11,
    "start_time": "2021-07-07T16:53:41.348Z"
   },
   {
    "duration": 13,
    "start_time": "2021-07-07T16:53:45.250Z"
   },
   {
    "duration": 12,
    "start_time": "2021-07-07T16:53:45.467Z"
   },
   {
    "duration": 4,
    "start_time": "2021-07-07T16:55:32.704Z"
   },
   {
    "duration": 12,
    "start_time": "2021-07-07T16:55:49.012Z"
   },
   {
    "duration": 18,
    "start_time": "2021-07-07T16:55:49.547Z"
   },
   {
    "duration": 611,
    "start_time": "2021-07-07T16:58:35.156Z"
   },
   {
    "duration": 200,
    "start_time": "2021-07-07T16:58:35.770Z"
   },
   {
    "duration": 86,
    "start_time": "2021-07-07T16:58:35.972Z"
   },
   {
    "duration": 3,
    "start_time": "2021-07-07T16:58:36.060Z"
   },
   {
    "duration": 27,
    "start_time": "2021-07-07T16:58:36.065Z"
   },
   {
    "duration": 8,
    "start_time": "2021-07-07T16:58:36.094Z"
   },
   {
    "duration": 17,
    "start_time": "2021-07-07T16:58:36.103Z"
   },
   {
    "duration": 5,
    "start_time": "2021-07-07T16:58:36.123Z"
   },
   {
    "duration": 11,
    "start_time": "2021-07-07T16:58:36.130Z"
   },
   {
    "duration": 7,
    "start_time": "2021-07-07T16:58:36.143Z"
   },
   {
    "duration": 37,
    "start_time": "2021-07-07T16:58:36.152Z"
   },
   {
    "duration": 27,
    "start_time": "2021-07-07T16:58:36.191Z"
   },
   {
    "duration": 19,
    "start_time": "2021-07-07T16:58:36.219Z"
   },
   {
    "duration": 49,
    "start_time": "2021-07-07T16:58:36.240Z"
   },
   {
    "duration": 6,
    "start_time": "2021-07-07T16:58:36.291Z"
   },
   {
    "duration": 3,
    "start_time": "2021-07-07T16:58:36.299Z"
   },
   {
    "duration": 13,
    "start_time": "2021-07-07T16:58:36.304Z"
   },
   {
    "duration": 10,
    "start_time": "2021-07-07T16:58:36.319Z"
   },
   {
    "duration": 10,
    "start_time": "2021-07-07T16:58:36.331Z"
   },
   {
    "duration": 44,
    "start_time": "2021-07-07T16:58:36.343Z"
   },
   {
    "duration": 4,
    "start_time": "2021-07-07T16:58:36.388Z"
   },
   {
    "duration": 13,
    "start_time": "2021-07-07T16:58:36.394Z"
   },
   {
    "duration": 16,
    "start_time": "2021-07-07T16:58:36.410Z"
   },
   {
    "duration": 8,
    "start_time": "2021-07-07T17:02:31.629Z"
   },
   {
    "duration": 8,
    "start_time": "2021-07-07T17:02:34.308Z"
   },
   {
    "duration": 6,
    "start_time": "2021-07-07T17:05:13.483Z"
   },
   {
    "duration": 17,
    "start_time": "2021-07-07T17:05:20.606Z"
   },
   {
    "duration": 7,
    "start_time": "2021-07-07T17:05:34.638Z"
   },
   {
    "duration": 3,
    "start_time": "2021-07-07T17:06:31.883Z"
   },
   {
    "duration": 570,
    "start_time": "2021-07-07T17:06:37.165Z"
   },
   {
    "duration": 174,
    "start_time": "2021-07-07T17:06:37.737Z"
   },
   {
    "duration": 47,
    "start_time": "2021-07-07T17:06:37.913Z"
   },
   {
    "duration": 3,
    "start_time": "2021-07-07T17:06:37.962Z"
   },
   {
    "duration": 27,
    "start_time": "2021-07-07T17:06:37.967Z"
   },
   {
    "duration": 7,
    "start_time": "2021-07-07T17:06:37.996Z"
   },
   {
    "duration": 16,
    "start_time": "2021-07-07T17:06:38.005Z"
   },
   {
    "duration": 6,
    "start_time": "2021-07-07T17:06:38.024Z"
   },
   {
    "duration": 12,
    "start_time": "2021-07-07T17:06:38.031Z"
   },
   {
    "duration": 41,
    "start_time": "2021-07-07T17:06:38.045Z"
   },
   {
    "duration": 8,
    "start_time": "2021-07-07T17:06:38.088Z"
   },
   {
    "duration": 26,
    "start_time": "2021-07-07T17:06:38.098Z"
   },
   {
    "duration": 17,
    "start_time": "2021-07-07T17:06:38.126Z"
   },
   {
    "duration": 43,
    "start_time": "2021-07-07T17:06:38.144Z"
   },
   {
    "duration": 6,
    "start_time": "2021-07-07T17:06:38.188Z"
   },
   {
    "duration": 5,
    "start_time": "2021-07-07T17:06:38.195Z"
   },
   {
    "duration": 9,
    "start_time": "2021-07-07T17:06:38.201Z"
   },
   {
    "duration": 12,
    "start_time": "2021-07-07T17:06:38.212Z"
   },
   {
    "duration": 11,
    "start_time": "2021-07-07T17:06:38.226Z"
   },
   {
    "duration": 47,
    "start_time": "2021-07-07T17:06:38.239Z"
   },
   {
    "duration": 4,
    "start_time": "2021-07-07T17:06:38.288Z"
   },
   {
    "duration": 13,
    "start_time": "2021-07-07T17:06:38.293Z"
   },
   {
    "duration": 5,
    "start_time": "2021-07-07T17:06:38.309Z"
   },
   {
    "duration": 18,
    "start_time": "2021-07-07T17:06:38.325Z"
   },
   {
    "duration": 20,
    "start_time": "2021-07-07T17:07:02.805Z"
   },
   {
    "duration": 19,
    "start_time": "2021-07-07T17:07:08.527Z"
   },
   {
    "duration": 19,
    "start_time": "2021-07-07T17:07:12.758Z"
   },
   {
    "duration": 22,
    "start_time": "2021-07-07T17:07:17.497Z"
   },
   {
    "duration": 19,
    "start_time": "2021-07-07T17:07:19.645Z"
   },
   {
    "duration": 10,
    "start_time": "2021-07-07T17:07:34.239Z"
   },
   {
    "duration": 17,
    "start_time": "2021-07-07T17:07:54.144Z"
   },
   {
    "duration": 14,
    "start_time": "2021-07-07T17:08:14.357Z"
   },
   {
    "duration": 616,
    "start_time": "2021-07-07T17:08:45.254Z"
   },
   {
    "duration": 178,
    "start_time": "2021-07-07T17:08:45.872Z"
   },
   {
    "duration": 60,
    "start_time": "2021-07-07T17:08:46.054Z"
   },
   {
    "duration": 3,
    "start_time": "2021-07-07T17:08:46.116Z"
   },
   {
    "duration": 26,
    "start_time": "2021-07-07T17:08:46.121Z"
   },
   {
    "duration": 7,
    "start_time": "2021-07-07T17:08:46.149Z"
   },
   {
    "duration": 17,
    "start_time": "2021-07-07T17:08:46.158Z"
   },
   {
    "duration": 14,
    "start_time": "2021-07-07T17:08:46.176Z"
   },
   {
    "duration": 17,
    "start_time": "2021-07-07T17:08:46.193Z"
   },
   {
    "duration": 9,
    "start_time": "2021-07-07T17:08:46.211Z"
   },
   {
    "duration": 21,
    "start_time": "2021-07-07T17:08:46.221Z"
   },
   {
    "duration": 49,
    "start_time": "2021-07-07T17:08:46.244Z"
   },
   {
    "duration": 24,
    "start_time": "2021-07-07T17:08:46.295Z"
   },
   {
    "duration": 22,
    "start_time": "2021-07-07T17:08:46.321Z"
   },
   {
    "duration": 6,
    "start_time": "2021-07-07T17:08:46.345Z"
   },
   {
    "duration": 5,
    "start_time": "2021-07-07T17:08:46.353Z"
   },
   {
    "duration": 13,
    "start_time": "2021-07-07T17:08:46.386Z"
   },
   {
    "duration": 12,
    "start_time": "2021-07-07T17:08:46.402Z"
   },
   {
    "duration": 10,
    "start_time": "2021-07-07T17:08:46.415Z"
   },
   {
    "duration": 7,
    "start_time": "2021-07-07T17:08:46.427Z"
   },
   {
    "duration": 8,
    "start_time": "2021-07-07T17:08:46.435Z"
   },
   {
    "duration": 68,
    "start_time": "2021-07-07T17:08:46.446Z"
   },
   {
    "duration": 13,
    "start_time": "2021-07-07T17:08:46.516Z"
   },
   {
    "duration": 78,
    "start_time": "2021-07-07T17:08:46.530Z"
   },
   {
    "duration": 40,
    "start_time": "2021-07-07T17:09:08.185Z"
   },
   {
    "duration": 16,
    "start_time": "2021-07-07T17:09:19.324Z"
   },
   {
    "duration": 21,
    "start_time": "2021-07-07T17:09:23.290Z"
   },
   {
    "duration": 13,
    "start_time": "2021-07-07T17:09:54.812Z"
   },
   {
    "duration": 13,
    "start_time": "2021-07-07T17:10:02.039Z"
   },
   {
    "duration": 10,
    "start_time": "2021-07-07T17:10:29.632Z"
   },
   {
    "duration": 13,
    "start_time": "2021-07-07T17:10:52.372Z"
   },
   {
    "duration": 13,
    "start_time": "2021-07-07T17:11:17.270Z"
   },
   {
    "duration": 13,
    "start_time": "2021-07-07T17:14:59.284Z"
   },
   {
    "duration": 547,
    "start_time": "2021-07-07T17:18:52.403Z"
   },
   {
    "duration": 163,
    "start_time": "2021-07-07T17:18:52.952Z"
   },
   {
    "duration": 44,
    "start_time": "2021-07-07T17:18:53.117Z"
   },
   {
    "duration": 3,
    "start_time": "2021-07-07T17:18:53.162Z"
   },
   {
    "duration": 26,
    "start_time": "2021-07-07T17:18:53.167Z"
   },
   {
    "duration": 6,
    "start_time": "2021-07-07T17:18:53.195Z"
   },
   {
    "duration": 15,
    "start_time": "2021-07-07T17:18:53.203Z"
   },
   {
    "duration": 5,
    "start_time": "2021-07-07T17:18:53.220Z"
   },
   {
    "duration": 11,
    "start_time": "2021-07-07T17:18:53.228Z"
   },
   {
    "duration": 9,
    "start_time": "2021-07-07T17:18:53.241Z"
   },
   {
    "duration": 41,
    "start_time": "2021-07-07T17:18:53.252Z"
   },
   {
    "duration": 33,
    "start_time": "2021-07-07T17:18:53.295Z"
   },
   {
    "duration": 19,
    "start_time": "2021-07-07T17:18:53.330Z"
   },
   {
    "duration": 49,
    "start_time": "2021-07-07T17:18:53.350Z"
   },
   {
    "duration": 5,
    "start_time": "2021-07-07T17:18:53.401Z"
   },
   {
    "duration": 5,
    "start_time": "2021-07-07T17:18:53.408Z"
   },
   {
    "duration": 11,
    "start_time": "2021-07-07T17:18:53.414Z"
   },
   {
    "duration": 9,
    "start_time": "2021-07-07T17:18:53.427Z"
   },
   {
    "duration": 10,
    "start_time": "2021-07-07T17:18:53.437Z"
   },
   {
    "duration": 39,
    "start_time": "2021-07-07T17:18:53.448Z"
   },
   {
    "duration": 26,
    "start_time": "2021-07-07T17:18:55.799Z"
   },
   {
    "duration": 598,
    "start_time": "2021-07-07T17:20:17.862Z"
   },
   {
    "duration": 161,
    "start_time": "2021-07-07T17:20:18.462Z"
   },
   {
    "duration": 45,
    "start_time": "2021-07-07T17:20:18.626Z"
   },
   {
    "duration": 4,
    "start_time": "2021-07-07T17:20:18.673Z"
   },
   {
    "duration": 38,
    "start_time": "2021-07-07T17:20:26.877Z"
   },
   {
    "duration": 7,
    "start_time": "2021-07-07T17:20:37.405Z"
   },
   {
    "duration": 19,
    "start_time": "2021-07-07T17:20:51.534Z"
   },
   {
    "duration": 5,
    "start_time": "2021-07-07T17:20:57.228Z"
   },
   {
    "duration": 7,
    "start_time": "2021-07-07T17:21:08.235Z"
   },
   {
    "duration": 19,
    "start_time": "2021-07-07T17:21:42.158Z"
   },
   {
    "duration": 14,
    "start_time": "2021-07-07T17:21:50.225Z"
   },
   {
    "duration": 22,
    "start_time": "2021-07-07T17:22:54.104Z"
   },
   {
    "duration": 5,
    "start_time": "2021-07-07T17:22:56.371Z"
   },
   {
    "duration": 14,
    "start_time": "2021-07-07T17:22:58.316Z"
   },
   {
    "duration": 5,
    "start_time": "2021-07-07T17:22:58.493Z"
   },
   {
    "duration": 35,
    "start_time": "2021-07-07T17:22:59.666Z"
   },
   {
    "duration": 6,
    "start_time": "2021-07-07T17:23:02.410Z"
   },
   {
    "duration": 611,
    "start_time": "2021-07-07T17:24:59.664Z"
   },
   {
    "duration": 178,
    "start_time": "2021-07-07T17:25:01.945Z"
   },
   {
    "duration": 47,
    "start_time": "2021-07-07T17:25:02.125Z"
   },
   {
    "duration": 2,
    "start_time": "2021-07-07T17:25:07.903Z"
   },
   {
    "duration": 254,
    "start_time": "2021-07-07T17:25:08.232Z"
   },
   {
    "duration": 182,
    "start_time": "2021-07-07T17:25:08.671Z"
   },
   {
    "duration": 6,
    "start_time": "2021-07-07T17:25:13.104Z"
   },
   {
    "duration": 36,
    "start_time": "2021-07-07T17:25:13.662Z"
   },
   {
    "duration": 7,
    "start_time": "2021-07-07T17:25:14.528Z"
   },
   {
    "duration": 24,
    "start_time": "2021-07-07T17:25:27.982Z"
   },
   {
    "duration": 3,
    "start_time": "2021-07-07T17:25:48.982Z"
   },
   {
    "duration": 165,
    "start_time": "2021-07-07T17:25:48.987Z"
   },
   {
    "duration": 50,
    "start_time": "2021-07-07T17:25:49.154Z"
   },
   {
    "duration": 4,
    "start_time": "2021-07-07T17:25:49.206Z"
   },
   {
    "duration": 26,
    "start_time": "2021-07-07T17:25:49.212Z"
   },
   {
    "duration": 7,
    "start_time": "2021-07-07T17:25:49.240Z"
   },
   {
    "duration": 16,
    "start_time": "2021-07-07T17:25:49.249Z"
   },
   {
    "duration": 22,
    "start_time": "2021-07-07T17:25:49.266Z"
   },
   {
    "duration": 16,
    "start_time": "2021-07-07T17:25:49.291Z"
   },
   {
    "duration": 9,
    "start_time": "2021-07-07T17:25:49.309Z"
   },
   {
    "duration": 7,
    "start_time": "2021-07-07T17:25:49.319Z"
   },
   {
    "duration": 28,
    "start_time": "2021-07-07T17:25:49.328Z"
   },
   {
    "duration": 44,
    "start_time": "2021-07-07T17:25:49.357Z"
   },
   {
    "duration": 22,
    "start_time": "2021-07-07T17:25:49.403Z"
   },
   {
    "duration": 7,
    "start_time": "2021-07-07T17:25:49.427Z"
   },
   {
    "duration": 3,
    "start_time": "2021-07-07T17:25:49.436Z"
   },
   {
    "duration": 44,
    "start_time": "2021-07-07T17:25:49.441Z"
   },
   {
    "duration": 12,
    "start_time": "2021-07-07T17:25:49.488Z"
   },
   {
    "duration": 13,
    "start_time": "2021-07-07T17:25:49.502Z"
   },
   {
    "duration": 10,
    "start_time": "2021-07-07T17:25:49.516Z"
   },
   {
    "duration": 62,
    "start_time": "2021-07-07T17:25:49.527Z"
   },
   {
    "duration": 26,
    "start_time": "2021-07-07T17:26:51.809Z"
   },
   {
    "duration": 26,
    "start_time": "2021-07-07T17:26:55.759Z"
   },
   {
    "duration": 26,
    "start_time": "2021-07-07T17:27:04.501Z"
   },
   {
    "duration": 25,
    "start_time": "2021-07-07T17:28:24.859Z"
   },
   {
    "duration": 21,
    "start_time": "2021-07-07T17:28:55.250Z"
   },
   {
    "duration": 21,
    "start_time": "2021-07-07T17:28:58.885Z"
   },
   {
    "duration": 7,
    "start_time": "2021-07-07T17:45:40.972Z"
   },
   {
    "duration": 13,
    "start_time": "2021-07-07T17:45:42.529Z"
   },
   {
    "duration": 27,
    "start_time": "2021-07-07T17:45:51.026Z"
   },
   {
    "duration": 518,
    "start_time": "2021-07-07T17:46:15.532Z"
   },
   {
    "duration": 235,
    "start_time": "2021-07-07T17:46:16.053Z"
   },
   {
    "duration": 80,
    "start_time": "2021-07-07T17:46:16.292Z"
   },
   {
    "duration": 5,
    "start_time": "2021-07-07T17:46:16.373Z"
   },
   {
    "duration": 26,
    "start_time": "2021-07-07T17:46:16.380Z"
   },
   {
    "duration": 7,
    "start_time": "2021-07-07T17:46:16.408Z"
   },
   {
    "duration": 16,
    "start_time": "2021-07-07T17:46:16.418Z"
   },
   {
    "duration": 5,
    "start_time": "2021-07-07T17:46:16.436Z"
   },
   {
    "duration": 13,
    "start_time": "2021-07-07T17:46:16.442Z"
   },
   {
    "duration": 35,
    "start_time": "2021-07-07T17:46:16.456Z"
   },
   {
    "duration": 8,
    "start_time": "2021-07-07T17:46:16.493Z"
   },
   {
    "duration": 28,
    "start_time": "2021-07-07T17:46:16.502Z"
   },
   {
    "duration": 17,
    "start_time": "2021-07-07T17:46:16.532Z"
   },
   {
    "duration": 44,
    "start_time": "2021-07-07T17:46:16.551Z"
   },
   {
    "duration": 6,
    "start_time": "2021-07-07T17:46:16.597Z"
   },
   {
    "duration": 4,
    "start_time": "2021-07-07T17:46:16.605Z"
   },
   {
    "duration": 9,
    "start_time": "2021-07-07T17:46:16.610Z"
   },
   {
    "duration": 9,
    "start_time": "2021-07-07T17:46:16.621Z"
   },
   {
    "duration": 10,
    "start_time": "2021-07-07T17:46:16.632Z"
   },
   {
    "duration": 43,
    "start_time": "2021-07-07T17:46:16.644Z"
   },
   {
    "duration": 26,
    "start_time": "2021-07-07T17:46:16.689Z"
   },
   {
    "duration": 19,
    "start_time": "2021-07-07T17:46:16.718Z"
   },
   {
    "duration": 8,
    "start_time": "2021-07-07T17:46:16.738Z"
   },
   {
    "duration": 43,
    "start_time": "2021-07-07T17:46:16.747Z"
   },
   {
    "duration": 19,
    "start_time": "2021-07-07T17:46:16.791Z"
   },
   {
    "duration": 9,
    "start_time": "2021-07-07T17:46:16.812Z"
   },
   {
    "duration": 60,
    "start_time": "2021-07-07T17:46:16.822Z"
   },
   {
    "duration": -8,
    "start_time": "2021-07-07T17:46:16.892Z"
   },
   {
    "duration": 12,
    "start_time": "2021-07-07T17:48:47.707Z"
   },
   {
    "duration": 553,
    "start_time": "2021-07-07T18:10:09.350Z"
   },
   {
    "duration": 230,
    "start_time": "2021-07-07T18:10:09.905Z"
   },
   {
    "duration": 97,
    "start_time": "2021-07-07T18:10:10.137Z"
   },
   {
    "duration": 5,
    "start_time": "2021-07-07T18:10:10.236Z"
   },
   {
    "duration": 29,
    "start_time": "2021-07-07T18:10:10.242Z"
   },
   {
    "duration": 7,
    "start_time": "2021-07-07T18:10:10.272Z"
   },
   {
    "duration": 15,
    "start_time": "2021-07-07T18:10:10.281Z"
   },
   {
    "duration": 4,
    "start_time": "2021-07-07T18:10:10.299Z"
   },
   {
    "duration": 14,
    "start_time": "2021-07-07T18:10:10.305Z"
   },
   {
    "duration": 8,
    "start_time": "2021-07-07T18:10:10.321Z"
   },
   {
    "duration": 8,
    "start_time": "2021-07-07T18:10:10.331Z"
   },
   {
    "duration": 56,
    "start_time": "2021-07-07T18:10:10.341Z"
   },
   {
    "duration": 19,
    "start_time": "2021-07-07T18:10:10.399Z"
   },
   {
    "duration": 23,
    "start_time": "2021-07-07T18:10:10.419Z"
   },
   {
    "duration": 6,
    "start_time": "2021-07-07T18:10:10.444Z"
   },
   {
    "duration": 9,
    "start_time": "2021-07-07T18:10:10.451Z"
   },
   {
    "duration": 30,
    "start_time": "2021-07-07T18:10:10.462Z"
   },
   {
    "duration": 9,
    "start_time": "2021-07-07T18:10:10.494Z"
   },
   {
    "duration": 14,
    "start_time": "2021-07-07T18:10:10.505Z"
   },
   {
    "duration": 7,
    "start_time": "2021-07-07T18:10:10.521Z"
   },
   {
    "duration": 26,
    "start_time": "2021-07-07T18:10:10.530Z"
   },
   {
    "duration": 44,
    "start_time": "2021-07-07T18:10:10.558Z"
   },
   {
    "duration": 7,
    "start_time": "2021-07-07T18:10:10.605Z"
   },
   {
    "duration": 11,
    "start_time": "2021-07-07T18:10:10.614Z"
   },
   {
    "duration": 19,
    "start_time": "2021-07-07T18:10:10.626Z"
   },
   {
    "duration": 44,
    "start_time": "2021-07-07T18:10:10.646Z"
   },
   {
    "duration": 516,
    "start_time": "2021-07-07T18:14:00.826Z"
   },
   {
    "duration": 230,
    "start_time": "2021-07-07T18:14:01.344Z"
   },
   {
    "duration": 105,
    "start_time": "2021-07-07T18:14:01.576Z"
   },
   {
    "duration": 5,
    "start_time": "2021-07-07T18:14:01.683Z"
   },
   {
    "duration": 46,
    "start_time": "2021-07-07T18:14:01.690Z"
   },
   {
    "duration": 7,
    "start_time": "2021-07-07T18:14:01.738Z"
   },
   {
    "duration": 20,
    "start_time": "2021-07-07T18:14:01.747Z"
   },
   {
    "duration": 16,
    "start_time": "2021-07-07T18:14:01.769Z"
   },
   {
    "duration": 14,
    "start_time": "2021-07-07T18:14:01.787Z"
   },
   {
    "duration": 15,
    "start_time": "2021-07-07T18:14:01.803Z"
   },
   {
    "duration": 12,
    "start_time": "2021-07-07T18:14:01.820Z"
   },
   {
    "duration": 35,
    "start_time": "2021-07-07T18:14:01.833Z"
   },
   {
    "duration": 31,
    "start_time": "2021-07-07T18:14:01.869Z"
   },
   {
    "duration": 37,
    "start_time": "2021-07-07T18:14:01.902Z"
   },
   {
    "duration": 8,
    "start_time": "2021-07-07T18:14:01.942Z"
   },
   {
    "duration": 16,
    "start_time": "2021-07-07T18:14:01.952Z"
   },
   {
    "duration": 13,
    "start_time": "2021-07-07T18:14:01.970Z"
   },
   {
    "duration": 32,
    "start_time": "2021-07-07T18:14:01.985Z"
   },
   {
    "duration": 11,
    "start_time": "2021-07-07T18:14:02.019Z"
   },
   {
    "duration": 22,
    "start_time": "2021-07-07T18:14:02.031Z"
   },
   {
    "duration": 27,
    "start_time": "2021-07-07T18:14:02.055Z"
   },
   {
    "duration": 18,
    "start_time": "2021-07-07T18:14:02.084Z"
   },
   {
    "duration": 18,
    "start_time": "2021-07-07T18:14:02.106Z"
   },
   {
    "duration": 11,
    "start_time": "2021-07-07T18:14:02.126Z"
   },
   {
    "duration": 21,
    "start_time": "2021-07-07T18:14:02.138Z"
   },
   {
    "duration": 32,
    "start_time": "2021-07-07T18:14:02.161Z"
   },
   {
    "duration": 28,
    "start_time": "2021-07-07T18:14:44.295Z"
   },
   {
    "duration": 6,
    "start_time": "2021-07-07T18:15:05.834Z"
   },
   {
    "duration": 511,
    "start_time": "2021-07-07T18:15:41.541Z"
   },
   {
    "duration": 183,
    "start_time": "2021-07-07T18:15:42.054Z"
   },
   {
    "duration": 50,
    "start_time": "2021-07-07T18:15:42.239Z"
   },
   {
    "duration": 5,
    "start_time": "2021-07-07T18:15:42.291Z"
   },
   {
    "duration": 48,
    "start_time": "2021-07-07T18:15:42.297Z"
   },
   {
    "duration": 8,
    "start_time": "2021-07-07T18:15:42.346Z"
   },
   {
    "duration": 17,
    "start_time": "2021-07-07T18:15:42.356Z"
   },
   {
    "duration": 15,
    "start_time": "2021-07-07T18:15:42.375Z"
   },
   {
    "duration": 12,
    "start_time": "2021-07-07T18:15:42.392Z"
   },
   {
    "duration": 7,
    "start_time": "2021-07-07T18:15:42.406Z"
   },
   {
    "duration": 7,
    "start_time": "2021-07-07T18:15:42.415Z"
   },
   {
    "duration": 29,
    "start_time": "2021-07-07T18:15:42.423Z"
   },
   {
    "duration": 43,
    "start_time": "2021-07-07T18:15:42.453Z"
   },
   {
    "duration": 18,
    "start_time": "2021-07-07T18:15:42.497Z"
   },
   {
    "duration": 6,
    "start_time": "2021-07-07T18:15:42.516Z"
   },
   {
    "duration": 3,
    "start_time": "2021-07-07T18:15:42.523Z"
   },
   {
    "duration": 18,
    "start_time": "2021-07-07T18:15:42.528Z"
   },
   {
    "duration": 10,
    "start_time": "2021-07-07T18:15:42.547Z"
   },
   {
    "duration": 36,
    "start_time": "2021-07-07T18:15:42.559Z"
   },
   {
    "duration": 8,
    "start_time": "2021-07-07T18:15:42.597Z"
   },
   {
    "duration": 28,
    "start_time": "2021-07-07T18:15:42.606Z"
   },
   {
    "duration": 52,
    "start_time": "2021-07-07T18:15:42.635Z"
   },
   {
    "duration": 7,
    "start_time": "2021-07-07T18:15:42.690Z"
   },
   {
    "duration": 10,
    "start_time": "2021-07-07T18:15:42.699Z"
   },
   {
    "duration": 19,
    "start_time": "2021-07-07T18:15:42.711Z"
   },
   {
    "duration": 9,
    "start_time": "2021-07-07T18:15:42.732Z"
   },
   {
    "duration": 5,
    "start_time": "2021-07-07T18:15:42.743Z"
   },
   {
    "duration": 1450,
    "start_time": "2021-07-07T18:15:51.984Z"
   },
   {
    "duration": 161,
    "start_time": "2021-07-07T18:15:53.435Z"
   },
   {
    "duration": 124,
    "start_time": "2021-07-07T18:15:53.598Z"
   },
   {
    "duration": 5,
    "start_time": "2021-07-07T18:15:53.724Z"
   },
   {
    "duration": 34,
    "start_time": "2021-07-07T18:15:53.730Z"
   },
   {
    "duration": 7,
    "start_time": "2021-07-07T18:15:53.765Z"
   },
   {
    "duration": 15,
    "start_time": "2021-07-07T18:15:53.773Z"
   },
   {
    "duration": 5,
    "start_time": "2021-07-07T18:15:53.791Z"
   },
   {
    "duration": 19,
    "start_time": "2021-07-07T18:15:53.798Z"
   },
   {
    "duration": 9,
    "start_time": "2021-07-07T18:15:53.818Z"
   },
   {
    "duration": 19,
    "start_time": "2021-07-07T18:15:53.828Z"
   },
   {
    "duration": 27,
    "start_time": "2021-07-07T18:15:53.848Z"
   },
   {
    "duration": 16,
    "start_time": "2021-07-07T18:15:53.884Z"
   },
   {
    "duration": 29,
    "start_time": "2021-07-07T18:15:53.901Z"
   },
   {
    "duration": 5,
    "start_time": "2021-07-07T18:15:53.932Z"
   },
   {
    "duration": 15,
    "start_time": "2021-07-07T18:15:53.939Z"
   },
   {
    "duration": 13,
    "start_time": "2021-07-07T18:15:53.956Z"
   },
   {
    "duration": 20,
    "start_time": "2021-07-07T18:15:53.971Z"
   },
   {
    "duration": 14,
    "start_time": "2021-07-07T18:15:53.992Z"
   },
   {
    "duration": 9,
    "start_time": "2021-07-07T18:15:54.009Z"
   },
   {
    "duration": 28,
    "start_time": "2021-07-07T18:15:54.020Z"
   },
   {
    "duration": 50,
    "start_time": "2021-07-07T18:15:54.051Z"
   },
   {
    "duration": 8,
    "start_time": "2021-07-07T18:15:54.105Z"
   },
   {
    "duration": 11,
    "start_time": "2021-07-07T18:15:54.115Z"
   },
   {
    "duration": 20,
    "start_time": "2021-07-07T18:15:54.128Z"
   },
   {
    "duration": 13,
    "start_time": "2021-07-07T18:15:54.184Z"
   },
   {
    "duration": 7,
    "start_time": "2021-07-07T18:15:54.199Z"
   },
   {
    "duration": 7,
    "start_time": "2021-07-07T18:17:08.042Z"
   },
   {
    "duration": 8,
    "start_time": "2021-07-07T18:17:21.008Z"
   },
   {
    "duration": 7,
    "start_time": "2021-07-07T18:17:29.003Z"
   },
   {
    "duration": 8,
    "start_time": "2021-07-07T18:17:32.492Z"
   },
   {
    "duration": 9,
    "start_time": "2021-07-07T18:17:41.758Z"
   },
   {
    "duration": 255,
    "start_time": "2021-07-07T18:20:20.897Z"
   },
   {
    "duration": 173,
    "start_time": "2021-07-07T18:20:26.636Z"
   },
   {
    "duration": 7,
    "start_time": "2021-07-07T18:21:47.164Z"
   },
   {
    "duration": 254,
    "start_time": "2021-07-07T18:23:08.703Z"
   },
   {
    "duration": 21,
    "start_time": "2021-07-07T18:23:22.506Z"
   },
   {
    "duration": 315,
    "start_time": "2021-07-07T18:25:54.801Z"
   },
   {
    "duration": 34,
    "start_time": "2021-07-07T18:26:51.817Z"
   },
   {
    "duration": 327,
    "start_time": "2021-07-07T18:26:56.147Z"
   },
   {
    "duration": 342,
    "start_time": "2021-07-07T18:27:15.887Z"
   },
   {
    "duration": 302,
    "start_time": "2021-07-07T18:28:18.569Z"
   },
   {
    "duration": 226,
    "start_time": "2021-07-07T18:29:20.879Z"
   },
   {
    "duration": 207,
    "start_time": "2021-07-07T18:29:58.114Z"
   },
   {
    "duration": 140,
    "start_time": "2021-07-07T18:32:04.372Z"
   },
   {
    "duration": 158,
    "start_time": "2021-07-07T18:32:32.508Z"
   },
   {
    "duration": 145,
    "start_time": "2021-07-07T18:32:41.365Z"
   },
   {
    "duration": 132,
    "start_time": "2021-07-07T18:32:45.199Z"
   },
   {
    "duration": 11,
    "start_time": "2021-07-07T18:35:24.679Z"
   },
   {
    "duration": 268,
    "start_time": "2021-07-07T18:36:16.145Z"
   },
   {
    "duration": 227,
    "start_time": "2021-07-07T18:37:04.918Z"
   },
   {
    "duration": 3,
    "start_time": "2021-07-07T18:37:33.012Z"
   },
   {
    "duration": 671,
    "start_time": "2021-07-07T18:37:38.295Z"
   },
   {
    "duration": 54,
    "start_time": "2021-07-07T18:37:53.406Z"
   },
   {
    "duration": 631,
    "start_time": "2021-07-07T18:37:56.463Z"
   },
   {
    "duration": 19,
    "start_time": "2021-07-07T18:39:40.535Z"
   },
   {
    "duration": 20,
    "start_time": "2021-07-07T18:40:12.236Z"
   },
   {
    "duration": 633,
    "start_time": "2021-07-07T18:42:00.398Z"
   },
   {
    "duration": 218,
    "start_time": "2021-07-07T18:42:01.033Z"
   },
   {
    "duration": 49,
    "start_time": "2021-07-07T18:42:01.253Z"
   },
   {
    "duration": 5,
    "start_time": "2021-07-07T18:42:01.303Z"
   },
   {
    "duration": 27,
    "start_time": "2021-07-07T18:42:01.310Z"
   },
   {
    "duration": 8,
    "start_time": "2021-07-07T18:42:01.339Z"
   },
   {
    "duration": 20,
    "start_time": "2021-07-07T18:42:01.348Z"
   },
   {
    "duration": 6,
    "start_time": "2021-07-07T18:42:01.386Z"
   },
   {
    "duration": 16,
    "start_time": "2021-07-07T18:42:01.394Z"
   },
   {
    "duration": 9,
    "start_time": "2021-07-07T18:42:01.411Z"
   },
   {
    "duration": 11,
    "start_time": "2021-07-07T18:42:01.421Z"
   },
   {
    "duration": 31,
    "start_time": "2021-07-07T18:42:01.434Z"
   },
   {
    "duration": 18,
    "start_time": "2021-07-07T18:42:01.485Z"
   },
   {
    "duration": 23,
    "start_time": "2021-07-07T18:42:01.505Z"
   },
   {
    "duration": 6,
    "start_time": "2021-07-07T18:42:01.530Z"
   },
   {
    "duration": 10,
    "start_time": "2021-07-07T18:42:01.538Z"
   },
   {
    "duration": 13,
    "start_time": "2021-07-07T18:42:01.550Z"
   },
   {
    "duration": 24,
    "start_time": "2021-07-07T18:42:01.564Z"
   },
   {
    "duration": 20,
    "start_time": "2021-07-07T18:42:01.590Z"
   },
   {
    "duration": 8,
    "start_time": "2021-07-07T18:42:01.611Z"
   },
   {
    "duration": 31,
    "start_time": "2021-07-07T18:42:01.620Z"
   },
   {
    "duration": 39,
    "start_time": "2021-07-07T18:42:01.653Z"
   },
   {
    "duration": 8,
    "start_time": "2021-07-07T18:42:01.696Z"
   },
   {
    "duration": 13,
    "start_time": "2021-07-07T18:42:01.705Z"
   },
   {
    "duration": 20,
    "start_time": "2021-07-07T18:42:01.720Z"
   },
   {
    "duration": 12,
    "start_time": "2021-07-07T18:42:01.741Z"
   },
   {
    "duration": 35,
    "start_time": "2021-07-07T18:42:01.755Z"
   },
   {
    "duration": 14,
    "start_time": "2021-07-07T18:42:01.792Z"
   },
   {
    "duration": 188,
    "start_time": "2021-07-07T18:42:01.808Z"
   },
   {
    "duration": 19,
    "start_time": "2021-07-07T18:42:01.998Z"
   },
   {
    "duration": 175,
    "start_time": "2021-07-07T18:42:02.019Z"
   },
   {
    "duration": 134,
    "start_time": "2021-07-07T18:42:02.196Z"
   },
   {
    "duration": 10,
    "start_time": "2021-07-07T18:42:02.331Z"
   },
   {
    "duration": 19,
    "start_time": "2021-07-07T18:42:02.343Z"
   },
   {
    "duration": 628,
    "start_time": "2021-07-07T18:46:30.701Z"
   },
   {
    "duration": 183,
    "start_time": "2021-07-07T18:46:31.331Z"
   },
   {
    "duration": 48,
    "start_time": "2021-07-07T18:46:31.516Z"
   },
   {
    "duration": 5,
    "start_time": "2021-07-07T18:46:31.566Z"
   },
   {
    "duration": 28,
    "start_time": "2021-07-07T18:46:31.572Z"
   },
   {
    "duration": 8,
    "start_time": "2021-07-07T18:46:31.602Z"
   },
   {
    "duration": 19,
    "start_time": "2021-07-07T18:46:31.611Z"
   },
   {
    "duration": 6,
    "start_time": "2021-07-07T18:46:31.633Z"
   },
   {
    "duration": 17,
    "start_time": "2021-07-07T18:46:31.642Z"
   },
   {
    "duration": 10,
    "start_time": "2021-07-07T18:46:31.684Z"
   },
   {
    "duration": 9,
    "start_time": "2021-07-07T18:46:31.695Z"
   },
   {
    "duration": 28,
    "start_time": "2021-07-07T18:46:31.705Z"
   },
   {
    "duration": 18,
    "start_time": "2021-07-07T18:46:31.735Z"
   },
   {
    "duration": 48,
    "start_time": "2021-07-07T18:46:31.755Z"
   },
   {
    "duration": 6,
    "start_time": "2021-07-07T18:46:31.804Z"
   },
   {
    "duration": 4,
    "start_time": "2021-07-07T18:46:31.812Z"
   },
   {
    "duration": 9,
    "start_time": "2021-07-07T18:46:31.817Z"
   },
   {
    "duration": 10,
    "start_time": "2021-07-07T18:46:31.827Z"
   },
   {
    "duration": 12,
    "start_time": "2021-07-07T18:46:31.838Z"
   },
   {
    "duration": 39,
    "start_time": "2021-07-07T18:46:31.851Z"
   },
   {
    "duration": 24,
    "start_time": "2021-07-07T18:46:31.892Z"
   },
   {
    "duration": 15,
    "start_time": "2021-07-07T18:46:31.918Z"
   },
   {
    "duration": 7,
    "start_time": "2021-07-07T18:46:31.936Z"
   },
   {
    "duration": 8,
    "start_time": "2021-07-07T18:46:31.944Z"
   },
   {
    "duration": 19,
    "start_time": "2021-07-07T18:46:31.984Z"
   },
   {
    "duration": 10,
    "start_time": "2021-07-07T18:46:32.004Z"
   },
   {
    "duration": 5,
    "start_time": "2021-07-07T18:46:32.016Z"
   },
   {
    "duration": 9,
    "start_time": "2021-07-07T18:46:32.023Z"
   },
   {
    "duration": 199,
    "start_time": "2021-07-07T18:46:32.033Z"
   },
   {
    "duration": 19,
    "start_time": "2021-07-07T18:46:32.234Z"
   },
   {
    "duration": 159,
    "start_time": "2021-07-07T18:46:32.255Z"
   },
   {
    "duration": 134,
    "start_time": "2021-07-07T18:46:32.416Z"
   },
   {
    "duration": 10,
    "start_time": "2021-07-07T18:46:32.552Z"
   },
   {
    "duration": 34,
    "start_time": "2021-07-07T18:46:32.563Z"
   },
   {
    "duration": 1039,
    "start_time": "2021-07-08T08:41:09.419Z"
   },
   {
    "duration": 333,
    "start_time": "2021-07-08T08:41:10.459Z"
   },
   {
    "duration": 173,
    "start_time": "2021-07-08T08:41:10.794Z"
   },
   {
    "duration": 5,
    "start_time": "2021-07-08T08:41:10.968Z"
   },
   {
    "duration": 25,
    "start_time": "2021-07-08T08:41:10.975Z"
   },
   {
    "duration": 9,
    "start_time": "2021-07-08T08:41:11.002Z"
   },
   {
    "duration": 18,
    "start_time": "2021-07-08T08:41:11.013Z"
   },
   {
    "duration": 6,
    "start_time": "2021-07-08T08:41:11.033Z"
   },
   {
    "duration": 44,
    "start_time": "2021-07-08T08:41:11.042Z"
   },
   {
    "duration": 10,
    "start_time": "2021-07-08T08:41:11.088Z"
   },
   {
    "duration": 9,
    "start_time": "2021-07-08T08:41:11.100Z"
   },
   {
    "duration": 27,
    "start_time": "2021-07-08T08:41:11.111Z"
   },
   {
    "duration": 46,
    "start_time": "2021-07-08T08:41:11.140Z"
   },
   {
    "duration": 17,
    "start_time": "2021-07-08T08:41:11.187Z"
   },
   {
    "duration": 6,
    "start_time": "2021-07-08T08:41:11.206Z"
   },
   {
    "duration": 5,
    "start_time": "2021-07-08T08:41:11.213Z"
   },
   {
    "duration": 10,
    "start_time": "2021-07-08T08:41:11.219Z"
   },
   {
    "duration": 9,
    "start_time": "2021-07-08T08:41:11.230Z"
   },
   {
    "duration": 45,
    "start_time": "2021-07-08T08:41:11.241Z"
   },
   {
    "duration": 7,
    "start_time": "2021-07-08T08:41:11.287Z"
   },
   {
    "duration": 24,
    "start_time": "2021-07-08T08:41:11.296Z"
   },
   {
    "duration": 16,
    "start_time": "2021-07-08T08:41:11.322Z"
   },
   {
    "duration": 7,
    "start_time": "2021-07-08T08:41:11.341Z"
   },
   {
    "duration": 41,
    "start_time": "2021-07-08T08:41:11.349Z"
   },
   {
    "duration": 17,
    "start_time": "2021-07-08T08:41:11.391Z"
   },
   {
    "duration": 9,
    "start_time": "2021-07-08T08:41:11.410Z"
   },
   {
    "duration": 5,
    "start_time": "2021-07-08T08:41:11.421Z"
   },
   {
    "duration": 6,
    "start_time": "2021-07-08T08:41:11.428Z"
   },
   {
    "duration": 198,
    "start_time": "2021-07-08T08:41:11.435Z"
   },
   {
    "duration": 18,
    "start_time": "2021-07-08T08:41:11.635Z"
   },
   {
    "duration": 155,
    "start_time": "2021-07-08T08:41:11.655Z"
   },
   {
    "duration": 138,
    "start_time": "2021-07-08T08:41:11.811Z"
   },
   {
    "duration": 10,
    "start_time": "2021-07-08T08:41:11.950Z"
   },
   {
    "duration": 29,
    "start_time": "2021-07-08T08:41:11.961Z"
   },
   {
    "duration": 171,
    "start_time": "2021-07-08T08:47:44.522Z"
   },
   {
    "duration": 124,
    "start_time": "2021-07-08T08:47:46.872Z"
   },
   {
    "duration": 191,
    "start_time": "2021-07-08T08:47:58.148Z"
   },
   {
    "duration": 191,
    "start_time": "2021-07-08T08:48:07.412Z"
   },
   {
    "duration": 261,
    "start_time": "2021-07-08T08:48:10.385Z"
   },
   {
    "duration": 255,
    "start_time": "2021-07-08T08:48:14.494Z"
   },
   {
    "duration": 219,
    "start_time": "2021-07-08T08:48:22.752Z"
   },
   {
    "duration": 173,
    "start_time": "2021-07-08T08:49:06.395Z"
   },
   {
    "duration": 180,
    "start_time": "2021-07-08T08:49:21.011Z"
   },
   {
    "duration": 6,
    "start_time": "2021-07-08T08:50:31.697Z"
   },
   {
    "duration": 10,
    "start_time": "2021-07-08T08:50:47.394Z"
   },
   {
    "duration": 11,
    "start_time": "2021-07-08T08:53:49.332Z"
   },
   {
    "duration": 171,
    "start_time": "2021-07-08T08:54:28.408Z"
   },
   {
    "duration": 636,
    "start_time": "2021-07-08T09:02:48.385Z"
   },
   {
    "duration": 227,
    "start_time": "2021-07-08T09:02:49.023Z"
   },
   {
    "duration": 104,
    "start_time": "2021-07-08T09:02:49.252Z"
   },
   {
    "duration": 5,
    "start_time": "2021-07-08T09:02:49.358Z"
   },
   {
    "duration": 27,
    "start_time": "2021-07-08T09:02:49.365Z"
   },
   {
    "duration": 8,
    "start_time": "2021-07-08T09:02:49.394Z"
   },
   {
    "duration": 18,
    "start_time": "2021-07-08T09:02:49.404Z"
   },
   {
    "duration": 6,
    "start_time": "2021-07-08T09:02:49.424Z"
   },
   {
    "duration": 11,
    "start_time": "2021-07-08T09:02:49.433Z"
   },
   {
    "duration": 13,
    "start_time": "2021-07-08T09:02:49.485Z"
   },
   {
    "duration": 9,
    "start_time": "2021-07-08T09:02:49.500Z"
   },
   {
    "duration": 38,
    "start_time": "2021-07-08T09:02:49.511Z"
   },
   {
    "duration": 42,
    "start_time": "2021-07-08T09:02:49.551Z"
   },
   {
    "duration": 21,
    "start_time": "2021-07-08T09:02:49.594Z"
   },
   {
    "duration": 6,
    "start_time": "2021-07-08T09:02:49.616Z"
   },
   {
    "duration": 3,
    "start_time": "2021-07-08T09:02:49.623Z"
   },
   {
    "duration": 9,
    "start_time": "2021-07-08T09:02:49.628Z"
   },
   {
    "duration": 52,
    "start_time": "2021-07-08T09:02:49.638Z"
   },
   {
    "duration": 11,
    "start_time": "2021-07-08T09:02:49.692Z"
   },
   {
    "duration": 8,
    "start_time": "2021-07-08T09:02:49.704Z"
   },
   {
    "duration": 27,
    "start_time": "2021-07-08T09:02:49.713Z"
   },
   {
    "duration": 59,
    "start_time": "2021-07-08T09:02:49.741Z"
   },
   {
    "duration": 8,
    "start_time": "2021-07-08T09:02:49.803Z"
   },
   {
    "duration": 14,
    "start_time": "2021-07-08T09:02:49.813Z"
   },
   {
    "duration": 20,
    "start_time": "2021-07-08T09:02:49.829Z"
   },
   {
    "duration": 44,
    "start_time": "2021-07-08T09:02:49.851Z"
   },
   {
    "duration": 14,
    "start_time": "2021-07-08T09:02:49.896Z"
   },
   {
    "duration": 221,
    "start_time": "2021-07-08T09:02:49.912Z"
   },
   {
    "duration": 6,
    "start_time": "2021-07-08T09:02:50.134Z"
   },
   {
    "duration": 206,
    "start_time": "2021-07-08T09:02:50.142Z"
   },
   {
    "duration": 19,
    "start_time": "2021-07-08T09:02:50.350Z"
   },
   {
    "duration": 21,
    "start_time": "2021-07-08T09:02:50.370Z"
   },
   {
    "duration": 20,
    "start_time": "2021-07-08T09:02:50.393Z"
   },
   {
    "duration": 5,
    "start_time": "2021-07-08T09:02:50.414Z"
   },
   {
    "duration": 5,
    "start_time": "2021-07-08T09:03:34.173Z"
   },
   {
    "duration": 6,
    "start_time": "2021-07-08T09:04:49.062Z"
   },
   {
    "duration": 9,
    "start_time": "2021-07-08T09:04:50.118Z"
   },
   {
    "duration": 14,
    "start_time": "2021-07-08T09:04:58.512Z"
   },
   {
    "duration": 9,
    "start_time": "2021-07-08T09:05:10.988Z"
   },
   {
    "duration": 11,
    "start_time": "2021-07-08T09:05:11.743Z"
   },
   {
    "duration": 7,
    "start_time": "2021-07-08T09:05:25.677Z"
   },
   {
    "duration": 13,
    "start_time": "2021-07-08T09:05:47.189Z"
   },
   {
    "duration": 13,
    "start_time": "2021-07-08T09:05:54.755Z"
   },
   {
    "duration": 4,
    "start_time": "2021-07-08T09:06:29.189Z"
   },
   {
    "duration": 244,
    "start_time": "2021-07-08T09:06:29.195Z"
   },
   {
    "duration": 91,
    "start_time": "2021-07-08T09:06:29.441Z"
   },
   {
    "duration": 4,
    "start_time": "2021-07-08T09:06:29.534Z"
   },
   {
    "duration": 28,
    "start_time": "2021-07-08T09:06:29.540Z"
   },
   {
    "duration": 6,
    "start_time": "2021-07-08T09:06:29.570Z"
   },
   {
    "duration": 18,
    "start_time": "2021-07-08T09:06:29.578Z"
   },
   {
    "duration": 5,
    "start_time": "2021-07-08T09:06:29.597Z"
   },
   {
    "duration": 13,
    "start_time": "2021-07-08T09:06:29.605Z"
   },
   {
    "duration": 8,
    "start_time": "2021-07-08T09:06:29.620Z"
   },
   {
    "duration": 7,
    "start_time": "2021-07-08T09:06:29.630Z"
   },
   {
    "duration": 63,
    "start_time": "2021-07-08T09:06:29.639Z"
   },
   {
    "duration": 17,
    "start_time": "2021-07-08T09:06:29.704Z"
   },
   {
    "duration": 20,
    "start_time": "2021-07-08T09:06:29.723Z"
   },
   {
    "duration": 6,
    "start_time": "2021-07-08T09:06:29.745Z"
   },
   {
    "duration": 3,
    "start_time": "2021-07-08T09:06:29.752Z"
   },
   {
    "duration": 7,
    "start_time": "2021-07-08T09:06:29.785Z"
   },
   {
    "duration": 11,
    "start_time": "2021-07-08T09:06:29.794Z"
   },
   {
    "duration": 15,
    "start_time": "2021-07-08T09:06:29.807Z"
   },
   {
    "duration": 8,
    "start_time": "2021-07-08T09:06:29.823Z"
   },
   {
    "duration": 70,
    "start_time": "2021-07-08T09:06:29.832Z"
   },
   {
    "duration": 17,
    "start_time": "2021-07-08T09:06:29.903Z"
   },
   {
    "duration": 9,
    "start_time": "2021-07-08T09:06:29.921Z"
   },
   {
    "duration": 9,
    "start_time": "2021-07-08T09:06:29.932Z"
   },
   {
    "duration": 57,
    "start_time": "2021-07-08T09:06:29.942Z"
   },
   {
    "duration": 11,
    "start_time": "2021-07-08T09:06:30.001Z"
   },
   {
    "duration": 19,
    "start_time": "2021-07-08T09:06:30.016Z"
   },
   {
    "duration": 217,
    "start_time": "2021-07-08T09:06:30.037Z"
   },
   {
    "duration": 6,
    "start_time": "2021-07-08T09:06:30.255Z"
   },
   {
    "duration": 205,
    "start_time": "2021-07-08T09:06:30.263Z"
   },
   {
    "duration": 27,
    "start_time": "2021-07-08T09:06:30.470Z"
   },
   {
    "duration": 11,
    "start_time": "2021-07-08T09:06:30.500Z"
   },
   {
    "duration": 31,
    "start_time": "2021-07-08T09:06:30.513Z"
   },
   {
    "duration": 18,
    "start_time": "2021-07-08T09:06:30.546Z"
   },
   {
    "duration": 11,
    "start_time": "2021-07-08T09:06:30.566Z"
   },
   {
    "duration": 19,
    "start_time": "2021-07-08T09:06:30.579Z"
   },
   {
    "duration": 20,
    "start_time": "2021-07-08T09:06:49.466Z"
   },
   {
    "duration": 9,
    "start_time": "2021-07-08T09:06:51.994Z"
   },
   {
    "duration": 20,
    "start_time": "2021-07-08T09:06:52.273Z"
   },
   {
    "duration": 246,
    "start_time": "2021-07-08T09:10:21.272Z"
   },
   {
    "duration": 84,
    "start_time": "2021-07-08T09:10:21.436Z"
   },
   {
    "duration": 7,
    "start_time": "2021-07-08T09:10:37.608Z"
   },
   {
    "duration": 189,
    "start_time": "2021-07-08T09:10:38.573Z"
   },
   {
    "duration": 185,
    "start_time": "2021-07-08T09:10:53.181Z"
   },
   {
    "duration": 11,
    "start_time": "2021-07-08T09:10:59.549Z"
   },
   {
    "duration": 42,
    "start_time": "2021-07-08T09:10:59.709Z"
   },
   {
    "duration": 12,
    "start_time": "2021-07-08T09:11:02.857Z"
   },
   {
    "duration": 28,
    "start_time": "2021-07-08T09:11:10.062Z"
   },
   {
    "duration": 249,
    "start_time": "2021-07-08T09:11:37.388Z"
   },
   {
    "duration": 232,
    "start_time": "2021-07-08T09:11:49.485Z"
   },
   {
    "duration": 453,
    "start_time": "2021-07-08T09:12:01.546Z"
   },
   {
    "duration": 440,
    "start_time": "2021-07-08T09:12:12.347Z"
   },
   {
    "duration": 213,
    "start_time": "2021-07-08T09:13:32.196Z"
   },
   {
    "duration": 172,
    "start_time": "2021-07-08T09:14:07.400Z"
   },
   {
    "duration": 185,
    "start_time": "2021-07-08T09:14:14.905Z"
   },
   {
    "duration": 209,
    "start_time": "2021-07-08T09:14:40.109Z"
   },
   {
    "duration": 201,
    "start_time": "2021-07-08T09:14:54.506Z"
   },
   {
    "duration": 622,
    "start_time": "2021-07-08T09:18:14.497Z"
   },
   {
    "duration": 220,
    "start_time": "2021-07-08T09:18:15.121Z"
   },
   {
    "duration": 79,
    "start_time": "2021-07-08T09:18:15.343Z"
   },
   {
    "duration": 4,
    "start_time": "2021-07-08T09:18:15.425Z"
   },
   {
    "duration": 24,
    "start_time": "2021-07-08T09:18:15.431Z"
   },
   {
    "duration": 8,
    "start_time": "2021-07-08T09:18:15.457Z"
   },
   {
    "duration": 16,
    "start_time": "2021-07-08T09:18:15.466Z"
   },
   {
    "duration": 5,
    "start_time": "2021-07-08T09:18:15.484Z"
   },
   {
    "duration": 10,
    "start_time": "2021-07-08T09:18:15.493Z"
   },
   {
    "duration": 8,
    "start_time": "2021-07-08T09:18:15.504Z"
   },
   {
    "duration": 7,
    "start_time": "2021-07-08T09:18:15.513Z"
   },
   {
    "duration": 26,
    "start_time": "2021-07-08T09:18:15.522Z"
   },
   {
    "duration": 49,
    "start_time": "2021-07-08T09:18:15.550Z"
   },
   {
    "duration": 21,
    "start_time": "2021-07-08T09:18:15.601Z"
   },
   {
    "duration": 8,
    "start_time": "2021-07-08T09:18:15.624Z"
   },
   {
    "duration": 3,
    "start_time": "2021-07-08T09:18:15.634Z"
   },
   {
    "duration": 8,
    "start_time": "2021-07-08T09:18:15.639Z"
   },
   {
    "duration": 45,
    "start_time": "2021-07-08T09:18:15.649Z"
   },
   {
    "duration": 13,
    "start_time": "2021-07-08T09:18:15.696Z"
   },
   {
    "duration": 10,
    "start_time": "2021-07-08T09:18:15.711Z"
   },
   {
    "duration": 64,
    "start_time": "2021-07-08T09:18:15.722Z"
   },
   {
    "duration": 19,
    "start_time": "2021-07-08T09:18:15.788Z"
   },
   {
    "duration": 9,
    "start_time": "2021-07-08T09:18:15.809Z"
   },
   {
    "duration": 9,
    "start_time": "2021-07-08T09:18:15.820Z"
   },
   {
    "duration": 18,
    "start_time": "2021-07-08T09:18:15.831Z"
   },
   {
    "duration": 43,
    "start_time": "2021-07-08T09:18:15.851Z"
   },
   {
    "duration": 12,
    "start_time": "2021-07-08T09:18:15.897Z"
   },
   {
    "duration": 219,
    "start_time": "2021-07-08T09:18:15.911Z"
   },
   {
    "duration": 8,
    "start_time": "2021-07-08T09:18:16.132Z"
   },
   {
    "duration": 199,
    "start_time": "2021-07-08T09:18:16.141Z"
   },
   {
    "duration": 18,
    "start_time": "2021-07-08T09:18:16.341Z"
   },
   {
    "duration": 24,
    "start_time": "2021-07-08T09:18:16.361Z"
   },
   {
    "duration": 24,
    "start_time": "2021-07-08T09:18:16.387Z"
   },
   {
    "duration": 211,
    "start_time": "2021-07-08T09:18:16.413Z"
   },
   {
    "duration": 18,
    "start_time": "2021-07-08T09:18:16.626Z"
   },
   {
    "duration": 596,
    "start_time": "2021-07-08T10:06:33.623Z"
   },
   {
    "duration": 181,
    "start_time": "2021-07-08T10:06:34.221Z"
   },
   {
    "duration": 176,
    "start_time": "2021-07-08T10:06:34.635Z"
   },
   {
    "duration": 239,
    "start_time": "2021-07-08T10:06:55.572Z"
   },
   {
    "duration": 6,
    "start_time": "2021-07-08T10:06:57.687Z"
   },
   {
    "duration": 4,
    "start_time": "2021-07-08T10:07:03.956Z"
   },
   {
    "duration": 4,
    "start_time": "2021-07-08T10:07:10.376Z"
   },
   {
    "duration": 4,
    "start_time": "2021-07-08T10:17:19.889Z"
   },
   {
    "duration": 3,
    "start_time": "2021-07-08T10:19:19.407Z"
   },
   {
    "duration": 197,
    "start_time": "2021-07-08T10:19:19.412Z"
   },
   {
    "duration": 127,
    "start_time": "2021-07-08T10:19:19.611Z"
   },
   {
    "duration": 4,
    "start_time": "2021-07-08T10:19:19.740Z"
   },
   {
    "duration": 27,
    "start_time": "2021-07-08T10:19:19.746Z"
   },
   {
    "duration": 7,
    "start_time": "2021-07-08T10:19:19.775Z"
   },
   {
    "duration": 30,
    "start_time": "2021-07-08T10:19:19.784Z"
   },
   {
    "duration": 7,
    "start_time": "2021-07-08T10:19:19.817Z"
   },
   {
    "duration": 26,
    "start_time": "2021-07-08T10:19:19.826Z"
   },
   {
    "duration": 18,
    "start_time": "2021-07-08T10:19:19.854Z"
   },
   {
    "duration": 14,
    "start_time": "2021-07-08T10:19:19.874Z"
   },
   {
    "duration": 48,
    "start_time": "2021-07-08T10:19:19.890Z"
   },
   {
    "duration": 17,
    "start_time": "2021-07-08T10:19:19.940Z"
   },
   {
    "duration": 38,
    "start_time": "2021-07-08T10:19:19.959Z"
   },
   {
    "duration": 8,
    "start_time": "2021-07-08T10:19:19.999Z"
   },
   {
    "duration": 15,
    "start_time": "2021-07-08T10:19:20.009Z"
   },
   {
    "duration": 22,
    "start_time": "2021-07-08T10:19:20.026Z"
   },
   {
    "duration": 10,
    "start_time": "2021-07-08T10:19:20.050Z"
   },
   {
    "duration": 10,
    "start_time": "2021-07-08T10:19:20.062Z"
   },
   {
    "duration": 20,
    "start_time": "2021-07-08T10:19:20.073Z"
   },
   {
    "duration": 29,
    "start_time": "2021-07-08T10:19:20.095Z"
   },
   {
    "duration": 17,
    "start_time": "2021-07-08T10:19:20.126Z"
   },
   {
    "duration": 40,
    "start_time": "2021-07-08T10:19:20.146Z"
   },
   {
    "duration": 15,
    "start_time": "2021-07-08T10:19:20.189Z"
   },
   {
    "duration": 19,
    "start_time": "2021-07-08T10:19:20.206Z"
   },
   {
    "duration": 10,
    "start_time": "2021-07-08T10:19:20.226Z"
   },
   {
    "duration": 11,
    "start_time": "2021-07-08T10:19:20.238Z"
   },
   {
    "duration": 297,
    "start_time": "2021-07-08T10:19:20.250Z"
   },
   {
    "duration": 6,
    "start_time": "2021-07-08T10:19:20.549Z"
   },
   {
    "duration": 191,
    "start_time": "2021-07-08T10:19:20.557Z"
   },
   {
    "duration": 19,
    "start_time": "2021-07-08T10:19:20.750Z"
   },
   {
    "duration": 20,
    "start_time": "2021-07-08T10:19:20.771Z"
   },
   {
    "duration": 15,
    "start_time": "2021-07-08T10:19:20.793Z"
   },
   {
    "duration": 222,
    "start_time": "2021-07-08T10:19:20.809Z"
   },
   {
    "duration": 20,
    "start_time": "2021-07-08T10:19:21.033Z"
   },
   {
    "duration": 27,
    "start_time": "2021-07-08T10:45:04.055Z"
   },
   {
    "duration": 8,
    "start_time": "2021-07-08T10:45:08.478Z"
   },
   {
    "duration": 8,
    "start_time": "2021-07-08T10:45:31.982Z"
   },
   {
    "duration": 10,
    "start_time": "2021-07-08T10:46:01.221Z"
   },
   {
    "duration": 17,
    "start_time": "2021-07-08T10:46:40.011Z"
   },
   {
    "duration": 193,
    "start_time": "2021-07-08T10:48:19.471Z"
   },
   {
    "duration": 225,
    "start_time": "2021-07-08T10:49:26.480Z"
   },
   {
    "duration": 204,
    "start_time": "2021-07-08T10:49:59.992Z"
   },
   {
    "duration": 435,
    "start_time": "2021-07-08T10:50:06.779Z"
   },
   {
    "duration": 199,
    "start_time": "2021-07-08T10:50:14.891Z"
   },
   {
    "duration": 204,
    "start_time": "2021-07-08T10:50:18.501Z"
   },
   {
    "duration": 244,
    "start_time": "2021-07-08T10:50:23.359Z"
   },
   {
    "duration": 192,
    "start_time": "2021-07-08T10:50:29.135Z"
   },
   {
    "duration": 218,
    "start_time": "2021-07-08T10:50:33.092Z"
   },
   {
    "duration": 207,
    "start_time": "2021-07-08T10:52:45.381Z"
   },
   {
    "duration": 5,
    "start_time": "2021-07-08T10:53:34.641Z"
   },
   {
    "duration": 196,
    "start_time": "2021-07-08T10:53:41.478Z"
   },
   {
    "duration": 43,
    "start_time": "2021-07-08T10:53:50.335Z"
   },
   {
    "duration": 32,
    "start_time": "2021-07-08T10:53:55.294Z"
   },
   {
    "duration": 55,
    "start_time": "2021-07-08T10:54:09.675Z"
   },
   {
    "duration": 16,
    "start_time": "2021-07-08T10:54:12.260Z"
   },
   {
    "duration": 15,
    "start_time": "2021-07-08T10:54:49.150Z"
   },
   {
    "duration": 20,
    "start_time": "2021-07-08T10:56:07.596Z"
   },
   {
    "duration": 16,
    "start_time": "2021-07-08T10:58:26.276Z"
   },
   {
    "duration": 22,
    "start_time": "2021-07-08T10:59:00.486Z"
   },
   {
    "duration": 18,
    "start_time": "2021-07-08T11:02:09.653Z"
   },
   {
    "duration": 10,
    "start_time": "2021-07-08T11:03:44.331Z"
   },
   {
    "duration": 10,
    "start_time": "2021-07-08T11:03:54.055Z"
   },
   {
    "duration": 12,
    "start_time": "2021-07-08T11:04:41.967Z"
   },
   {
    "duration": 24,
    "start_time": "2021-07-08T11:07:30.732Z"
   },
   {
    "duration": 6,
    "start_time": "2021-07-08T11:07:37.364Z"
   },
   {
    "duration": 16,
    "start_time": "2021-07-08T11:08:01.819Z"
   },
   {
    "duration": 17,
    "start_time": "2021-07-08T11:09:47.488Z"
   },
   {
    "duration": 246,
    "start_time": "2021-07-08T11:10:00.830Z"
   },
   {
    "duration": 18,
    "start_time": "2021-07-08T11:13:55.195Z"
   },
   {
    "duration": 204,
    "start_time": "2021-07-08T11:14:04.951Z"
   },
   {
    "duration": 19,
    "start_time": "2021-07-08T11:15:10.613Z"
   },
   {
    "duration": 680,
    "start_time": "2021-07-08T11:16:25.793Z"
   },
   {
    "duration": 451,
    "start_time": "2021-07-08T11:16:40.313Z"
   },
   {
    "duration": 469,
    "start_time": "2021-07-08T11:17:21.286Z"
   },
   {
    "duration": 20,
    "start_time": "2021-07-08T11:19:12.554Z"
   },
   {
    "duration": 35,
    "start_time": "2021-07-08T11:20:05.484Z"
   },
   {
    "duration": 53,
    "start_time": "2021-07-08T11:21:40.050Z"
   },
   {
    "duration": 13,
    "start_time": "2021-07-08T11:22:26.059Z"
   },
   {
    "duration": 19,
    "start_time": "2021-07-08T11:22:47.419Z"
   },
   {
    "duration": 25,
    "start_time": "2021-07-08T11:23:19.958Z"
   },
   {
    "duration": 29,
    "start_time": "2021-07-08T11:23:25.415Z"
   },
   {
    "duration": 10,
    "start_time": "2021-07-08T11:24:45.138Z"
   },
   {
    "duration": 19,
    "start_time": "2021-07-08T11:24:54.498Z"
   },
   {
    "duration": 12,
    "start_time": "2021-07-08T11:25:32.225Z"
   },
   {
    "duration": 19,
    "start_time": "2021-07-08T11:25:37.092Z"
   },
   {
    "duration": 17,
    "start_time": "2021-07-08T11:25:58.116Z"
   },
   {
    "duration": 15,
    "start_time": "2021-07-08T11:26:02.258Z"
   },
   {
    "duration": 8,
    "start_time": "2021-07-08T11:26:59.682Z"
   },
   {
    "duration": 184,
    "start_time": "2021-07-08T11:27:21.894Z"
   },
   {
    "duration": 8,
    "start_time": "2021-07-08T11:27:23.824Z"
   },
   {
    "duration": 202,
    "start_time": "2021-07-08T11:27:23.962Z"
   },
   {
    "duration": 360,
    "start_time": "2021-07-08T11:28:33.215Z"
   },
   {
    "duration": 231,
    "start_time": "2021-07-08T11:32:05.542Z"
   },
   {
    "duration": 607,
    "start_time": "2021-07-08T11:36:27.854Z"
   },
   {
    "duration": 241,
    "start_time": "2021-07-08T11:36:28.463Z"
   },
   {
    "duration": 67,
    "start_time": "2021-07-08T11:36:28.709Z"
   },
   {
    "duration": 5,
    "start_time": "2021-07-08T11:36:28.778Z"
   },
   {
    "duration": 32,
    "start_time": "2021-07-08T11:36:28.784Z"
   },
   {
    "duration": 11,
    "start_time": "2021-07-08T11:36:28.819Z"
   },
   {
    "duration": 20,
    "start_time": "2021-07-08T11:36:28.834Z"
   },
   {
    "duration": 36,
    "start_time": "2021-07-08T11:36:28.857Z"
   },
   {
    "duration": 16,
    "start_time": "2021-07-08T11:36:28.895Z"
   },
   {
    "duration": 14,
    "start_time": "2021-07-08T11:36:28.913Z"
   },
   {
    "duration": 9,
    "start_time": "2021-07-08T11:36:28.930Z"
   },
   {
    "duration": 55,
    "start_time": "2021-07-08T11:36:28.941Z"
   },
   {
    "duration": 27,
    "start_time": "2021-07-08T11:36:28.999Z"
   },
   {
    "duration": 30,
    "start_time": "2021-07-08T11:36:29.028Z"
   },
   {
    "duration": 31,
    "start_time": "2021-07-08T11:36:29.060Z"
   },
   {
    "duration": 3,
    "start_time": "2021-07-08T11:36:29.093Z"
   },
   {
    "duration": 12,
    "start_time": "2021-07-08T11:36:29.099Z"
   },
   {
    "duration": 11,
    "start_time": "2021-07-08T11:36:29.112Z"
   },
   {
    "duration": 12,
    "start_time": "2021-07-08T11:36:29.125Z"
   },
   {
    "duration": 9,
    "start_time": "2021-07-08T11:36:29.139Z"
   },
   {
    "duration": 31,
    "start_time": "2021-07-08T11:36:29.191Z"
   },
   {
    "duration": 17,
    "start_time": "2021-07-08T11:36:29.226Z"
   },
   {
    "duration": 7,
    "start_time": "2021-07-08T11:36:29.245Z"
   },
   {
    "duration": 10,
    "start_time": "2021-07-08T11:36:29.254Z"
   },
   {
    "duration": 30,
    "start_time": "2021-07-08T11:36:29.292Z"
   },
   {
    "duration": 11,
    "start_time": "2021-07-08T11:36:29.324Z"
   },
   {
    "duration": 11,
    "start_time": "2021-07-08T11:36:29.337Z"
   },
   {
    "duration": 230,
    "start_time": "2021-07-08T11:36:29.349Z"
   },
   {
    "duration": 13,
    "start_time": "2021-07-08T11:36:29.588Z"
   },
   {
    "duration": 205,
    "start_time": "2021-07-08T11:36:29.603Z"
   },
   {
    "duration": 20,
    "start_time": "2021-07-08T11:36:29.810Z"
   },
   {
    "duration": 9,
    "start_time": "2021-07-08T11:36:29.832Z"
   },
   {
    "duration": 16,
    "start_time": "2021-07-08T11:36:29.843Z"
   },
   {
    "duration": 283,
    "start_time": "2021-07-08T11:36:29.861Z"
   },
   {
    "duration": 50,
    "start_time": "2021-07-08T11:36:30.146Z"
   },
   {
    "duration": 14,
    "start_time": "2021-07-08T11:36:30.198Z"
   },
   {
    "duration": 11,
    "start_time": "2021-07-08T11:36:30.214Z"
   },
   {
    "duration": 245,
    "start_time": "2021-07-08T11:36:30.227Z"
   },
   {
    "duration": 439,
    "start_time": "2021-07-08T11:36:30.474Z"
   },
   {
    "duration": 210,
    "start_time": "2021-07-08T11:36:30.915Z"
   },
   {
    "duration": 15,
    "start_time": "2021-07-08T11:36:31.127Z"
   },
   {
    "duration": 17,
    "start_time": "2021-07-08T11:38:20.451Z"
   },
   {
    "duration": 642,
    "start_time": "2021-07-08T11:46:17.881Z"
   },
   {
    "duration": 210,
    "start_time": "2021-07-08T11:46:18.525Z"
   },
   {
    "duration": 104,
    "start_time": "2021-07-08T11:46:18.741Z"
   },
   {
    "duration": 8,
    "start_time": "2021-07-08T11:46:18.847Z"
   },
   {
    "duration": 25,
    "start_time": "2021-07-08T11:46:18.857Z"
   },
   {
    "duration": 14,
    "start_time": "2021-07-08T11:46:18.884Z"
   },
   {
    "duration": 22,
    "start_time": "2021-07-08T11:46:18.900Z"
   },
   {
    "duration": 5,
    "start_time": "2021-07-08T11:46:18.924Z"
   },
   {
    "duration": 13,
    "start_time": "2021-07-08T11:46:18.931Z"
   },
   {
    "duration": 45,
    "start_time": "2021-07-08T11:46:18.946Z"
   },
   {
    "duration": 12,
    "start_time": "2021-07-08T11:46:18.993Z"
   },
   {
    "duration": 38,
    "start_time": "2021-07-08T11:46:19.006Z"
   },
   {
    "duration": 50,
    "start_time": "2021-07-08T11:46:19.046Z"
   },
   {
    "duration": 29,
    "start_time": "2021-07-08T11:46:19.099Z"
   },
   {
    "duration": 7,
    "start_time": "2021-07-08T11:46:19.130Z"
   },
   {
    "duration": 3,
    "start_time": "2021-07-08T11:46:19.139Z"
   },
   {
    "duration": 11,
    "start_time": "2021-07-08T11:46:19.144Z"
   },
   {
    "duration": 40,
    "start_time": "2021-07-08T11:46:19.157Z"
   },
   {
    "duration": 15,
    "start_time": "2021-07-08T11:46:19.199Z"
   },
   {
    "duration": 10,
    "start_time": "2021-07-08T11:46:19.217Z"
   },
   {
    "duration": 68,
    "start_time": "2021-07-08T11:46:19.230Z"
   },
   {
    "duration": 17,
    "start_time": "2021-07-08T11:46:19.301Z"
   },
   {
    "duration": 7,
    "start_time": "2021-07-08T11:46:19.321Z"
   },
   {
    "duration": 11,
    "start_time": "2021-07-08T11:46:19.330Z"
   },
   {
    "duration": 59,
    "start_time": "2021-07-08T11:46:19.343Z"
   },
   {
    "duration": 17,
    "start_time": "2021-07-08T11:46:19.405Z"
   },
   {
    "duration": 16,
    "start_time": "2021-07-08T11:46:19.424Z"
   },
   {
    "duration": 252,
    "start_time": "2021-07-08T11:46:19.443Z"
   },
   {
    "duration": 9,
    "start_time": "2021-07-08T11:46:19.697Z"
   },
   {
    "duration": 224,
    "start_time": "2021-07-08T11:46:19.708Z"
   },
   {
    "duration": 21,
    "start_time": "2021-07-08T11:46:19.934Z"
   },
   {
    "duration": 9,
    "start_time": "2021-07-08T11:46:19.956Z"
   },
   {
    "duration": 32,
    "start_time": "2021-07-08T11:46:19.967Z"
   },
   {
    "duration": 288,
    "start_time": "2021-07-08T11:46:20.004Z"
   },
   {
    "duration": 23,
    "start_time": "2021-07-08T11:46:20.300Z"
   },
   {
    "duration": 11,
    "start_time": "2021-07-08T11:46:20.325Z"
   },
   {
    "duration": 11,
    "start_time": "2021-07-08T11:46:20.339Z"
   },
   {
    "duration": 259,
    "start_time": "2021-07-08T11:46:20.352Z"
   },
   {
    "duration": 438,
    "start_time": "2021-07-08T11:46:20.613Z"
   },
   {
    "duration": 207,
    "start_time": "2021-07-08T11:46:21.054Z"
   },
   {
    "duration": 27,
    "start_time": "2021-07-08T11:46:21.262Z"
   },
   {
    "duration": 19,
    "start_time": "2021-07-08T11:46:21.291Z"
   },
   {
    "duration": 820,
    "start_time": "2021-07-08T11:49:01.655Z"
   },
   {
    "duration": 372,
    "start_time": "2021-07-08T11:49:02.478Z"
   },
   {
    "duration": 98,
    "start_time": "2021-07-08T11:49:02.853Z"
   },
   {
    "duration": 6,
    "start_time": "2021-07-08T11:49:02.953Z"
   },
   {
    "duration": 39,
    "start_time": "2021-07-08T11:49:02.960Z"
   },
   {
    "duration": 9,
    "start_time": "2021-07-08T11:49:03.003Z"
   },
   {
    "duration": 23,
    "start_time": "2021-07-08T11:49:03.014Z"
   },
   {
    "duration": 6,
    "start_time": "2021-07-08T11:49:03.041Z"
   },
   {
    "duration": 20,
    "start_time": "2021-07-08T11:49:03.049Z"
   },
   {
    "duration": 18,
    "start_time": "2021-07-08T11:49:03.084Z"
   },
   {
    "duration": 14,
    "start_time": "2021-07-08T11:49:03.104Z"
   },
   {
    "duration": 39,
    "start_time": "2021-07-08T11:49:03.119Z"
   },
   {
    "duration": 38,
    "start_time": "2021-07-08T11:49:03.160Z"
   },
   {
    "duration": 26,
    "start_time": "2021-07-08T11:49:03.200Z"
   },
   {
    "duration": 7,
    "start_time": "2021-07-08T11:49:03.227Z"
   },
   {
    "duration": 4,
    "start_time": "2021-07-08T11:49:03.236Z"
   },
   {
    "duration": 15,
    "start_time": "2021-07-08T11:49:03.243Z"
   },
   {
    "duration": 21,
    "start_time": "2021-07-08T11:49:03.285Z"
   },
   {
    "duration": 17,
    "start_time": "2021-07-08T11:49:03.309Z"
   },
   {
    "duration": 10,
    "start_time": "2021-07-08T11:49:03.328Z"
   },
   {
    "duration": 65,
    "start_time": "2021-07-08T11:49:03.340Z"
   },
   {
    "duration": 18,
    "start_time": "2021-07-08T11:49:03.407Z"
   },
   {
    "duration": 8,
    "start_time": "2021-07-08T11:49:03.428Z"
   },
   {
    "duration": 15,
    "start_time": "2021-07-08T11:49:03.438Z"
   },
   {
    "duration": 40,
    "start_time": "2021-07-08T11:49:03.455Z"
   },
   {
    "duration": 12,
    "start_time": "2021-07-08T11:49:03.497Z"
   },
   {
    "duration": 29,
    "start_time": "2021-07-08T11:49:03.511Z"
   },
   {
    "duration": 285,
    "start_time": "2021-07-08T11:49:03.542Z"
   },
   {
    "duration": 8,
    "start_time": "2021-07-08T11:49:03.829Z"
   },
   {
    "duration": 227,
    "start_time": "2021-07-08T11:49:03.838Z"
   },
   {
    "duration": 40,
    "start_time": "2021-07-08T11:49:04.066Z"
   },
   {
    "duration": 10,
    "start_time": "2021-07-08T11:49:04.108Z"
   },
   {
    "duration": 26,
    "start_time": "2021-07-08T11:49:04.121Z"
   },
   {
    "duration": 290,
    "start_time": "2021-07-08T11:49:04.149Z"
   },
   {
    "duration": 26,
    "start_time": "2021-07-08T11:49:04.441Z"
   },
   {
    "duration": 31,
    "start_time": "2021-07-08T11:49:04.470Z"
   },
   {
    "duration": 14,
    "start_time": "2021-07-08T11:49:04.503Z"
   },
   {
    "duration": 259,
    "start_time": "2021-07-08T11:49:04.521Z"
   },
   {
    "duration": 480,
    "start_time": "2021-07-08T11:49:04.782Z"
   },
   {
    "duration": 225,
    "start_time": "2021-07-08T11:49:05.264Z"
   },
   {
    "duration": 22,
    "start_time": "2021-07-08T11:49:05.491Z"
   },
   {
    "duration": 24,
    "start_time": "2021-07-08T11:49:05.515Z"
   },
   {
    "duration": 634,
    "start_time": "2021-07-08T11:52:24.960Z"
   },
   {
    "duration": 199,
    "start_time": "2021-07-08T11:52:25.599Z"
   },
   {
    "duration": 106,
    "start_time": "2021-07-08T11:52:25.803Z"
   },
   {
    "duration": 7,
    "start_time": "2021-07-08T11:52:25.911Z"
   },
   {
    "duration": 29,
    "start_time": "2021-07-08T11:52:25.920Z"
   },
   {
    "duration": 7,
    "start_time": "2021-07-08T11:52:25.951Z"
   },
   {
    "duration": 26,
    "start_time": "2021-07-08T11:52:25.961Z"
   },
   {
    "duration": 11,
    "start_time": "2021-07-08T11:52:25.990Z"
   },
   {
    "duration": 29,
    "start_time": "2021-07-08T11:52:26.005Z"
   },
   {
    "duration": 9,
    "start_time": "2021-07-08T11:52:26.036Z"
   },
   {
    "duration": 8,
    "start_time": "2021-07-08T11:52:26.047Z"
   },
   {
    "duration": 63,
    "start_time": "2021-07-08T11:52:26.057Z"
   },
   {
    "duration": 17,
    "start_time": "2021-07-08T11:52:26.122Z"
   },
   {
    "duration": 43,
    "start_time": "2021-07-08T11:52:26.142Z"
   },
   {
    "duration": 17,
    "start_time": "2021-07-08T11:52:26.187Z"
   },
   {
    "duration": 5,
    "start_time": "2021-07-08T11:52:26.206Z"
   },
   {
    "duration": 12,
    "start_time": "2021-07-08T11:52:26.212Z"
   },
   {
    "duration": 11,
    "start_time": "2021-07-08T11:52:26.226Z"
   },
   {
    "duration": 12,
    "start_time": "2021-07-08T11:52:26.238Z"
   },
   {
    "duration": 38,
    "start_time": "2021-07-08T11:52:26.252Z"
   },
   {
    "duration": 40,
    "start_time": "2021-07-08T11:52:26.292Z"
   },
   {
    "duration": 17,
    "start_time": "2021-07-08T11:52:26.336Z"
   },
   {
    "duration": 39,
    "start_time": "2021-07-08T11:52:26.355Z"
   },
   {
    "duration": 11,
    "start_time": "2021-07-08T11:52:26.395Z"
   },
   {
    "duration": 23,
    "start_time": "2021-07-08T11:52:26.408Z"
   },
   {
    "duration": 12,
    "start_time": "2021-07-08T11:52:26.432Z"
   },
   {
    "duration": 41,
    "start_time": "2021-07-08T11:52:26.446Z"
   },
   {
    "duration": 215,
    "start_time": "2021-07-08T11:52:26.493Z"
   },
   {
    "duration": 8,
    "start_time": "2021-07-08T11:52:26.710Z"
   },
   {
    "duration": 228,
    "start_time": "2021-07-08T11:52:26.720Z"
   },
   {
    "duration": 18,
    "start_time": "2021-07-08T11:52:26.950Z"
   },
   {
    "duration": 35,
    "start_time": "2021-07-08T11:52:26.969Z"
   },
   {
    "duration": 23,
    "start_time": "2021-07-08T11:52:27.006Z"
   },
   {
    "duration": 258,
    "start_time": "2021-07-08T11:52:27.030Z"
   },
   {
    "duration": 24,
    "start_time": "2021-07-08T11:52:27.290Z"
   },
   {
    "duration": 12,
    "start_time": "2021-07-08T11:52:27.316Z"
   },
   {
    "duration": 10,
    "start_time": "2021-07-08T11:52:27.329Z"
   },
   {
    "duration": 298,
    "start_time": "2021-07-08T11:52:27.341Z"
   },
   {
    "duration": 436,
    "start_time": "2021-07-08T11:52:27.641Z"
   },
   {
    "duration": 216,
    "start_time": "2021-07-08T11:52:28.079Z"
   },
   {
    "duration": 20,
    "start_time": "2021-07-08T11:52:28.297Z"
   },
   {
    "duration": 17,
    "start_time": "2021-07-08T11:52:28.319Z"
   },
   {
    "duration": 109,
    "start_time": "2022-01-23T09:49:59.353Z"
   },
   {
    "duration": 751,
    "start_time": "2022-01-23T09:50:04.505Z"
   },
   {
    "duration": 104,
    "start_time": "2022-01-23T09:51:42.698Z"
   },
   {
    "duration": 40,
    "start_time": "2022-01-23T09:52:39.774Z"
   },
   {
    "duration": 377,
    "start_time": "2022-01-23T09:54:04.264Z"
   },
   {
    "duration": 96,
    "start_time": "2022-01-23T09:54:10.165Z"
   },
   {
    "duration": 5,
    "start_time": "2022-01-23T09:54:13.110Z"
   },
   {
    "duration": 5,
    "start_time": "2022-01-23T09:54:31.500Z"
   },
   {
    "duration": 20,
    "start_time": "2022-01-23T09:58:58.850Z"
   },
   {
    "duration": 1104,
    "start_time": "2022-01-23T10:00:15.713Z"
   },
   {
    "duration": 1310,
    "start_time": "2022-01-23T10:01:04.811Z"
   },
   {
    "duration": 1325,
    "start_time": "2022-01-23T10:04:07.984Z"
   },
   {
    "duration": 700,
    "start_time": "2022-01-23T10:05:28.552Z"
   },
   {
    "duration": 108,
    "start_time": "2022-01-23T10:05:29.998Z"
   },
   {
    "duration": 39,
    "start_time": "2022-01-23T10:05:33.702Z"
   },
   {
    "duration": 1153,
    "start_time": "2022-01-23T10:05:35.124Z"
   },
   {
    "duration": 1112,
    "start_time": "2022-01-23T10:08:49.778Z"
   },
   {
    "duration": 16,
    "start_time": "2022-01-23T10:09:04.260Z"
   },
   {
    "duration": 13,
    "start_time": "2022-01-23T10:09:22.680Z"
   },
   {
    "duration": 1151,
    "start_time": "2022-01-23T10:09:39.512Z"
   },
   {
    "duration": 19,
    "start_time": "2022-01-23T10:11:44.939Z"
   },
   {
    "duration": 11,
    "start_time": "2022-01-23T10:11:50.006Z"
   },
   {
    "duration": 45,
    "start_time": "2022-01-23T10:12:01.581Z"
   },
   {
    "duration": 305,
    "start_time": "2022-01-23T10:12:41.992Z"
   },
   {
    "duration": 51,
    "start_time": "2022-01-23T10:13:06.002Z"
   },
   {
    "duration": 16,
    "start_time": "2022-01-23T10:13:15.155Z"
   },
   {
    "duration": 89,
    "start_time": "2022-01-23T10:13:29.882Z"
   },
   {
    "duration": 300,
    "start_time": "2022-01-23T11:01:20.349Z"
   },
   {
    "duration": 779,
    "start_time": "2022-01-23T11:01:35.583Z"
   },
   {
    "duration": 127,
    "start_time": "2022-01-23T11:01:36.365Z"
   },
   {
    "duration": 62,
    "start_time": "2022-01-23T11:01:36.495Z"
   },
   {
    "duration": 8,
    "start_time": "2022-01-23T11:01:36.560Z"
   },
   {
    "duration": 419,
    "start_time": "2022-01-23T11:01:36.572Z"
   },
   {
    "duration": 890,
    "start_time": "2022-01-23T11:01:36.104Z"
   },
   {
    "duration": 18,
    "start_time": "2022-01-23T11:02:20.022Z"
   },
   {
    "duration": 39,
    "start_time": "2022-01-23T11:02:44.057Z"
   },
   {
    "duration": 5,
    "start_time": "2022-01-23T11:02:49.723Z"
   },
   {
    "duration": 13,
    "start_time": "2022-01-23T11:03:13.105Z"
   },
   {
    "duration": 580,
    "start_time": "2022-01-23T11:04:15.064Z"
   },
   {
    "duration": 6,
    "start_time": "2022-01-23T11:04:25.858Z"
   },
   {
    "duration": 766,
    "start_time": "2022-01-23T11:12:15.130Z"
   },
   {
    "duration": 112,
    "start_time": "2022-01-23T11:12:15.899Z"
   },
   {
    "duration": 46,
    "start_time": "2022-01-23T11:12:16.015Z"
   },
   {
    "duration": 7,
    "start_time": "2022-01-23T11:12:16.064Z"
   },
   {
    "duration": 22,
    "start_time": "2022-01-23T11:12:16.075Z"
   },
   {
    "duration": 52,
    "start_time": "2022-01-23T11:12:16.100Z"
   },
   {
    "duration": 50,
    "start_time": "2022-01-23T11:12:51.824Z"
   },
   {
    "duration": 36,
    "start_time": "2022-01-23T11:13:07.469Z"
   },
   {
    "duration": 60,
    "start_time": "2022-01-23T11:13:13.023Z"
   },
   {
    "duration": 38,
    "start_time": "2022-01-23T11:13:46.514Z"
   },
   {
    "duration": 64,
    "start_time": "2022-01-23T11:13:54.424Z"
   },
   {
    "duration": 57,
    "start_time": "2022-01-23T11:14:12.526Z"
   },
   {
    "duration": 49,
    "start_time": "2022-01-23T11:14:45.226Z"
   },
   {
    "duration": 54,
    "start_time": "2022-01-23T11:14:58.870Z"
   },
   {
    "duration": 22,
    "start_time": "2022-01-23T11:15:24.588Z"
   },
   {
    "duration": 9,
    "start_time": "2022-01-23T11:15:38.478Z"
   },
   {
    "duration": 49,
    "start_time": "2022-01-23T11:16:04.771Z"
   },
   {
    "duration": 21,
    "start_time": "2022-01-23T11:17:59.493Z"
   },
   {
    "duration": 6,
    "start_time": "2022-01-23T11:20:12.127Z"
   },
   {
    "duration": 4,
    "start_time": "2022-01-23T11:21:54.930Z"
   },
   {
    "duration": 5,
    "start_time": "2022-01-23T11:22:05.571Z"
   },
   {
    "duration": 8,
    "start_time": "2022-01-23T12:34:34.023Z"
   },
   {
    "duration": 7,
    "start_time": "2022-01-23T12:34:58.088Z"
   },
   {
    "duration": 469,
    "start_time": "2022-01-23T12:40:20.020Z"
   },
   {
    "duration": 307,
    "start_time": "2022-01-23T12:40:49.410Z"
   },
   {
    "duration": 792,
    "start_time": "2022-01-23T12:41:06.366Z"
   },
   {
    "duration": 109,
    "start_time": "2022-01-23T12:41:07.161Z"
   },
   {
    "duration": 39,
    "start_time": "2022-01-23T12:41:07.273Z"
   },
   {
    "duration": 6,
    "start_time": "2022-01-23T12:41:07.314Z"
   },
   {
    "duration": 22,
    "start_time": "2022-01-23T12:41:07.322Z"
   },
   {
    "duration": 50,
    "start_time": "2022-01-23T12:41:07.347Z"
   },
   {
    "duration": 44,
    "start_time": "2022-01-23T12:41:07.401Z"
   },
   {
    "duration": 6,
    "start_time": "2022-01-23T12:41:07.450Z"
   },
   {
    "duration": 11,
    "start_time": "2022-01-23T12:41:07.459Z"
   },
   {
    "duration": 8,
    "start_time": "2022-01-23T12:41:07.473Z"
   },
   {
    "duration": 4,
    "start_time": "2022-01-23T12:45:19.991Z"
   },
   {
    "duration": 13271,
    "start_time": "2022-01-23T12:47:47.752Z"
   },
   {
    "duration": 3719,
    "start_time": "2022-01-23T12:48:19.036Z"
   },
   {
    "duration": 7,
    "start_time": "2022-01-23T12:49:00.811Z"
   },
   {
    "duration": 1360,
    "start_time": "2022-01-23T12:52:49.022Z"
   },
   {
    "duration": 332,
    "start_time": "2022-01-23T12:53:17.060Z"
   },
   {
    "duration": 459,
    "start_time": "2022-01-23T12:57:05.047Z"
   },
   {
    "duration": 8,
    "start_time": "2022-01-23T12:57:30.471Z"
   },
   {
    "duration": 311,
    "start_time": "2022-01-23T12:59:25.947Z"
   },
   {
    "duration": 334,
    "start_time": "2022-01-23T13:07:25.524Z"
   },
   {
    "duration": 789,
    "start_time": "2022-01-23T13:07:36.801Z"
   },
   {
    "duration": 100,
    "start_time": "2022-01-23T13:07:37.592Z"
   },
   {
    "duration": 38,
    "start_time": "2022-01-23T13:07:37.695Z"
   },
   {
    "duration": 6,
    "start_time": "2022-01-23T13:07:37.735Z"
   },
   {
    "duration": 11,
    "start_time": "2022-01-23T13:07:37.743Z"
   },
   {
    "duration": 49,
    "start_time": "2022-01-23T13:07:37.756Z"
   },
   {
    "duration": 39,
    "start_time": "2022-01-23T13:07:37.808Z"
   },
   {
    "duration": 6,
    "start_time": "2022-01-23T13:07:37.852Z"
   },
   {
    "duration": 9,
    "start_time": "2022-01-23T13:07:37.860Z"
   },
   {
    "duration": 7,
    "start_time": "2022-01-23T13:07:37.872Z"
   },
   {
    "duration": 1390,
    "start_time": "2022-01-23T13:07:43.681Z"
   },
   {
    "duration": 356,
    "start_time": "2022-01-23T13:11:35.950Z"
   },
   {
    "duration": 8,
    "start_time": "2022-01-23T13:11:47.986Z"
   },
   {
    "duration": 7,
    "start_time": "2022-01-23T13:14:27.701Z"
   },
   {
    "duration": 6,
    "start_time": "2022-01-23T13:14:47.331Z"
   },
   {
    "duration": 7,
    "start_time": "2022-01-23T13:18:06.991Z"
   },
   {
    "duration": 110,
    "start_time": "2022-01-23T13:22:17.275Z"
   },
   {
    "duration": 124,
    "start_time": "2022-01-23T13:22:21.271Z"
   },
   {
    "duration": 296,
    "start_time": "2022-01-23T13:22:23.942Z"
   },
   {
    "duration": 1361,
    "start_time": "2022-01-23T13:22:40.878Z"
   },
   {
    "duration": 1561,
    "start_time": "2022-01-23T13:23:03.066Z"
   },
   {
    "duration": 11,
    "start_time": "2022-01-23T13:23:32.770Z"
   },
   {
    "duration": 94,
    "start_time": "2022-01-23T13:23:43.316Z"
   },
   {
    "duration": 1611,
    "start_time": "2022-01-23T13:23:48.759Z"
   },
   {
    "duration": 1516,
    "start_time": "2022-01-23T13:24:11.739Z"
   },
   {
    "duration": 1251,
    "start_time": "2022-01-23T13:25:27.498Z"
   },
   {
    "duration": 1487,
    "start_time": "2022-01-23T13:25:37.866Z"
   },
   {
    "duration": 172,
    "start_time": "2022-01-23T13:25:49.507Z"
   },
   {
    "duration": 19,
    "start_time": "2022-01-23T13:26:18.303Z"
   },
   {
    "duration": 20,
    "start_time": "2022-01-23T13:27:03.293Z"
   },
   {
    "duration": 1495,
    "start_time": "2022-01-23T13:30:46.815Z"
   },
   {
    "duration": 1554,
    "start_time": "2022-01-23T13:30:57.005Z"
   },
   {
    "duration": 16,
    "start_time": "2022-01-23T13:31:09.408Z"
   },
   {
    "duration": 26,
    "start_time": "2022-01-23T13:31:26.845Z"
   },
   {
    "duration": 19,
    "start_time": "2022-01-23T13:31:43.908Z"
   },
   {
    "duration": 1906,
    "start_time": "2022-01-23T13:31:51.978Z"
   },
   {
    "duration": 16,
    "start_time": "2022-01-23T13:32:12.464Z"
   },
   {
    "duration": 13,
    "start_time": "2022-01-23T13:32:51.406Z"
   },
   {
    "duration": 10,
    "start_time": "2022-01-23T13:33:01.109Z"
   },
   {
    "duration": 14,
    "start_time": "2022-01-23T13:33:07.699Z"
   },
   {
    "duration": 5,
    "start_time": "2022-01-23T13:44:07.636Z"
   },
   {
    "duration": 5,
    "start_time": "2022-01-23T13:45:30.007Z"
   },
   {
    "duration": 5,
    "start_time": "2022-01-23T13:45:39.948Z"
   },
   {
    "duration": 5,
    "start_time": "2022-01-23T13:46:04.573Z"
   },
   {
    "duration": 6,
    "start_time": "2022-01-23T13:46:07.738Z"
   },
   {
    "duration": 301,
    "start_time": "2022-01-23T13:46:16.701Z"
   },
   {
    "duration": 6,
    "start_time": "2022-01-23T13:46:27.132Z"
   },
   {
    "duration": 6,
    "start_time": "2022-01-23T13:46:30.086Z"
   },
   {
    "duration": 6,
    "start_time": "2022-01-23T13:49:03.458Z"
   },
   {
    "duration": 758,
    "start_time": "2022-01-23T14:20:40.394Z"
   },
   {
    "duration": 259,
    "start_time": "2022-01-23T14:20:41.154Z"
   },
   {
    "duration": 56,
    "start_time": "2022-01-23T14:20:41.416Z"
   },
   {
    "duration": 5,
    "start_time": "2022-01-23T14:20:41.475Z"
   },
   {
    "duration": 10,
    "start_time": "2022-01-23T14:20:41.482Z"
   },
   {
    "duration": 42,
    "start_time": "2022-01-23T14:20:41.494Z"
   },
   {
    "duration": 490,
    "start_time": "2022-01-23T14:20:41.539Z"
   },
   {
    "duration": 1045,
    "start_time": "2022-01-23T14:20:40.987Z"
   },
   {
    "duration": 1045,
    "start_time": "2022-01-23T14:20:40.989Z"
   },
   {
    "duration": 1044,
    "start_time": "2022-01-23T14:20:40.991Z"
   },
   {
    "duration": 1039,
    "start_time": "2022-01-23T14:20:40.997Z"
   },
   {
    "duration": 1039,
    "start_time": "2022-01-23T14:20:40.999Z"
   },
   {
    "duration": 1039,
    "start_time": "2022-01-23T14:20:41.000Z"
   },
   {
    "duration": 21,
    "start_time": "2022-01-23T14:21:18.945Z"
   },
   {
    "duration": 6,
    "start_time": "2022-01-23T14:21:58.219Z"
   },
   {
    "duration": 8,
    "start_time": "2022-01-23T14:22:06.157Z"
   },
   {
    "duration": 8,
    "start_time": "2022-01-23T14:22:14.043Z"
   },
   {
    "duration": 6,
    "start_time": "2022-01-23T14:22:27.766Z"
   },
   {
    "duration": 10,
    "start_time": "2022-01-23T14:22:32.408Z"
   },
   {
    "duration": 6,
    "start_time": "2022-01-23T14:22:49.511Z"
   },
   {
    "duration": 13,
    "start_time": "2022-01-23T14:25:11.571Z"
   },
   {
    "duration": 9,
    "start_time": "2022-01-23T14:25:16.480Z"
   },
   {
    "duration": 16,
    "start_time": "2022-01-23T14:25:54.833Z"
   },
   {
    "duration": 11,
    "start_time": "2022-01-23T14:25:55.495Z"
   },
   {
    "duration": 773,
    "start_time": "2022-01-23T14:26:03.423Z"
   },
   {
    "duration": 104,
    "start_time": "2022-01-23T14:26:04.199Z"
   },
   {
    "duration": 40,
    "start_time": "2022-01-23T14:26:04.306Z"
   },
   {
    "duration": 8,
    "start_time": "2022-01-23T14:26:04.349Z"
   },
   {
    "duration": 15,
    "start_time": "2022-01-23T14:26:04.360Z"
   },
   {
    "duration": 84,
    "start_time": "2022-01-23T14:26:04.379Z"
   },
   {
    "duration": 18,
    "start_time": "2022-01-23T14:26:04.466Z"
   },
   {
    "duration": 5,
    "start_time": "2022-01-23T14:26:04.487Z"
   },
   {
    "duration": 38,
    "start_time": "2022-01-23T14:26:04.494Z"
   },
   {
    "duration": 9,
    "start_time": "2022-01-23T14:26:04.535Z"
   },
   {
    "duration": 9,
    "start_time": "2022-01-23T14:26:04.548Z"
   },
   {
    "duration": 15,
    "start_time": "2022-01-23T14:26:10.697Z"
   },
   {
    "duration": 7,
    "start_time": "2022-01-23T14:26:13.027Z"
   },
   {
    "duration": 14,
    "start_time": "2022-01-23T14:29:15.437Z"
   },
   {
    "duration": 8,
    "start_time": "2022-01-23T14:29:16.689Z"
   },
   {
    "duration": 5,
    "start_time": "2022-01-23T14:30:27.712Z"
   },
   {
    "duration": 5,
    "start_time": "2022-01-23T14:31:57.792Z"
   },
   {
    "duration": 7,
    "start_time": "2022-01-23T14:35:20.429Z"
   },
   {
    "duration": 109,
    "start_time": "2022-01-23T14:39:58.764Z"
   },
   {
    "duration": 1557,
    "start_time": "2022-01-23T14:40:04.296Z"
   },
   {
    "duration": 17,
    "start_time": "2022-01-23T14:40:23.836Z"
   },
   {
    "duration": 9,
    "start_time": "2022-01-23T14:43:01.978Z"
   },
   {
    "duration": 299,
    "start_time": "2022-01-23T14:49:00.335Z"
   },
   {
    "duration": 2146,
    "start_time": "2022-01-23T14:49:11.628Z"
   },
   {
    "duration": 2019,
    "start_time": "2022-01-23T14:49:51.845Z"
   },
   {
    "duration": 60,
    "start_time": "2022-01-23T14:50:49.312Z"
   },
   {
    "duration": 7,
    "start_time": "2022-01-23T14:51:03.228Z"
   },
   {
    "duration": 785,
    "start_time": "2022-01-23T14:55:18.251Z"
   },
   {
    "duration": 102,
    "start_time": "2022-01-23T14:55:19.039Z"
   },
   {
    "duration": 41,
    "start_time": "2022-01-23T14:55:19.145Z"
   },
   {
    "duration": 6,
    "start_time": "2022-01-23T14:55:19.188Z"
   },
   {
    "duration": 10,
    "start_time": "2022-01-23T14:55:19.196Z"
   },
   {
    "duration": 70,
    "start_time": "2022-01-23T14:55:19.209Z"
   },
   {
    "duration": 16,
    "start_time": "2022-01-23T14:55:19.282Z"
   },
   {
    "duration": 4,
    "start_time": "2022-01-23T14:55:19.302Z"
   },
   {
    "duration": 29,
    "start_time": "2022-01-23T14:55:19.309Z"
   },
   {
    "duration": 8,
    "start_time": "2022-01-23T14:55:19.341Z"
   },
   {
    "duration": 8,
    "start_time": "2022-01-23T14:55:19.352Z"
   },
   {
    "duration": 13,
    "start_time": "2022-01-23T14:55:19.363Z"
   },
   {
    "duration": 56,
    "start_time": "2022-01-23T14:55:19.378Z"
   },
   {
    "duration": 13,
    "start_time": "2022-01-23T14:55:19.437Z"
   },
   {
    "duration": 21,
    "start_time": "2022-01-23T14:55:19.452Z"
   },
   {
    "duration": 66,
    "start_time": "2022-01-23T14:55:19.476Z"
   },
   {
    "duration": 15,
    "start_time": "2022-01-23T14:55:19.545Z"
   },
   {
    "duration": 20,
    "start_time": "2022-01-23T14:57:25.279Z"
   },
   {
    "duration": 28,
    "start_time": "2022-01-23T15:04:11.552Z"
   },
   {
    "duration": 443,
    "start_time": "2022-01-23T15:10:42.772Z"
   },
   {
    "duration": 26,
    "start_time": "2022-01-23T15:10:47.370Z"
   },
   {
    "duration": 29,
    "start_time": "2022-01-23T15:14:47.555Z"
   },
   {
    "duration": 34,
    "start_time": "2022-01-23T15:14:57.186Z"
   },
   {
    "duration": 18,
    "start_time": "2022-01-23T18:54:06.489Z"
   },
   {
    "duration": 13,
    "start_time": "2022-01-23T18:56:36.510Z"
   },
   {
    "duration": 39,
    "start_time": "2022-01-23T19:01:24.283Z"
   },
   {
    "duration": 799,
    "start_time": "2022-01-23T19:01:47.513Z"
   },
   {
    "duration": 106,
    "start_time": "2022-01-23T19:01:48.315Z"
   },
   {
    "duration": 46,
    "start_time": "2022-01-23T19:01:48.424Z"
   },
   {
    "duration": 7,
    "start_time": "2022-01-23T19:01:48.472Z"
   },
   {
    "duration": 13,
    "start_time": "2022-01-23T19:01:48.482Z"
   },
   {
    "duration": 75,
    "start_time": "2022-01-23T19:01:48.498Z"
   },
   {
    "duration": 21,
    "start_time": "2022-01-23T19:01:48.576Z"
   },
   {
    "duration": 5,
    "start_time": "2022-01-23T19:01:48.602Z"
   },
   {
    "duration": 10,
    "start_time": "2022-01-23T19:01:48.634Z"
   },
   {
    "duration": 12,
    "start_time": "2022-01-23T19:01:48.647Z"
   },
   {
    "duration": 8,
    "start_time": "2022-01-23T19:01:48.662Z"
   },
   {
    "duration": 14,
    "start_time": "2022-01-23T19:01:48.673Z"
   },
   {
    "duration": 55,
    "start_time": "2022-01-23T19:01:48.690Z"
   },
   {
    "duration": 10,
    "start_time": "2022-01-23T19:01:48.747Z"
   },
   {
    "duration": 20,
    "start_time": "2022-01-23T19:01:48.760Z"
   },
   {
    "duration": 67,
    "start_time": "2022-01-23T19:01:48.782Z"
   },
   {
    "duration": 15,
    "start_time": "2022-01-23T19:01:48.852Z"
   },
   {
    "duration": 23,
    "start_time": "2022-01-23T19:01:48.869Z"
   },
   {
    "duration": 16,
    "start_time": "2022-01-23T19:01:48.895Z"
   },
   {
    "duration": 34,
    "start_time": "2022-01-23T19:01:48.915Z"
   },
   {
    "duration": 37,
    "start_time": "2022-01-23T19:01:55.658Z"
   },
   {
    "duration": 1325,
    "start_time": "2022-01-23T19:06:36.417Z"
   },
   {
    "duration": 119,
    "start_time": "2022-01-23T19:06:37.744Z"
   },
   {
    "duration": 43,
    "start_time": "2022-01-23T19:06:37.867Z"
   },
   {
    "duration": 6,
    "start_time": "2022-01-23T19:06:37.913Z"
   },
   {
    "duration": 17,
    "start_time": "2022-01-23T19:06:37.921Z"
   },
   {
    "duration": 68,
    "start_time": "2022-01-23T19:06:37.941Z"
   },
   {
    "duration": 36,
    "start_time": "2022-01-23T19:06:38.012Z"
   },
   {
    "duration": 7,
    "start_time": "2022-01-23T19:06:38.051Z"
   },
   {
    "duration": 12,
    "start_time": "2022-01-23T19:06:38.062Z"
   },
   {
    "duration": 10,
    "start_time": "2022-01-23T19:06:38.077Z"
   },
   {
    "duration": 48,
    "start_time": "2022-01-23T19:06:38.089Z"
   },
   {
    "duration": 28,
    "start_time": "2022-01-23T19:06:38.139Z"
   },
   {
    "duration": 6,
    "start_time": "2022-01-23T19:06:38.169Z"
   },
   {
    "duration": 8,
    "start_time": "2022-01-23T19:06:38.177Z"
   },
   {
    "duration": 53,
    "start_time": "2022-01-23T19:06:38.188Z"
   },
   {
    "duration": 45,
    "start_time": "2022-01-23T19:06:38.244Z"
   },
   {
    "duration": 13,
    "start_time": "2022-01-23T19:06:38.291Z"
   },
   {
    "duration": 33,
    "start_time": "2022-01-23T19:06:38.306Z"
   },
   {
    "duration": 17,
    "start_time": "2022-01-23T19:06:38.342Z"
   },
   {
    "duration": 14,
    "start_time": "2022-01-23T19:06:38.364Z"
   },
   {
    "duration": 50,
    "start_time": "2022-01-23T19:06:44.281Z"
   },
   {
    "duration": 343,
    "start_time": "2022-01-24T12:20:37.259Z"
   },
   {
    "duration": 717,
    "start_time": "2022-01-24T12:21:18.897Z"
   },
   {
    "duration": 76,
    "start_time": "2022-01-24T12:21:19.617Z"
   },
   {
    "duration": 41,
    "start_time": "2022-01-24T12:21:19.697Z"
   },
   {
    "duration": 4,
    "start_time": "2022-01-24T12:21:19.740Z"
   },
   {
    "duration": 8,
    "start_time": "2022-01-24T12:21:19.746Z"
   },
   {
    "duration": 28,
    "start_time": "2022-01-24T12:21:19.755Z"
   },
   {
    "duration": 14,
    "start_time": "2022-01-24T12:21:19.785Z"
   },
   {
    "duration": 4,
    "start_time": "2022-01-24T12:21:19.802Z"
   },
   {
    "duration": 6,
    "start_time": "2022-01-24T12:21:19.808Z"
   },
   {
    "duration": 7,
    "start_time": "2022-01-24T12:21:19.816Z"
   },
   {
    "duration": 6,
    "start_time": "2022-01-24T12:21:19.825Z"
   },
   {
    "duration": 40,
    "start_time": "2022-01-24T12:21:19.832Z"
   },
   {
    "duration": 6,
    "start_time": "2022-01-24T12:21:19.874Z"
   },
   {
    "duration": 8,
    "start_time": "2022-01-24T12:21:19.882Z"
   },
   {
    "duration": 12,
    "start_time": "2022-01-24T12:21:19.892Z"
   },
   {
    "duration": 68,
    "start_time": "2022-01-24T12:21:19.906Z"
   },
   {
    "duration": 7,
    "start_time": "2022-01-24T12:21:19.976Z"
   },
   {
    "duration": 10,
    "start_time": "2022-01-24T12:21:19.985Z"
   },
   {
    "duration": 10,
    "start_time": "2022-01-24T12:21:19.996Z"
   },
   {
    "duration": 9,
    "start_time": "2022-01-24T12:21:20.008Z"
   },
   {
    "duration": 26,
    "start_time": "2022-01-24T12:21:22.493Z"
   },
   {
    "duration": 16,
    "start_time": "2022-01-24T12:23:22.391Z"
   },
   {
    "duration": 24,
    "start_time": "2022-01-24T12:23:45.950Z"
   },
   {
    "duration": 78,
    "start_time": "2022-01-24T12:27:40.548Z"
   },
   {
    "duration": 17,
    "start_time": "2022-01-24T12:28:33.279Z"
   },
   {
    "duration": 15,
    "start_time": "2022-01-24T12:32:39.906Z"
   },
   {
    "duration": 4,
    "start_time": "2022-01-24T12:36:51.775Z"
   },
   {
    "duration": 7,
    "start_time": "2022-01-24T12:39:16.510Z"
   },
   {
    "duration": 269,
    "start_time": "2022-01-24T12:44:24.005Z"
   },
   {
    "duration": 241,
    "start_time": "2022-01-24T12:45:25.891Z"
   },
   {
    "duration": 3,
    "start_time": "2022-01-24T12:49:16.783Z"
   },
   {
    "duration": 362,
    "start_time": "2022-01-24T12:50:39.890Z"
   },
   {
    "duration": 297,
    "start_time": "2022-01-24T12:50:56.502Z"
   },
   {
    "duration": 223,
    "start_time": "2022-01-24T12:51:10.469Z"
   },
   {
    "duration": 185,
    "start_time": "2022-01-24T12:51:18.476Z"
   },
   {
    "duration": 211,
    "start_time": "2022-01-24T12:51:22.712Z"
   },
   {
    "duration": 319,
    "start_time": "2022-01-24T12:52:32.336Z"
   },
   {
    "duration": 133,
    "start_time": "2022-01-24T12:52:46.064Z"
   },
   {
    "duration": 129,
    "start_time": "2022-01-24T12:53:34.779Z"
   },
   {
    "duration": 125,
    "start_time": "2022-01-24T12:53:42.101Z"
   },
   {
    "duration": 120,
    "start_time": "2022-01-24T12:53:51.303Z"
   },
   {
    "duration": 127,
    "start_time": "2022-01-24T12:53:56.680Z"
   },
   {
    "duration": 193,
    "start_time": "2022-01-24T12:54:04.425Z"
   },
   {
    "duration": 8,
    "start_time": "2022-01-24T12:56:03.779Z"
   },
   {
    "duration": 7,
    "start_time": "2022-01-24T12:56:10.912Z"
   },
   {
    "duration": 9,
    "start_time": "2022-01-24T12:56:22.685Z"
   },
   {
    "duration": 8,
    "start_time": "2022-01-24T12:56:25.898Z"
   },
   {
    "duration": 122,
    "start_time": "2022-01-24T13:04:51.438Z"
   },
   {
    "duration": 81,
    "start_time": "2022-01-24T13:08:47.963Z"
   },
   {
    "duration": 254,
    "start_time": "2022-01-24T13:08:57.866Z"
   },
   {
    "duration": 8,
    "start_time": "2022-01-24T13:09:03.613Z"
   },
   {
    "duration": 6,
    "start_time": "2022-01-24T13:09:25.143Z"
   },
   {
    "duration": 8,
    "start_time": "2022-01-24T13:12:29.257Z"
   },
   {
    "duration": 180,
    "start_time": "2022-01-24T13:13:14.412Z"
   },
   {
    "duration": 191,
    "start_time": "2022-01-24T13:13:50.097Z"
   },
   {
    "duration": 134,
    "start_time": "2022-01-24T13:14:34.703Z"
   },
   {
    "duration": 126,
    "start_time": "2022-01-24T13:14:55.631Z"
   },
   {
    "duration": 7,
    "start_time": "2022-01-24T13:17:01.109Z"
   },
   {
    "duration": 7,
    "start_time": "2022-01-24T13:17:03.222Z"
   },
   {
    "duration": 189,
    "start_time": "2022-01-24T13:17:04.591Z"
   },
   {
    "duration": 127,
    "start_time": "2022-01-24T13:17:07.465Z"
   },
   {
    "duration": 120,
    "start_time": "2022-01-24T13:17:18.431Z"
   },
   {
    "duration": 132,
    "start_time": "2022-01-24T13:17:27.479Z"
   },
   {
    "duration": 142,
    "start_time": "2022-01-24T13:18:21.201Z"
   },
   {
    "duration": 189,
    "start_time": "2022-01-24T13:18:41.025Z"
   },
   {
    "duration": 125,
    "start_time": "2022-01-24T13:18:46.141Z"
   },
   {
    "duration": 125,
    "start_time": "2022-01-24T13:18:51.297Z"
   },
   {
    "duration": 179,
    "start_time": "2022-01-24T13:19:50.577Z"
   },
   {
    "duration": 130,
    "start_time": "2022-01-24T13:20:54.275Z"
   },
   {
    "duration": 129,
    "start_time": "2022-01-24T13:21:37.906Z"
   },
   {
    "duration": 126,
    "start_time": "2022-01-24T13:21:45.553Z"
   },
   {
    "duration": 143,
    "start_time": "2022-01-24T13:21:53.328Z"
   },
   {
    "duration": 131,
    "start_time": "2022-01-24T13:21:58.801Z"
   },
   {
    "duration": 131,
    "start_time": "2022-01-24T13:22:03.900Z"
   },
   {
    "duration": 132,
    "start_time": "2022-01-24T13:22:07.702Z"
   },
   {
    "duration": 181,
    "start_time": "2022-01-24T13:22:13.845Z"
   },
   {
    "duration": 656,
    "start_time": "2022-01-24T13:23:52.564Z"
   },
   {
    "duration": 69,
    "start_time": "2022-01-24T13:23:53.222Z"
   },
   {
    "duration": 41,
    "start_time": "2022-01-24T13:23:53.293Z"
   },
   {
    "duration": 4,
    "start_time": "2022-01-24T13:23:53.335Z"
   },
   {
    "duration": 5,
    "start_time": "2022-01-24T13:23:53.341Z"
   },
   {
    "duration": 28,
    "start_time": "2022-01-24T13:23:53.348Z"
   },
   {
    "duration": 13,
    "start_time": "2022-01-24T13:23:53.377Z"
   },
   {
    "duration": 4,
    "start_time": "2022-01-24T13:23:53.393Z"
   },
   {
    "duration": 6,
    "start_time": "2022-01-24T13:23:53.399Z"
   },
   {
    "duration": 5,
    "start_time": "2022-01-24T13:23:53.407Z"
   },
   {
    "duration": 7,
    "start_time": "2022-01-24T13:23:53.414Z"
   },
   {
    "duration": 17,
    "start_time": "2022-01-24T13:23:53.423Z"
   },
   {
    "duration": 32,
    "start_time": "2022-01-24T13:23:53.442Z"
   },
   {
    "duration": 4,
    "start_time": "2022-01-24T13:23:53.476Z"
   },
   {
    "duration": 12,
    "start_time": "2022-01-24T13:23:53.482Z"
   },
   {
    "duration": 28,
    "start_time": "2022-01-24T13:23:53.496Z"
   },
   {
    "duration": 6,
    "start_time": "2022-01-24T13:23:53.526Z"
   },
   {
    "duration": 13,
    "start_time": "2022-01-24T13:23:53.534Z"
   },
   {
    "duration": 29,
    "start_time": "2022-01-24T13:23:53.549Z"
   },
   {
    "duration": 8,
    "start_time": "2022-01-24T13:23:53.580Z"
   },
   {
    "duration": 23,
    "start_time": "2022-01-24T13:23:53.590Z"
   },
   {
    "duration": 18,
    "start_time": "2022-01-24T13:23:53.615Z"
   },
   {
    "duration": 6,
    "start_time": "2022-01-24T13:23:53.636Z"
   },
   {
    "duration": 33,
    "start_time": "2022-01-24T13:23:53.643Z"
   },
   {
    "duration": 7,
    "start_time": "2022-01-24T13:23:53.677Z"
   },
   {
    "duration": 196,
    "start_time": "2022-01-24T13:23:53.685Z"
   },
   {
    "duration": 136,
    "start_time": "2022-01-24T13:23:53.882Z"
   },
   {
    "duration": 9,
    "start_time": "2022-01-24T13:23:57.649Z"
   },
   {
    "duration": 8,
    "start_time": "2022-01-24T13:24:02.529Z"
   },
   {
    "duration": 180,
    "start_time": "2022-01-24T13:24:14.600Z"
   },
   {
    "duration": 166,
    "start_time": "2022-01-24T13:24:18.898Z"
   },
   {
    "duration": 6,
    "start_time": "2022-01-24T13:26:32.544Z"
   },
   {
    "duration": 186,
    "start_time": "2022-01-24T13:32:13.349Z"
   },
   {
    "duration": 221,
    "start_time": "2022-01-24T13:32:17.380Z"
   },
   {
    "duration": 175,
    "start_time": "2022-01-24T13:32:20.853Z"
   },
   {
    "duration": 207,
    "start_time": "2022-01-24T13:32:25.583Z"
   },
   {
    "duration": 213,
    "start_time": "2022-01-24T13:32:29.464Z"
   },
   {
    "duration": 292,
    "start_time": "2022-01-24T13:32:33.920Z"
   },
   {
    "duration": 209,
    "start_time": "2022-01-24T13:33:01.534Z"
   },
   {
    "duration": 143,
    "start_time": "2022-01-24T13:33:23.188Z"
   },
   {
    "duration": 7,
    "start_time": "2022-01-24T13:37:18.137Z"
   },
   {
    "duration": 9,
    "start_time": "2022-01-24T13:38:50.752Z"
   },
   {
    "duration": 207,
    "start_time": "2022-01-24T13:39:11.905Z"
   },
   {
    "duration": 133,
    "start_time": "2022-01-24T13:39:56.064Z"
   },
   {
    "duration": 188,
    "start_time": "2022-01-24T13:40:02.492Z"
   },
   {
    "duration": 7,
    "start_time": "2022-01-24T13:44:23.078Z"
   },
   {
    "duration": 7,
    "start_time": "2022-01-24T13:44:32.174Z"
   },
   {
    "duration": 7,
    "start_time": "2022-01-24T13:57:17.539Z"
   },
   {
    "duration": 638,
    "start_time": "2022-01-24T13:58:37.646Z"
   },
   {
    "duration": 68,
    "start_time": "2022-01-24T13:58:38.285Z"
   },
   {
    "duration": 70,
    "start_time": "2022-01-24T13:58:38.355Z"
   },
   {
    "duration": 3,
    "start_time": "2022-01-24T13:58:38.427Z"
   },
   {
    "duration": 7,
    "start_time": "2022-01-24T13:58:38.432Z"
   },
   {
    "duration": 31,
    "start_time": "2022-01-24T13:58:38.440Z"
   },
   {
    "duration": 11,
    "start_time": "2022-01-24T13:58:38.472Z"
   },
   {
    "duration": 3,
    "start_time": "2022-01-24T13:58:38.485Z"
   },
   {
    "duration": 9,
    "start_time": "2022-01-24T13:58:38.489Z"
   },
   {
    "duration": 6,
    "start_time": "2022-01-24T13:58:38.500Z"
   },
   {
    "duration": 10,
    "start_time": "2022-01-24T13:58:38.507Z"
   },
   {
    "duration": 13,
    "start_time": "2022-01-24T13:58:38.519Z"
   },
   {
    "duration": 8,
    "start_time": "2022-01-24T13:58:38.533Z"
   },
   {
    "duration": 10,
    "start_time": "2022-01-24T13:58:38.542Z"
   },
   {
    "duration": 25,
    "start_time": "2022-01-24T13:58:38.554Z"
   },
   {
    "duration": 26,
    "start_time": "2022-01-24T13:58:38.581Z"
   },
   {
    "duration": 12,
    "start_time": "2022-01-24T13:58:38.608Z"
   },
   {
    "duration": 14,
    "start_time": "2022-01-24T13:58:38.622Z"
   },
   {
    "duration": 11,
    "start_time": "2022-01-24T13:58:38.638Z"
   },
   {
    "duration": 23,
    "start_time": "2022-01-24T13:58:38.650Z"
   },
   {
    "duration": 27,
    "start_time": "2022-01-24T13:58:38.675Z"
   },
   {
    "duration": 15,
    "start_time": "2022-01-24T13:58:38.704Z"
   },
   {
    "duration": 4,
    "start_time": "2022-01-24T13:58:38.723Z"
   },
   {
    "duration": 7,
    "start_time": "2022-01-24T13:58:38.730Z"
   },
   {
    "duration": 37,
    "start_time": "2022-01-24T13:58:38.739Z"
   },
   {
    "duration": 197,
    "start_time": "2022-01-24T13:58:38.777Z"
   },
   {
    "duration": 135,
    "start_time": "2022-01-24T13:58:38.976Z"
   },
   {
    "duration": 8,
    "start_time": "2022-01-24T13:58:39.112Z"
   },
   {
    "duration": 6,
    "start_time": "2022-01-24T13:58:39.122Z"
   },
   {
    "duration": 204,
    "start_time": "2022-01-24T13:58:39.129Z"
   },
   {
    "duration": 170,
    "start_time": "2022-01-24T13:58:39.335Z"
   },
   {
    "duration": 11,
    "start_time": "2022-01-24T13:58:39.506Z"
   },
   {
    "duration": 10,
    "start_time": "2022-01-24T13:58:39.519Z"
   },
   {
    "duration": 230,
    "start_time": "2022-01-24T13:58:39.530Z"
   },
   {
    "duration": 144,
    "start_time": "2022-01-24T13:58:39.762Z"
   },
   {
    "duration": 6,
    "start_time": "2022-01-24T13:58:39.908Z"
   },
   {
    "duration": 8,
    "start_time": "2022-01-24T13:58:43.138Z"
   },
   {
    "duration": 4,
    "start_time": "2022-01-24T13:58:44.825Z"
   },
   {
    "duration": 589,
    "start_time": "2022-01-24T14:00:17.010Z"
   },
   {
    "duration": 68,
    "start_time": "2022-01-24T14:00:17.601Z"
   },
   {
    "duration": 60,
    "start_time": "2022-01-24T14:00:17.671Z"
   },
   {
    "duration": 4,
    "start_time": "2022-01-24T14:00:17.732Z"
   },
   {
    "duration": 6,
    "start_time": "2022-01-24T14:00:17.738Z"
   },
   {
    "duration": 24,
    "start_time": "2022-01-24T14:00:17.746Z"
   },
   {
    "duration": 11,
    "start_time": "2022-01-24T14:00:17.771Z"
   },
   {
    "duration": 3,
    "start_time": "2022-01-24T14:00:17.784Z"
   },
   {
    "duration": 6,
    "start_time": "2022-01-24T14:00:17.789Z"
   },
   {
    "duration": 7,
    "start_time": "2022-01-24T14:00:17.797Z"
   },
   {
    "duration": 9,
    "start_time": "2022-01-24T14:00:17.805Z"
   },
   {
    "duration": 12,
    "start_time": "2022-01-24T14:00:17.815Z"
   },
   {
    "duration": 7,
    "start_time": "2022-01-24T14:00:17.829Z"
   },
   {
    "duration": 9,
    "start_time": "2022-01-24T14:00:17.838Z"
   },
   {
    "duration": 25,
    "start_time": "2022-01-24T14:00:17.849Z"
   },
   {
    "duration": 29,
    "start_time": "2022-01-24T14:00:17.876Z"
   },
   {
    "duration": 5,
    "start_time": "2022-01-24T14:00:17.907Z"
   },
   {
    "duration": 11,
    "start_time": "2022-01-24T14:00:17.914Z"
   },
   {
    "duration": 8,
    "start_time": "2022-01-24T14:00:17.927Z"
   },
   {
    "duration": 11,
    "start_time": "2022-01-24T14:00:17.936Z"
   },
   {
    "duration": 39,
    "start_time": "2022-01-24T14:00:17.948Z"
   },
   {
    "duration": 14,
    "start_time": "2022-01-24T14:00:17.989Z"
   },
   {
    "duration": 4,
    "start_time": "2022-01-24T14:00:18.006Z"
   },
   {
    "duration": 6,
    "start_time": "2022-01-24T14:00:18.012Z"
   },
   {
    "duration": 9,
    "start_time": "2022-01-24T14:00:18.019Z"
   },
   {
    "duration": 216,
    "start_time": "2022-01-24T14:00:18.029Z"
   },
   {
    "duration": 132,
    "start_time": "2022-01-24T14:00:18.247Z"
   },
   {
    "duration": 8,
    "start_time": "2022-01-24T14:00:18.381Z"
   },
   {
    "duration": 11,
    "start_time": "2022-01-24T14:00:18.391Z"
   },
   {
    "duration": 193,
    "start_time": "2022-01-24T14:00:18.403Z"
   },
   {
    "duration": 177,
    "start_time": "2022-01-24T14:00:18.597Z"
   },
   {
    "duration": 7,
    "start_time": "2022-01-24T14:00:18.775Z"
   },
   {
    "duration": 7,
    "start_time": "2022-01-24T14:00:18.784Z"
   },
   {
    "duration": 225,
    "start_time": "2022-01-24T14:00:18.793Z"
   },
   {
    "duration": 137,
    "start_time": "2022-01-24T14:00:19.020Z"
   },
   {
    "duration": 15,
    "start_time": "2022-01-24T14:00:19.159Z"
   },
   {
    "duration": 4,
    "start_time": "2022-01-24T14:02:16.965Z"
   },
   {
    "duration": 7,
    "start_time": "2022-01-24T14:06:07.068Z"
   },
   {
    "duration": 930,
    "start_time": "2022-01-24T14:32:50.556Z"
   },
   {
    "duration": 932,
    "start_time": "2022-01-24T14:33:29.061Z"
   },
   {
    "duration": 86,
    "start_time": "2022-01-24T14:34:02.862Z"
   },
   {
    "duration": 945,
    "start_time": "2022-01-24T14:34:14.067Z"
   },
   {
    "duration": 23,
    "start_time": "2022-01-24T14:34:26.545Z"
   },
   {
    "duration": 13,
    "start_time": "2022-01-24T14:41:06.899Z"
   },
   {
    "duration": 24,
    "start_time": "2022-01-24T14:41:18.736Z"
   },
   {
    "duration": 4,
    "start_time": "2022-01-24T15:10:31.573Z"
   },
   {
    "duration": 32,
    "start_time": "2022-01-24T15:10:53.745Z"
   },
   {
    "duration": 4,
    "start_time": "2022-01-24T15:11:36.724Z"
   },
   {
    "duration": 339,
    "start_time": "2022-01-24T15:42:29.158Z"
   },
   {
    "duration": 643,
    "start_time": "2022-01-24T15:42:44.291Z"
   },
   {
    "duration": 82,
    "start_time": "2022-01-24T15:42:44.936Z"
   },
   {
    "duration": 81,
    "start_time": "2022-01-24T15:42:45.020Z"
   },
   {
    "duration": 3,
    "start_time": "2022-01-24T15:42:45.103Z"
   },
   {
    "duration": 7,
    "start_time": "2022-01-24T15:42:45.108Z"
   },
   {
    "duration": 28,
    "start_time": "2022-01-24T15:42:45.116Z"
   },
   {
    "duration": 12,
    "start_time": "2022-01-24T15:42:45.146Z"
   },
   {
    "duration": 13,
    "start_time": "2022-01-24T15:42:45.160Z"
   },
   {
    "duration": 10,
    "start_time": "2022-01-24T15:42:45.176Z"
   },
   {
    "duration": 6,
    "start_time": "2022-01-24T15:42:45.189Z"
   },
   {
    "duration": 7,
    "start_time": "2022-01-24T15:42:45.198Z"
   },
   {
    "duration": 15,
    "start_time": "2022-01-24T15:42:45.206Z"
   },
   {
    "duration": 9,
    "start_time": "2022-01-24T15:42:45.223Z"
   },
   {
    "duration": 20,
    "start_time": "2022-01-24T15:42:45.234Z"
   },
   {
    "duration": 19,
    "start_time": "2022-01-24T15:42:45.273Z"
   },
   {
    "duration": 29,
    "start_time": "2022-01-24T15:42:45.293Z"
   },
   {
    "duration": 7,
    "start_time": "2022-01-24T15:42:45.324Z"
   },
   {
    "duration": 18,
    "start_time": "2022-01-24T15:42:45.333Z"
   },
   {
    "duration": 8,
    "start_time": "2022-01-24T15:42:45.353Z"
   },
   {
    "duration": 13,
    "start_time": "2022-01-24T15:42:45.363Z"
   },
   {
    "duration": 29,
    "start_time": "2022-01-24T15:42:45.379Z"
   },
   {
    "duration": 16,
    "start_time": "2022-01-24T15:42:45.409Z"
   },
   {
    "duration": 4,
    "start_time": "2022-01-24T15:42:45.428Z"
   },
   {
    "duration": 14,
    "start_time": "2022-01-24T15:42:45.434Z"
   },
   {
    "duration": 13,
    "start_time": "2022-01-24T15:42:45.450Z"
   },
   {
    "duration": 208,
    "start_time": "2022-01-24T15:42:45.464Z"
   },
   {
    "duration": 150,
    "start_time": "2022-01-24T15:42:45.675Z"
   },
   {
    "duration": 10,
    "start_time": "2022-01-24T15:42:45.827Z"
   },
   {
    "duration": 9,
    "start_time": "2022-01-24T15:42:45.839Z"
   },
   {
    "duration": 267,
    "start_time": "2022-01-24T15:42:45.850Z"
   },
   {
    "duration": 193,
    "start_time": "2022-01-24T15:42:46.118Z"
   },
   {
    "duration": 6,
    "start_time": "2022-01-24T15:42:46.313Z"
   },
   {
    "duration": 10,
    "start_time": "2022-01-24T15:42:46.321Z"
   },
   {
    "duration": 231,
    "start_time": "2022-01-24T15:42:46.333Z"
   },
   {
    "duration": 243,
    "start_time": "2022-01-24T15:42:46.566Z"
   },
   {
    "duration": 7,
    "start_time": "2022-01-24T15:42:46.810Z"
   },
   {
    "duration": 12,
    "start_time": "2022-01-24T15:42:46.819Z"
   },
   {
    "duration": 18,
    "start_time": "2022-01-24T15:42:46.833Z"
   },
   {
    "duration": 4,
    "start_time": "2022-01-24T15:42:46.853Z"
   },
   {
    "duration": 176,
    "start_time": "2022-01-24T15:42:52.115Z"
   },
   {
    "duration": 9,
    "start_time": "2022-01-24T15:48:46.550Z"
   },
   {
    "duration": 48273,
    "start_time": "2022-01-24T15:49:06.119Z"
   },
   {
    "duration": 346,
    "start_time": "2022-01-24T15:50:41.664Z"
   },
   {
    "duration": 204,
    "start_time": "2022-01-24T15:52:22.442Z"
   },
   {
    "duration": 8,
    "start_time": "2022-01-24T15:54:08.478Z"
   },
   {
    "duration": 28,
    "start_time": "2022-01-24T15:56:34.681Z"
   },
   {
    "duration": 34,
    "start_time": "2022-01-24T16:12:49.908Z"
   },
   {
    "duration": 164,
    "start_time": "2022-01-24T16:13:02.490Z"
   },
   {
    "duration": 3,
    "start_time": "2022-01-24T16:21:31.734Z"
   },
   {
    "duration": 287,
    "start_time": "2022-01-24T16:22:28.094Z"
   },
   {
    "duration": 36,
    "start_time": "2022-01-24T16:22:40.268Z"
   },
   {
    "duration": 31,
    "start_time": "2022-01-24T16:22:57.011Z"
   },
   {
    "duration": 285,
    "start_time": "2022-01-24T16:23:06.121Z"
   },
   {
    "duration": 279,
    "start_time": "2022-01-24T16:23:22.638Z"
   },
   {
    "duration": 338,
    "start_time": "2022-01-24T16:23:52.180Z"
   },
   {
    "duration": 33,
    "start_time": "2022-01-24T16:24:05.406Z"
   },
   {
    "duration": 10,
    "start_time": "2022-01-24T16:24:47.483Z"
   },
   {
    "duration": 10,
    "start_time": "2022-01-24T16:24:57.894Z"
   },
   {
    "duration": 162,
    "start_time": "2022-01-24T16:25:52.764Z"
   },
   {
    "duration": 164,
    "start_time": "2022-01-24T16:31:34.115Z"
   },
   {
    "duration": 8,
    "start_time": "2022-01-24T16:40:29.260Z"
   },
   {
    "duration": 606,
    "start_time": "2022-01-24T16:44:11.327Z"
   },
   {
    "duration": 79,
    "start_time": "2022-01-24T16:44:11.935Z"
   },
   {
    "duration": 75,
    "start_time": "2022-01-24T16:44:12.016Z"
   },
   {
    "duration": 3,
    "start_time": "2022-01-24T16:44:12.093Z"
   },
   {
    "duration": 7,
    "start_time": "2022-01-24T16:44:12.098Z"
   },
   {
    "duration": 27,
    "start_time": "2022-01-24T16:44:12.107Z"
   },
   {
    "duration": 11,
    "start_time": "2022-01-24T16:44:12.136Z"
   },
   {
    "duration": 3,
    "start_time": "2022-01-24T16:44:12.148Z"
   },
   {
    "duration": 23,
    "start_time": "2022-01-24T16:44:12.154Z"
   },
   {
    "duration": 5,
    "start_time": "2022-01-24T16:44:12.181Z"
   },
   {
    "duration": 6,
    "start_time": "2022-01-24T16:44:12.188Z"
   },
   {
    "duration": 12,
    "start_time": "2022-01-24T16:44:12.196Z"
   },
   {
    "duration": 5,
    "start_time": "2022-01-24T16:44:12.209Z"
   },
   {
    "duration": 9,
    "start_time": "2022-01-24T16:44:12.215Z"
   },
   {
    "duration": 18,
    "start_time": "2022-01-24T16:44:12.226Z"
   },
   {
    "duration": 49,
    "start_time": "2022-01-24T16:44:12.246Z"
   },
   {
    "duration": 9,
    "start_time": "2022-01-24T16:44:12.297Z"
   },
   {
    "duration": 10,
    "start_time": "2022-01-24T16:44:12.307Z"
   },
   {
    "duration": 9,
    "start_time": "2022-01-24T16:44:12.319Z"
   },
   {
    "duration": 10,
    "start_time": "2022-01-24T16:44:12.330Z"
   },
   {
    "duration": 62,
    "start_time": "2022-01-24T16:44:12.341Z"
   },
   {
    "duration": 15,
    "start_time": "2022-01-24T16:44:12.404Z"
   },
   {
    "duration": 12,
    "start_time": "2022-01-24T16:44:12.421Z"
   },
   {
    "duration": 8,
    "start_time": "2022-01-24T16:44:12.435Z"
   },
   {
    "duration": 35,
    "start_time": "2022-01-24T16:44:12.445Z"
   },
   {
    "duration": 204,
    "start_time": "2022-01-24T16:44:12.483Z"
   },
   {
    "duration": 143,
    "start_time": "2022-01-24T16:44:12.690Z"
   },
   {
    "duration": 9,
    "start_time": "2022-01-24T16:44:12.835Z"
   },
   {
    "duration": 7,
    "start_time": "2022-01-24T16:44:12.845Z"
   },
   {
    "duration": 234,
    "start_time": "2022-01-24T16:44:12.853Z"
   },
   {
    "duration": 187,
    "start_time": "2022-01-24T16:44:13.089Z"
   },
   {
    "duration": 8,
    "start_time": "2022-01-24T16:44:13.278Z"
   },
   {
    "duration": 7,
    "start_time": "2022-01-24T16:44:13.288Z"
   },
   {
    "duration": 255,
    "start_time": "2022-01-24T16:44:13.297Z"
   },
   {
    "duration": 146,
    "start_time": "2022-01-24T16:44:13.554Z"
   },
   {
    "duration": 9,
    "start_time": "2022-01-24T16:44:13.702Z"
   },
   {
    "duration": 5,
    "start_time": "2022-01-24T16:44:13.713Z"
   },
   {
    "duration": 15,
    "start_time": "2022-01-24T16:44:13.720Z"
   },
   {
    "duration": 6,
    "start_time": "2022-01-24T16:44:13.736Z"
   },
   {
    "duration": 211,
    "start_time": "2022-01-24T16:44:13.743Z"
   },
   {
    "duration": 15,
    "start_time": "2022-01-24T16:44:13.956Z"
   },
   {
    "duration": 171,
    "start_time": "2022-01-24T16:47:38.208Z"
   },
   {
    "duration": 11,
    "start_time": "2022-01-24T16:48:20.202Z"
   },
   {
    "duration": 113,
    "start_time": "2022-01-24T16:48:36.268Z"
   },
   {
    "duration": 184,
    "start_time": "2022-01-24T16:49:04.241Z"
   },
   {
    "duration": 228,
    "start_time": "2022-01-24T16:51:30.024Z"
   },
   {
    "duration": 277,
    "start_time": "2022-01-24T18:03:06.529Z"
   },
   {
    "duration": 411,
    "start_time": "2022-01-24T18:03:13.102Z"
   },
   {
    "duration": 173,
    "start_time": "2022-01-24T18:03:39.122Z"
   },
   {
    "duration": 224,
    "start_time": "2022-01-24T18:04:50.220Z"
   },
   {
    "duration": 146,
    "start_time": "2022-01-24T18:04:56.385Z"
   },
   {
    "duration": 143,
    "start_time": "2022-01-24T18:05:26.541Z"
   },
   {
    "duration": 172,
    "start_time": "2022-01-24T18:06:26.099Z"
   },
   {
    "duration": 188,
    "start_time": "2022-01-24T18:06:40.970Z"
   },
   {
    "duration": 227,
    "start_time": "2022-01-24T18:06:54.237Z"
   },
   {
    "duration": 199,
    "start_time": "2022-01-24T18:07:41.974Z"
   },
   {
    "duration": 890,
    "start_time": "2022-01-24T18:21:12.344Z"
   },
   {
    "duration": 322,
    "start_time": "2022-01-24T18:21:13.237Z"
   },
   {
    "duration": 1069,
    "start_time": "2022-01-24T18:21:13.562Z"
   },
   {
    "duration": 1239,
    "start_time": "2022-01-24T18:21:14.633Z"
   },
   {
    "duration": 1211,
    "start_time": "2022-01-24T18:21:15.874Z"
   },
   {
    "duration": 837,
    "start_time": "2022-01-24T18:21:17.087Z"
   },
   {
    "duration": 441,
    "start_time": "2022-01-24T18:21:17.926Z"
   },
   {
    "duration": 796,
    "start_time": "2022-01-24T18:21:18.370Z"
   },
   {
    "duration": 781,
    "start_time": "2022-01-24T18:21:19.168Z"
   },
   {
    "duration": 554,
    "start_time": "2022-01-24T18:21:19.951Z"
   },
   {
    "duration": 451,
    "start_time": "2022-01-24T18:21:20.506Z"
   },
   {
    "duration": 419,
    "start_time": "2022-01-24T18:21:20.959Z"
   },
   {
    "duration": 1089,
    "start_time": "2022-01-24T18:21:21.380Z"
   },
   {
    "duration": 1009,
    "start_time": "2022-01-24T18:21:22.471Z"
   },
   {
    "duration": 924,
    "start_time": "2022-01-24T18:21:23.482Z"
   },
   {
    "duration": 1667,
    "start_time": "2022-01-24T18:21:24.408Z"
   },
   {
    "duration": 572,
    "start_time": "2022-01-24T18:21:26.077Z"
   },
   {
    "duration": 894,
    "start_time": "2022-01-24T18:21:26.651Z"
   },
   {
    "duration": 221,
    "start_time": "2022-01-24T18:21:27.547Z"
   },
   {
    "duration": 149,
    "start_time": "2022-01-24T18:21:27.770Z"
   },
   {
    "duration": 563,
    "start_time": "2022-01-24T18:21:27.921Z"
   },
   {
    "duration": 813,
    "start_time": "2022-01-24T18:21:28.486Z"
   },
   {
    "duration": 611,
    "start_time": "2022-01-24T18:21:29.302Z"
   },
   {
    "duration": 345,
    "start_time": "2022-01-24T18:21:29.915Z"
   },
   {
    "duration": 608,
    "start_time": "2022-01-24T18:21:30.262Z"
   },
   {
    "duration": 1004,
    "start_time": "2022-01-24T18:21:30.872Z"
   },
   {
    "duration": 523,
    "start_time": "2022-01-24T18:21:31.878Z"
   },
   {
    "duration": 1050,
    "start_time": "2022-01-24T18:21:32.403Z"
   },
   {
    "duration": 873,
    "start_time": "2022-01-24T18:21:33.455Z"
   },
   {
    "duration": 825,
    "start_time": "2022-01-24T18:21:34.329Z"
   },
   {
    "duration": 721,
    "start_time": "2022-01-24T18:21:35.156Z"
   },
   {
    "duration": 1004,
    "start_time": "2022-01-24T18:21:35.879Z"
   },
   {
    "duration": 760,
    "start_time": "2022-01-24T18:21:36.885Z"
   },
   {
    "duration": 1347,
    "start_time": "2022-01-24T18:21:37.647Z"
   },
   {
    "duration": 1946,
    "start_time": "2022-01-24T18:21:38.996Z"
   },
   {
    "duration": 2585,
    "start_time": "2022-01-24T18:21:40.944Z"
   },
   {
    "duration": 15,
    "start_time": "2022-01-24T18:21:47.243Z"
   },
   {
    "duration": 5,
    "start_time": "2022-01-24T18:21:49.534Z"
   },
   {
    "duration": 8,
    "start_time": "2022-01-24T18:21:51.858Z"
   },
   {
    "duration": 5,
    "start_time": "2022-01-24T18:21:55.308Z"
   },
   {
    "duration": 139,
    "start_time": "2022-01-24T18:21:59.634Z"
   },
   {
    "duration": 8,
    "start_time": "2022-01-24T18:22:15.661Z"
   },
   {
    "duration": 663,
    "start_time": "2022-01-24T18:22:53.653Z"
   },
   {
    "duration": 70,
    "start_time": "2022-01-24T18:22:54.318Z"
   },
   {
    "duration": 214,
    "start_time": "2022-01-24T18:22:54.390Z"
   },
   {
    "duration": 232,
    "start_time": "2022-01-24T18:22:54.606Z"
   },
   {
    "duration": 309,
    "start_time": "2022-01-24T18:22:54.840Z"
   },
   {
    "duration": 359,
    "start_time": "2022-01-24T18:22:55.151Z"
   },
   {
    "duration": 337,
    "start_time": "2022-01-24T18:22:55.512Z"
   },
   {
    "duration": 279,
    "start_time": "2022-01-24T18:22:55.851Z"
   },
   {
    "duration": 95,
    "start_time": "2022-01-24T18:22:56.133Z"
   },
   {
    "duration": 101,
    "start_time": "2022-01-24T18:22:56.229Z"
   },
   {
    "duration": 232,
    "start_time": "2022-01-24T18:22:56.332Z"
   },
   {
    "duration": 416,
    "start_time": "2022-01-24T18:22:56.565Z"
   },
   {
    "duration": 242,
    "start_time": "2022-01-24T18:22:56.983Z"
   },
   {
    "duration": 230,
    "start_time": "2022-01-24T18:22:57.226Z"
   },
   {
    "duration": 368,
    "start_time": "2022-01-24T18:22:57.458Z"
   },
   {
    "duration": 242,
    "start_time": "2022-01-24T18:22:57.827Z"
   },
   {
    "duration": 201,
    "start_time": "2022-01-24T18:22:58.071Z"
   },
   {
    "duration": 109,
    "start_time": "2022-01-24T18:22:58.274Z"
   },
   {
    "duration": 283,
    "start_time": "2022-01-24T18:22:58.385Z"
   },
   {
    "duration": 405,
    "start_time": "2022-01-24T18:22:58.670Z"
   },
   {
    "duration": 266,
    "start_time": "2022-01-24T18:22:59.077Z"
   },
   {
    "duration": 219,
    "start_time": "2022-01-24T18:22:59.346Z"
   },
   {
    "duration": 441,
    "start_time": "2022-01-24T18:22:59.568Z"
   },
   {
    "duration": 175,
    "start_time": "2022-01-24T18:23:00.011Z"
   },
   {
    "duration": 431,
    "start_time": "2022-01-24T18:23:00.187Z"
   },
   {
    "duration": 623,
    "start_time": "2022-01-24T18:23:00.620Z"
   },
   {
    "duration": 227,
    "start_time": "2022-01-24T18:23:01.245Z"
   },
   {
    "duration": 188,
    "start_time": "2022-01-24T18:23:01.474Z"
   },
   {
    "duration": 274,
    "start_time": "2022-01-24T18:23:01.664Z"
   },
   {
    "duration": 537,
    "start_time": "2022-01-24T18:23:01.940Z"
   },
   {
    "duration": 197,
    "start_time": "2022-01-24T18:23:02.479Z"
   },
   {
    "duration": 153,
    "start_time": "2022-01-24T18:23:02.678Z"
   },
   {
    "duration": 315,
    "start_time": "2022-01-24T18:23:02.832Z"
   },
   {
    "duration": 539,
    "start_time": "2022-01-24T18:23:03.149Z"
   },
   {
    "duration": 468,
    "start_time": "2022-01-24T18:23:03.689Z"
   },
   {
    "duration": 198,
    "start_time": "2022-01-24T18:23:04.158Z"
   },
   {
    "duration": 185,
    "start_time": "2022-01-24T18:23:04.357Z"
   },
   {
    "duration": 277,
    "start_time": "2022-01-24T18:23:04.544Z"
   },
   {
    "duration": 357,
    "start_time": "2022-01-24T18:23:04.823Z"
   },
   {
    "duration": 249,
    "start_time": "2022-01-24T18:23:05.183Z"
   },
   {
    "duration": 46,
    "start_time": "2022-01-24T18:23:05.434Z"
   },
   {
    "duration": 445,
    "start_time": "2022-01-24T18:23:05.481Z"
   },
   {
    "duration": 156,
    "start_time": "2022-01-24T18:23:05.928Z"
   },
   {
    "duration": 16,
    "start_time": "2022-01-24T18:25:50.105Z"
   },
   {
    "duration": 23,
    "start_time": "2022-01-24T18:25:55.504Z"
   },
   {
    "duration": 24,
    "start_time": "2022-01-24T18:27:13.811Z"
   },
   {
    "duration": 324,
    "start_time": "2022-01-24T18:31:42.218Z"
   },
   {
    "duration": 28,
    "start_time": "2022-01-24T18:31:50.381Z"
   },
   {
    "duration": 37,
    "start_time": "2022-01-24T19:08:26.869Z"
   },
   {
    "duration": 198,
    "start_time": "2022-01-24T19:11:04.881Z"
   },
   {
    "duration": 150,
    "start_time": "2022-01-24T19:11:41.006Z"
   },
   {
    "duration": 147,
    "start_time": "2022-01-24T19:12:11.067Z"
   },
   {
    "duration": 6425,
    "start_time": "2022-01-24T19:12:45.355Z"
   },
   {
    "duration": 176,
    "start_time": "2022-01-24T19:14:42.583Z"
   },
   {
    "duration": 152,
    "start_time": "2022-01-24T19:15:14.216Z"
   },
   {
    "duration": 4,
    "start_time": "2022-01-24T19:15:35.403Z"
   },
   {
    "duration": 602,
    "start_time": "2022-01-24T19:16:35.233Z"
   },
   {
    "duration": 4294,
    "start_time": "2022-01-24T19:16:35.837Z"
   },
   {
    "duration": 1522,
    "start_time": "2022-01-24T19:16:40.133Z"
   },
   {
    "duration": 2542,
    "start_time": "2022-01-24T19:16:41.657Z"
   },
   {
    "duration": 2123,
    "start_time": "2022-01-24T19:16:44.201Z"
   },
   {
    "duration": 1998,
    "start_time": "2022-01-24T19:16:46.326Z"
   },
   {
    "duration": 1744,
    "start_time": "2022-01-24T19:16:48.326Z"
   },
   {
    "duration": 2424,
    "start_time": "2022-01-24T19:16:50.074Z"
   },
   {
    "duration": 2869,
    "start_time": "2022-01-24T19:16:52.500Z"
   },
   {
    "duration": 5746,
    "start_time": "2022-01-24T19:16:55.371Z"
   },
   {
    "duration": 4948,
    "start_time": "2022-01-24T19:17:01.119Z"
   },
   {
    "duration": 4959,
    "start_time": "2022-01-24T19:17:06.068Z"
   },
   {
    "duration": 2583,
    "start_time": "2022-01-24T19:17:11.029Z"
   },
   {
    "duration": 1096,
    "start_time": "2022-01-24T19:17:13.614Z"
   },
   {
    "duration": 2484,
    "start_time": "2022-01-24T19:17:14.711Z"
   },
   {
    "duration": 6199,
    "start_time": "2022-01-24T19:17:17.197Z"
   },
   {
    "duration": 965,
    "start_time": "2022-01-24T19:17:23.398Z"
   },
   {
    "duration": 915,
    "start_time": "2022-01-24T19:17:24.365Z"
   },
   {
    "duration": 739,
    "start_time": "2022-01-24T19:17:25.282Z"
   },
   {
    "duration": 1225,
    "start_time": "2022-01-24T19:17:26.024Z"
   },
   {
    "duration": 1599,
    "start_time": "2022-01-24T19:17:27.251Z"
   },
   {
    "duration": 1636,
    "start_time": "2022-01-24T19:17:28.852Z"
   },
   {
    "duration": 3560,
    "start_time": "2022-01-24T19:17:30.490Z"
   },
   {
    "duration": 2448,
    "start_time": "2022-01-24T19:17:34.051Z"
   },
   {
    "duration": 3592,
    "start_time": "2022-01-24T19:17:36.501Z"
   },
   {
    "duration": 2461,
    "start_time": "2022-01-24T19:17:40.096Z"
   },
   {
    "duration": 1884,
    "start_time": "2022-01-24T19:17:42.559Z"
   },
   {
    "duration": 1581,
    "start_time": "2022-01-24T19:17:44.444Z"
   },
   {
    "duration": 2510,
    "start_time": "2022-01-24T19:17:46.027Z"
   },
   {
    "duration": 2696,
    "start_time": "2022-01-24T19:17:48.538Z"
   },
   {
    "duration": 4930,
    "start_time": "2022-01-24T19:17:51.236Z"
   },
   {
    "duration": 4488,
    "start_time": "2022-01-24T19:17:56.168Z"
   },
   {
    "duration": 2093,
    "start_time": "2022-01-24T19:18:00.658Z"
   },
   {
    "duration": 1774,
    "start_time": "2022-01-24T19:18:02.752Z"
   },
   {
    "duration": 1526,
    "start_time": "2022-01-24T19:18:04.528Z"
   },
   {
    "duration": 2245,
    "start_time": "2022-01-24T19:18:06.056Z"
   },
   {
    "duration": 2464,
    "start_time": "2022-01-24T19:18:08.302Z"
   },
   {
    "duration": 7294,
    "start_time": "2022-01-24T19:18:10.768Z"
   },
   {
    "duration": 7702,
    "start_time": "2022-01-24T19:18:18.064Z"
   },
   {
    "duration": 3262,
    "start_time": "2022-01-24T19:18:25.767Z"
   },
   {
    "duration": 3075,
    "start_time": "2022-01-24T19:18:29.031Z"
   },
   {
    "duration": 4810,
    "start_time": "2022-01-24T19:18:32.107Z"
   },
   {
    "duration": 3902,
    "start_time": "2022-01-24T19:18:36.919Z"
   },
   {
    "duration": 4674,
    "start_time": "2022-01-24T19:18:40.823Z"
   },
   {
    "duration": 18,
    "start_time": "2022-01-24T19:19:11.597Z"
   },
   {
    "duration": 3359,
    "start_time": "2022-01-24T19:19:20.707Z"
   },
   {
    "duration": 1418,
    "start_time": "2022-01-24T19:20:38.402Z"
   },
   {
    "duration": 1356,
    "start_time": "2022-01-24T19:20:58.263Z"
   },
   {
    "duration": 704,
    "start_time": "2022-01-24T19:21:52.024Z"
   },
   {
    "duration": 423,
    "start_time": "2022-01-24T19:21:52.730Z"
   },
   {
    "duration": 784,
    "start_time": "2022-01-24T19:21:53.155Z"
   },
   {
    "duration": 1029,
    "start_time": "2022-01-24T19:21:53.941Z"
   },
   {
    "duration": 911,
    "start_time": "2022-01-24T19:21:54.972Z"
   },
   {
    "duration": 1363,
    "start_time": "2022-01-24T19:21:55.886Z"
   },
   {
    "duration": 1013,
    "start_time": "2022-01-24T19:21:57.251Z"
   },
   {
    "duration": 952,
    "start_time": "2022-01-24T19:21:58.266Z"
   },
   {
    "duration": 847,
    "start_time": "2022-01-24T19:21:59.221Z"
   },
   {
    "duration": 1302,
    "start_time": "2022-01-24T19:22:00.070Z"
   },
   {
    "duration": 446,
    "start_time": "2022-01-24T19:22:01.374Z"
   },
   {
    "duration": 720,
    "start_time": "2022-01-24T19:22:01.822Z"
   },
   {
    "duration": 1108,
    "start_time": "2022-01-24T19:22:02.544Z"
   },
   {
    "duration": 472,
    "start_time": "2022-01-24T19:22:03.654Z"
   },
   {
    "duration": 636,
    "start_time": "2022-01-24T19:22:04.127Z"
   },
   {
    "duration": 571,
    "start_time": "2022-01-24T19:22:04.765Z"
   },
   {
    "duration": 1186,
    "start_time": "2022-01-24T19:22:05.338Z"
   },
   {
    "duration": 703,
    "start_time": "2022-01-24T19:22:06.525Z"
   },
   {
    "duration": 765,
    "start_time": "2022-01-24T19:22:07.230Z"
   },
   {
    "duration": 681,
    "start_time": "2022-01-24T19:22:07.997Z"
   },
   {
    "duration": 443,
    "start_time": "2022-01-24T19:22:08.680Z"
   },
   {
    "duration": 1003,
    "start_time": "2022-01-24T19:22:09.125Z"
   },
   {
    "duration": 264,
    "start_time": "2022-01-24T19:22:10.131Z"
   },
   {
    "duration": 647,
    "start_time": "2022-01-24T19:22:10.397Z"
   },
   {
    "duration": 474,
    "start_time": "2022-01-24T19:22:11.046Z"
   },
   {
    "duration": 2634,
    "start_time": "2022-01-24T19:22:11.522Z"
   },
   {
    "duration": 5601,
    "start_time": "2022-01-24T19:22:14.158Z"
   },
   {
    "duration": 1001,
    "start_time": "2022-01-24T19:22:19.761Z"
   },
   {
    "duration": 616,
    "start_time": "2022-01-24T19:22:20.764Z"
   },
   {
    "duration": 1622,
    "start_time": "2022-01-24T19:22:21.382Z"
   },
   {
    "duration": 1367,
    "start_time": "2022-01-24T19:22:23.006Z"
   },
   {
    "duration": 925,
    "start_time": "2022-01-24T19:22:24.375Z"
   },
   {
    "duration": 692,
    "start_time": "2022-01-24T19:22:25.302Z"
   },
   {
    "duration": 1310,
    "start_time": "2022-01-24T19:22:25.996Z"
   },
   {
    "duration": 950,
    "start_time": "2022-01-24T19:22:27.308Z"
   },
   {
    "duration": 809,
    "start_time": "2022-01-24T19:22:28.259Z"
   },
   {
    "duration": 931,
    "start_time": "2022-01-24T19:22:29.070Z"
   },
   {
    "duration": 796,
    "start_time": "2022-01-24T19:22:30.003Z"
   },
   {
    "duration": 1228,
    "start_time": "2022-01-24T19:22:30.800Z"
   },
   {
    "duration": 1193,
    "start_time": "2022-01-24T19:22:32.029Z"
   },
   {
    "duration": 804,
    "start_time": "2022-01-24T19:22:33.224Z"
   },
   {
    "duration": 1379,
    "start_time": "2022-01-24T19:22:34.030Z"
   },
   {
    "duration": 1376,
    "start_time": "2022-01-24T19:22:35.411Z"
   },
   {
    "duration": 1103,
    "start_time": "2022-01-24T19:22:36.789Z"
   },
   {
    "duration": 790,
    "start_time": "2022-01-24T19:22:37.894Z"
   },
   {
    "duration": 999,
    "start_time": "2022-01-24T19:22:38.686Z"
   },
   {
    "duration": 710,
    "start_time": "2022-01-24T19:23:23.352Z"
   },
   {
    "duration": 79,
    "start_time": "2022-01-24T19:23:24.064Z"
   },
   {
    "duration": 747,
    "start_time": "2022-01-24T19:23:24.146Z"
   },
   {
    "duration": 1064,
    "start_time": "2022-01-24T19:23:24.895Z"
   },
   {
    "duration": 1043,
    "start_time": "2022-01-24T19:23:25.961Z"
   },
   {
    "duration": 714,
    "start_time": "2022-01-24T19:23:27.006Z"
   },
   {
    "duration": 645,
    "start_time": "2022-01-24T19:23:27.722Z"
   },
   {
    "duration": 1443,
    "start_time": "2022-01-24T19:23:28.370Z"
   },
   {
    "duration": 728,
    "start_time": "2022-01-24T19:23:29.815Z"
   },
   {
    "duration": 632,
    "start_time": "2022-01-24T19:23:30.545Z"
   },
   {
    "duration": 547,
    "start_time": "2022-01-24T19:23:31.180Z"
   },
   {
    "duration": 986,
    "start_time": "2022-01-24T19:23:31.728Z"
   },
   {
    "duration": 1187,
    "start_time": "2022-01-24T19:23:32.716Z"
   },
   {
    "duration": 832,
    "start_time": "2022-01-24T19:23:33.905Z"
   },
   {
    "duration": 486,
    "start_time": "2022-01-24T19:23:34.739Z"
   },
   {
    "duration": 1148,
    "start_time": "2022-01-24T19:23:35.226Z"
   },
   {
    "duration": 971,
    "start_time": "2022-01-24T19:23:36.377Z"
   },
   {
    "duration": 1143,
    "start_time": "2022-01-24T19:23:37.350Z"
   },
   {
    "duration": 561,
    "start_time": "2022-01-24T19:23:38.494Z"
   },
   {
    "duration": 809,
    "start_time": "2022-01-24T19:23:39.056Z"
   },
   {
    "duration": 1254,
    "start_time": "2022-01-24T19:23:39.866Z"
   },
   {
    "duration": 903,
    "start_time": "2022-01-24T19:23:41.122Z"
   },
   {
    "duration": 1261,
    "start_time": "2022-01-24T19:23:42.028Z"
   },
   {
    "duration": 480,
    "start_time": "2022-01-24T19:23:43.291Z"
   },
   {
    "duration": 1141,
    "start_time": "2022-01-24T19:23:43.772Z"
   },
   {
    "duration": 1601,
    "start_time": "2022-01-24T19:23:44.914Z"
   },
   {
    "duration": 859,
    "start_time": "2022-01-24T19:23:46.517Z"
   },
   {
    "duration": 1014,
    "start_time": "2022-01-24T19:23:47.377Z"
   },
   {
    "duration": 691,
    "start_time": "2022-01-24T19:23:48.393Z"
   },
   {
    "duration": 1685,
    "start_time": "2022-01-24T19:23:49.086Z"
   },
   {
    "duration": 1251,
    "start_time": "2022-01-24T19:23:50.773Z"
   },
   {
    "duration": 455,
    "start_time": "2022-01-24T19:23:52.025Z"
   },
   {
    "duration": 912,
    "start_time": "2022-01-24T19:23:52.482Z"
   },
   {
    "duration": 471,
    "start_time": "2022-01-24T19:23:53.396Z"
   },
   {
    "duration": 964,
    "start_time": "2022-01-24T19:23:53.868Z"
   },
   {
    "duration": 564,
    "start_time": "2022-01-24T19:23:54.833Z"
   },
   {
    "duration": 883,
    "start_time": "2022-01-24T19:23:55.398Z"
   },
   {
    "duration": 781,
    "start_time": "2022-01-24T19:23:56.284Z"
   },
   {
    "duration": 574,
    "start_time": "2022-01-24T19:23:57.067Z"
   },
   {
    "duration": 304,
    "start_time": "2022-01-24T19:23:57.642Z"
   },
   {
    "duration": 408,
    "start_time": "2022-01-24T19:23:57.948Z"
   },
   {
    "duration": 590,
    "start_time": "2022-01-24T19:23:58.357Z"
   },
   {
    "duration": 438,
    "start_time": "2022-01-24T19:23:58.949Z"
   },
   {
    "duration": 777,
    "start_time": "2022-01-24T19:23:59.389Z"
   },
   {
    "duration": 464,
    "start_time": "2022-01-24T19:24:00.168Z"
   },
   {
    "duration": 778,
    "start_time": "2022-01-24T19:24:00.634Z"
   },
   {
    "duration": 16,
    "start_time": "2022-01-24T19:40:38.055Z"
   },
   {
    "duration": 178,
    "start_time": "2022-01-24T19:40:41.755Z"
   },
   {
    "duration": 329,
    "start_time": "2022-01-24T19:42:40.154Z"
   },
   {
    "duration": 272,
    "start_time": "2022-01-24T19:42:46.552Z"
   },
   {
    "duration": 194,
    "start_time": "2022-01-24T19:43:24.900Z"
   },
   {
    "duration": 292,
    "start_time": "2022-01-24T19:45:21.603Z"
   },
   {
    "duration": 485,
    "start_time": "2022-01-24T19:45:36.560Z"
   },
   {
    "duration": 2671,
    "start_time": "2022-01-24T19:45:59.691Z"
   },
   {
    "duration": 18,
    "start_time": "2022-01-24T19:48:23.580Z"
   },
   {
    "duration": 16,
    "start_time": "2022-01-24T19:48:33.264Z"
   },
   {
    "duration": 6443,
    "start_time": "2022-01-24T19:49:54.403Z"
   },
   {
    "duration": 2932,
    "start_time": "2022-01-24T19:50:08.761Z"
   },
   {
    "duration": 270,
    "start_time": "2022-01-24T19:52:09.615Z"
   },
   {
    "duration": 17,
    "start_time": "2022-01-24T19:52:40.575Z"
   },
   {
    "duration": 14,
    "start_time": "2022-01-24T19:53:00.923Z"
   },
   {
    "duration": 17,
    "start_time": "2022-01-24T19:53:06.760Z"
   },
   {
    "duration": 249,
    "start_time": "2022-01-24T19:53:55.876Z"
   },
   {
    "duration": 271,
    "start_time": "2022-01-24T19:54:02.446Z"
   },
   {
    "duration": 6242,
    "start_time": "2022-01-24T19:54:08.831Z"
   },
   {
    "duration": 6570,
    "start_time": "2022-01-24T19:54:30.362Z"
   },
   {
    "duration": 14,
    "start_time": "2022-01-24T19:55:27.722Z"
   },
   {
    "duration": 30,
    "start_time": "2022-01-24T19:56:04.610Z"
   },
   {
    "duration": 266,
    "start_time": "2022-01-24T19:56:16.299Z"
   },
   {
    "duration": 420,
    "start_time": "2022-01-24T19:56:56.155Z"
   },
   {
    "duration": 17,
    "start_time": "2022-01-24T19:58:02.083Z"
   },
   {
    "duration": 171,
    "start_time": "2022-01-24T19:58:09.430Z"
   },
   {
    "duration": 6607,
    "start_time": "2022-01-24T19:58:23.790Z"
   },
   {
    "duration": 221,
    "start_time": "2022-01-24T19:58:32.299Z"
   },
   {
    "duration": 166,
    "start_time": "2022-01-24T19:58:43.854Z"
   },
   {
    "duration": 175,
    "start_time": "2022-01-24T19:58:57.987Z"
   },
   {
    "duration": 18,
    "start_time": "2022-01-24T19:59:07.923Z"
   },
   {
    "duration": 569,
    "start_time": "2022-01-24T19:59:10.790Z"
   },
   {
    "duration": 10,
    "start_time": "2022-01-24T20:00:30.660Z"
   },
   {
    "duration": 604,
    "start_time": "2022-01-24T20:02:07.598Z"
   },
   {
    "duration": 2071,
    "start_time": "2022-01-24T20:02:08.204Z"
   },
   {
    "duration": 2237,
    "start_time": "2022-01-24T20:02:10.277Z"
   },
   {
    "duration": 3700,
    "start_time": "2022-01-24T20:02:12.516Z"
   },
   {
    "duration": 4402,
    "start_time": "2022-01-24T20:02:16.218Z"
   },
   {
    "duration": 2339,
    "start_time": "2022-01-24T20:02:20.622Z"
   },
   {
    "duration": 2609,
    "start_time": "2022-01-24T20:02:22.964Z"
   },
   {
    "duration": 2023,
    "start_time": "2022-01-24T20:02:25.575Z"
   },
   {
    "duration": 4974,
    "start_time": "2022-01-24T20:02:27.600Z"
   },
   {
    "duration": 2963,
    "start_time": "2022-01-24T20:02:32.577Z"
   },
   {
    "duration": 4011,
    "start_time": "2022-01-24T20:02:35.542Z"
   },
   {
    "duration": 2389,
    "start_time": "2022-01-24T20:02:39.554Z"
   },
   {
    "duration": 3395,
    "start_time": "2022-01-24T20:02:41.945Z"
   },
   {
    "duration": 2163,
    "start_time": "2022-01-24T20:02:45.342Z"
   },
   {
    "duration": 1532,
    "start_time": "2022-01-24T20:02:47.508Z"
   },
   {
    "duration": 2013,
    "start_time": "2022-01-24T20:02:49.042Z"
   },
   {
    "duration": 1405,
    "start_time": "2022-01-24T20:02:51.057Z"
   },
   {
    "duration": 886,
    "start_time": "2022-01-24T20:02:52.464Z"
   },
   {
    "duration": 1204,
    "start_time": "2022-01-24T20:02:53.352Z"
   },
   {
    "duration": 854,
    "start_time": "2022-01-24T20:02:54.557Z"
   },
   {
    "duration": 900,
    "start_time": "2022-01-24T20:02:55.413Z"
   },
   {
    "duration": 795,
    "start_time": "2022-01-24T20:02:56.315Z"
   },
   {
    "duration": 1198,
    "start_time": "2022-01-24T20:02:57.112Z"
   },
   {
    "duration": 20094,
    "start_time": "2022-01-24T20:02:58.311Z"
   },
   {
    "duration": 9722,
    "start_time": "2022-01-24T20:03:18.407Z"
   },
   {
    "duration": 10817,
    "start_time": "2022-01-24T20:03:28.131Z"
   },
   {
    "duration": 6616,
    "start_time": "2022-01-24T20:03:38.949Z"
   },
   {
    "duration": 7177,
    "start_time": "2022-01-24T20:03:45.566Z"
   },
   {
    "duration": 2855,
    "start_time": "2022-01-24T20:03:52.745Z"
   },
   {
    "duration": 6516,
    "start_time": "2022-01-24T20:03:55.602Z"
   },
   {
    "duration": 7250,
    "start_time": "2022-01-24T20:04:02.121Z"
   },
   {
    "duration": 6430,
    "start_time": "2022-01-24T20:04:09.373Z"
   },
   {
    "duration": 4074,
    "start_time": "2022-01-24T20:04:15.805Z"
   },
   {
    "duration": 5939,
    "start_time": "2022-01-24T20:04:19.881Z"
   },
   {
    "duration": 7700,
    "start_time": "2022-01-24T20:04:25.822Z"
   },
   {
    "duration": 6109,
    "start_time": "2022-01-24T20:04:33.523Z"
   },
   {
    "duration": 4930,
    "start_time": "2022-01-24T20:04:39.634Z"
   },
   {
    "duration": 7655,
    "start_time": "2022-01-24T20:04:44.565Z"
   },
   {
    "duration": 6345,
    "start_time": "2022-01-24T20:04:52.222Z"
   },
   {
    "duration": 4604,
    "start_time": "2022-01-24T20:04:58.569Z"
   },
   {
    "duration": 2719,
    "start_time": "2022-01-24T20:05:03.174Z"
   },
   {
    "duration": 4068,
    "start_time": "2022-01-24T20:05:05.894Z"
   },
   {
    "duration": 666,
    "start_time": "2022-01-24T20:05:09.964Z"
   },
   {
    "duration": 185,
    "start_time": "2022-01-24T20:05:10.632Z"
   },
   {
    "duration": 17,
    "start_time": "2022-01-24T20:05:17.329Z"
   },
   {
    "duration": 2863,
    "start_time": "2022-01-24T20:05:21.464Z"
   },
   {
    "duration": 184,
    "start_time": "2022-01-24T20:05:39.686Z"
   },
   {
    "duration": 19,
    "start_time": "2022-01-24T20:05:48.577Z"
   },
   {
    "duration": 160,
    "start_time": "2022-01-24T20:05:51.913Z"
   },
   {
    "duration": 179,
    "start_time": "2022-01-24T20:06:12.746Z"
   },
   {
    "duration": 169,
    "start_time": "2022-01-24T20:06:17.998Z"
   },
   {
    "duration": 172,
    "start_time": "2022-01-24T20:06:28.495Z"
   },
   {
    "duration": 238,
    "start_time": "2022-01-24T20:06:44.483Z"
   },
   {
    "duration": 321,
    "start_time": "2022-01-24T20:08:38.492Z"
   },
   {
    "duration": 554,
    "start_time": "2022-01-24T20:08:44.021Z"
   },
   {
    "duration": 176,
    "start_time": "2022-01-24T20:08:54.456Z"
   },
   {
    "duration": 187,
    "start_time": "2022-01-24T20:09:00.543Z"
   },
   {
    "duration": 299,
    "start_time": "2022-01-24T20:09:06.764Z"
   },
   {
    "duration": 284,
    "start_time": "2022-01-24T20:09:20.496Z"
   },
   {
    "duration": 199,
    "start_time": "2022-01-24T20:09:42.966Z"
   },
   {
    "duration": 173,
    "start_time": "2022-01-24T20:09:57.956Z"
   },
   {
    "duration": 182,
    "start_time": "2022-01-24T20:10:02.769Z"
   },
   {
    "duration": 173,
    "start_time": "2022-01-24T20:10:26.686Z"
   },
   {
    "duration": 197,
    "start_time": "2022-01-24T20:10:57.632Z"
   },
   {
    "duration": 163,
    "start_time": "2022-01-24T20:11:03.628Z"
   },
   {
    "duration": 133,
    "start_time": "2022-01-24T20:11:47.547Z"
   },
   {
    "duration": 149,
    "start_time": "2022-01-24T20:12:16.280Z"
   },
   {
    "duration": 194,
    "start_time": "2022-01-24T20:20:27.324Z"
   },
   {
    "duration": 461,
    "start_time": "2022-01-24T20:22:49.315Z"
   },
   {
    "duration": 214,
    "start_time": "2022-01-24T20:23:14.167Z"
   },
   {
    "duration": 219,
    "start_time": "2022-01-24T20:23:24.966Z"
   },
   {
    "duration": 182,
    "start_time": "2022-01-24T20:23:36.235Z"
   },
   {
    "duration": 18,
    "start_time": "2022-01-24T20:24:20.499Z"
   },
   {
    "duration": 173,
    "start_time": "2022-01-24T20:24:23.337Z"
   },
   {
    "duration": 172,
    "start_time": "2022-01-24T20:24:43.375Z"
   },
   {
    "duration": 173,
    "start_time": "2022-01-24T20:24:50.081Z"
   },
   {
    "duration": 171,
    "start_time": "2022-01-24T20:25:06.183Z"
   },
   {
    "duration": 165,
    "start_time": "2022-01-24T20:25:18.494Z"
   },
   {
    "duration": 338,
    "start_time": "2022-01-24T20:25:22.440Z"
   },
   {
    "duration": 161,
    "start_time": "2022-01-24T20:25:26.518Z"
   },
   {
    "duration": 7385,
    "start_time": "2022-01-24T20:26:32.837Z"
   },
   {
    "duration": 164,
    "start_time": "2022-01-24T20:26:49.991Z"
   },
   {
    "duration": 169,
    "start_time": "2022-01-24T20:27:32.009Z"
   },
   {
    "duration": 171,
    "start_time": "2022-01-24T20:27:40.830Z"
   },
   {
    "duration": 172,
    "start_time": "2022-01-24T20:27:46.136Z"
   },
   {
    "duration": 101,
    "start_time": "2022-01-24T20:27:52.317Z"
   },
   {
    "duration": 265,
    "start_time": "2022-01-24T20:27:55.375Z"
   },
   {
    "duration": 258,
    "start_time": "2022-01-24T20:28:37.537Z"
   },
   {
    "duration": 11,
    "start_time": "2022-01-24T20:30:24.644Z"
   },
   {
    "duration": 181,
    "start_time": "2022-01-24T20:31:15.394Z"
   },
   {
    "duration": 374,
    "start_time": "2022-01-24T20:31:22.993Z"
   },
   {
    "duration": 160,
    "start_time": "2022-01-24T20:31:43.591Z"
   },
   {
    "duration": 176,
    "start_time": "2022-01-24T20:33:01.102Z"
   },
   {
    "duration": 161,
    "start_time": "2022-01-24T20:34:07.440Z"
   },
   {
    "duration": 169,
    "start_time": "2022-01-24T20:34:13.195Z"
   },
   {
    "duration": 178,
    "start_time": "2022-01-24T20:34:36.953Z"
   },
   {
    "duration": 19,
    "start_time": "2022-01-24T20:34:59.179Z"
   },
   {
    "duration": 6761,
    "start_time": "2022-01-24T20:35:01.450Z"
   },
   {
    "duration": 3099,
    "start_time": "2022-01-24T20:35:30.035Z"
   },
   {
    "duration": 2951,
    "start_time": "2022-01-24T20:35:34.602Z"
   },
   {
    "duration": 169,
    "start_time": "2022-01-24T20:35:42.264Z"
   },
   {
    "duration": 8268,
    "start_time": "2022-01-24T20:36:22.676Z"
   },
   {
    "duration": 183,
    "start_time": "2022-01-24T20:36:33.568Z"
   },
   {
    "duration": 17,
    "start_time": "2022-01-24T20:36:52.189Z"
   },
   {
    "duration": 10205,
    "start_time": "2022-01-24T20:36:55.217Z"
   },
   {
    "duration": 6611,
    "start_time": "2022-01-24T20:37:26.545Z"
   },
   {
    "duration": 181,
    "start_time": "2022-01-24T20:37:50.075Z"
   },
   {
    "duration": 18,
    "start_time": "2022-01-24T20:39:43.270Z"
   },
   {
    "duration": 16,
    "start_time": "2022-01-24T20:39:57.926Z"
   },
   {
    "duration": 672,
    "start_time": "2022-01-24T20:40:23.411Z"
   },
   {
    "duration": 815,
    "start_time": "2022-01-24T20:40:29.328Z"
   },
   {
    "duration": 605,
    "start_time": "2022-01-24T20:40:42.705Z"
   },
   {
    "duration": 209,
    "start_time": "2022-01-24T20:40:48.260Z"
   },
   {
    "duration": 427,
    "start_time": "2022-01-24T20:40:57.884Z"
   },
   {
    "duration": 573,
    "start_time": "2022-01-24T20:41:04.683Z"
   },
   {
    "duration": 21580,
    "start_time": "2022-01-24T20:41:11.165Z"
   },
   {
    "duration": 340,
    "start_time": "2022-01-24T20:41:39.050Z"
   },
   {
    "duration": 22,
    "start_time": "2022-01-24T20:42:29.847Z"
   },
   {
    "duration": 443,
    "start_time": "2022-01-24T20:42:36.789Z"
   },
   {
    "duration": 649,
    "start_time": "2022-01-25T09:33:50.569Z"
   },
   {
    "duration": 334,
    "start_time": "2022-01-25T09:33:51.220Z"
   },
   {
    "duration": 62,
    "start_time": "2022-01-25T09:33:51.556Z"
   },
   {
    "duration": 3,
    "start_time": "2022-01-25T09:33:51.620Z"
   },
   {
    "duration": 15,
    "start_time": "2022-01-25T09:33:51.625Z"
   },
   {
    "duration": 29,
    "start_time": "2022-01-25T09:33:51.641Z"
   },
   {
    "duration": 11,
    "start_time": "2022-01-25T09:33:51.672Z"
   },
   {
    "duration": 5,
    "start_time": "2022-01-25T09:33:51.685Z"
   },
   {
    "duration": 16,
    "start_time": "2022-01-25T09:33:51.692Z"
   },
   {
    "duration": 30,
    "start_time": "2022-01-25T09:33:51.709Z"
   },
   {
    "duration": 17,
    "start_time": "2022-01-25T09:33:51.740Z"
   },
   {
    "duration": 21,
    "start_time": "2022-01-25T09:33:51.758Z"
   },
   {
    "duration": 9,
    "start_time": "2022-01-25T09:33:51.781Z"
   },
   {
    "duration": 42,
    "start_time": "2022-01-25T09:33:51.791Z"
   },
   {
    "duration": 20,
    "start_time": "2022-01-25T09:33:51.835Z"
   },
   {
    "duration": 25,
    "start_time": "2022-01-25T09:33:51.857Z"
   },
   {
    "duration": 12,
    "start_time": "2022-01-25T09:33:51.884Z"
   },
   {
    "duration": 37,
    "start_time": "2022-01-25T09:33:51.898Z"
   },
   {
    "duration": 31,
    "start_time": "2022-01-25T09:33:51.937Z"
   },
   {
    "duration": 14,
    "start_time": "2022-01-25T09:33:51.970Z"
   },
   {
    "duration": 24,
    "start_time": "2022-01-25T09:33:51.986Z"
   },
   {
    "duration": 32,
    "start_time": "2022-01-25T09:33:52.012Z"
   },
   {
    "duration": 28,
    "start_time": "2022-01-25T09:33:52.047Z"
   },
   {
    "duration": 197,
    "start_time": "2022-01-25T09:33:52.077Z"
   },
   {
    "duration": 132,
    "start_time": "2022-01-25T09:33:52.276Z"
   },
   {
    "duration": 8,
    "start_time": "2022-01-25T09:33:52.409Z"
   },
   {
    "duration": 20,
    "start_time": "2022-01-25T09:33:52.419Z"
   },
   {
    "duration": 185,
    "start_time": "2022-01-25T09:33:52.441Z"
   },
   {
    "duration": 179,
    "start_time": "2022-01-25T09:33:52.628Z"
   },
   {
    "duration": 7,
    "start_time": "2022-01-25T09:33:52.809Z"
   },
   {
    "duration": 15,
    "start_time": "2022-01-25T09:33:52.817Z"
   },
   {
    "duration": 225,
    "start_time": "2022-01-25T09:33:52.834Z"
   },
   {
    "duration": 129,
    "start_time": "2022-01-25T09:33:53.061Z"
   },
   {
    "duration": 7,
    "start_time": "2022-01-25T09:33:53.193Z"
   },
   {
    "duration": 7,
    "start_time": "2022-01-25T09:33:53.201Z"
   },
   {
    "duration": 23,
    "start_time": "2022-01-25T09:33:53.209Z"
   },
   {
    "duration": 11,
    "start_time": "2022-01-25T09:33:53.234Z"
   },
   {
    "duration": 173,
    "start_time": "2022-01-25T09:33:53.247Z"
   },
   {
    "duration": 8,
    "start_time": "2022-01-25T09:33:53.422Z"
   },
   {
    "duration": 179,
    "start_time": "2022-01-25T09:33:53.431Z"
   },
   {
    "duration": 147,
    "start_time": "2022-01-25T09:33:53.612Z"
   },
   {
    "duration": 22,
    "start_time": "2022-01-25T09:33:53.761Z"
   },
   {
    "duration": 82,
    "start_time": "2022-01-25T09:33:53.784Z"
   },
   {
    "duration": 3,
    "start_time": "2022-01-25T09:33:53.864Z"
   },
   {
    "duration": 17,
    "start_time": "2022-01-25T09:35:41.985Z"
   },
   {
    "duration": 342,
    "start_time": "2022-01-25T09:37:55.316Z"
   },
   {
    "duration": 85,
    "start_time": "2022-01-25T09:41:18.743Z"
   },
   {
    "duration": 19,
    "start_time": "2022-01-25T09:41:35.968Z"
   },
   {
    "duration": 560,
    "start_time": "2022-01-25T09:41:40.992Z"
   },
   {
    "duration": 785,
    "start_time": "2022-01-25T09:42:00.092Z"
   },
   {
    "duration": 336,
    "start_time": "2022-01-25T09:42:07.148Z"
   },
   {
    "duration": 17,
    "start_time": "2022-01-25T09:42:13.161Z"
   },
   {
    "duration": 329,
    "start_time": "2022-01-25T09:42:14.509Z"
   },
   {
    "duration": 18,
    "start_time": "2022-01-25T09:42:21.454Z"
   },
   {
    "duration": 399,
    "start_time": "2022-01-25T09:42:22.732Z"
   },
   {
    "duration": 279,
    "start_time": "2022-01-25T09:47:06.632Z"
   },
   {
    "duration": 662,
    "start_time": "2022-01-25T09:47:15.755Z"
   },
   {
    "duration": 75,
    "start_time": "2022-01-25T09:47:16.419Z"
   },
   {
    "duration": 41,
    "start_time": "2022-01-25T09:47:16.496Z"
   },
   {
    "duration": 4,
    "start_time": "2022-01-25T09:47:16.539Z"
   },
   {
    "duration": 11,
    "start_time": "2022-01-25T09:47:16.545Z"
   },
   {
    "duration": 34,
    "start_time": "2022-01-25T09:47:16.557Z"
   },
   {
    "duration": 11,
    "start_time": "2022-01-25T09:47:16.593Z"
   },
   {
    "duration": 4,
    "start_time": "2022-01-25T09:47:16.605Z"
   },
   {
    "duration": 6,
    "start_time": "2022-01-25T09:47:16.611Z"
   },
   {
    "duration": 7,
    "start_time": "2022-01-25T09:47:16.619Z"
   },
   {
    "duration": 11,
    "start_time": "2022-01-25T09:47:16.628Z"
   },
   {
    "duration": 31,
    "start_time": "2022-01-25T09:47:16.641Z"
   },
   {
    "duration": 3,
    "start_time": "2022-01-25T09:47:16.674Z"
   },
   {
    "duration": 37,
    "start_time": "2022-01-25T09:47:16.679Z"
   },
   {
    "duration": 7,
    "start_time": "2022-01-25T09:47:16.718Z"
   },
   {
    "duration": 15,
    "start_time": "2022-01-25T09:47:16.726Z"
   },
   {
    "duration": 10,
    "start_time": "2022-01-25T09:47:16.742Z"
   },
   {
    "duration": 26,
    "start_time": "2022-01-25T09:47:16.753Z"
   },
   {
    "duration": 26,
    "start_time": "2022-01-25T09:47:16.781Z"
   },
   {
    "duration": 17,
    "start_time": "2022-01-25T09:47:16.809Z"
   },
   {
    "duration": 9,
    "start_time": "2022-01-25T09:47:16.827Z"
   },
   {
    "duration": 34,
    "start_time": "2022-01-25T09:47:16.838Z"
   },
   {
    "duration": 7,
    "start_time": "2022-01-25T09:47:16.874Z"
   },
   {
    "duration": 204,
    "start_time": "2022-01-25T09:47:16.883Z"
   },
   {
    "duration": 134,
    "start_time": "2022-01-25T09:47:17.089Z"
   },
   {
    "duration": 13,
    "start_time": "2022-01-25T09:47:17.225Z"
   },
   {
    "duration": 8,
    "start_time": "2022-01-25T09:47:17.241Z"
   },
   {
    "duration": 220,
    "start_time": "2022-01-25T09:47:17.252Z"
   },
   {
    "duration": 207,
    "start_time": "2022-01-25T09:47:17.474Z"
   },
   {
    "duration": 7,
    "start_time": "2022-01-25T09:47:17.683Z"
   },
   {
    "duration": 9,
    "start_time": "2022-01-25T09:47:17.692Z"
   },
   {
    "duration": 237,
    "start_time": "2022-01-25T09:47:17.702Z"
   },
   {
    "duration": 146,
    "start_time": "2022-01-25T09:47:17.941Z"
   },
   {
    "duration": 9,
    "start_time": "2022-01-25T09:47:18.090Z"
   },
   {
    "duration": 6,
    "start_time": "2022-01-25T09:47:18.102Z"
   },
   {
    "duration": 20,
    "start_time": "2022-01-25T09:47:18.110Z"
   },
   {
    "duration": 4,
    "start_time": "2022-01-25T09:47:18.132Z"
   },
   {
    "duration": 258,
    "start_time": "2022-01-25T09:47:18.137Z"
   },
   {
    "duration": 8,
    "start_time": "2022-01-25T09:47:18.397Z"
   },
   {
    "duration": 176,
    "start_time": "2022-01-25T09:47:18.406Z"
   },
   {
    "duration": 157,
    "start_time": "2022-01-25T09:47:18.584Z"
   },
   {
    "duration": 30,
    "start_time": "2022-01-25T09:47:18.743Z"
   },
   {
    "duration": 16,
    "start_time": "2022-01-25T09:47:25.044Z"
   },
   {
    "duration": 366,
    "start_time": "2022-01-25T09:47:25.986Z"
   },
   {
    "duration": 409,
    "start_time": "2022-01-25T09:48:54.105Z"
   },
   {
    "duration": 336,
    "start_time": "2022-01-25T09:49:08.987Z"
   },
   {
    "duration": 345,
    "start_time": "2022-01-25T09:52:35.876Z"
   },
   {
    "duration": 318,
    "start_time": "2022-01-25T09:52:51.425Z"
   },
   {
    "duration": 421,
    "start_time": "2022-01-25T09:53:00.496Z"
   },
   {
    "duration": 30,
    "start_time": "2022-01-25T13:29:33.055Z"
   },
   {
    "duration": 21,
    "start_time": "2022-01-25T13:30:49.440Z"
   },
   {
    "duration": 7,
    "start_time": "2022-01-25T13:32:37.964Z"
   },
   {
    "duration": 144,
    "start_time": "2022-01-25T13:32:53.288Z"
   },
   {
    "duration": 150,
    "start_time": "2022-01-25T13:32:58.973Z"
   },
   {
    "duration": 150,
    "start_time": "2022-01-25T13:34:15.529Z"
   },
   {
    "duration": 161,
    "start_time": "2022-01-25T13:34:26.020Z"
   },
   {
    "duration": 156,
    "start_time": "2022-01-25T13:35:03.829Z"
   },
   {
    "duration": 162,
    "start_time": "2022-01-25T13:35:09.689Z"
   },
   {
    "duration": 142,
    "start_time": "2022-01-25T13:35:19.988Z"
   },
   {
    "duration": 319,
    "start_time": "2022-01-25T13:37:28.542Z"
   },
   {
    "duration": 153,
    "start_time": "2022-01-25T13:37:51.167Z"
   },
   {
    "duration": 875,
    "start_time": "2022-01-25T13:39:57.982Z"
   },
   {
    "duration": 81,
    "start_time": "2022-01-25T13:47:32.321Z"
   },
   {
    "duration": 80,
    "start_time": "2022-01-25T13:47:42.535Z"
   },
   {
    "duration": 2363,
    "start_time": "2022-01-25T13:57:14.011Z"
   },
   {
    "duration": 85,
    "start_time": "2022-01-25T13:58:07.552Z"
   },
   {
    "duration": 213,
    "start_time": "2022-01-25T13:58:14.431Z"
   },
   {
    "duration": 96,
    "start_time": "2022-01-25T13:59:55.678Z"
   },
   {
    "duration": 180,
    "start_time": "2022-01-25T14:03:54.399Z"
   },
   {
    "duration": 194,
    "start_time": "2022-01-25T14:06:11.277Z"
   },
   {
    "duration": 256,
    "start_time": "2022-01-25T14:06:36.167Z"
   },
   {
    "duration": 284,
    "start_time": "2022-01-25T14:06:41.625Z"
   },
   {
    "duration": 215,
    "start_time": "2022-01-25T14:06:49.114Z"
   },
   {
    "duration": 154,
    "start_time": "2022-01-25T14:30:04.632Z"
   },
   {
    "duration": 14,
    "start_time": "2022-01-25T14:35:03.756Z"
   },
   {
    "duration": 190,
    "start_time": "2022-01-25T14:35:29.960Z"
   },
   {
    "duration": 263,
    "start_time": "2022-01-25T14:37:26.968Z"
   },
   {
    "duration": 86,
    "start_time": "2022-01-25T14:38:58.736Z"
   },
   {
    "duration": 623,
    "start_time": "2022-01-25T14:39:23.490Z"
   },
   {
    "duration": 71,
    "start_time": "2022-01-25T14:39:24.115Z"
   },
   {
    "duration": 41,
    "start_time": "2022-01-25T14:39:24.188Z"
   },
   {
    "duration": 4,
    "start_time": "2022-01-25T14:39:24.231Z"
   },
   {
    "duration": 8,
    "start_time": "2022-01-25T14:39:24.237Z"
   },
   {
    "duration": 26,
    "start_time": "2022-01-25T14:39:24.247Z"
   },
   {
    "duration": 12,
    "start_time": "2022-01-25T14:39:24.275Z"
   },
   {
    "duration": 4,
    "start_time": "2022-01-25T14:39:24.289Z"
   },
   {
    "duration": 5,
    "start_time": "2022-01-25T14:39:24.295Z"
   },
   {
    "duration": 6,
    "start_time": "2022-01-25T14:39:24.301Z"
   },
   {
    "duration": 9,
    "start_time": "2022-01-25T14:39:24.309Z"
   },
   {
    "duration": 13,
    "start_time": "2022-01-25T14:39:24.320Z"
   },
   {
    "duration": 11,
    "start_time": "2022-01-25T14:39:24.334Z"
   },
   {
    "duration": 30,
    "start_time": "2022-01-25T14:39:24.372Z"
   },
   {
    "duration": 6,
    "start_time": "2022-01-25T14:39:24.404Z"
   },
   {
    "duration": 8,
    "start_time": "2022-01-25T14:39:24.412Z"
   },
   {
    "duration": 8,
    "start_time": "2022-01-25T14:39:24.422Z"
   },
   {
    "duration": 10,
    "start_time": "2022-01-25T14:39:24.432Z"
   },
   {
    "duration": 52,
    "start_time": "2022-01-25T14:39:24.443Z"
   },
   {
    "duration": 16,
    "start_time": "2022-01-25T14:39:24.496Z"
   },
   {
    "duration": 9,
    "start_time": "2022-01-25T14:39:24.514Z"
   },
   {
    "duration": 12,
    "start_time": "2022-01-25T14:39:24.525Z"
   },
   {
    "duration": 9,
    "start_time": "2022-01-25T14:39:24.541Z"
   },
   {
    "duration": 236,
    "start_time": "2022-01-25T14:39:24.552Z"
   },
   {
    "duration": 148,
    "start_time": "2022-01-25T14:39:24.790Z"
   },
   {
    "duration": 9,
    "start_time": "2022-01-25T14:39:24.940Z"
   },
   {
    "duration": 22,
    "start_time": "2022-01-25T14:39:24.951Z"
   },
   {
    "duration": 214,
    "start_time": "2022-01-25T14:39:24.974Z"
   },
   {
    "duration": 195,
    "start_time": "2022-01-25T14:39:25.190Z"
   },
   {
    "duration": 7,
    "start_time": "2022-01-25T14:39:25.388Z"
   },
   {
    "duration": 8,
    "start_time": "2022-01-25T14:39:25.398Z"
   },
   {
    "duration": 252,
    "start_time": "2022-01-25T14:39:25.408Z"
   },
   {
    "duration": 144,
    "start_time": "2022-01-25T14:39:25.662Z"
   },
   {
    "duration": 8,
    "start_time": "2022-01-25T14:39:25.808Z"
   },
   {
    "duration": 5,
    "start_time": "2022-01-25T14:39:25.818Z"
   },
   {
    "duration": 16,
    "start_time": "2022-01-25T14:39:25.825Z"
   },
   {
    "duration": 28,
    "start_time": "2022-01-25T14:39:25.843Z"
   },
   {
    "duration": 180,
    "start_time": "2022-01-25T14:39:25.873Z"
   },
   {
    "duration": 17,
    "start_time": "2022-01-25T14:39:26.055Z"
   },
   {
    "duration": 184,
    "start_time": "2022-01-25T14:39:26.074Z"
   },
   {
    "duration": 153,
    "start_time": "2022-01-25T14:39:26.259Z"
   },
   {
    "duration": 19,
    "start_time": "2022-01-25T14:39:26.414Z"
   },
   {
    "duration": 15,
    "start_time": "2022-01-25T14:39:26.435Z"
   },
   {
    "duration": 364,
    "start_time": "2022-01-25T14:39:26.472Z"
   },
   {
    "duration": 36,
    "start_time": "2022-01-25T14:39:26.838Z"
   },
   {
    "duration": 168,
    "start_time": "2022-01-25T14:39:26.875Z"
   },
   {
    "duration": 100,
    "start_time": "2022-01-25T14:39:27.045Z"
   },
   {
    "duration": 248,
    "start_time": "2022-01-25T14:39:27.147Z"
   },
   {
    "duration": 248,
    "start_time": "2022-01-25T14:39:27.397Z"
   },
   {
    "duration": 236,
    "start_time": "2022-01-25T14:39:27.647Z"
   },
   {
    "duration": 239,
    "start_time": "2022-01-25T14:39:27.884Z"
   },
   {
    "duration": 94,
    "start_time": "2022-01-25T14:41:02.825Z"
   },
   {
    "duration": 9,
    "start_time": "2022-01-25T14:41:13.430Z"
   },
   {
    "duration": 9,
    "start_time": "2022-01-25T14:41:22.132Z"
   },
   {
    "duration": 10,
    "start_time": "2022-01-25T14:42:00.176Z"
   },
   {
    "duration": 10,
    "start_time": "2022-01-25T14:42:20.773Z"
   },
   {
    "duration": 332,
    "start_time": "2022-01-25T14:42:39.278Z"
   },
   {
    "duration": 7,
    "start_time": "2022-01-25T14:42:44.220Z"
   },
   {
    "duration": 7,
    "start_time": "2022-01-25T14:43:21.909Z"
   },
   {
    "duration": 6,
    "start_time": "2022-01-25T14:43:28.626Z"
   },
   {
    "duration": 8,
    "start_time": "2022-01-25T14:43:35.857Z"
   },
   {
    "duration": 7,
    "start_time": "2022-01-25T14:44:17.369Z"
   },
   {
    "duration": 141,
    "start_time": "2022-01-25T15:10:41.525Z"
   },
   {
    "duration": 80,
    "start_time": "2022-01-25T15:11:45.503Z"
   },
   {
    "duration": 654,
    "start_time": "2022-01-25T15:15:05.838Z"
   },
   {
    "duration": 71,
    "start_time": "2022-01-25T15:15:06.494Z"
   },
   {
    "duration": 41,
    "start_time": "2022-01-25T15:15:06.566Z"
   },
   {
    "duration": 3,
    "start_time": "2022-01-25T15:15:06.609Z"
   },
   {
    "duration": 6,
    "start_time": "2022-01-25T15:15:06.614Z"
   },
   {
    "duration": 25,
    "start_time": "2022-01-25T15:15:06.622Z"
   },
   {
    "duration": 12,
    "start_time": "2022-01-25T15:15:06.649Z"
   },
   {
    "duration": 3,
    "start_time": "2022-01-25T15:15:06.663Z"
   },
   {
    "duration": 5,
    "start_time": "2022-01-25T15:15:06.672Z"
   },
   {
    "duration": 6,
    "start_time": "2022-01-25T15:15:06.679Z"
   },
   {
    "duration": 10,
    "start_time": "2022-01-25T15:15:06.686Z"
   },
   {
    "duration": 12,
    "start_time": "2022-01-25T15:15:06.697Z"
   },
   {
    "duration": 11,
    "start_time": "2022-01-25T15:15:06.710Z"
   },
   {
    "duration": 31,
    "start_time": "2022-01-25T15:15:06.723Z"
   },
   {
    "duration": 18,
    "start_time": "2022-01-25T15:15:06.756Z"
   },
   {
    "duration": 11,
    "start_time": "2022-01-25T15:15:06.775Z"
   },
   {
    "duration": 9,
    "start_time": "2022-01-25T15:15:06.788Z"
   },
   {
    "duration": 10,
    "start_time": "2022-01-25T15:15:06.799Z"
   },
   {
    "duration": 26,
    "start_time": "2022-01-25T15:15:06.810Z"
   },
   {
    "duration": 50,
    "start_time": "2022-01-25T15:15:06.837Z"
   },
   {
    "duration": 14,
    "start_time": "2022-01-25T15:15:06.889Z"
   },
   {
    "duration": 9,
    "start_time": "2022-01-25T15:15:06.906Z"
   },
   {
    "duration": 9,
    "start_time": "2022-01-25T15:15:06.918Z"
   },
   {
    "duration": 214,
    "start_time": "2022-01-25T15:15:06.929Z"
   },
   {
    "duration": 136,
    "start_time": "2022-01-25T15:15:07.145Z"
   },
   {
    "duration": 8,
    "start_time": "2022-01-25T15:15:07.283Z"
   },
   {
    "duration": 6,
    "start_time": "2022-01-25T15:15:07.293Z"
   },
   {
    "duration": 212,
    "start_time": "2022-01-25T15:15:07.301Z"
   },
   {
    "duration": 192,
    "start_time": "2022-01-25T15:15:07.515Z"
   },
   {
    "duration": 6,
    "start_time": "2022-01-25T15:15:07.709Z"
   },
   {
    "duration": 8,
    "start_time": "2022-01-25T15:15:07.717Z"
   },
   {
    "duration": 247,
    "start_time": "2022-01-25T15:15:07.727Z"
   },
   {
    "duration": 154,
    "start_time": "2022-01-25T15:15:07.977Z"
   },
   {
    "duration": 7,
    "start_time": "2022-01-25T15:15:08.133Z"
   },
   {
    "duration": 20,
    "start_time": "2022-01-25T15:15:08.142Z"
   },
   {
    "duration": 39,
    "start_time": "2022-01-25T15:15:08.164Z"
   },
   {
    "duration": 37,
    "start_time": "2022-01-25T15:15:08.205Z"
   },
   {
    "duration": 220,
    "start_time": "2022-01-25T15:15:08.244Z"
   },
   {
    "duration": 10,
    "start_time": "2022-01-25T15:15:08.466Z"
   },
   {
    "duration": 221,
    "start_time": "2022-01-25T15:15:08.477Z"
   },
   {
    "duration": 149,
    "start_time": "2022-01-25T15:15:08.700Z"
   },
   {
    "duration": 28,
    "start_time": "2022-01-25T15:15:08.851Z"
   },
   {
    "duration": 20,
    "start_time": "2022-01-25T15:15:08.881Z"
   },
   {
    "duration": 385,
    "start_time": "2022-01-25T15:15:08.903Z"
   },
   {
    "duration": 21,
    "start_time": "2022-01-25T15:15:09.289Z"
   },
   {
    "duration": 173,
    "start_time": "2022-01-25T15:15:09.312Z"
   },
   {
    "duration": 101,
    "start_time": "2022-01-25T15:15:09.487Z"
   },
   {
    "duration": 245,
    "start_time": "2022-01-25T15:15:09.591Z"
   },
   {
    "duration": 236,
    "start_time": "2022-01-25T15:15:09.838Z"
   },
   {
    "duration": 223,
    "start_time": "2022-01-25T15:15:10.075Z"
   },
   {
    "duration": 7,
    "start_time": "2022-01-25T15:15:10.300Z"
   },
   {
    "duration": 236,
    "start_time": "2022-01-25T15:15:10.309Z"
   },
   {
    "duration": 624,
    "start_time": "2022-01-30T19:44:40.224Z"
   },
   {
    "duration": 66,
    "start_time": "2022-01-30T19:44:40.850Z"
   },
   {
    "duration": 38,
    "start_time": "2022-01-30T19:44:40.917Z"
   },
   {
    "duration": 3,
    "start_time": "2022-01-30T19:44:40.956Z"
   },
   {
    "duration": 9,
    "start_time": "2022-01-30T19:44:40.961Z"
   },
   {
    "duration": 28,
    "start_time": "2022-01-30T19:44:40.971Z"
   },
   {
    "duration": 10,
    "start_time": "2022-01-30T19:44:41.001Z"
   },
   {
    "duration": 4,
    "start_time": "2022-01-30T19:44:41.013Z"
   },
   {
    "duration": 9,
    "start_time": "2022-01-30T19:44:41.018Z"
   },
   {
    "duration": 10,
    "start_time": "2022-01-30T19:44:41.028Z"
   },
   {
    "duration": 5,
    "start_time": "2022-01-30T19:44:41.039Z"
   },
   {
    "duration": 10,
    "start_time": "2022-01-30T19:44:41.045Z"
   },
   {
    "duration": 4,
    "start_time": "2022-01-30T19:44:41.056Z"
   },
   {
    "duration": 26,
    "start_time": "2022-01-30T19:44:41.062Z"
   },
   {
    "duration": 4,
    "start_time": "2022-01-30T19:44:41.090Z"
   },
   {
    "duration": 23,
    "start_time": "2022-01-30T19:44:41.095Z"
   },
   {
    "duration": 9,
    "start_time": "2022-01-30T19:44:41.119Z"
   },
   {
    "duration": 10,
    "start_time": "2022-01-30T19:44:41.129Z"
   },
   {
    "duration": 20,
    "start_time": "2022-01-30T19:44:41.141Z"
   },
   {
    "duration": 13,
    "start_time": "2022-01-30T19:44:41.163Z"
   },
   {
    "duration": 5,
    "start_time": "2022-01-30T19:44:41.177Z"
   },
   {
    "duration": 11,
    "start_time": "2022-01-30T19:44:41.184Z"
   },
   {
    "duration": 33,
    "start_time": "2022-01-30T19:44:41.198Z"
   },
   {
    "duration": 185,
    "start_time": "2022-01-30T19:44:41.233Z"
   },
   {
    "duration": 127,
    "start_time": "2022-01-30T19:44:41.420Z"
   },
   {
    "duration": 9,
    "start_time": "2022-01-30T19:44:41.549Z"
   },
   {
    "duration": 6,
    "start_time": "2022-01-30T19:44:41.560Z"
   },
   {
    "duration": 191,
    "start_time": "2022-01-30T19:44:41.568Z"
   },
   {
    "duration": 164,
    "start_time": "2022-01-30T19:44:41.761Z"
   },
   {
    "duration": 5,
    "start_time": "2022-01-30T19:44:41.927Z"
   },
   {
    "duration": 7,
    "start_time": "2022-01-30T19:44:41.934Z"
   },
   {
    "duration": 207,
    "start_time": "2022-01-30T19:44:41.943Z"
   },
   {
    "duration": 127,
    "start_time": "2022-01-30T19:44:42.152Z"
   },
   {
    "duration": 8,
    "start_time": "2022-01-30T19:44:42.281Z"
   },
   {
    "duration": 5,
    "start_time": "2022-01-30T19:44:42.290Z"
   },
   {
    "duration": 30,
    "start_time": "2022-01-30T19:44:42.297Z"
   },
   {
    "duration": 4,
    "start_time": "2022-01-30T19:44:42.329Z"
   },
   {
    "duration": 160,
    "start_time": "2022-01-30T19:44:42.335Z"
   },
   {
    "duration": 8,
    "start_time": "2022-01-30T19:44:42.496Z"
   },
   {
    "duration": 161,
    "start_time": "2022-01-30T19:44:42.505Z"
   },
   {
    "duration": 139,
    "start_time": "2022-01-30T19:44:42.667Z"
   },
   {
    "duration": 20,
    "start_time": "2022-01-30T19:44:42.808Z"
   },
   {
    "duration": 21,
    "start_time": "2022-01-30T19:44:42.829Z"
   },
   {
    "duration": 338,
    "start_time": "2022-01-30T19:44:42.851Z"
   },
   {
    "duration": 19,
    "start_time": "2022-01-30T19:44:43.190Z"
   },
   {
    "duration": 151,
    "start_time": "2022-01-30T19:44:43.210Z"
   },
   {
    "duration": 86,
    "start_time": "2022-01-30T19:44:43.362Z"
   },
   {
    "duration": 218,
    "start_time": "2022-01-30T19:44:43.449Z"
   },
   {
    "duration": 225,
    "start_time": "2022-01-30T19:44:43.668Z"
   },
   {
    "duration": 212,
    "start_time": "2022-01-30T19:44:43.895Z"
   },
   {
    "duration": 8,
    "start_time": "2022-01-30T19:44:44.109Z"
   },
   {
    "duration": 265,
    "start_time": "2022-01-30T19:44:44.127Z"
   },
   {
    "duration": 111,
    "start_time": "2022-01-30T19:46:09.187Z"
   },
   {
    "duration": 87,
    "start_time": "2022-01-30T19:46:25.078Z"
   },
   {
    "duration": 3,
    "start_time": "2022-01-30T20:07:48.188Z"
   },
   {
    "duration": 85,
    "start_time": "2022-02-01T15:32:47.316Z"
   },
   {
    "duration": 751,
    "start_time": "2022-02-01T15:33:34.380Z"
   },
   {
    "duration": 81,
    "start_time": "2022-02-01T15:33:38.001Z"
   },
   {
    "duration": 48,
    "start_time": "2022-02-01T15:33:41.326Z"
   },
   {
    "duration": 5,
    "start_time": "2022-02-01T15:33:50.315Z"
   },
   {
    "duration": 8,
    "start_time": "2022-02-01T15:33:52.490Z"
   },
   {
    "duration": 4,
    "start_time": "2022-02-01T15:33:55.594Z"
   },
   {
    "duration": 85,
    "start_time": "2022-02-01T15:39:53.843Z"
   },
   {
    "duration": 757,
    "start_time": "2022-02-01T15:44:53.030Z"
   },
   {
    "duration": 79,
    "start_time": "2022-02-01T15:44:53.789Z"
   },
   {
    "duration": 45,
    "start_time": "2022-02-01T15:44:53.870Z"
   },
   {
    "duration": 4,
    "start_time": "2022-02-01T15:44:53.918Z"
   },
   {
    "duration": 13,
    "start_time": "2022-02-01T15:44:53.924Z"
   },
   {
    "duration": 9,
    "start_time": "2022-02-01T15:44:53.939Z"
   },
   {
    "duration": 38,
    "start_time": "2022-02-01T15:44:53.949Z"
   },
   {
    "duration": 31,
    "start_time": "2022-02-01T15:44:53.990Z"
   },
   {
    "duration": 3,
    "start_time": "2022-02-01T15:44:54.023Z"
   },
   {
    "duration": 8,
    "start_time": "2022-02-01T15:44:54.028Z"
   },
   {
    "duration": 13,
    "start_time": "2022-02-01T15:44:54.038Z"
   },
   {
    "duration": 12,
    "start_time": "2022-02-01T15:44:54.053Z"
   },
   {
    "duration": 18,
    "start_time": "2022-02-01T15:44:54.067Z"
   },
   {
    "duration": 23,
    "start_time": "2022-02-01T15:44:54.087Z"
   },
   {
    "duration": 41,
    "start_time": "2022-02-01T15:44:54.112Z"
   },
   {
    "duration": 11,
    "start_time": "2022-02-01T15:44:54.155Z"
   },
   {
    "duration": 16,
    "start_time": "2022-02-01T15:44:54.167Z"
   },
   {
    "duration": 31,
    "start_time": "2022-02-01T15:44:54.185Z"
   },
   {
    "duration": 13,
    "start_time": "2022-02-01T15:44:54.219Z"
   },
   {
    "duration": 34,
    "start_time": "2022-02-01T15:44:54.234Z"
   },
   {
    "duration": 20,
    "start_time": "2022-02-01T15:44:54.270Z"
   },
   {
    "duration": 7,
    "start_time": "2022-02-01T15:44:54.308Z"
   },
   {
    "duration": 10,
    "start_time": "2022-02-01T15:44:54.319Z"
   },
   {
    "duration": 8,
    "start_time": "2022-02-01T15:44:56.711Z"
   },
   {
    "duration": 21,
    "start_time": "2022-02-01T15:44:57.456Z"
   },
   {
    "duration": 8,
    "start_time": "2022-02-01T15:46:44.997Z"
   },
   {
    "duration": 8,
    "start_time": "2022-02-01T15:47:16.150Z"
   },
   {
    "duration": 10,
    "start_time": "2022-02-01T15:48:18.239Z"
   },
   {
    "duration": 12,
    "start_time": "2022-02-01T15:48:40.119Z"
   },
   {
    "duration": 17,
    "start_time": "2022-02-01T15:49:26.746Z"
   },
   {
    "duration": 11,
    "start_time": "2022-02-01T15:50:07.378Z"
   },
   {
    "duration": 770,
    "start_time": "2022-02-01T16:25:35.932Z"
   },
   {
    "duration": 128,
    "start_time": "2022-02-01T16:25:36.707Z"
   },
   {
    "duration": 49,
    "start_time": "2022-02-01T16:25:36.839Z"
   },
   {
    "duration": 5,
    "start_time": "2022-02-01T16:25:36.891Z"
   },
   {
    "duration": 14,
    "start_time": "2022-02-01T16:25:36.899Z"
   },
   {
    "duration": 13,
    "start_time": "2022-02-01T16:25:36.915Z"
   },
   {
    "duration": 37,
    "start_time": "2022-02-01T16:25:36.930Z"
   },
   {
    "duration": 15,
    "start_time": "2022-02-01T16:25:36.970Z"
   },
   {
    "duration": 4,
    "start_time": "2022-02-01T16:25:36.987Z"
   },
   {
    "duration": 19,
    "start_time": "2022-02-01T16:25:36.993Z"
   },
   {
    "duration": 10,
    "start_time": "2022-02-01T16:25:37.015Z"
   },
   {
    "duration": 13,
    "start_time": "2022-02-01T16:25:37.026Z"
   },
   {
    "duration": 16,
    "start_time": "2022-02-01T16:25:37.042Z"
   },
   {
    "duration": 5,
    "start_time": "2022-02-01T16:25:37.061Z"
   },
   {
    "duration": 40,
    "start_time": "2022-02-01T16:25:37.068Z"
   },
   {
    "duration": 26,
    "start_time": "2022-02-01T16:25:37.110Z"
   },
   {
    "duration": 28,
    "start_time": "2022-02-01T16:25:37.138Z"
   },
   {
    "duration": 11,
    "start_time": "2022-02-01T16:25:37.168Z"
   },
   {
    "duration": 14,
    "start_time": "2022-02-01T16:25:37.182Z"
   },
   {
    "duration": 53,
    "start_time": "2022-02-01T16:25:37.197Z"
   },
   {
    "duration": 20,
    "start_time": "2022-02-01T16:25:37.252Z"
   },
   {
    "duration": 11,
    "start_time": "2022-02-01T16:25:37.273Z"
   },
   {
    "duration": 10,
    "start_time": "2022-02-01T16:25:37.288Z"
   },
   {
    "duration": 18,
    "start_time": "2022-02-01T16:25:37.300Z"
   },
   {
    "duration": 246,
    "start_time": "2022-02-01T16:25:37.321Z"
   },
   {
    "duration": 171,
    "start_time": "2022-02-01T16:25:37.569Z"
   },
   {
    "duration": 15,
    "start_time": "2022-02-01T16:25:37.742Z"
   },
   {
    "duration": 13,
    "start_time": "2022-02-01T16:25:37.759Z"
   },
   {
    "duration": 349,
    "start_time": "2022-02-01T16:25:37.775Z"
   },
   {
    "duration": 296,
    "start_time": "2022-02-01T16:25:38.126Z"
   },
   {
    "duration": 9,
    "start_time": "2022-02-01T16:25:38.425Z"
   },
   {
    "duration": 18,
    "start_time": "2022-02-01T16:25:38.437Z"
   },
   {
    "duration": 377,
    "start_time": "2022-02-01T16:25:38.458Z"
   },
   {
    "duration": 173,
    "start_time": "2022-02-01T16:25:38.837Z"
   },
   {
    "duration": 9,
    "start_time": "2022-02-01T16:25:39.012Z"
   },
   {
    "duration": 8,
    "start_time": "2022-02-01T16:25:39.024Z"
   },
   {
    "duration": 19,
    "start_time": "2022-02-01T16:25:39.034Z"
   },
   {
    "duration": 18,
    "start_time": "2022-02-01T16:25:39.055Z"
   },
   {
    "duration": 232,
    "start_time": "2022-02-01T16:25:39.075Z"
   },
   {
    "duration": 11,
    "start_time": "2022-02-01T16:25:39.309Z"
   },
   {
    "duration": 319,
    "start_time": "2022-02-01T16:25:39.322Z"
   },
   {
    "duration": 271,
    "start_time": "2022-02-01T16:25:39.643Z"
   },
   {
    "duration": 26,
    "start_time": "2022-02-01T16:25:39.917Z"
   },
   {
    "duration": 24,
    "start_time": "2022-02-01T16:25:39.945Z"
   },
   {
    "duration": 471,
    "start_time": "2022-02-01T16:25:39.972Z"
   },
   {
    "duration": 27,
    "start_time": "2022-02-01T16:25:40.446Z"
   },
   {
    "duration": 218,
    "start_time": "2022-02-01T16:25:40.476Z"
   },
   {
    "duration": 117,
    "start_time": "2022-02-01T16:25:40.696Z"
   },
   {
    "duration": 291,
    "start_time": "2022-02-01T16:25:40.816Z"
   },
   {
    "duration": 294,
    "start_time": "2022-02-01T16:25:41.109Z"
   },
   {
    "duration": 263,
    "start_time": "2022-02-01T16:25:41.406Z"
   },
   {
    "duration": 9,
    "start_time": "2022-02-01T16:25:41.671Z"
   },
   {
    "duration": 281,
    "start_time": "2022-02-01T16:25:41.682Z"
   },
   {
    "duration": 10,
    "start_time": "2022-02-01T16:37:44.108Z"
   },
   {
    "duration": 9,
    "start_time": "2022-02-01T16:38:00.843Z"
   },
   {
    "duration": 9,
    "start_time": "2022-02-01T16:38:04.259Z"
   },
   {
    "duration": 35,
    "start_time": "2022-02-01T16:38:08.921Z"
   },
   {
    "duration": 10,
    "start_time": "2022-02-01T16:38:22.429Z"
   },
   {
    "duration": 10,
    "start_time": "2022-02-01T16:38:25.029Z"
   },
   {
    "duration": 18,
    "start_time": "2022-02-01T16:38:30.790Z"
   },
   {
    "duration": 16,
    "start_time": "2022-02-01T16:41:19.552Z"
   },
   {
    "duration": 79,
    "start_time": "2022-02-01T16:41:59.435Z"
   },
   {
    "duration": 21,
    "start_time": "2022-02-01T16:42:02.212Z"
   },
   {
    "duration": 10,
    "start_time": "2022-02-01T16:42:27.982Z"
   },
   {
    "duration": 18,
    "start_time": "2022-02-01T16:42:33.036Z"
   },
   {
    "duration": 180,
    "start_time": "2022-02-01T16:42:40.029Z"
   },
   {
    "duration": 17,
    "start_time": "2022-02-01T16:43:54.301Z"
   },
   {
    "duration": 21,
    "start_time": "2022-02-01T16:44:08.946Z"
   },
   {
    "duration": 30,
    "start_time": "2022-02-01T16:44:38.906Z"
   },
   {
    "duration": 14,
    "start_time": "2022-02-01T16:44:59.177Z"
   },
   {
    "duration": 708,
    "start_time": "2022-02-01T16:45:26.344Z"
   },
   {
    "duration": 86,
    "start_time": "2022-02-01T16:45:27.054Z"
   },
   {
    "duration": 45,
    "start_time": "2022-02-01T16:45:27.142Z"
   },
   {
    "duration": 5,
    "start_time": "2022-02-01T16:45:27.189Z"
   },
   {
    "duration": 10,
    "start_time": "2022-02-01T16:45:27.195Z"
   },
   {
    "duration": 7,
    "start_time": "2022-02-01T16:45:27.207Z"
   },
   {
    "duration": 35,
    "start_time": "2022-02-01T16:45:27.215Z"
   },
   {
    "duration": 16,
    "start_time": "2022-02-01T16:45:27.253Z"
   },
   {
    "duration": 5,
    "start_time": "2022-02-01T16:45:27.272Z"
   },
   {
    "duration": 35,
    "start_time": "2022-02-01T16:45:27.279Z"
   },
   {
    "duration": 13,
    "start_time": "2022-02-01T16:45:27.317Z"
   },
   {
    "duration": 12,
    "start_time": "2022-02-01T16:45:27.332Z"
   },
   {
    "duration": 16,
    "start_time": "2022-02-01T16:45:27.346Z"
   },
   {
    "duration": 5,
    "start_time": "2022-02-01T16:45:27.364Z"
   },
   {
    "duration": 82,
    "start_time": "2022-02-01T16:45:27.371Z"
   },
   {
    "duration": 7,
    "start_time": "2022-02-01T16:45:27.455Z"
   },
   {
    "duration": 14,
    "start_time": "2022-02-01T16:45:27.464Z"
   },
   {
    "duration": 29,
    "start_time": "2022-02-01T16:45:27.480Z"
   },
   {
    "duration": 17,
    "start_time": "2022-02-01T16:45:27.511Z"
   },
   {
    "duration": 29,
    "start_time": "2022-02-01T16:45:27.530Z"
   },
   {
    "duration": 18,
    "start_time": "2022-02-01T16:45:27.561Z"
   },
   {
    "duration": 26,
    "start_time": "2022-02-01T16:45:32.668Z"
   },
   {
    "duration": 16,
    "start_time": "2022-02-01T16:45:53.307Z"
   },
   {
    "duration": 24,
    "start_time": "2022-02-01T16:46:16.311Z"
   },
   {
    "duration": 90,
    "start_time": "2022-02-01T16:46:24.676Z"
   },
   {
    "duration": 67,
    "start_time": "2022-02-01T16:48:12.004Z"
   },
   {
    "duration": 71,
    "start_time": "2022-02-01T16:48:33.404Z"
   },
   {
    "duration": 105,
    "start_time": "2022-02-01T16:53:44.814Z"
   },
   {
    "duration": 42,
    "start_time": "2022-02-01T16:56:10.822Z"
   },
   {
    "duration": 32,
    "start_time": "2022-02-01T16:56:42.949Z"
   },
   {
    "duration": 23,
    "start_time": "2022-02-01T16:57:08.219Z"
   },
   {
    "duration": 27,
    "start_time": "2022-02-01T16:57:14.413Z"
   },
   {
    "duration": 21,
    "start_time": "2022-02-01T16:59:10.021Z"
   },
   {
    "duration": 20,
    "start_time": "2022-02-01T16:59:17.261Z"
   },
   {
    "duration": 22,
    "start_time": "2022-02-01T16:59:30.990Z"
   },
   {
    "duration": 700,
    "start_time": "2022-02-01T16:59:38.094Z"
   },
   {
    "duration": 83,
    "start_time": "2022-02-01T16:59:38.796Z"
   },
   {
    "duration": 47,
    "start_time": "2022-02-01T16:59:38.882Z"
   },
   {
    "duration": 5,
    "start_time": "2022-02-01T16:59:38.931Z"
   },
   {
    "duration": 12,
    "start_time": "2022-02-01T16:59:38.938Z"
   },
   {
    "duration": 9,
    "start_time": "2022-02-01T16:59:38.952Z"
   },
   {
    "duration": 34,
    "start_time": "2022-02-01T16:59:38.964Z"
   },
   {
    "duration": 16,
    "start_time": "2022-02-01T16:59:39.008Z"
   },
   {
    "duration": 4,
    "start_time": "2022-02-01T16:59:39.027Z"
   },
   {
    "duration": 8,
    "start_time": "2022-02-01T16:59:39.033Z"
   },
   {
    "duration": 6,
    "start_time": "2022-02-01T16:59:39.043Z"
   },
   {
    "duration": 7,
    "start_time": "2022-02-01T16:59:39.051Z"
   },
   {
    "duration": 47,
    "start_time": "2022-02-01T16:59:39.060Z"
   },
   {
    "duration": 4,
    "start_time": "2022-02-01T16:59:39.110Z"
   },
   {
    "duration": 34,
    "start_time": "2022-02-01T16:59:39.115Z"
   },
   {
    "duration": 7,
    "start_time": "2022-02-01T16:59:39.151Z"
   },
   {
    "duration": 14,
    "start_time": "2022-02-01T16:59:39.160Z"
   },
   {
    "duration": 36,
    "start_time": "2022-02-01T16:59:39.176Z"
   },
   {
    "duration": 10,
    "start_time": "2022-02-01T16:59:39.215Z"
   },
   {
    "duration": 29,
    "start_time": "2022-02-01T16:59:39.227Z"
   },
   {
    "duration": 19,
    "start_time": "2022-02-01T16:59:39.258Z"
   },
   {
    "duration": 95,
    "start_time": "2022-02-01T16:59:44.074Z"
   },
   {
    "duration": 35,
    "start_time": "2022-02-01T16:59:54.733Z"
   },
   {
    "duration": 730,
    "start_time": "2022-02-01T17:00:46.489Z"
   },
   {
    "duration": 82,
    "start_time": "2022-02-01T17:00:47.222Z"
   },
   {
    "duration": 45,
    "start_time": "2022-02-01T17:00:47.306Z"
   },
   {
    "duration": 4,
    "start_time": "2022-02-01T17:00:47.353Z"
   },
   {
    "duration": 10,
    "start_time": "2022-02-01T17:00:47.359Z"
   },
   {
    "duration": 9,
    "start_time": "2022-02-01T17:00:47.371Z"
   },
   {
    "duration": 38,
    "start_time": "2022-02-01T17:00:47.382Z"
   },
   {
    "duration": 15,
    "start_time": "2022-02-01T17:00:47.423Z"
   },
   {
    "duration": 4,
    "start_time": "2022-02-01T17:00:47.440Z"
   },
   {
    "duration": 10,
    "start_time": "2022-02-01T17:00:47.446Z"
   },
   {
    "duration": 8,
    "start_time": "2022-02-01T17:00:47.458Z"
   },
   {
    "duration": 12,
    "start_time": "2022-02-01T17:00:47.468Z"
   },
   {
    "duration": 29,
    "start_time": "2022-02-01T17:00:47.481Z"
   },
   {
    "duration": 14,
    "start_time": "2022-02-01T17:00:47.512Z"
   },
   {
    "duration": 36,
    "start_time": "2022-02-01T17:00:47.528Z"
   },
   {
    "duration": 10,
    "start_time": "2022-02-01T17:00:47.566Z"
   },
   {
    "duration": 31,
    "start_time": "2022-02-01T17:00:47.578Z"
   },
   {
    "duration": 11,
    "start_time": "2022-02-01T17:00:47.611Z"
   },
   {
    "duration": 11,
    "start_time": "2022-02-01T17:00:47.624Z"
   },
   {
    "duration": 42,
    "start_time": "2022-02-01T17:00:47.637Z"
   },
   {
    "duration": 40,
    "start_time": "2022-02-01T17:00:47.681Z"
   },
   {
    "duration": 80,
    "start_time": "2022-02-01T17:00:49.200Z"
   },
   {
    "duration": 82,
    "start_time": "2022-02-01T17:00:54.648Z"
   },
   {
    "duration": 108,
    "start_time": "2022-02-01T17:01:21.201Z"
   },
   {
    "duration": 86,
    "start_time": "2022-02-01T17:02:23.231Z"
   },
   {
    "duration": 65,
    "start_time": "2022-02-01T17:04:46.039Z"
   },
   {
    "duration": 73,
    "start_time": "2022-02-01T17:05:02.275Z"
   },
   {
    "duration": 18,
    "start_time": "2022-02-01T17:05:17.403Z"
   },
   {
    "duration": 387,
    "start_time": "2022-02-01T17:06:43.447Z"
   },
   {
    "duration": 232,
    "start_time": "2022-02-01T17:10:08.223Z"
   },
   {
    "duration": 238,
    "start_time": "2022-02-01T17:10:35.209Z"
   },
   {
    "duration": 215,
    "start_time": "2022-02-01T17:10:42.235Z"
   },
   {
    "duration": 223,
    "start_time": "2022-02-01T17:10:54.592Z"
   },
   {
    "duration": 680,
    "start_time": "2022-02-01T17:11:56.967Z"
   },
   {
    "duration": 85,
    "start_time": "2022-02-01T17:11:57.649Z"
   },
   {
    "duration": 46,
    "start_time": "2022-02-01T17:11:57.738Z"
   },
   {
    "duration": 5,
    "start_time": "2022-02-01T17:11:57.787Z"
   },
   {
    "duration": 10,
    "start_time": "2022-02-01T17:11:57.793Z"
   },
   {
    "duration": 6,
    "start_time": "2022-02-01T17:11:57.805Z"
   },
   {
    "duration": 34,
    "start_time": "2022-02-01T17:11:57.813Z"
   },
   {
    "duration": 15,
    "start_time": "2022-02-01T17:11:57.849Z"
   },
   {
    "duration": 3,
    "start_time": "2022-02-01T17:11:57.867Z"
   },
   {
    "duration": 13,
    "start_time": "2022-02-01T17:11:57.872Z"
   },
   {
    "duration": 7,
    "start_time": "2022-02-01T17:11:57.907Z"
   },
   {
    "duration": 19,
    "start_time": "2022-02-01T17:11:57.916Z"
   },
   {
    "duration": 17,
    "start_time": "2022-02-01T17:11:57.937Z"
   },
   {
    "duration": 11,
    "start_time": "2022-02-01T17:11:57.956Z"
   },
   {
    "duration": 44,
    "start_time": "2022-02-01T17:11:57.969Z"
   },
   {
    "duration": 13,
    "start_time": "2022-02-01T17:11:58.015Z"
   },
   {
    "duration": 20,
    "start_time": "2022-02-01T17:11:58.029Z"
   },
   {
    "duration": 11,
    "start_time": "2022-02-01T17:11:58.051Z"
   },
   {
    "duration": 21,
    "start_time": "2022-02-01T17:11:58.064Z"
   },
   {
    "duration": 40,
    "start_time": "2022-02-01T17:11:58.087Z"
   },
   {
    "duration": 17,
    "start_time": "2022-02-01T17:11:58.129Z"
   },
   {
    "duration": 20,
    "start_time": "2022-02-01T17:11:58.148Z"
   },
   {
    "duration": 280,
    "start_time": "2022-02-01T17:12:04.624Z"
   },
   {
    "duration": 259,
    "start_time": "2022-02-01T17:12:33.420Z"
   },
   {
    "duration": 315,
    "start_time": "2022-02-01T17:13:14.315Z"
   },
   {
    "duration": 340,
    "start_time": "2022-02-01T17:13:24.744Z"
   },
   {
    "duration": 267,
    "start_time": "2022-02-01T17:13:36.884Z"
   },
   {
    "duration": 40,
    "start_time": "2022-02-01T17:14:30.512Z"
   },
   {
    "duration": 237,
    "start_time": "2022-02-01T17:15:24.694Z"
   },
   {
    "duration": 713,
    "start_time": "2022-02-01T17:15:32.614Z"
   },
   {
    "duration": 83,
    "start_time": "2022-02-01T17:15:33.329Z"
   },
   {
    "duration": 44,
    "start_time": "2022-02-01T17:15:33.414Z"
   },
   {
    "duration": 27,
    "start_time": "2022-02-01T17:15:33.460Z"
   },
   {
    "duration": 13,
    "start_time": "2022-02-01T17:15:33.489Z"
   },
   {
    "duration": 10,
    "start_time": "2022-02-01T17:15:33.504Z"
   },
   {
    "duration": 40,
    "start_time": "2022-02-01T17:15:33.516Z"
   },
   {
    "duration": 15,
    "start_time": "2022-02-01T17:15:33.559Z"
   },
   {
    "duration": 4,
    "start_time": "2022-02-01T17:15:33.576Z"
   },
   {
    "duration": 28,
    "start_time": "2022-02-01T17:15:33.582Z"
   },
   {
    "duration": 6,
    "start_time": "2022-02-01T17:15:33.612Z"
   },
   {
    "duration": 12,
    "start_time": "2022-02-01T17:15:33.620Z"
   },
   {
    "duration": 13,
    "start_time": "2022-02-01T17:15:33.634Z"
   },
   {
    "duration": 10,
    "start_time": "2022-02-01T17:15:33.649Z"
   },
   {
    "duration": 51,
    "start_time": "2022-02-01T17:15:33.661Z"
   },
   {
    "duration": 17,
    "start_time": "2022-02-01T17:15:33.714Z"
   },
   {
    "duration": 19,
    "start_time": "2022-02-01T17:15:33.733Z"
   },
   {
    "duration": 12,
    "start_time": "2022-02-01T17:15:33.754Z"
   },
   {
    "duration": 22,
    "start_time": "2022-02-01T17:15:33.768Z"
   },
   {
    "duration": 37,
    "start_time": "2022-02-01T17:15:33.793Z"
   },
   {
    "duration": 18,
    "start_time": "2022-02-01T17:15:33.832Z"
   },
   {
    "duration": 19,
    "start_time": "2022-02-01T17:15:33.852Z"
   },
   {
    "duration": 41,
    "start_time": "2022-02-01T17:15:36.143Z"
   },
   {
    "duration": 76,
    "start_time": "2022-02-01T17:16:02.448Z"
   },
   {
    "duration": 88,
    "start_time": "2022-02-01T17:16:07.481Z"
   },
   {
    "duration": 117,
    "start_time": "2022-02-01T17:16:41.737Z"
   },
   {
    "duration": 18,
    "start_time": "2022-02-01T17:18:28.860Z"
   },
   {
    "duration": 6690,
    "start_time": "2022-02-01T17:20:06.102Z"
   },
   {
    "duration": 23,
    "start_time": "2022-02-01T17:20:53.057Z"
   },
   {
    "duration": 30,
    "start_time": "2022-02-01T17:20:58.817Z"
   },
   {
    "duration": 233,
    "start_time": "2022-02-01T17:21:23.465Z"
   },
   {
    "duration": 27,
    "start_time": "2022-02-01T17:22:07.250Z"
   },
   {
    "duration": 24,
    "start_time": "2022-02-01T17:22:26.737Z"
   },
   {
    "duration": 14,
    "start_time": "2022-02-01T17:22:36.529Z"
   },
   {
    "duration": 15,
    "start_time": "2022-02-01T17:22:41.778Z"
   },
   {
    "duration": 22,
    "start_time": "2022-02-01T17:22:57.039Z"
   },
   {
    "duration": 15,
    "start_time": "2022-02-01T17:23:03.533Z"
   },
   {
    "duration": 14,
    "start_time": "2022-02-01T17:23:06.160Z"
   },
   {
    "duration": 21,
    "start_time": "2022-02-01T17:23:09.023Z"
   },
   {
    "duration": 34,
    "start_time": "2022-02-01T17:23:27.434Z"
   },
   {
    "duration": 59,
    "start_time": "2022-02-01T17:24:19.800Z"
   },
   {
    "duration": 22,
    "start_time": "2022-02-01T17:24:31.045Z"
   },
   {
    "duration": 22,
    "start_time": "2022-02-01T17:24:40.199Z"
   },
   {
    "duration": 27,
    "start_time": "2022-02-01T17:24:57.914Z"
   },
   {
    "duration": 11,
    "start_time": "2022-02-01T17:25:44.361Z"
   },
   {
    "duration": 17,
    "start_time": "2022-02-01T17:25:51.293Z"
   },
   {
    "duration": 30,
    "start_time": "2022-02-01T17:26:35.833Z"
   },
   {
    "duration": 714,
    "start_time": "2022-02-01T17:32:40.393Z"
   },
   {
    "duration": 85,
    "start_time": "2022-02-01T17:32:41.109Z"
   },
   {
    "duration": 46,
    "start_time": "2022-02-01T17:32:41.196Z"
   },
   {
    "duration": 5,
    "start_time": "2022-02-01T17:32:41.244Z"
   },
   {
    "duration": 9,
    "start_time": "2022-02-01T17:32:41.251Z"
   },
   {
    "duration": 9,
    "start_time": "2022-02-01T17:32:41.262Z"
   },
   {
    "duration": 38,
    "start_time": "2022-02-01T17:32:41.273Z"
   },
   {
    "duration": 14,
    "start_time": "2022-02-01T17:32:41.314Z"
   },
   {
    "duration": 7,
    "start_time": "2022-02-01T17:32:41.330Z"
   },
   {
    "duration": 21,
    "start_time": "2022-02-01T17:32:41.339Z"
   },
   {
    "duration": 5,
    "start_time": "2022-02-01T17:32:41.363Z"
   },
   {
    "duration": 8,
    "start_time": "2022-02-01T17:32:41.370Z"
   },
   {
    "duration": 29,
    "start_time": "2022-02-01T17:32:41.380Z"
   },
   {
    "duration": 11,
    "start_time": "2022-02-01T17:32:41.411Z"
   },
   {
    "duration": 36,
    "start_time": "2022-02-01T17:32:41.424Z"
   },
   {
    "duration": 10,
    "start_time": "2022-02-01T17:32:41.462Z"
   },
   {
    "duration": 15,
    "start_time": "2022-02-01T17:32:41.474Z"
   },
   {
    "duration": 12,
    "start_time": "2022-02-01T17:32:41.507Z"
   },
   {
    "duration": 11,
    "start_time": "2022-02-01T17:32:41.521Z"
   },
   {
    "duration": 29,
    "start_time": "2022-02-01T17:32:41.533Z"
   },
   {
    "duration": 45,
    "start_time": "2022-02-01T17:32:41.564Z"
   },
   {
    "duration": 699,
    "start_time": "2022-02-01T17:32:49.297Z"
   },
   {
    "duration": 88,
    "start_time": "2022-02-01T17:32:49.999Z"
   },
   {
    "duration": 47,
    "start_time": "2022-02-01T17:32:50.089Z"
   },
   {
    "duration": 5,
    "start_time": "2022-02-01T17:32:50.138Z"
   },
   {
    "duration": 13,
    "start_time": "2022-02-01T17:32:50.144Z"
   },
   {
    "duration": 22,
    "start_time": "2022-02-01T17:32:50.160Z"
   },
   {
    "duration": 35,
    "start_time": "2022-02-01T17:32:50.184Z"
   },
   {
    "duration": 16,
    "start_time": "2022-02-01T17:32:50.222Z"
   },
   {
    "duration": 4,
    "start_time": "2022-02-01T17:32:50.241Z"
   },
   {
    "duration": 11,
    "start_time": "2022-02-01T17:32:50.247Z"
   },
   {
    "duration": 7,
    "start_time": "2022-02-01T17:32:50.260Z"
   },
   {
    "duration": 9,
    "start_time": "2022-02-01T17:32:50.269Z"
   },
   {
    "duration": 37,
    "start_time": "2022-02-01T17:32:50.279Z"
   },
   {
    "duration": 8,
    "start_time": "2022-02-01T17:32:50.318Z"
   },
   {
    "duration": 34,
    "start_time": "2022-02-01T17:32:50.328Z"
   },
   {
    "duration": 10,
    "start_time": "2022-02-01T17:32:50.365Z"
   },
   {
    "duration": 32,
    "start_time": "2022-02-01T17:32:50.377Z"
   },
   {
    "duration": 10,
    "start_time": "2022-02-01T17:32:50.412Z"
   },
   {
    "duration": 33,
    "start_time": "2022-02-01T17:32:50.424Z"
   },
   {
    "duration": 75,
    "start_time": "2022-02-01T17:32:50.459Z"
   },
   {
    "duration": 19,
    "start_time": "2022-02-01T17:32:50.536Z"
   },
   {
    "duration": 16,
    "start_time": "2022-02-01T17:32:50.557Z"
   },
   {
    "duration": 8,
    "start_time": "2022-02-01T17:32:50.578Z"
   },
   {
    "duration": 26,
    "start_time": "2022-02-01T17:32:50.589Z"
   },
   {
    "duration": 245,
    "start_time": "2022-02-01T17:32:50.617Z"
   },
   {
    "duration": 163,
    "start_time": "2022-02-01T17:32:50.864Z"
   },
   {
    "duration": 12,
    "start_time": "2022-02-01T17:32:51.029Z"
   },
   {
    "duration": 10,
    "start_time": "2022-02-01T17:32:51.043Z"
   },
   {
    "duration": 270,
    "start_time": "2022-02-01T17:32:51.054Z"
   },
   {
    "duration": 228,
    "start_time": "2022-02-01T17:32:51.326Z"
   },
   {
    "duration": 6,
    "start_time": "2022-02-01T17:32:51.556Z"
   },
   {
    "duration": 12,
    "start_time": "2022-02-01T17:32:51.564Z"
   },
   {
    "duration": 289,
    "start_time": "2022-02-01T17:32:51.578Z"
   },
   {
    "duration": 170,
    "start_time": "2022-02-01T17:32:51.869Z"
   },
   {
    "duration": 8,
    "start_time": "2022-02-01T17:32:52.041Z"
   },
   {
    "duration": 8,
    "start_time": "2022-02-01T17:32:52.051Z"
   },
   {
    "duration": 20,
    "start_time": "2022-02-01T17:32:52.060Z"
   },
   {
    "duration": 26,
    "start_time": "2022-02-01T17:32:52.082Z"
   },
   {
    "duration": 202,
    "start_time": "2022-02-01T17:32:52.110Z"
   },
   {
    "duration": 11,
    "start_time": "2022-02-01T17:32:52.314Z"
   },
   {
    "duration": 221,
    "start_time": "2022-02-01T17:32:52.328Z"
   },
   {
    "duration": 192,
    "start_time": "2022-02-01T17:32:52.551Z"
   },
   {
    "duration": 21,
    "start_time": "2022-02-01T17:32:52.746Z"
   },
   {
    "duration": 66,
    "start_time": "2022-02-01T17:32:52.769Z"
   },
   {
    "duration": 395,
    "start_time": "2022-02-01T17:32:52.836Z"
   },
   {
    "duration": 26,
    "start_time": "2022-02-01T17:32:53.233Z"
   },
   {
    "duration": 198,
    "start_time": "2022-02-01T17:32:53.261Z"
   },
   {
    "duration": 115,
    "start_time": "2022-02-01T17:32:53.461Z"
   },
   {
    "duration": 276,
    "start_time": "2022-02-01T17:32:53.579Z"
   },
   {
    "duration": 280,
    "start_time": "2022-02-01T17:32:53.858Z"
   },
   {
    "duration": 267,
    "start_time": "2022-02-01T17:32:54.140Z"
   },
   {
    "duration": 9,
    "start_time": "2022-02-01T17:32:54.409Z"
   },
   {
    "duration": 271,
    "start_time": "2022-02-01T17:32:54.420Z"
   },
   {
    "duration": 72,
    "start_time": "2022-02-01T17:45:19.491Z"
   },
   {
    "duration": 74,
    "start_time": "2022-02-01T17:45:29.936Z"
   },
   {
    "duration": 11,
    "start_time": "2022-02-01T17:45:34.512Z"
   },
   {
    "duration": 69,
    "start_time": "2022-02-01T17:46:35.181Z"
   },
   {
    "duration": 11,
    "start_time": "2022-02-01T17:46:58.904Z"
   },
   {
    "duration": 12,
    "start_time": "2022-02-01T17:48:06.139Z"
   },
   {
    "duration": 11,
    "start_time": "2022-02-01T17:48:56.828Z"
   },
   {
    "duration": 7,
    "start_time": "2022-02-01T17:51:40.132Z"
   },
   {
    "duration": 11,
    "start_time": "2022-02-01T17:51:52.237Z"
   },
   {
    "duration": 11,
    "start_time": "2022-02-01T17:55:05.734Z"
   },
   {
    "duration": 12,
    "start_time": "2022-02-01T17:55:30.728Z"
   },
   {
    "duration": 11,
    "start_time": "2022-02-01T17:55:39.619Z"
   },
   {
    "duration": 12,
    "start_time": "2022-02-01T17:55:57.117Z"
   },
   {
    "duration": 14,
    "start_time": "2022-02-01T18:00:14.290Z"
   },
   {
    "duration": 21,
    "start_time": "2022-02-01T18:01:37.130Z"
   },
   {
    "duration": 22,
    "start_time": "2022-02-01T18:02:31.178Z"
   },
   {
    "duration": 12,
    "start_time": "2022-02-01T19:13:18.304Z"
   },
   {
    "duration": 16,
    "start_time": "2022-02-01T19:44:42.499Z"
   },
   {
    "duration": 80,
    "start_time": "2022-02-01T19:45:31.288Z"
   },
   {
    "duration": 14,
    "start_time": "2022-02-01T19:46:33.992Z"
   },
   {
    "duration": 15,
    "start_time": "2022-02-01T19:46:44.255Z"
   },
   {
    "duration": 14,
    "start_time": "2022-02-01T19:47:24.294Z"
   },
   {
    "duration": 23,
    "start_time": "2022-02-01T19:47:40.824Z"
   },
   {
    "duration": 335,
    "start_time": "2022-02-02T07:57:03.474Z"
   },
   {
    "duration": 854,
    "start_time": "2022-02-02T07:57:14.235Z"
   },
   {
    "duration": 95,
    "start_time": "2022-02-02T07:57:15.092Z"
   },
   {
    "duration": 46,
    "start_time": "2022-02-02T07:57:15.190Z"
   },
   {
    "duration": 5,
    "start_time": "2022-02-02T07:57:15.239Z"
   },
   {
    "duration": 13,
    "start_time": "2022-02-02T07:57:15.246Z"
   },
   {
    "duration": 7,
    "start_time": "2022-02-02T07:57:15.262Z"
   },
   {
    "duration": 45,
    "start_time": "2022-02-02T07:57:15.272Z"
   },
   {
    "duration": 37,
    "start_time": "2022-02-02T07:57:15.321Z"
   },
   {
    "duration": 6,
    "start_time": "2022-02-02T07:57:15.361Z"
   },
   {
    "duration": 16,
    "start_time": "2022-02-02T07:57:15.369Z"
   },
   {
    "duration": 11,
    "start_time": "2022-02-02T07:57:15.387Z"
   },
   {
    "duration": 13,
    "start_time": "2022-02-02T07:57:15.400Z"
   },
   {
    "duration": 42,
    "start_time": "2022-02-02T07:57:15.415Z"
   },
   {
    "duration": 6,
    "start_time": "2022-02-02T07:57:15.460Z"
   },
   {
    "duration": 47,
    "start_time": "2022-02-02T07:57:15.469Z"
   },
   {
    "duration": 30,
    "start_time": "2022-02-02T07:57:15.519Z"
   },
   {
    "duration": 15,
    "start_time": "2022-02-02T07:57:15.552Z"
   },
   {
    "duration": 13,
    "start_time": "2022-02-02T07:57:15.569Z"
   },
   {
    "duration": 14,
    "start_time": "2022-02-02T07:57:15.584Z"
   },
   {
    "duration": 65,
    "start_time": "2022-02-02T07:57:15.601Z"
   },
   {
    "duration": 17,
    "start_time": "2022-02-02T07:57:15.668Z"
   },
   {
    "duration": 31,
    "start_time": "2022-02-02T07:57:15.688Z"
   },
   {
    "duration": 24,
    "start_time": "2022-02-02T07:57:15.751Z"
   },
   {
    "duration": 19,
    "start_time": "2022-02-02T07:57:15.778Z"
   },
   {
    "duration": 53,
    "start_time": "2022-02-02T07:57:15.800Z"
   },
   {
    "duration": 26,
    "start_time": "2022-02-02T07:57:15.856Z"
   },
   {
    "duration": 7,
    "start_time": "2022-02-02T07:57:19.405Z"
   },
   {
    "duration": 14,
    "start_time": "2022-02-02T07:57:20.143Z"
   },
   {
    "duration": 17,
    "start_time": "2022-02-02T08:04:26.141Z"
   },
   {
    "duration": 11,
    "start_time": "2022-02-02T08:07:32.007Z"
   },
   {
    "duration": 23,
    "start_time": "2022-02-02T08:08:11.818Z"
   },
   {
    "duration": 7,
    "start_time": "2022-02-02T08:09:17.864Z"
   },
   {
    "duration": 9,
    "start_time": "2022-02-02T08:09:36.778Z"
   },
   {
    "duration": 9,
    "start_time": "2022-02-02T08:09:55.097Z"
   },
   {
    "duration": 15,
    "start_time": "2022-02-02T08:10:12.346Z"
   },
   {
    "duration": 109,
    "start_time": "2022-02-02T09:13:40.932Z"
   },
   {
    "duration": 80,
    "start_time": "2022-02-02T09:14:07.181Z"
   },
   {
    "duration": 8,
    "start_time": "2022-02-02T09:14:30.231Z"
   },
   {
    "duration": 12,
    "start_time": "2022-02-02T09:15:21.597Z"
   },
   {
    "duration": 9,
    "start_time": "2022-02-02T09:21:17.165Z"
   },
   {
    "duration": 311,
    "start_time": "2022-02-02T09:21:39.036Z"
   },
   {
    "duration": 8,
    "start_time": "2022-02-02T09:21:44.826Z"
   },
   {
    "duration": 7,
    "start_time": "2022-02-02T09:21:59.557Z"
   },
   {
    "duration": 9,
    "start_time": "2022-02-02T09:22:14.445Z"
   },
   {
    "duration": 7,
    "start_time": "2022-02-02T09:22:35.309Z"
   },
   {
    "duration": 11,
    "start_time": "2022-02-02T09:22:48.074Z"
   },
   {
    "duration": 1084,
    "start_time": "2022-02-02T09:30:13.024Z"
   },
   {
    "duration": 118,
    "start_time": "2022-02-02T09:30:14.111Z"
   },
   {
    "duration": 49,
    "start_time": "2022-02-02T09:30:14.232Z"
   },
   {
    "duration": 7,
    "start_time": "2022-02-02T09:30:14.283Z"
   },
   {
    "duration": 23,
    "start_time": "2022-02-02T09:30:14.292Z"
   },
   {
    "duration": 7,
    "start_time": "2022-02-02T09:30:14.318Z"
   },
   {
    "duration": 58,
    "start_time": "2022-02-02T09:30:14.328Z"
   },
   {
    "duration": 18,
    "start_time": "2022-02-02T09:30:14.390Z"
   },
   {
    "duration": 7,
    "start_time": "2022-02-02T09:30:14.412Z"
   },
   {
    "duration": 10,
    "start_time": "2022-02-02T09:30:14.450Z"
   },
   {
    "duration": 12,
    "start_time": "2022-02-02T09:30:14.462Z"
   },
   {
    "duration": 11,
    "start_time": "2022-02-02T09:30:14.479Z"
   },
   {
    "duration": 20,
    "start_time": "2022-02-02T09:30:14.493Z"
   },
   {
    "duration": 41,
    "start_time": "2022-02-02T09:30:14.516Z"
   },
   {
    "duration": 50,
    "start_time": "2022-02-02T09:30:14.559Z"
   },
   {
    "duration": 12,
    "start_time": "2022-02-02T09:30:14.612Z"
   },
   {
    "duration": 32,
    "start_time": "2022-02-02T09:30:14.627Z"
   },
   {
    "duration": 15,
    "start_time": "2022-02-02T09:30:14.663Z"
   },
   {
    "duration": 13,
    "start_time": "2022-02-02T09:30:14.680Z"
   },
   {
    "duration": 79,
    "start_time": "2022-02-02T09:30:14.695Z"
   },
   {
    "duration": 17,
    "start_time": "2022-02-02T09:30:14.776Z"
   },
   {
    "duration": 59,
    "start_time": "2022-02-02T09:30:14.796Z"
   },
   {
    "duration": 24,
    "start_time": "2022-02-02T09:30:14.858Z"
   },
   {
    "duration": 19,
    "start_time": "2022-02-02T09:30:14.886Z"
   },
   {
    "duration": 55,
    "start_time": "2022-02-02T09:30:14.907Z"
   },
   {
    "duration": 26,
    "start_time": "2022-02-02T09:30:14.969Z"
   },
   {
    "duration": 24,
    "start_time": "2022-02-02T09:30:14.999Z"
   },
   {
    "duration": 42,
    "start_time": "2022-02-02T09:30:15.026Z"
   },
   {
    "duration": 11,
    "start_time": "2022-02-02T09:30:15.072Z"
   },
   {
    "duration": 23,
    "start_time": "2022-02-02T09:30:15.086Z"
   },
   {
    "duration": 8,
    "start_time": "2022-02-02T09:30:15.111Z"
   },
   {
    "duration": 7,
    "start_time": "2022-02-02T09:30:15.150Z"
   },
   {
    "duration": 7,
    "start_time": "2022-02-02T09:30:15.159Z"
   },
   {
    "duration": 14,
    "start_time": "2022-02-02T09:30:15.168Z"
   },
   {
    "duration": 11,
    "start_time": "2022-02-02T09:30:15.184Z"
   },
   {
    "duration": 59,
    "start_time": "2022-02-02T09:30:15.198Z"
   },
   {
    "duration": 335,
    "start_time": "2022-02-02T09:30:15.259Z"
   },
   {
    "duration": 277,
    "start_time": "2022-02-02T09:30:15.597Z"
   },
   {
    "duration": 19,
    "start_time": "2022-02-02T09:30:15.877Z"
   },
   {
    "duration": 15,
    "start_time": "2022-02-02T09:30:15.899Z"
   },
   {
    "duration": 507,
    "start_time": "2022-02-02T09:30:15.948Z"
   },
   {
    "duration": 403,
    "start_time": "2022-02-02T09:30:16.459Z"
   },
   {
    "duration": 18,
    "start_time": "2022-02-02T09:30:16.865Z"
   },
   {
    "duration": 18,
    "start_time": "2022-02-02T09:30:16.885Z"
   },
   {
    "duration": 402,
    "start_time": "2022-02-02T09:30:16.906Z"
   },
   {
    "duration": 245,
    "start_time": "2022-02-02T09:30:17.310Z"
   },
   {
    "duration": 15,
    "start_time": "2022-02-02T09:30:17.558Z"
   },
   {
    "duration": 8,
    "start_time": "2022-02-02T09:30:17.576Z"
   },
   {
    "duration": 25,
    "start_time": "2022-02-02T09:30:17.587Z"
   },
   {
    "duration": 38,
    "start_time": "2022-02-02T09:30:17.614Z"
   },
   {
    "duration": 298,
    "start_time": "2022-02-02T09:30:17.655Z"
   },
   {
    "duration": 14,
    "start_time": "2022-02-02T09:30:17.956Z"
   },
   {
    "duration": 361,
    "start_time": "2022-02-02T09:30:17.973Z"
   },
   {
    "duration": 311,
    "start_time": "2022-02-02T09:30:18.337Z"
   },
   {
    "duration": 39,
    "start_time": "2022-02-02T09:30:18.651Z"
   },
   {
    "duration": 55,
    "start_time": "2022-02-02T09:30:18.693Z"
   },
   {
    "duration": 638,
    "start_time": "2022-02-02T09:30:18.751Z"
   },
   {
    "duration": 56,
    "start_time": "2022-02-02T09:30:19.392Z"
   },
   {
    "duration": 313,
    "start_time": "2022-02-02T09:30:19.452Z"
   },
   {
    "duration": 158,
    "start_time": "2022-02-02T09:30:19.767Z"
   },
   {
    "duration": 412,
    "start_time": "2022-02-02T09:30:19.927Z"
   },
   {
    "duration": 409,
    "start_time": "2022-02-02T09:30:20.349Z"
   },
   {
    "duration": 352,
    "start_time": "2022-02-02T09:30:20.762Z"
   },
   {
    "duration": 10,
    "start_time": "2022-02-02T09:30:21.117Z"
   },
   {
    "duration": 484,
    "start_time": "2022-02-02T09:30:21.129Z"
   },
   {
    "duration": 48,
    "start_time": "2022-02-02T09:31:55.775Z"
   },
   {
    "duration": 1336,
    "start_time": "2022-02-02T09:32:09.329Z"
   },
   {
    "duration": 98,
    "start_time": "2022-02-02T09:32:10.668Z"
   },
   {
    "duration": 50,
    "start_time": "2022-02-02T09:32:10.769Z"
   },
   {
    "duration": 7,
    "start_time": "2022-02-02T09:32:10.822Z"
   },
   {
    "duration": 15,
    "start_time": "2022-02-02T09:32:10.831Z"
   },
   {
    "duration": 9,
    "start_time": "2022-02-02T09:32:10.848Z"
   },
   {
    "duration": 46,
    "start_time": "2022-02-02T09:32:10.860Z"
   },
   {
    "duration": 41,
    "start_time": "2022-02-02T09:32:10.910Z"
   },
   {
    "duration": 6,
    "start_time": "2022-02-02T09:32:10.954Z"
   },
   {
    "duration": 10,
    "start_time": "2022-02-02T09:32:10.962Z"
   },
   {
    "duration": 9,
    "start_time": "2022-02-02T09:32:10.975Z"
   },
   {
    "duration": 13,
    "start_time": "2022-02-02T09:32:10.987Z"
   },
   {
    "duration": 51,
    "start_time": "2022-02-02T09:32:11.002Z"
   },
   {
    "duration": 9,
    "start_time": "2022-02-02T09:32:11.056Z"
   },
   {
    "duration": 57,
    "start_time": "2022-02-02T09:32:11.067Z"
   },
   {
    "duration": 34,
    "start_time": "2022-02-02T09:32:11.127Z"
   },
   {
    "duration": 17,
    "start_time": "2022-02-02T09:32:11.164Z"
   },
   {
    "duration": 17,
    "start_time": "2022-02-02T09:32:11.184Z"
   },
   {
    "duration": 43,
    "start_time": "2022-02-02T09:32:11.205Z"
   },
   {
    "duration": 54,
    "start_time": "2022-02-02T09:32:11.251Z"
   },
   {
    "duration": 22,
    "start_time": "2022-02-02T09:32:11.308Z"
   },
   {
    "duration": 34,
    "start_time": "2022-02-02T09:32:11.333Z"
   },
   {
    "duration": 33,
    "start_time": "2022-02-02T09:32:11.377Z"
   },
   {
    "duration": 48,
    "start_time": "2022-02-02T09:32:11.414Z"
   },
   {
    "duration": 42,
    "start_time": "2022-02-02T09:32:11.465Z"
   },
   {
    "duration": 43,
    "start_time": "2022-02-02T09:32:11.510Z"
   },
   {
    "duration": 15,
    "start_time": "2022-02-02T09:32:11.555Z"
   },
   {
    "duration": 11,
    "start_time": "2022-02-02T09:32:11.573Z"
   },
   {
    "duration": 31,
    "start_time": "2022-02-02T09:32:11.587Z"
   },
   {
    "duration": 30,
    "start_time": "2022-02-02T09:32:11.621Z"
   },
   {
    "duration": 9,
    "start_time": "2022-02-02T09:32:11.654Z"
   },
   {
    "duration": 11,
    "start_time": "2022-02-02T09:32:11.666Z"
   },
   {
    "duration": 8,
    "start_time": "2022-02-02T09:32:11.680Z"
   },
   {
    "duration": 13,
    "start_time": "2022-02-02T09:32:11.691Z"
   },
   {
    "duration": 13,
    "start_time": "2022-02-02T09:32:11.748Z"
   },
   {
    "duration": 13,
    "start_time": "2022-02-02T09:32:11.765Z"
   },
   {
    "duration": 436,
    "start_time": "2022-02-02T09:32:11.781Z"
   },
   {
    "duration": 304,
    "start_time": "2022-02-02T09:32:12.220Z"
   },
   {
    "duration": 26,
    "start_time": "2022-02-02T09:32:12.526Z"
   },
   {
    "duration": 10,
    "start_time": "2022-02-02T09:32:12.554Z"
   },
   {
    "duration": 350,
    "start_time": "2022-02-02T09:32:12.567Z"
   },
   {
    "duration": 301,
    "start_time": "2022-02-02T09:32:12.920Z"
   },
   {
    "duration": 23,
    "start_time": "2022-02-02T09:32:13.226Z"
   },
   {
    "duration": 12,
    "start_time": "2022-02-02T09:32:13.252Z"
   },
   {
    "duration": 681,
    "start_time": "2022-02-02T09:32:13.268Z"
   },
   {
    "duration": 605,
    "start_time": "2022-02-02T09:32:13.951Z"
   },
   {
    "duration": 14,
    "start_time": "2022-02-02T09:32:14.558Z"
   },
   {
    "duration": 7,
    "start_time": "2022-02-02T09:32:14.575Z"
   },
   {
    "duration": 24,
    "start_time": "2022-02-02T09:32:14.585Z"
   },
   {
    "duration": 37,
    "start_time": "2022-02-02T09:32:14.612Z"
   },
   {
    "duration": 357,
    "start_time": "2022-02-02T09:32:14.651Z"
   },
   {
    "duration": 13,
    "start_time": "2022-02-02T09:32:15.012Z"
   },
   {
    "duration": 309,
    "start_time": "2022-02-02T09:32:15.027Z"
   },
   {
    "duration": 254,
    "start_time": "2022-02-02T09:32:15.339Z"
   },
   {
    "duration": 30,
    "start_time": "2022-02-02T09:32:15.595Z"
   },
   {
    "duration": 26,
    "start_time": "2022-02-02T09:32:15.648Z"
   },
   {
    "duration": 852,
    "start_time": "2022-02-02T09:32:15.677Z"
   },
   {
    "duration": 43,
    "start_time": "2022-02-02T09:32:16.532Z"
   },
   {
    "duration": 329,
    "start_time": "2022-02-02T09:32:16.577Z"
   },
   {
    "duration": 164,
    "start_time": "2022-02-02T09:32:16.910Z"
   },
   {
    "duration": 436,
    "start_time": "2022-02-02T09:32:17.077Z"
   },
   {
    "duration": 416,
    "start_time": "2022-02-02T09:32:17.516Z"
   },
   {
    "duration": 369,
    "start_time": "2022-02-02T09:32:17.935Z"
   },
   {
    "duration": 10,
    "start_time": "2022-02-02T09:32:18.306Z"
   },
   {
    "duration": 398,
    "start_time": "2022-02-02T09:32:18.319Z"
   },
   {
    "duration": 14,
    "start_time": "2022-02-02T09:35:40.546Z"
   },
   {
    "duration": 25,
    "start_time": "2022-02-02T09:36:54.543Z"
   },
   {
    "duration": 27,
    "start_time": "2022-02-02T09:38:47.124Z"
   },
   {
    "duration": 11,
    "start_time": "2022-02-02T09:46:30.000Z"
   },
   {
    "duration": 12,
    "start_time": "2022-02-02T09:46:51.853Z"
   },
   {
    "duration": 13,
    "start_time": "2022-02-02T09:47:03.033Z"
   },
   {
    "duration": 292,
    "start_time": "2022-02-02T09:49:18.239Z"
   },
   {
    "duration": 328,
    "start_time": "2022-02-02T09:49:29.924Z"
   },
   {
    "duration": 910,
    "start_time": "2022-02-02T09:57:52.838Z"
   },
   {
    "duration": 104,
    "start_time": "2022-02-02T09:57:53.751Z"
   },
   {
    "duration": 47,
    "start_time": "2022-02-02T09:57:53.859Z"
   },
   {
    "duration": 6,
    "start_time": "2022-02-02T09:57:53.909Z"
   },
   {
    "duration": 20,
    "start_time": "2022-02-02T09:57:53.918Z"
   },
   {
    "duration": 9,
    "start_time": "2022-02-02T09:57:53.941Z"
   },
   {
    "duration": 63,
    "start_time": "2022-02-02T09:57:53.953Z"
   },
   {
    "duration": 43,
    "start_time": "2022-02-02T09:57:54.021Z"
   },
   {
    "duration": 6,
    "start_time": "2022-02-02T09:57:54.069Z"
   },
   {
    "duration": 12,
    "start_time": "2022-02-02T09:57:54.078Z"
   },
   {
    "duration": 7,
    "start_time": "2022-02-02T09:57:54.093Z"
   },
   {
    "duration": 47,
    "start_time": "2022-02-02T09:57:54.103Z"
   },
   {
    "duration": 14,
    "start_time": "2022-02-02T09:57:54.153Z"
   },
   {
    "duration": 15,
    "start_time": "2022-02-02T09:57:54.170Z"
   },
   {
    "duration": 66,
    "start_time": "2022-02-02T09:57:54.188Z"
   },
   {
    "duration": 13,
    "start_time": "2022-02-02T09:57:54.257Z"
   },
   {
    "duration": 29,
    "start_time": "2022-02-02T09:57:54.273Z"
   },
   {
    "duration": 19,
    "start_time": "2022-02-02T09:57:54.305Z"
   },
   {
    "duration": 18,
    "start_time": "2022-02-02T09:57:54.350Z"
   },
   {
    "duration": 53,
    "start_time": "2022-02-02T09:57:54.371Z"
   },
   {
    "duration": 24,
    "start_time": "2022-02-02T09:57:54.448Z"
   },
   {
    "duration": 43,
    "start_time": "2022-02-02T09:57:54.475Z"
   },
   {
    "duration": 34,
    "start_time": "2022-02-02T09:57:54.549Z"
   },
   {
    "duration": 18,
    "start_time": "2022-02-02T09:57:54.588Z"
   },
   {
    "duration": 59,
    "start_time": "2022-02-02T09:57:54.609Z"
   },
   {
    "duration": 22,
    "start_time": "2022-02-02T09:57:54.670Z"
   },
   {
    "duration": 12,
    "start_time": "2022-02-02T09:57:54.696Z"
   },
   {
    "duration": 49,
    "start_time": "2022-02-02T09:57:54.711Z"
   },
   {
    "duration": 13,
    "start_time": "2022-02-02T09:57:54.763Z"
   },
   {
    "duration": 19,
    "start_time": "2022-02-02T09:57:54.779Z"
   },
   {
    "duration": 6,
    "start_time": "2022-02-02T09:57:54.801Z"
   },
   {
    "duration": 8,
    "start_time": "2022-02-02T09:57:54.849Z"
   },
   {
    "duration": 7,
    "start_time": "2022-02-02T09:57:54.859Z"
   },
   {
    "duration": 9,
    "start_time": "2022-02-02T09:57:54.869Z"
   },
   {
    "duration": 13,
    "start_time": "2022-02-02T09:57:54.880Z"
   },
   {
    "duration": 20,
    "start_time": "2022-02-02T09:57:54.955Z"
   },
   {
    "duration": 485,
    "start_time": "2022-02-02T09:57:54.977Z"
   },
   {
    "duration": 285,
    "start_time": "2022-02-02T09:57:55.465Z"
   },
   {
    "duration": 17,
    "start_time": "2022-02-02T09:57:55.754Z"
   },
   {
    "duration": 22,
    "start_time": "2022-02-02T09:57:55.774Z"
   },
   {
    "duration": 520,
    "start_time": "2022-02-02T09:57:55.800Z"
   },
   {
    "duration": 379,
    "start_time": "2022-02-02T09:57:56.322Z"
   },
   {
    "duration": 14,
    "start_time": "2022-02-02T09:57:56.704Z"
   },
   {
    "duration": 38,
    "start_time": "2022-02-02T09:57:56.720Z"
   },
   {
    "duration": 566,
    "start_time": "2022-02-02T09:57:56.761Z"
   },
   {
    "duration": 243,
    "start_time": "2022-02-02T09:57:57.330Z"
   },
   {
    "duration": 16,
    "start_time": "2022-02-02T09:57:57.576Z"
   },
   {
    "duration": 10,
    "start_time": "2022-02-02T09:57:57.594Z"
   },
   {
    "duration": 55,
    "start_time": "2022-02-02T09:57:57.607Z"
   },
   {
    "duration": 24,
    "start_time": "2022-02-02T09:57:57.666Z"
   },
   {
    "duration": 44,
    "start_time": "2022-02-02T09:57:57.693Z"
   },
   {
    "duration": 317,
    "start_time": "2022-02-02T09:57:57.740Z"
   },
   {
    "duration": 13,
    "start_time": "2022-02-02T09:57:58.060Z"
   },
   {
    "duration": 333,
    "start_time": "2022-02-02T09:57:58.076Z"
   },
   {
    "duration": 402,
    "start_time": "2022-02-02T09:57:58.413Z"
   },
   {
    "duration": 45,
    "start_time": "2022-02-02T09:57:58.819Z"
   },
   {
    "duration": 27,
    "start_time": "2022-02-02T09:57:58.866Z"
   },
   {
    "duration": 689,
    "start_time": "2022-02-02T09:57:58.896Z"
   },
   {
    "duration": 32,
    "start_time": "2022-02-02T09:57:59.588Z"
   },
   {
    "duration": 314,
    "start_time": "2022-02-02T09:57:59.623Z"
   },
   {
    "duration": 199,
    "start_time": "2022-02-02T09:57:59.940Z"
   },
   {
    "duration": 452,
    "start_time": "2022-02-02T09:58:00.142Z"
   },
   {
    "duration": 468,
    "start_time": "2022-02-02T09:58:00.597Z"
   },
   {
    "duration": 463,
    "start_time": "2022-02-02T09:58:01.069Z"
   },
   {
    "duration": 17,
    "start_time": "2022-02-02T09:58:01.535Z"
   },
   {
    "duration": 408,
    "start_time": "2022-02-02T09:58:01.556Z"
   },
   {
    "duration": 14,
    "start_time": "2022-02-02T09:58:01.967Z"
   },
   {
    "duration": 436,
    "start_time": "2022-02-02T09:58:01.989Z"
   }
  ],
  "colab": {
   "name": "DA+. Сборный проект 1. Шаблон (1).ipynb",
   "provenance": []
  },
  "kernelspec": {
   "display_name": "Python 3 (ipykernel)",
   "language": "python",
   "name": "python3"
  },
  "language_info": {
   "codemirror_mode": {
    "name": "ipython",
    "version": 3
   },
   "file_extension": ".py",
   "mimetype": "text/x-python",
   "name": "python",
   "nbconvert_exporter": "python",
   "pygments_lexer": "ipython3",
   "version": "3.9.5"
  },
  "toc": {
   "base_numbering": 1,
   "nav_menu": {},
   "number_sections": true,
   "sideBar": true,
   "skip_h1_title": true,
   "title_cell": "Table of Contents",
   "title_sidebar": "Contents",
   "toc_cell": false,
   "toc_position": {
    "height": "calc(100% - 180px)",
    "left": "10px",
    "top": "150px",
    "width": "375.384px"
   },
   "toc_section_display": true,
   "toc_window_display": true
  }
 },
 "nbformat": 4,
 "nbformat_minor": 1
}
